{
 "cells": [
  {
   "cell_type": "code",
   "execution_count": 5,
   "id": "7caf4262",
   "metadata": {},
   "outputs": [],
   "source": [
    "import pandas as pd\n",
    "import itertools\n",
    "from sklearn.model_selection import KFold, cross_val_score\n",
    "from sklearn.ensemble import RandomForestRegressor\n",
    "import optuna"
   ]
  },
  {
   "cell_type": "code",
   "execution_count": 6,
   "id": "757a53df",
   "metadata": {},
   "outputs": [
    {
     "name": "stderr",
     "output_type": "stream",
     "text": [
      "[I 2025-07-18 11:27:31,142] A new study created in memory with name: no-name-79ba9b7c-b97b-4c4b-b813-25c8b450edde\n",
      "[I 2025-07-18 11:27:38,118] Trial 0 finished with value: 0.8503671648288644 and parameters: {'n_estimators': 949, 'max_depth': 7, 'min_samples_split': 3, 'min_samples_leaf': 5, 'max_features': 'log2'}. Best is trial 0 with value: 0.8503671648288644.\n",
      "[I 2025-07-18 11:27:41,406] Trial 1 finished with value: 0.8885880551873019 and parameters: {'n_estimators': 435, 'max_depth': 12, 'min_samples_split': 8, 'min_samples_leaf': 3, 'max_features': None}. Best is trial 1 with value: 0.8885880551873019.\n",
      "[I 2025-07-18 11:27:46,418] Trial 2 finished with value: 0.8948488584857026 and parameters: {'n_estimators': 684, 'max_depth': 19, 'min_samples_split': 7, 'min_samples_leaf': 2, 'max_features': None}. Best is trial 2 with value: 0.8948488584857026.\n",
      "[I 2025-07-18 11:27:50,810] Trial 3 finished with value: 0.8889665231137063 and parameters: {'n_estimators': 583, 'max_depth': 16, 'min_samples_split': 8, 'min_samples_leaf': 3, 'max_features': None}. Best is trial 2 with value: 0.8948488584857026.\n",
      "[I 2025-07-18 11:27:55,683] Trial 4 finished with value: 0.8745475565093297 and parameters: {'n_estimators': 638, 'max_depth': 10, 'min_samples_split': 2, 'min_samples_leaf': 4, 'max_features': 'log2'}. Best is trial 2 with value: 0.8948488584857026.\n",
      "[I 2025-07-18 11:28:01,889] Trial 5 finished with value: 0.8569625038098938 and parameters: {'n_estimators': 790, 'max_depth': 10, 'min_samples_split': 8, 'min_samples_leaf': 3, 'max_features': 'sqrt'}. Best is trial 2 with value: 0.8948488584857026.\n",
      "[I 2025-07-18 11:28:07,522] Trial 6 finished with value: 0.6636545299055909 and parameters: {'n_estimators': 705, 'max_depth': 3, 'min_samples_split': 3, 'min_samples_leaf': 2, 'max_features': 'log2'}. Best is trial 2 with value: 0.8948488584857026.\n",
      "[I 2025-07-18 11:28:12,868] Trial 7 finished with value: 0.8873335334805915 and parameters: {'n_estimators': 698, 'max_depth': 20, 'min_samples_split': 5, 'min_samples_leaf': 1, 'max_features': 'sqrt'}. Best is trial 2 with value: 0.8948488584857026.\n",
      "[I 2025-07-18 11:28:15,902] Trial 8 finished with value: 0.8916748128083318 and parameters: {'n_estimators': 388, 'max_depth': 16, 'min_samples_split': 3, 'min_samples_leaf': 3, 'max_features': None}. Best is trial 2 with value: 0.8948488584857026.\n",
      "[I 2025-07-18 11:28:18,326] Trial 9 finished with value: 0.902218300570137 and parameters: {'n_estimators': 288, 'max_depth': 10, 'min_samples_split': 2, 'min_samples_leaf': 1, 'max_features': None}. Best is trial 9 with value: 0.902218300570137.\n",
      "[I 2025-07-18 11:28:19,552] Trial 10 finished with value: 0.8285625347492418 and parameters: {'n_estimators': 132, 'max_depth': 5, 'min_samples_split': 10, 'min_samples_leaf': 1, 'max_features': None}. Best is trial 9 with value: 0.902218300570137.\n",
      "[I 2025-07-18 11:28:21,261] Trial 11 finished with value: 0.8965152869575818 and parameters: {'n_estimators': 198, 'max_depth': 14, 'min_samples_split': 6, 'min_samples_leaf': 2, 'max_features': None}. Best is trial 9 with value: 0.902218300570137.\n",
      "[I 2025-07-18 11:28:22,442] Trial 12 finished with value: 0.9017303449357484 and parameters: {'n_estimators': 125, 'max_depth': 13, 'min_samples_split': 5, 'min_samples_leaf': 1, 'max_features': None}. Best is trial 9 with value: 0.902218300570137.\n",
      "[I 2025-07-18 11:28:24,988] Trial 13 finished with value: 0.8907224629945819 and parameters: {'n_estimators': 317, 'max_depth': 8, 'min_samples_split': 5, 'min_samples_leaf': 1, 'max_features': None}. Best is trial 9 with value: 0.902218300570137.\n",
      "[I 2025-07-18 11:28:27,177] Trial 14 finished with value: 0.9037787897092295 and parameters: {'n_estimators': 272, 'max_depth': 13, 'min_samples_split': 4, 'min_samples_leaf': 1, 'max_features': None}. Best is trial 14 with value: 0.9037787897092295.\n",
      "[I 2025-07-18 11:28:29,767] Trial 15 finished with value: 0.8793677439216042 and parameters: {'n_estimators': 288, 'max_depth': 15, 'min_samples_split': 2, 'min_samples_leaf': 2, 'max_features': 'sqrt'}. Best is trial 14 with value: 0.9037787897092295.\n",
      "[I 2025-07-18 11:28:33,586] Trial 16 finished with value: 0.8973355015347682 and parameters: {'n_estimators': 496, 'max_depth': 9, 'min_samples_split': 4, 'min_samples_leaf': 1, 'max_features': None}. Best is trial 14 with value: 0.9037787897092295.\n",
      "[I 2025-07-18 11:28:35,674] Trial 17 finished with value: 0.8570863392948217 and parameters: {'n_estimators': 259, 'max_depth': 6, 'min_samples_split': 4, 'min_samples_leaf': 4, 'max_features': None}. Best is trial 14 with value: 0.9037787897092295.\n",
      "[I 2025-07-18 11:28:39,255] Trial 18 finished with value: 0.8755414222453414 and parameters: {'n_estimators': 382, 'max_depth': 11, 'min_samples_split': 4, 'min_samples_leaf': 2, 'max_features': 'sqrt'}. Best is trial 14 with value: 0.9037787897092295.\n",
      "[I 2025-07-18 11:28:41,171] Trial 19 finished with value: 0.9083552013548337 and parameters: {'n_estimators': 215, 'max_depth': 18, 'min_samples_split': 2, 'min_samples_leaf': 1, 'max_features': 'log2'}. Best is trial 19 with value: 0.9083552013548337.\n",
      "[I 2025-07-18 11:28:43,084] Trial 20 finished with value: 0.8768515835408136 and parameters: {'n_estimators': 196, 'max_depth': 18, 'min_samples_split': 3, 'min_samples_leaf': 4, 'max_features': 'log2'}. Best is trial 19 with value: 0.9083552013548337.\n",
      "[I 2025-07-18 11:28:44,986] Trial 21 finished with value: 0.9084917065018951 and parameters: {'n_estimators': 216, 'max_depth': 18, 'min_samples_split': 2, 'min_samples_leaf': 1, 'max_features': 'log2'}. Best is trial 21 with value: 0.9084917065018951.\n",
      "[I 2025-07-18 11:28:46,791] Trial 22 finished with value: 0.9086340769236647 and parameters: {'n_estimators': 206, 'max_depth': 17, 'min_samples_split': 2, 'min_samples_leaf': 1, 'max_features': 'log2'}. Best is trial 22 with value: 0.9086340769236647.\n",
      "[I 2025-07-18 11:28:48,068] Trial 23 finished with value: 0.8953294680624658 and parameters: {'n_estimators': 111, 'max_depth': 18, 'min_samples_split': 2, 'min_samples_leaf': 2, 'max_features': 'log2'}. Best is trial 22 with value: 0.9086340769236647.\n",
      "[I 2025-07-18 11:28:49,881] Trial 24 finished with value: 0.908853493702084 and parameters: {'n_estimators': 198, 'max_depth': 17, 'min_samples_split': 2, 'min_samples_leaf': 1, 'max_features': 'log2'}. Best is trial 24 with value: 0.908853493702084.\n",
      "[I 2025-07-18 11:28:53,725] Trial 25 finished with value: 0.8969079883902215 and parameters: {'n_estimators': 485, 'max_depth': 16, 'min_samples_split': 3, 'min_samples_leaf': 2, 'max_features': 'log2'}. Best is trial 24 with value: 0.908853493702084.\n",
      "[I 2025-07-18 11:28:57,103] Trial 26 finished with value: 0.8864610567427645 and parameters: {'n_estimators': 387, 'max_depth': 20, 'min_samples_split': 10, 'min_samples_leaf': 1, 'max_features': 'log2'}. Best is trial 24 with value: 0.908853493702084.\n",
      "[I 2025-07-18 11:29:00,088] Trial 27 finished with value: 0.8970739713891541 and parameters: {'n_estimators': 346, 'max_depth': 17, 'min_samples_split': 2, 'min_samples_leaf': 2, 'max_features': 'log2'}. Best is trial 24 with value: 0.908853493702084.\n",
      "[I 2025-07-18 11:29:01,943] Trial 28 finished with value: 0.8654757157782915 and parameters: {'n_estimators': 177, 'max_depth': 15, 'min_samples_split': 3, 'min_samples_leaf': 5, 'max_features': 'log2'}. Best is trial 24 with value: 0.908853493702084.\n",
      "[I 2025-07-18 11:29:03,871] Trial 29 finished with value: 0.9043802441187166 and parameters: {'n_estimators': 233, 'max_depth': 19, 'min_samples_split': 4, 'min_samples_leaf': 1, 'max_features': 'log2'}. Best is trial 24 with value: 0.908853493702084.\n",
      "[I 2025-07-18 11:29:10,621] Trial 30 finished with value: 0.8675243634327809 and parameters: {'n_estimators': 914, 'max_depth': 17, 'min_samples_split': 2, 'min_samples_leaf': 5, 'max_features': 'log2'}. Best is trial 24 with value: 0.908853493702084.\n",
      "[I 2025-07-18 11:29:12,182] Trial 31 finished with value: 0.9079514730553978 and parameters: {'n_estimators': 178, 'max_depth': 18, 'min_samples_split': 2, 'min_samples_leaf': 1, 'max_features': 'log2'}. Best is trial 24 with value: 0.908853493702084.\n",
      "[I 2025-07-18 11:29:14,182] Trial 32 finished with value: 0.9058001808459334 and parameters: {'n_estimators': 232, 'max_depth': 19, 'min_samples_split': 3, 'min_samples_leaf': 1, 'max_features': 'log2'}. Best is trial 24 with value: 0.908853493702084.\n",
      "[I 2025-07-18 11:29:17,715] Trial 33 finished with value: 0.9086256156945888 and parameters: {'n_estimators': 457, 'max_depth': 17, 'min_samples_split': 2, 'min_samples_leaf': 1, 'max_features': 'log2'}. Best is trial 24 with value: 0.908853493702084.\n",
      "[I 2025-07-18 11:29:21,358] Trial 34 finished with value: 0.8965475415277284 and parameters: {'n_estimators': 456, 'max_depth': 15, 'min_samples_split': 3, 'min_samples_leaf': 2, 'max_features': 'log2'}. Best is trial 24 with value: 0.908853493702084.\n",
      "[I 2025-07-18 11:29:25,481] Trial 35 finished with value: 0.8894105087350391 and parameters: {'n_estimators': 557, 'max_depth': 17, 'min_samples_split': 9, 'min_samples_leaf': 1, 'max_features': 'log2'}. Best is trial 24 with value: 0.908853493702084.\n",
      "[I 2025-07-18 11:29:28,236] Trial 36 finished with value: 0.8914042304480571 and parameters: {'n_estimators': 345, 'max_depth': 14, 'min_samples_split': 6, 'min_samples_leaf': 2, 'max_features': 'log2'}. Best is trial 24 with value: 0.908853493702084.\n",
      "[I 2025-07-18 11:29:31,775] Trial 37 finished with value: 0.9081177392203719 and parameters: {'n_estimators': 424, 'max_depth': 20, 'min_samples_split': 2, 'min_samples_leaf': 1, 'max_features': 'log2'}. Best is trial 24 with value: 0.908853493702084.\n",
      "[I 2025-07-18 11:29:39,094] Trial 38 finished with value: 0.8842494741054436 and parameters: {'n_estimators': 1000, 'max_depth': 12, 'min_samples_split': 7, 'min_samples_leaf': 3, 'max_features': 'log2'}. Best is trial 24 with value: 0.908853493702084.\n",
      "[I 2025-07-18 11:29:43,663] Trial 39 finished with value: 0.8800984467135902 and parameters: {'n_estimators': 628, 'max_depth': 16, 'min_samples_split': 3, 'min_samples_leaf': 2, 'max_features': 'sqrt'}. Best is trial 24 with value: 0.908853493702084.\n",
      "[I 2025-07-18 11:29:49,650] Trial 40 finished with value: 0.9085613449545307 and parameters: {'n_estimators': 826, 'max_depth': 17, 'min_samples_split': 2, 'min_samples_leaf': 1, 'max_features': 'log2'}. Best is trial 24 with value: 0.908853493702084.\n",
      "[I 2025-07-18 11:29:55,394] Trial 41 finished with value: 0.9083482317731182 and parameters: {'n_estimators': 786, 'max_depth': 17, 'min_samples_split': 2, 'min_samples_leaf': 1, 'max_features': 'log2'}. Best is trial 24 with value: 0.908853493702084.\n",
      "[I 2025-07-18 11:30:01,142] Trial 42 finished with value: 0.908191071698419 and parameters: {'n_estimators': 782, 'max_depth': 19, 'min_samples_split': 2, 'min_samples_leaf': 1, 'max_features': 'log2'}. Best is trial 24 with value: 0.908853493702084.\n",
      "[I 2025-07-18 11:30:07,445] Trial 43 finished with value: 0.9061267070917118 and parameters: {'n_estimators': 863, 'max_depth': 14, 'min_samples_split': 3, 'min_samples_leaf': 1, 'max_features': 'log2'}. Best is trial 24 with value: 0.908853493702084.\n",
      "[I 2025-07-18 11:30:08,829] Trial 44 finished with value: 0.9076367857737321 and parameters: {'n_estimators': 155, 'max_depth': 16, 'min_samples_split': 2, 'min_samples_leaf': 1, 'max_features': 'log2'}. Best is trial 24 with value: 0.908853493702084.\n",
      "[I 2025-07-18 11:30:13,245] Trial 45 finished with value: 0.9063043907082216 and parameters: {'n_estimators': 599, 'max_depth': 17, 'min_samples_split': 3, 'min_samples_leaf': 1, 'max_features': 'log2'}. Best is trial 24 with value: 0.908853493702084.\n",
      "[I 2025-07-18 11:30:18,152] Trial 46 finished with value: 0.896900388709682 and parameters: {'n_estimators': 669, 'max_depth': 19, 'min_samples_split': 2, 'min_samples_leaf': 2, 'max_features': 'log2'}. Best is trial 24 with value: 0.908853493702084.\n",
      "[I 2025-07-18 11:30:23,946] Trial 47 finished with value: 0.8652420300248291 and parameters: {'n_estimators': 756, 'max_depth': 15, 'min_samples_split': 3, 'min_samples_leaf': 3, 'max_features': 'sqrt'}. Best is trial 24 with value: 0.908853493702084.\n",
      "[I 2025-07-18 11:30:24,970] Trial 48 finished with value: 0.8937528601755161 and parameters: {'n_estimators': 101, 'max_depth': 13, 'min_samples_split': 7, 'min_samples_leaf': 1, 'max_features': 'log2'}. Best is trial 24 with value: 0.908853493702084.\n",
      "[I 2025-07-18 11:30:31,155] Trial 49 finished with value: 0.904676074079527 and parameters: {'n_estimators': 837, 'max_depth': 18, 'min_samples_split': 4, 'min_samples_leaf': 1, 'max_features': 'log2'}. Best is trial 24 with value: 0.908853493702084.\n"
     ]
    },
    {
     "name": "stdout",
     "output_type": "stream",
     "text": [
      "\n",
      "✅ 8개 feature 전체 조합 결과:\n",
      "📌 Feature 조합: ('cement', 'blast furnace slag', 'fly ash', 'water ', 'superplasticizer', 'coarse aggregate', 'fine aggregate', 'age')\n",
      "📈 최적 R²: 0.9089\n",
      "⚙️ 최적 하이퍼파라미터: {'n_estimators': 198, 'max_depth': 17, 'min_samples_split': 2, 'min_samples_leaf': 1, 'max_features': 'log2'}\n"
     ]
    }
   ],
   "source": [
    "def optuna_tune_randomforest(X, y, n_trials=50):\n",
    "    def objective(trial):\n",
    "        params = {\n",
    "            'n_estimators': trial.suggest_int('n_estimators', 100, 1000),\n",
    "            'max_depth': trial.suggest_int('max_depth', 3, 20),\n",
    "            'min_samples_split': trial.suggest_int('min_samples_split', 2, 10),\n",
    "            'min_samples_leaf': trial.suggest_int('min_samples_leaf', 1, 5),\n",
    "            'max_features': trial.suggest_categorical('max_features', ['sqrt', 'log2', None]),\n",
    "            'random_state': 42,\n",
    "            'n_jobs': -1\n",
    "        }\n",
    "\n",
    "        model = RandomForestRegressor(**params)\n",
    "        kf = KFold(n_splits=5, shuffle=True, random_state=42)\n",
    "        scores = cross_val_score(model, X, y, cv=kf, scoring='r2')\n",
    "        return scores.mean()\n",
    "\n",
    "    study = optuna.create_study(direction='maximize')\n",
    "    study.optimize(objective, n_trials=n_trials)\n",
    "    return study.best_trial.value, study.best_trial.params\n",
    "\n",
    "# 📦 데이터 불러오기\n",
    "df = pd.read_csv('dataset.csv')\n",
    "X = df[['cement', 'blast furnace slag', 'fly ash', 'water ', 'superplasticizer', 'coarse aggregate', 'fine aggregate', 'age']]\n",
    "y = df['CCS']\n",
    "\n",
    "# 🏁 8개 전체 feature 조합 튜닝 실행\n",
    "best_r2, best_params = optuna_tune_randomforest(X, y, n_trials=50)\n",
    "\n",
    "# ✅ 결과 출력\n",
    "print(f\"\\n✅ 8개 feature 전체 조합 결과:\")\n",
    "print(f\"📌 Feature 조합: {tuple(X.columns)}\")\n",
    "print(f\"📈 최적 R²: {best_r2:.4f}\")\n",
    "print(f\"⚙️ 최적 하이퍼파라미터: {best_params}\")"
   ]
  },
  {
   "cell_type": "code",
   "execution_count": null,
   "id": "fe649430",
   "metadata": {},
   "outputs": [],
   "source": []
  }
 ],
 "metadata": {
  "kernelspec": {
   "display_name": "Python 3",
   "language": "python",
   "name": "python3"
  },
  "language_info": {
   "codemirror_mode": {
    "name": "ipython",
    "version": 3
   },
   "file_extension": ".py",
   "mimetype": "text/x-python",
   "name": "python",
   "nbconvert_exporter": "python",
   "pygments_lexer": "ipython3",
   "version": "3.10.8"
  }
 },
 "nbformat": 4,
 "nbformat_minor": 5
}
