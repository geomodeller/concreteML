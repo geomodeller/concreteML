{
 "cells": [
  {
   "cell_type": "markdown",
   "id": "17468f1e",
   "metadata": {},
   "source": []
  },
  {
   "cell_type": "code",
   "execution_count": 1,
   "id": "df149d14",
   "metadata": {},
   "outputs": [],
   "source": [
    "import pandas as pd\n",
    "import numpy as np\n",
    "from catboost import CatBoostRegressor\n",
    "from sklearn.model_selection import train_test_split\n",
    "import numpy as np\n",
    "import matplotlib.pyplot as plt\n",
    "\n"
   ]
  },
  {
   "cell_type": "code",
   "execution_count": 2,
   "id": "692e4087",
   "metadata": {},
   "outputs": [],
   "source": [
    "df = pd.read_csv(\"dataset.csv\")\n"
   ]
  },
  {
   "cell_type": "code",
   "execution_count": 3,
   "id": "771f03b1",
   "metadata": {},
   "outputs": [],
   "source": [
    "# features(X) / target(y) 분리\n",
    "X = df.iloc[:, :-1]\n",
    "y = df.iloc[:, -1]\n"
   ]
  },
  {
   "cell_type": "code",
   "execution_count": 4,
   "id": "a547ae40",
   "metadata": {},
   "outputs": [],
   "source": [
    "#  training/test 분할\n",
    "X_train, X_test, y_train, y_test = train_test_split(\n",
    "    X, y, test_size=0.2, random_state=42\n",
    ")\n"
   ]
  },
  {
   "cell_type": "code",
   "execution_count": 5,
   "id": "11432183",
   "metadata": {},
   "outputs": [],
   "source": [
    "#  CatBoost ensemble uncertainty 함수 정의\n",
    "def catboost_ensemble_uncertainty(\n",
    "    X_train, y_train, X_test,\n",
    "    seeds=[0,1,2,3,4],\n",
    "    init_params=None,\n",
    "    fit_params=None\n",
    "):\n",
    "    init_params = init_params or {}\n",
    "    fit_params  = fit_params  or {}\n",
    "\n",
    "    all_preds = []\n",
    "    for seed in seeds:\n",
    "        model = CatBoostRegressor(\n",
    "            random_seed=seed,\n",
    "            **init_params\n",
    "        )\n",
    "        model.fit(\n",
    "            X_train, y_train,\n",
    "            **fit_params\n",
    "        )\n",
    "        preds = model.predict(X_test)\n",
    "        all_preds.append(preds)\n",
    "\n",
    "    all_preds = np.stack(all_preds, axis=0)\n",
    "    mean_preds = all_preds.mean(axis=0)\n",
    "    std_preds  = all_preds.std(axis=0)\n",
    "    return mean_preds, std_preds\n"
   ]
  },
  {
   "cell_type": "code",
   "execution_count": 6,
   "id": "e0742aa3",
   "metadata": {},
   "outputs": [],
   "source": [
    "# hyperparameter 및 seed 설정\n",
    "init_params = {\n",
    "    \"iterations\": 500,\n",
    "    \"learning_rate\": 0.1,\n",
    "    \"depth\": 6\n",
    "}\n",
    "fit_params = {\n",
    "    \"verbose\": False\n",
    "}\n",
    "seeds = [0, 1, 2, 3, 4]  # 앙상블 크기 = 5\n"
   ]
  },
  {
   "cell_type": "code",
   "execution_count": 7,
   "id": "8fb12680",
   "metadata": {},
   "outputs": [],
   "source": [
    "\n",
    "#  호출 및 결과 출력\n",
    "mean_cb, std_cb = catboost_ensemble_uncertainty(\n",
    "    X_train, y_train, X_test,\n",
    "    seeds=seeds,\n",
    "    init_params=init_params,\n",
    "    fit_params=fit_params\n",
    ")\n"
   ]
  },
  {
   "cell_type": "code",
   "execution_count": 8,
   "id": "88ff8004",
   "metadata": {},
   "outputs": [
    {
     "name": "stdout",
     "output_type": "stream",
     "text": [
      "샘플  0: 예측=52.603, 불확실성(std)=0.300\n",
      "샘플  1: 예측=43.694, 불확실성(std)=0.168\n",
      "샘플  2: 예측=74.515, 불확실성(std)=0.865\n",
      "샘플  3: 예측=33.635, 불확실성(std)=0.144\n",
      "샘플  4: 예측=11.011, 불확실성(std)=0.322\n",
      "샘플  5: 예측=46.266, 불확실성(std)=0.505\n",
      "샘플  6: 예측=25.165, 불확실성(std)=0.656\n",
      "샘플  7: 예측=48.006, 불확실성(std)=0.494\n",
      "샘플  8: 예측=34.917, 불확실성(std)=0.389\n",
      "샘플  9: 예측=45.250, 불확실성(std)=0.326\n"
     ]
    }
   ],
   "source": [
    "\n",
    "# 예측값과 불확실성 확인 (첫 10개 샘플)\n",
    "for i in range(10):\n",
    "    print(f\"샘플 {i:2d}: 예측={mean_cb[i]:.3f}, 불확실성(std)={std_cb[i]:.3f}\")\n"
   ]
  },
  {
   "cell_type": "code",
   "execution_count": 10,
   "id": "a6d0ae91",
   "metadata": {},
   "outputs": [
    {
     "name": "stdout",
     "output_type": "stream",
     "text": [
      "테스트 샘플 수       : 206\n",
      "평균 불확실성        : 0.539\n",
      "중앙값 불확실성       : 0.463\n",
      "최소 불확실성        : 0.077\n",
      "최대 불확실성        : 2.483\n"
     ]
    }
   ],
   "source": [
    "# 요약 통계 출력 (모델 전체의 불확실성 평가)\n",
    "print(f\"테스트 샘플 수       : {len(std_cb)}\")\n",
    "print(f\"평균 불확실성        : {std_cb.mean():.3f}\")\n",
    "print(f\"중앙값 불확실성       : {np.median(std_cb):.3f}\")\n",
    "print(f\"최소 불확실성        : {std_cb.min():.3f}\")\n",
    "print(f\"최대 불확실성        : {std_cb.max():.3f}\")"
   ]
  },
  {
   "cell_type": "code",
   "execution_count": 11,
   "id": "c78fb840",
   "metadata": {},
   "outputs": [
    {
     "name": "stderr",
     "output_type": "stream",
     "text": [
      "C:\\Users\\SAL\\AppData\\Roaming\\Python\\Python38\\site-packages\\IPython\\core\\pylabtools.py:152: UserWarning: Glyph 49368 (\\N{HANGUL SYLLABLE SAEM}) missing from current font.\n",
      "  fig.canvas.print_figure(bytes_io, **kw)\n",
      "C:\\Users\\SAL\\AppData\\Roaming\\Python\\Python38\\site-packages\\IPython\\core\\pylabtools.py:152: UserWarning: Glyph 54540 (\\N{HANGUL SYLLABLE PEUL}) missing from current font.\n",
      "  fig.canvas.print_figure(bytes_io, **kw)\n",
      "C:\\Users\\SAL\\AppData\\Roaming\\Python\\Python38\\site-packages\\IPython\\core\\pylabtools.py:152: UserWarning: Glyph 49688 (\\N{HANGUL SYLLABLE SU}) missing from current font.\n",
      "  fig.canvas.print_figure(bytes_io, **kw)\n",
      "C:\\Users\\SAL\\AppData\\Roaming\\Python\\Python38\\site-packages\\IPython\\core\\pylabtools.py:152: UserWarning: Glyph 53580 (\\N{HANGUL SYLLABLE TE}) missing from current font.\n",
      "  fig.canvas.print_figure(bytes_io, **kw)\n",
      "C:\\Users\\SAL\\AppData\\Roaming\\Python\\Python38\\site-packages\\IPython\\core\\pylabtools.py:152: UserWarning: Glyph 49828 (\\N{HANGUL SYLLABLE SEU}) missing from current font.\n",
      "  fig.canvas.print_figure(bytes_io, **kw)\n",
      "C:\\Users\\SAL\\AppData\\Roaming\\Python\\Python38\\site-packages\\IPython\\core\\pylabtools.py:152: UserWarning: Glyph 53944 (\\N{HANGUL SYLLABLE TEU}) missing from current font.\n",
      "  fig.canvas.print_figure(bytes_io, **kw)\n",
      "C:\\Users\\SAL\\AppData\\Roaming\\Python\\Python38\\site-packages\\IPython\\core\\pylabtools.py:152: UserWarning: Glyph 49464 (\\N{HANGUL SYLLABLE SE}) missing from current font.\n",
      "  fig.canvas.print_figure(bytes_io, **kw)\n",
      "C:\\Users\\SAL\\AppData\\Roaming\\Python\\Python38\\site-packages\\IPython\\core\\pylabtools.py:152: UserWarning: Glyph 48520 (\\N{HANGUL SYLLABLE BUL}) missing from current font.\n",
      "  fig.canvas.print_figure(bytes_io, **kw)\n",
      "C:\\Users\\SAL\\AppData\\Roaming\\Python\\Python38\\site-packages\\IPython\\core\\pylabtools.py:152: UserWarning: Glyph 54869 (\\N{HANGUL SYLLABLE HWAG}) missing from current font.\n",
      "  fig.canvas.print_figure(bytes_io, **kw)\n",
      "C:\\Users\\SAL\\AppData\\Roaming\\Python\\Python38\\site-packages\\IPython\\core\\pylabtools.py:152: UserWarning: Glyph 49892 (\\N{HANGUL SYLLABLE SIL}) missing from current font.\n",
      "  fig.canvas.print_figure(bytes_io, **kw)\n",
      "C:\\Users\\SAL\\AppData\\Roaming\\Python\\Python38\\site-packages\\IPython\\core\\pylabtools.py:152: UserWarning: Glyph 49457 (\\N{HANGUL SYLLABLE SEONG}) missing from current font.\n",
      "  fig.canvas.print_figure(bytes_io, **kw)\n",
      "C:\\Users\\SAL\\AppData\\Roaming\\Python\\Python38\\site-packages\\IPython\\core\\pylabtools.py:152: UserWarning: Glyph 48516 (\\N{HANGUL SYLLABLE BUN}) missing from current font.\n",
      "  fig.canvas.print_figure(bytes_io, **kw)\n",
      "C:\\Users\\SAL\\AppData\\Roaming\\Python\\Python38\\site-packages\\IPython\\core\\pylabtools.py:152: UserWarning: Glyph 54252 (\\N{HANGUL SYLLABLE PO}) missing from current font.\n",
      "  fig.canvas.print_figure(bytes_io, **kw)\n"
     ]
    },
    {
     "data": {
      "image/png": "[encoded data removed]",
      "text/plain": [
       "<Figure size 800x500 with 1 Axes>"
      ]
     },
     "metadata": {},
     "output_type": "display_data"
    }
   ],
   "source": [
    "# 히스토그램으로 분포 시각화하기\n",
    "plt.figure(figsize=(8, 5))\n",
    "plt.hist(std_cb, bins=30, edgecolor='k')\n",
    "plt.xlabel(\"불확실성 (std)\")\n",
    "plt.ylabel(\"샘플 수\")\n",
    "plt.title(\"테스트 세트 불확실성 분포\")\n",
    "plt.show()"
   ]
  },
  {
   "cell_type": "markdown",
   "id": "eb85a638",
   "metadata": {},
   "source": []
  }
 ],
 "metadata": {
  "kernelspec": {
   "display_name": "Python 3",
   "language": "python",
   "name": "python3"
  },
  "language_info": {
   "codemirror_mode": {
    "name": "ipython",
    "version": 3
   },
   "file_extension": ".py",
   "mimetype": "text/x-python",
   "name": "python",
   "nbconvert_exporter": "python",
   "pygments_lexer": "ipython3",
   "version": "3.8.6rc1"
  }
 },
 "nbformat": 4,
 "nbformat_minor": 5
}
