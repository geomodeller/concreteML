{
 "cells": [
  {
   "cell_type": "code",
   "execution_count": 1,
   "id": "52ad0a9b",
   "metadata": {},
   "outputs": [],
   "source": [
    "import pandas as pd\n",
    "import numpy as np\n",
    "from catboost import CatBoostRegressor\n",
    "from sklearn.model_selection import train_test_split\n",
    "import matplotlib.pyplot as plt\n"
   ]
  },
  {
   "cell_type": "code",
   "execution_count": 2,
   "id": "3db7dd27",
   "metadata": {},
   "outputs": [],
   "source": [
    "df = pd.read_csv(\"dataset.csv\")\n"
   ]
  },
  {
   "cell_type": "code",
   "execution_count": 3,
   "id": "b75ee149",
   "metadata": {},
   "outputs": [],
   "source": [
    "# 데이터 분할\n",
    "X = df.iloc[:, :-1]\n",
    "y = df.iloc[:, -1]\n",
    "X_train, X_test, y_train, y_test = train_test_split(\n",
    "    X, y, test_size=0.2, random_state=42\n",
    ")\n",
    "\n"
   ]
  },
  {
   "cell_type": "code",
   "execution_count": 4,
   "id": "d0aaf9c0",
   "metadata": {},
   "outputs": [],
   "source": [
    "# 불확실성 함수 정의\n",
    "def catboost_ensemble_uncertainty(\n",
    "    X_train, y_train, X_test,\n",
    "    seeds=[0,1,2,3,4],\n",
    "    init_params=None,\n",
    "    fit_params=None\n",
    "):\n",
    "    init_params = init_params or {}\n",
    "    fit_params  = fit_params  or {}\n",
    "    all_preds = []\n",
    "    for seed in seeds:\n",
    "        model = CatBoostRegressor(random_seed=seed, **init_params)\n",
    "        model.fit(X_train, y_train, **fit_params)\n",
    "        all_preds.append(model.predict(X_test))\n",
    "    all_preds = np.stack(all_preds, axis=0)\n",
    "    return all_preds.mean(axis=0), all_preds.std(axis=0)\n",
    "\n"
   ]
  },
  {
   "cell_type": "code",
   "execution_count": null,
   "id": "2869ba4a",
   "metadata": {},
   "outputs": [],
   "source": [
    "# 하이퍼 파라미터 및 seed 설정\n",
    "init_params = {\"iterations\"= 946, \"learning_rate\"= 0.15123628823235863, \"depth\"= 4, \"l2_leaf_reg\": 2.1855148738345545, \"bagging_temperature\": 0.8006190530305709}\n",
    "fit_params  = {\"verbose\":False}\n",
    "seeds       = [0,1,2,3,4]\n",
    "\n"
   ]
  },
  {
   "cell_type": "code",
   "execution_count": 6,
   "id": "c4316e4a",
   "metadata": {},
   "outputs": [],
   "source": [
    "# uncertainty 계산\n",
    "mean_cb, std_cb = catboost_ensemble_uncertainty(\n",
    "    X_train, y_train, X_test,\n",
    "    seeds=seeds,\n",
    "    init_params=init_params,\n",
    "    fit_params=fit_params\n",
    ")\n",
    "\n"
   ]
  },
  {
   "cell_type": "code",
   "execution_count": 7,
   "id": "920f17b3",
   "metadata": {},
   "outputs": [
    {
     "name": "stdout",
     "output_type": "stream",
     "text": [
      "테스트 샘플 수       : 206\n",
      "평균 불확실성        : 0.539\n",
      "중앙값 불확실성       : 0.463\n",
      "최소 불확실성        : 0.077\n",
      "최대 불확실성        : 2.483\n"
     ]
    }
   ],
   "source": [
    "# 요약 통계 출력 (f-string 사용)\n",
    "print(f\"테스트 샘플 수       : {len(std_cb)}\")\n",
    "print(f\"평균 불확실성        : {std_cb.mean():.3f}\")\n",
    "print(f\"중앙값 불확실성       : {np.median(std_cb):.3f}\")\n",
    "print(f\"최소 불확실성        : {std_cb.min():.3f}\")\n",
    "print(f\"최대 불확실성        : {std_cb.max():.3f}\")\n",
    "\n"
   ]
  },
  {
   "cell_type": "code",
   "execution_count": 8,
   "id": "3e904aa3",
   "metadata": {},
   "outputs": [
    {
     "name": "stderr",
     "output_type": "stream",
     "text": [
      "C:\\Users\\SAL\\AppData\\Roaming\\Python\\Python38\\site-packages\\IPython\\core\\pylabtools.py:152: UserWarning: Glyph 49368 (\\N{HANGUL SYLLABLE SAEM}) missing from current font.\n",
      "  fig.canvas.print_figure(bytes_io, **kw)\n",
      "C:\\Users\\SAL\\AppData\\Roaming\\Python\\Python38\\site-packages\\IPython\\core\\pylabtools.py:152: UserWarning: Glyph 54540 (\\N{HANGUL SYLLABLE PEUL}) missing from current font.\n",
      "  fig.canvas.print_figure(bytes_io, **kw)\n",
      "C:\\Users\\SAL\\AppData\\Roaming\\Python\\Python38\\site-packages\\IPython\\core\\pylabtools.py:152: UserWarning: Glyph 49688 (\\N{HANGUL SYLLABLE SU}) missing from current font.\n",
      "  fig.canvas.print_figure(bytes_io, **kw)\n",
      "C:\\Users\\SAL\\AppData\\Roaming\\Python\\Python38\\site-packages\\IPython\\core\\pylabtools.py:152: UserWarning: Glyph 53580 (\\N{HANGUL SYLLABLE TE}) missing from current font.\n",
      "  fig.canvas.print_figure(bytes_io, **kw)\n",
      "C:\\Users\\SAL\\AppData\\Roaming\\Python\\Python38\\site-packages\\IPython\\core\\pylabtools.py:152: UserWarning: Glyph 49828 (\\N{HANGUL SYLLABLE SEU}) missing from current font.\n",
      "  fig.canvas.print_figure(bytes_io, **kw)\n",
      "C:\\Users\\SAL\\AppData\\Roaming\\Python\\Python38\\site-packages\\IPython\\core\\pylabtools.py:152: UserWarning: Glyph 53944 (\\N{HANGUL SYLLABLE TEU}) missing from current font.\n",
      "  fig.canvas.print_figure(bytes_io, **kw)\n",
      "C:\\Users\\SAL\\AppData\\Roaming\\Python\\Python38\\site-packages\\IPython\\core\\pylabtools.py:152: UserWarning: Glyph 49464 (\\N{HANGUL SYLLABLE SE}) missing from current font.\n",
      "  fig.canvas.print_figure(bytes_io, **kw)\n",
      "C:\\Users\\SAL\\AppData\\Roaming\\Python\\Python38\\site-packages\\IPython\\core\\pylabtools.py:152: UserWarning: Glyph 48520 (\\N{HANGUL SYLLABLE BUL}) missing from current font.\n",
      "  fig.canvas.print_figure(bytes_io, **kw)\n",
      "C:\\Users\\SAL\\AppData\\Roaming\\Python\\Python38\\site-packages\\IPython\\core\\pylabtools.py:152: UserWarning: Glyph 54869 (\\N{HANGUL SYLLABLE HWAG}) missing from current font.\n",
      "  fig.canvas.print_figure(bytes_io, **kw)\n",
      "C:\\Users\\SAL\\AppData\\Roaming\\Python\\Python38\\site-packages\\IPython\\core\\pylabtools.py:152: UserWarning: Glyph 49892 (\\N{HANGUL SYLLABLE SIL}) missing from current font.\n",
      "  fig.canvas.print_figure(bytes_io, **kw)\n",
      "C:\\Users\\SAL\\AppData\\Roaming\\Python\\Python38\\site-packages\\IPython\\core\\pylabtools.py:152: UserWarning: Glyph 49457 (\\N{HANGUL SYLLABLE SEONG}) missing from current font.\n",
      "  fig.canvas.print_figure(bytes_io, **kw)\n",
      "C:\\Users\\SAL\\AppData\\Roaming\\Python\\Python38\\site-packages\\IPython\\core\\pylabtools.py:152: UserWarning: Glyph 48516 (\\N{HANGUL SYLLABLE BUN}) missing from current font.\n",
      "  fig.canvas.print_figure(bytes_io, **kw)\n",
      "C:\\Users\\SAL\\AppData\\Roaming\\Python\\Python38\\site-packages\\IPython\\core\\pylabtools.py:152: UserWarning: Glyph 54252 (\\N{HANGUL SYLLABLE PO}) missing from current font.\n",
      "  fig.canvas.print_figure(bytes_io, **kw)\n"
     ]
    },
    {
     "data": {
      "image/png": "[encoded data removed]",
      "text/plain": [
       "<Figure size 800x500 with 1 Axes>"
      ]
     },
     "metadata": {},
     "output_type": "display_data"
    }
   ],
   "source": [
    "# 히스토그램으로 나타내기\n",
    "plt.figure(figsize=(8,5))\n",
    "plt.hist(std_cb, bins=30, edgecolor='k')\n",
    "plt.xlabel(\"불확실성 (std)\")\n",
    "plt.ylabel(\"샘플 수\")\n",
    "plt.title(\"테스트 세트 불확실성 분포\")\n",
    "plt.show()\n"
   ]
  },
  {
   "cell_type": "code",
   "execution_count": 9,
   "id": "eb426ecc",
   "metadata": {},
   "outputs": [
    {
     "name": "stdout",
     "output_type": "stream",
     "text": [
      "평균 상대 불확실성 : 2.0%\n",
      "중앙값 상대 불확실성 : 1.6%\n",
      "최댓값 상대 불확실성 : 8.6%\n"
     ]
    }
   ],
   "source": [
    "# 상대 불확실성 계산\n",
    "# 10% 이하이면 대체로 모델이 예측값에 자신있다고 판단\n",
    "rel_unc = std_cb / mean_cb\n",
    "print(f\"평균 상대 불확실성 : {np.mean(rel_unc)*100:.1f}%\")\n",
    "print(f\"중앙값 상대 불확실성 : {np.median(rel_unc)*100:.1f}%\")\n",
    "print(f\"최댓값 상대 불확실성 : {rel_unc.max()*100:.1f}%\")"
   ]
  },
  {
   "cell_type": "code",
   "execution_count": 10,
   "id": "94ccfe43",
   "metadata": {},
   "outputs": [
    {
     "name": "stderr",
     "output_type": "stream",
     "text": [
      "C:\\Users\\SAL\\AppData\\Roaming\\Python\\Python38\\site-packages\\IPython\\core\\pylabtools.py:152: UserWarning: Glyph 49345 (\\N{HANGUL SYLLABLE SANG}) missing from current font.\n",
      "  fig.canvas.print_figure(bytes_io, **kw)\n",
      "C:\\Users\\SAL\\AppData\\Roaming\\Python\\Python38\\site-packages\\IPython\\core\\pylabtools.py:152: UserWarning: Glyph 45824 (\\N{HANGUL SYLLABLE DAE}) missing from current font.\n",
      "  fig.canvas.print_figure(bytes_io, **kw)\n"
     ]
    },
    {
     "data": {
      "image/png": "[encoded data removed]",
      "text/plain": [
       "<Figure size 800x500 with 1 Axes>"
      ]
     },
     "metadata": {},
     "output_type": "display_data"
    }
   ],
   "source": [
    "# 상대 불확실성 분포 히스토그램\n",
    "plt.figure(figsize=(8,5))\n",
    "plt.hist(rel_unc*100, bins=30, edgecolor='k')\n",
    "plt.xlabel(\"상대 불확실성 (%)\")\n",
    "plt.ylabel(\"샘플 수\")\n",
    "plt.title(\"테스트 세트 상대 불확실성 분포\")\n",
    "plt.show()"
   ]
  },
  {
   "cell_type": "code",
   "execution_count": null,
   "id": "2dabd3f9",
   "metadata": {},
   "outputs": [],
   "source": []
  }
 ],
 "metadata": {
  "kernelspec": {
   "display_name": "Python 3",
   "language": "python",
   "name": "python3"
  },
  "language_info": {
   "codemirror_mode": {
    "name": "ipython",
    "version": 3
   },
   "file_extension": ".py",
   "mimetype": "text/x-python",
   "name": "python",
   "nbconvert_exporter": "python",
   "pygments_lexer": "ipython3",
   "version": "3.8.6"
  }
 },
 "nbformat": 4,
 "nbformat_minor": 5
}
