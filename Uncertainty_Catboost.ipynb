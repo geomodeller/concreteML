{
 "cells": [
  {
   "cell_type": "markdown",
   "id": "17468f1e",
   "metadata": {},
   "source": []
  },
  {
   "cell_type": "code",
   "execution_count": null,
   "id": "df149d14",
   "metadata": {},
   "outputs": [],
   "source": [
    "import pandas as pd\n",
    "import numpy as np\n",
    "from catboost import CatBoostRegressor\n",
    "from sklearn.model_selection import train_test_split\n",
    "import numpy as np\n",
    "import matplotlib.pyplot as plt\n",
    "\n"
   ]
  },
  {
   "cell_type": "code",
   "execution_count": null,
   "id": "692e4087",
   "metadata": {},
   "outputs": [],
   "source": [
    "df = pd.read_csv(\"dataset.csv\")\n"
   ]
  },
  {
   "cell_type": "code",
   "execution_count": null,
   "id": "771f03b1",
   "metadata": {},
   "outputs": [],
   "source": [
    "# features(X) / target(y) 분리\n",
    "X = df.iloc[:, :-1]\n",
    "y = df.iloc[:, -1]\n"
   ]
  },
  {
   "cell_type": "code",
   "execution_count": null,
   "id": "a547ae40",
   "metadata": {},
   "outputs": [],
   "source": [
    "#  training/test 분할\n",
    "X_train, X_test, y_train, y_test = train_test_split(\n",
    "    X, y, test_size=0.2, random_state=42\n",
    ")\n"
   ]
  },
  {
   "cell_type": "code",
   "execution_count": null,
   "id": "11432183",
   "metadata": {},
   "outputs": [],
   "source": [
    "#  CatBoost ensemble uncertainty 함수 정의\n",
    "def catboost_ensemble_uncertainty(\n",
    "    X_train, y_train, X_test,\n",
    "    seeds=[0,1,2,3,4],\n",
    "    init_params=None,\n",
    "    fit_params=None\n",
    "):\n",
    "    init_params = init_params or {}\n",
    "    fit_params  = fit_params  or {}\n",
    "\n",
    "    all_preds = []\n",
    "    for seed in seeds:\n",
    "        model = CatBoostRegressor(\n",
    "            random_seed=seed,\n",
    "            **init_params\n",
    "        )\n",
    "        model.fit(\n",
    "            X_train, y_train,\n",
    "            **fit_params\n",
    "        )\n",
    "        preds = model.predict(X_test)\n",
    "        all_preds.append(preds)\n",
    "\n",
    "    all_preds = np.stack(all_preds, axis=0)\n",
    "    mean_preds = all_preds.mean(axis=0)\n",
    "    std_preds  = all_preds.std(axis=0)\n",
    "    return mean_preds, std_preds\n"
   ]
  },
  {
   "cell_type": "code",
   "execution_count": null,
   "id": "e0742aa3",
   "metadata": {},
   "outputs": [],
   "source": [
    "# hyperparameter 및 seed 설정\n",
    "init_params = {\n",
    "    \"iterations\": 500,\n",
    "    \"learning_rate\": 0.1,\n",
    "    \"depth\": 6\n",
    "}\n",
    "fit_params = {\n",
    "    \"verbose\": False\n",
    "}\n",
    "seeds = [0, 1, 2, 3, 4]  # 앙상블 크기 = 5\n"
   ]
  },
  {
   "cell_type": "code",
   "execution_count": null,
   "id": "8fb12680",
   "metadata": {},
   "outputs": [],
   "source": [
    "\n",
    "#  호출 및 결과 출력\n",
    "mean_cb, std_cb = catboost_ensemble_uncertainty(\n",
    "    X_train, y_train, X_test,\n",
    "    seeds=seeds,\n",
    "    init_params=init_params,\n",
    "    fit_params=fit_params\n",
    ")\n"
   ]
  },
  {
   "cell_type": "code",
   "execution_count": null,
   "id": "88ff8004",
   "metadata": {},
   "outputs": [],
   "source": [
    "\n",
    "# 예측값과 불확실성 확인 (첫 10개 샘플)\n",
    "for i in range(10):\n",
    "    print(f\"샘플 {i:2d}: 예측={mean_cb[i]:.3f}, 불확실성(std)={std_cb[i]:.3f}\")\n"
   ]
  },
  {
   "cell_type": "code",
   "execution_count": null,
   "id": "a6d0ae91",
   "metadata": {},
   "outputs": [],
   "source": [
    "# 요약 통계 출력 (모델 전체의 불확실성 평가)\n",
    "print(\"테스트 샘플 수       :\", len(std_cb))\n",
    "print(\"평균 불확실성        :\", std_cb.mean():.3f)\n",
    "print(\"중앙값 불확실성       :\", np.median(std_cb):.3f)\n",
    "print(\"최소 불확실성        :\", std_cb.min():.3f)\n",
    "print(\"최대 불확실성        :\", std_cb.max():.3f)"
   ]
  },
  {
   "cell_type": "code",
   "execution_count": null,
   "id": "c78fb840",
   "metadata": {},
   "outputs": [],
   "source": [
    "# 히스토그램으로 분포 시각화하기\n",
    "plt.figure(figsize=(8, 5))\n",
    "plt.hist(std_cb, bins=30, edgecolor='k')\n",
    "plt.xlabel(\"불확실성 (std)\")\n",
    "plt.ylabel(\"샘플 수\")\n",
    "plt.title(\"테스트 세트 불확실성 분포\")\n",
    "plt.show()"
   ]
  },
  {
   "cell_type": "markdown",
   "id": "eb85a638",
   "metadata": {},
   "source": []
  }
 ],
 "metadata": {
  "language_info": {
   "name": "python"
  }
 },
 "nbformat": 4,
 "nbformat_minor": 5
}
