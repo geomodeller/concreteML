{
 "cells": [
  {
   "cell_type": "markdown",
   "id": "d8510d97",
   "metadata": {},
   "source": [
    "# Feature importance 평가를 위한 SHAP\n",
    "- kfold validation 실행 후 SHAP \n",
    "- 연산에 소요되는 시간 확인을 위해 우선적으로 catboost model에 대해서만 실행"
   ]
  },
  {
   "cell_type": "code",
   "execution_count": null,
   "id": "20e5d5bd",
   "metadata": {},
   "outputs": [],
   "source": [
    "혹시 연구실 컴퓨터에 shap 설치 안되어 있으면 설치해서 실행하길..."
   ]
  },
  {
   "cell_type": "code",
   "execution_count": 1,
   "id": "4d023920",
   "metadata": {},
   "outputs": [
    {
     "name": "stderr",
     "output_type": "stream",
     "text": [
      "c:\\Users\\SAL\\AppData\\Local\\Programs\\Python\\Python38\\lib\\site-packages\\shap\\utils\\_clustering.py:35: NumbaDeprecationWarning: \u001b[1mThe 'nopython' keyword argument was not supplied to the 'numba.jit' decorator. The implicit default value for this argument is currently False, but it will be changed to True in Numba 0.59.0. See https://numba.readthedocs.io/en/stable/reference/deprecation.html#deprecation-of-object-mode-fall-back-behaviour-when-using-jit for details.\u001b[0m\n",
      "  def _pt_shuffle_rec(i, indexes, index_mask, partition_tree, M, pos):\n",
      "c:\\Users\\SAL\\AppData\\Local\\Programs\\Python\\Python38\\lib\\site-packages\\shap\\utils\\_clustering.py:54: NumbaDeprecationWarning: \u001b[1mThe 'nopython' keyword argument was not supplied to the 'numba.jit' decorator. The implicit default value for this argument is currently False, but it will be changed to True in Numba 0.59.0. See https://numba.readthedocs.io/en/stable/reference/deprecation.html#deprecation-of-object-mode-fall-back-behaviour-when-using-jit for details.\u001b[0m\n",
      "  def delta_minimization_order(all_masks, max_swap_size=100, num_passes=2):\n",
      "c:\\Users\\SAL\\AppData\\Local\\Programs\\Python\\Python38\\lib\\site-packages\\shap\\utils\\_clustering.py:63: NumbaDeprecationWarning: \u001b[1mThe 'nopython' keyword argument was not supplied to the 'numba.jit' decorator. The implicit default value for this argument is currently False, but it will be changed to True in Numba 0.59.0. See https://numba.readthedocs.io/en/stable/reference/deprecation.html#deprecation-of-object-mode-fall-back-behaviour-when-using-jit for details.\u001b[0m\n",
      "  def _reverse_window(order, start, length):\n",
      "c:\\Users\\SAL\\AppData\\Local\\Programs\\Python\\Python38\\lib\\site-packages\\shap\\utils\\_clustering.py:69: NumbaDeprecationWarning: \u001b[1mThe 'nopython' keyword argument was not supplied to the 'numba.jit' decorator. The implicit default value for this argument is currently False, but it will be changed to True in Numba 0.59.0. See https://numba.readthedocs.io/en/stable/reference/deprecation.html#deprecation-of-object-mode-fall-back-behaviour-when-using-jit for details.\u001b[0m\n",
      "  def _reverse_window_score_gain(masks, order, start, length):\n",
      "c:\\Users\\SAL\\AppData\\Local\\Programs\\Python\\Python38\\lib\\site-packages\\shap\\utils\\_clustering.py:77: NumbaDeprecationWarning: \u001b[1mThe 'nopython' keyword argument was not supplied to the 'numba.jit' decorator. The implicit default value for this argument is currently False, but it will be changed to True in Numba 0.59.0. See https://numba.readthedocs.io/en/stable/reference/deprecation.html#deprecation-of-object-mode-fall-back-behaviour-when-using-jit for details.\u001b[0m\n",
      "  def _mask_delta_score(m1, m2):\n",
      "c:\\Users\\SAL\\AppData\\Local\\Programs\\Python\\Python38\\lib\\site-packages\\shap\\links.py:5: NumbaDeprecationWarning: \u001b[1mThe 'nopython' keyword argument was not supplied to the 'numba.jit' decorator. The implicit default value for this argument is currently False, but it will be changed to True in Numba 0.59.0. See https://numba.readthedocs.io/en/stable/reference/deprecation.html#deprecation-of-object-mode-fall-back-behaviour-when-using-jit for details.\u001b[0m\n",
      "  def identity(x):\n",
      "c:\\Users\\SAL\\AppData\\Local\\Programs\\Python\\Python38\\lib\\site-packages\\shap\\links.py:10: NumbaDeprecationWarning: \u001b[1mThe 'nopython' keyword argument was not supplied to the 'numba.jit' decorator. The implicit default value for this argument is currently False, but it will be changed to True in Numba 0.59.0. See https://numba.readthedocs.io/en/stable/reference/deprecation.html#deprecation-of-object-mode-fall-back-behaviour-when-using-jit for details.\u001b[0m\n",
      "  def _identity_inverse(x):\n",
      "c:\\Users\\SAL\\AppData\\Local\\Programs\\Python\\Python38\\lib\\site-packages\\shap\\links.py:15: NumbaDeprecationWarning: \u001b[1mThe 'nopython' keyword argument was not supplied to the 'numba.jit' decorator. The implicit default value for this argument is currently False, but it will be changed to True in Numba 0.59.0. See https://numba.readthedocs.io/en/stable/reference/deprecation.html#deprecation-of-object-mode-fall-back-behaviour-when-using-jit for details.\u001b[0m\n",
      "  def logit(x):\n",
      "c:\\Users\\SAL\\AppData\\Local\\Programs\\Python\\Python38\\lib\\site-packages\\shap\\links.py:20: NumbaDeprecationWarning: \u001b[1mThe 'nopython' keyword argument was not supplied to the 'numba.jit' decorator. The implicit default value for this argument is currently False, but it will be changed to True in Numba 0.59.0. See https://numba.readthedocs.io/en/stable/reference/deprecation.html#deprecation-of-object-mode-fall-back-behaviour-when-using-jit for details.\u001b[0m\n",
      "  def _logit_inverse(x):\n",
      "c:\\Users\\SAL\\AppData\\Local\\Programs\\Python\\Python38\\lib\\site-packages\\shap\\utils\\_masked_model.py:363: NumbaDeprecationWarning: \u001b[1mThe 'nopython' keyword argument was not supplied to the 'numba.jit' decorator. The implicit default value for this argument is currently False, but it will be changed to True in Numba 0.59.0. See https://numba.readthedocs.io/en/stable/reference/deprecation.html#deprecation-of-object-mode-fall-back-behaviour-when-using-jit for details.\u001b[0m\n",
      "  def _build_fixed_single_output(averaged_outs, last_outs, outputs, batch_positions, varying_rows, num_varying_rows, link, linearizing_weights):\n",
      "c:\\Users\\SAL\\AppData\\Local\\Programs\\Python\\Python38\\lib\\site-packages\\shap\\utils\\_masked_model.py:385: NumbaDeprecationWarning: \u001b[1mThe 'nopython' keyword argument was not supplied to the 'numba.jit' decorator. The implicit default value for this argument is currently False, but it will be changed to True in Numba 0.59.0. See https://numba.readthedocs.io/en/stable/reference/deprecation.html#deprecation-of-object-mode-fall-back-behaviour-when-using-jit for details.\u001b[0m\n",
      "  def _build_fixed_multi_output(averaged_outs, last_outs, outputs, batch_positions, varying_rows, num_varying_rows, link, linearizing_weights):\n",
      "c:\\Users\\SAL\\AppData\\Local\\Programs\\Python\\Python38\\lib\\site-packages\\shap\\utils\\_masked_model.py:428: NumbaDeprecationWarning: \u001b[1mThe 'nopython' keyword argument was not supplied to the 'numba.jit' decorator. The implicit default value for this argument is currently False, but it will be changed to True in Numba 0.59.0. See https://numba.readthedocs.io/en/stable/reference/deprecation.html#deprecation-of-object-mode-fall-back-behaviour-when-using-jit for details.\u001b[0m\n",
      "  def _init_masks(cluster_matrix, M, indices_row_pos, indptr):\n",
      "c:\\Users\\SAL\\AppData\\Local\\Programs\\Python\\Python38\\lib\\site-packages\\shap\\utils\\_masked_model.py:439: NumbaDeprecationWarning: \u001b[1mThe 'nopython' keyword argument was not supplied to the 'numba.jit' decorator. The implicit default value for this argument is currently False, but it will be changed to True in Numba 0.59.0. See https://numba.readthedocs.io/en/stable/reference/deprecation.html#deprecation-of-object-mode-fall-back-behaviour-when-using-jit for details.\u001b[0m\n",
      "  def _rec_fill_masks(cluster_matrix, indices_row_pos, indptr, indices, M, ind):\n",
      "c:\\Users\\SAL\\AppData\\Local\\Programs\\Python\\Python38\\lib\\site-packages\\shap\\maskers\\_tabular.py:186: NumbaDeprecationWarning: \u001b[1mThe 'nopython' keyword argument was not supplied to the 'numba.jit' decorator. The implicit default value for this argument is currently False, but it will be changed to True in Numba 0.59.0. See https://numba.readthedocs.io/en/stable/reference/deprecation.html#deprecation-of-object-mode-fall-back-behaviour-when-using-jit for details.\u001b[0m\n",
      "  def _single_delta_mask(dind, masked_inputs, last_mask, data, x, noop_code):\n",
      "c:\\Users\\SAL\\AppData\\Local\\Programs\\Python\\Python38\\lib\\site-packages\\shap\\maskers\\_tabular.py:197: NumbaDeprecationWarning: \u001b[1mThe 'nopython' keyword argument was not supplied to the 'numba.jit' decorator. The implicit default value for this argument is currently False, but it will be changed to True in Numba 0.59.0. See https://numba.readthedocs.io/en/stable/reference/deprecation.html#deprecation-of-object-mode-fall-back-behaviour-when-using-jit for details.\u001b[0m\n",
      "  def _delta_masking(masks, x, curr_delta_inds, varying_rows_out,\n",
      "c:\\Users\\SAL\\AppData\\Local\\Programs\\Python\\Python38\\lib\\site-packages\\shap\\maskers\\_image.py:175: NumbaDeprecationWarning: \u001b[1mThe 'nopython' keyword argument was not supplied to the 'numba.jit' decorator. The implicit default value for this argument is currently False, but it will be changed to True in Numba 0.59.0. See https://numba.readthedocs.io/en/stable/reference/deprecation.html#deprecation-of-object-mode-fall-back-behaviour-when-using-jit for details.\u001b[0m\n",
      "  def _jit_build_partition_tree(xmin, xmax, ymin, ymax, zmin, zmax, total_ywidth, total_zwidth, M, clustering, q):\n",
      "c:\\Users\\SAL\\AppData\\Local\\Programs\\Python\\Python38\\lib\\site-packages\\tqdm\\auto.py:21: TqdmWarning: IProgress not found. Please update jupyter and ipywidgets. See https://ipywidgets.readthedocs.io/en/stable/user_install.html\n",
      "  from .autonotebook import tqdm as notebook_tqdm\n",
      "c:\\Users\\SAL\\AppData\\Local\\Programs\\Python\\Python38\\lib\\site-packages\\shap\\explainers\\_partition.py:676: NumbaDeprecationWarning: \u001b[1mThe 'nopython' keyword argument was not supplied to the 'numba.jit' decorator. The implicit default value for this argument is currently False, but it will be changed to True in Numba 0.59.0. See https://numba.readthedocs.io/en/stable/reference/deprecation.html#deprecation-of-object-mode-fall-back-behaviour-when-using-jit for details.\u001b[0m\n",
      "  def lower_credit(i, value, M, values, clustering):\n",
      "\u001b[1mThe 'nopython' keyword argument was not supplied to the 'numba.jit' decorator. The implicit default value for this argument is currently False, but it will be changed to True in Numba 0.59.0. See https://numba.readthedocs.io/en/stable/reference/deprecation.html#deprecation-of-object-mode-fall-back-behaviour-when-using-jit for details.\u001b[0m\n",
      "\u001b[1mThe 'nopython' keyword argument was not supplied to the 'numba.jit' decorator. The implicit default value for this argument is currently False, but it will be changed to True in Numba 0.59.0. See https://numba.readthedocs.io/en/stable/reference/deprecation.html#deprecation-of-object-mode-fall-back-behaviour-when-using-jit for details.\u001b[0m\n"
     ]
    }
   ],
   "source": [
    "import pandas as pd\n",
    "import shap\n",
    "import numpy as np\n",
    "from xgboost import XGBRegressor\n",
    "import matplotlib.pyplot as plt\n",
    "from catboost import CatBoostRegressor\n",
    "from sklearn.ensemble import RandomForestRegressor\n",
    "from deepforest import CascadeForestRegressor\n",
    "from sklearn.model_selection import KFold\n",
    "np.int = int\n",
    "np.bool = bool"
   ]
  },
  {
   "cell_type": "code",
   "execution_count": 2,
   "id": "724eaad4",
   "metadata": {},
   "outputs": [],
   "source": [
    "df = pd.read_csv(\"dataset.csv\")\n",
    "X = df[['cement', 'blast furnace slag', 'fly ash', 'water ', 'superplasticizer', 'coarse aggregate', 'fine aggregate', 'age']]\n",
    "y = df['CCS']"
   ]
  },
  {
   "cell_type": "code",
   "execution_count": 3,
   "id": "2d710603",
   "metadata": {},
   "outputs": [],
   "source": [
    "# 5-fold cross-validation 실행\n",
    "kf = KFold(n_splits=5, shuffle=True, random_state=42)\n",
    "shap_values_all = []\n",
    "feature_names = X.columns"
   ]
  },
  {
   "cell_type": "code",
   "execution_count": 4,
   "id": "1d3e1fbe",
   "metadata": {},
   "outputs": [
    {
     "name": "stdout",
     "output_type": "stream",
     "text": [
      "Fold 1...\n",
      "[2025-07-30 03:37:17.853] Start to fit the model:\n",
      "[2025-07-30 03:37:17.853] Fitting cascade layer = 0 \n",
      "[2025-07-30 03:37:18.521] layer = 0  | Val MSE = 28.01044 | Elapsed = 0.666 s\n",
      "[2025-07-30 03:37:18.521] Fitting cascade layer = 1 \n",
      "[2025-07-30 03:37:19.204] layer = 1  | Val MSE = 21.74305 | Elapsed = 0.684 s\n",
      "[2025-07-30 03:37:19.204] Fitting cascade layer = 2 \n",
      "[2025-07-30 03:37:19.804] layer = 2  | Val MSE = 24.03155 | Elapsed = 0.600 s\n",
      "[2025-07-30 03:37:19.804] Early stopping counter: 1 out of 2\n",
      "[2025-07-30 03:37:19.804] Fitting cascade layer = 3 \n",
      "[2025-07-30 03:37:20.487] layer = 3  | Val MSE = 26.69418 | Elapsed = 0.683 s\n",
      "[2025-07-30 03:37:20.487] Early stopping counter: 2 out of 2\n",
      "[2025-07-30 03:37:20.487] Handling early stopping\n",
      "[2025-07-30 03:37:20.488] The optimal number of layers: 2\n",
      "[2025-07-30 03:37:23.355] Start to evalute the model:\n",
      "[2025-07-30 03:37:23.361] Evaluating cascade layer = 0 \n",
      "[2025-07-30 03:37:23.567] Evaluating cascade layer = 1 \n",
      "[2025-07-30 03:37:25.469] Start to evalute the model:\n",
      "[2025-07-30 03:37:25.485] Evaluating cascade layer = 0 \n",
      "[2025-07-30 03:37:25.690] Evaluating cascade layer = 1 \n",
      "[2025-07-30 03:37:25.911] Start to evalute the model:\n",
      "[2025-07-30 03:37:25.911] Evaluating cascade layer = 0 \n",
      "[2025-07-30 03:37:26.036] Evaluating cascade layer = 1 \n",
      "[2025-07-30 03:37:26.173] Start to evalute the model:\n",
      "[2025-07-30 03:37:26.174] Evaluating cascade layer = 0 \n",
      "[2025-07-30 03:37:26.386] Evaluating cascade layer = 1 \n",
      "[2025-07-30 03:37:26.607] Start to evalute the model:\n",
      "[2025-07-30 03:37:26.607] Evaluating cascade layer = 0 \n",
      "[2025-07-30 03:37:26.701] Evaluating cascade layer = 1 \n",
      "[2025-07-30 03:37:26.817] Start to evalute the model:\n",
      "[2025-07-30 03:37:26.817] Evaluating cascade layer = 0 \n",
      "[2025-07-30 03:37:27.032] Evaluating cascade layer = 1 \n",
      "[2025-07-30 03:37:27.236] Start to evalute the model:\n",
      "[2025-07-30 03:37:27.236] Evaluating cascade layer = 0 \n",
      "[2025-07-30 03:37:27.364] Evaluating cascade layer = 1 \n",
      "[2025-07-30 03:37:27.498] Start to evalute the model:\n",
      "[2025-07-30 03:37:27.502] Evaluating cascade layer = 0 \n",
      "[2025-07-30 03:37:27.706] Evaluating cascade layer = 1 \n",
      "[2025-07-30 03:37:27.922] Start to evalute the model:\n",
      "[2025-07-30 03:37:27.922] Evaluating cascade layer = 0 \n",
      "[2025-07-30 03:37:28.037] Evaluating cascade layer = 1 \n",
      "[2025-07-30 03:37:28.173] Start to evalute the model:\n",
      "[2025-07-30 03:37:28.180] Evaluating cascade layer = 0 \n",
      "[2025-07-30 03:37:28.373] Evaluating cascade layer = 1 \n",
      "[2025-07-30 03:37:28.572] Start to evalute the model:\n",
      "[2025-07-30 03:37:28.572] Evaluating cascade layer = 0 \n",
      "[2025-07-30 03:37:28.687] Evaluating cascade layer = 1 \n",
      "[2025-07-30 03:37:28.791] Start to evalute the model:\n",
      "[2025-07-30 03:37:28.791] Evaluating cascade layer = 0 \n",
      "[2025-07-30 03:37:29.006] Evaluating cascade layer = 1 \n",
      "[2025-07-30 03:37:29.227] Start to evalute the model:\n",
      "[2025-07-30 03:37:29.227] Evaluating cascade layer = 0 \n",
      "[2025-07-30 03:37:29.321] Evaluating cascade layer = 1 \n",
      "[2025-07-30 03:37:29.442] Start to evalute the model:\n",
      "[2025-07-30 03:37:29.442] Evaluating cascade layer = 0 \n",
      "[2025-07-30 03:37:29.656] Evaluating cascade layer = 1 \n",
      "[2025-07-30 03:37:29.872] Start to evalute the model:\n",
      "[2025-07-30 03:37:29.872] Evaluating cascade layer = 0 \n",
      "[2025-07-30 03:37:29.985] Evaluating cascade layer = 1 \n",
      "[2025-07-30 03:37:30.122] Start to evalute the model:\n",
      "[2025-07-30 03:37:30.129] Evaluating cascade layer = 0 \n",
      "[2025-07-30 03:37:30.319] Evaluating cascade layer = 1 \n",
      "[2025-07-30 03:37:30.520] Start to evalute the model:\n",
      "[2025-07-30 03:37:30.520] Evaluating cascade layer = 0 \n",
      "[2025-07-30 03:37:30.648] Evaluating cascade layer = 1 \n"
     ]
    },
    {
     "name": "stderr",
     "output_type": "stream",
     "text": [
      "Exact explainer:   4%|▍         | 9/206 [00:00<?, ?it/s]"
     ]
    },
    {
     "name": "stdout",
     "output_type": "stream",
     "text": [
      "[2025-07-30 03:37:30.789] Start to evalute the model:\n",
      "[2025-07-30 03:37:30.789] Evaluating cascade layer = 0 \n",
      "[2025-07-30 03:37:31.016] Evaluating cascade layer = 1 \n",
      "[2025-07-30 03:37:31.219] Start to evalute the model:\n",
      "[2025-07-30 03:37:31.219] Evaluating cascade layer = 0 \n",
      "[2025-07-30 03:37:31.335] Evaluating cascade layer = 1 \n"
     ]
    },
    {
     "name": "stderr",
     "output_type": "stream",
     "text": [
      "Exact explainer:   5%|▌         | 11/206 [00:10<01:05,  2.98it/s]"
     ]
    },
    {
     "name": "stdout",
     "output_type": "stream",
     "text": [
      "[2025-07-30 03:37:31.460] Start to evalute the model:\n",
      "[2025-07-30 03:37:31.471] Evaluating cascade layer = 0 \n",
      "[2025-07-30 03:37:31.682] Evaluating cascade layer = 1 \n",
      "[2025-07-30 03:37:31.939] Start to evalute the model:\n",
      "[2025-07-30 03:37:31.940] Evaluating cascade layer = 0 \n",
      "[2025-07-30 03:37:32.038] Evaluating cascade layer = 1 \n"
     ]
    },
    {
     "name": "stderr",
     "output_type": "stream",
     "text": [
      "Exact explainer:   6%|▌         | 12/206 [00:11<01:32,  2.09it/s]"
     ]
    },
    {
     "name": "stdout",
     "output_type": "stream",
     "text": [
      "[2025-07-30 03:37:32.138] Start to evalute the model:\n",
      "[2025-07-30 03:37:32.138] Evaluating cascade layer = 0 \n",
      "[2025-07-30 03:37:32.336] Evaluating cascade layer = 1 \n",
      "[2025-07-30 03:37:32.535] Start to evalute the model:\n",
      "[2025-07-30 03:37:32.535] Evaluating cascade layer = 0 \n",
      "[2025-07-30 03:37:32.651] Evaluating cascade layer = 1 \n"
     ]
    },
    {
     "name": "stderr",
     "output_type": "stream",
     "text": [
      "Exact explainer:   6%|▋         | 13/206 [00:12<01:42,  1.89it/s]"
     ]
    },
    {
     "name": "stdout",
     "output_type": "stream",
     "text": [
      "[2025-07-30 03:37:32.756] Start to evalute the model:\n",
      "[2025-07-30 03:37:32.756] Evaluating cascade layer = 0 \n",
      "[2025-07-30 03:37:32.969] Evaluating cascade layer = 1 \n",
      "[2025-07-30 03:37:33.189] Start to evalute the model:\n",
      "[2025-07-30 03:37:33.189] Evaluating cascade layer = 0 \n",
      "[2025-07-30 03:37:33.319] Evaluating cascade layer = 1 \n"
     ]
    },
    {
     "name": "stderr",
     "output_type": "stream",
     "text": [
      "Exact explainer:   7%|▋         | 14/206 [00:12<01:53,  1.70it/s]"
     ]
    },
    {
     "name": "stdout",
     "output_type": "stream",
     "text": [
      "[2025-07-30 03:37:33.458] Start to evalute the model:\n",
      "[2025-07-30 03:37:33.458] Evaluating cascade layer = 0 \n",
      "[2025-07-30 03:37:33.686] Evaluating cascade layer = 1 \n",
      "[2025-07-30 03:37:33.887] Start to evalute the model:\n",
      "[2025-07-30 03:37:33.887] Evaluating cascade layer = 0 \n"
     ]
    },
    {
     "name": "stderr",
     "output_type": "stream",
     "text": [
      "Exact explainer:   7%|▋         | 15/206 [00:13<01:54,  1.67it/s]"
     ]
    },
    {
     "name": "stdout",
     "output_type": "stream",
     "text": [
      "[2025-07-30 03:37:33.983] Evaluating cascade layer = 1 \n",
      "[2025-07-30 03:37:34.068] Start to evalute the model:\n",
      "[2025-07-30 03:37:34.068] Evaluating cascade layer = 0 \n",
      "[2025-07-30 03:37:34.285] Evaluating cascade layer = 1 \n",
      "[2025-07-30 03:37:34.486] Start to evalute the model:\n",
      "[2025-07-30 03:37:34.486] Evaluating cascade layer = 0 \n",
      "[2025-07-30 03:37:34.600] Evaluating cascade layer = 1 \n"
     ]
    },
    {
     "name": "stderr",
     "output_type": "stream",
     "text": [
      "Exact explainer:   8%|▊         | 16/206 [00:14<01:56,  1.63it/s]"
     ]
    },
    {
     "name": "stdout",
     "output_type": "stream",
     "text": [
      "[2025-07-30 03:37:34.721] Start to evalute the model:\n",
      "[2025-07-30 03:37:34.721] Evaluating cascade layer = 0 \n",
      "[2025-07-30 03:37:34.952] Evaluating cascade layer = 1 \n",
      "[2025-07-30 03:37:35.171] Start to evalute the model:\n",
      "[2025-07-30 03:37:35.171] Evaluating cascade layer = 0 \n",
      "[2025-07-30 03:37:35.286] Evaluating cascade layer = 1 \n"
     ]
    },
    {
     "name": "stderr",
     "output_type": "stream",
     "text": [
      "Exact explainer:   8%|▊         | 17/206 [00:14<02:00,  1.57it/s]"
     ]
    },
    {
     "name": "stdout",
     "output_type": "stream",
     "text": [
      "[2025-07-30 03:37:35.408] Start to evalute the model:\n",
      "[2025-07-30 03:37:35.408] Evaluating cascade layer = 0 \n",
      "[2025-07-30 03:37:35.619] Evaluating cascade layer = 1 \n",
      "[2025-07-30 03:37:35.840] Start to evalute the model:\n",
      "[2025-07-30 03:37:35.841] Evaluating cascade layer = 0 \n",
      "[2025-07-30 03:37:36.003] Evaluating cascade layer = 1 \n"
     ]
    },
    {
     "name": "stderr",
     "output_type": "stream",
     "text": [
      "Exact explainer:   9%|▊         | 18/206 [00:15<02:04,  1.51it/s]"
     ]
    },
    {
     "name": "stdout",
     "output_type": "stream",
     "text": [
      "[2025-07-30 03:37:36.119] Start to evalute the model:\n",
      "[2025-07-30 03:37:36.119] Evaluating cascade layer = 0 \n",
      "[2025-07-30 03:37:36.320] Evaluating cascade layer = 1 \n",
      "[2025-07-30 03:37:36.520] Start to evalute the model:\n",
      "[2025-07-30 03:37:36.520] Evaluating cascade layer = 0 \n",
      "[2025-07-30 03:37:36.634] Evaluating cascade layer = 1 \n"
     ]
    },
    {
     "name": "stderr",
     "output_type": "stream",
     "text": [
      "Exact explainer:   9%|▉         | 19/206 [00:16<02:01,  1.53it/s]"
     ]
    },
    {
     "name": "stdout",
     "output_type": "stream",
     "text": [
      "[2025-07-30 03:37:36.755] Start to evalute the model:\n",
      "[2025-07-30 03:37:36.758] Evaluating cascade layer = 0 \n",
      "[2025-07-30 03:37:36.953] Evaluating cascade layer = 1 \n",
      "[2025-07-30 03:37:37.153] Start to evalute the model:\n",
      "[2025-07-30 03:37:37.153] Evaluating cascade layer = 0 \n",
      "[2025-07-30 03:37:37.267] Evaluating cascade layer = 1 \n"
     ]
    },
    {
     "name": "stderr",
     "output_type": "stream",
     "text": [
      "Exact explainer:  10%|▉         | 20/206 [00:16<02:00,  1.55it/s]"
     ]
    },
    {
     "name": "stdout",
     "output_type": "stream",
     "text": [
      "[2025-07-30 03:37:37.390] Start to evalute the model:\n",
      "[2025-07-30 03:37:37.390] Evaluating cascade layer = 0 \n",
      "[2025-07-30 03:37:37.619] Evaluating cascade layer = 1 \n",
      "[2025-07-30 03:37:37.819] Start to evalute the model:\n",
      "[2025-07-30 03:37:37.819] Evaluating cascade layer = 0 \n"
     ]
    },
    {
     "name": "stderr",
     "output_type": "stream",
     "text": [
      "Exact explainer:  10%|█         | 21/206 [00:17<02:00,  1.53it/s]"
     ]
    },
    {
     "name": "stdout",
     "output_type": "stream",
     "text": [
      "[2025-07-30 03:37:37.934] Evaluating cascade layer = 1 \n",
      "[2025-07-30 03:37:38.056] Start to evalute the model:\n",
      "[2025-07-30 03:37:38.056] Evaluating cascade layer = 0 \n",
      "[2025-07-30 03:37:38.266] Evaluating cascade layer = 1 \n",
      "[2025-07-30 03:37:38.454] Start to evalute the model:\n",
      "[2025-07-30 03:37:38.454] Evaluating cascade layer = 0 \n"
     ]
    },
    {
     "name": "stderr",
     "output_type": "stream",
     "text": [
      "Exact explainer:  11%|█         | 22/206 [00:18<01:58,  1.55it/s]"
     ]
    },
    {
     "name": "stdout",
     "output_type": "stream",
     "text": [
      "[2025-07-30 03:37:38.585] Evaluating cascade layer = 1 \n",
      "[2025-07-30 03:37:38.682] Start to evalute the model:\n",
      "[2025-07-30 03:37:38.682] Evaluating cascade layer = 0 \n",
      "[2025-07-30 03:37:38.900] Evaluating cascade layer = 1 \n",
      "[2025-07-30 03:37:39.102] Start to evalute the model:\n",
      "[2025-07-30 03:37:39.102] Evaluating cascade layer = 0 \n",
      "[2025-07-30 03:37:39.217] Evaluating cascade layer = 1 \n"
     ]
    },
    {
     "name": "stderr",
     "output_type": "stream",
     "text": [
      "Exact explainer:  11%|█         | 23/206 [00:18<01:58,  1.54it/s]"
     ]
    },
    {
     "name": "stdout",
     "output_type": "stream",
     "text": [
      "[2025-07-30 03:37:39.340] Start to evalute the model:\n",
      "[2025-07-30 03:37:39.340] Evaluating cascade layer = 0 \n",
      "[2025-07-30 03:37:39.552] Evaluating cascade layer = 1 \n",
      "[2025-07-30 03:37:39.773] Start to evalute the model:\n",
      "[2025-07-30 03:37:39.773] Evaluating cascade layer = 0 \n",
      "[2025-07-30 03:37:39.903] Evaluating cascade layer = 1 \n"
     ]
    },
    {
     "name": "stderr",
     "output_type": "stream",
     "text": [
      "Exact explainer:  12%|█▏        | 24/206 [00:19<02:00,  1.50it/s]"
     ]
    },
    {
     "name": "stdout",
     "output_type": "stream",
     "text": [
      "[2025-07-30 03:37:40.041] Start to evalute the model:\n",
      "[2025-07-30 03:37:40.041] Evaluating cascade layer = 0 \n",
      "[2025-07-30 03:37:40.235] Evaluating cascade layer = 1 \n",
      "[2025-07-30 03:37:40.482] Start to evalute the model:\n",
      "[2025-07-30 03:37:40.482] Evaluating cascade layer = 0 \n",
      "[2025-07-30 03:37:40.603] Evaluating cascade layer = 1 \n"
     ]
    },
    {
     "name": "stderr",
     "output_type": "stream",
     "text": [
      "Exact explainer:  12%|█▏        | 25/206 [00:20<02:00,  1.50it/s]"
     ]
    },
    {
     "name": "stdout",
     "output_type": "stream",
     "text": [
      "[2025-07-30 03:37:40.710] Start to evalute the model:\n",
      "[2025-07-30 03:37:40.721] Evaluating cascade layer = 0 \n",
      "[2025-07-30 03:37:40.932] Evaluating cascade layer = 1 \n",
      "[2025-07-30 03:37:41.155] Start to evalute the model:\n",
      "[2025-07-30 03:37:41.155] Evaluating cascade layer = 0 \n",
      "[2025-07-30 03:37:41.251] Evaluating cascade layer = 1 \n"
     ]
    },
    {
     "name": "stderr",
     "output_type": "stream",
     "text": [
      "Exact explainer:  13%|█▎        | 26/206 [00:20<02:00,  1.50it/s]"
     ]
    },
    {
     "name": "stdout",
     "output_type": "stream",
     "text": [
      "[2025-07-30 03:37:41.388] Start to evalute the model:\n",
      "[2025-07-30 03:37:41.394] Evaluating cascade layer = 0 \n",
      "[2025-07-30 03:37:41.585] Evaluating cascade layer = 1 \n",
      "[2025-07-30 03:37:41.835] Start to evalute the model:\n",
      "[2025-07-30 03:37:41.835] Evaluating cascade layer = 0 \n",
      "[2025-07-30 03:37:41.989] Evaluating cascade layer = 1 \n"
     ]
    },
    {
     "name": "stderr",
     "output_type": "stream",
     "text": [
      "Exact explainer:  13%|█▎        | 27/206 [00:21<02:03,  1.45it/s]"
     ]
    },
    {
     "name": "stdout",
     "output_type": "stream",
     "text": [
      "[2025-07-30 03:37:42.119] Start to evalute the model:\n",
      "[2025-07-30 03:37:42.119] Evaluating cascade layer = 0 \n",
      "[2025-07-30 03:37:42.335] Evaluating cascade layer = 1 \n",
      "[2025-07-30 03:37:42.536] Start to evalute the model:\n",
      "[2025-07-30 03:37:42.536] Evaluating cascade layer = 0 \n",
      "[2025-07-30 03:37:42.669] Evaluating cascade layer = 1 \n"
     ]
    },
    {
     "name": "stderr",
     "output_type": "stream",
     "text": [
      "Exact explainer:  14%|█▎        | 28/206 [00:22<02:01,  1.46it/s]"
     ]
    },
    {
     "name": "stdout",
     "output_type": "stream",
     "text": [
      "[2025-07-30 03:37:42.790] Start to evalute the model:\n",
      "[2025-07-30 03:37:42.790] Evaluating cascade layer = 0 \n",
      "[2025-07-30 03:37:42.987] Evaluating cascade layer = 1 \n",
      "[2025-07-30 03:37:43.186] Start to evalute the model:\n",
      "[2025-07-30 03:37:43.186] Evaluating cascade layer = 0 \n",
      "[2025-07-30 03:37:43.345] Evaluating cascade layer = 1 \n"
     ]
    },
    {
     "name": "stderr",
     "output_type": "stream",
     "text": [
      "Exact explainer:  14%|█▍        | 29/206 [00:22<02:01,  1.45it/s]"
     ]
    },
    {
     "name": "stdout",
     "output_type": "stream",
     "text": [
      "[2025-07-30 03:37:43.492] Start to evalute the model:\n",
      "[2025-07-30 03:37:43.500] Evaluating cascade layer = 0 \n",
      "[2025-07-30 03:37:43.702] Evaluating cascade layer = 1 \n",
      "[2025-07-30 03:37:43.902] Start to evalute the model:\n",
      "[2025-07-30 03:37:43.902] Evaluating cascade layer = 0 \n"
     ]
    },
    {
     "name": "stderr",
     "output_type": "stream",
     "text": [
      "Exact explainer:  15%|█▍        | 30/206 [00:23<01:57,  1.49it/s]"
     ]
    },
    {
     "name": "stdout",
     "output_type": "stream",
     "text": [
      "[2025-07-30 03:37:44.001] Evaluating cascade layer = 1 \n",
      "[2025-07-30 03:37:44.115] Start to evalute the model:\n",
      "[2025-07-30 03:37:44.115] Evaluating cascade layer = 0 \n",
      "[2025-07-30 03:37:44.357] Evaluating cascade layer = 1 \n",
      "[2025-07-30 03:37:44.536] Start to evalute the model:\n",
      "[2025-07-30 03:37:44.536] Evaluating cascade layer = 0 \n"
     ]
    },
    {
     "name": "stderr",
     "output_type": "stream",
     "text": [
      "Exact explainer:  15%|█▌        | 31/206 [00:24<01:55,  1.52it/s]"
     ]
    },
    {
     "name": "stdout",
     "output_type": "stream",
     "text": [
      "[2025-07-30 03:37:44.636] Evaluating cascade layer = 1 \n",
      "[2025-07-30 03:37:44.750] Start to evalute the model:\n",
      "[2025-07-30 03:37:44.772] Evaluating cascade layer = 0 \n",
      "[2025-07-30 03:37:44.983] Evaluating cascade layer = 1 \n",
      "[2025-07-30 03:37:45.170] Start to evalute the model:\n",
      "[2025-07-30 03:37:45.170] Evaluating cascade layer = 0 \n"
     ]
    },
    {
     "name": "stderr",
     "output_type": "stream",
     "text": [
      "Exact explainer:  16%|█▌        | 32/206 [00:24<01:55,  1.51it/s]"
     ]
    },
    {
     "name": "stdout",
     "output_type": "stream",
     "text": [
      "[2025-07-30 03:37:45.301] Evaluating cascade layer = 1 \n",
      "[2025-07-30 03:37:45.422] Start to evalute the model:\n",
      "[2025-07-30 03:37:45.423] Evaluating cascade layer = 0 \n",
      "[2025-07-30 03:37:45.617] Evaluating cascade layer = 1 \n",
      "[2025-07-30 03:37:45.819] Start to evalute the model:\n",
      "[2025-07-30 03:37:45.819] Evaluating cascade layer = 0 \n",
      "[2025-07-30 03:37:45.934] Evaluating cascade layer = 1 \n"
     ]
    },
    {
     "name": "stderr",
     "output_type": "stream",
     "text": [
      "Exact explainer:  16%|█▌        | 33/206 [00:25<01:53,  1.53it/s]"
     ]
    },
    {
     "name": "stdout",
     "output_type": "stream",
     "text": [
      "[2025-07-30 03:37:46.057] Start to evalute the model:\n",
      "[2025-07-30 03:37:46.065] Evaluating cascade layer = 0 \n",
      "[2025-07-30 03:37:46.269] Evaluating cascade layer = 1 \n",
      "[2025-07-30 03:37:46.489] Start to evalute the model:\n",
      "[2025-07-30 03:37:46.489] Evaluating cascade layer = 0 \n",
      "[2025-07-30 03:37:46.604] Evaluating cascade layer = 1 \n"
     ]
    },
    {
     "name": "stderr",
     "output_type": "stream",
     "text": [
      "Exact explainer:  17%|█▋        | 34/206 [00:26<01:52,  1.52it/s]"
     ]
    },
    {
     "name": "stdout",
     "output_type": "stream",
     "text": [
      "[2025-07-30 03:37:46.721] Start to evalute the model:\n",
      "[2025-07-30 03:37:46.728] Evaluating cascade layer = 0 \n",
      "[2025-07-30 03:37:46.920] Evaluating cascade layer = 1 \n",
      "[2025-07-30 03:37:47.136] Start to evalute the model:\n",
      "[2025-07-30 03:37:47.136] Evaluating cascade layer = 0 \n",
      "[2025-07-30 03:37:47.251] Evaluating cascade layer = 1 \n"
     ]
    },
    {
     "name": "stderr",
     "output_type": "stream",
     "text": [
      "Exact explainer:  17%|█▋        | 35/206 [00:26<01:52,  1.52it/s]"
     ]
    },
    {
     "name": "stdout",
     "output_type": "stream",
     "text": [
      "[2025-07-30 03:37:47.375] Start to evalute the model:\n",
      "[2025-07-30 03:37:47.385] Evaluating cascade layer = 0 \n",
      "[2025-07-30 03:37:47.585] Evaluating cascade layer = 1 \n",
      "[2025-07-30 03:37:47.807] Start to evalute the model:\n",
      "[2025-07-30 03:37:47.807] Evaluating cascade layer = 0 \n",
      "[2025-07-30 03:37:47.935] Evaluating cascade layer = 1 \n"
     ]
    },
    {
     "name": "stderr",
     "output_type": "stream",
     "text": [
      "Exact explainer:  17%|█▋        | 36/206 [00:27<01:53,  1.50it/s]"
     ]
    },
    {
     "name": "stdout",
     "output_type": "stream",
     "text": [
      "[2025-07-30 03:37:48.069] Start to evalute the model:\n",
      "[2025-07-30 03:37:48.069] Evaluating cascade layer = 0 \n",
      "[2025-07-30 03:37:48.285] Evaluating cascade layer = 1 \n",
      "[2025-07-30 03:37:48.501] Start to evalute the model:\n",
      "[2025-07-30 03:37:48.501] Evaluating cascade layer = 0 \n",
      "[2025-07-30 03:37:48.637] Evaluating cascade layer = 1 \n"
     ]
    },
    {
     "name": "stderr",
     "output_type": "stream",
     "text": [
      "Exact explainer:  18%|█▊        | 37/206 [00:28<01:53,  1.49it/s]"
     ]
    },
    {
     "name": "stdout",
     "output_type": "stream",
     "text": [
      "[2025-07-30 03:37:48.756] Start to evalute the model:\n",
      "[2025-07-30 03:37:48.759] Evaluating cascade layer = 0 \n",
      "[2025-07-30 03:37:48.986] Evaluating cascade layer = 1 \n",
      "[2025-07-30 03:37:49.236] Start to evalute the model:\n",
      "[2025-07-30 03:37:49.236] Evaluating cascade layer = 0 \n",
      "[2025-07-30 03:37:49.352] Evaluating cascade layer = 1 \n"
     ]
    },
    {
     "name": "stderr",
     "output_type": "stream",
     "text": [
      "Exact explainer:  18%|█▊        | 38/206 [00:28<01:56,  1.45it/s]"
     ]
    },
    {
     "name": "stdout",
     "output_type": "stream",
     "text": [
      "[2025-07-30 03:37:49.491] Start to evalute the model:\n",
      "[2025-07-30 03:37:49.491] Evaluating cascade layer = 0 \n",
      "[2025-07-30 03:37:49.703] Evaluating cascade layer = 1 \n",
      "[2025-07-30 03:37:50.038] Start to evalute the model:\n",
      "[2025-07-30 03:37:50.039] Evaluating cascade layer = 0 \n",
      "[2025-07-30 03:37:50.154] Evaluating cascade layer = 1 \n"
     ]
    },
    {
     "name": "stderr",
     "output_type": "stream",
     "text": [
      "Exact explainer:  19%|█▉        | 39/206 [00:29<02:00,  1.39it/s]"
     ]
    },
    {
     "name": "stdout",
     "output_type": "stream",
     "text": [
      "[2025-07-30 03:37:50.277] Start to evalute the model:\n",
      "[2025-07-30 03:37:50.289] Evaluating cascade layer = 0 \n",
      "[2025-07-30 03:37:50.486] Evaluating cascade layer = 1 \n",
      "[2025-07-30 03:37:50.706] Start to evalute the model:\n",
      "[2025-07-30 03:37:50.706] Evaluating cascade layer = 0 \n",
      "[2025-07-30 03:37:50.835] Evaluating cascade layer = 1 \n"
     ]
    },
    {
     "name": "stderr",
     "output_type": "stream",
     "text": [
      "Exact explainer:  19%|█▉        | 40/206 [00:30<01:58,  1.40it/s]"
     ]
    },
    {
     "name": "stdout",
     "output_type": "stream",
     "text": [
      "[2025-07-30 03:37:50.975] Start to evalute the model:\n",
      "[2025-07-30 03:37:50.975] Evaluating cascade layer = 0 \n",
      "[2025-07-30 03:37:51.185] Evaluating cascade layer = 1 \n",
      "[2025-07-30 03:37:51.406] Start to evalute the model:\n",
      "[2025-07-30 03:37:51.406] Evaluating cascade layer = 0 \n",
      "[2025-07-30 03:37:51.535] Evaluating cascade layer = 1 \n"
     ]
    },
    {
     "name": "stderr",
     "output_type": "stream",
     "text": [
      "Exact explainer:  20%|█▉        | 41/206 [00:31<01:56,  1.42it/s]"
     ]
    },
    {
     "name": "stdout",
     "output_type": "stream",
     "text": [
      "[2025-07-30 03:37:51.657] Start to evalute the model:\n",
      "[2025-07-30 03:37:51.660] Evaluating cascade layer = 0 \n",
      "[2025-07-30 03:37:51.870] Evaluating cascade layer = 1 \n",
      "[2025-07-30 03:37:52.086] Start to evalute the model:\n",
      "[2025-07-30 03:37:52.086] Evaluating cascade layer = 0 \n",
      "[2025-07-30 03:37:52.201] Evaluating cascade layer = 1 \n"
     ]
    },
    {
     "name": "stderr",
     "output_type": "stream",
     "text": [
      "Exact explainer:  20%|██        | 42/206 [00:31<01:53,  1.45it/s]"
     ]
    },
    {
     "name": "stdout",
     "output_type": "stream",
     "text": [
      "[2025-07-30 03:37:52.322] Start to evalute the model:\n",
      "[2025-07-30 03:37:52.324] Evaluating cascade layer = 0 \n",
      "[2025-07-30 03:37:52.537] Evaluating cascade layer = 1 \n",
      "[2025-07-30 03:37:52.749] Start to evalute the model:\n",
      "[2025-07-30 03:37:52.749] Evaluating cascade layer = 0 \n",
      "[2025-07-30 03:37:52.851] Evaluating cascade layer = 1 \n"
     ]
    },
    {
     "name": "stderr",
     "output_type": "stream",
     "text": [
      "Exact explainer:  21%|██        | 43/206 [00:32<01:51,  1.47it/s]"
     ]
    },
    {
     "name": "stdout",
     "output_type": "stream",
     "text": [
      "[2025-07-30 03:37:52.976] Start to evalute the model:\n",
      "[2025-07-30 03:37:52.988] Evaluating cascade layer = 0 \n",
      "[2025-07-30 03:37:53.199] Evaluating cascade layer = 1 \n",
      "[2025-07-30 03:37:53.423] Start to evalute the model:\n",
      "[2025-07-30 03:37:53.423] Evaluating cascade layer = 0 \n",
      "[2025-07-30 03:37:53.553] Evaluating cascade layer = 1 \n"
     ]
    },
    {
     "name": "stderr",
     "output_type": "stream",
     "text": [
      "Exact explainer:  21%|██▏       | 44/206 [00:33<01:51,  1.45it/s]"
     ]
    },
    {
     "name": "stdout",
     "output_type": "stream",
     "text": [
      "[2025-07-30 03:37:53.691] Start to evalute the model:\n",
      "[2025-07-30 03:37:53.691] Evaluating cascade layer = 0 \n",
      "[2025-07-30 03:37:53.935] Evaluating cascade layer = 1 \n",
      "[2025-07-30 03:37:54.139] Start to evalute the model:\n",
      "[2025-07-30 03:37:54.139] Evaluating cascade layer = 0 \n",
      "[2025-07-30 03:37:54.270] Evaluating cascade layer = 1 \n"
     ]
    },
    {
     "name": "stderr",
     "output_type": "stream",
     "text": [
      "Exact explainer:  22%|██▏       | 45/206 [00:33<01:50,  1.45it/s]"
     ]
    },
    {
     "name": "stdout",
     "output_type": "stream",
     "text": [
      "[2025-07-30 03:37:54.377] Start to evalute the model:\n",
      "[2025-07-30 03:37:54.378] Evaluating cascade layer = 0 \n",
      "[2025-07-30 03:37:54.570] Evaluating cascade layer = 1 \n",
      "[2025-07-30 03:37:54.770] Start to evalute the model:\n",
      "[2025-07-30 03:37:54.770] Evaluating cascade layer = 0 \n",
      "[2025-07-30 03:37:54.885] Evaluating cascade layer = 1 \n"
     ]
    },
    {
     "name": "stderr",
     "output_type": "stream",
     "text": [
      "Exact explainer:  22%|██▏       | 46/206 [00:34<01:47,  1.49it/s]"
     ]
    },
    {
     "name": "stdout",
     "output_type": "stream",
     "text": [
      "[2025-07-30 03:37:55.000] Start to evalute the model:\n",
      "[2025-07-30 03:37:55.019] Evaluating cascade layer = 0 \n",
      "[2025-07-30 03:37:55.236] Evaluating cascade layer = 1 \n",
      "[2025-07-30 03:37:55.475] Start to evalute the model:\n",
      "[2025-07-30 03:37:55.475] Evaluating cascade layer = 0 \n",
      "[2025-07-30 03:37:55.587] Evaluating cascade layer = 1 \n"
     ]
    },
    {
     "name": "stderr",
     "output_type": "stream",
     "text": [
      "Exact explainer:  23%|██▎       | 47/206 [00:35<01:47,  1.48it/s]"
     ]
    },
    {
     "name": "stdout",
     "output_type": "stream",
     "text": [
      "[2025-07-30 03:37:55.688] Start to evalute the model:\n",
      "[2025-07-30 03:37:55.688] Evaluating cascade layer = 0 \n",
      "[2025-07-30 03:37:55.886] Evaluating cascade layer = 1 \n",
      "[2025-07-30 03:37:56.086] Start to evalute the model:\n",
      "[2025-07-30 03:37:56.086] Evaluating cascade layer = 0 \n",
      "[2025-07-30 03:37:56.202] Evaluating cascade layer = 1 \n"
     ]
    },
    {
     "name": "stderr",
     "output_type": "stream",
     "text": [
      "Exact explainer:  23%|██▎       | 48/206 [00:35<01:45,  1.50it/s]"
     ]
    },
    {
     "name": "stdout",
     "output_type": "stream",
     "text": [
      "[2025-07-30 03:37:56.342] Start to evalute the model:\n",
      "[2025-07-30 03:37:56.356] Evaluating cascade layer = 0 \n",
      "[2025-07-30 03:37:56.566] Evaluating cascade layer = 1 \n",
      "[2025-07-30 03:37:56.783] Start to evalute the model:\n",
      "[2025-07-30 03:37:56.783] Evaluating cascade layer = 0 \n",
      "[2025-07-30 03:37:56.885] Evaluating cascade layer = 1 \n"
     ]
    },
    {
     "name": "stderr",
     "output_type": "stream",
     "text": [
      "Exact explainer:  24%|██▍       | 49/206 [00:36<01:44,  1.50it/s]"
     ]
    },
    {
     "name": "stdout",
     "output_type": "stream",
     "text": [
      "[2025-07-30 03:37:57.004] Start to evalute the model:\n",
      "[2025-07-30 03:37:57.010] Evaluating cascade layer = 0 \n",
      "[2025-07-30 03:37:57.216] Evaluating cascade layer = 1 \n",
      "[2025-07-30 03:37:57.404] Start to evalute the model:\n",
      "[2025-07-30 03:37:57.404] Evaluating cascade layer = 0 \n"
     ]
    },
    {
     "name": "stderr",
     "output_type": "stream",
     "text": [
      "Exact explainer:  24%|██▍       | 50/206 [00:37<01:42,  1.52it/s]"
     ]
    },
    {
     "name": "stdout",
     "output_type": "stream",
     "text": [
      "[2025-07-30 03:37:57.503] Evaluating cascade layer = 1 \n",
      "[2025-07-30 03:37:57.633] Start to evalute the model:\n",
      "[2025-07-30 03:37:57.633] Evaluating cascade layer = 0 \n",
      "[2025-07-30 03:37:57.850] Evaluating cascade layer = 1 \n",
      "[2025-07-30 03:37:58.055] Start to evalute the model:\n",
      "[2025-07-30 03:37:58.055] Evaluating cascade layer = 0 \n",
      "[2025-07-30 03:37:58.168] Evaluating cascade layer = 1 \n"
     ]
    },
    {
     "name": "stderr",
     "output_type": "stream",
     "text": [
      "Exact explainer:  25%|██▍       | 51/206 [00:37<01:41,  1.53it/s]"
     ]
    },
    {
     "name": "stdout",
     "output_type": "stream",
     "text": [
      "[2025-07-30 03:37:58.289] Start to evalute the model:\n",
      "[2025-07-30 03:37:58.292] Evaluating cascade layer = 0 \n",
      "[2025-07-30 03:37:58.569] Evaluating cascade layer = 1 \n",
      "[2025-07-30 03:37:58.792] Start to evalute the model:\n",
      "[2025-07-30 03:37:58.792] Evaluating cascade layer = 0 \n",
      "[2025-07-30 03:37:58.915] Evaluating cascade layer = 1 \n"
     ]
    },
    {
     "name": "stderr",
     "output_type": "stream",
     "text": [
      "Exact explainer:  25%|██▌       | 52/206 [00:38<01:45,  1.46it/s]"
     ]
    },
    {
     "name": "stdout",
     "output_type": "stream",
     "text": [
      "[2025-07-30 03:37:59.040] Start to evalute the model:\n",
      "[2025-07-30 03:37:59.044] Evaluating cascade layer = 0 \n",
      "[2025-07-30 03:37:59.253] Evaluating cascade layer = 1 \n",
      "[2025-07-30 03:37:59.483] Start to evalute the model:\n",
      "[2025-07-30 03:37:59.483] Evaluating cascade layer = 0 \n",
      "[2025-07-30 03:37:59.585] Evaluating cascade layer = 1 \n"
     ]
    },
    {
     "name": "stderr",
     "output_type": "stream",
     "text": [
      "Exact explainer:  26%|██▌       | 53/206 [00:39<01:44,  1.47it/s]"
     ]
    },
    {
     "name": "stdout",
     "output_type": "stream",
     "text": [
      "[2025-07-30 03:37:59.720] Start to evalute the model:\n",
      "[2025-07-30 03:37:59.726] Evaluating cascade layer = 0 \n",
      "[2025-07-30 03:37:59.936] Evaluating cascade layer = 1 \n",
      "[2025-07-30 03:38:00.170] Start to evalute the model:\n",
      "[2025-07-30 03:38:00.171] Evaluating cascade layer = 0 \n",
      "[2025-07-30 03:38:00.268] Evaluating cascade layer = 1 \n"
     ]
    },
    {
     "name": "stderr",
     "output_type": "stream",
     "text": [
      "Exact explainer:  26%|██▌       | 54/206 [00:39<01:43,  1.47it/s]"
     ]
    },
    {
     "name": "stdout",
     "output_type": "stream",
     "text": [
      "[2025-07-30 03:38:00.390] Start to evalute the model:\n",
      "[2025-07-30 03:38:00.393] Evaluating cascade layer = 0 \n",
      "[2025-07-30 03:38:00.619] Evaluating cascade layer = 1 \n",
      "[2025-07-30 03:38:00.832] Start to evalute the model:\n",
      "[2025-07-30 03:38:00.832] Evaluating cascade layer = 0 \n",
      "[2025-07-30 03:38:00.934] Evaluating cascade layer = 1 \n"
     ]
    },
    {
     "name": "stderr",
     "output_type": "stream",
     "text": [
      "Exact explainer:  27%|██▋       | 55/206 [00:40<01:42,  1.48it/s]"
     ]
    },
    {
     "name": "stdout",
     "output_type": "stream",
     "text": [
      "[2025-07-30 03:38:01.057] Start to evalute the model:\n",
      "[2025-07-30 03:38:01.069] Evaluating cascade layer = 0 \n",
      "[2025-07-30 03:38:01.269] Evaluating cascade layer = 1 \n",
      "[2025-07-30 03:38:01.499] Start to evalute the model:\n",
      "[2025-07-30 03:38:01.499] Evaluating cascade layer = 0 \n",
      "[2025-07-30 03:38:01.619] Evaluating cascade layer = 1 \n"
     ]
    },
    {
     "name": "stderr",
     "output_type": "stream",
     "text": [
      "Exact explainer:  27%|██▋       | 56/206 [00:41<01:41,  1.47it/s]"
     ]
    },
    {
     "name": "stdout",
     "output_type": "stream",
     "text": [
      "[2025-07-30 03:38:01.743] Start to evalute the model:\n",
      "[2025-07-30 03:38:01.754] Evaluating cascade layer = 0 \n",
      "[2025-07-30 03:38:01.952] Evaluating cascade layer = 1 \n",
      "[2025-07-30 03:38:02.174] Start to evalute the model:\n",
      "[2025-07-30 03:38:02.174] Evaluating cascade layer = 0 \n",
      "[2025-07-30 03:38:02.267] Evaluating cascade layer = 1 \n"
     ]
    },
    {
     "name": "stderr",
     "output_type": "stream",
     "text": [
      "Exact explainer:  28%|██▊       | 57/206 [00:41<01:41,  1.47it/s]"
     ]
    },
    {
     "name": "stdout",
     "output_type": "stream",
     "text": [
      "[2025-07-30 03:38:02.427] Start to evalute the model:\n",
      "[2025-07-30 03:38:02.440] Evaluating cascade layer = 0 \n",
      "[2025-07-30 03:38:02.657] Evaluating cascade layer = 1 \n",
      "[2025-07-30 03:38:02.924] Start to evalute the model:\n",
      "[2025-07-30 03:38:02.924] Evaluating cascade layer = 0 \n",
      "[2025-07-30 03:38:03.051] Evaluating cascade layer = 1 \n"
     ]
    },
    {
     "name": "stderr",
     "output_type": "stream",
     "text": [
      "Exact explainer:  28%|██▊       | 58/206 [00:42<01:44,  1.42it/s]"
     ]
    },
    {
     "name": "stdout",
     "output_type": "stream",
     "text": [
      "[2025-07-30 03:38:03.191] Start to evalute the model:\n",
      "[2025-07-30 03:38:03.193] Evaluating cascade layer = 0 \n",
      "[2025-07-30 03:38:03.402] Evaluating cascade layer = 1 \n",
      "[2025-07-30 03:38:03.616] Start to evalute the model:\n",
      "[2025-07-30 03:38:03.616] Evaluating cascade layer = 0 \n",
      "[2025-07-30 03:38:03.736] Evaluating cascade layer = 1 \n"
     ]
    },
    {
     "name": "stderr",
     "output_type": "stream",
     "text": [
      "Exact explainer:  29%|██▊       | 59/206 [00:43<01:42,  1.44it/s]"
     ]
    },
    {
     "name": "stdout",
     "output_type": "stream",
     "text": [
      "[2025-07-30 03:38:03.862] Start to evalute the model:\n",
      "[2025-07-30 03:38:03.872] Evaluating cascade layer = 0 \n",
      "[2025-07-30 03:38:04.082] Evaluating cascade layer = 1 \n",
      "[2025-07-30 03:38:04.300] Start to evalute the model:\n",
      "[2025-07-30 03:38:04.300] Evaluating cascade layer = 0 \n",
      "[2025-07-30 03:38:04.400] Evaluating cascade layer = 1 \n"
     ]
    },
    {
     "name": "stderr",
     "output_type": "stream",
     "text": [
      "Exact explainer:  29%|██▉       | 60/206 [00:44<01:40,  1.46it/s]"
     ]
    },
    {
     "name": "stdout",
     "output_type": "stream",
     "text": [
      "[2025-07-30 03:38:04.531] Start to evalute the model:\n",
      "[2025-07-30 03:38:04.538] Evaluating cascade layer = 0 \n",
      "[2025-07-30 03:38:04.749] Evaluating cascade layer = 1 \n",
      "[2025-07-30 03:38:04.966] Start to evalute the model:\n",
      "[2025-07-30 03:38:04.966] Evaluating cascade layer = 0 \n",
      "[2025-07-30 03:38:05.085] Evaluating cascade layer = 1 \n"
     ]
    },
    {
     "name": "stderr",
     "output_type": "stream",
     "text": [
      "Exact explainer:  30%|██▉       | 61/206 [00:44<01:38,  1.47it/s]"
     ]
    },
    {
     "name": "stdout",
     "output_type": "stream",
     "text": [
      "[2025-07-30 03:38:05.204] Start to evalute the model:\n",
      "[2025-07-30 03:38:05.219] Evaluating cascade layer = 0 \n",
      "[2025-07-30 03:38:05.419] Evaluating cascade layer = 1 \n",
      "[2025-07-30 03:38:05.640] Start to evalute the model:\n",
      "[2025-07-30 03:38:05.640] Evaluating cascade layer = 0 \n",
      "[2025-07-30 03:38:05.768] Evaluating cascade layer = 1 \n"
     ]
    },
    {
     "name": "stderr",
     "output_type": "stream",
     "text": [
      "Exact explainer:  30%|███       | 62/206 [00:45<01:38,  1.46it/s]"
     ]
    },
    {
     "name": "stdout",
     "output_type": "stream",
     "text": [
      "[2025-07-30 03:38:05.890] Start to evalute the model:\n",
      "[2025-07-30 03:38:05.893] Evaluating cascade layer = 0 \n",
      "[2025-07-30 03:38:06.102] Evaluating cascade layer = 1 \n",
      "[2025-07-30 03:38:06.325] Start to evalute the model:\n",
      "[2025-07-30 03:38:06.325] Evaluating cascade layer = 0 \n",
      "[2025-07-30 03:38:06.452] Evaluating cascade layer = 1 \n"
     ]
    },
    {
     "name": "stderr",
     "output_type": "stream",
     "text": [
      "Exact explainer:  31%|███       | 63/206 [00:46<01:36,  1.48it/s]"
     ]
    },
    {
     "name": "stdout",
     "output_type": "stream",
     "text": [
      "[2025-07-30 03:38:06.555] Start to evalute the model:\n",
      "[2025-07-30 03:38:06.562] Evaluating cascade layer = 0 \n",
      "[2025-07-30 03:38:06.770] Evaluating cascade layer = 1 \n",
      "[2025-07-30 03:38:06.990] Start to evalute the model:\n",
      "[2025-07-30 03:38:06.990] Evaluating cascade layer = 0 \n",
      "[2025-07-30 03:38:07.118] Evaluating cascade layer = 1 \n"
     ]
    },
    {
     "name": "stderr",
     "output_type": "stream",
     "text": [
      "Exact explainer:  31%|███       | 64/206 [00:46<01:38,  1.44it/s]"
     ]
    },
    {
     "name": "stdout",
     "output_type": "stream",
     "text": [
      "[2025-07-30 03:38:07.285] Start to evalute the model:\n",
      "[2025-07-30 03:38:07.285] Evaluating cascade layer = 0 \n",
      "[2025-07-30 03:38:07.485] Evaluating cascade layer = 1 \n",
      "[2025-07-30 03:38:07.702] Start to evalute the model:\n",
      "[2025-07-30 03:38:07.702] Evaluating cascade layer = 0 \n",
      "[2025-07-30 03:38:07.835] Evaluating cascade layer = 1 \n"
     ]
    },
    {
     "name": "stderr",
     "output_type": "stream",
     "text": [
      "Exact explainer:  32%|███▏      | 65/206 [00:47<01:37,  1.45it/s]"
     ]
    },
    {
     "name": "stdout",
     "output_type": "stream",
     "text": [
      "[2025-07-30 03:38:07.958] Start to evalute the model:\n",
      "[2025-07-30 03:38:07.969] Evaluating cascade layer = 0 \n",
      "[2025-07-30 03:38:08.170] Evaluating cascade layer = 1 \n",
      "[2025-07-30 03:38:08.391] Start to evalute the model:\n",
      "[2025-07-30 03:38:08.391] Evaluating cascade layer = 0 \n",
      "[2025-07-30 03:38:08.519] Evaluating cascade layer = 1 \n"
     ]
    },
    {
     "name": "stderr",
     "output_type": "stream",
     "text": [
      "Exact explainer:  32%|███▏      | 66/206 [00:48<01:36,  1.46it/s]"
     ]
    },
    {
     "name": "stdout",
     "output_type": "stream",
     "text": [
      "[2025-07-30 03:38:08.644] Start to evalute the model:\n",
      "[2025-07-30 03:38:08.653] Evaluating cascade layer = 0 \n",
      "[2025-07-30 03:38:08.853] Evaluating cascade layer = 1 \n",
      "[2025-07-30 03:38:09.066] Start to evalute the model:\n",
      "[2025-07-30 03:38:09.066] Evaluating cascade layer = 0 \n",
      "[2025-07-30 03:38:09.186] Evaluating cascade layer = 1 \n"
     ]
    },
    {
     "name": "stderr",
     "output_type": "stream",
     "text": [
      "Exact explainer:  33%|███▎      | 67/206 [00:48<01:34,  1.47it/s]"
     ]
    },
    {
     "name": "stdout",
     "output_type": "stream",
     "text": [
      "[2025-07-30 03:38:09.303] Start to evalute the model:\n",
      "[2025-07-30 03:38:09.309] Evaluating cascade layer = 0 \n",
      "[2025-07-30 03:38:09.501] Evaluating cascade layer = 1 \n",
      "[2025-07-30 03:38:09.719] Start to evalute the model:\n",
      "[2025-07-30 03:38:09.719] Evaluating cascade layer = 0 \n",
      "[2025-07-30 03:38:09.851] Evaluating cascade layer = 1 \n"
     ]
    },
    {
     "name": "stderr",
     "output_type": "stream",
     "text": [
      "Exact explainer:  33%|███▎      | 68/206 [00:49<01:33,  1.47it/s]"
     ]
    },
    {
     "name": "stdout",
     "output_type": "stream",
     "text": [
      "[2025-07-30 03:38:09.986] Start to evalute the model:\n",
      "[2025-07-30 03:38:09.986] Evaluating cascade layer = 0 \n",
      "[2025-07-30 03:38:10.187] Evaluating cascade layer = 1 \n",
      "[2025-07-30 03:38:10.407] Start to evalute the model:\n",
      "[2025-07-30 03:38:10.408] Evaluating cascade layer = 0 \n",
      "[2025-07-30 03:38:10.535] Evaluating cascade layer = 1 \n"
     ]
    },
    {
     "name": "stderr",
     "output_type": "stream",
     "text": [
      "Exact explainer:  33%|███▎      | 69/206 [00:50<01:32,  1.48it/s]"
     ]
    },
    {
     "name": "stdout",
     "output_type": "stream",
     "text": [
      "[2025-07-30 03:38:10.646] Start to evalute the model:\n",
      "[2025-07-30 03:38:10.654] Evaluating cascade layer = 0 \n",
      "[2025-07-30 03:38:10.852] Evaluating cascade layer = 1 \n",
      "[2025-07-30 03:38:11.074] Start to evalute the model:\n",
      "[2025-07-30 03:38:11.074] Evaluating cascade layer = 0 \n",
      "[2025-07-30 03:38:11.202] Evaluating cascade layer = 1 \n"
     ]
    },
    {
     "name": "stderr",
     "output_type": "stream",
     "text": [
      "Exact explainer:  34%|███▍      | 70/206 [00:50<01:31,  1.48it/s]"
     ]
    },
    {
     "name": "stdout",
     "output_type": "stream",
     "text": [
      "[2025-07-30 03:38:11.324] Start to evalute the model:\n",
      "[2025-07-30 03:38:11.326] Evaluating cascade layer = 0 \n",
      "[2025-07-30 03:38:11.520] Evaluating cascade layer = 1 \n",
      "[2025-07-30 03:38:11.752] Start to evalute the model:\n",
      "[2025-07-30 03:38:11.752] Evaluating cascade layer = 0 \n",
      "[2025-07-30 03:38:11.867] Evaluating cascade layer = 1 \n"
     ]
    },
    {
     "name": "stderr",
     "output_type": "stream",
     "text": [
      "Exact explainer:  34%|███▍      | 71/206 [00:51<01:32,  1.47it/s]"
     ]
    },
    {
     "name": "stdout",
     "output_type": "stream",
     "text": [
      "[2025-07-30 03:38:12.019] Start to evalute the model:\n",
      "[2025-07-30 03:38:12.019] Evaluating cascade layer = 0 \n",
      "[2025-07-30 03:38:12.249] Evaluating cascade layer = 1 \n",
      "[2025-07-30 03:38:12.473] Start to evalute the model:\n",
      "[2025-07-30 03:38:12.474] Evaluating cascade layer = 0 \n",
      "[2025-07-30 03:38:12.603] Evaluating cascade layer = 1 \n"
     ]
    },
    {
     "name": "stderr",
     "output_type": "stream",
     "text": [
      "Exact explainer:  35%|███▍      | 72/206 [00:52<01:32,  1.44it/s]"
     ]
    },
    {
     "name": "stdout",
     "output_type": "stream",
     "text": [
      "[2025-07-30 03:38:12.743] Start to evalute the model:\n",
      "[2025-07-30 03:38:12.743] Evaluating cascade layer = 0 \n",
      "[2025-07-30 03:38:12.954] Evaluating cascade layer = 1 \n",
      "[2025-07-30 03:38:13.169] Start to evalute the model:\n",
      "[2025-07-30 03:38:13.169] Evaluating cascade layer = 0 \n",
      "[2025-07-30 03:38:13.285] Evaluating cascade layer = 1 \n"
     ]
    },
    {
     "name": "stderr",
     "output_type": "stream",
     "text": [
      "Exact explainer:  35%|███▌      | 73/206 [00:52<01:30,  1.47it/s]"
     ]
    },
    {
     "name": "stdout",
     "output_type": "stream",
     "text": [
      "[2025-07-30 03:38:13.384] Start to evalute the model:\n",
      "[2025-07-30 03:38:13.384] Evaluating cascade layer = 0 \n",
      "[2025-07-30 03:38:13.619] Evaluating cascade layer = 1 \n",
      "[2025-07-30 03:38:13.838] Start to evalute the model:\n",
      "[2025-07-30 03:38:13.839] Evaluating cascade layer = 0 \n",
      "[2025-07-30 03:38:13.953] Evaluating cascade layer = 1 \n"
     ]
    },
    {
     "name": "stderr",
     "output_type": "stream",
     "text": [
      "Exact explainer:  36%|███▌      | 74/206 [00:53<01:29,  1.47it/s]"
     ]
    },
    {
     "name": "stdout",
     "output_type": "stream",
     "text": [
      "[2025-07-30 03:38:14.071] Start to evalute the model:\n",
      "[2025-07-30 03:38:14.083] Evaluating cascade layer = 0 \n",
      "[2025-07-30 03:38:14.299] Evaluating cascade layer = 1 \n",
      "[2025-07-30 03:38:14.516] Start to evalute the model:\n",
      "[2025-07-30 03:38:14.516] Evaluating cascade layer = 0 \n",
      "[2025-07-30 03:38:14.636] Evaluating cascade layer = 1 \n"
     ]
    },
    {
     "name": "stderr",
     "output_type": "stream",
     "text": [
      "Exact explainer:  36%|███▋      | 75/206 [00:54<01:29,  1.46it/s]"
     ]
    },
    {
     "name": "stdout",
     "output_type": "stream",
     "text": [
      "[2025-07-30 03:38:14.761] Start to evalute the model:\n",
      "[2025-07-30 03:38:14.773] Evaluating cascade layer = 0 \n",
      "[2025-07-30 03:38:14.983] Evaluating cascade layer = 1 \n",
      "[2025-07-30 03:38:15.203] Start to evalute the model:\n",
      "[2025-07-30 03:38:15.205] Evaluating cascade layer = 0 \n",
      "[2025-07-30 03:38:15.319] Evaluating cascade layer = 1 \n"
     ]
    },
    {
     "name": "stderr",
     "output_type": "stream",
     "text": [
      "Exact explainer:  37%|███▋      | 76/206 [00:54<01:28,  1.47it/s]"
     ]
    },
    {
     "name": "stdout",
     "output_type": "stream",
     "text": [
      "[2025-07-30 03:38:15.436] Start to evalute the model:\n",
      "[2025-07-30 03:38:15.444] Evaluating cascade layer = 0 \n",
      "[2025-07-30 03:38:15.649] Evaluating cascade layer = 1 \n",
      "[2025-07-30 03:38:15.853] Start to evalute the model:\n",
      "[2025-07-30 03:38:15.853] Evaluating cascade layer = 0 \n",
      "[2025-07-30 03:38:15.967] Evaluating cascade layer = 1 \n"
     ]
    },
    {
     "name": "stderr",
     "output_type": "stream",
     "text": [
      "Exact explainer:  37%|███▋      | 77/206 [00:55<01:26,  1.49it/s]"
     ]
    },
    {
     "name": "stdout",
     "output_type": "stream",
     "text": [
      "[2025-07-30 03:38:16.084] Start to evalute the model:\n",
      "[2025-07-30 03:38:16.084] Evaluating cascade layer = 0 \n",
      "[2025-07-30 03:38:16.319] Evaluating cascade layer = 1 \n",
      "[2025-07-30 03:38:16.516] Start to evalute the model:\n",
      "[2025-07-30 03:38:16.516] Evaluating cascade layer = 0 \n"
     ]
    },
    {
     "name": "stderr",
     "output_type": "stream",
     "text": [
      "Exact explainer:  38%|███▊      | 78/206 [00:56<01:26,  1.48it/s]"
     ]
    },
    {
     "name": "stdout",
     "output_type": "stream",
     "text": [
      "[2025-07-30 03:38:16.652] Evaluating cascade layer = 1 \n",
      "[2025-07-30 03:38:16.768] Start to evalute the model:\n",
      "[2025-07-30 03:38:16.768] Evaluating cascade layer = 0 \n",
      "[2025-07-30 03:38:16.983] Evaluating cascade layer = 1 \n",
      "[2025-07-30 03:38:17.174] Start to evalute the model:\n",
      "[2025-07-30 03:38:17.174] Evaluating cascade layer = 0 \n"
     ]
    },
    {
     "name": "stderr",
     "output_type": "stream",
     "text": [
      "Exact explainer:  38%|███▊      | 79/206 [00:56<01:24,  1.49it/s]"
     ]
    },
    {
     "name": "stdout",
     "output_type": "stream",
     "text": [
      "[2025-07-30 03:38:17.301] Evaluating cascade layer = 1 \n",
      "[2025-07-30 03:38:17.422] Start to evalute the model:\n",
      "[2025-07-30 03:38:17.422] Evaluating cascade layer = 0 \n",
      "[2025-07-30 03:38:17.602] Evaluating cascade layer = 1 \n",
      "[2025-07-30 03:38:17.790] Start to evalute the model:\n",
      "[2025-07-30 03:38:17.790] Evaluating cascade layer = 0 \n"
     ]
    },
    {
     "name": "stderr",
     "output_type": "stream",
     "text": [
      "Exact explainer:  39%|███▉      | 80/206 [00:57<01:21,  1.55it/s]"
     ]
    },
    {
     "name": "stdout",
     "output_type": "stream",
     "text": [
      "[2025-07-30 03:38:17.902] Evaluating cascade layer = 1 \n",
      "[2025-07-30 03:38:18.018] Start to evalute the model:\n",
      "[2025-07-30 03:38:18.018] Evaluating cascade layer = 0 \n",
      "[2025-07-30 03:38:18.256] Evaluating cascade layer = 1 \n",
      "[2025-07-30 03:38:18.455] Start to evalute the model:\n",
      "[2025-07-30 03:38:18.456] Evaluating cascade layer = 0 \n"
     ]
    },
    {
     "name": "stderr",
     "output_type": "stream",
     "text": [
      "Exact explainer:  39%|███▉      | 81/206 [00:58<01:21,  1.53it/s]"
     ]
    },
    {
     "name": "stdout",
     "output_type": "stream",
     "text": [
      "[2025-07-30 03:38:18.551] Evaluating cascade layer = 1 \n",
      "[2025-07-30 03:38:18.689] Start to evalute the model:\n",
      "[2025-07-30 03:38:18.705] Evaluating cascade layer = 0 \n",
      "[2025-07-30 03:38:18.922] Evaluating cascade layer = 1 \n",
      "[2025-07-30 03:38:19.122] Start to evalute the model:\n",
      "[2025-07-30 03:38:19.122] Evaluating cascade layer = 0 \n",
      "[2025-07-30 03:38:19.238] Evaluating cascade layer = 1 \n"
     ]
    },
    {
     "name": "stderr",
     "output_type": "stream",
     "text": [
      "Exact explainer:  40%|███▉      | 82/206 [00:58<01:21,  1.52it/s]"
     ]
    },
    {
     "name": "stdout",
     "output_type": "stream",
     "text": [
      "[2025-07-30 03:38:19.354] Start to evalute the model:\n",
      "[2025-07-30 03:38:19.368] Evaluating cascade layer = 0 \n",
      "[2025-07-30 03:38:19.570] Evaluating cascade layer = 1 \n",
      "[2025-07-30 03:38:19.782] Start to evalute the model:\n",
      "[2025-07-30 03:38:19.782] Evaluating cascade layer = 0 \n",
      "[2025-07-30 03:38:19.884] Evaluating cascade layer = 1 \n"
     ]
    },
    {
     "name": "stderr",
     "output_type": "stream",
     "text": [
      "Exact explainer:  40%|████      | 83/206 [00:59<01:21,  1.51it/s]"
     ]
    },
    {
     "name": "stdout",
     "output_type": "stream",
     "text": [
      "[2025-07-30 03:38:20.023] Start to evalute the model:\n",
      "[2025-07-30 03:38:20.023] Evaluating cascade layer = 0 \n",
      "[2025-07-30 03:38:20.237] Evaluating cascade layer = 1 \n",
      "[2025-07-30 03:38:20.522] Start to evalute the model:\n",
      "[2025-07-30 03:38:20.523] Evaluating cascade layer = 0 \n",
      "[2025-07-30 03:38:20.636] Evaluating cascade layer = 1 \n"
     ]
    },
    {
     "name": "stderr",
     "output_type": "stream",
     "text": [
      "Exact explainer:  41%|████      | 84/206 [01:00<01:23,  1.47it/s]"
     ]
    },
    {
     "name": "stdout",
     "output_type": "stream",
     "text": [
      "[2025-07-30 03:38:20.757] Start to evalute the model:\n",
      "[2025-07-30 03:38:20.757] Evaluating cascade layer = 0 \n",
      "[2025-07-30 03:38:20.986] Evaluating cascade layer = 1 \n",
      "[2025-07-30 03:38:21.229] Start to evalute the model:\n",
      "[2025-07-30 03:38:21.230] Evaluating cascade layer = 0 \n",
      "[2025-07-30 03:38:21.352] Evaluating cascade layer = 1 \n"
     ]
    },
    {
     "name": "stderr",
     "output_type": "stream",
     "text": [
      "Exact explainer:  41%|████▏     | 85/206 [01:00<01:23,  1.44it/s]"
     ]
    },
    {
     "name": "stdout",
     "output_type": "stream",
     "text": [
      "[2025-07-30 03:38:21.473] Start to evalute the model:\n",
      "[2025-07-30 03:38:21.477] Evaluating cascade layer = 0 \n",
      "[2025-07-30 03:38:21.719] Evaluating cascade layer = 1 \n",
      "[2025-07-30 03:38:21.944] Start to evalute the model:\n",
      "[2025-07-30 03:38:21.945] Evaluating cascade layer = 0 \n",
      "[2025-07-30 03:38:22.069] Evaluating cascade layer = 1 \n"
     ]
    },
    {
     "name": "stderr",
     "output_type": "stream",
     "text": [
      "Exact explainer:  42%|████▏     | 86/206 [01:01<01:24,  1.43it/s]"
     ]
    },
    {
     "name": "stdout",
     "output_type": "stream",
     "text": [
      "[2025-07-30 03:38:22.194] Start to evalute the model:\n",
      "[2025-07-30 03:38:22.202] Evaluating cascade layer = 0 \n",
      "[2025-07-30 03:38:22.416] Evaluating cascade layer = 1 \n",
      "[2025-07-30 03:38:22.671] Start to evalute the model:\n",
      "[2025-07-30 03:38:22.672] Evaluating cascade layer = 0 \n",
      "[2025-07-30 03:38:22.804] Evaluating cascade layer = 1 \n"
     ]
    },
    {
     "name": "stderr",
     "output_type": "stream",
     "text": [
      "Exact explainer:  42%|████▏     | 87/206 [01:02<01:24,  1.40it/s]"
     ]
    },
    {
     "name": "stdout",
     "output_type": "stream",
     "text": [
      "[2025-07-30 03:38:22.928] Start to evalute the model:\n",
      "[2025-07-30 03:38:22.939] Evaluating cascade layer = 0 \n",
      "[2025-07-30 03:38:23.120] Evaluating cascade layer = 1 \n",
      "[2025-07-30 03:38:23.306] Start to evalute the model:\n",
      "[2025-07-30 03:38:23.306] Evaluating cascade layer = 0 \n",
      "[2025-07-30 03:38:23.436] Evaluating cascade layer = 1 \n"
     ]
    },
    {
     "name": "stderr",
     "output_type": "stream",
     "text": [
      "Exact explainer:  43%|████▎     | 88/206 [01:03<01:20,  1.46it/s]"
     ]
    },
    {
     "name": "stdout",
     "output_type": "stream",
     "text": [
      "[2025-07-30 03:38:23.557] Start to evalute the model:\n",
      "[2025-07-30 03:38:23.561] Evaluating cascade layer = 0 \n",
      "[2025-07-30 03:38:23.737] Evaluating cascade layer = 1 \n",
      "[2025-07-30 03:38:23.952] Start to evalute the model:\n",
      "[2025-07-30 03:38:23.952] Evaluating cascade layer = 0 \n",
      "[2025-07-30 03:38:24.069] Evaluating cascade layer = 1 \n"
     ]
    },
    {
     "name": "stderr",
     "output_type": "stream",
     "text": [
      "Exact explainer:  43%|████▎     | 89/206 [01:03<01:18,  1.49it/s]"
     ]
    },
    {
     "name": "stdout",
     "output_type": "stream",
     "text": [
      "[2025-07-30 03:38:24.197] Start to evalute the model:\n",
      "[2025-07-30 03:38:24.208] Evaluating cascade layer = 0 \n",
      "[2025-07-30 03:38:24.458] Evaluating cascade layer = 1 \n",
      "[2025-07-30 03:38:24.689] Start to evalute the model:\n",
      "[2025-07-30 03:38:24.689] Evaluating cascade layer = 0 \n",
      "[2025-07-30 03:38:24.787] Evaluating cascade layer = 1 \n"
     ]
    },
    {
     "name": "stderr",
     "output_type": "stream",
     "text": [
      "Exact explainer:  44%|████▎     | 90/206 [01:04<01:19,  1.45it/s]"
     ]
    },
    {
     "name": "stdout",
     "output_type": "stream",
     "text": [
      "[2025-07-30 03:38:24.925] Start to evalute the model:\n",
      "[2025-07-30 03:38:24.928] Evaluating cascade layer = 0 \n",
      "[2025-07-30 03:38:25.137] Evaluating cascade layer = 1 \n",
      "[2025-07-30 03:38:25.349] Start to evalute the model:\n",
      "[2025-07-30 03:38:25.349] Evaluating cascade layer = 0 \n",
      "[2025-07-30 03:38:25.468] Evaluating cascade layer = 1 \n"
     ]
    },
    {
     "name": "stderr",
     "output_type": "stream",
     "text": [
      "Exact explainer:  44%|████▍     | 91/206 [01:05<01:18,  1.46it/s]"
     ]
    },
    {
     "name": "stdout",
     "output_type": "stream",
     "text": [
      "[2025-07-30 03:38:25.594] Start to evalute the model:\n",
      "[2025-07-30 03:38:25.604] Evaluating cascade layer = 0 \n",
      "[2025-07-30 03:38:25.819] Evaluating cascade layer = 1 \n",
      "[2025-07-30 03:38:26.033] Start to evalute the model:\n",
      "[2025-07-30 03:38:26.033] Evaluating cascade layer = 0 \n",
      "[2025-07-30 03:38:26.153] Evaluating cascade layer = 1 \n"
     ]
    },
    {
     "name": "stderr",
     "output_type": "stream",
     "text": [
      "Exact explainer:  45%|████▍     | 92/206 [01:05<01:17,  1.48it/s]"
     ]
    },
    {
     "name": "stdout",
     "output_type": "stream",
     "text": [
      "[2025-07-30 03:38:26.256] Start to evalute the model:\n",
      "[2025-07-30 03:38:26.256] Evaluating cascade layer = 0 \n",
      "[2025-07-30 03:38:26.502] Evaluating cascade layer = 1 \n",
      "[2025-07-30 03:38:26.705] Start to evalute the model:\n",
      "[2025-07-30 03:38:26.706] Evaluating cascade layer = 0 \n",
      "[2025-07-30 03:38:26.818] Evaluating cascade layer = 1 \n"
     ]
    },
    {
     "name": "stderr",
     "output_type": "stream",
     "text": [
      "Exact explainer:  45%|████▌     | 93/206 [01:06<01:16,  1.47it/s]"
     ]
    },
    {
     "name": "stdout",
     "output_type": "stream",
     "text": [
      "[2025-07-30 03:38:26.938] Start to evalute the model:\n",
      "[2025-07-30 03:38:26.938] Evaluating cascade layer = 0 \n",
      "[2025-07-30 03:38:27.166] Evaluating cascade layer = 1 \n",
      "[2025-07-30 03:38:27.383] Start to evalute the model:\n",
      "[2025-07-30 03:38:27.383] Evaluating cascade layer = 0 \n",
      "[2025-07-30 03:38:27.521] Evaluating cascade layer = 1 \n"
     ]
    },
    {
     "name": "stderr",
     "output_type": "stream",
     "text": [
      "Exact explainer:  46%|████▌     | 94/206 [01:07<01:16,  1.46it/s]"
     ]
    },
    {
     "name": "stdout",
     "output_type": "stream",
     "text": [
      "[2025-07-30 03:38:27.640] Start to evalute the model:\n",
      "[2025-07-30 03:38:27.644] Evaluating cascade layer = 0 \n",
      "[2025-07-30 03:38:27.952] Evaluating cascade layer = 1 \n",
      "[2025-07-30 03:38:28.156] Start to evalute the model:\n",
      "[2025-07-30 03:38:28.156] Evaluating cascade layer = 0 \n",
      "[2025-07-30 03:38:28.267] Evaluating cascade layer = 1 \n"
     ]
    },
    {
     "name": "stderr",
     "output_type": "stream",
     "text": [
      "Exact explainer:  46%|████▌     | 95/206 [01:07<01:18,  1.41it/s]"
     ]
    },
    {
     "name": "stdout",
     "output_type": "stream",
     "text": [
      "[2025-07-30 03:38:28.406] Start to evalute the model:\n",
      "[2025-07-30 03:38:28.407] Evaluating cascade layer = 0 \n",
      "[2025-07-30 03:38:28.636] Evaluating cascade layer = 1 \n",
      "[2025-07-30 03:38:28.903] Start to evalute the model:\n",
      "[2025-07-30 03:38:28.903] Evaluating cascade layer = 0 \n",
      "[2025-07-30 03:38:29.019] Evaluating cascade layer = 1 \n"
     ]
    },
    {
     "name": "stderr",
     "output_type": "stream",
     "text": [
      "Exact explainer:  47%|████▋     | 96/206 [01:08<01:18,  1.39it/s]"
     ]
    },
    {
     "name": "stdout",
     "output_type": "stream",
     "text": [
      "[2025-07-30 03:38:29.142] Start to evalute the model:\n",
      "[2025-07-30 03:38:29.142] Evaluating cascade layer = 0 \n",
      "[2025-07-30 03:38:29.366] Evaluating cascade layer = 1 \n",
      "[2025-07-30 03:38:29.570] Start to evalute the model:\n",
      "[2025-07-30 03:38:29.570] Evaluating cascade layer = 0 \n",
      "[2025-07-30 03:38:29.684] Evaluating cascade layer = 1 \n"
     ]
    },
    {
     "name": "stderr",
     "output_type": "stream",
     "text": [
      "Exact explainer:  47%|████▋     | 97/206 [01:09<01:16,  1.43it/s]"
     ]
    },
    {
     "name": "stdout",
     "output_type": "stream",
     "text": [
      "[2025-07-30 03:38:29.800] Start to evalute the model:\n",
      "[2025-07-30 03:38:29.800] Evaluating cascade layer = 0 \n",
      "[2025-07-30 03:38:30.086] Evaluating cascade layer = 1 \n",
      "[2025-07-30 03:38:30.289] Start to evalute the model:\n",
      "[2025-07-30 03:38:30.289] Evaluating cascade layer = 0 \n",
      "[2025-07-30 03:38:30.401] Evaluating cascade layer = 1 \n"
     ]
    },
    {
     "name": "stderr",
     "output_type": "stream",
     "text": [
      "Exact explainer:  48%|████▊     | 98/206 [01:10<01:16,  1.41it/s]"
     ]
    },
    {
     "name": "stdout",
     "output_type": "stream",
     "text": [
      "[2025-07-30 03:38:30.540] Start to evalute the model:\n",
      "[2025-07-30 03:38:30.544] Evaluating cascade layer = 0 \n",
      "[2025-07-30 03:38:30.720] Evaluating cascade layer = 1 \n",
      "[2025-07-30 03:38:30.905] Start to evalute the model:\n",
      "[2025-07-30 03:38:30.905] Evaluating cascade layer = 0 \n",
      "[2025-07-30 03:38:31.035] Evaluating cascade layer = 1 \n"
     ]
    },
    {
     "name": "stderr",
     "output_type": "stream",
     "text": [
      "Exact explainer:  48%|████▊     | 99/206 [01:10<01:13,  1.45it/s]"
     ]
    },
    {
     "name": "stdout",
     "output_type": "stream",
     "text": [
      "[2025-07-30 03:38:31.169] Start to evalute the model:\n",
      "[2025-07-30 03:38:31.169] Evaluating cascade layer = 0 \n",
      "[2025-07-30 03:38:31.399] Evaluating cascade layer = 1 \n",
      "[2025-07-30 03:38:31.623] Start to evalute the model:\n",
      "[2025-07-30 03:38:31.624] Evaluating cascade layer = 0 \n",
      "[2025-07-30 03:38:31.733] Evaluating cascade layer = 1 \n"
     ]
    },
    {
     "name": "stderr",
     "output_type": "stream",
     "text": [
      "Exact explainer:  49%|████▊     | 100/206 [01:11<01:13,  1.44it/s]"
     ]
    },
    {
     "name": "stdout",
     "output_type": "stream",
     "text": [
      "[2025-07-30 03:38:31.876] Start to evalute the model:\n",
      "[2025-07-30 03:38:31.878] Evaluating cascade layer = 0 \n",
      "[2025-07-30 03:38:32.099] Evaluating cascade layer = 1 \n",
      "[2025-07-30 03:38:32.319] Start to evalute the model:\n",
      "[2025-07-30 03:38:32.319] Evaluating cascade layer = 0 \n",
      "[2025-07-30 03:38:32.435] Evaluating cascade layer = 1 \n"
     ]
    },
    {
     "name": "stderr",
     "output_type": "stream",
     "text": [
      "Exact explainer:  49%|████▉     | 101/206 [01:12<01:12,  1.45it/s]"
     ]
    },
    {
     "name": "stdout",
     "output_type": "stream",
     "text": [
      "[2025-07-30 03:38:32.555] Start to evalute the model:\n",
      "[2025-07-30 03:38:32.568] Evaluating cascade layer = 0 \n",
      "[2025-07-30 03:38:32.769] Evaluating cascade layer = 1 \n",
      "[2025-07-30 03:38:32.989] Start to evalute the model:\n",
      "[2025-07-30 03:38:32.991] Evaluating cascade layer = 0 \n",
      "[2025-07-30 03:38:33.084] Evaluating cascade layer = 1 \n"
     ]
    },
    {
     "name": "stderr",
     "output_type": "stream",
     "text": [
      "Exact explainer:  50%|████▉     | 102/206 [01:12<01:10,  1.48it/s]"
     ]
    },
    {
     "name": "stdout",
     "output_type": "stream",
     "text": [
      "[2025-07-30 03:38:33.204] Start to evalute the model:\n",
      "[2025-07-30 03:38:33.204] Evaluating cascade layer = 0 \n",
      "[2025-07-30 03:38:33.485] Evaluating cascade layer = 1 \n",
      "[2025-07-30 03:38:33.688] Start to evalute the model:\n",
      "[2025-07-30 03:38:33.688] Evaluating cascade layer = 0 \n",
      "[2025-07-30 03:38:33.785] Evaluating cascade layer = 1 \n"
     ]
    },
    {
     "name": "stderr",
     "output_type": "stream",
     "text": [
      "Exact explainer:  50%|█████     | 103/206 [01:13<01:10,  1.46it/s]"
     ]
    },
    {
     "name": "stdout",
     "output_type": "stream",
     "text": [
      "[2025-07-30 03:38:33.901] Start to evalute the model:\n",
      "[2025-07-30 03:38:33.901] Evaluating cascade layer = 0 \n",
      "[2025-07-30 03:38:34.121] Evaluating cascade layer = 1 \n",
      "[2025-07-30 03:38:34.333] Start to evalute the model:\n",
      "[2025-07-30 03:38:34.333] Evaluating cascade layer = 0 \n",
      "[2025-07-30 03:38:34.452] Evaluating cascade layer = 1 \n"
     ]
    },
    {
     "name": "stderr",
     "output_type": "stream",
     "text": [
      "Exact explainer:  50%|█████     | 104/206 [01:14<01:08,  1.48it/s]"
     ]
    },
    {
     "name": "stdout",
     "output_type": "stream",
     "text": [
      "[2025-07-30 03:38:34.565] Start to evalute the model:\n",
      "[2025-07-30 03:38:34.572] Evaluating cascade layer = 0 \n",
      "[2025-07-30 03:38:34.786] Evaluating cascade layer = 1 \n",
      "[2025-07-30 03:38:34.982] Start to evalute the model:\n",
      "[2025-07-30 03:38:34.982] Evaluating cascade layer = 0 \n"
     ]
    },
    {
     "name": "stderr",
     "output_type": "stream",
     "text": [
      "Exact explainer:  51%|█████     | 105/206 [01:14<01:07,  1.50it/s]"
     ]
    },
    {
     "name": "stdout",
     "output_type": "stream",
     "text": [
      "[2025-07-30 03:38:35.100] Evaluating cascade layer = 1 \n",
      "[2025-07-30 03:38:35.199] Start to evalute the model:\n",
      "[2025-07-30 03:38:35.199] Evaluating cascade layer = 0 \n",
      "[2025-07-30 03:38:35.416] Evaluating cascade layer = 1 \n",
      "[2025-07-30 03:38:35.621] Start to evalute the model:\n",
      "[2025-07-30 03:38:35.621] Evaluating cascade layer = 0 \n",
      "[2025-07-30 03:38:35.734] Evaluating cascade layer = 1 \n"
     ]
    },
    {
     "name": "stderr",
     "output_type": "stream",
     "text": [
      "Exact explainer:  51%|█████▏    | 106/206 [01:15<01:05,  1.52it/s]"
     ]
    },
    {
     "name": "stdout",
     "output_type": "stream",
     "text": [
      "[2025-07-30 03:38:35.835] Start to evalute the model:\n",
      "[2025-07-30 03:38:35.835] Evaluating cascade layer = 0 \n",
      "[2025-07-30 03:38:36.069] Evaluating cascade layer = 1 \n",
      "[2025-07-30 03:38:36.266] Start to evalute the model:\n",
      "[2025-07-30 03:38:36.266] Evaluating cascade layer = 0 \n"
     ]
    },
    {
     "name": "stderr",
     "output_type": "stream",
     "text": [
      "Exact explainer:  52%|█████▏    | 107/206 [01:15<01:04,  1.53it/s]"
     ]
    },
    {
     "name": "stdout",
     "output_type": "stream",
     "text": [
      "[2025-07-30 03:38:36.384] Evaluating cascade layer = 1 \n",
      "[2025-07-30 03:38:36.485] Start to evalute the model:\n",
      "[2025-07-30 03:38:36.485] Evaluating cascade layer = 0 \n",
      "[2025-07-30 03:38:36.735] Evaluating cascade layer = 1 \n",
      "[2025-07-30 03:38:36.956] Start to evalute the model:\n",
      "[2025-07-30 03:38:36.956] Evaluating cascade layer = 0 \n",
      "[2025-07-30 03:38:37.051] Evaluating cascade layer = 1 \n"
     ]
    },
    {
     "name": "stderr",
     "output_type": "stream",
     "text": [
      "Exact explainer:  52%|█████▏    | 108/206 [01:16<01:04,  1.51it/s]"
     ]
    },
    {
     "name": "stdout",
     "output_type": "stream",
     "text": [
      "[2025-07-30 03:38:37.171] Start to evalute the model:\n",
      "[2025-07-30 03:38:37.177] Evaluating cascade layer = 0 \n",
      "[2025-07-30 03:38:37.370] Evaluating cascade layer = 1 \n",
      "[2025-07-30 03:38:37.616] Start to evalute the model:\n",
      "[2025-07-30 03:38:37.616] Evaluating cascade layer = 0 \n",
      "[2025-07-30 03:38:37.735] Evaluating cascade layer = 1 \n"
     ]
    },
    {
     "name": "stderr",
     "output_type": "stream",
     "text": [
      "Exact explainer:  53%|█████▎    | 109/206 [01:17<01:04,  1.50it/s]"
     ]
    },
    {
     "name": "stdout",
     "output_type": "stream",
     "text": [
      "[2025-07-30 03:38:37.853] Start to evalute the model:\n",
      "[2025-07-30 03:38:37.858] Evaluating cascade layer = 0 \n",
      "[2025-07-30 03:38:38.051] Evaluating cascade layer = 1 \n",
      "[2025-07-30 03:38:38.254] Start to evalute the model:\n",
      "[2025-07-30 03:38:38.254] Evaluating cascade layer = 0 \n",
      "[2025-07-30 03:38:38.382] Evaluating cascade layer = 1 \n"
     ]
    },
    {
     "name": "stderr",
     "output_type": "stream",
     "text": [
      "Exact explainer:  53%|█████▎    | 110/206 [01:17<01:03,  1.52it/s]"
     ]
    },
    {
     "name": "stdout",
     "output_type": "stream",
     "text": [
      "[2025-07-30 03:38:38.490] Start to evalute the model:\n",
      "[2025-07-30 03:38:38.491] Evaluating cascade layer = 0 \n",
      "[2025-07-30 03:38:38.704] Evaluating cascade layer = 1 \n",
      "[2025-07-30 03:38:38.916] Start to evalute the model:\n",
      "[2025-07-30 03:38:38.916] Evaluating cascade layer = 0 \n",
      "[2025-07-30 03:38:39.016] Evaluating cascade layer = 1 \n"
     ]
    },
    {
     "name": "stderr",
     "output_type": "stream",
     "text": [
      "Exact explainer:  54%|█████▍    | 111/206 [01:18<01:02,  1.51it/s]"
     ]
    },
    {
     "name": "stdout",
     "output_type": "stream",
     "text": [
      "[2025-07-30 03:38:39.160] Start to evalute the model:\n",
      "[2025-07-30 03:38:39.160] Evaluating cascade layer = 0 \n",
      "[2025-07-30 03:38:39.402] Evaluating cascade layer = 1 \n",
      "[2025-07-30 03:38:39.605] Start to evalute the model:\n",
      "[2025-07-30 03:38:39.605] Evaluating cascade layer = 0 \n",
      "[2025-07-30 03:38:39.721] Evaluating cascade layer = 1 \n"
     ]
    },
    {
     "name": "stderr",
     "output_type": "stream",
     "text": [
      "Exact explainer:  54%|█████▍    | 112/206 [01:19<01:03,  1.49it/s]"
     ]
    },
    {
     "name": "stdout",
     "output_type": "stream",
     "text": [
      "[2025-07-30 03:38:39.851] Start to evalute the model:\n",
      "[2025-07-30 03:38:39.861] Evaluating cascade layer = 0 \n",
      "[2025-07-30 03:38:40.102] Evaluating cascade layer = 1 \n",
      "[2025-07-30 03:38:40.305] Start to evalute the model:\n",
      "[2025-07-30 03:38:40.306] Evaluating cascade layer = 0 \n",
      "[2025-07-30 03:38:40.422] Evaluating cascade layer = 1 \n"
     ]
    },
    {
     "name": "stderr",
     "output_type": "stream",
     "text": [
      "Exact explainer:  55%|█████▍    | 113/206 [01:20<01:03,  1.47it/s]"
     ]
    },
    {
     "name": "stdout",
     "output_type": "stream",
     "text": [
      "[2025-07-30 03:38:40.562] Start to evalute the model:\n",
      "[2025-07-30 03:38:40.570] Evaluating cascade layer = 0 \n",
      "[2025-07-30 03:38:40.786] Evaluating cascade layer = 1 \n",
      "[2025-07-30 03:38:40.999] Start to evalute the model:\n",
      "[2025-07-30 03:38:40.999] Evaluating cascade layer = 0 \n",
      "[2025-07-30 03:38:41.102] Evaluating cascade layer = 1 \n"
     ]
    },
    {
     "name": "stderr",
     "output_type": "stream",
     "text": [
      "Exact explainer:  55%|█████▌    | 114/206 [01:20<01:02,  1.46it/s]"
     ]
    },
    {
     "name": "stdout",
     "output_type": "stream",
     "text": [
      "[2025-07-30 03:38:41.244] Start to evalute the model:\n",
      "[2025-07-30 03:38:41.245] Evaluating cascade layer = 0 \n",
      "[2025-07-30 03:38:41.466] Evaluating cascade layer = 1 \n",
      "[2025-07-30 03:38:41.690] Start to evalute the model:\n",
      "[2025-07-30 03:38:41.691] Evaluating cascade layer = 0 \n",
      "[2025-07-30 03:38:41.800] Evaluating cascade layer = 1 \n"
     ]
    },
    {
     "name": "stderr",
     "output_type": "stream",
     "text": [
      "Exact explainer:  56%|█████▌    | 115/206 [01:21<01:02,  1.47it/s]"
     ]
    },
    {
     "name": "stdout",
     "output_type": "stream",
     "text": [
      "[2025-07-30 03:38:41.922] Start to evalute the model:\n",
      "[2025-07-30 03:38:41.923] Evaluating cascade layer = 0 \n",
      "[2025-07-30 03:38:42.185] Evaluating cascade layer = 1 \n",
      "[2025-07-30 03:38:42.385] Start to evalute the model:\n",
      "[2025-07-30 03:38:42.386] Evaluating cascade layer = 0 \n"
     ]
    },
    {
     "name": "stderr",
     "output_type": "stream",
     "text": [
      "Exact explainer:  56%|█████▋    | 116/206 [01:22<01:01,  1.46it/s]"
     ]
    },
    {
     "name": "stdout",
     "output_type": "stream",
     "text": [
      "[2025-07-30 03:38:42.485] Evaluating cascade layer = 1 \n",
      "[2025-07-30 03:38:42.607] Start to evalute the model:\n",
      "[2025-07-30 03:38:42.623] Evaluating cascade layer = 0 \n",
      "[2025-07-30 03:38:42.855] Evaluating cascade layer = 1 \n",
      "[2025-07-30 03:38:43.075] Start to evalute the model:\n",
      "[2025-07-30 03:38:43.076] Evaluating cascade layer = 0 \n",
      "[2025-07-30 03:38:43.168] Evaluating cascade layer = 1 \n"
     ]
    },
    {
     "name": "stderr",
     "output_type": "stream",
     "text": [
      "Exact explainer:  57%|█████▋    | 117/206 [01:22<01:00,  1.47it/s]"
     ]
    },
    {
     "name": "stdout",
     "output_type": "stream",
     "text": [
      "[2025-07-30 03:38:43.278] Start to evalute the model:\n",
      "[2025-07-30 03:38:43.278] Evaluating cascade layer = 0 \n",
      "[2025-07-30 03:38:43.487] Evaluating cascade layer = 1 \n",
      "[2025-07-30 03:38:43.707] Start to evalute the model:\n",
      "[2025-07-30 03:38:43.707] Evaluating cascade layer = 0 \n",
      "[2025-07-30 03:38:43.801] Evaluating cascade layer = 1 \n"
     ]
    },
    {
     "name": "stderr",
     "output_type": "stream",
     "text": [
      "Exact explainer:  57%|█████▋    | 118/206 [01:23<00:58,  1.50it/s]"
     ]
    },
    {
     "name": "stdout",
     "output_type": "stream",
     "text": [
      "[2025-07-30 03:38:43.918] Start to evalute the model:\n",
      "[2025-07-30 03:38:43.918] Evaluating cascade layer = 0 \n",
      "[2025-07-30 03:38:44.137] Evaluating cascade layer = 1 \n",
      "[2025-07-30 03:38:44.352] Start to evalute the model:\n",
      "[2025-07-30 03:38:44.352] Evaluating cascade layer = 0 \n",
      "[2025-07-30 03:38:44.469] Evaluating cascade layer = 1 \n"
     ]
    },
    {
     "name": "stderr",
     "output_type": "stream",
     "text": [
      "Exact explainer:  58%|█████▊    | 119/206 [01:24<00:58,  1.50it/s]"
     ]
    },
    {
     "name": "stdout",
     "output_type": "stream",
     "text": [
      "[2025-07-30 03:38:44.587] Start to evalute the model:\n",
      "[2025-07-30 03:38:44.594] Evaluating cascade layer = 0 \n",
      "[2025-07-30 03:38:44.836] Evaluating cascade layer = 1 \n",
      "[2025-07-30 03:38:45.036] Start to evalute the model:\n",
      "[2025-07-30 03:38:45.036] Evaluating cascade layer = 0 \n"
     ]
    },
    {
     "name": "stderr",
     "output_type": "stream",
     "text": [
      "Exact explainer:  58%|█████▊    | 120/206 [01:24<00:56,  1.51it/s]"
     ]
    },
    {
     "name": "stdout",
     "output_type": "stream",
     "text": [
      "[2025-07-30 03:38:45.150] Evaluating cascade layer = 1 \n",
      "[2025-07-30 03:38:45.233] Start to evalute the model:\n",
      "[2025-07-30 03:38:45.233] Evaluating cascade layer = 0 \n",
      "[2025-07-30 03:38:45.453] Evaluating cascade layer = 1 \n",
      "[2025-07-30 03:38:45.657] Start to evalute the model:\n",
      "[2025-07-30 03:38:45.657] Evaluating cascade layer = 0 \n",
      "[2025-07-30 03:38:45.768] Evaluating cascade layer = 1 \n"
     ]
    },
    {
     "name": "stderr",
     "output_type": "stream",
     "text": [
      "Exact explainer:  59%|█████▊    | 121/206 [01:25<00:56,  1.51it/s]"
     ]
    },
    {
     "name": "stdout",
     "output_type": "stream",
     "text": [
      "[2025-07-30 03:38:45.899] Start to evalute the model:\n",
      "[2025-07-30 03:38:45.912] Evaluating cascade layer = 0 \n",
      "[2025-07-30 03:38:46.119] Evaluating cascade layer = 1 \n",
      "[2025-07-30 03:38:46.304] Start to evalute the model:\n",
      "[2025-07-30 03:38:46.304] Evaluating cascade layer = 0 \n"
     ]
    },
    {
     "name": "stderr",
     "output_type": "stream",
     "text": [
      "Exact explainer:  59%|█████▉    | 122/206 [01:26<00:54,  1.53it/s]"
     ]
    },
    {
     "name": "stdout",
     "output_type": "stream",
     "text": [
      "[2025-07-30 03:38:46.418] Evaluating cascade layer = 1 \n",
      "[2025-07-30 03:38:46.534] Start to evalute the model:\n",
      "[2025-07-30 03:38:46.534] Evaluating cascade layer = 0 \n",
      "[2025-07-30 03:38:46.751] Evaluating cascade layer = 1 \n",
      "[2025-07-30 03:38:46.952] Start to evalute the model:\n",
      "[2025-07-30 03:38:46.952] Evaluating cascade layer = 0 \n",
      "[2025-07-30 03:38:47.068] Evaluating cascade layer = 1 \n"
     ]
    },
    {
     "name": "stderr",
     "output_type": "stream",
     "text": [
      "Exact explainer:  60%|█████▉    | 123/206 [01:26<00:54,  1.53it/s]"
     ]
    },
    {
     "name": "stdout",
     "output_type": "stream",
     "text": [
      "[2025-07-30 03:38:47.186] Start to evalute the model:\n",
      "[2025-07-30 03:38:47.193] Evaluating cascade layer = 0 \n",
      "[2025-07-30 03:38:47.435] Evaluating cascade layer = 1 \n",
      "[2025-07-30 03:38:47.660] Start to evalute the model:\n",
      "[2025-07-30 03:38:47.661] Evaluating cascade layer = 0 \n",
      "[2025-07-30 03:38:47.784] Evaluating cascade layer = 1 \n"
     ]
    },
    {
     "name": "stderr",
     "output_type": "stream",
     "text": [
      "Exact explainer:  60%|██████    | 124/206 [01:27<00:55,  1.49it/s]"
     ]
    },
    {
     "name": "stdout",
     "output_type": "stream",
     "text": [
      "[2025-07-30 03:38:47.903] Start to evalute the model:\n",
      "[2025-07-30 03:38:47.910] Evaluating cascade layer = 0 \n",
      "[2025-07-30 03:38:48.119] Evaluating cascade layer = 1 \n",
      "[2025-07-30 03:38:48.333] Start to evalute the model:\n",
      "[2025-07-30 03:38:48.333] Evaluating cascade layer = 0 \n",
      "[2025-07-30 03:38:48.436] Evaluating cascade layer = 1 \n"
     ]
    },
    {
     "name": "stderr",
     "output_type": "stream",
     "text": [
      "Exact explainer:  61%|██████    | 125/206 [01:28<00:54,  1.49it/s]"
     ]
    },
    {
     "name": "stdout",
     "output_type": "stream",
     "text": [
      "[2025-07-30 03:38:48.576] Start to evalute the model:\n",
      "[2025-07-30 03:38:48.578] Evaluating cascade layer = 0 \n",
      "[2025-07-30 03:38:48.803] Evaluating cascade layer = 1 \n",
      "[2025-07-30 03:38:49.075] Start to evalute the model:\n",
      "[2025-07-30 03:38:49.075] Evaluating cascade layer = 0 \n",
      "[2025-07-30 03:38:49.171] Evaluating cascade layer = 1 \n"
     ]
    },
    {
     "name": "stderr",
     "output_type": "stream",
     "text": [
      "Exact explainer:  61%|██████    | 126/206 [01:28<00:55,  1.45it/s]"
     ]
    },
    {
     "name": "stdout",
     "output_type": "stream",
     "text": [
      "[2025-07-30 03:38:49.307] Start to evalute the model:\n",
      "[2025-07-30 03:38:49.308] Evaluating cascade layer = 0 \n",
      "[2025-07-30 03:38:49.537] Evaluating cascade layer = 1 \n",
      "[2025-07-30 03:38:49.749] Start to evalute the model:\n",
      "[2025-07-30 03:38:49.749] Evaluating cascade layer = 0 \n",
      "[2025-07-30 03:38:49.868] Evaluating cascade layer = 1 \n"
     ]
    },
    {
     "name": "stderr",
     "output_type": "stream",
     "text": [
      "Exact explainer:  62%|██████▏   | 127/206 [01:29<00:54,  1.45it/s]"
     ]
    },
    {
     "name": "stdout",
     "output_type": "stream",
     "text": [
      "[2025-07-30 03:38:49.990] Start to evalute the model:\n",
      "[2025-07-30 03:38:49.997] Evaluating cascade layer = 0 \n",
      "[2025-07-30 03:38:50.203] Evaluating cascade layer = 1 \n",
      "[2025-07-30 03:38:50.416] Start to evalute the model:\n",
      "[2025-07-30 03:38:50.416] Evaluating cascade layer = 0 \n",
      "[2025-07-30 03:38:50.517] Evaluating cascade layer = 1 \n"
     ]
    },
    {
     "name": "stderr",
     "output_type": "stream",
     "text": [
      "Exact explainer:  62%|██████▏   | 128/206 [01:30<00:53,  1.47it/s]"
     ]
    },
    {
     "name": "stdout",
     "output_type": "stream",
     "text": [
      "[2025-07-30 03:38:50.657] Start to evalute the model:\n",
      "[2025-07-30 03:38:50.663] Evaluating cascade layer = 0 \n",
      "[2025-07-30 03:38:50.870] Evaluating cascade layer = 1 \n",
      "[2025-07-30 03:38:51.083] Start to evalute the model:\n",
      "[2025-07-30 03:38:51.083] Evaluating cascade layer = 0 \n",
      "[2025-07-30 03:38:51.202] Evaluating cascade layer = 1 \n"
     ]
    },
    {
     "name": "stderr",
     "output_type": "stream",
     "text": [
      "Exact explainer:  63%|██████▎   | 129/206 [01:30<00:52,  1.47it/s]"
     ]
    },
    {
     "name": "stdout",
     "output_type": "stream",
     "text": [
      "[2025-07-30 03:38:51.336] Start to evalute the model:\n",
      "[2025-07-30 03:38:51.344] Evaluating cascade layer = 0 \n",
      "[2025-07-30 03:38:51.566] Evaluating cascade layer = 1 \n",
      "[2025-07-30 03:38:51.806] Start to evalute the model:\n",
      "[2025-07-30 03:38:51.807] Evaluating cascade layer = 0 \n",
      "[2025-07-30 03:38:51.919] Evaluating cascade layer = 1 \n"
     ]
    },
    {
     "name": "stderr",
     "output_type": "stream",
     "text": [
      "Exact explainer:  63%|██████▎   | 130/206 [01:31<00:51,  1.46it/s]"
     ]
    },
    {
     "name": "stdout",
     "output_type": "stream",
     "text": [
      "[2025-07-30 03:38:52.022] Start to evalute the model:\n",
      "[2025-07-30 03:38:52.022] Evaluating cascade layer = 0 \n",
      "[2025-07-30 03:38:52.253] Evaluating cascade layer = 1 \n",
      "[2025-07-30 03:38:52.466] Start to evalute the model:\n",
      "[2025-07-30 03:38:52.466] Evaluating cascade layer = 0 \n",
      "[2025-07-30 03:38:52.567] Evaluating cascade layer = 1 \n"
     ]
    },
    {
     "name": "stderr",
     "output_type": "stream",
     "text": [
      "Exact explainer:  64%|██████▎   | 131/206 [01:32<00:51,  1.47it/s]"
     ]
    },
    {
     "name": "stdout",
     "output_type": "stream",
     "text": [
      "[2025-07-30 03:38:52.700] Start to evalute the model:\n",
      "[2025-07-30 03:38:52.705] Evaluating cascade layer = 0 \n",
      "[2025-07-30 03:38:52.903] Evaluating cascade layer = 1 \n",
      "[2025-07-30 03:38:53.119] Start to evalute the model:\n",
      "[2025-07-30 03:38:53.119] Evaluating cascade layer = 0 \n",
      "[2025-07-30 03:38:53.266] Evaluating cascade layer = 1 \n"
     ]
    },
    {
     "name": "stderr",
     "output_type": "stream",
     "text": [
      "Exact explainer:  64%|██████▍   | 132/206 [01:32<00:50,  1.46it/s]"
     ]
    },
    {
     "name": "stdout",
     "output_type": "stream",
     "text": [
      "[2025-07-30 03:38:53.399] Start to evalute the model:\n",
      "[2025-07-30 03:38:53.410] Evaluating cascade layer = 0 \n",
      "[2025-07-30 03:38:53.619] Evaluating cascade layer = 1 \n",
      "[2025-07-30 03:38:53.840] Start to evalute the model:\n",
      "[2025-07-30 03:38:53.840] Evaluating cascade layer = 0 \n",
      "[2025-07-30 03:38:53.969] Evaluating cascade layer = 1 \n"
     ]
    },
    {
     "name": "stderr",
     "output_type": "stream",
     "text": [
      "Exact explainer:  65%|██████▍   | 133/206 [01:33<00:50,  1.46it/s]"
     ]
    },
    {
     "name": "stdout",
     "output_type": "stream",
     "text": [
      "[2025-07-30 03:38:54.085] Start to evalute the model:\n",
      "[2025-07-30 03:38:54.092] Evaluating cascade layer = 0 \n",
      "[2025-07-30 03:38:54.302] Evaluating cascade layer = 1 \n",
      "[2025-07-30 03:38:54.516] Start to evalute the model:\n",
      "[2025-07-30 03:38:54.516] Evaluating cascade layer = 0 \n",
      "[2025-07-30 03:38:54.636] Evaluating cascade layer = 1 \n"
     ]
    },
    {
     "name": "stderr",
     "output_type": "stream",
     "text": [
      "Exact explainer:  65%|██████▌   | 134/206 [01:34<00:48,  1.48it/s]"
     ]
    },
    {
     "name": "stdout",
     "output_type": "stream",
     "text": [
      "[2025-07-30 03:38:54.738] Start to evalute the model:\n",
      "[2025-07-30 03:38:54.751] Evaluating cascade layer = 0 \n",
      "[2025-07-30 03:38:54.965] Evaluating cascade layer = 1 \n",
      "[2025-07-30 03:38:55.166] Start to evalute the model:\n",
      "[2025-07-30 03:38:55.166] Evaluating cascade layer = 0 \n",
      "[2025-07-30 03:38:55.268] Evaluating cascade layer = 1 \n"
     ]
    },
    {
     "name": "stderr",
     "output_type": "stream",
     "text": [
      "Exact explainer:  66%|██████▌   | 135/206 [01:34<00:47,  1.49it/s]"
     ]
    },
    {
     "name": "stdout",
     "output_type": "stream",
     "text": [
      "[2025-07-30 03:38:55.400] Start to evalute the model:\n",
      "[2025-07-30 03:38:55.406] Evaluating cascade layer = 0 \n",
      "[2025-07-30 03:38:55.603] Evaluating cascade layer = 1 \n",
      "[2025-07-30 03:38:55.823] Start to evalute the model:\n",
      "[2025-07-30 03:38:55.823] Evaluating cascade layer = 0 \n",
      "[2025-07-30 03:38:55.935] Evaluating cascade layer = 1 \n"
     ]
    },
    {
     "name": "stderr",
     "output_type": "stream",
     "text": [
      "Exact explainer:  66%|██████▌   | 136/206 [01:35<00:46,  1.51it/s]"
     ]
    },
    {
     "name": "stdout",
     "output_type": "stream",
     "text": [
      "[2025-07-30 03:38:56.034] Start to evalute the model:\n",
      "[2025-07-30 03:38:56.034] Evaluating cascade layer = 0 \n",
      "[2025-07-30 03:38:56.253] Evaluating cascade layer = 1 \n",
      "[2025-07-30 03:38:56.466] Start to evalute the model:\n",
      "[2025-07-30 03:38:56.466] Evaluating cascade layer = 0 \n",
      "[2025-07-30 03:38:56.585] Evaluating cascade layer = 1 \n"
     ]
    },
    {
     "name": "stderr",
     "output_type": "stream",
     "text": [
      "Exact explainer:  67%|██████▋   | 137/206 [01:36<00:45,  1.51it/s]"
     ]
    },
    {
     "name": "stdout",
     "output_type": "stream",
     "text": [
      "[2025-07-30 03:38:56.698] Start to evalute the model:\n",
      "[2025-07-30 03:38:56.706] Evaluating cascade layer = 0 \n",
      "[2025-07-30 03:38:56.901] Evaluating cascade layer = 1 \n",
      "[2025-07-30 03:38:57.103] Start to evalute the model:\n",
      "[2025-07-30 03:38:57.103] Evaluating cascade layer = 0 \n",
      "[2025-07-30 03:38:57.252] Evaluating cascade layer = 1 \n"
     ]
    },
    {
     "name": "stderr",
     "output_type": "stream",
     "text": [
      "Exact explainer:  67%|██████▋   | 138/206 [01:36<00:44,  1.52it/s]"
     ]
    },
    {
     "name": "stdout",
     "output_type": "stream",
     "text": [
      "[2025-07-30 03:38:57.355] Start to evalute the model:\n",
      "[2025-07-30 03:38:57.361] Evaluating cascade layer = 0 \n",
      "[2025-07-30 03:38:57.570] Evaluating cascade layer = 1 \n",
      "[2025-07-30 03:38:57.782] Start to evalute the model:\n",
      "[2025-07-30 03:38:57.782] Evaluating cascade layer = 0 \n",
      "[2025-07-30 03:38:57.900] Evaluating cascade layer = 1 \n"
     ]
    },
    {
     "name": "stderr",
     "output_type": "stream",
     "text": [
      "Exact explainer:  67%|██████▋   | 139/206 [01:37<00:44,  1.51it/s]"
     ]
    },
    {
     "name": "stdout",
     "output_type": "stream",
     "text": [
      "[2025-07-30 03:38:58.023] Start to evalute the model:\n",
      "[2025-07-30 03:38:58.031] Evaluating cascade layer = 0 \n",
      "[2025-07-30 03:38:58.252] Evaluating cascade layer = 1 \n",
      "[2025-07-30 03:38:58.466] Start to evalute the model:\n",
      "[2025-07-30 03:38:58.466] Evaluating cascade layer = 0 \n",
      "[2025-07-30 03:38:58.569] Evaluating cascade layer = 1 \n"
     ]
    },
    {
     "name": "stderr",
     "output_type": "stream",
     "text": [
      "Exact explainer:  68%|██████▊   | 140/206 [01:38<00:43,  1.51it/s]"
     ]
    },
    {
     "name": "stdout",
     "output_type": "stream",
     "text": [
      "[2025-07-30 03:38:58.688] Start to evalute the model:\n",
      "[2025-07-30 03:38:58.695] Evaluating cascade layer = 0 \n",
      "[2025-07-30 03:38:58.903] Evaluating cascade layer = 1 \n",
      "[2025-07-30 03:38:59.125] Start to evalute the model:\n",
      "[2025-07-30 03:38:59.125] Evaluating cascade layer = 0 \n",
      "[2025-07-30 03:38:59.218] Evaluating cascade layer = 1 \n"
     ]
    },
    {
     "name": "stderr",
     "output_type": "stream",
     "text": [
      "Exact explainer:  68%|██████▊   | 141/206 [01:38<00:43,  1.50it/s]"
     ]
    },
    {
     "name": "stdout",
     "output_type": "stream",
     "text": [
      "[2025-07-30 03:38:59.352] Start to evalute the model:\n",
      "[2025-07-30 03:38:59.363] Evaluating cascade layer = 0 \n",
      "[2025-07-30 03:38:59.570] Evaluating cascade layer = 1 \n",
      "[2025-07-30 03:38:59.783] Start to evalute the model:\n",
      "[2025-07-30 03:38:59.783] Evaluating cascade layer = 0 \n",
      "[2025-07-30 03:38:59.902] Evaluating cascade layer = 1 \n"
     ]
    },
    {
     "name": "stderr",
     "output_type": "stream",
     "text": [
      "Exact explainer:  69%|██████▉   | 142/206 [01:39<00:42,  1.50it/s]"
     ]
    },
    {
     "name": "stdout",
     "output_type": "stream",
     "text": [
      "[2025-07-30 03:39:00.025] Start to evalute the model:\n",
      "[2025-07-30 03:39:00.033] Evaluating cascade layer = 0 \n",
      "[2025-07-30 03:39:00.235] Evaluating cascade layer = 1 \n",
      "[2025-07-30 03:39:00.456] Start to evalute the model:\n",
      "[2025-07-30 03:39:00.457] Evaluating cascade layer = 0 \n",
      "[2025-07-30 03:39:00.551] Evaluating cascade layer = 1 \n"
     ]
    },
    {
     "name": "stderr",
     "output_type": "stream",
     "text": [
      "Exact explainer:  69%|██████▉   | 143/206 [01:40<00:41,  1.51it/s]"
     ]
    },
    {
     "name": "stdout",
     "output_type": "stream",
     "text": [
      "[2025-07-30 03:39:00.669] Start to evalute the model:\n",
      "[2025-07-30 03:39:00.669] Evaluating cascade layer = 0 \n",
      "[2025-07-30 03:39:00.887] Evaluating cascade layer = 1 \n",
      "[2025-07-30 03:39:01.099] Start to evalute the model:\n",
      "[2025-07-30 03:39:01.099] Evaluating cascade layer = 0 \n",
      "[2025-07-30 03:39:01.200] Evaluating cascade layer = 1 \n"
     ]
    },
    {
     "name": "stderr",
     "output_type": "stream",
     "text": [
      "Exact explainer:  70%|██████▉   | 144/206 [01:40<00:40,  1.52it/s]"
     ]
    },
    {
     "name": "stdout",
     "output_type": "stream",
     "text": [
      "[2025-07-30 03:39:01.313] Start to evalute the model:\n",
      "[2025-07-30 03:39:01.313] Evaluating cascade layer = 0 \n",
      "[2025-07-30 03:39:01.586] Evaluating cascade layer = 1 \n",
      "[2025-07-30 03:39:01.789] Start to evalute the model:\n",
      "[2025-07-30 03:39:01.790] Evaluating cascade layer = 0 \n",
      "[2025-07-30 03:39:01.885] Evaluating cascade layer = 1 \n"
     ]
    },
    {
     "name": "stderr",
     "output_type": "stream",
     "text": [
      "Exact explainer:  70%|███████   | 145/206 [01:41<00:40,  1.51it/s]"
     ]
    },
    {
     "name": "stdout",
     "output_type": "stream",
     "text": [
      "[2025-07-30 03:39:01.989] Start to evalute the model:\n",
      "[2025-07-30 03:39:01.989] Evaluating cascade layer = 0 \n",
      "[2025-07-30 03:39:02.221] Evaluating cascade layer = 1 \n",
      "[2025-07-30 03:39:02.433] Start to evalute the model:\n",
      "[2025-07-30 03:39:02.433] Evaluating cascade layer = 0 \n",
      "[2025-07-30 03:39:02.552] Evaluating cascade layer = 1 \n"
     ]
    },
    {
     "name": "stderr",
     "output_type": "stream",
     "text": [
      "Exact explainer:  71%|███████   | 146/206 [01:42<00:39,  1.50it/s]"
     ]
    },
    {
     "name": "stdout",
     "output_type": "stream",
     "text": [
      "[2025-07-30 03:39:02.667] Start to evalute the model:\n",
      "[2025-07-30 03:39:02.673] Evaluating cascade layer = 0 \n",
      "[2025-07-30 03:39:02.886] Evaluating cascade layer = 1 \n",
      "[2025-07-30 03:39:03.099] Start to evalute the model:\n",
      "[2025-07-30 03:39:03.099] Evaluating cascade layer = 0 \n",
      "[2025-07-30 03:39:03.218] Evaluating cascade layer = 1 \n"
     ]
    },
    {
     "name": "stderr",
     "output_type": "stream",
     "text": [
      "Exact explainer:  71%|███████▏  | 147/206 [01:42<00:39,  1.51it/s]"
     ]
    },
    {
     "name": "stdout",
     "output_type": "stream",
     "text": [
      "[2025-07-30 03:39:03.321] Start to evalute the model:\n",
      "[2025-07-30 03:39:03.328] Evaluating cascade layer = 0 \n",
      "[2025-07-30 03:39:03.536] Evaluating cascade layer = 1 \n",
      "[2025-07-30 03:39:03.756] Start to evalute the model:\n",
      "[2025-07-30 03:39:03.757] Evaluating cascade layer = 0 \n",
      "[2025-07-30 03:39:03.851] Evaluating cascade layer = 1 \n"
     ]
    },
    {
     "name": "stderr",
     "output_type": "stream",
     "text": [
      "Exact explainer:  72%|███████▏  | 148/206 [01:43<00:38,  1.52it/s]"
     ]
    },
    {
     "name": "stdout",
     "output_type": "stream",
     "text": [
      "[2025-07-30 03:39:03.967] Start to evalute the model:\n",
      "[2025-07-30 03:39:03.967] Evaluating cascade layer = 0 \n",
      "[2025-07-30 03:39:04.169] Evaluating cascade layer = 1 \n",
      "[2025-07-30 03:39:04.369] Start to evalute the model:\n",
      "[2025-07-30 03:39:04.369] Evaluating cascade layer = 0 \n",
      "[2025-07-30 03:39:04.484] Evaluating cascade layer = 1 \n"
     ]
    },
    {
     "name": "stderr",
     "output_type": "stream",
     "text": [
      "Exact explainer:  72%|███████▏  | 149/206 [01:44<00:37,  1.51it/s]"
     ]
    },
    {
     "name": "stdout",
     "output_type": "stream",
     "text": [
      "[2025-07-30 03:39:04.644] Start to evalute the model:\n",
      "[2025-07-30 03:39:04.655] Evaluating cascade layer = 0 \n",
      "[2025-07-30 03:39:04.933] Evaluating cascade layer = 1 \n",
      "[2025-07-30 03:39:05.155] Start to evalute the model:\n",
      "[2025-07-30 03:39:05.156] Evaluating cascade layer = 0 \n",
      "[2025-07-30 03:39:05.266] Evaluating cascade layer = 1 \n"
     ]
    },
    {
     "name": "stderr",
     "output_type": "stream",
     "text": [
      "Exact explainer:  73%|███████▎  | 150/206 [01:44<00:38,  1.45it/s]"
     ]
    },
    {
     "name": "stdout",
     "output_type": "stream",
     "text": [
      "[2025-07-30 03:39:05.384] Start to evalute the model:\n",
      "[2025-07-30 03:39:05.396] Evaluating cascade layer = 0 \n",
      "[2025-07-30 03:39:05.603] Evaluating cascade layer = 1 \n",
      "[2025-07-30 03:39:05.877] Start to evalute the model:\n",
      "[2025-07-30 03:39:05.878] Evaluating cascade layer = 0 \n",
      "[2025-07-30 03:39:06.001] Evaluating cascade layer = 1 \n"
     ]
    },
    {
     "name": "stderr",
     "output_type": "stream",
     "text": [
      "Exact explainer:  73%|███████▎  | 151/206 [01:45<00:38,  1.42it/s]"
     ]
    },
    {
     "name": "stdout",
     "output_type": "stream",
     "text": [
      "[2025-07-30 03:39:06.136] Start to evalute the model:\n",
      "[2025-07-30 03:39:06.143] Evaluating cascade layer = 0 \n",
      "[2025-07-30 03:39:06.353] Evaluating cascade layer = 1 \n",
      "[2025-07-30 03:39:06.569] Start to evalute the model:\n",
      "[2025-07-30 03:39:06.569] Evaluating cascade layer = 0 \n",
      "[2025-07-30 03:39:06.685] Evaluating cascade layer = 1 \n"
     ]
    },
    {
     "name": "stderr",
     "output_type": "stream",
     "text": [
      "Exact explainer:  74%|███████▍  | 152/206 [01:46<00:37,  1.44it/s]"
     ]
    },
    {
     "name": "stdout",
     "output_type": "stream",
     "text": [
      "[2025-07-30 03:39:06.804] Start to evalute the model:\n",
      "[2025-07-30 03:39:06.811] Evaluating cascade layer = 0 \n",
      "[2025-07-30 03:39:07.037] Evaluating cascade layer = 1 \n",
      "[2025-07-30 03:39:07.249] Start to evalute the model:\n",
      "[2025-07-30 03:39:07.249] Evaluating cascade layer = 0 \n",
      "[2025-07-30 03:39:07.368] Evaluating cascade layer = 1 \n"
     ]
    },
    {
     "name": "stderr",
     "output_type": "stream",
     "text": [
      "Exact explainer:  74%|███████▍  | 153/206 [01:47<00:36,  1.44it/s]"
     ]
    },
    {
     "name": "stdout",
     "output_type": "stream",
     "text": [
      "[2025-07-30 03:39:07.493] Start to evalute the model:\n",
      "[2025-07-30 03:39:07.503] Evaluating cascade layer = 0 \n",
      "[2025-07-30 03:39:07.719] Evaluating cascade layer = 1 \n",
      "[2025-07-30 03:39:07.933] Start to evalute the model:\n",
      "[2025-07-30 03:39:07.933] Evaluating cascade layer = 0 \n",
      "[2025-07-30 03:39:08.052] Evaluating cascade layer = 1 \n"
     ]
    },
    {
     "name": "stderr",
     "output_type": "stream",
     "text": [
      "Exact explainer:  75%|███████▍  | 154/206 [01:47<00:35,  1.45it/s]"
     ]
    },
    {
     "name": "stdout",
     "output_type": "stream",
     "text": [
      "[2025-07-30 03:39:08.176] Start to evalute the model:\n",
      "[2025-07-30 03:39:08.188] Evaluating cascade layer = 0 \n",
      "[2025-07-30 03:39:08.386] Evaluating cascade layer = 1 \n",
      "[2025-07-30 03:39:08.598] Start to evalute the model:\n",
      "[2025-07-30 03:39:08.598] Evaluating cascade layer = 0 \n",
      "[2025-07-30 03:39:08.702] Evaluating cascade layer = 1 \n"
     ]
    },
    {
     "name": "stderr",
     "output_type": "stream",
     "text": [
      "Exact explainer:  75%|███████▌  | 155/206 [01:48<00:34,  1.47it/s]"
     ]
    },
    {
     "name": "stdout",
     "output_type": "stream",
     "text": [
      "[2025-07-30 03:39:08.833] Start to evalute the model:\n",
      "[2025-07-30 03:39:08.840] Evaluating cascade layer = 0 \n",
      "[2025-07-30 03:39:09.037] Evaluating cascade layer = 1 \n",
      "[2025-07-30 03:39:09.249] Start to evalute the model:\n",
      "[2025-07-30 03:39:09.249] Evaluating cascade layer = 0 \n",
      "[2025-07-30 03:39:09.369] Evaluating cascade layer = 1 \n"
     ]
    },
    {
     "name": "stderr",
     "output_type": "stream",
     "text": [
      "Exact explainer:  76%|███████▌  | 156/206 [01:48<00:33,  1.49it/s]"
     ]
    },
    {
     "name": "stdout",
     "output_type": "stream",
     "text": [
      "[2025-07-30 03:39:09.483] Start to evalute the model:\n",
      "[2025-07-30 03:39:09.491] Evaluating cascade layer = 0 \n",
      "[2025-07-30 03:39:09.703] Evaluating cascade layer = 1 \n",
      "[2025-07-30 03:39:09.986] Start to evalute the model:\n",
      "[2025-07-30 03:39:09.986] Evaluating cascade layer = 0 \n",
      "[2025-07-30 03:39:10.086] Evaluating cascade layer = 1 \n"
     ]
    },
    {
     "name": "stderr",
     "output_type": "stream",
     "text": [
      "Exact explainer:  76%|███████▌  | 157/206 [01:49<00:33,  1.46it/s]"
     ]
    },
    {
     "name": "stdout",
     "output_type": "stream",
     "text": [
      "[2025-07-30 03:39:10.199] Start to evalute the model:\n",
      "[2025-07-30 03:39:10.199] Evaluating cascade layer = 0 \n",
      "[2025-07-30 03:39:10.420] Evaluating cascade layer = 1 \n",
      "[2025-07-30 03:39:10.620] Start to evalute the model:\n",
      "[2025-07-30 03:39:10.620] Evaluating cascade layer = 0 \n"
     ]
    },
    {
     "name": "stderr",
     "output_type": "stream",
     "text": [
      "Exact explainer:  77%|███████▋  | 158/206 [01:50<00:32,  1.49it/s]"
     ]
    },
    {
     "name": "stdout",
     "output_type": "stream",
     "text": [
      "[2025-07-30 03:39:10.719] Evaluating cascade layer = 1 \n",
      "[2025-07-30 03:39:10.835] Start to evalute the model:\n",
      "[2025-07-30 03:39:10.835] Evaluating cascade layer = 0 \n",
      "[2025-07-30 03:39:11.073] Evaluating cascade layer = 1 \n",
      "[2025-07-30 03:39:11.272] Start to evalute the model:\n",
      "[2025-07-30 03:39:11.272] Evaluating cascade layer = 0 \n"
     ]
    },
    {
     "name": "stderr",
     "output_type": "stream",
     "text": [
      "Exact explainer:  77%|███████▋  | 159/206 [01:51<00:31,  1.50it/s]"
     ]
    },
    {
     "name": "stdout",
     "output_type": "stream",
     "text": [
      "[2025-07-30 03:39:11.385] Evaluating cascade layer = 1 \n",
      "[2025-07-30 03:39:11.503] Start to evalute the model:\n",
      "[2025-07-30 03:39:11.506] Evaluating cascade layer = 0 \n",
      "[2025-07-30 03:39:11.735] Evaluating cascade layer = 1 \n",
      "[2025-07-30 03:39:11.936] Start to evalute the model:\n",
      "[2025-07-30 03:39:11.936] Evaluating cascade layer = 0 \n",
      "[2025-07-30 03:39:12.033] Evaluating cascade layer = 1 \n"
     ]
    },
    {
     "name": "stderr",
     "output_type": "stream",
     "text": [
      "Exact explainer:  78%|███████▊  | 160/206 [01:51<00:30,  1.51it/s]"
     ]
    },
    {
     "name": "stdout",
     "output_type": "stream",
     "text": [
      "[2025-07-30 03:39:12.150] Start to evalute the model:\n",
      "[2025-07-30 03:39:12.150] Evaluating cascade layer = 0 \n",
      "[2025-07-30 03:39:12.381] Evaluating cascade layer = 1 \n",
      "[2025-07-30 03:39:12.583] Start to evalute the model:\n",
      "[2025-07-30 03:39:12.583] Evaluating cascade layer = 0 \n",
      "[2025-07-30 03:39:12.721] Evaluating cascade layer = 1 \n"
     ]
    },
    {
     "name": "stderr",
     "output_type": "stream",
     "text": [
      "Exact explainer:  78%|███████▊  | 161/206 [01:52<00:30,  1.50it/s]"
     ]
    },
    {
     "name": "stdout",
     "output_type": "stream",
     "text": [
      "[2025-07-30 03:39:12.827] Start to evalute the model:\n",
      "[2025-07-30 03:39:12.827] Evaluating cascade layer = 0 \n",
      "[2025-07-30 03:39:13.020] Evaluating cascade layer = 1 \n",
      "[2025-07-30 03:39:13.236] Start to evalute the model:\n",
      "[2025-07-30 03:39:13.236] Evaluating cascade layer = 0 \n",
      "[2025-07-30 03:39:13.366] Evaluating cascade layer = 1 \n"
     ]
    },
    {
     "name": "stderr",
     "output_type": "stream",
     "text": [
      "Exact explainer:  79%|███████▊  | 162/206 [01:52<00:29,  1.51it/s]"
     ]
    },
    {
     "name": "stdout",
     "output_type": "stream",
     "text": [
      "[2025-07-30 03:39:13.474] Start to evalute the model:\n",
      "[2025-07-30 03:39:13.479] Evaluating cascade layer = 0 \n",
      "[2025-07-30 03:39:13.685] Evaluating cascade layer = 1 \n",
      "[2025-07-30 03:39:13.886] Start to evalute the model:\n",
      "[2025-07-30 03:39:13.886] Evaluating cascade layer = 0 \n",
      "[2025-07-30 03:39:14.019] Evaluating cascade layer = 1 \n"
     ]
    },
    {
     "name": "stderr",
     "output_type": "stream",
     "text": [
      "Exact explainer:  79%|███████▉  | 163/206 [01:53<00:28,  1.51it/s]"
     ]
    },
    {
     "name": "stdout",
     "output_type": "stream",
     "text": [
      "[2025-07-30 03:39:14.135] Start to evalute the model:\n",
      "[2025-07-30 03:39:14.141] Evaluating cascade layer = 0 \n",
      "[2025-07-30 03:39:14.335] Evaluating cascade layer = 1 \n",
      "[2025-07-30 03:39:14.539] Start to evalute the model:\n",
      "[2025-07-30 03:39:14.539] Evaluating cascade layer = 0 \n",
      "[2025-07-30 03:39:14.633] Evaluating cascade layer = 1 \n"
     ]
    },
    {
     "name": "stderr",
     "output_type": "stream",
     "text": [
      "Exact explainer:  80%|███████▉  | 164/206 [01:54<00:27,  1.54it/s]"
     ]
    },
    {
     "name": "stdout",
     "output_type": "stream",
     "text": [
      "[2025-07-30 03:39:14.761] Start to evalute the model:\n",
      "[2025-07-30 03:39:14.762] Evaluating cascade layer = 0 \n",
      "[2025-07-30 03:39:14.970] Evaluating cascade layer = 1 \n",
      "[2025-07-30 03:39:15.169] Start to evalute the model:\n",
      "[2025-07-30 03:39:15.169] Evaluating cascade layer = 0 \n"
     ]
    },
    {
     "name": "stderr",
     "output_type": "stream",
     "text": [
      "Exact explainer:  80%|████████  | 165/206 [01:54<00:27,  1.51it/s]"
     ]
    },
    {
     "name": "stdout",
     "output_type": "stream",
     "text": [
      "[2025-07-30 03:39:15.337] Evaluating cascade layer = 1 \n",
      "[2025-07-30 03:39:15.449] Start to evalute the model:\n",
      "[2025-07-30 03:39:15.449] Evaluating cascade layer = 0 \n",
      "[2025-07-30 03:39:15.652] Evaluating cascade layer = 1 \n",
      "[2025-07-30 03:39:15.856] Start to evalute the model:\n",
      "[2025-07-30 03:39:15.856] Evaluating cascade layer = 0 \n",
      "[2025-07-30 03:39:15.983] Evaluating cascade layer = 1 \n"
     ]
    },
    {
     "name": "stderr",
     "output_type": "stream",
     "text": [
      "Exact explainer:  81%|████████  | 166/206 [01:55<00:26,  1.51it/s]"
     ]
    },
    {
     "name": "stdout",
     "output_type": "stream",
     "text": [
      "[2025-07-30 03:39:16.112] Start to evalute the model:\n",
      "[2025-07-30 03:39:16.123] Evaluating cascade layer = 0 \n",
      "[2025-07-30 03:39:16.304] Evaluating cascade layer = 1 \n",
      "[2025-07-30 03:39:16.519] Start to evalute the model:\n",
      "[2025-07-30 03:39:16.519] Evaluating cascade layer = 0 \n",
      "[2025-07-30 03:39:16.651] Evaluating cascade layer = 1 \n"
     ]
    },
    {
     "name": "stderr",
     "output_type": "stream",
     "text": [
      "Exact explainer:  81%|████████  | 167/206 [01:56<00:25,  1.51it/s]"
     ]
    },
    {
     "name": "stdout",
     "output_type": "stream",
     "text": [
      "[2025-07-30 03:39:16.781] Start to evalute the model:\n",
      "[2025-07-30 03:39:16.787] Evaluating cascade layer = 0 \n",
      "[2025-07-30 03:39:16.970] Evaluating cascade layer = 1 \n",
      "[2025-07-30 03:39:17.187] Start to evalute the model:\n",
      "[2025-07-30 03:39:17.187] Evaluating cascade layer = 0 \n",
      "[2025-07-30 03:39:17.302] Evaluating cascade layer = 1 \n"
     ]
    },
    {
     "name": "stderr",
     "output_type": "stream",
     "text": [
      "Exact explainer:  82%|████████▏ | 168/206 [01:56<00:24,  1.52it/s]"
     ]
    },
    {
     "name": "stdout",
     "output_type": "stream",
     "text": [
      "[2025-07-30 03:39:17.421] Start to evalute the model:\n",
      "[2025-07-30 03:39:17.428] Evaluating cascade layer = 0 \n",
      "[2025-07-30 03:39:17.635] Evaluating cascade layer = 1 \n",
      "[2025-07-30 03:39:17.836] Start to evalute the model:\n",
      "[2025-07-30 03:39:17.836] Evaluating cascade layer = 0 \n",
      "[2025-07-30 03:39:17.966] Evaluating cascade layer = 1 \n"
     ]
    },
    {
     "name": "stderr",
     "output_type": "stream",
     "text": [
      "Exact explainer:  82%|████████▏ | 169/206 [01:57<00:24,  1.53it/s]"
     ]
    },
    {
     "name": "stdout",
     "output_type": "stream",
     "text": [
      "[2025-07-30 03:39:18.073] Start to evalute the model:\n",
      "[2025-07-30 03:39:18.079] Evaluating cascade layer = 0 \n",
      "[2025-07-30 03:39:18.285] Evaluating cascade layer = 1 \n",
      "[2025-07-30 03:39:18.487] Start to evalute the model:\n",
      "[2025-07-30 03:39:18.487] Evaluating cascade layer = 0 \n",
      "[2025-07-30 03:39:18.601] Evaluating cascade layer = 1 \n"
     ]
    },
    {
     "name": "stderr",
     "output_type": "stream",
     "text": [
      "Exact explainer:  83%|████████▎ | 170/206 [01:58<00:23,  1.52it/s]"
     ]
    },
    {
     "name": "stdout",
     "output_type": "stream",
     "text": [
      "[2025-07-30 03:39:18.735] Start to evalute the model:\n",
      "[2025-07-30 03:39:18.735] Evaluating cascade layer = 0 \n",
      "[2025-07-30 03:39:18.953] Evaluating cascade layer = 1 \n",
      "[2025-07-30 03:39:19.172] Start to evalute the model:\n",
      "[2025-07-30 03:39:19.173] Evaluating cascade layer = 0 \n",
      "[2025-07-30 03:39:19.317] Evaluating cascade layer = 1 \n"
     ]
    },
    {
     "name": "stderr",
     "output_type": "stream",
     "text": [
      "Exact explainer:  83%|████████▎ | 171/206 [01:58<00:23,  1.49it/s]"
     ]
    },
    {
     "name": "stdout",
     "output_type": "stream",
     "text": [
      "[2025-07-30 03:39:19.441] Start to evalute the model:\n",
      "[2025-07-30 03:39:19.444] Evaluating cascade layer = 0 \n",
      "[2025-07-30 03:39:19.637] Evaluating cascade layer = 1 \n",
      "[2025-07-30 03:39:19.836] Start to evalute the model:\n",
      "[2025-07-30 03:39:19.836] Evaluating cascade layer = 0 \n"
     ]
    },
    {
     "name": "stderr",
     "output_type": "stream",
     "text": [
      "Exact explainer:  83%|████████▎ | 172/206 [01:59<00:22,  1.52it/s]"
     ]
    },
    {
     "name": "stdout",
     "output_type": "stream",
     "text": [
      "[2025-07-30 03:39:19.953] Evaluating cascade layer = 1 \n",
      "[2025-07-30 03:39:20.065] Start to evalute the model:\n",
      "[2025-07-30 03:39:20.065] Evaluating cascade layer = 0 \n",
      "[2025-07-30 03:39:20.268] Evaluating cascade layer = 1 \n",
      "[2025-07-30 03:39:20.467] Start to evalute the model:\n",
      "[2025-07-30 03:39:20.467] Evaluating cascade layer = 0 \n"
     ]
    },
    {
     "name": "stderr",
     "output_type": "stream",
     "text": [
      "Exact explainer:  84%|████████▍ | 173/206 [02:00<00:21,  1.54it/s]"
     ]
    },
    {
     "name": "stdout",
     "output_type": "stream",
     "text": [
      "[2025-07-30 03:39:20.571] Evaluating cascade layer = 1 \n",
      "[2025-07-30 03:39:20.700] Start to evalute the model:\n",
      "[2025-07-30 03:39:20.700] Evaluating cascade layer = 0 \n",
      "[2025-07-30 03:39:20.917] Evaluating cascade layer = 1 \n",
      "[2025-07-30 03:39:21.122] Start to evalute the model:\n",
      "[2025-07-30 03:39:21.122] Evaluating cascade layer = 0 \n",
      "[2025-07-30 03:39:21.255] Evaluating cascade layer = 1 \n"
     ]
    },
    {
     "name": "stderr",
     "output_type": "stream",
     "text": [
      "Exact explainer:  84%|████████▍ | 174/206 [02:00<00:20,  1.53it/s]"
     ]
    },
    {
     "name": "stdout",
     "output_type": "stream",
     "text": [
      "[2025-07-30 03:39:21.366] Start to evalute the model:\n",
      "[2025-07-30 03:39:21.366] Evaluating cascade layer = 0 \n",
      "[2025-07-30 03:39:21.571] Evaluating cascade layer = 1 \n",
      "[2025-07-30 03:39:21.786] Start to evalute the model:\n",
      "[2025-07-30 03:39:21.786] Evaluating cascade layer = 0 \n",
      "[2025-07-30 03:39:21.886] Evaluating cascade layer = 1 \n"
     ]
    },
    {
     "name": "stderr",
     "output_type": "stream",
     "text": [
      "Exact explainer:  85%|████████▍ | 175/206 [02:01<00:19,  1.55it/s]"
     ]
    },
    {
     "name": "stdout",
     "output_type": "stream",
     "text": [
      "[2025-07-30 03:39:21.985] Start to evalute the model:\n",
      "[2025-07-30 03:39:21.985] Evaluating cascade layer = 0 \n",
      "[2025-07-30 03:39:22.187] Evaluating cascade layer = 1 \n",
      "[2025-07-30 03:39:22.386] Start to evalute the model:\n",
      "[2025-07-30 03:39:22.386] Evaluating cascade layer = 0 \n"
     ]
    },
    {
     "name": "stderr",
     "output_type": "stream",
     "text": [
      "Exact explainer:  85%|████████▌ | 176/206 [02:02<00:19,  1.55it/s]"
     ]
    },
    {
     "name": "stdout",
     "output_type": "stream",
     "text": [
      "[2025-07-30 03:39:22.503] Evaluating cascade layer = 1 \n",
      "[2025-07-30 03:39:22.634] Start to evalute the model:\n",
      "[2025-07-30 03:39:22.653] Evaluating cascade layer = 0 \n",
      "[2025-07-30 03:39:22.852] Evaluating cascade layer = 1 \n",
      "[2025-07-30 03:39:23.056] Start to evalute the model:\n",
      "[2025-07-30 03:39:23.056] Evaluating cascade layer = 0 \n",
      "[2025-07-30 03:39:23.219] Evaluating cascade layer = 1 \n"
     ]
    },
    {
     "name": "stderr",
     "output_type": "stream",
     "text": [
      "Exact explainer:  86%|████████▌ | 177/206 [02:02<00:19,  1.50it/s]"
     ]
    },
    {
     "name": "stdout",
     "output_type": "stream",
     "text": [
      "[2025-07-30 03:39:23.356] Start to evalute the model:\n",
      "[2025-07-30 03:39:23.356] Evaluating cascade layer = 0 \n",
      "[2025-07-30 03:39:23.537] Evaluating cascade layer = 1 \n",
      "[2025-07-30 03:39:23.738] Start to evalute the model:\n",
      "[2025-07-30 03:39:23.739] Evaluating cascade layer = 0 \n",
      "[2025-07-30 03:39:23.849] Evaluating cascade layer = 1 \n"
     ]
    },
    {
     "name": "stderr",
     "output_type": "stream",
     "text": [
      "Exact explainer:  86%|████████▋ | 178/206 [02:03<00:18,  1.54it/s]"
     ]
    },
    {
     "name": "stdout",
     "output_type": "stream",
     "text": [
      "[2025-07-30 03:39:23.958] Start to evalute the model:\n",
      "[2025-07-30 03:39:23.963] Evaluating cascade layer = 0 \n",
      "[2025-07-30 03:39:24.157] Evaluating cascade layer = 1 \n",
      "[2025-07-30 03:39:24.353] Start to evalute the model:\n",
      "[2025-07-30 03:39:24.353] Evaluating cascade layer = 0 \n"
     ]
    },
    {
     "name": "stderr",
     "output_type": "stream",
     "text": [
      "Exact explainer:  87%|████████▋ | 179/206 [02:04<00:17,  1.56it/s]"
     ]
    },
    {
     "name": "stdout",
     "output_type": "stream",
     "text": [
      "[2025-07-30 03:39:24.469] Evaluating cascade layer = 1 \n",
      "[2025-07-30 03:39:24.584] Start to evalute the model:\n",
      "[2025-07-30 03:39:24.608] Evaluating cascade layer = 0 \n",
      "[2025-07-30 03:39:24.822] Evaluating cascade layer = 1 \n",
      "[2025-07-30 03:39:25.023] Start to evalute the model:\n",
      "[2025-07-30 03:39:25.023] Evaluating cascade layer = 0 \n",
      "[2025-07-30 03:39:25.138] Evaluating cascade layer = 1 \n"
     ]
    },
    {
     "name": "stderr",
     "output_type": "stream",
     "text": [
      "Exact explainer:  87%|████████▋ | 180/206 [02:04<00:16,  1.54it/s]"
     ]
    },
    {
     "name": "stdout",
     "output_type": "stream",
     "text": [
      "[2025-07-30 03:39:25.255] Start to evalute the model:\n",
      "[2025-07-30 03:39:25.255] Evaluating cascade layer = 0 \n",
      "[2025-07-30 03:39:25.501] Evaluating cascade layer = 1 \n",
      "[2025-07-30 03:39:25.752] Start to evalute the model:\n",
      "[2025-07-30 03:39:25.752] Evaluating cascade layer = 0 \n",
      "[2025-07-30 03:39:25.851] Evaluating cascade layer = 1 \n"
     ]
    },
    {
     "name": "stderr",
     "output_type": "stream",
     "text": [
      "Exact explainer:  88%|████████▊ | 181/206 [02:05<00:16,  1.48it/s]"
     ]
    },
    {
     "name": "stdout",
     "output_type": "stream",
     "text": [
      "[2025-07-30 03:39:25.984] Start to evalute the model:\n",
      "[2025-07-30 03:39:25.995] Evaluating cascade layer = 0 \n",
      "[2025-07-30 03:39:26.202] Evaluating cascade layer = 1 \n",
      "[2025-07-30 03:39:26.416] Start to evalute the model:\n",
      "[2025-07-30 03:39:26.416] Evaluating cascade layer = 0 \n",
      "[2025-07-30 03:39:26.534] Evaluating cascade layer = 1 \n"
     ]
    },
    {
     "name": "stderr",
     "output_type": "stream",
     "text": [
      "Exact explainer:  88%|████████▊ | 182/206 [02:06<00:16,  1.46it/s]"
     ]
    },
    {
     "name": "stdout",
     "output_type": "stream",
     "text": [
      "[2025-07-30 03:39:26.688] Start to evalute the model:\n",
      "[2025-07-30 03:39:26.688] Evaluating cascade layer = 0 \n",
      "[2025-07-30 03:39:26.902] Evaluating cascade layer = 1 \n",
      "[2025-07-30 03:39:27.124] Start to evalute the model:\n",
      "[2025-07-30 03:39:27.124] Evaluating cascade layer = 0 \n",
      "[2025-07-30 03:39:27.217] Evaluating cascade layer = 1 \n"
     ]
    },
    {
     "name": "stderr",
     "output_type": "stream",
     "text": [
      "Exact explainer:  89%|████████▉ | 183/206 [02:06<00:15,  1.49it/s]"
     ]
    },
    {
     "name": "stdout",
     "output_type": "stream",
     "text": [
      "[2025-07-30 03:39:27.333] Start to evalute the model:\n",
      "[2025-07-30 03:39:27.349] Evaluating cascade layer = 0 \n",
      "[2025-07-30 03:39:27.621] Evaluating cascade layer = 1 \n",
      "[2025-07-30 03:39:27.869] Start to evalute the model:\n",
      "[2025-07-30 03:39:27.869] Evaluating cascade layer = 0 \n",
      "[2025-07-30 03:39:28.001] Evaluating cascade layer = 1 \n"
     ]
    },
    {
     "name": "stderr",
     "output_type": "stream",
     "text": [
      "Exact explainer:  89%|████████▉ | 184/206 [02:07<00:15,  1.41it/s]"
     ]
    },
    {
     "name": "stdout",
     "output_type": "stream",
     "text": [
      "[2025-07-30 03:39:28.126] Start to evalute the model:\n",
      "[2025-07-30 03:39:28.132] Evaluating cascade layer = 0 \n",
      "[2025-07-30 03:39:28.316] Evaluating cascade layer = 1 \n",
      "[2025-07-30 03:39:28.507] Start to evalute the model:\n",
      "[2025-07-30 03:39:28.507] Evaluating cascade layer = 0 \n",
      "[2025-07-30 03:39:28.639] Evaluating cascade layer = 1 \n"
     ]
    },
    {
     "name": "stderr",
     "output_type": "stream",
     "text": [
      "Exact explainer:  90%|████████▉ | 185/206 [02:08<00:14,  1.45it/s]"
     ]
    },
    {
     "name": "stdout",
     "output_type": "stream",
     "text": [
      "[2025-07-30 03:39:28.773] Start to evalute the model:\n",
      "[2025-07-30 03:39:28.774] Evaluating cascade layer = 0 \n",
      "[2025-07-30 03:39:28.970] Evaluating cascade layer = 1 \n",
      "[2025-07-30 03:39:29.174] Start to evalute the model:\n",
      "[2025-07-30 03:39:29.174] Evaluating cascade layer = 0 \n",
      "[2025-07-30 03:39:29.283] Evaluating cascade layer = 1 \n"
     ]
    },
    {
     "name": "stderr",
     "output_type": "stream",
     "text": [
      "Exact explainer:  90%|█████████ | 186/206 [02:08<00:13,  1.49it/s]"
     ]
    },
    {
     "name": "stdout",
     "output_type": "stream",
     "text": [
      "[2025-07-30 03:39:29.402] Start to evalute the model:\n",
      "[2025-07-30 03:39:29.402] Evaluating cascade layer = 0 \n",
      "[2025-07-30 03:39:29.618] Evaluating cascade layer = 1 \n",
      "[2025-07-30 03:39:29.804] Start to evalute the model:\n",
      "[2025-07-30 03:39:29.804] Evaluating cascade layer = 0 \n"
     ]
    },
    {
     "name": "stderr",
     "output_type": "stream",
     "text": [
      "Exact explainer:  91%|█████████ | 187/206 [02:09<00:12,  1.52it/s]"
     ]
    },
    {
     "name": "stdout",
     "output_type": "stream",
     "text": [
      "[2025-07-30 03:39:29.919] Evaluating cascade layer = 1 \n",
      "[2025-07-30 03:39:30.019] Start to evalute the model:\n",
      "[2025-07-30 03:39:30.019] Evaluating cascade layer = 0 \n",
      "[2025-07-30 03:39:30.204] Evaluating cascade layer = 1 \n",
      "[2025-07-30 03:39:30.410] Start to evalute the model:\n",
      "[2025-07-30 03:39:30.410] Evaluating cascade layer = 0 \n",
      "[2025-07-30 03:39:30.518] Evaluating cascade layer = 1 \n"
     ]
    },
    {
     "name": "stderr",
     "output_type": "stream",
     "text": [
      "Exact explainer:  91%|█████████▏| 188/206 [02:10<00:11,  1.54it/s]"
     ]
    },
    {
     "name": "stdout",
     "output_type": "stream",
     "text": [
      "[2025-07-30 03:39:30.650] Start to evalute the model:\n",
      "[2025-07-30 03:39:30.650] Evaluating cascade layer = 0 \n",
      "[2025-07-30 03:39:30.838] Evaluating cascade layer = 1 \n",
      "[2025-07-30 03:39:31.036] Start to evalute the model:\n",
      "[2025-07-30 03:39:31.036] Evaluating cascade layer = 0 \n",
      "[2025-07-30 03:39:31.155] Evaluating cascade layer = 1 \n"
     ]
    },
    {
     "name": "stderr",
     "output_type": "stream",
     "text": [
      "Exact explainer:  92%|█████████▏| 189/206 [02:10<00:10,  1.56it/s]"
     ]
    },
    {
     "name": "stdout",
     "output_type": "stream",
     "text": [
      "[2025-07-30 03:39:31.275] Start to evalute the model:\n",
      "[2025-07-30 03:39:31.286] Evaluating cascade layer = 0 \n",
      "[2025-07-30 03:39:31.548] Evaluating cascade layer = 1 \n",
      "[2025-07-30 03:39:31.738] Start to evalute the model:\n",
      "[2025-07-30 03:39:31.738] Evaluating cascade layer = 0 \n"
     ]
    },
    {
     "name": "stderr",
     "output_type": "stream",
     "text": [
      "Exact explainer:  92%|█████████▏| 190/206 [02:11<00:10,  1.51it/s]"
     ]
    },
    {
     "name": "stdout",
     "output_type": "stream",
     "text": [
      "[2025-07-30 03:39:31.852] Evaluating cascade layer = 1 \n",
      "[2025-07-30 03:39:31.985] Start to evalute the model:\n",
      "[2025-07-30 03:39:31.985] Evaluating cascade layer = 0 \n",
      "[2025-07-30 03:39:32.222] Evaluating cascade layer = 1 \n",
      "[2025-07-30 03:39:32.423] Start to evalute the model:\n",
      "[2025-07-30 03:39:32.423] Evaluating cascade layer = 0 \n",
      "[2025-07-30 03:39:32.535] Evaluating cascade layer = 1 \n"
     ]
    },
    {
     "name": "stderr",
     "output_type": "stream",
     "text": [
      "Exact explainer:  93%|█████████▎| 191/206 [02:12<00:10,  1.50it/s]"
     ]
    },
    {
     "name": "stdout",
     "output_type": "stream",
     "text": [
      "[2025-07-30 03:39:32.668] Start to evalute the model:\n",
      "[2025-07-30 03:39:32.668] Evaluating cascade layer = 0 \n",
      "[2025-07-30 03:39:32.870] Evaluating cascade layer = 1 \n",
      "[2025-07-30 03:39:33.070] Start to evalute the model:\n",
      "[2025-07-30 03:39:33.070] Evaluating cascade layer = 0 \n"
     ]
    },
    {
     "name": "stderr",
     "output_type": "stream",
     "text": [
      "Exact explainer:  93%|█████████▎| 192/206 [02:12<00:09,  1.52it/s]"
     ]
    },
    {
     "name": "stdout",
     "output_type": "stream",
     "text": [
      "[2025-07-30 03:39:33.202] Evaluating cascade layer = 1 \n",
      "[2025-07-30 03:39:33.300] Start to evalute the model:\n",
      "[2025-07-30 03:39:33.300] Evaluating cascade layer = 0 \n",
      "[2025-07-30 03:39:33.519] Evaluating cascade layer = 1 \n",
      "[2025-07-30 03:39:33.718] Start to evalute the model:\n",
      "[2025-07-30 03:39:33.718] Evaluating cascade layer = 0 \n"
     ]
    },
    {
     "name": "stderr",
     "output_type": "stream",
     "text": [
      "Exact explainer:  94%|█████████▎| 193/206 [02:13<00:08,  1.54it/s]"
     ]
    },
    {
     "name": "stdout",
     "output_type": "stream",
     "text": [
      "[2025-07-30 03:39:33.833] Evaluating cascade layer = 1 \n",
      "[2025-07-30 03:39:33.934] Start to evalute the model:\n",
      "[2025-07-30 03:39:33.954] Evaluating cascade layer = 0 \n",
      "[2025-07-30 03:39:34.152] Evaluating cascade layer = 1 \n",
      "[2025-07-30 03:39:34.355] Start to evalute the model:\n",
      "[2025-07-30 03:39:34.355] Evaluating cascade layer = 0 \n",
      "[2025-07-30 03:39:34.485] Evaluating cascade layer = 1 \n"
     ]
    },
    {
     "name": "stderr",
     "output_type": "stream",
     "text": [
      "Exact explainer:  94%|█████████▍| 194/206 [02:14<00:07,  1.52it/s]"
     ]
    },
    {
     "name": "stdout",
     "output_type": "stream",
     "text": [
      "[2025-07-30 03:39:34.614] Start to evalute the model:\n",
      "[2025-07-30 03:39:34.614] Evaluating cascade layer = 0 \n",
      "[2025-07-30 03:39:34.820] Evaluating cascade layer = 1 \n",
      "[2025-07-30 03:39:35.019] Start to evalute the model:\n",
      "[2025-07-30 03:39:35.019] Evaluating cascade layer = 0 \n"
     ]
    },
    {
     "name": "stderr",
     "output_type": "stream",
     "text": [
      "Exact explainer:  95%|█████████▍| 195/206 [02:14<00:07,  1.52it/s]"
     ]
    },
    {
     "name": "stdout",
     "output_type": "stream",
     "text": [
      "[2025-07-30 03:39:35.136] Evaluating cascade layer = 1 \n",
      "[2025-07-30 03:39:35.272] Start to evalute the model:\n",
      "[2025-07-30 03:39:35.277] Evaluating cascade layer = 0 \n",
      "[2025-07-30 03:39:35.553] Evaluating cascade layer = 1 \n",
      "[2025-07-30 03:39:35.755] Start to evalute the model:\n",
      "[2025-07-30 03:39:35.755] Evaluating cascade layer = 0 \n",
      "[2025-07-30 03:39:35.868] Evaluating cascade layer = 1 \n"
     ]
    },
    {
     "name": "stderr",
     "output_type": "stream",
     "text": [
      "Exact explainer:  95%|█████████▌| 196/206 [02:15<00:06,  1.47it/s]"
     ]
    },
    {
     "name": "stdout",
     "output_type": "stream",
     "text": [
      "[2025-07-30 03:39:36.000] Start to evalute the model:\n",
      "[2025-07-30 03:39:36.000] Evaluating cascade layer = 0 \n",
      "[2025-07-30 03:39:36.190] Evaluating cascade layer = 1 \n",
      "[2025-07-30 03:39:36.386] Start to evalute the model:\n",
      "[2025-07-30 03:39:36.386] Evaluating cascade layer = 0 \n",
      "[2025-07-30 03:39:36.520] Evaluating cascade layer = 1 \n"
     ]
    },
    {
     "name": "stderr",
     "output_type": "stream",
     "text": [
      "Exact explainer:  96%|█████████▌| 197/206 [02:16<00:06,  1.49it/s]"
     ]
    },
    {
     "name": "stdout",
     "output_type": "stream",
     "text": [
      "[2025-07-30 03:39:36.656] Start to evalute the model:\n",
      "[2025-07-30 03:39:36.658] Evaluating cascade layer = 0 \n",
      "[2025-07-30 03:39:36.852] Evaluating cascade layer = 1 \n",
      "[2025-07-30 03:39:37.056] Start to evalute the model:\n",
      "[2025-07-30 03:39:37.056] Evaluating cascade layer = 0 \n",
      "[2025-07-30 03:39:37.166] Evaluating cascade layer = 1 \n"
     ]
    },
    {
     "name": "stderr",
     "output_type": "stream",
     "text": [
      "Exact explainer:  96%|█████████▌| 198/206 [02:16<00:05,  1.51it/s]"
     ]
    },
    {
     "name": "stdout",
     "output_type": "stream",
     "text": [
      "[2025-07-30 03:39:37.293] Start to evalute the model:\n",
      "[2025-07-30 03:39:37.296] Evaluating cascade layer = 0 \n",
      "[2025-07-30 03:39:37.502] Evaluating cascade layer = 1 \n",
      "[2025-07-30 03:39:37.703] Start to evalute the model:\n",
      "[2025-07-30 03:39:37.703] Evaluating cascade layer = 0 \n",
      "[2025-07-30 03:39:37.818] Evaluating cascade layer = 1 \n"
     ]
    },
    {
     "name": "stderr",
     "output_type": "stream",
     "text": [
      "Exact explainer:  97%|█████████▋| 199/206 [02:17<00:04,  1.52it/s]"
     ]
    },
    {
     "name": "stdout",
     "output_type": "stream",
     "text": [
      "[2025-07-30 03:39:37.934] Start to evalute the model:\n",
      "[2025-07-30 03:39:37.934] Evaluating cascade layer = 0 \n",
      "[2025-07-30 03:39:38.151] Evaluating cascade layer = 1 \n",
      "[2025-07-30 03:39:38.385] Start to evalute the model:\n",
      "[2025-07-30 03:39:38.385] Evaluating cascade layer = 0 \n",
      "[2025-07-30 03:39:38.502] Evaluating cascade layer = 1 \n"
     ]
    },
    {
     "name": "stderr",
     "output_type": "stream",
     "text": [
      "Exact explainer:  97%|█████████▋| 200/206 [02:18<00:03,  1.52it/s]"
     ]
    },
    {
     "name": "stdout",
     "output_type": "stream",
     "text": [
      "[2025-07-30 03:39:38.606] Start to evalute the model:\n",
      "[2025-07-30 03:39:38.610] Evaluating cascade layer = 0 \n",
      "[2025-07-30 03:39:38.820] Evaluating cascade layer = 1 \n",
      "[2025-07-30 03:39:39.019] Start to evalute the model:\n",
      "[2025-07-30 03:39:39.019] Evaluating cascade layer = 0 \n"
     ]
    },
    {
     "name": "stderr",
     "output_type": "stream",
     "text": [
      "Exact explainer:  98%|█████████▊| 201/206 [02:18<00:03,  1.52it/s]"
     ]
    },
    {
     "name": "stdout",
     "output_type": "stream",
     "text": [
      "[2025-07-30 03:39:39.136] Evaluating cascade layer = 1 \n",
      "[2025-07-30 03:39:39.251] Start to evalute the model:\n",
      "[2025-07-30 03:39:39.251] Evaluating cascade layer = 0 \n",
      "[2025-07-30 03:39:39.524] Evaluating cascade layer = 1 \n",
      "[2025-07-30 03:39:39.721] Start to evalute the model:\n",
      "[2025-07-30 03:39:39.721] Evaluating cascade layer = 0 \n"
     ]
    },
    {
     "name": "stderr",
     "output_type": "stream",
     "text": [
      "Exact explainer:  98%|█████████▊| 202/206 [02:19<00:02,  1.49it/s]"
     ]
    },
    {
     "name": "stdout",
     "output_type": "stream",
     "text": [
      "[2025-07-30 03:39:39.833] Evaluating cascade layer = 1 \n",
      "[2025-07-30 03:39:39.953] Start to evalute the model:\n",
      "[2025-07-30 03:39:39.953] Evaluating cascade layer = 0 \n",
      "[2025-07-30 03:39:40.185] Evaluating cascade layer = 1 \n",
      "[2025-07-30 03:39:40.387] Start to evalute the model:\n",
      "[2025-07-30 03:39:40.388] Evaluating cascade layer = 0 \n",
      "[2025-07-30 03:39:40.502] Evaluating cascade layer = 1 \n"
     ]
    },
    {
     "name": "stderr",
     "output_type": "stream",
     "text": [
      "Exact explainer:  99%|█████████▊| 203/206 [02:20<00:02,  1.48it/s]"
     ]
    },
    {
     "name": "stdout",
     "output_type": "stream",
     "text": [
      "[2025-07-30 03:39:40.640] Start to evalute the model:\n",
      "[2025-07-30 03:39:40.640] Evaluating cascade layer = 0 \n",
      "[2025-07-30 03:39:40.837] Evaluating cascade layer = 1 \n",
      "[2025-07-30 03:39:41.023] Start to evalute the model:\n",
      "[2025-07-30 03:39:41.023] Evaluating cascade layer = 0 \n",
      "[2025-07-30 03:39:41.139] Evaluating cascade layer = 1 \n"
     ]
    },
    {
     "name": "stderr",
     "output_type": "stream",
     "text": [
      "Exact explainer:  99%|█████████▉| 204/206 [02:20<00:01,  1.50it/s]"
     ]
    },
    {
     "name": "stdout",
     "output_type": "stream",
     "text": [
      "[2025-07-30 03:39:41.285] Start to evalute the model:\n",
      "[2025-07-30 03:39:41.292] Evaluating cascade layer = 0 \n",
      "[2025-07-30 03:39:41.487] Evaluating cascade layer = 1 \n",
      "[2025-07-30 03:39:41.703] Start to evalute the model:\n",
      "[2025-07-30 03:39:41.703] Evaluating cascade layer = 0 \n"
     ]
    },
    {
     "name": "stderr",
     "output_type": "stream",
     "text": [
      "Exact explainer: 100%|█████████▉| 205/206 [02:21<00:00,  1.42it/s]"
     ]
    },
    {
     "name": "stdout",
     "output_type": "stream",
     "text": [
      "[2025-07-30 03:39:41.905] Evaluating cascade layer = 1 \n",
      "[2025-07-30 03:39:42.072] Start to evalute the model:\n",
      "[2025-07-30 03:39:42.085] Evaluating cascade layer = 0 \n",
      "[2025-07-30 03:39:42.303] Evaluating cascade layer = 1 \n",
      "[2025-07-30 03:39:42.506] Start to evalute the model:\n",
      "[2025-07-30 03:39:42.506] Evaluating cascade layer = 0 \n",
      "[2025-07-30 03:39:42.634] Evaluating cascade layer = 1 \n"
     ]
    },
    {
     "name": "stderr",
     "output_type": "stream",
     "text": [
      "Exact explainer: 100%|██████████| 206/206 [02:22<00:00,  1.43it/s]"
     ]
    },
    {
     "name": "stdout",
     "output_type": "stream",
     "text": [
      "[2025-07-30 03:39:42.768] Start to evalute the model:\n",
      "[2025-07-30 03:39:42.768] Evaluating cascade layer = 0 \n",
      "[2025-07-30 03:39:42.986] Evaluating cascade layer = 1 \n",
      "[2025-07-30 03:39:43.199] Start to evalute the model:\n",
      "[2025-07-30 03:39:43.199] Evaluating cascade layer = 0 \n",
      "[2025-07-30 03:39:43.303] Evaluating cascade layer = 1 \n"
     ]
    },
    {
     "name": "stderr",
     "output_type": "stream",
     "text": [
      "Exact explainer: 207it [02:22,  1.39it/s]                         \n"
     ]
    },
    {
     "name": "stdout",
     "output_type": "stream",
     "text": [
      "Fold 2...\n",
      "[2025-07-30 03:39:43.445] Start to fit the model:\n",
      "[2025-07-30 03:39:43.445] Fitting cascade layer = 0 \n",
      "[2025-07-30 03:39:44.155] layer = 0  | Val MSE = 26.12099 | Elapsed = 0.711 s\n",
      "[2025-07-30 03:39:44.155] Fitting cascade layer = 1 \n",
      "[2025-07-30 03:39:44.851] layer = 1  | Val MSE = 20.51622 | Elapsed = 0.696 s\n",
      "[2025-07-30 03:39:44.851] Fitting cascade layer = 2 \n",
      "[2025-07-30 03:39:45.537] layer = 2  | Val MSE = 21.80877 | Elapsed = 0.686 s\n",
      "[2025-07-30 03:39:45.537] Early stopping counter: 1 out of 2\n",
      "[2025-07-30 03:39:45.537] Fitting cascade layer = 3 \n",
      "[2025-07-30 03:39:46.301] layer = 3  | Val MSE = 23.58864 | Elapsed = 0.763 s\n",
      "[2025-07-30 03:39:46.301] Early stopping counter: 2 out of 2\n",
      "[2025-07-30 03:39:46.301] Handling early stopping\n",
      "[2025-07-30 03:39:46.301] The optimal number of layers: 2\n",
      "[2025-07-30 03:39:46.301] Start to evalute the model:\n",
      "[2025-07-30 03:39:46.316] Evaluating cascade layer = 0 \n",
      "[2025-07-30 03:39:46.533] Evaluating cascade layer = 1 \n",
      "[2025-07-30 03:39:46.737] Start to evalute the model:\n",
      "[2025-07-30 03:39:46.737] Evaluating cascade layer = 0 \n",
      "[2025-07-30 03:39:46.966] Evaluating cascade layer = 1 \n",
      "[2025-07-30 03:39:47.202] Start to evalute the model:\n",
      "[2025-07-30 03:39:47.202] Evaluating cascade layer = 0 \n",
      "[2025-07-30 03:39:47.317] Evaluating cascade layer = 1 \n",
      "[2025-07-30 03:39:47.436] Start to evalute the model:\n",
      "[2025-07-30 03:39:47.452] Evaluating cascade layer = 0 \n",
      "[2025-07-30 03:39:47.655] Evaluating cascade layer = 1 \n",
      "[2025-07-30 03:39:47.871] Start to evalute the model:\n",
      "[2025-07-30 03:39:47.871] Evaluating cascade layer = 0 \n",
      "[2025-07-30 03:39:47.968] Evaluating cascade layer = 1 \n",
      "[2025-07-30 03:39:48.116] Start to evalute the model:\n",
      "[2025-07-30 03:39:48.127] Evaluating cascade layer = 0 \n",
      "[2025-07-30 03:39:48.305] Evaluating cascade layer = 1 \n",
      "[2025-07-30 03:39:48.523] Start to evalute the model:\n",
      "[2025-07-30 03:39:48.523] Evaluating cascade layer = 0 \n",
      "[2025-07-30 03:39:48.653] Evaluating cascade layer = 1 \n",
      "[2025-07-30 03:39:48.785] Start to evalute the model:\n",
      "[2025-07-30 03:39:48.785] Evaluating cascade layer = 0 \n",
      "[2025-07-30 03:39:48.986] Evaluating cascade layer = 1 \n",
      "[2025-07-30 03:39:49.156] Start to evalute the model:\n",
      "[2025-07-30 03:39:49.156] Evaluating cascade layer = 0 \n",
      "[2025-07-30 03:39:49.266] Evaluating cascade layer = 1 \n",
      "[2025-07-30 03:39:49.402] Start to evalute the model:\n",
      "[2025-07-30 03:39:49.402] Evaluating cascade layer = 0 \n",
      "[2025-07-30 03:39:49.604] Evaluating cascade layer = 1 \n",
      "[2025-07-30 03:39:49.803] Start to evalute the model:\n",
      "[2025-07-30 03:39:49.803] Evaluating cascade layer = 0 \n",
      "[2025-07-30 03:39:49.916] Evaluating cascade layer = 1 \n",
      "[2025-07-30 03:39:50.016] Start to evalute the model:\n",
      "[2025-07-30 03:39:50.032] Evaluating cascade layer = 0 \n",
      "[2025-07-30 03:39:50.248] Evaluating cascade layer = 1 \n",
      "[2025-07-30 03:39:50.452] Start to evalute the model:\n",
      "[2025-07-30 03:39:50.452] Evaluating cascade layer = 0 \n",
      "[2025-07-30 03:39:50.581] Evaluating cascade layer = 1 \n",
      "[2025-07-30 03:39:50.717] Start to evalute the model:\n",
      "[2025-07-30 03:39:50.718] Evaluating cascade layer = 0 \n",
      "[2025-07-30 03:39:50.903] Evaluating cascade layer = 1 \n",
      "[2025-07-30 03:39:51.103] Start to evalute the model:\n",
      "[2025-07-30 03:39:51.103] Evaluating cascade layer = 0 \n",
      "[2025-07-30 03:39:51.218] Evaluating cascade layer = 1 \n",
      "[2025-07-30 03:39:51.337] Start to evalute the model:\n",
      "[2025-07-30 03:39:51.344] Evaluating cascade layer = 0 \n",
      "[2025-07-30 03:39:51.520] Evaluating cascade layer = 1 \n",
      "[2025-07-30 03:39:51.736] Start to evalute the model:\n",
      "[2025-07-30 03:39:51.736] Evaluating cascade layer = 0 \n",
      "[2025-07-30 03:39:51.864] Evaluating cascade layer = 1 \n",
      "[2025-07-30 03:39:51.981] Start to evalute the model:\n",
      "[2025-07-30 03:39:51.989] Evaluating cascade layer = 0 \n",
      "[2025-07-30 03:39:52.170] Evaluating cascade layer = 1 \n",
      "[2025-07-30 03:39:52.384] Start to evalute the model:\n",
      "[2025-07-30 03:39:52.384] Evaluating cascade layer = 0 \n",
      "[2025-07-30 03:39:52.521] Evaluating cascade layer = 1 \n",
      "[2025-07-30 03:39:52.652] Start to evalute the model:\n",
      "[2025-07-30 03:39:52.652] Evaluating cascade layer = 0 \n",
      "[2025-07-30 03:39:52.841] Evaluating cascade layer = 1 \n",
      "[2025-07-30 03:39:53.036] Start to evalute the model:\n",
      "[2025-07-30 03:39:53.036] Evaluating cascade layer = 0 \n",
      "[2025-07-30 03:39:53.152] Evaluating cascade layer = 1 \n",
      "[2025-07-30 03:39:53.288] Start to evalute the model:\n",
      "[2025-07-30 03:39:53.295] Evaluating cascade layer = 0 \n",
      "[2025-07-30 03:39:53.474] Evaluating cascade layer = 1 \n",
      "[2025-07-30 03:39:53.690] Start to evalute the model:\n",
      "[2025-07-30 03:39:53.690] Evaluating cascade layer = 0 \n",
      "[2025-07-30 03:39:53.819] Evaluating cascade layer = 1 \n",
      "[2025-07-30 03:39:53.905] Start to evalute the model:\n",
      "[2025-07-30 03:39:53.905] Evaluating cascade layer = 0 \n",
      "[2025-07-30 03:39:54.101] Evaluating cascade layer = 1 \n",
      "[2025-07-30 03:39:54.300] Start to evalute the model:\n",
      "[2025-07-30 03:39:54.300] Evaluating cascade layer = 0 \n",
      "[2025-07-30 03:39:54.438] Evaluating cascade layer = 1 \n",
      "[2025-07-30 03:39:54.552] Start to evalute the model:\n",
      "[2025-07-30 03:39:54.552] Evaluating cascade layer = 0 \n",
      "[2025-07-30 03:39:54.773] Evaluating cascade layer = 1 \n",
      "[2025-07-30 03:39:54.993] Start to evalute the model:\n",
      "[2025-07-30 03:39:54.994] Evaluating cascade layer = 0 \n",
      "[2025-07-30 03:39:55.133] Evaluating cascade layer = 1 \n",
      "[2025-07-30 03:39:55.252] Start to evalute the model:\n",
      "[2025-07-30 03:39:55.252] Evaluating cascade layer = 0 \n",
      "[2025-07-30 03:39:55.453] Evaluating cascade layer = 1 \n",
      "[2025-07-30 03:39:55.654] Start to evalute the model:\n",
      "[2025-07-30 03:39:55.654] Evaluating cascade layer = 0 \n",
      "[2025-07-30 03:39:55.781] Evaluating cascade layer = 1 \n",
      "[2025-07-30 03:39:55.918] Start to evalute the model:\n",
      "[2025-07-30 03:39:55.918] Evaluating cascade layer = 0 \n",
      "[2025-07-30 03:39:56.139] Evaluating cascade layer = 1 \n",
      "[2025-07-30 03:39:56.340] Start to evalute the model:\n",
      "[2025-07-30 03:39:56.340] Evaluating cascade layer = 0 \n",
      "[2025-07-30 03:39:56.470] Evaluating cascade layer = 1 \n"
     ]
    },
    {
     "name": "stderr",
     "output_type": "stream",
     "text": [
      "Exact explainer:   8%|▊         | 16/206 [00:00<?, ?it/s]"
     ]
    },
    {
     "name": "stdout",
     "output_type": "stream",
     "text": [
      "[2025-07-30 03:39:56.602] Start to evalute the model:\n",
      "[2025-07-30 03:39:56.602] Evaluating cascade layer = 0 \n",
      "[2025-07-30 03:39:56.820] Evaluating cascade layer = 1 \n",
      "[2025-07-30 03:39:57.033] Start to evalute the model:\n",
      "[2025-07-30 03:39:57.033] Evaluating cascade layer = 0 \n",
      "[2025-07-30 03:39:57.152] Evaluating cascade layer = 1 \n"
     ]
    },
    {
     "name": "stderr",
     "output_type": "stream",
     "text": [
      "Exact explainer:   9%|▊         | 18/206 [00:10<01:04,  2.93it/s]"
     ]
    },
    {
     "name": "stdout",
     "output_type": "stream",
     "text": [
      "[2025-07-30 03:39:57.289] Start to evalute the model:\n",
      "[2025-07-30 03:39:57.289] Evaluating cascade layer = 0 \n",
      "[2025-07-30 03:39:57.516] Evaluating cascade layer = 1 \n",
      "[2025-07-30 03:39:57.786] Start to evalute the model:\n",
      "[2025-07-30 03:39:57.786] Evaluating cascade layer = 0 \n",
      "[2025-07-30 03:39:57.922] Evaluating cascade layer = 1 \n"
     ]
    },
    {
     "name": "stderr",
     "output_type": "stream",
     "text": [
      "Exact explainer:   9%|▉         | 19/206 [00:11<01:36,  1.93it/s]"
     ]
    },
    {
     "name": "stdout",
     "output_type": "stream",
     "text": [
      "[2025-07-30 03:39:58.056] Start to evalute the model:\n",
      "[2025-07-30 03:39:58.063] Evaluating cascade layer = 0 \n",
      "[2025-07-30 03:39:58.253] Evaluating cascade layer = 1 \n",
      "[2025-07-30 03:39:58.470] Start to evalute the model:\n",
      "[2025-07-30 03:39:58.470] Evaluating cascade layer = 0 \n",
      "[2025-07-30 03:39:58.572] Evaluating cascade layer = 1 \n"
     ]
    },
    {
     "name": "stderr",
     "output_type": "stream",
     "text": [
      "Exact explainer:  10%|▉         | 20/206 [00:12<01:45,  1.76it/s]"
     ]
    },
    {
     "name": "stdout",
     "output_type": "stream",
     "text": [
      "[2025-07-30 03:39:58.707] Start to evalute the model:\n",
      "[2025-07-30 03:39:58.714] Evaluating cascade layer = 0 \n",
      "[2025-07-30 03:39:58.904] Evaluating cascade layer = 1 \n",
      "[2025-07-30 03:39:59.119] Start to evalute the model:\n",
      "[2025-07-30 03:39:59.119] Evaluating cascade layer = 0 \n",
      "[2025-07-30 03:39:59.252] Evaluating cascade layer = 1 \n"
     ]
    },
    {
     "name": "stderr",
     "output_type": "stream",
     "text": [
      "Exact explainer:  10%|█         | 21/206 [00:13<01:50,  1.67it/s]"
     ]
    },
    {
     "name": "stdout",
     "output_type": "stream",
     "text": [
      "[2025-07-30 03:39:59.362] Start to evalute the model:\n",
      "[2025-07-30 03:39:59.373] Evaluating cascade layer = 0 \n",
      "[2025-07-30 03:39:59.647] Evaluating cascade layer = 1 \n",
      "[2025-07-30 03:39:59.870] Start to evalute the model:\n",
      "[2025-07-30 03:39:59.871] Evaluating cascade layer = 0 \n",
      "[2025-07-30 03:39:59.983] Evaluating cascade layer = 1 \n"
     ]
    },
    {
     "name": "stderr",
     "output_type": "stream",
     "text": [
      "Exact explainer:  11%|█         | 22/206 [00:13<01:59,  1.54it/s]"
     ]
    },
    {
     "name": "stdout",
     "output_type": "stream",
     "text": [
      "[2025-07-30 03:40:00.114] Start to evalute the model:\n",
      "[2025-07-30 03:40:00.114] Evaluating cascade layer = 0 \n",
      "[2025-07-30 03:40:00.336] Evaluating cascade layer = 1 \n",
      "[2025-07-30 03:40:00.571] Start to evalute the model:\n",
      "[2025-07-30 03:40:00.571] Evaluating cascade layer = 0 \n",
      "[2025-07-30 03:40:00.689] Evaluating cascade layer = 1 \n"
     ]
    },
    {
     "name": "stderr",
     "output_type": "stream",
     "text": [
      "Exact explainer:  11%|█         | 23/206 [00:14<02:02,  1.49it/s]"
     ]
    },
    {
     "name": "stdout",
     "output_type": "stream",
     "text": [
      "[2025-07-30 03:40:00.832] Start to evalute the model:\n",
      "[2025-07-30 03:40:00.836] Evaluating cascade layer = 0 \n",
      "[2025-07-30 03:40:01.035] Evaluating cascade layer = 1 \n",
      "[2025-07-30 03:40:01.249] Start to evalute the model:\n",
      "[2025-07-30 03:40:01.249] Evaluating cascade layer = 0 \n",
      "[2025-07-30 03:40:01.353] Evaluating cascade layer = 1 \n"
     ]
    },
    {
     "name": "stderr",
     "output_type": "stream",
     "text": [
      "Exact explainer:  12%|█▏        | 24/206 [00:15<02:00,  1.51it/s]"
     ]
    },
    {
     "name": "stdout",
     "output_type": "stream",
     "text": [
      "[2025-07-30 03:40:01.473] Start to evalute the model:\n",
      "[2025-07-30 03:40:01.477] Evaluating cascade layer = 0 \n",
      "[2025-07-30 03:40:01.699] Evaluating cascade layer = 1 \n",
      "[2025-07-30 03:40:01.919] Start to evalute the model:\n",
      "[2025-07-30 03:40:01.920] Evaluating cascade layer = 0 \n",
      "[2025-07-30 03:40:02.018] Evaluating cascade layer = 1 \n"
     ]
    },
    {
     "name": "stderr",
     "output_type": "stream",
     "text": [
      "Exact explainer:  12%|█▏        | 25/206 [00:15<02:00,  1.50it/s]"
     ]
    },
    {
     "name": "stdout",
     "output_type": "stream",
     "text": [
      "[2025-07-30 03:40:02.152] Start to evalute the model:\n",
      "[2025-07-30 03:40:02.152] Evaluating cascade layer = 0 \n",
      "[2025-07-30 03:40:02.366] Evaluating cascade layer = 1 \n",
      "[2025-07-30 03:40:02.617] Start to evalute the model:\n",
      "[2025-07-30 03:40:02.618] Evaluating cascade layer = 0 \n",
      "[2025-07-30 03:40:02.738] Evaluating cascade layer = 1 \n"
     ]
    },
    {
     "name": "stderr",
     "output_type": "stream",
     "text": [
      "Exact explainer:  13%|█▎        | 26/206 [00:16<02:02,  1.47it/s]"
     ]
    },
    {
     "name": "stdout",
     "output_type": "stream",
     "text": [
      "[2025-07-30 03:40:02.861] Start to evalute the model:\n",
      "[2025-07-30 03:40:02.864] Evaluating cascade layer = 0 \n",
      "[2025-07-30 03:40:03.057] Evaluating cascade layer = 1 \n",
      "[2025-07-30 03:40:03.252] Start to evalute the model:\n",
      "[2025-07-30 03:40:03.252] Evaluating cascade layer = 0 \n",
      "[2025-07-30 03:40:03.364] Evaluating cascade layer = 1 \n"
     ]
    },
    {
     "name": "stderr",
     "output_type": "stream",
     "text": [
      "Exact explainer:  13%|█▎        | 27/206 [00:17<01:59,  1.50it/s]"
     ]
    },
    {
     "name": "stdout",
     "output_type": "stream",
     "text": [
      "[2025-07-30 03:40:03.496] Start to evalute the model:\n",
      "[2025-07-30 03:40:03.509] Evaluating cascade layer = 0 \n",
      "[2025-07-30 03:40:03.720] Evaluating cascade layer = 1 \n",
      "[2025-07-30 03:40:03.932] Start to evalute the model:\n",
      "[2025-07-30 03:40:03.932] Evaluating cascade layer = 0 \n",
      "[2025-07-30 03:40:04.035] Evaluating cascade layer = 1 \n"
     ]
    },
    {
     "name": "stderr",
     "output_type": "stream",
     "text": [
      "Exact explainer:  14%|█▎        | 28/206 [00:17<01:58,  1.51it/s]"
     ]
    },
    {
     "name": "stdout",
     "output_type": "stream",
     "text": [
      "[2025-07-30 03:40:04.156] Start to evalute the model:\n",
      "[2025-07-30 03:40:04.163] Evaluating cascade layer = 0 \n",
      "[2025-07-30 03:40:04.357] Evaluating cascade layer = 1 \n",
      "[2025-07-30 03:40:04.552] Start to evalute the model:\n",
      "[2025-07-30 03:40:04.552] Evaluating cascade layer = 0 \n"
     ]
    },
    {
     "name": "stderr",
     "output_type": "stream",
     "text": [
      "Exact explainer:  14%|█▍        | 29/206 [00:18<01:56,  1.52it/s]"
     ]
    },
    {
     "name": "stdout",
     "output_type": "stream",
     "text": [
      "[2025-07-30 03:40:04.670] Evaluating cascade layer = 1 \n",
      "[2025-07-30 03:40:04.804] Start to evalute the model:\n",
      "[2025-07-30 03:40:04.806] Evaluating cascade layer = 0 \n",
      "[2025-07-30 03:40:05.073] Evaluating cascade layer = 1 \n",
      "[2025-07-30 03:40:05.271] Start to evalute the model:\n",
      "[2025-07-30 03:40:05.271] Evaluating cascade layer = 0 \n"
     ]
    },
    {
     "name": "stderr",
     "output_type": "stream",
     "text": [
      "Exact explainer:  15%|█▍        | 30/206 [00:19<01:58,  1.48it/s]"
     ]
    },
    {
     "name": "stdout",
     "output_type": "stream",
     "text": [
      "[2025-07-30 03:40:05.401] Evaluating cascade layer = 1 \n",
      "[2025-07-30 03:40:05.506] Start to evalute the model:\n",
      "[2025-07-30 03:40:05.506] Evaluating cascade layer = 0 \n",
      "[2025-07-30 03:40:05.757] Evaluating cascade layer = 1 \n",
      "[2025-07-30 03:40:05.957] Start to evalute the model:\n",
      "[2025-07-30 03:40:05.957] Evaluating cascade layer = 0 \n"
     ]
    },
    {
     "name": "stderr",
     "output_type": "stream",
     "text": [
      "Exact explainer:  15%|█▌        | 31/206 [00:19<01:58,  1.47it/s]"
     ]
    },
    {
     "name": "stdout",
     "output_type": "stream",
     "text": [
      "[2025-07-30 03:40:06.085] Evaluating cascade layer = 1 \n",
      "[2025-07-30 03:40:06.200] Start to evalute the model:\n",
      "[2025-07-30 03:40:06.200] Evaluating cascade layer = 0 \n",
      "[2025-07-30 03:40:06.458] Evaluating cascade layer = 1 \n",
      "[2025-07-30 03:40:06.677] Start to evalute the model:\n",
      "[2025-07-30 03:40:06.678] Evaluating cascade layer = 0 \n",
      "[2025-07-30 03:40:06.805] Evaluating cascade layer = 1 \n"
     ]
    },
    {
     "name": "stderr",
     "output_type": "stream",
     "text": [
      "Exact explainer:  16%|█▌        | 32/206 [00:20<02:00,  1.45it/s]"
     ]
    },
    {
     "name": "stdout",
     "output_type": "stream",
     "text": [
      "[2025-07-30 03:40:06.919] Start to evalute the model:\n",
      "[2025-07-30 03:40:06.931] Evaluating cascade layer = 0 \n",
      "[2025-07-30 03:40:07.136] Evaluating cascade layer = 1 \n",
      "[2025-07-30 03:40:07.350] Start to evalute the model:\n",
      "[2025-07-30 03:40:07.350] Evaluating cascade layer = 0 \n",
      "[2025-07-30 03:40:07.454] Evaluating cascade layer = 1 \n"
     ]
    },
    {
     "name": "stderr",
     "output_type": "stream",
     "text": [
      "Exact explainer:  16%|█▌        | 33/206 [00:21<01:57,  1.47it/s]"
     ]
    },
    {
     "name": "stdout",
     "output_type": "stream",
     "text": [
      "[2025-07-30 03:40:07.572] Start to evalute the model:\n",
      "[2025-07-30 03:40:07.579] Evaluating cascade layer = 0 \n",
      "[2025-07-30 03:40:07.787] Evaluating cascade layer = 1 \n",
      "[2025-07-30 03:40:08.006] Start to evalute the model:\n",
      "[2025-07-30 03:40:08.007] Evaluating cascade layer = 0 \n",
      "[2025-07-30 03:40:08.118] Evaluating cascade layer = 1 \n"
     ]
    },
    {
     "name": "stderr",
     "output_type": "stream",
     "text": [
      "Exact explainer:  17%|█▋        | 34/206 [00:21<01:56,  1.47it/s]"
     ]
    },
    {
     "name": "stdout",
     "output_type": "stream",
     "text": [
      "[2025-07-30 03:40:08.254] Start to evalute the model:\n",
      "[2025-07-30 03:40:08.256] Evaluating cascade layer = 0 \n",
      "[2025-07-30 03:40:08.537] Evaluating cascade layer = 1 \n",
      "[2025-07-30 03:40:08.763] Start to evalute the model:\n",
      "[2025-07-30 03:40:08.764] Evaluating cascade layer = 0 \n",
      "[2025-07-30 03:40:08.868] Evaluating cascade layer = 1 \n"
     ]
    },
    {
     "name": "stderr",
     "output_type": "stream",
     "text": [
      "Exact explainer:  17%|█▋        | 35/206 [00:22<01:58,  1.45it/s]"
     ]
    },
    {
     "name": "stdout",
     "output_type": "stream",
     "text": [
      "[2025-07-30 03:40:08.969] Start to evalute the model:\n",
      "[2025-07-30 03:40:08.984] Evaluating cascade layer = 0 \n",
      "[2025-07-30 03:40:09.211] Evaluating cascade layer = 1 \n",
      "[2025-07-30 03:40:09.424] Start to evalute the model:\n",
      "[2025-07-30 03:40:09.425] Evaluating cascade layer = 0 \n",
      "[2025-07-30 03:40:09.520] Evaluating cascade layer = 1 \n"
     ]
    },
    {
     "name": "stderr",
     "output_type": "stream",
     "text": [
      "Exact explainer:  17%|█▋        | 36/206 [00:23<01:56,  1.46it/s]"
     ]
    },
    {
     "name": "stdout",
     "output_type": "stream",
     "text": [
      "[2025-07-30 03:40:09.638] Start to evalute the model:\n",
      "[2025-07-30 03:40:09.638] Evaluating cascade layer = 0 \n",
      "[2025-07-30 03:40:09.878] Evaluating cascade layer = 1 \n",
      "[2025-07-30 03:40:10.085] Start to evalute the model:\n",
      "[2025-07-30 03:40:10.085] Evaluating cascade layer = 0 \n",
      "[2025-07-30 03:40:10.219] Evaluating cascade layer = 1 \n"
     ]
    },
    {
     "name": "stderr",
     "output_type": "stream",
     "text": [
      "Exact explainer:  18%|█▊        | 37/206 [00:24<01:56,  1.45it/s]"
     ]
    },
    {
     "name": "stdout",
     "output_type": "stream",
     "text": [
      "[2025-07-30 03:40:10.340] Start to evalute the model:\n",
      "[2025-07-30 03:40:10.347] Evaluating cascade layer = 0 \n",
      "[2025-07-30 03:40:10.565] Evaluating cascade layer = 1 \n",
      "[2025-07-30 03:40:10.805] Start to evalute the model:\n",
      "[2025-07-30 03:40:10.806] Evaluating cascade layer = 0 \n",
      "[2025-07-30 03:40:10.916] Evaluating cascade layer = 1 \n"
     ]
    },
    {
     "name": "stderr",
     "output_type": "stream",
     "text": [
      "Exact explainer:  18%|█▊        | 38/206 [00:24<01:57,  1.43it/s]"
     ]
    },
    {
     "name": "stdout",
     "output_type": "stream",
     "text": [
      "[2025-07-30 03:40:11.071] Start to evalute the model:\n",
      "[2025-07-30 03:40:11.078] Evaluating cascade layer = 0 \n",
      "[2025-07-30 03:40:11.287] Evaluating cascade layer = 1 \n",
      "[2025-07-30 03:40:11.507] Start to evalute the model:\n",
      "[2025-07-30 03:40:11.508] Evaluating cascade layer = 0 \n",
      "[2025-07-30 03:40:11.602] Evaluating cascade layer = 1 \n"
     ]
    },
    {
     "name": "stderr",
     "output_type": "stream",
     "text": [
      "Exact explainer:  19%|█▉        | 39/206 [00:25<01:54,  1.46it/s]"
     ]
    },
    {
     "name": "stdout",
     "output_type": "stream",
     "text": [
      "[2025-07-30 03:40:11.717] Start to evalute the model:\n",
      "[2025-07-30 03:40:11.717] Evaluating cascade layer = 0 \n",
      "[2025-07-30 03:40:11.924] Evaluating cascade layer = 1 \n",
      "[2025-07-30 03:40:12.136] Start to evalute the model:\n",
      "[2025-07-30 03:40:12.136] Evaluating cascade layer = 0 \n",
      "[2025-07-30 03:40:12.254] Evaluating cascade layer = 1 \n"
     ]
    },
    {
     "name": "stderr",
     "output_type": "stream",
     "text": [
      "Exact explainer:  19%|█▉        | 40/206 [00:26<01:52,  1.47it/s]"
     ]
    },
    {
     "name": "stdout",
     "output_type": "stream",
     "text": [
      "[2025-07-30 03:40:12.378] Start to evalute the model:\n",
      "[2025-07-30 03:40:12.396] Evaluating cascade layer = 0 \n",
      "[2025-07-30 03:40:12.604] Evaluating cascade layer = 1 \n",
      "[2025-07-30 03:40:12.887] Start to evalute the model:\n",
      "[2025-07-30 03:40:12.888] Evaluating cascade layer = 0 \n",
      "[2025-07-30 03:40:12.984] Evaluating cascade layer = 1 \n"
     ]
    },
    {
     "name": "stderr",
     "output_type": "stream",
     "text": [
      "Exact explainer:  20%|█▉        | 41/206 [00:26<01:52,  1.46it/s]"
     ]
    },
    {
     "name": "stdout",
     "output_type": "stream",
     "text": [
      "[2025-07-30 03:40:13.071] Start to evalute the model:\n",
      "[2025-07-30 03:40:13.071] Evaluating cascade layer = 0 \n",
      "[2025-07-30 03:40:13.300] Evaluating cascade layer = 1 \n",
      "[2025-07-30 03:40:13.516] Start to evalute the model:\n",
      "[2025-07-30 03:40:13.516] Evaluating cascade layer = 0 \n",
      "[2025-07-30 03:40:13.618] Evaluating cascade layer = 1 \n"
     ]
    },
    {
     "name": "stderr",
     "output_type": "stream",
     "text": [
      "Exact explainer:  20%|██        | 42/206 [00:27<01:52,  1.46it/s]"
     ]
    },
    {
     "name": "stdout",
     "output_type": "stream",
     "text": [
      "[2025-07-30 03:40:13.770] Start to evalute the model:\n",
      "[2025-07-30 03:40:13.775] Evaluating cascade layer = 0 \n",
      "[2025-07-30 03:40:13.986] Evaluating cascade layer = 1 \n",
      "[2025-07-30 03:40:14.200] Start to evalute the model:\n",
      "[2025-07-30 03:40:14.200] Evaluating cascade layer = 0 \n",
      "[2025-07-30 03:40:14.303] Evaluating cascade layer = 1 \n"
     ]
    },
    {
     "name": "stderr",
     "output_type": "stream",
     "text": [
      "Exact explainer:  21%|██        | 43/206 [00:28<01:50,  1.48it/s]"
     ]
    },
    {
     "name": "stdout",
     "output_type": "stream",
     "text": [
      "[2025-07-30 03:40:14.424] Start to evalute the model:\n",
      "[2025-07-30 03:40:14.428] Evaluating cascade layer = 0 \n",
      "[2025-07-30 03:40:14.654] Evaluating cascade layer = 1 \n",
      "[2025-07-30 03:40:14.866] Start to evalute the model:\n",
      "[2025-07-30 03:40:14.866] Evaluating cascade layer = 0 \n",
      "[2025-07-30 03:40:14.970] Evaluating cascade layer = 1 \n"
     ]
    },
    {
     "name": "stderr",
     "output_type": "stream",
     "text": [
      "Exact explainer:  21%|██▏       | 44/206 [00:28<01:50,  1.47it/s]"
     ]
    },
    {
     "name": "stdout",
     "output_type": "stream",
     "text": [
      "[2025-07-30 03:40:15.122] Start to evalute the model:\n",
      "[2025-07-30 03:40:15.133] Evaluating cascade layer = 0 \n",
      "[2025-07-30 03:40:15.364] Evaluating cascade layer = 1 \n",
      "[2025-07-30 03:40:15.594] Start to evalute the model:\n",
      "[2025-07-30 03:40:15.594] Evaluating cascade layer = 0 \n",
      "[2025-07-30 03:40:15.702] Evaluating cascade layer = 1 \n"
     ]
    },
    {
     "name": "stderr",
     "output_type": "stream",
     "text": [
      "Exact explainer:  22%|██▏       | 45/206 [00:29<01:50,  1.45it/s]"
     ]
    },
    {
     "name": "stdout",
     "output_type": "stream",
     "text": [
      "[2025-07-30 03:40:15.822] Start to evalute the model:\n",
      "[2025-07-30 03:40:15.829] Evaluating cascade layer = 0 \n",
      "[2025-07-30 03:40:16.053] Evaluating cascade layer = 1 \n",
      "[2025-07-30 03:40:16.338] Start to evalute the model:\n",
      "[2025-07-30 03:40:16.339] Evaluating cascade layer = 0 \n",
      "[2025-07-30 03:40:16.451] Evaluating cascade layer = 1 \n"
     ]
    },
    {
     "name": "stderr",
     "output_type": "stream",
     "text": [
      "Exact explainer:  22%|██▏       | 46/206 [00:30<01:53,  1.42it/s]"
     ]
    },
    {
     "name": "stdout",
     "output_type": "stream",
     "text": [
      "[2025-07-30 03:40:16.564] Start to evalute the model:\n",
      "[2025-07-30 03:40:16.564] Evaluating cascade layer = 0 \n",
      "[2025-07-30 03:40:16.787] Evaluating cascade layer = 1 \n",
      "[2025-07-30 03:40:16.987] Start to evalute the model:\n",
      "[2025-07-30 03:40:16.987] Evaluating cascade layer = 0 \n",
      "[2025-07-30 03:40:17.103] Evaluating cascade layer = 1 \n"
     ]
    },
    {
     "name": "stderr",
     "output_type": "stream",
     "text": [
      "Exact explainer:  23%|██▎       | 47/206 [00:30<01:49,  1.45it/s]"
     ]
    },
    {
     "name": "stdout",
     "output_type": "stream",
     "text": [
      "[2025-07-30 03:40:17.226] Start to evalute the model:\n",
      "[2025-07-30 03:40:17.227] Evaluating cascade layer = 0 \n",
      "[2025-07-30 03:40:17.436] Evaluating cascade layer = 1 \n",
      "[2025-07-30 03:40:17.669] Start to evalute the model:\n",
      "[2025-07-30 03:40:17.670] Evaluating cascade layer = 0 \n",
      "[2025-07-30 03:40:17.790] Evaluating cascade layer = 1 \n"
     ]
    },
    {
     "name": "stderr",
     "output_type": "stream",
     "text": [
      "Exact explainer:  23%|██▎       | 48/206 [00:31<01:49,  1.44it/s]"
     ]
    },
    {
     "name": "stdout",
     "output_type": "stream",
     "text": [
      "[2025-07-30 03:40:17.923] Start to evalute the model:\n",
      "[2025-07-30 03:40:17.930] Evaluating cascade layer = 0 \n",
      "[2025-07-30 03:40:18.136] Evaluating cascade layer = 1 \n",
      "[2025-07-30 03:40:18.372] Start to evalute the model:\n",
      "[2025-07-30 03:40:18.373] Evaluating cascade layer = 0 \n",
      "[2025-07-30 03:40:18.499] Evaluating cascade layer = 1 \n"
     ]
    },
    {
     "name": "stderr",
     "output_type": "stream",
     "text": [
      "Exact explainer:  24%|██▍       | 49/206 [00:32<01:49,  1.44it/s]"
     ]
    },
    {
     "name": "stdout",
     "output_type": "stream",
     "text": [
      "[2025-07-30 03:40:18.616] Start to evalute the model:\n",
      "[2025-07-30 03:40:18.616] Evaluating cascade layer = 0 \n",
      "[2025-07-30 03:40:18.836] Evaluating cascade layer = 1 \n",
      "[2025-07-30 03:40:19.050] Start to evalute the model:\n",
      "[2025-07-30 03:40:19.050] Evaluating cascade layer = 0 \n",
      "[2025-07-30 03:40:19.170] Evaluating cascade layer = 1 \n"
     ]
    },
    {
     "name": "stderr",
     "output_type": "stream",
     "text": [
      "Exact explainer:  24%|██▍       | 50/206 [00:32<01:47,  1.46it/s]"
     ]
    },
    {
     "name": "stdout",
     "output_type": "stream",
     "text": [
      "[2025-07-30 03:40:19.291] Start to evalute the model:\n",
      "[2025-07-30 03:40:19.295] Evaluating cascade layer = 0 \n",
      "[2025-07-30 03:40:19.521] Evaluating cascade layer = 1 \n",
      "[2025-07-30 03:40:19.733] Start to evalute the model:\n",
      "[2025-07-30 03:40:19.733] Evaluating cascade layer = 0 \n",
      "[2025-07-30 03:40:19.837] Evaluating cascade layer = 1 \n"
     ]
    },
    {
     "name": "stderr",
     "output_type": "stream",
     "text": [
      "Exact explainer:  25%|██▍       | 51/206 [00:33<01:44,  1.48it/s]"
     ]
    },
    {
     "name": "stdout",
     "output_type": "stream",
     "text": [
      "[2025-07-30 03:40:19.932] Start to evalute the model:\n",
      "[2025-07-30 03:40:19.932] Evaluating cascade layer = 0 \n",
      "[2025-07-30 03:40:20.215] Evaluating cascade layer = 1 \n",
      "[2025-07-30 03:40:20.435] Start to evalute the model:\n",
      "[2025-07-30 03:40:20.435] Evaluating cascade layer = 0 \n",
      "[2025-07-30 03:40:20.551] Evaluating cascade layer = 1 \n"
     ]
    },
    {
     "name": "stderr",
     "output_type": "stream",
     "text": [
      "Exact explainer:  25%|██▌       | 52/206 [00:34<01:46,  1.44it/s]"
     ]
    },
    {
     "name": "stdout",
     "output_type": "stream",
     "text": [
      "[2025-07-30 03:40:20.667] Start to evalute the model:\n",
      "[2025-07-30 03:40:20.667] Evaluating cascade layer = 0 \n",
      "[2025-07-30 03:40:20.913] Evaluating cascade layer = 1 \n",
      "[2025-07-30 03:40:21.139] Start to evalute the model:\n",
      "[2025-07-30 03:40:21.140] Evaluating cascade layer = 0 \n",
      "[2025-07-30 03:40:21.236] Evaluating cascade layer = 1 \n"
     ]
    },
    {
     "name": "stderr",
     "output_type": "stream",
     "text": [
      "Exact explainer:  26%|██▌       | 53/206 [00:35<01:43,  1.47it/s]"
     ]
    },
    {
     "name": "stdout",
     "output_type": "stream",
     "text": [
      "[2025-07-30 03:40:21.315] Start to evalute the model:\n",
      "[2025-07-30 03:40:21.331] Evaluating cascade layer = 0 \n",
      "[2025-07-30 03:40:21.636] Evaluating cascade layer = 1 \n",
      "[2025-07-30 03:40:21.857] Start to evalute the model:\n",
      "[2025-07-30 03:40:21.858] Evaluating cascade layer = 0 \n",
      "[2025-07-30 03:40:21.967] Evaluating cascade layer = 1 \n"
     ]
    },
    {
     "name": "stderr",
     "output_type": "stream",
     "text": [
      "Exact explainer:  26%|██▌       | 54/206 [00:35<01:47,  1.42it/s]"
     ]
    },
    {
     "name": "stdout",
     "output_type": "stream",
     "text": [
      "[2025-07-30 03:40:22.088] Start to evalute the model:\n",
      "[2025-07-30 03:40:22.089] Evaluating cascade layer = 0 \n",
      "[2025-07-30 03:40:22.319] Evaluating cascade layer = 1 \n",
      "[2025-07-30 03:40:22.553] Start to evalute the model:\n",
      "[2025-07-30 03:40:22.554] Evaluating cascade layer = 0 \n",
      "[2025-07-30 03:40:22.667] Evaluating cascade layer = 1 \n"
     ]
    },
    {
     "name": "stderr",
     "output_type": "stream",
     "text": [
      "Exact explainer:  27%|██▋       | 55/206 [00:36<01:45,  1.43it/s]"
     ]
    },
    {
     "name": "stdout",
     "output_type": "stream",
     "text": [
      "[2025-07-30 03:40:22.776] Start to evalute the model:\n",
      "[2025-07-30 03:40:22.796] Evaluating cascade layer = 0 \n",
      "[2025-07-30 03:40:23.017] Evaluating cascade layer = 1 \n",
      "[2025-07-30 03:40:23.239] Start to evalute the model:\n",
      "[2025-07-30 03:40:23.240] Evaluating cascade layer = 0 \n",
      "[2025-07-30 03:40:23.353] Evaluating cascade layer = 1 \n"
     ]
    },
    {
     "name": "stderr",
     "output_type": "stream",
     "text": [
      "Exact explainer:  27%|██▋       | 56/206 [00:37<01:45,  1.42it/s]"
     ]
    },
    {
     "name": "stdout",
     "output_type": "stream",
     "text": [
      "[2025-07-30 03:40:23.490] Start to evalute the model:\n",
      "[2025-07-30 03:40:23.498] Evaluating cascade layer = 0 \n",
      "[2025-07-30 03:40:23.718] Evaluating cascade layer = 1 \n",
      "[2025-07-30 03:40:23.981] Start to evalute the model:\n",
      "[2025-07-30 03:40:23.981] Evaluating cascade layer = 0 \n",
      "[2025-07-30 03:40:24.101] Evaluating cascade layer = 1 \n"
     ]
    },
    {
     "name": "stderr",
     "output_type": "stream",
     "text": [
      "Exact explainer:  28%|██▊       | 57/206 [00:37<01:46,  1.40it/s]"
     ]
    },
    {
     "name": "stdout",
     "output_type": "stream",
     "text": [
      "[2025-07-30 03:40:24.217] Start to evalute the model:\n",
      "[2025-07-30 03:40:24.217] Evaluating cascade layer = 0 \n",
      "[2025-07-30 03:40:24.436] Evaluating cascade layer = 1 \n",
      "[2025-07-30 03:40:24.637] Start to evalute the model:\n",
      "[2025-07-30 03:40:24.637] Evaluating cascade layer = 0 \n",
      "[2025-07-30 03:40:24.741] Evaluating cascade layer = 1 \n"
     ]
    },
    {
     "name": "stderr",
     "output_type": "stream",
     "text": [
      "Exact explainer:  28%|██▊       | 58/206 [00:38<01:40,  1.47it/s]"
     ]
    },
    {
     "name": "stdout",
     "output_type": "stream",
     "text": [
      "[2025-07-30 03:40:24.820] Start to evalute the model:\n",
      "[2025-07-30 03:40:24.820] Evaluating cascade layer = 0 \n",
      "[2025-07-30 03:40:25.049] Evaluating cascade layer = 1 \n",
      "[2025-07-30 03:40:25.272] Start to evalute the model:\n",
      "[2025-07-30 03:40:25.272] Evaluating cascade layer = 0 \n",
      "[2025-07-30 03:40:25.386] Evaluating cascade layer = 1 \n"
     ]
    },
    {
     "name": "stderr",
     "output_type": "stream",
     "text": [
      "Exact explainer:  29%|██▊       | 59/206 [00:39<01:39,  1.48it/s]"
     ]
    },
    {
     "name": "stdout",
     "output_type": "stream",
     "text": [
      "[2025-07-30 03:40:25.488] Start to evalute the model:\n",
      "[2025-07-30 03:40:25.488] Evaluating cascade layer = 0 \n",
      "[2025-07-30 03:40:25.719] Evaluating cascade layer = 1 \n",
      "[2025-07-30 03:40:25.933] Start to evalute the model:\n",
      "[2025-07-30 03:40:25.933] Evaluating cascade layer = 0 \n",
      "[2025-07-30 03:40:26.054] Evaluating cascade layer = 1 \n"
     ]
    },
    {
     "name": "stderr",
     "output_type": "stream",
     "text": [
      "Exact explainer:  29%|██▉       | 60/206 [00:39<01:39,  1.47it/s]"
     ]
    },
    {
     "name": "stdout",
     "output_type": "stream",
     "text": [
      "[2025-07-30 03:40:26.177] Start to evalute the model:\n",
      "[2025-07-30 03:40:26.184] Evaluating cascade layer = 0 \n",
      "[2025-07-30 03:40:26.403] Evaluating cascade layer = 1 \n",
      "[2025-07-30 03:40:26.623] Start to evalute the model:\n",
      "[2025-07-30 03:40:26.624] Evaluating cascade layer = 0 \n",
      "[2025-07-30 03:40:26.753] Evaluating cascade layer = 1 \n"
     ]
    },
    {
     "name": "stderr",
     "output_type": "stream",
     "text": [
      "Exact explainer:  30%|██▉       | 61/206 [00:40<01:39,  1.46it/s]"
     ]
    },
    {
     "name": "stdout",
     "output_type": "stream",
     "text": [
      "[2025-07-30 03:40:26.869] Start to evalute the model:\n",
      "[2025-07-30 03:40:26.875] Evaluating cascade layer = 0 \n",
      "[2025-07-30 03:40:27.087] Evaluating cascade layer = 1 \n",
      "[2025-07-30 03:40:27.355] Start to evalute the model:\n",
      "[2025-07-30 03:40:27.355] Evaluating cascade layer = 0 \n",
      "[2025-07-30 03:40:27.436] Evaluating cascade layer = 1 \n"
     ]
    },
    {
     "name": "stderr",
     "output_type": "stream",
     "text": [
      "Exact explainer:  30%|███       | 62/206 [00:41<01:38,  1.46it/s]"
     ]
    },
    {
     "name": "stdout",
     "output_type": "stream",
     "text": [
      "[2025-07-30 03:40:27.560] Start to evalute the model:\n",
      "[2025-07-30 03:40:27.560] Evaluating cascade layer = 0 \n",
      "[2025-07-30 03:40:27.798] Evaluating cascade layer = 1 \n",
      "[2025-07-30 03:40:28.022] Start to evalute the model:\n",
      "[2025-07-30 03:40:28.023] Evaluating cascade layer = 0 \n",
      "[2025-07-30 03:40:28.117] Evaluating cascade layer = 1 \n"
     ]
    },
    {
     "name": "stderr",
     "output_type": "stream",
     "text": [
      "Exact explainer:  31%|███       | 63/206 [00:41<01:37,  1.46it/s]"
     ]
    },
    {
     "name": "stdout",
     "output_type": "stream",
     "text": [
      "[2025-07-30 03:40:28.250] Start to evalute the model:\n",
      "[2025-07-30 03:40:28.258] Evaluating cascade layer = 0 \n",
      "[2025-07-30 03:40:28.471] Evaluating cascade layer = 1 \n",
      "[2025-07-30 03:40:28.683] Start to evalute the model:\n",
      "[2025-07-30 03:40:28.683] Evaluating cascade layer = 0 \n",
      "[2025-07-30 03:40:28.786] Evaluating cascade layer = 1 \n"
     ]
    },
    {
     "name": "stderr",
     "output_type": "stream",
     "text": [
      "Exact explainer:  31%|███       | 64/206 [00:42<01:36,  1.48it/s]"
     ]
    },
    {
     "name": "stdout",
     "output_type": "stream",
     "text": [
      "[2025-07-30 03:40:28.905] Start to evalute the model:\n",
      "[2025-07-30 03:40:28.907] Evaluating cascade layer = 0 \n",
      "[2025-07-30 03:40:29.132] Evaluating cascade layer = 1 \n",
      "[2025-07-30 03:40:29.335] Start to evalute the model:\n",
      "[2025-07-30 03:40:29.335] Evaluating cascade layer = 0 \n",
      "[2025-07-30 03:40:29.453] Evaluating cascade layer = 1 \n"
     ]
    },
    {
     "name": "stderr",
     "output_type": "stream",
     "text": [
      "Exact explainer:  32%|███▏      | 65/206 [00:43<01:35,  1.47it/s]"
     ]
    },
    {
     "name": "stdout",
     "output_type": "stream",
     "text": [
      "[2025-07-30 03:40:29.587] Start to evalute the model:\n",
      "[2025-07-30 03:40:29.592] Evaluating cascade layer = 0 \n",
      "[2025-07-30 03:40:29.804] Evaluating cascade layer = 1 \n",
      "[2025-07-30 03:40:30.017] Start to evalute the model:\n",
      "[2025-07-30 03:40:30.017] Evaluating cascade layer = 0 \n",
      "[2025-07-30 03:40:30.168] Evaluating cascade layer = 1 \n"
     ]
    },
    {
     "name": "stderr",
     "output_type": "stream",
     "text": [
      "Exact explainer:  32%|███▏      | 66/206 [00:43<01:35,  1.47it/s]"
     ]
    },
    {
     "name": "stdout",
     "output_type": "stream",
     "text": [
      "[2025-07-30 03:40:30.277] Start to evalute the model:\n",
      "[2025-07-30 03:40:30.282] Evaluating cascade layer = 0 \n",
      "[2025-07-30 03:40:30.500] Evaluating cascade layer = 1 \n",
      "[2025-07-30 03:40:30.755] Start to evalute the model:\n",
      "[2025-07-30 03:40:30.756] Evaluating cascade layer = 0 \n",
      "[2025-07-30 03:40:30.855] Evaluating cascade layer = 1 \n"
     ]
    },
    {
     "name": "stderr",
     "output_type": "stream",
     "text": [
      "Exact explainer:  33%|███▎      | 67/206 [00:44<01:35,  1.45it/s]"
     ]
    },
    {
     "name": "stdout",
     "output_type": "stream",
     "text": [
      "[2025-07-30 03:40:30.979] Start to evalute the model:\n",
      "[2025-07-30 03:40:30.992] Evaluating cascade layer = 0 \n",
      "[2025-07-30 03:40:31.230] Evaluating cascade layer = 1 \n",
      "[2025-07-30 03:40:31.439] Start to evalute the model:\n",
      "[2025-07-30 03:40:31.439] Evaluating cascade layer = 0 \n",
      "[2025-07-30 03:40:31.553] Evaluating cascade layer = 1 \n"
     ]
    },
    {
     "name": "stderr",
     "output_type": "stream",
     "text": [
      "Exact explainer:  33%|███▎      | 68/206 [00:45<01:36,  1.43it/s]"
     ]
    },
    {
     "name": "stdout",
     "output_type": "stream",
     "text": [
      "[2025-07-30 03:40:31.697] Start to evalute the model:\n",
      "[2025-07-30 03:40:31.705] Evaluating cascade layer = 0 \n",
      "[2025-07-30 03:40:31.921] Evaluating cascade layer = 1 \n",
      "[2025-07-30 03:40:32.137] Start to evalute the model:\n",
      "[2025-07-30 03:40:32.137] Evaluating cascade layer = 0 \n",
      "[2025-07-30 03:40:32.237] Evaluating cascade layer = 1 \n"
     ]
    },
    {
     "name": "stderr",
     "output_type": "stream",
     "text": [
      "Exact explainer:  33%|███▎      | 69/206 [00:46<01:32,  1.48it/s]"
     ]
    },
    {
     "name": "stdout",
     "output_type": "stream",
     "text": [
      "[2025-07-30 03:40:32.321] Start to evalute the model:\n",
      "[2025-07-30 03:40:32.321] Evaluating cascade layer = 0 \n",
      "[2025-07-30 03:40:32.516] Evaluating cascade layer = 1 \n",
      "[2025-07-30 03:40:32.720] Start to evalute the model:\n",
      "[2025-07-30 03:40:32.720] Evaluating cascade layer = 0 \n",
      "[2025-07-30 03:40:32.833] Evaluating cascade layer = 1 \n"
     ]
    },
    {
     "name": "stderr",
     "output_type": "stream",
     "text": [
      "Exact explainer:  34%|███▍      | 70/206 [00:46<01:29,  1.52it/s]"
     ]
    },
    {
     "name": "stdout",
     "output_type": "stream",
     "text": [
      "[2025-07-30 03:40:32.933] Start to evalute the model:\n",
      "[2025-07-30 03:40:32.933] Evaluating cascade layer = 0 \n",
      "[2025-07-30 03:40:33.137] Evaluating cascade layer = 1 \n",
      "[2025-07-30 03:40:33.337] Start to evalute the model:\n",
      "[2025-07-30 03:40:33.337] Evaluating cascade layer = 0 \n"
     ]
    },
    {
     "name": "stderr",
     "output_type": "stream",
     "text": [
      "Exact explainer:  34%|███▍      | 71/206 [00:47<01:27,  1.54it/s]"
     ]
    },
    {
     "name": "stdout",
     "output_type": "stream",
     "text": [
      "[2025-07-30 03:40:33.451] Evaluating cascade layer = 1 \n",
      "[2025-07-30 03:40:33.563] Start to evalute the model:\n",
      "[2025-07-30 03:40:33.563] Evaluating cascade layer = 0 \n",
      "[2025-07-30 03:40:33.788] Evaluating cascade layer = 1 \n",
      "[2025-07-30 03:40:33.987] Start to evalute the model:\n",
      "[2025-07-30 03:40:33.987] Evaluating cascade layer = 0 \n"
     ]
    },
    {
     "name": "stderr",
     "output_type": "stream",
     "text": [
      "Exact explainer:  35%|███▍      | 72/206 [00:47<01:28,  1.52it/s]"
     ]
    },
    {
     "name": "stdout",
     "output_type": "stream",
     "text": [
      "[2025-07-30 03:40:34.122] Evaluating cascade layer = 1 \n",
      "[2025-07-30 03:40:34.238] Start to evalute the model:\n",
      "[2025-07-30 03:40:34.254] Evaluating cascade layer = 0 \n",
      "[2025-07-30 03:40:34.487] Evaluating cascade layer = 1 \n",
      "[2025-07-30 03:40:34.687] Start to evalute the model:\n",
      "[2025-07-30 03:40:34.687] Evaluating cascade layer = 0 \n"
     ]
    },
    {
     "name": "stderr",
     "output_type": "stream",
     "text": [
      "Exact explainer:  35%|███▌      | 73/206 [00:48<01:29,  1.49it/s]"
     ]
    },
    {
     "name": "stdout",
     "output_type": "stream",
     "text": [
      "[2025-07-30 03:40:34.817] Evaluating cascade layer = 1 \n",
      "[2025-07-30 03:40:34.938] Start to evalute the model:\n",
      "[2025-07-30 03:40:34.956] Evaluating cascade layer = 0 \n",
      "[2025-07-30 03:40:35.152] Evaluating cascade layer = 1 \n",
      "[2025-07-30 03:40:35.349] Start to evalute the model:\n",
      "[2025-07-30 03:40:35.349] Evaluating cascade layer = 0 \n"
     ]
    },
    {
     "name": "stderr",
     "output_type": "stream",
     "text": [
      "Exact explainer:  36%|███▌      | 74/206 [00:49<01:28,  1.50it/s]"
     ]
    },
    {
     "name": "stdout",
     "output_type": "stream",
     "text": [
      "[2025-07-30 03:40:35.488] Evaluating cascade layer = 1 \n",
      "[2025-07-30 03:40:35.605] Start to evalute the model:\n",
      "[2025-07-30 03:40:35.605] Evaluating cascade layer = 0 \n",
      "[2025-07-30 03:40:35.824] Evaluating cascade layer = 1 \n",
      "[2025-07-30 03:40:36.022] Start to evalute the model:\n",
      "[2025-07-30 03:40:36.022] Evaluating cascade layer = 0 \n"
     ]
    },
    {
     "name": "stderr",
     "output_type": "stream",
     "text": [
      "Exact explainer:  36%|███▋      | 75/206 [00:49<01:26,  1.51it/s]"
     ]
    },
    {
     "name": "stdout",
     "output_type": "stream",
     "text": [
      "[2025-07-30 03:40:36.138] Evaluating cascade layer = 1 \n",
      "[2025-07-30 03:40:36.255] Start to evalute the model:\n",
      "[2025-07-30 03:40:36.255] Evaluating cascade layer = 0 \n",
      "[2025-07-30 03:40:36.474] Evaluating cascade layer = 1 \n",
      "[2025-07-30 03:40:36.689] Start to evalute the model:\n",
      "[2025-07-30 03:40:36.689] Evaluating cascade layer = 0 \n",
      "[2025-07-30 03:40:36.835] Evaluating cascade layer = 1 \n"
     ]
    },
    {
     "name": "stderr",
     "output_type": "stream",
     "text": [
      "Exact explainer:  37%|███▋      | 76/206 [00:50<01:27,  1.48it/s]"
     ]
    },
    {
     "name": "stdout",
     "output_type": "stream",
     "text": [
      "[2025-07-30 03:40:36.963] Start to evalute the model:\n",
      "[2025-07-30 03:40:36.979] Evaluating cascade layer = 0 \n",
      "[2025-07-30 03:40:37.183] Evaluating cascade layer = 1 \n",
      "[2025-07-30 03:40:37.388] Start to evalute the model:\n",
      "[2025-07-30 03:40:37.388] Evaluating cascade layer = 0 \n",
      "[2025-07-30 03:40:37.522] Evaluating cascade layer = 1 \n"
     ]
    },
    {
     "name": "stderr",
     "output_type": "stream",
     "text": [
      "Exact explainer:  37%|███▋      | 77/206 [00:51<01:27,  1.48it/s]"
     ]
    },
    {
     "name": "stdout",
     "output_type": "stream",
     "text": [
      "[2025-07-30 03:40:37.638] Start to evalute the model:\n",
      "[2025-07-30 03:40:37.638] Evaluating cascade layer = 0 \n",
      "[2025-07-30 03:40:37.856] Evaluating cascade layer = 1 \n",
      "[2025-07-30 03:40:38.054] Start to evalute the model:\n",
      "[2025-07-30 03:40:38.055] Evaluating cascade layer = 0 \n"
     ]
    },
    {
     "name": "stderr",
     "output_type": "stream",
     "text": [
      "Exact explainer:  38%|███▊      | 78/206 [00:52<01:26,  1.49it/s]"
     ]
    },
    {
     "name": "stdout",
     "output_type": "stream",
     "text": [
      "[2025-07-30 03:40:38.171] Evaluating cascade layer = 1 \n",
      "[2025-07-30 03:40:38.301] Start to evalute the model:\n",
      "[2025-07-30 03:40:38.301] Evaluating cascade layer = 0 \n",
      "[2025-07-30 03:40:38.519] Evaluating cascade layer = 1 \n",
      "[2025-07-30 03:40:38.719] Start to evalute the model:\n",
      "[2025-07-30 03:40:38.719] Evaluating cascade layer = 0 \n",
      "[2025-07-30 03:40:38.835] Evaluating cascade layer = 1 \n"
     ]
    },
    {
     "name": "stderr",
     "output_type": "stream",
     "text": [
      "Exact explainer:  38%|███▊      | 79/206 [00:52<01:25,  1.49it/s]"
     ]
    },
    {
     "name": "stdout",
     "output_type": "stream",
     "text": [
      "[2025-07-30 03:40:38.966] Start to evalute the model:\n",
      "[2025-07-30 03:40:38.966] Evaluating cascade layer = 0 \n",
      "[2025-07-30 03:40:39.186] Evaluating cascade layer = 1 \n",
      "[2025-07-30 03:40:39.387] Start to evalute the model:\n",
      "[2025-07-30 03:40:39.387] Evaluating cascade layer = 0 \n",
      "[2025-07-30 03:40:39.533] Evaluating cascade layer = 1 \n"
     ]
    },
    {
     "name": "stderr",
     "output_type": "stream",
     "text": [
      "Exact explainer:  39%|███▉      | 80/206 [00:53<01:28,  1.43it/s]"
     ]
    },
    {
     "name": "stdout",
     "output_type": "stream",
     "text": [
      "[2025-07-30 03:40:39.731] Start to evalute the model:\n",
      "[2025-07-30 03:40:39.747] Evaluating cascade layer = 0 \n",
      "[2025-07-30 03:40:39.969] Evaluating cascade layer = 1 \n",
      "[2025-07-30 03:40:40.167] Start to evalute the model:\n",
      "[2025-07-30 03:40:40.167] Evaluating cascade layer = 0 \n"
     ]
    },
    {
     "name": "stderr",
     "output_type": "stream",
     "text": [
      "Exact explainer:  39%|███▉      | 81/206 [00:54<01:26,  1.44it/s]"
     ]
    },
    {
     "name": "stdout",
     "output_type": "stream",
     "text": [
      "[2025-07-30 03:40:40.305] Evaluating cascade layer = 1 \n",
      "[2025-07-30 03:40:40.417] Start to evalute the model:\n",
      "[2025-07-30 03:40:40.417] Evaluating cascade layer = 0 \n",
      "[2025-07-30 03:40:40.624] Evaluating cascade layer = 1 \n",
      "[2025-07-30 03:40:40.821] Start to evalute the model:\n",
      "[2025-07-30 03:40:40.821] Evaluating cascade layer = 0 \n"
     ]
    },
    {
     "name": "stderr",
     "output_type": "stream",
     "text": [
      "Exact explainer:  40%|███▉      | 82/206 [00:54<01:24,  1.48it/s]"
     ]
    },
    {
     "name": "stdout",
     "output_type": "stream",
     "text": [
      "[2025-07-30 03:40:40.938] Evaluating cascade layer = 1 \n",
      "[2025-07-30 03:40:41.055] Start to evalute the model:\n",
      "[2025-07-30 03:40:41.055] Evaluating cascade layer = 0 \n",
      "[2025-07-30 03:40:41.288] Evaluating cascade layer = 1 \n",
      "[2025-07-30 03:40:41.505] Start to evalute the model:\n",
      "[2025-07-30 03:40:41.505] Evaluating cascade layer = 0 \n",
      "[2025-07-30 03:40:41.634] Evaluating cascade layer = 1 \n"
     ]
    },
    {
     "name": "stderr",
     "output_type": "stream",
     "text": [
      "Exact explainer:  40%|████      | 83/206 [00:55<01:24,  1.45it/s]"
     ]
    },
    {
     "name": "stdout",
     "output_type": "stream",
     "text": [
      "[2025-07-30 03:40:41.772] Start to evalute the model:\n",
      "[2025-07-30 03:40:41.772] Evaluating cascade layer = 0 \n",
      "[2025-07-30 03:40:41.984] Evaluating cascade layer = 1 \n",
      "[2025-07-30 03:40:42.188] Start to evalute the model:\n",
      "[2025-07-30 03:40:42.189] Evaluating cascade layer = 0 \n"
     ]
    },
    {
     "name": "stderr",
     "output_type": "stream",
     "text": [
      "Exact explainer:  41%|████      | 84/206 [00:56<01:23,  1.47it/s]"
     ]
    },
    {
     "name": "stdout",
     "output_type": "stream",
     "text": [
      "[2025-07-30 03:40:42.318] Evaluating cascade layer = 1 \n",
      "[2025-07-30 03:40:42.436] Start to evalute the model:\n",
      "[2025-07-30 03:40:42.436] Evaluating cascade layer = 0 \n",
      "[2025-07-30 03:40:42.652] Evaluating cascade layer = 1 \n",
      "[2025-07-30 03:40:42.852] Start to evalute the model:\n",
      "[2025-07-30 03:40:42.852] Evaluating cascade layer = 0 \n"
     ]
    },
    {
     "name": "stderr",
     "output_type": "stream",
     "text": [
      "Exact explainer:  41%|████▏     | 85/206 [00:56<01:21,  1.48it/s]"
     ]
    },
    {
     "name": "stdout",
     "output_type": "stream",
     "text": [
      "[2025-07-30 03:40:42.969] Evaluating cascade layer = 1 \n",
      "[2025-07-30 03:40:43.102] Start to evalute the model:\n",
      "[2025-07-30 03:40:43.102] Evaluating cascade layer = 0 \n",
      "[2025-07-30 03:40:43.336] Evaluating cascade layer = 1 \n",
      "[2025-07-30 03:40:43.536] Start to evalute the model:\n",
      "[2025-07-30 03:40:43.536] Evaluating cascade layer = 0 \n"
     ]
    },
    {
     "name": "stderr",
     "output_type": "stream",
     "text": [
      "Exact explainer:  42%|████▏     | 86/206 [00:57<01:21,  1.47it/s]"
     ]
    },
    {
     "name": "stdout",
     "output_type": "stream",
     "text": [
      "[2025-07-30 03:40:43.669] Evaluating cascade layer = 1 \n",
      "[2025-07-30 03:40:43.790] Start to evalute the model:\n",
      "[2025-07-30 03:40:43.790] Evaluating cascade layer = 0 \n",
      "[2025-07-30 03:40:44.002] Evaluating cascade layer = 1 \n",
      "[2025-07-30 03:40:44.202] Start to evalute the model:\n",
      "[2025-07-30 03:40:44.202] Evaluating cascade layer = 0 \n"
     ]
    },
    {
     "name": "stderr",
     "output_type": "stream",
     "text": [
      "Exact explainer:  42%|████▏     | 87/206 [00:58<01:21,  1.46it/s]"
     ]
    },
    {
     "name": "stdout",
     "output_type": "stream",
     "text": [
      "[2025-07-30 03:40:44.335] Evaluating cascade layer = 1 \n",
      "[2025-07-30 03:40:44.486] Start to evalute the model:\n",
      "[2025-07-30 03:40:44.503] Evaluating cascade layer = 0 \n",
      "[2025-07-30 03:40:44.719] Evaluating cascade layer = 1 \n",
      "[2025-07-30 03:40:44.919] Start to evalute the model:\n",
      "[2025-07-30 03:40:44.919] Evaluating cascade layer = 0 \n",
      "[2025-07-30 03:40:45.019] Evaluating cascade layer = 1 \n"
     ]
    },
    {
     "name": "stderr",
     "output_type": "stream",
     "text": [
      "Exact explainer:  43%|████▎     | 88/206 [00:58<01:19,  1.48it/s]"
     ]
    },
    {
     "name": "stdout",
     "output_type": "stream",
     "text": [
      "[2025-07-30 03:40:45.136] Start to evalute the model:\n",
      "[2025-07-30 03:40:45.136] Evaluating cascade layer = 0 \n",
      "[2025-07-30 03:40:45.352] Evaluating cascade layer = 1 \n",
      "[2025-07-30 03:40:45.552] Start to evalute the model:\n",
      "[2025-07-30 03:40:45.552] Evaluating cascade layer = 0 \n"
     ]
    },
    {
     "name": "stderr",
     "output_type": "stream",
     "text": [
      "Exact explainer:  43%|████▎     | 89/206 [00:59<01:17,  1.51it/s]"
     ]
    },
    {
     "name": "stdout",
     "output_type": "stream",
     "text": [
      "[2025-07-30 03:40:45.636] Evaluating cascade layer = 1 \n",
      "[2025-07-30 03:40:45.772] Start to evalute the model:\n",
      "[2025-07-30 03:40:45.778] Evaluating cascade layer = 0 \n",
      "[2025-07-30 03:40:45.984] Evaluating cascade layer = 1 \n",
      "[2025-07-30 03:40:46.186] Start to evalute the model:\n",
      "[2025-07-30 03:40:46.186] Evaluating cascade layer = 0 \n",
      "[2025-07-30 03:40:46.286] Evaluating cascade layer = 1 \n"
     ]
    },
    {
     "name": "stderr",
     "output_type": "stream",
     "text": [
      "Exact explainer:  44%|████▎     | 90/206 [01:00<01:16,  1.52it/s]"
     ]
    },
    {
     "name": "stdout",
     "output_type": "stream",
     "text": [
      "[2025-07-30 03:40:46.419] Start to evalute the model:\n",
      "[2025-07-30 03:40:46.419] Evaluating cascade layer = 0 \n",
      "[2025-07-30 03:40:46.652] Evaluating cascade layer = 1 \n",
      "[2025-07-30 03:40:46.852] Start to evalute the model:\n",
      "[2025-07-30 03:40:46.852] Evaluating cascade layer = 0 \n"
     ]
    },
    {
     "name": "stderr",
     "output_type": "stream",
     "text": [
      "Exact explainer:  44%|████▍     | 91/206 [01:00<01:17,  1.49it/s]"
     ]
    },
    {
     "name": "stdout",
     "output_type": "stream",
     "text": [
      "[2025-07-30 03:40:46.952] Evaluating cascade layer = 1 \n",
      "[2025-07-30 03:40:47.127] Start to evalute the model:\n",
      "[2025-07-30 03:40:47.136] Evaluating cascade layer = 0 \n",
      "[2025-07-30 03:40:47.353] Evaluating cascade layer = 1 \n",
      "[2025-07-30 03:40:47.552] Start to evalute the model:\n",
      "[2025-07-30 03:40:47.552] Evaluating cascade layer = 0 \n"
     ]
    },
    {
     "name": "stderr",
     "output_type": "stream",
     "text": [
      "Exact explainer:  45%|████▍     | 92/206 [01:01<01:16,  1.49it/s]"
     ]
    },
    {
     "name": "stdout",
     "output_type": "stream",
     "text": [
      "[2025-07-30 03:40:47.652] Evaluating cascade layer = 1 \n",
      "[2025-07-30 03:40:47.785] Start to evalute the model:\n",
      "[2025-07-30 03:40:47.785] Evaluating cascade layer = 0 \n",
      "[2025-07-30 03:40:48.036] Evaluating cascade layer = 1 \n",
      "[2025-07-30 03:40:48.252] Start to evalute the model:\n",
      "[2025-07-30 03:40:48.252] Evaluating cascade layer = 0 \n",
      "[2025-07-30 03:40:48.369] Evaluating cascade layer = 1 \n"
     ]
    },
    {
     "name": "stderr",
     "output_type": "stream",
     "text": [
      "Exact explainer:  45%|████▌     | 93/206 [01:02<01:17,  1.46it/s]"
     ]
    },
    {
     "name": "stdout",
     "output_type": "stream",
     "text": [
      "[2025-07-30 03:40:48.507] Start to evalute the model:\n",
      "[2025-07-30 03:40:48.507] Evaluating cascade layer = 0 \n",
      "[2025-07-30 03:40:48.735] Evaluating cascade layer = 1 \n",
      "[2025-07-30 03:40:48.952] Start to evalute the model:\n",
      "[2025-07-30 03:40:48.952] Evaluating cascade layer = 0 \n",
      "[2025-07-30 03:40:49.069] Evaluating cascade layer = 1 \n"
     ]
    },
    {
     "name": "stderr",
     "output_type": "stream",
     "text": [
      "Exact explainer:  46%|████▌     | 94/206 [01:02<01:17,  1.45it/s]"
     ]
    },
    {
     "name": "stdout",
     "output_type": "stream",
     "text": [
      "[2025-07-30 03:40:49.203] Start to evalute the model:\n",
      "[2025-07-30 03:40:49.203] Evaluating cascade layer = 0 \n",
      "[2025-07-30 03:40:49.419] Evaluating cascade layer = 1 \n",
      "[2025-07-30 03:40:49.635] Start to evalute the model:\n",
      "[2025-07-30 03:40:49.635] Evaluating cascade layer = 0 \n",
      "[2025-07-30 03:40:49.769] Evaluating cascade layer = 1 \n"
     ]
    },
    {
     "name": "stderr",
     "output_type": "stream",
     "text": [
      "Exact explainer:  46%|████▌     | 95/206 [01:03<01:16,  1.44it/s]"
     ]
    },
    {
     "name": "stdout",
     "output_type": "stream",
     "text": [
      "[2025-07-30 03:40:49.902] Start to evalute the model:\n",
      "[2025-07-30 03:40:49.902] Evaluating cascade layer = 0 \n",
      "[2025-07-30 03:40:50.119] Evaluating cascade layer = 1 \n",
      "[2025-07-30 03:40:50.321] Start to evalute the model:\n",
      "[2025-07-30 03:40:50.321] Evaluating cascade layer = 0 \n"
     ]
    },
    {
     "name": "stderr",
     "output_type": "stream",
     "text": [
      "Exact explainer:  47%|████▋     | 96/206 [01:04<01:15,  1.46it/s]"
     ]
    },
    {
     "name": "stdout",
     "output_type": "stream",
     "text": [
      "[2025-07-30 03:40:50.435] Evaluating cascade layer = 1 \n",
      "[2025-07-30 03:40:50.575] Start to evalute the model:\n",
      "[2025-07-30 03:40:50.584] Evaluating cascade layer = 0 \n",
      "[2025-07-30 03:40:50.802] Evaluating cascade layer = 1 \n",
      "[2025-07-30 03:40:51.002] Start to evalute the model:\n",
      "[2025-07-30 03:40:51.002] Evaluating cascade layer = 0 \n"
     ]
    },
    {
     "name": "stderr",
     "output_type": "stream",
     "text": [
      "Exact explainer:  47%|████▋     | 97/206 [01:04<01:14,  1.47it/s]"
     ]
    },
    {
     "name": "stdout",
     "output_type": "stream",
     "text": [
      "[2025-07-30 03:40:51.102] Evaluating cascade layer = 1 \n",
      "[2025-07-30 03:40:51.236] Start to evalute the model:\n",
      "[2025-07-30 03:40:51.252] Evaluating cascade layer = 0 \n",
      "[2025-07-30 03:40:51.452] Evaluating cascade layer = 1 \n",
      "[2025-07-30 03:40:51.652] Start to evalute the model:\n",
      "[2025-07-30 03:40:51.652] Evaluating cascade layer = 0 \n",
      "[2025-07-30 03:40:51.769] Evaluating cascade layer = 1 \n"
     ]
    },
    {
     "name": "stderr",
     "output_type": "stream",
     "text": [
      "Exact explainer:  48%|████▊     | 98/206 [01:05<01:12,  1.48it/s]"
     ]
    },
    {
     "name": "stdout",
     "output_type": "stream",
     "text": [
      "[2025-07-30 03:40:51.902] Start to evalute the model:\n",
      "[2025-07-30 03:40:51.902] Evaluating cascade layer = 0 \n",
      "[2025-07-30 03:40:52.102] Evaluating cascade layer = 1 \n",
      "[2025-07-30 03:40:52.302] Start to evalute the model:\n",
      "[2025-07-30 03:40:52.302] Evaluating cascade layer = 0 \n",
      "[2025-07-30 03:40:52.435] Evaluating cascade layer = 1 \n"
     ]
    },
    {
     "name": "stderr",
     "output_type": "stream",
     "text": [
      "Exact explainer:  48%|████▊     | 99/206 [01:06<01:11,  1.49it/s]"
     ]
    },
    {
     "name": "stdout",
     "output_type": "stream",
     "text": [
      "[2025-07-30 03:40:52.573] Start to evalute the model:\n",
      "[2025-07-30 03:40:52.580] Evaluating cascade layer = 0 \n",
      "[2025-07-30 03:40:52.785] Evaluating cascade layer = 1 \n",
      "[2025-07-30 03:40:52.986] Start to evalute the model:\n",
      "[2025-07-30 03:40:52.986] Evaluating cascade layer = 0 \n"
     ]
    },
    {
     "name": "stderr",
     "output_type": "stream",
     "text": [
      "Exact explainer:  49%|████▊     | 100/206 [01:06<01:11,  1.48it/s]"
     ]
    },
    {
     "name": "stdout",
     "output_type": "stream",
     "text": [
      "[2025-07-30 03:40:53.118] Evaluating cascade layer = 1 \n",
      "[2025-07-30 03:40:53.252] Start to evalute the model:\n",
      "[2025-07-30 03:40:53.252] Evaluating cascade layer = 0 \n",
      "[2025-07-30 03:40:53.469] Evaluating cascade layer = 1 \n",
      "[2025-07-30 03:40:53.673] Start to evalute the model:\n",
      "[2025-07-30 03:40:53.673] Evaluating cascade layer = 0 \n"
     ]
    },
    {
     "name": "stderr",
     "output_type": "stream",
     "text": [
      "Exact explainer:  49%|████▉     | 101/206 [01:07<01:10,  1.50it/s]"
     ]
    },
    {
     "name": "stdout",
     "output_type": "stream",
     "text": [
      "[2025-07-30 03:40:53.784] Evaluating cascade layer = 1 \n",
      "[2025-07-30 03:40:53.902] Start to evalute the model:\n",
      "[2025-07-30 03:40:53.902] Evaluating cascade layer = 0 \n",
      "[2025-07-30 03:40:54.135] Evaluating cascade layer = 1 \n",
      "[2025-07-30 03:40:54.336] Start to evalute the model:\n",
      "[2025-07-30 03:40:54.336] Evaluating cascade layer = 0 \n"
     ]
    },
    {
     "name": "stderr",
     "output_type": "stream",
     "text": [
      "Exact explainer:  50%|████▉     | 102/206 [01:08<01:09,  1.50it/s]"
     ]
    },
    {
     "name": "stdout",
     "output_type": "stream",
     "text": [
      "[2025-07-30 03:40:54.452] Evaluating cascade layer = 1 \n",
      "[2025-07-30 03:40:54.573] Start to evalute the model:\n",
      "[2025-07-30 03:40:54.580] Evaluating cascade layer = 0 \n",
      "[2025-07-30 03:40:54.818] Evaluating cascade layer = 1 \n",
      "[2025-07-30 03:40:55.035] Start to evalute the model:\n",
      "[2025-07-30 03:40:55.035] Evaluating cascade layer = 0 \n",
      "[2025-07-30 03:40:55.169] Evaluating cascade layer = 1 \n"
     ]
    },
    {
     "name": "stderr",
     "output_type": "stream",
     "text": [
      "Exact explainer:  50%|█████     | 103/206 [01:09<01:10,  1.45it/s]"
     ]
    },
    {
     "name": "stdout",
     "output_type": "stream",
     "text": [
      "[2025-07-30 03:40:55.302] Start to evalute the model:\n",
      "[2025-07-30 03:40:55.318] Evaluating cascade layer = 0 \n",
      "[2025-07-30 03:40:55.519] Evaluating cascade layer = 1 \n",
      "[2025-07-30 03:40:55.719] Start to evalute the model:\n",
      "[2025-07-30 03:40:55.719] Evaluating cascade layer = 0 \n"
     ]
    },
    {
     "name": "stderr",
     "output_type": "stream",
     "text": [
      "Exact explainer:  50%|█████     | 104/206 [01:09<01:09,  1.46it/s]"
     ]
    },
    {
     "name": "stdout",
     "output_type": "stream",
     "text": [
      "[2025-07-30 03:40:55.852] Evaluating cascade layer = 1 \n",
      "[2025-07-30 03:40:55.986] Start to evalute the model:\n",
      "[2025-07-30 03:40:56.003] Evaluating cascade layer = 0 \n",
      "[2025-07-30 03:40:56.236] Evaluating cascade layer = 1 \n",
      "[2025-07-30 03:40:56.436] Start to evalute the model:\n",
      "[2025-07-30 03:40:56.436] Evaluating cascade layer = 0 \n"
     ]
    },
    {
     "name": "stderr",
     "output_type": "stream",
     "text": [
      "Exact explainer:  51%|█████     | 105/206 [01:10<01:10,  1.44it/s]"
     ]
    },
    {
     "name": "stdout",
     "output_type": "stream",
     "text": [
      "[2025-07-30 03:40:56.568] Evaluating cascade layer = 1 \n",
      "[2025-07-30 03:40:56.703] Start to evalute the model:\n",
      "[2025-07-30 03:40:56.703] Evaluating cascade layer = 0 \n",
      "[2025-07-30 03:40:56.919] Evaluating cascade layer = 1 \n",
      "[2025-07-30 03:40:57.119] Start to evalute the model:\n",
      "[2025-07-30 03:40:57.119] Evaluating cascade layer = 0 \n"
     ]
    },
    {
     "name": "stderr",
     "output_type": "stream",
     "text": [
      "Exact explainer:  51%|█████▏    | 106/206 [01:11<01:08,  1.47it/s]"
     ]
    },
    {
     "name": "stdout",
     "output_type": "stream",
     "text": [
      "[2025-07-30 03:40:57.219] Evaluating cascade layer = 1 \n",
      "[2025-07-30 03:40:57.352] Start to evalute the model:\n",
      "[2025-07-30 03:40:57.352] Evaluating cascade layer = 0 \n",
      "[2025-07-30 03:40:57.569] Evaluating cascade layer = 1 \n",
      "[2025-07-30 03:40:57.786] Start to evalute the model:\n",
      "[2025-07-30 03:40:57.786] Evaluating cascade layer = 0 \n",
      "[2025-07-30 03:40:57.918] Evaluating cascade layer = 1 \n"
     ]
    },
    {
     "name": "stderr",
     "output_type": "stream",
     "text": [
      "Exact explainer:  52%|█████▏    | 107/206 [01:11<01:08,  1.45it/s]"
     ]
    },
    {
     "name": "stdout",
     "output_type": "stream",
     "text": [
      "[2025-07-30 03:40:58.053] Start to evalute the model:\n",
      "[2025-07-30 03:40:58.053] Evaluating cascade layer = 0 \n",
      "[2025-07-30 03:40:58.270] Evaluating cascade layer = 1 \n",
      "[2025-07-30 03:40:58.472] Start to evalute the model:\n",
      "[2025-07-30 03:40:58.472] Evaluating cascade layer = 0 \n"
     ]
    },
    {
     "name": "stderr",
     "output_type": "stream",
     "text": [
      "Exact explainer:  52%|█████▏    | 108/206 [01:12<01:07,  1.45it/s]"
     ]
    },
    {
     "name": "stdout",
     "output_type": "stream",
     "text": [
      "[2025-07-30 03:40:58.602] Evaluating cascade layer = 1 \n",
      "[2025-07-30 03:40:58.752] Start to evalute the model:\n",
      "[2025-07-30 03:40:58.752] Evaluating cascade layer = 0 \n",
      "[2025-07-30 03:40:58.969] Evaluating cascade layer = 1 \n",
      "[2025-07-30 03:40:59.171] Start to evalute the model:\n",
      "[2025-07-30 03:40:59.173] Evaluating cascade layer = 0 \n"
     ]
    },
    {
     "name": "stderr",
     "output_type": "stream",
     "text": [
      "Exact explainer:  53%|█████▎    | 109/206 [01:13<01:10,  1.38it/s]"
     ]
    },
    {
     "name": "stdout",
     "output_type": "stream",
     "text": [
      "[2025-07-30 03:40:59.385] Evaluating cascade layer = 1 \n",
      "[2025-07-30 03:40:59.552] Start to evalute the model:\n",
      "[2025-07-30 03:40:59.575] Evaluating cascade layer = 0 \n",
      "[2025-07-30 03:40:59.802] Evaluating cascade layer = 1 \n",
      "[2025-07-30 03:41:00.002] Start to evalute the model:\n",
      "[2025-07-30 03:41:00.002] Evaluating cascade layer = 0 \n"
     ]
    },
    {
     "name": "stderr",
     "output_type": "stream",
     "text": [
      "Exact explainer:  53%|█████▎    | 110/206 [01:13<01:08,  1.41it/s]"
     ]
    },
    {
     "name": "stdout",
     "output_type": "stream",
     "text": [
      "[2025-07-30 03:41:00.102] Evaluating cascade layer = 1 \n",
      "[2025-07-30 03:41:00.236] Start to evalute the model:\n",
      "[2025-07-30 03:41:00.257] Evaluating cascade layer = 0 \n",
      "[2025-07-30 03:41:00.468] Evaluating cascade layer = 1 \n",
      "[2025-07-30 03:41:00.672] Start to evalute the model:\n",
      "[2025-07-30 03:41:00.673] Evaluating cascade layer = 0 \n"
     ]
    },
    {
     "name": "stderr",
     "output_type": "stream",
     "text": [
      "Exact explainer:  54%|█████▍    | 111/206 [01:14<01:06,  1.42it/s]"
     ]
    },
    {
     "name": "stdout",
     "output_type": "stream",
     "text": [
      "[2025-07-30 03:41:00.784] Evaluating cascade layer = 1 \n",
      "[2025-07-30 03:41:00.919] Start to evalute the model:\n",
      "[2025-07-30 03:41:00.919] Evaluating cascade layer = 0 \n",
      "[2025-07-30 03:41:01.136] Evaluating cascade layer = 1 \n",
      "[2025-07-30 03:41:01.338] Start to evalute the model:\n",
      "[2025-07-30 03:41:01.338] Evaluating cascade layer = 0 \n"
     ]
    },
    {
     "name": "stderr",
     "output_type": "stream",
     "text": [
      "Exact explainer:  54%|█████▍    | 112/206 [01:15<01:05,  1.43it/s]"
     ]
    },
    {
     "name": "stdout",
     "output_type": "stream",
     "text": [
      "[2025-07-30 03:41:01.469] Evaluating cascade layer = 1 \n",
      "[2025-07-30 03:41:01.602] Start to evalute the model:\n",
      "[2025-07-30 03:41:01.602] Evaluating cascade layer = 0 \n",
      "[2025-07-30 03:41:01.851] Evaluating cascade layer = 1 \n",
      "[2025-07-30 03:41:02.052] Start to evalute the model:\n",
      "[2025-07-30 03:41:02.052] Evaluating cascade layer = 0 \n"
     ]
    },
    {
     "name": "stderr",
     "output_type": "stream",
     "text": [
      "Exact explainer:  55%|█████▍    | 113/206 [01:16<01:04,  1.43it/s]"
     ]
    },
    {
     "name": "stdout",
     "output_type": "stream",
     "text": [
      "[2025-07-30 03:41:02.169] Evaluating cascade layer = 1 \n",
      "[2025-07-30 03:41:02.302] Start to evalute the model:\n",
      "[2025-07-30 03:41:02.302] Evaluating cascade layer = 0 \n",
      "[2025-07-30 03:41:02.519] Evaluating cascade layer = 1 \n",
      "[2025-07-30 03:41:02.722] Start to evalute the model:\n",
      "[2025-07-30 03:41:02.722] Evaluating cascade layer = 0 \n"
     ]
    },
    {
     "name": "stderr",
     "output_type": "stream",
     "text": [
      "Exact explainer:  55%|█████▌    | 114/206 [01:16<01:03,  1.45it/s]"
     ]
    },
    {
     "name": "stdout",
     "output_type": "stream",
     "text": [
      "[2025-07-30 03:41:02.835] Evaluating cascade layer = 1 \n",
      "[2025-07-30 03:41:02.973] Start to evalute the model:\n",
      "[2025-07-30 03:41:02.980] Evaluating cascade layer = 0 \n",
      "[2025-07-30 03:41:03.202] Evaluating cascade layer = 1 \n",
      "[2025-07-30 03:41:03.402] Start to evalute the model:\n",
      "[2025-07-30 03:41:03.402] Evaluating cascade layer = 0 \n"
     ]
    },
    {
     "name": "stderr",
     "output_type": "stream",
     "text": [
      "Exact explainer:  56%|█████▌    | 115/206 [01:17<01:02,  1.45it/s]"
     ]
    },
    {
     "name": "stdout",
     "output_type": "stream",
     "text": [
      "[2025-07-30 03:41:03.535] Evaluating cascade layer = 1 \n",
      "[2025-07-30 03:41:03.673] Start to evalute the model:\n",
      "[2025-07-30 03:41:03.679] Evaluating cascade layer = 0 \n",
      "[2025-07-30 03:41:03.884] Evaluating cascade layer = 1 \n",
      "[2025-07-30 03:41:04.086] Start to evalute the model:\n",
      "[2025-07-30 03:41:04.086] Evaluating cascade layer = 0 \n",
      "[2025-07-30 03:41:04.218] Evaluating cascade layer = 1 \n"
     ]
    },
    {
     "name": "stderr",
     "output_type": "stream",
     "text": [
      "Exact explainer:  56%|█████▋    | 116/206 [01:18<01:02,  1.45it/s]"
     ]
    },
    {
     "name": "stdout",
     "output_type": "stream",
     "text": [
      "[2025-07-30 03:41:04.357] Start to evalute the model:\n",
      "[2025-07-30 03:41:04.357] Evaluating cascade layer = 0 \n",
      "[2025-07-30 03:41:04.569] Evaluating cascade layer = 1 \n",
      "[2025-07-30 03:41:04.789] Start to evalute the model:\n",
      "[2025-07-30 03:41:04.789] Evaluating cascade layer = 0 \n",
      "[2025-07-30 03:41:04.902] Evaluating cascade layer = 1 \n"
     ]
    },
    {
     "name": "stderr",
     "output_type": "stream",
     "text": [
      "Exact explainer:  57%|█████▋    | 117/206 [01:18<01:00,  1.46it/s]"
     ]
    },
    {
     "name": "stdout",
     "output_type": "stream",
     "text": [
      "[2025-07-30 03:41:05.019] Start to evalute the model:\n",
      "[2025-07-30 03:41:05.019] Evaluating cascade layer = 0 \n",
      "[2025-07-30 03:41:05.236] Evaluating cascade layer = 1 \n",
      "[2025-07-30 03:41:05.439] Start to evalute the model:\n",
      "[2025-07-30 03:41:05.440] Evaluating cascade layer = 0 \n",
      "[2025-07-30 03:41:05.569] Evaluating cascade layer = 1 \n"
     ]
    },
    {
     "name": "stderr",
     "output_type": "stream",
     "text": [
      "Exact explainer:  57%|█████▋    | 118/206 [01:19<01:00,  1.46it/s]"
     ]
    },
    {
     "name": "stdout",
     "output_type": "stream",
     "text": [
      "[2025-07-30 03:41:05.702] Start to evalute the model:\n",
      "[2025-07-30 03:41:05.702] Evaluating cascade layer = 0 \n",
      "[2025-07-30 03:41:05.919] Evaluating cascade layer = 1 \n",
      "[2025-07-30 03:41:06.119] Start to evalute the model:\n",
      "[2025-07-30 03:41:06.119] Evaluating cascade layer = 0 \n"
     ]
    },
    {
     "name": "stderr",
     "output_type": "stream",
     "text": [
      "Exact explainer:  58%|█████▊    | 119/206 [01:20<00:58,  1.48it/s]"
     ]
    },
    {
     "name": "stdout",
     "output_type": "stream",
     "text": [
      "[2025-07-30 03:41:06.235] Evaluating cascade layer = 1 \n",
      "[2025-07-30 03:41:06.378] Start to evalute the model:\n",
      "[2025-07-30 03:41:06.396] Evaluating cascade layer = 0 \n",
      "[2025-07-30 03:41:06.602] Evaluating cascade layer = 1 \n",
      "[2025-07-30 03:41:06.806] Start to evalute the model:\n",
      "[2025-07-30 03:41:06.806] Evaluating cascade layer = 0 \n",
      "[2025-07-30 03:41:06.936] Evaluating cascade layer = 1 \n"
     ]
    },
    {
     "name": "stderr",
     "output_type": "stream",
     "text": [
      "Exact explainer:  58%|█████▊    | 120/206 [01:20<00:58,  1.46it/s]"
     ]
    },
    {
     "name": "stdout",
     "output_type": "stream",
     "text": [
      "[2025-07-30 03:41:07.074] Start to evalute the model:\n",
      "[2025-07-30 03:41:07.081] Evaluating cascade layer = 0 \n",
      "[2025-07-30 03:41:07.285] Evaluating cascade layer = 1 \n",
      "[2025-07-30 03:41:07.486] Start to evalute the model:\n",
      "[2025-07-30 03:41:07.486] Evaluating cascade layer = 0 \n"
     ]
    },
    {
     "name": "stderr",
     "output_type": "stream",
     "text": [
      "Exact explainer:  59%|█████▊    | 121/206 [01:21<00:58,  1.46it/s]"
     ]
    },
    {
     "name": "stdout",
     "output_type": "stream",
     "text": [
      "[2025-07-30 03:41:07.618] Evaluating cascade layer = 1 \n",
      "[2025-07-30 03:41:07.752] Start to evalute the model:\n",
      "[2025-07-30 03:41:07.752] Evaluating cascade layer = 0 \n",
      "[2025-07-30 03:41:07.968] Evaluating cascade layer = 1 \n",
      "[2025-07-30 03:41:08.172] Start to evalute the model:\n",
      "[2025-07-30 03:41:08.173] Evaluating cascade layer = 0 \n"
     ]
    },
    {
     "name": "stderr",
     "output_type": "stream",
     "text": [
      "Exact explainer:  59%|█████▉    | 122/206 [01:22<00:56,  1.48it/s]"
     ]
    },
    {
     "name": "stdout",
     "output_type": "stream",
     "text": [
      "[2025-07-30 03:41:08.284] Evaluating cascade layer = 1 \n",
      "[2025-07-30 03:41:08.402] Start to evalute the model:\n",
      "[2025-07-30 03:41:08.402] Evaluating cascade layer = 0 \n",
      "[2025-07-30 03:41:08.652] Evaluating cascade layer = 1 \n",
      "[2025-07-30 03:41:08.854] Start to evalute the model:\n",
      "[2025-07-30 03:41:08.855] Evaluating cascade layer = 0 \n"
     ]
    },
    {
     "name": "stderr",
     "output_type": "stream",
     "text": [
      "Exact explainer:  60%|█████▉    | 123/206 [01:22<00:55,  1.49it/s]"
     ]
    },
    {
     "name": "stdout",
     "output_type": "stream",
     "text": [
      "[2025-07-30 03:41:08.952] Evaluating cascade layer = 1 \n",
      "[2025-07-30 03:41:09.073] Start to evalute the model:\n",
      "[2025-07-30 03:41:09.080] Evaluating cascade layer = 0 \n",
      "[2025-07-30 03:41:09.286] Evaluating cascade layer = 1 \n",
      "[2025-07-30 03:41:09.487] Start to evalute the model:\n",
      "[2025-07-30 03:41:09.488] Evaluating cascade layer = 0 \n"
     ]
    },
    {
     "name": "stderr",
     "output_type": "stream",
     "text": [
      "Exact explainer:  60%|██████    | 124/206 [01:23<00:54,  1.50it/s]"
     ]
    },
    {
     "name": "stdout",
     "output_type": "stream",
     "text": [
      "[2025-07-30 03:41:09.619] Evaluating cascade layer = 1 \n",
      "[2025-07-30 03:41:09.719] Start to evalute the model:\n",
      "[2025-07-30 03:41:09.719] Evaluating cascade layer = 0 \n",
      "[2025-07-30 03:41:09.935] Evaluating cascade layer = 1 \n",
      "[2025-07-30 03:41:10.136] Start to evalute the model:\n",
      "[2025-07-30 03:41:10.136] Evaluating cascade layer = 0 \n"
     ]
    },
    {
     "name": "stderr",
     "output_type": "stream",
     "text": [
      "Exact explainer:  61%|██████    | 125/206 [01:24<00:52,  1.54it/s]"
     ]
    },
    {
     "name": "stdout",
     "output_type": "stream",
     "text": [
      "[2025-07-30 03:41:10.219] Evaluating cascade layer = 1 \n",
      "[2025-07-30 03:41:10.336] Start to evalute the model:\n",
      "[2025-07-30 03:41:10.336] Evaluating cascade layer = 0 \n",
      "[2025-07-30 03:41:10.552] Evaluating cascade layer = 1 \n",
      "[2025-07-30 03:41:10.752] Start to evalute the model:\n",
      "[2025-07-30 03:41:10.752] Evaluating cascade layer = 0 \n"
     ]
    },
    {
     "name": "stderr",
     "output_type": "stream",
     "text": [
      "Exact explainer:  61%|██████    | 126/206 [01:24<00:52,  1.54it/s]"
     ]
    },
    {
     "name": "stdout",
     "output_type": "stream",
     "text": [
      "[2025-07-30 03:41:10.852] Evaluating cascade layer = 1 \n",
      "[2025-07-30 03:41:10.986] Start to evalute the model:\n",
      "[2025-07-30 03:41:11.003] Evaluating cascade layer = 0 \n",
      "[2025-07-30 03:41:11.235] Evaluating cascade layer = 1 \n",
      "[2025-07-30 03:41:11.436] Start to evalute the model:\n",
      "[2025-07-30 03:41:11.436] Evaluating cascade layer = 0 \n"
     ]
    },
    {
     "name": "stderr",
     "output_type": "stream",
     "text": [
      "Exact explainer:  62%|██████▏   | 127/206 [01:25<00:52,  1.49it/s]"
     ]
    },
    {
     "name": "stdout",
     "output_type": "stream",
     "text": [
      "[2025-07-30 03:41:11.569] Evaluating cascade layer = 1 \n",
      "[2025-07-30 03:41:11.702] Start to evalute the model:\n",
      "[2025-07-30 03:41:11.719] Evaluating cascade layer = 0 \n",
      "[2025-07-30 03:41:11.969] Evaluating cascade layer = 1 \n",
      "[2025-07-30 03:41:12.172] Start to evalute the model:\n",
      "[2025-07-30 03:41:12.172] Evaluating cascade layer = 0 \n"
     ]
    },
    {
     "name": "stderr",
     "output_type": "stream",
     "text": [
      "Exact explainer:  62%|██████▏   | 128/206 [01:26<00:53,  1.46it/s]"
     ]
    },
    {
     "name": "stdout",
     "output_type": "stream",
     "text": [
      "[2025-07-30 03:41:12.302] Evaluating cascade layer = 1 \n",
      "[2025-07-30 03:41:12.419] Start to evalute the model:\n",
      "[2025-07-30 03:41:12.419] Evaluating cascade layer = 0 \n",
      "[2025-07-30 03:41:12.635] Evaluating cascade layer = 1 \n",
      "[2025-07-30 03:41:12.839] Start to evalute the model:\n",
      "[2025-07-30 03:41:12.839] Evaluating cascade layer = 0 \n"
     ]
    },
    {
     "name": "stderr",
     "output_type": "stream",
     "text": [
      "Exact explainer:  63%|██████▎   | 129/206 [01:26<00:52,  1.46it/s]"
     ]
    },
    {
     "name": "stdout",
     "output_type": "stream",
     "text": [
      "[2025-07-30 03:41:12.969] Evaluating cascade layer = 1 \n",
      "[2025-07-30 03:41:13.103] Start to evalute the model:\n",
      "[2025-07-30 03:41:13.103] Evaluating cascade layer = 0 \n",
      "[2025-07-30 03:41:13.336] Evaluating cascade layer = 1 \n",
      "[2025-07-30 03:41:13.536] Start to evalute the model:\n",
      "[2025-07-30 03:41:13.536] Evaluating cascade layer = 0 \n"
     ]
    },
    {
     "name": "stderr",
     "output_type": "stream",
     "text": [
      "Exact explainer:  63%|██████▎   | 130/206 [01:27<00:51,  1.46it/s]"
     ]
    },
    {
     "name": "stdout",
     "output_type": "stream",
     "text": [
      "[2025-07-30 03:41:13.652] Evaluating cascade layer = 1 \n",
      "[2025-07-30 03:41:13.786] Start to evalute the model:\n",
      "[2025-07-30 03:41:13.786] Evaluating cascade layer = 0 \n",
      "[2025-07-30 03:41:14.002] Evaluating cascade layer = 1 \n",
      "[2025-07-30 03:41:14.202] Start to evalute the model:\n",
      "[2025-07-30 03:41:14.202] Evaluating cascade layer = 0 \n"
     ]
    },
    {
     "name": "stderr",
     "output_type": "stream",
     "text": [
      "Exact explainer:  64%|██████▎   | 131/206 [01:28<00:50,  1.47it/s]"
     ]
    },
    {
     "name": "stdout",
     "output_type": "stream",
     "text": [
      "[2025-07-30 03:41:14.318] Evaluating cascade layer = 1 \n",
      "[2025-07-30 03:41:14.456] Start to evalute the model:\n",
      "[2025-07-30 03:41:14.456] Evaluating cascade layer = 0 \n",
      "[2025-07-30 03:41:14.668] Evaluating cascade layer = 1 \n",
      "[2025-07-30 03:41:14.919] Start to evalute the model:\n",
      "[2025-07-30 03:41:14.919] Evaluating cascade layer = 0 \n",
      "[2025-07-30 03:41:15.035] Evaluating cascade layer = 1 \n"
     ]
    },
    {
     "name": "stderr",
     "output_type": "stream",
     "text": [
      "Exact explainer:  64%|██████▍   | 132/206 [01:28<00:51,  1.45it/s]"
     ]
    },
    {
     "name": "stdout",
     "output_type": "stream",
     "text": [
      "[2025-07-30 03:41:15.174] Start to evalute the model:\n",
      "[2025-07-30 03:41:15.180] Evaluating cascade layer = 0 \n",
      "[2025-07-30 03:41:15.384] Evaluating cascade layer = 1 \n",
      "[2025-07-30 03:41:15.586] Start to evalute the model:\n",
      "[2025-07-30 03:41:15.586] Evaluating cascade layer = 0 \n",
      "[2025-07-30 03:41:15.684] Evaluating cascade layer = 1 \n"
     ]
    },
    {
     "name": "stderr",
     "output_type": "stream",
     "text": [
      "Exact explainer:  65%|██████▍   | 133/206 [01:29<00:49,  1.47it/s]"
     ]
    },
    {
     "name": "stdout",
     "output_type": "stream",
     "text": [
      "[2025-07-30 03:41:15.819] Start to evalute the model:\n",
      "[2025-07-30 03:41:15.819] Evaluating cascade layer = 0 \n",
      "[2025-07-30 03:41:16.036] Evaluating cascade layer = 1 \n",
      "[2025-07-30 03:41:16.252] Start to evalute the model:\n",
      "[2025-07-30 03:41:16.252] Evaluating cascade layer = 0 \n",
      "[2025-07-30 03:41:16.352] Evaluating cascade layer = 1 \n"
     ]
    },
    {
     "name": "stderr",
     "output_type": "stream",
     "text": [
      "Exact explainer:  65%|██████▌   | 134/206 [01:30<00:48,  1.47it/s]"
     ]
    },
    {
     "name": "stdout",
     "output_type": "stream",
     "text": [
      "[2025-07-30 03:41:16.503] Start to evalute the model:\n",
      "[2025-07-30 03:41:16.503] Evaluating cascade layer = 0 \n",
      "[2025-07-30 03:41:16.719] Evaluating cascade layer = 1 \n",
      "[2025-07-30 03:41:16.922] Start to evalute the model:\n",
      "[2025-07-30 03:41:16.923] Evaluating cascade layer = 0 \n",
      "[2025-07-30 03:41:17.002] Evaluating cascade layer = 1 \n"
     ]
    },
    {
     "name": "stderr",
     "output_type": "stream",
     "text": [
      "Exact explainer:  66%|██████▌   | 135/206 [01:30<00:47,  1.50it/s]"
     ]
    },
    {
     "name": "stdout",
     "output_type": "stream",
     "text": [
      "[2025-07-30 03:41:17.143] Start to evalute the model:\n",
      "[2025-07-30 03:41:17.153] Evaluating cascade layer = 0 \n",
      "[2025-07-30 03:41:17.385] Evaluating cascade layer = 1 \n",
      "[2025-07-30 03:41:17.586] Start to evalute the model:\n",
      "[2025-07-30 03:41:17.586] Evaluating cascade layer = 0 \n"
     ]
    },
    {
     "name": "stderr",
     "output_type": "stream",
     "text": [
      "Exact explainer:  66%|██████▌   | 136/206 [01:31<00:47,  1.47it/s]"
     ]
    },
    {
     "name": "stdout",
     "output_type": "stream",
     "text": [
      "[2025-07-30 03:41:17.718] Evaluating cascade layer = 1 \n",
      "[2025-07-30 03:41:17.852] Start to evalute the model:\n",
      "[2025-07-30 03:41:17.852] Evaluating cascade layer = 0 \n",
      "[2025-07-30 03:41:18.069] Evaluating cascade layer = 1 \n",
      "[2025-07-30 03:41:18.272] Start to evalute the model:\n",
      "[2025-07-30 03:41:18.273] Evaluating cascade layer = 0 \n"
     ]
    },
    {
     "name": "stderr",
     "output_type": "stream",
     "text": [
      "Exact explainer:  67%|██████▋   | 137/206 [01:32<00:47,  1.47it/s]"
     ]
    },
    {
     "name": "stdout",
     "output_type": "stream",
     "text": [
      "[2025-07-30 03:41:18.402] Evaluating cascade layer = 1 \n",
      "[2025-07-30 03:41:18.540] Start to evalute the model:\n",
      "[2025-07-30 03:41:18.540] Evaluating cascade layer = 0 \n",
      "[2025-07-30 03:41:18.752] Evaluating cascade layer = 1 \n",
      "[2025-07-30 03:41:18.952] Start to evalute the model:\n",
      "[2025-07-30 03:41:18.952] Evaluating cascade layer = 0 \n"
     ]
    },
    {
     "name": "stderr",
     "output_type": "stream",
     "text": [
      "Exact explainer:  67%|██████▋   | 138/206 [01:32<00:46,  1.48it/s]"
     ]
    },
    {
     "name": "stdout",
     "output_type": "stream",
     "text": [
      "[2025-07-30 03:41:19.052] Evaluating cascade layer = 1 \n",
      "[2025-07-30 03:41:19.202] Start to evalute the model:\n",
      "[2025-07-30 03:41:19.219] Evaluating cascade layer = 0 \n",
      "[2025-07-30 03:41:19.419] Evaluating cascade layer = 1 \n",
      "[2025-07-30 03:41:19.619] Start to evalute the model:\n",
      "[2025-07-30 03:41:19.619] Evaluating cascade layer = 0 \n",
      "[2025-07-30 03:41:19.702] Evaluating cascade layer = 1 \n"
     ]
    },
    {
     "name": "stderr",
     "output_type": "stream",
     "text": [
      "Exact explainer:  67%|██████▋   | 139/206 [01:33<00:44,  1.51it/s]"
     ]
    },
    {
     "name": "stdout",
     "output_type": "stream",
     "text": [
      "[2025-07-30 03:41:19.840] Start to evalute the model:\n",
      "[2025-07-30 03:41:19.844] Evaluating cascade layer = 0 \n",
      "[2025-07-30 03:41:20.053] Evaluating cascade layer = 1 \n",
      "[2025-07-30 03:41:20.256] Start to evalute the model:\n",
      "[2025-07-30 03:41:20.257] Evaluating cascade layer = 0 \n",
      "[2025-07-30 03:41:20.384] Evaluating cascade layer = 1 \n"
     ]
    },
    {
     "name": "stderr",
     "output_type": "stream",
     "text": [
      "Exact explainer:  68%|██████▊   | 140/206 [01:34<00:44,  1.49it/s]"
     ]
    },
    {
     "name": "stdout",
     "output_type": "stream",
     "text": [
      "[2025-07-30 03:41:20.519] Start to evalute the model:\n",
      "[2025-07-30 03:41:20.519] Evaluating cascade layer = 0 \n",
      "[2025-07-30 03:41:20.785] Evaluating cascade layer = 1 \n",
      "[2025-07-30 03:41:20.986] Start to evalute the model:\n",
      "[2025-07-30 03:41:20.986] Evaluating cascade layer = 0 \n"
     ]
    },
    {
     "name": "stderr",
     "output_type": "stream",
     "text": [
      "Exact explainer:  68%|██████▊   | 141/206 [01:34<00:44,  1.46it/s]"
     ]
    },
    {
     "name": "stdout",
     "output_type": "stream",
     "text": [
      "[2025-07-30 03:41:21.112] Evaluating cascade layer = 1 \n",
      "[2025-07-30 03:41:21.236] Start to evalute the model:\n",
      "[2025-07-30 03:41:21.236] Evaluating cascade layer = 0 \n",
      "[2025-07-30 03:41:21.452] Evaluating cascade layer = 1 \n",
      "[2025-07-30 03:41:21.656] Start to evalute the model:\n",
      "[2025-07-30 03:41:21.656] Evaluating cascade layer = 0 \n"
     ]
    },
    {
     "name": "stderr",
     "output_type": "stream",
     "text": [
      "Exact explainer:  69%|██████▉   | 142/206 [01:35<00:43,  1.47it/s]"
     ]
    },
    {
     "name": "stdout",
     "output_type": "stream",
     "text": [
      "[2025-07-30 03:41:21.768] Evaluating cascade layer = 1 \n",
      "[2025-07-30 03:41:21.902] Start to evalute the model:\n",
      "[2025-07-30 03:41:21.902] Evaluating cascade layer = 0 \n",
      "[2025-07-30 03:41:22.118] Evaluating cascade layer = 1 \n",
      "[2025-07-30 03:41:22.319] Start to evalute the model:\n",
      "[2025-07-30 03:41:22.319] Evaluating cascade layer = 0 \n"
     ]
    },
    {
     "name": "stderr",
     "output_type": "stream",
     "text": [
      "Exact explainer:  69%|██████▉   | 143/206 [01:36<00:42,  1.47it/s]"
     ]
    },
    {
     "name": "stdout",
     "output_type": "stream",
     "text": [
      "[2025-07-30 03:41:22.452] Evaluating cascade layer = 1 \n",
      "[2025-07-30 03:41:22.586] Start to evalute the model:\n",
      "[2025-07-30 03:41:22.586] Evaluating cascade layer = 0 \n",
      "[2025-07-30 03:41:22.802] Evaluating cascade layer = 1 \n",
      "[2025-07-30 03:41:23.002] Start to evalute the model:\n",
      "[2025-07-30 03:41:23.002] Evaluating cascade layer = 0 \n"
     ]
    },
    {
     "name": "stderr",
     "output_type": "stream",
     "text": [
      "Exact explainer:  70%|██████▉   | 144/206 [01:36<00:42,  1.47it/s]"
     ]
    },
    {
     "name": "stdout",
     "output_type": "stream",
     "text": [
      "[2025-07-30 03:41:23.135] Evaluating cascade layer = 1 \n",
      "[2025-07-30 03:41:23.274] Start to evalute the model:\n",
      "[2025-07-30 03:41:23.280] Evaluating cascade layer = 0 \n",
      "[2025-07-30 03:41:23.486] Evaluating cascade layer = 1 \n",
      "[2025-07-30 03:41:23.689] Start to evalute the model:\n",
      "[2025-07-30 03:41:23.690] Evaluating cascade layer = 0 \n",
      "[2025-07-30 03:41:23.802] Evaluating cascade layer = 1 \n"
     ]
    },
    {
     "name": "stderr",
     "output_type": "stream",
     "text": [
      "Exact explainer:  70%|███████   | 145/206 [01:37<00:41,  1.48it/s]"
     ]
    },
    {
     "name": "stdout",
     "output_type": "stream",
     "text": [
      "[2025-07-30 03:41:23.936] Start to evalute the model:\n",
      "[2025-07-30 03:41:23.936] Evaluating cascade layer = 0 \n",
      "[2025-07-30 03:41:24.152] Evaluating cascade layer = 1 \n",
      "[2025-07-30 03:41:24.352] Start to evalute the model:\n",
      "[2025-07-30 03:41:24.352] Evaluating cascade layer = 0 \n"
     ]
    },
    {
     "name": "stderr",
     "output_type": "stream",
     "text": [
      "Exact explainer:  71%|███████   | 146/206 [01:38<00:40,  1.48it/s]"
     ]
    },
    {
     "name": "stdout",
     "output_type": "stream",
     "text": [
      "[2025-07-30 03:41:24.469] Evaluating cascade layer = 1 \n",
      "[2025-07-30 03:41:24.602] Start to evalute the model:\n",
      "[2025-07-30 03:41:24.602] Evaluating cascade layer = 0 \n",
      "[2025-07-30 03:41:24.819] Evaluating cascade layer = 1 \n",
      "[2025-07-30 03:41:25.019] Start to evalute the model:\n",
      "[2025-07-30 03:41:25.019] Evaluating cascade layer = 0 \n"
     ]
    },
    {
     "name": "stderr",
     "output_type": "stream",
     "text": [
      "Exact explainer:  71%|███████▏  | 147/206 [01:38<00:38,  1.52it/s]"
     ]
    },
    {
     "name": "stdout",
     "output_type": "stream",
     "text": [
      "[2025-07-30 03:41:25.119] Evaluating cascade layer = 1 \n",
      "[2025-07-30 03:41:25.219] Start to evalute the model:\n",
      "[2025-07-30 03:41:25.219] Evaluating cascade layer = 0 \n",
      "[2025-07-30 03:41:25.436] Evaluating cascade layer = 1 \n",
      "[2025-07-30 03:41:25.652] Start to evalute the model:\n",
      "[2025-07-30 03:41:25.652] Evaluating cascade layer = 0 \n",
      "[2025-07-30 03:41:25.769] Evaluating cascade layer = 1 \n"
     ]
    },
    {
     "name": "stderr",
     "output_type": "stream",
     "text": [
      "Exact explainer:  72%|███████▏  | 148/206 [01:39<00:38,  1.50it/s]"
     ]
    },
    {
     "name": "stdout",
     "output_type": "stream",
     "text": [
      "[2025-07-30 03:41:25.902] Start to evalute the model:\n",
      "[2025-07-30 03:41:25.902] Evaluating cascade layer = 0 \n",
      "[2025-07-30 03:41:26.119] Evaluating cascade layer = 1 \n",
      "[2025-07-30 03:41:26.319] Start to evalute the model:\n",
      "[2025-07-30 03:41:26.319] Evaluating cascade layer = 0 \n"
     ]
    },
    {
     "name": "stderr",
     "output_type": "stream",
     "text": [
      "Exact explainer:  72%|███████▏  | 149/206 [01:40<00:38,  1.48it/s]"
     ]
    },
    {
     "name": "stdout",
     "output_type": "stream",
     "text": [
      "[2025-07-30 03:41:26.468] Evaluating cascade layer = 1 \n",
      "[2025-07-30 03:41:26.602] Start to evalute the model:\n",
      "[2025-07-30 03:41:26.602] Evaluating cascade layer = 0 \n",
      "[2025-07-30 03:41:26.819] Evaluating cascade layer = 1 \n",
      "[2025-07-30 03:41:27.021] Start to evalute the model:\n",
      "[2025-07-30 03:41:27.021] Evaluating cascade layer = 0 \n"
     ]
    },
    {
     "name": "stderr",
     "output_type": "stream",
     "text": [
      "Exact explainer:  73%|███████▎  | 150/206 [01:40<00:37,  1.49it/s]"
     ]
    },
    {
     "name": "stdout",
     "output_type": "stream",
     "text": [
      "[2025-07-30 03:41:27.137] Evaluating cascade layer = 1 \n",
      "[2025-07-30 03:41:27.273] Start to evalute the model:\n",
      "[2025-07-30 03:41:27.280] Evaluating cascade layer = 0 \n",
      "[2025-07-30 03:41:27.485] Evaluating cascade layer = 1 \n",
      "[2025-07-30 03:41:27.702] Start to evalute the model:\n",
      "[2025-07-30 03:41:27.702] Evaluating cascade layer = 0 \n",
      "[2025-07-30 03:41:27.835] Evaluating cascade layer = 1 \n"
     ]
    },
    {
     "name": "stderr",
     "output_type": "stream",
     "text": [
      "Exact explainer:  73%|███████▎  | 151/206 [01:41<00:37,  1.48it/s]"
     ]
    },
    {
     "name": "stdout",
     "output_type": "stream",
     "text": [
      "[2025-07-30 03:41:27.952] Start to evalute the model:\n",
      "[2025-07-30 03:41:27.952] Evaluating cascade layer = 0 \n",
      "[2025-07-30 03:41:28.170] Evaluating cascade layer = 1 \n",
      "[2025-07-30 03:41:28.372] Start to evalute the model:\n",
      "[2025-07-30 03:41:28.372] Evaluating cascade layer = 0 \n"
     ]
    },
    {
     "name": "stderr",
     "output_type": "stream",
     "text": [
      "Exact explainer:  74%|███████▍  | 152/206 [01:42<00:36,  1.47it/s]"
     ]
    },
    {
     "name": "stdout",
     "output_type": "stream",
     "text": [
      "[2025-07-30 03:41:28.501] Evaluating cascade layer = 1 \n",
      "[2025-07-30 03:41:28.640] Start to evalute the model:\n",
      "[2025-07-30 03:41:28.644] Evaluating cascade layer = 0 \n",
      "[2025-07-30 03:41:28.852] Evaluating cascade layer = 1 \n",
      "[2025-07-30 03:41:29.055] Start to evalute the model:\n",
      "[2025-07-30 03:41:29.055] Evaluating cascade layer = 0 \n"
     ]
    },
    {
     "name": "stderr",
     "output_type": "stream",
     "text": [
      "Exact explainer:  74%|███████▍  | 153/206 [01:43<00:35,  1.48it/s]"
     ]
    },
    {
     "name": "stdout",
     "output_type": "stream",
     "text": [
      "[2025-07-30 03:41:29.170] Evaluating cascade layer = 1 \n",
      "[2025-07-30 03:41:29.303] Start to evalute the model:\n",
      "[2025-07-30 03:41:29.303] Evaluating cascade layer = 0 \n",
      "[2025-07-30 03:41:29.519] Evaluating cascade layer = 1 \n",
      "[2025-07-30 03:41:29.719] Start to evalute the model:\n",
      "[2025-07-30 03:41:29.719] Evaluating cascade layer = 0 \n"
     ]
    },
    {
     "name": "stderr",
     "output_type": "stream",
     "text": [
      "Exact explainer:  75%|███████▍  | 154/206 [01:43<00:34,  1.51it/s]"
     ]
    },
    {
     "name": "stdout",
     "output_type": "stream",
     "text": [
      "[2025-07-30 03:41:29.819] Evaluating cascade layer = 1 \n",
      "[2025-07-30 03:41:29.936] Start to evalute the model:\n",
      "[2025-07-30 03:41:29.936] Evaluating cascade layer = 0 \n",
      "[2025-07-30 03:41:30.169] Evaluating cascade layer = 1 \n",
      "[2025-07-30 03:41:30.373] Start to evalute the model:\n",
      "[2025-07-30 03:41:30.373] Evaluating cascade layer = 0 \n"
     ]
    },
    {
     "name": "stderr",
     "output_type": "stream",
     "text": [
      "Exact explainer:  75%|███████▌  | 155/206 [01:44<00:33,  1.51it/s]"
     ]
    },
    {
     "name": "stdout",
     "output_type": "stream",
     "text": [
      "[2025-07-30 03:41:30.484] Evaluating cascade layer = 1 \n",
      "[2025-07-30 03:41:30.618] Start to evalute the model:\n",
      "[2025-07-30 03:41:30.620] Evaluating cascade layer = 0 \n",
      "[2025-07-30 03:41:30.835] Evaluating cascade layer = 1 \n",
      "[2025-07-30 03:41:31.036] Start to evalute the model:\n",
      "[2025-07-30 03:41:31.036] Evaluating cascade layer = 0 \n"
     ]
    },
    {
     "name": "stderr",
     "output_type": "stream",
     "text": [
      "Exact explainer:  76%|███████▌  | 156/206 [01:44<00:33,  1.51it/s]"
     ]
    },
    {
     "name": "stdout",
     "output_type": "stream",
     "text": [
      "[2025-07-30 03:41:31.135] Evaluating cascade layer = 1 \n",
      "[2025-07-30 03:41:31.273] Start to evalute the model:\n",
      "[2025-07-30 03:41:31.278] Evaluating cascade layer = 0 \n",
      "[2025-07-30 03:41:31.484] Evaluating cascade layer = 1 \n",
      "[2025-07-30 03:41:31.686] Start to evalute the model:\n",
      "[2025-07-30 03:41:31.686] Evaluating cascade layer = 0 \n",
      "[2025-07-30 03:41:31.784] Evaluating cascade layer = 1 \n"
     ]
    },
    {
     "name": "stderr",
     "output_type": "stream",
     "text": [
      "Exact explainer:  76%|███████▌  | 157/206 [01:45<00:32,  1.53it/s]"
     ]
    },
    {
     "name": "stdout",
     "output_type": "stream",
     "text": [
      "[2025-07-30 03:41:31.902] Start to evalute the model:\n",
      "[2025-07-30 03:41:31.902] Evaluating cascade layer = 0 \n",
      "[2025-07-30 03:41:32.119] Evaluating cascade layer = 1 \n",
      "[2025-07-30 03:41:32.319] Start to evalute the model:\n",
      "[2025-07-30 03:41:32.319] Evaluating cascade layer = 0 \n"
     ]
    },
    {
     "name": "stderr",
     "output_type": "stream",
     "text": [
      "Exact explainer:  77%|███████▋  | 158/206 [01:46<00:31,  1.52it/s]"
     ]
    },
    {
     "name": "stdout",
     "output_type": "stream",
     "text": [
      "[2025-07-30 03:41:32.435] Evaluating cascade layer = 1 \n",
      "[2025-07-30 03:41:32.574] Start to evalute the model:\n",
      "[2025-07-30 03:41:32.580] Evaluating cascade layer = 0 \n",
      "[2025-07-30 03:41:32.819] Evaluating cascade layer = 1 \n",
      "[2025-07-30 03:41:33.022] Start to evalute the model:\n",
      "[2025-07-30 03:41:33.022] Evaluating cascade layer = 0 \n"
     ]
    },
    {
     "name": "stderr",
     "output_type": "stream",
     "text": [
      "Exact explainer:  77%|███████▋  | 159/206 [01:46<00:31,  1.49it/s]"
     ]
    },
    {
     "name": "stdout",
     "output_type": "stream",
     "text": [
      "[2025-07-30 03:41:33.135] Evaluating cascade layer = 1 \n",
      "[2025-07-30 03:41:33.276] Start to evalute the model:\n",
      "[2025-07-30 03:41:33.284] Evaluating cascade layer = 0 \n",
      "[2025-07-30 03:41:33.485] Evaluating cascade layer = 1 \n",
      "[2025-07-30 03:41:33.686] Start to evalute the model:\n",
      "[2025-07-30 03:41:33.686] Evaluating cascade layer = 0 \n"
     ]
    },
    {
     "name": "stderr",
     "output_type": "stream",
     "text": [
      "Exact explainer:  78%|███████▊  | 160/206 [01:47<00:30,  1.49it/s]"
     ]
    },
    {
     "name": "stdout",
     "output_type": "stream",
     "text": [
      "[2025-07-30 03:41:33.802] Evaluating cascade layer = 1 \n",
      "[2025-07-30 03:41:33.936] Start to evalute the model:\n",
      "[2025-07-30 03:41:33.936] Evaluating cascade layer = 0 \n",
      "[2025-07-30 03:41:34.152] Evaluating cascade layer = 1 \n",
      "[2025-07-30 03:41:34.352] Start to evalute the model:\n",
      "[2025-07-30 03:41:34.352] Evaluating cascade layer = 0 \n"
     ]
    },
    {
     "name": "stderr",
     "output_type": "stream",
     "text": [
      "Exact explainer:  78%|███████▊  | 161/206 [01:48<00:29,  1.51it/s]"
     ]
    },
    {
     "name": "stdout",
     "output_type": "stream",
     "text": [
      "[2025-07-30 03:41:34.452] Evaluating cascade layer = 1 \n",
      "[2025-07-30 03:41:34.586] Start to evalute the model:\n",
      "[2025-07-30 03:41:34.586] Evaluating cascade layer = 0 \n",
      "[2025-07-30 03:41:34.802] Evaluating cascade layer = 1 \n",
      "[2025-07-30 03:41:35.002] Start to evalute the model:\n",
      "[2025-07-30 03:41:35.002] Evaluating cascade layer = 0 \n",
      "[2025-07-30 03:41:35.135] Evaluating cascade layer = 1 \n"
     ]
    },
    {
     "name": "stderr",
     "output_type": "stream",
     "text": [
      "Exact explainer:  79%|███████▊  | 162/206 [01:49<00:30,  1.45it/s]"
     ]
    },
    {
     "name": "stdout",
     "output_type": "stream",
     "text": [
      "[2025-07-30 03:41:35.337] Start to evalute the model:\n",
      "[2025-07-30 03:41:35.353] Evaluating cascade layer = 0 \n",
      "[2025-07-30 03:41:35.569] Evaluating cascade layer = 1 \n",
      "[2025-07-30 03:41:35.772] Start to evalute the model:\n",
      "[2025-07-30 03:41:35.772] Evaluating cascade layer = 0 \n"
     ]
    },
    {
     "name": "stderr",
     "output_type": "stream",
     "text": [
      "Exact explainer:  79%|███████▉  | 163/206 [01:49<00:29,  1.45it/s]"
     ]
    },
    {
     "name": "stdout",
     "output_type": "stream",
     "text": [
      "[2025-07-30 03:41:35.883] Evaluating cascade layer = 1 \n",
      "[2025-07-30 03:41:36.023] Start to evalute the model:\n",
      "[2025-07-30 03:41:36.023] Evaluating cascade layer = 0 \n",
      "[2025-07-30 03:41:36.235] Evaluating cascade layer = 1 \n",
      "[2025-07-30 03:41:36.452] Start to evalute the model:\n",
      "[2025-07-30 03:41:36.452] Evaluating cascade layer = 0 \n"
     ]
    },
    {
     "name": "stderr",
     "output_type": "stream",
     "text": [
      "Exact explainer:  80%|███████▉  | 164/206 [01:50<00:30,  1.40it/s]"
     ]
    },
    {
     "name": "stdout",
     "output_type": "stream",
     "text": [
      "[2025-07-30 03:41:36.670] Evaluating cascade layer = 1 \n",
      "[2025-07-30 03:41:36.802] Start to evalute the model:\n",
      "[2025-07-30 03:41:36.802] Evaluating cascade layer = 0 \n",
      "[2025-07-30 03:41:37.019] Evaluating cascade layer = 1 \n",
      "[2025-07-30 03:41:37.219] Start to evalute the model:\n",
      "[2025-07-30 03:41:37.219] Evaluating cascade layer = 0 \n"
     ]
    },
    {
     "name": "stderr",
     "output_type": "stream",
     "text": [
      "Exact explainer:  80%|████████  | 165/206 [01:51<00:28,  1.42it/s]"
     ]
    },
    {
     "name": "stdout",
     "output_type": "stream",
     "text": [
      "[2025-07-30 03:41:37.352] Evaluating cascade layer = 1 \n",
      "[2025-07-30 03:41:37.486] Start to evalute the model:\n",
      "[2025-07-30 03:41:37.486] Evaluating cascade layer = 0 \n",
      "[2025-07-30 03:41:37.702] Evaluating cascade layer = 1 \n",
      "[2025-07-30 03:41:37.902] Start to evalute the model:\n",
      "[2025-07-30 03:41:37.902] Evaluating cascade layer = 0 \n"
     ]
    },
    {
     "name": "stderr",
     "output_type": "stream",
     "text": [
      "Exact explainer:  81%|████████  | 166/206 [01:51<00:27,  1.44it/s]"
     ]
    },
    {
     "name": "stdout",
     "output_type": "stream",
     "text": [
      "[2025-07-30 03:41:38.018] Evaluating cascade layer = 1 \n",
      "[2025-07-30 03:41:38.153] Start to evalute the model:\n",
      "[2025-07-30 03:41:38.153] Evaluating cascade layer = 0 \n",
      "[2025-07-30 03:41:38.419] Evaluating cascade layer = 1 \n",
      "[2025-07-30 03:41:38.619] Start to evalute the model:\n",
      "[2025-07-30 03:41:38.619] Evaluating cascade layer = 0 \n",
      "[2025-07-30 03:41:38.752] Evaluating cascade layer = 1 \n"
     ]
    },
    {
     "name": "stderr",
     "output_type": "stream",
     "text": [
      "Exact explainer:  81%|████████  | 167/206 [01:52<00:27,  1.42it/s]"
     ]
    },
    {
     "name": "stdout",
     "output_type": "stream",
     "text": [
      "[2025-07-30 03:41:38.886] Start to evalute the model:\n",
      "[2025-07-30 03:41:38.886] Evaluating cascade layer = 0 \n",
      "[2025-07-30 03:41:39.102] Evaluating cascade layer = 1 \n",
      "[2025-07-30 03:41:39.302] Start to evalute the model:\n",
      "[2025-07-30 03:41:39.302] Evaluating cascade layer = 0 \n"
     ]
    },
    {
     "name": "stderr",
     "output_type": "stream",
     "text": [
      "Exact explainer:  82%|████████▏ | 168/206 [01:53<00:26,  1.44it/s]"
     ]
    },
    {
     "name": "stdout",
     "output_type": "stream",
     "text": [
      "[2025-07-30 03:41:39.435] Evaluating cascade layer = 1 \n",
      "[2025-07-30 03:41:39.552] Start to evalute the model:\n",
      "[2025-07-30 03:41:39.552] Evaluating cascade layer = 0 \n",
      "[2025-07-30 03:41:39.752] Evaluating cascade layer = 1 \n",
      "[2025-07-30 03:41:39.952] Start to evalute the model:\n",
      "[2025-07-30 03:41:39.952] Evaluating cascade layer = 0 \n"
     ]
    },
    {
     "name": "stderr",
     "output_type": "stream",
     "text": [
      "Exact explainer:  82%|████████▏ | 169/206 [01:53<00:25,  1.46it/s]"
     ]
    },
    {
     "name": "stdout",
     "output_type": "stream",
     "text": [
      "[2025-07-30 03:41:40.086] Evaluating cascade layer = 1 \n",
      "[2025-07-30 03:41:40.219] Start to evalute the model:\n",
      "[2025-07-30 03:41:40.236] Evaluating cascade layer = 0 \n",
      "[2025-07-30 03:41:40.452] Evaluating cascade layer = 1 \n",
      "[2025-07-30 03:41:40.653] Start to evalute the model:\n",
      "[2025-07-30 03:41:40.653] Evaluating cascade layer = 0 \n"
     ]
    },
    {
     "name": "stderr",
     "output_type": "stream",
     "text": [
      "Exact explainer:  83%|████████▎ | 170/206 [01:54<00:24,  1.47it/s]"
     ]
    },
    {
     "name": "stdout",
     "output_type": "stream",
     "text": [
      "[2025-07-30 03:41:40.769] Evaluating cascade layer = 1 \n",
      "[2025-07-30 03:41:40.886] Start to evalute the model:\n",
      "[2025-07-30 03:41:40.886] Evaluating cascade layer = 0 \n",
      "[2025-07-30 03:41:41.084] Evaluating cascade layer = 1 \n",
      "[2025-07-30 03:41:41.286] Start to evalute the model:\n",
      "[2025-07-30 03:41:41.286] Evaluating cascade layer = 0 \n",
      "[2025-07-30 03:41:41.402] Evaluating cascade layer = 1 \n"
     ]
    },
    {
     "name": "stderr",
     "output_type": "stream",
     "text": [
      "Exact explainer:  83%|████████▎ | 171/206 [01:55<00:23,  1.50it/s]"
     ]
    },
    {
     "name": "stdout",
     "output_type": "stream",
     "text": [
      "[2025-07-30 03:41:41.519] Start to evalute the model:\n",
      "[2025-07-30 03:41:41.519] Evaluating cascade layer = 0 \n",
      "[2025-07-30 03:41:41.719] Evaluating cascade layer = 1 \n",
      "[2025-07-30 03:41:41.919] Start to evalute the model:\n",
      "[2025-07-30 03:41:41.919] Evaluating cascade layer = 0 \n",
      "[2025-07-30 03:41:42.035] Evaluating cascade layer = 1 \n"
     ]
    },
    {
     "name": "stderr",
     "output_type": "stream",
     "text": [
      "Exact explainer:  83%|████████▎ | 172/206 [01:55<00:22,  1.51it/s]"
     ]
    },
    {
     "name": "stdout",
     "output_type": "stream",
     "text": [
      "[2025-07-30 03:41:42.173] Start to evalute the model:\n",
      "[2025-07-30 03:41:42.179] Evaluating cascade layer = 0 \n",
      "[2025-07-30 03:41:42.385] Evaluating cascade layer = 1 \n",
      "[2025-07-30 03:41:42.586] Start to evalute the model:\n",
      "[2025-07-30 03:41:42.586] Evaluating cascade layer = 0 \n"
     ]
    },
    {
     "name": "stderr",
     "output_type": "stream",
     "text": [
      "Exact explainer:  84%|████████▍ | 173/206 [01:56<00:21,  1.51it/s]"
     ]
    },
    {
     "name": "stdout",
     "output_type": "stream",
     "text": [
      "[2025-07-30 03:41:42.702] Evaluating cascade layer = 1 \n",
      "[2025-07-30 03:41:42.840] Start to evalute the model:\n",
      "[2025-07-30 03:41:42.840] Evaluating cascade layer = 0 \n",
      "[2025-07-30 03:41:43.052] Evaluating cascade layer = 1 \n",
      "[2025-07-30 03:41:43.252] Start to evalute the model:\n",
      "[2025-07-30 03:41:43.252] Evaluating cascade layer = 0 \n"
     ]
    },
    {
     "name": "stderr",
     "output_type": "stream",
     "text": [
      "Exact explainer:  84%|████████▍ | 174/206 [01:57<00:21,  1.52it/s]"
     ]
    },
    {
     "name": "stdout",
     "output_type": "stream",
     "text": [
      "[2025-07-30 03:41:43.369] Evaluating cascade layer = 1 \n",
      "[2025-07-30 03:41:43.488] Start to evalute the model:\n",
      "[2025-07-30 03:41:43.490] Evaluating cascade layer = 0 \n",
      "[2025-07-30 03:41:43.702] Evaluating cascade layer = 1 \n",
      "[2025-07-30 03:41:43.902] Start to evalute the model:\n",
      "[2025-07-30 03:41:43.902] Evaluating cascade layer = 0 \n"
     ]
    },
    {
     "name": "stderr",
     "output_type": "stream",
     "text": [
      "Exact explainer:  85%|████████▍ | 175/206 [01:57<00:20,  1.50it/s]"
     ]
    },
    {
     "name": "stdout",
     "output_type": "stream",
     "text": [
      "[2025-07-30 03:41:44.035] Evaluating cascade layer = 1 \n",
      "[2025-07-30 03:41:44.162] Start to evalute the model:\n",
      "[2025-07-30 03:41:44.173] Evaluating cascade layer = 0 \n",
      "[2025-07-30 03:41:44.402] Evaluating cascade layer = 1 \n",
      "[2025-07-30 03:41:44.602] Start to evalute the model:\n",
      "[2025-07-30 03:41:44.602] Evaluating cascade layer = 0 \n"
     ]
    },
    {
     "name": "stderr",
     "output_type": "stream",
     "text": [
      "Exact explainer:  85%|████████▌ | 176/206 [01:58<00:20,  1.49it/s]"
     ]
    },
    {
     "name": "stdout",
     "output_type": "stream",
     "text": [
      "[2025-07-30 03:41:44.735] Evaluating cascade layer = 1 \n",
      "[2025-07-30 03:41:44.852] Start to evalute the model:\n",
      "[2025-07-30 03:41:44.852] Evaluating cascade layer = 0 \n",
      "[2025-07-30 03:41:45.069] Evaluating cascade layer = 1 \n",
      "[2025-07-30 03:41:45.272] Start to evalute the model:\n",
      "[2025-07-30 03:41:45.272] Evaluating cascade layer = 0 \n"
     ]
    },
    {
     "name": "stderr",
     "output_type": "stream",
     "text": [
      "Exact explainer:  86%|████████▌ | 177/206 [01:59<00:19,  1.49it/s]"
     ]
    },
    {
     "name": "stdout",
     "output_type": "stream",
     "text": [
      "[2025-07-30 03:41:45.402] Evaluating cascade layer = 1 \n",
      "[2025-07-30 03:41:45.520] Start to evalute the model:\n",
      "[2025-07-30 03:41:45.536] Evaluating cascade layer = 0 \n",
      "[2025-07-30 03:41:45.752] Evaluating cascade layer = 1 \n",
      "[2025-07-30 03:41:45.952] Start to evalute the model:\n",
      "[2025-07-30 03:41:45.952] Evaluating cascade layer = 0 \n"
     ]
    },
    {
     "name": "stderr",
     "output_type": "stream",
     "text": [
      "Exact explainer:  86%|████████▋ | 178/206 [01:59<00:19,  1.47it/s]"
     ]
    },
    {
     "name": "stdout",
     "output_type": "stream",
     "text": [
      "[2025-07-30 03:41:46.084] Evaluating cascade layer = 1 \n",
      "[2025-07-30 03:41:46.220] Start to evalute the model:\n",
      "[2025-07-30 03:41:46.220] Evaluating cascade layer = 0 \n",
      "[2025-07-30 03:41:46.436] Evaluating cascade layer = 1 \n",
      "[2025-07-30 03:41:46.638] Start to evalute the model:\n",
      "[2025-07-30 03:41:46.638] Evaluating cascade layer = 0 \n"
     ]
    },
    {
     "name": "stderr",
     "output_type": "stream",
     "text": [
      "Exact explainer:  87%|████████▋ | 179/206 [02:00<00:18,  1.47it/s]"
     ]
    },
    {
     "name": "stdout",
     "output_type": "stream",
     "text": [
      "[2025-07-30 03:41:46.769] Evaluating cascade layer = 1 \n",
      "[2025-07-30 03:41:46.902] Start to evalute the model:\n",
      "[2025-07-30 03:41:46.902] Evaluating cascade layer = 0 \n",
      "[2025-07-30 03:41:47.102] Evaluating cascade layer = 1 \n",
      "[2025-07-30 03:41:47.303] Start to evalute the model:\n",
      "[2025-07-30 03:41:47.303] Evaluating cascade layer = 0 \n",
      "[2025-07-30 03:41:47.418] Evaluating cascade layer = 1 \n"
     ]
    },
    {
     "name": "stderr",
     "output_type": "stream",
     "text": [
      "Exact explainer:  87%|████████▋ | 180/206 [02:01<00:17,  1.50it/s]"
     ]
    },
    {
     "name": "stdout",
     "output_type": "stream",
     "text": [
      "[2025-07-30 03:41:47.536] Start to evalute the model:\n",
      "[2025-07-30 03:41:47.536] Evaluating cascade layer = 0 \n",
      "[2025-07-30 03:41:47.753] Evaluating cascade layer = 1 \n",
      "[2025-07-30 03:41:47.953] Start to evalute the model:\n",
      "[2025-07-30 03:41:47.953] Evaluating cascade layer = 0 \n"
     ]
    },
    {
     "name": "stderr",
     "output_type": "stream",
     "text": [
      "Exact explainer:  88%|████████▊ | 181/206 [02:01<00:16,  1.49it/s]"
     ]
    },
    {
     "name": "stdout",
     "output_type": "stream",
     "text": [
      "[2025-07-30 03:41:48.085] Evaluating cascade layer = 1 \n",
      "[2025-07-30 03:41:48.219] Start to evalute the model:\n",
      "[2025-07-30 03:41:48.219] Evaluating cascade layer = 0 \n",
      "[2025-07-30 03:41:48.436] Evaluating cascade layer = 1 \n",
      "[2025-07-30 03:41:48.636] Start to evalute the model:\n",
      "[2025-07-30 03:41:48.636] Evaluating cascade layer = 0 \n"
     ]
    },
    {
     "name": "stderr",
     "output_type": "stream",
     "text": [
      "Exact explainer:  88%|████████▊ | 182/206 [02:02<00:15,  1.50it/s]"
     ]
    },
    {
     "name": "stdout",
     "output_type": "stream",
     "text": [
      "[2025-07-30 03:41:48.735] Evaluating cascade layer = 1 \n",
      "[2025-07-30 03:41:48.876] Start to evalute the model:\n",
      "[2025-07-30 03:41:48.891] Evaluating cascade layer = 0 \n",
      "[2025-07-30 03:41:49.084] Evaluating cascade layer = 1 \n",
      "[2025-07-30 03:41:49.286] Start to evalute the model:\n",
      "[2025-07-30 03:41:49.286] Evaluating cascade layer = 0 \n"
     ]
    },
    {
     "name": "stderr",
     "output_type": "stream",
     "text": [
      "Exact explainer:  89%|████████▉ | 183/206 [02:03<00:15,  1.50it/s]"
     ]
    },
    {
     "name": "stdout",
     "output_type": "stream",
     "text": [
      "[2025-07-30 03:41:49.402] Evaluating cascade layer = 1 \n",
      "[2025-07-30 03:41:49.536] Start to evalute the model:\n",
      "[2025-07-30 03:41:49.536] Evaluating cascade layer = 0 \n",
      "[2025-07-30 03:41:49.752] Evaluating cascade layer = 1 \n",
      "[2025-07-30 03:41:49.953] Start to evalute the model:\n",
      "[2025-07-30 03:41:49.953] Evaluating cascade layer = 0 \n",
      "[2025-07-30 03:41:50.086] Evaluating cascade layer = 1 \n"
     ]
    },
    {
     "name": "stderr",
     "output_type": "stream",
     "text": [
      "Exact explainer:  89%|████████▉ | 184/206 [02:03<00:14,  1.50it/s]"
     ]
    },
    {
     "name": "stdout",
     "output_type": "stream",
     "text": [
      "[2025-07-30 03:41:50.203] Start to evalute the model:\n",
      "[2025-07-30 03:41:50.203] Evaluating cascade layer = 0 \n",
      "[2025-07-30 03:41:50.419] Evaluating cascade layer = 1 \n",
      "[2025-07-30 03:41:50.652] Start to evalute the model:\n",
      "[2025-07-30 03:41:50.652] Evaluating cascade layer = 0 \n",
      "[2025-07-30 03:41:50.752] Evaluating cascade layer = 1 \n"
     ]
    },
    {
     "name": "stderr",
     "output_type": "stream",
     "text": [
      "Exact explainer:  90%|████████▉ | 185/206 [02:04<00:13,  1.50it/s]"
     ]
    },
    {
     "name": "stdout",
     "output_type": "stream",
     "text": [
      "[2025-07-30 03:41:50.873] Start to evalute the model:\n",
      "[2025-07-30 03:41:50.879] Evaluating cascade layer = 0 \n",
      "[2025-07-30 03:41:51.069] Evaluating cascade layer = 1 \n",
      "[2025-07-30 03:41:51.271] Start to evalute the model:\n",
      "[2025-07-30 03:41:51.272] Evaluating cascade layer = 0 \n",
      "[2025-07-30 03:41:51.402] Evaluating cascade layer = 1 \n"
     ]
    },
    {
     "name": "stderr",
     "output_type": "stream",
     "text": [
      "Exact explainer:  90%|█████████ | 186/206 [02:05<00:13,  1.50it/s]"
     ]
    },
    {
     "name": "stdout",
     "output_type": "stream",
     "text": [
      "[2025-07-30 03:41:51.536] Start to evalute the model:\n",
      "[2025-07-30 03:41:51.536] Evaluating cascade layer = 0 \n",
      "[2025-07-30 03:41:51.752] Evaluating cascade layer = 1 \n",
      "[2025-07-30 03:41:51.952] Start to evalute the model:\n",
      "[2025-07-30 03:41:51.952] Evaluating cascade layer = 0 \n"
     ]
    },
    {
     "name": "stderr",
     "output_type": "stream",
     "text": [
      "Exact explainer:  91%|█████████ | 187/206 [02:05<00:12,  1.51it/s]"
     ]
    },
    {
     "name": "stdout",
     "output_type": "stream",
     "text": [
      "[2025-07-30 03:41:52.052] Evaluating cascade layer = 1 \n",
      "[2025-07-30 03:41:52.187] Start to evalute the model:\n",
      "[2025-07-30 03:41:52.205] Evaluating cascade layer = 0 \n",
      "[2025-07-30 03:41:52.419] Evaluating cascade layer = 1 \n",
      "[2025-07-30 03:41:52.622] Start to evalute the model:\n",
      "[2025-07-30 03:41:52.623] Evaluating cascade layer = 0 \n"
     ]
    },
    {
     "name": "stderr",
     "output_type": "stream",
     "text": [
      "Exact explainer:  91%|█████████▏| 188/206 [02:06<00:12,  1.50it/s]"
     ]
    },
    {
     "name": "stdout",
     "output_type": "stream",
     "text": [
      "[2025-07-30 03:41:52.735] Evaluating cascade layer = 1 \n",
      "[2025-07-30 03:41:52.874] Start to evalute the model:\n",
      "[2025-07-30 03:41:52.881] Evaluating cascade layer = 0 \n",
      "[2025-07-30 03:41:53.086] Evaluating cascade layer = 1 \n",
      "[2025-07-30 03:41:53.286] Start to evalute the model:\n",
      "[2025-07-30 03:41:53.286] Evaluating cascade layer = 0 \n"
     ]
    },
    {
     "name": "stderr",
     "output_type": "stream",
     "text": [
      "Exact explainer:  92%|█████████▏| 189/206 [02:07<00:11,  1.49it/s]"
     ]
    },
    {
     "name": "stdout",
     "output_type": "stream",
     "text": [
      "[2025-07-30 03:41:53.419] Evaluating cascade layer = 1 \n",
      "[2025-07-30 03:41:53.553] Start to evalute the model:\n",
      "[2025-07-30 03:41:53.553] Evaluating cascade layer = 0 \n",
      "[2025-07-30 03:41:53.769] Evaluating cascade layer = 1 \n",
      "[2025-07-30 03:41:53.971] Start to evalute the model:\n",
      "[2025-07-30 03:41:53.972] Evaluating cascade layer = 0 \n"
     ]
    },
    {
     "name": "stderr",
     "output_type": "stream",
     "text": [
      "Exact explainer:  92%|█████████▏| 190/206 [02:07<00:10,  1.50it/s]"
     ]
    },
    {
     "name": "stdout",
     "output_type": "stream",
     "text": [
      "[2025-07-30 03:41:54.069] Evaluating cascade layer = 1 \n",
      "[2025-07-30 03:41:54.202] Start to evalute the model:\n",
      "[2025-07-30 03:41:54.202] Evaluating cascade layer = 0 \n",
      "[2025-07-30 03:41:54.418] Evaluating cascade layer = 1 \n",
      "[2025-07-30 03:41:54.619] Start to evalute the model:\n",
      "[2025-07-30 03:41:54.619] Evaluating cascade layer = 0 \n"
     ]
    },
    {
     "name": "stderr",
     "output_type": "stream",
     "text": [
      "Exact explainer:  93%|█████████▎| 191/206 [02:08<00:09,  1.52it/s]"
     ]
    },
    {
     "name": "stdout",
     "output_type": "stream",
     "text": [
      "[2025-07-30 03:41:54.719] Evaluating cascade layer = 1 \n",
      "[2025-07-30 03:41:54.836] Start to evalute the model:\n",
      "[2025-07-30 03:41:54.836] Evaluating cascade layer = 0 \n",
      "[2025-07-30 03:41:55.052] Evaluating cascade layer = 1 \n",
      "[2025-07-30 03:41:55.253] Start to evalute the model:\n",
      "[2025-07-30 03:41:55.253] Evaluating cascade layer = 0 \n"
     ]
    },
    {
     "name": "stderr",
     "output_type": "stream",
     "text": [
      "Exact explainer:  93%|█████████▎| 192/206 [02:09<00:09,  1.53it/s]"
     ]
    },
    {
     "name": "stdout",
     "output_type": "stream",
     "text": [
      "[2025-07-30 03:41:55.352] Evaluating cascade layer = 1 \n",
      "[2025-07-30 03:41:55.486] Start to evalute the model:\n",
      "[2025-07-30 03:41:55.486] Evaluating cascade layer = 0 \n",
      "[2025-07-30 03:41:55.702] Evaluating cascade layer = 1 \n",
      "[2025-07-30 03:41:55.902] Start to evalute the model:\n",
      "[2025-07-30 03:41:55.902] Evaluating cascade layer = 0 \n"
     ]
    },
    {
     "name": "stderr",
     "output_type": "stream",
     "text": [
      "Exact explainer:  94%|█████████▎| 193/206 [02:09<00:08,  1.51it/s]"
     ]
    },
    {
     "name": "stdout",
     "output_type": "stream",
     "text": [
      "[2025-07-30 03:41:56.035] Evaluating cascade layer = 1 \n",
      "[2025-07-30 03:41:56.173] Start to evalute the model:\n",
      "[2025-07-30 03:41:56.179] Evaluating cascade layer = 0 \n",
      "[2025-07-30 03:41:56.386] Evaluating cascade layer = 1 \n",
      "[2025-07-30 03:41:56.619] Start to evalute the model:\n",
      "[2025-07-30 03:41:56.619] Evaluating cascade layer = 0 \n",
      "[2025-07-30 03:41:56.752] Evaluating cascade layer = 1 \n"
     ]
    },
    {
     "name": "stderr",
     "output_type": "stream",
     "text": [
      "Exact explainer:  94%|█████████▍| 194/206 [02:10<00:08,  1.47it/s]"
     ]
    },
    {
     "name": "stdout",
     "output_type": "stream",
     "text": [
      "[2025-07-30 03:41:56.886] Start to evalute the model:\n",
      "[2025-07-30 03:41:56.886] Evaluating cascade layer = 0 \n",
      "[2025-07-30 03:41:57.102] Evaluating cascade layer = 1 \n",
      "[2025-07-30 03:41:57.302] Start to evalute the model:\n",
      "[2025-07-30 03:41:57.302] Evaluating cascade layer = 0 \n"
     ]
    },
    {
     "name": "stderr",
     "output_type": "stream",
     "text": [
      "Exact explainer:  95%|█████████▍| 195/206 [02:11<00:07,  1.47it/s]"
     ]
    },
    {
     "name": "stdout",
     "output_type": "stream",
     "text": [
      "[2025-07-30 03:41:57.436] Evaluating cascade layer = 1 \n",
      "[2025-07-30 03:41:57.573] Start to evalute the model:\n",
      "[2025-07-30 03:41:57.579] Evaluating cascade layer = 0 \n",
      "[2025-07-30 03:41:57.784] Evaluating cascade layer = 1 \n",
      "[2025-07-30 03:41:58.003] Start to evalute the model:\n",
      "[2025-07-30 03:41:58.003] Evaluating cascade layer = 0 \n",
      "[2025-07-30 03:41:58.086] Evaluating cascade layer = 1 \n"
     ]
    },
    {
     "name": "stderr",
     "output_type": "stream",
     "text": [
      "Exact explainer:  95%|█████████▌| 196/206 [02:11<00:06,  1.49it/s]"
     ]
    },
    {
     "name": "stdout",
     "output_type": "stream",
     "text": [
      "[2025-07-30 03:41:58.219] Start to evalute the model:\n",
      "[2025-07-30 03:41:58.219] Evaluating cascade layer = 0 \n",
      "[2025-07-30 03:41:58.435] Evaluating cascade layer = 1 \n",
      "[2025-07-30 03:41:58.652] Start to evalute the model:\n",
      "[2025-07-30 03:41:58.652] Evaluating cascade layer = 0 \n",
      "[2025-07-30 03:41:58.770] Evaluating cascade layer = 1 \n"
     ]
    },
    {
     "name": "stderr",
     "output_type": "stream",
     "text": [
      "Exact explainer:  96%|█████████▌| 197/206 [02:12<00:06,  1.48it/s]"
     ]
    },
    {
     "name": "stdout",
     "output_type": "stream",
     "text": [
      "[2025-07-30 03:41:58.902] Start to evalute the model:\n",
      "[2025-07-30 03:41:58.902] Evaluating cascade layer = 0 \n",
      "[2025-07-30 03:41:59.102] Evaluating cascade layer = 1 \n",
      "[2025-07-30 03:41:59.303] Start to evalute the model:\n",
      "[2025-07-30 03:41:59.303] Evaluating cascade layer = 0 \n",
      "[2025-07-30 03:41:59.436] Evaluating cascade layer = 1 \n"
     ]
    },
    {
     "name": "stderr",
     "output_type": "stream",
     "text": [
      "Exact explainer:  96%|█████████▌| 198/206 [02:13<00:05,  1.49it/s]"
     ]
    },
    {
     "name": "stdout",
     "output_type": "stream",
     "text": [
      "[2025-07-30 03:41:59.574] Start to evalute the model:\n",
      "[2025-07-30 03:41:59.581] Evaluating cascade layer = 0 \n",
      "[2025-07-30 03:41:59.802] Evaluating cascade layer = 1 \n",
      "[2025-07-30 03:42:00.003] Start to evalute the model:\n",
      "[2025-07-30 03:42:00.003] Evaluating cascade layer = 0 \n"
     ]
    },
    {
     "name": "stderr",
     "output_type": "stream",
     "text": [
      "Exact explainer:  97%|█████████▋| 199/206 [02:13<00:04,  1.49it/s]"
     ]
    },
    {
     "name": "stdout",
     "output_type": "stream",
     "text": [
      "[2025-07-30 03:42:00.135] Evaluating cascade layer = 1 \n",
      "[2025-07-30 03:42:00.240] Start to evalute the model:\n",
      "[2025-07-30 03:42:00.240] Evaluating cascade layer = 0 \n",
      "[2025-07-30 03:42:00.452] Evaluating cascade layer = 1 \n",
      "[2025-07-30 03:42:00.653] Start to evalute the model:\n",
      "[2025-07-30 03:42:00.653] Evaluating cascade layer = 0 \n"
     ]
    },
    {
     "name": "stderr",
     "output_type": "stream",
     "text": [
      "Exact explainer:  97%|█████████▋| 200/206 [02:14<00:04,  1.46it/s]"
     ]
    },
    {
     "name": "stdout",
     "output_type": "stream",
     "text": [
      "[2025-07-30 03:42:00.786] Evaluating cascade layer = 1 \n",
      "[2025-07-30 03:42:00.952] Start to evalute the model:\n",
      "[2025-07-30 03:42:00.952] Evaluating cascade layer = 0 \n",
      "[2025-07-30 03:42:01.169] Evaluating cascade layer = 1 \n",
      "[2025-07-30 03:42:01.386] Start to evalute the model:\n",
      "[2025-07-30 03:42:01.386] Evaluating cascade layer = 0 \n",
      "[2025-07-30 03:42:01.502] Evaluating cascade layer = 1 \n"
     ]
    },
    {
     "name": "stderr",
     "output_type": "stream",
     "text": [
      "Exact explainer:  98%|█████████▊| 201/206 [02:15<00:03,  1.46it/s]"
     ]
    },
    {
     "name": "stdout",
     "output_type": "stream",
     "text": [
      "[2025-07-30 03:42:01.640] Start to evalute the model:\n",
      "[2025-07-30 03:42:01.642] Evaluating cascade layer = 0 \n",
      "[2025-07-30 03:42:01.853] Evaluating cascade layer = 1 \n",
      "[2025-07-30 03:42:02.053] Start to evalute the model:\n",
      "[2025-07-30 03:42:02.053] Evaluating cascade layer = 0 \n"
     ]
    },
    {
     "name": "stderr",
     "output_type": "stream",
     "text": [
      "Exact explainer:  98%|█████████▊| 202/206 [02:15<00:02,  1.49it/s]"
     ]
    },
    {
     "name": "stdout",
     "output_type": "stream",
     "text": [
      "[2025-07-30 03:42:02.152] Evaluating cascade layer = 1 \n",
      "[2025-07-30 03:42:02.288] Start to evalute the model:\n",
      "[2025-07-30 03:42:02.290] Evaluating cascade layer = 0 \n",
      "[2025-07-30 03:42:02.536] Evaluating cascade layer = 1 \n",
      "[2025-07-30 03:42:02.736] Start to evalute the model:\n",
      "[2025-07-30 03:42:02.736] Evaluating cascade layer = 0 \n"
     ]
    },
    {
     "name": "stderr",
     "output_type": "stream",
     "text": [
      "Exact explainer:  99%|█████████▊| 203/206 [02:16<00:02,  1.46it/s]"
     ]
    },
    {
     "name": "stdout",
     "output_type": "stream",
     "text": [
      "[2025-07-30 03:42:02.869] Evaluating cascade layer = 1 \n",
      "[2025-07-30 03:42:03.002] Start to evalute the model:\n",
      "[2025-07-30 03:42:03.002] Evaluating cascade layer = 0 \n",
      "[2025-07-30 03:42:03.219] Evaluating cascade layer = 1 \n",
      "[2025-07-30 03:42:03.419] Start to evalute the model:\n",
      "[2025-07-30 03:42:03.419] Evaluating cascade layer = 0 \n",
      "[2025-07-30 03:42:03.519] Evaluating cascade layer = 1 \n"
     ]
    },
    {
     "name": "stderr",
     "output_type": "stream",
     "text": [
      "Exact explainer:  99%|█████████▉| 204/206 [02:17<00:01,  1.49it/s]"
     ]
    },
    {
     "name": "stdout",
     "output_type": "stream",
     "text": [
      "[2025-07-30 03:42:03.636] Start to evalute the model:\n",
      "[2025-07-30 03:42:03.636] Evaluating cascade layer = 0 \n",
      "[2025-07-30 03:42:03.852] Evaluating cascade layer = 1 \n",
      "[2025-07-30 03:42:04.052] Start to evalute the model:\n",
      "[2025-07-30 03:42:04.052] Evaluating cascade layer = 0 \n"
     ]
    },
    {
     "name": "stderr",
     "output_type": "stream",
     "text": [
      "Exact explainer: 100%|█████████▉| 205/206 [02:18<00:00,  1.49it/s]"
     ]
    },
    {
     "name": "stdout",
     "output_type": "stream",
     "text": [
      "[2025-07-30 03:42:04.183] Evaluating cascade layer = 1 \n",
      "[2025-07-30 03:42:04.303] Start to evalute the model:\n",
      "[2025-07-30 03:42:04.303] Evaluating cascade layer = 0 \n",
      "[2025-07-30 03:42:04.519] Evaluating cascade layer = 1 \n",
      "[2025-07-30 03:42:04.719] Start to evalute the model:\n",
      "[2025-07-30 03:42:04.719] Evaluating cascade layer = 0 \n"
     ]
    },
    {
     "name": "stderr",
     "output_type": "stream",
     "text": [
      "Exact explainer: 100%|██████████| 206/206 [02:18<00:00,  1.52it/s]"
     ]
    },
    {
     "name": "stdout",
     "output_type": "stream",
     "text": [
      "[2025-07-30 03:42:04.819] Evaluating cascade layer = 1 \n",
      "[2025-07-30 03:42:04.936] Start to evalute the model:\n",
      "[2025-07-30 03:42:04.936] Evaluating cascade layer = 0 \n",
      "[2025-07-30 03:42:05.153] Evaluating cascade layer = 1 \n",
      "[2025-07-30 03:42:05.353] Start to evalute the model:\n",
      "[2025-07-30 03:42:05.353] Evaluating cascade layer = 0 \n"
     ]
    },
    {
     "name": "stderr",
     "output_type": "stream",
     "text": [
      "Exact explainer: 207it [02:19,  1.37it/s]                         "
     ]
    },
    {
     "name": "stdout",
     "output_type": "stream",
     "text": [
      "[2025-07-30 03:42:05.469] Evaluating cascade layer = 1 \n",
      "Fold 3...\n",
      "[2025-07-30 03:42:05.619] Start to fit the model:\n",
      "[2025-07-30 03:42:05.619] Fitting cascade layer = 0 \n"
     ]
    },
    {
     "name": "stderr",
     "output_type": "stream",
     "text": [
      "\n"
     ]
    },
    {
     "name": "stdout",
     "output_type": "stream",
     "text": [
      "[2025-07-30 03:42:06.271] layer = 0  | Val MSE = 25.82240 | Elapsed = 0.652 s\n",
      "[2025-07-30 03:42:06.275] Fitting cascade layer = 1 \n",
      "[2025-07-30 03:42:07.036] layer = 1  | Val MSE = 20.33146 | Elapsed = 0.761 s\n",
      "[2025-07-30 03:42:07.036] Fitting cascade layer = 2 \n",
      "[2025-07-30 03:42:07.971] layer = 2  | Val MSE = 22.12742 | Elapsed = 0.935 s\n",
      "[2025-07-30 03:42:07.971] Early stopping counter: 1 out of 2\n",
      "[2025-07-30 03:42:07.977] Fitting cascade layer = 3 \n",
      "[2025-07-30 03:42:08.770] layer = 3  | Val MSE = 24.41082 | Elapsed = 0.793 s\n",
      "[2025-07-30 03:42:08.770] Early stopping counter: 2 out of 2\n",
      "[2025-07-30 03:42:08.770] Handling early stopping\n",
      "[2025-07-30 03:42:08.771] The optimal number of layers: 2\n",
      "[2025-07-30 03:42:08.782] Start to evalute the model:\n",
      "[2025-07-30 03:42:08.786] Evaluating cascade layer = 0 \n",
      "[2025-07-30 03:42:09.003] Evaluating cascade layer = 1 \n",
      "[2025-07-30 03:42:09.202] Start to evalute the model:\n",
      "[2025-07-30 03:42:09.202] Evaluating cascade layer = 0 \n",
      "[2025-07-30 03:42:09.402] Evaluating cascade layer = 1 \n",
      "[2025-07-30 03:42:09.605] Start to evalute the model:\n",
      "[2025-07-30 03:42:09.605] Evaluating cascade layer = 0 \n",
      "[2025-07-30 03:42:09.702] Evaluating cascade layer = 1 \n",
      "[2025-07-30 03:42:09.836] Start to evalute the model:\n",
      "[2025-07-30 03:42:09.836] Evaluating cascade layer = 0 \n",
      "[2025-07-30 03:42:10.052] Evaluating cascade layer = 1 \n",
      "[2025-07-30 03:42:10.256] Start to evalute the model:\n",
      "[2025-07-30 03:42:10.257] Evaluating cascade layer = 0 \n",
      "[2025-07-30 03:42:10.352] Evaluating cascade layer = 1 \n",
      "[2025-07-30 03:42:10.487] Start to evalute the model:\n",
      "[2025-07-30 03:42:10.487] Evaluating cascade layer = 0 \n",
      "[2025-07-30 03:42:10.702] Evaluating cascade layer = 1 \n",
      "[2025-07-30 03:42:10.906] Start to evalute the model:\n",
      "[2025-07-30 03:42:10.906] Evaluating cascade layer = 0 \n",
      "[2025-07-30 03:42:11.019] Evaluating cascade layer = 1 \n",
      "[2025-07-30 03:42:11.136] Start to evalute the model:\n",
      "[2025-07-30 03:42:11.136] Evaluating cascade layer = 0 \n",
      "[2025-07-30 03:42:11.352] Evaluating cascade layer = 1 \n",
      "[2025-07-30 03:42:11.556] Start to evalute the model:\n",
      "[2025-07-30 03:42:11.556] Evaluating cascade layer = 0 \n",
      "[2025-07-30 03:42:11.669] Evaluating cascade layer = 1 \n",
      "[2025-07-30 03:42:11.802] Start to evalute the model:\n",
      "[2025-07-30 03:42:11.802] Evaluating cascade layer = 0 \n",
      "[2025-07-30 03:42:12.019] Evaluating cascade layer = 1 \n",
      "[2025-07-30 03:42:12.219] Start to evalute the model:\n",
      "[2025-07-30 03:42:12.219] Evaluating cascade layer = 0 \n",
      "[2025-07-30 03:42:12.319] Evaluating cascade layer = 1 \n",
      "[2025-07-30 03:42:12.436] Start to evalute the model:\n",
      "[2025-07-30 03:42:12.436] Evaluating cascade layer = 0 \n",
      "[2025-07-30 03:42:12.652] Evaluating cascade layer = 1 \n",
      "[2025-07-30 03:42:12.852] Start to evalute the model:\n",
      "[2025-07-30 03:42:12.852] Evaluating cascade layer = 0 \n",
      "[2025-07-30 03:42:12.984] Evaluating cascade layer = 1 \n",
      "[2025-07-30 03:42:13.103] Start to evalute the model:\n",
      "[2025-07-30 03:42:13.103] Evaluating cascade layer = 0 \n",
      "[2025-07-30 03:42:13.318] Evaluating cascade layer = 1 \n",
      "[2025-07-30 03:42:13.519] Start to evalute the model:\n",
      "[2025-07-30 03:42:13.519] Evaluating cascade layer = 0 \n",
      "[2025-07-30 03:42:13.635] Evaluating cascade layer = 1 \n",
      "[2025-07-30 03:42:13.772] Start to evalute the model:\n",
      "[2025-07-30 03:42:13.779] Evaluating cascade layer = 0 \n",
      "[2025-07-30 03:42:13.984] Evaluating cascade layer = 1 \n",
      "[2025-07-30 03:42:14.186] Start to evalute the model:\n",
      "[2025-07-30 03:42:14.186] Evaluating cascade layer = 0 \n",
      "[2025-07-30 03:42:14.337] Evaluating cascade layer = 1 \n",
      "[2025-07-30 03:42:14.519] Start to evalute the model:\n",
      "[2025-07-30 03:42:14.537] Evaluating cascade layer = 0 \n",
      "[2025-07-30 03:42:14.769] Evaluating cascade layer = 1 \n",
      "[2025-07-30 03:42:14.972] Start to evalute the model:\n",
      "[2025-07-30 03:42:14.973] Evaluating cascade layer = 0 \n",
      "[2025-07-30 03:42:15.083] Evaluating cascade layer = 1 \n",
      "[2025-07-30 03:42:15.202] Start to evalute the model:\n",
      "[2025-07-30 03:42:15.202] Evaluating cascade layer = 0 \n",
      "[2025-07-30 03:42:15.436] Evaluating cascade layer = 1 \n",
      "[2025-07-30 03:42:15.636] Start to evalute the model:\n",
      "[2025-07-30 03:42:15.636] Evaluating cascade layer = 0 \n",
      "[2025-07-30 03:42:15.769] Evaluating cascade layer = 1 \n",
      "[2025-07-30 03:42:15.902] Start to evalute the model:\n",
      "[2025-07-30 03:42:15.902] Evaluating cascade layer = 0 \n",
      "[2025-07-30 03:42:16.119] Evaluating cascade layer = 1 \n",
      "[2025-07-30 03:42:16.319] Start to evalute the model:\n",
      "[2025-07-30 03:42:16.319] Evaluating cascade layer = 0 \n",
      "[2025-07-30 03:42:16.519] Evaluating cascade layer = 1 \n",
      "[2025-07-30 03:42:16.690] Start to evalute the model:\n",
      "[2025-07-30 03:42:16.692] Evaluating cascade layer = 0 \n",
      "[2025-07-30 03:42:16.919] Evaluating cascade layer = 1 \n",
      "[2025-07-30 03:42:17.119] Start to evalute the model:\n",
      "[2025-07-30 03:42:17.119] Evaluating cascade layer = 0 \n",
      "[2025-07-30 03:42:17.235] Evaluating cascade layer = 1 \n",
      "[2025-07-30 03:42:17.356] Start to evalute the model:\n",
      "[2025-07-30 03:42:17.356] Evaluating cascade layer = 0 \n",
      "[2025-07-30 03:42:17.569] Evaluating cascade layer = 1 \n",
      "[2025-07-30 03:42:17.772] Start to evalute the model:\n",
      "[2025-07-30 03:42:17.773] Evaluating cascade layer = 0 \n",
      "[2025-07-30 03:42:17.869] Evaluating cascade layer = 1 \n",
      "[2025-07-30 03:42:18.005] Start to evalute the model:\n",
      "[2025-07-30 03:42:18.007] Evaluating cascade layer = 0 \n",
      "[2025-07-30 03:42:18.219] Evaluating cascade layer = 1 \n",
      "[2025-07-30 03:42:18.423] Start to evalute the model:\n",
      "[2025-07-30 03:42:18.423] Evaluating cascade layer = 0 \n",
      "[2025-07-30 03:42:18.536] Evaluating cascade layer = 1 \n",
      "[2025-07-30 03:42:18.673] Start to evalute the model:\n",
      "[2025-07-30 03:42:18.680] Evaluating cascade layer = 0 \n",
      "[2025-07-30 03:42:18.886] Evaluating cascade layer = 1 \n",
      "[2025-07-30 03:42:19.086] Start to evalute the model:\n",
      "[2025-07-30 03:42:19.086] Evaluating cascade layer = 0 \n",
      "[2025-07-30 03:42:19.202] Evaluating cascade layer = 1 \n"
     ]
    },
    {
     "name": "stderr",
     "output_type": "stream",
     "text": [
      "Exact explainer:   8%|▊         | 16/206 [00:00<?, ?it/s]"
     ]
    },
    {
     "name": "stdout",
     "output_type": "stream",
     "text": [
      "[2025-07-30 03:42:19.336] Start to evalute the model:\n",
      "[2025-07-30 03:42:19.336] Evaluating cascade layer = 0 \n",
      "[2025-07-30 03:42:19.602] Evaluating cascade layer = 1 \n",
      "[2025-07-30 03:42:19.806] Start to evalute the model:\n",
      "[2025-07-30 03:42:19.807] Evaluating cascade layer = 0 \n",
      "[2025-07-30 03:42:19.902] Evaluating cascade layer = 1 \n"
     ]
    },
    {
     "name": "stderr",
     "output_type": "stream",
     "text": [
      "Exact explainer:   9%|▊         | 18/206 [00:11<01:05,  2.86it/s]"
     ]
    },
    {
     "name": "stdout",
     "output_type": "stream",
     "text": [
      "[2025-07-30 03:42:20.036] Start to evalute the model:\n",
      "[2025-07-30 03:42:20.036] Evaluating cascade layer = 0 \n",
      "[2025-07-30 03:42:20.252] Evaluating cascade layer = 1 \n",
      "[2025-07-30 03:42:20.455] Start to evalute the model:\n",
      "[2025-07-30 03:42:20.455] Evaluating cascade layer = 0 \n",
      "[2025-07-30 03:42:20.604] Evaluating cascade layer = 1 \n"
     ]
    },
    {
     "name": "stderr",
     "output_type": "stream",
     "text": [
      "Exact explainer:   9%|▉         | 19/206 [00:11<01:35,  1.96it/s]"
     ]
    },
    {
     "name": "stdout",
     "output_type": "stream",
     "text": [
      "[2025-07-30 03:42:20.775] Start to evalute the model:\n",
      "[2025-07-30 03:42:20.785] Evaluating cascade layer = 0 \n",
      "[2025-07-30 03:42:21.002] Evaluating cascade layer = 1 \n",
      "[2025-07-30 03:42:21.202] Start to evalute the model:\n",
      "[2025-07-30 03:42:21.202] Evaluating cascade layer = 0 \n"
     ]
    },
    {
     "name": "stderr",
     "output_type": "stream",
     "text": [
      "Exact explainer:  10%|▉         | 20/206 [00:12<01:49,  1.70it/s]"
     ]
    },
    {
     "name": "stdout",
     "output_type": "stream",
     "text": [
      "[2025-07-30 03:42:21.336] Evaluating cascade layer = 1 \n",
      "[2025-07-30 03:42:21.486] Start to evalute the model:\n",
      "[2025-07-30 03:42:21.486] Evaluating cascade layer = 0 \n",
      "[2025-07-30 03:42:21.719] Evaluating cascade layer = 1 \n",
      "[2025-07-30 03:42:21.919] Start to evalute the model:\n",
      "[2025-07-30 03:42:21.919] Evaluating cascade layer = 0 \n"
     ]
    },
    {
     "name": "stderr",
     "output_type": "stream",
     "text": [
      "Exact explainer:  10%|█         | 21/206 [00:13<01:54,  1.61it/s]"
     ]
    },
    {
     "name": "stdout",
     "output_type": "stream",
     "text": [
      "[2025-07-30 03:42:22.035] Evaluating cascade layer = 1 \n",
      "[2025-07-30 03:42:22.174] Start to evalute the model:\n",
      "[2025-07-30 03:42:22.180] Evaluating cascade layer = 0 \n",
      "[2025-07-30 03:42:22.384] Evaluating cascade layer = 1 \n",
      "[2025-07-30 03:42:22.586] Start to evalute the model:\n",
      "[2025-07-30 03:42:22.586] Evaluating cascade layer = 0 \n",
      "[2025-07-30 03:42:22.702] Evaluating cascade layer = 1 \n"
     ]
    },
    {
     "name": "stderr",
     "output_type": "stream",
     "text": [
      "Exact explainer:  11%|█         | 22/206 [00:14<01:56,  1.57it/s]"
     ]
    },
    {
     "name": "stdout",
     "output_type": "stream",
     "text": [
      "[2025-07-30 03:42:22.840] Start to evalute the model:\n",
      "[2025-07-30 03:42:22.844] Evaluating cascade layer = 0 \n",
      "[2025-07-30 03:42:23.053] Evaluating cascade layer = 1 \n",
      "[2025-07-30 03:42:23.253] Start to evalute the model:\n",
      "[2025-07-30 03:42:23.253] Evaluating cascade layer = 0 \n"
     ]
    },
    {
     "name": "stderr",
     "output_type": "stream",
     "text": [
      "Exact explainer:  11%|█         | 23/206 [00:14<01:58,  1.55it/s]"
     ]
    },
    {
     "name": "stdout",
     "output_type": "stream",
     "text": [
      "[2025-07-30 03:42:23.383] Evaluating cascade layer = 1 \n",
      "[2025-07-30 03:42:23.502] Start to evalute the model:\n",
      "[2025-07-30 03:42:23.502] Evaluating cascade layer = 0 \n",
      "[2025-07-30 03:42:23.719] Evaluating cascade layer = 1 \n",
      "[2025-07-30 03:42:23.923] Start to evalute the model:\n",
      "[2025-07-30 03:42:23.923] Evaluating cascade layer = 0 \n",
      "[2025-07-30 03:42:24.036] Evaluating cascade layer = 1 \n"
     ]
    },
    {
     "name": "stderr",
     "output_type": "stream",
     "text": [
      "Exact explainer:  12%|█▏        | 24/206 [00:15<01:58,  1.53it/s]"
     ]
    },
    {
     "name": "stdout",
     "output_type": "stream",
     "text": [
      "[2025-07-30 03:42:24.177] Start to evalute the model:\n",
      "[2025-07-30 03:42:24.184] Evaluating cascade layer = 0 \n",
      "[2025-07-30 03:42:24.384] Evaluating cascade layer = 1 \n",
      "[2025-07-30 03:42:24.586] Start to evalute the model:\n",
      "[2025-07-30 03:42:24.586] Evaluating cascade layer = 0 \n",
      "[2025-07-30 03:42:24.701] Evaluating cascade layer = 1 \n"
     ]
    },
    {
     "name": "stderr",
     "output_type": "stream",
     "text": [
      "Exact explainer:  12%|█▏        | 25/206 [00:16<01:58,  1.52it/s]"
     ]
    },
    {
     "name": "stdout",
     "output_type": "stream",
     "text": [
      "[2025-07-30 03:42:24.836] Start to evalute the model:\n",
      "[2025-07-30 03:42:24.836] Evaluating cascade layer = 0 \n",
      "[2025-07-30 03:42:25.053] Evaluating cascade layer = 1 \n",
      "[2025-07-30 03:42:25.252] Start to evalute the model:\n",
      "[2025-07-30 03:42:25.252] Evaluating cascade layer = 0 \n"
     ]
    },
    {
     "name": "stderr",
     "output_type": "stream",
     "text": [
      "Exact explainer:  13%|█▎        | 26/206 [00:16<01:58,  1.52it/s]"
     ]
    },
    {
     "name": "stdout",
     "output_type": "stream",
     "text": [
      "[2025-07-30 03:42:25.369] Evaluating cascade layer = 1 \n",
      "[2025-07-30 03:42:25.507] Start to evalute the model:\n",
      "[2025-07-30 03:42:25.507] Evaluating cascade layer = 0 \n",
      "[2025-07-30 03:42:25.753] Evaluating cascade layer = 1 \n",
      "[2025-07-30 03:42:25.952] Start to evalute the model:\n",
      "[2025-07-30 03:42:25.952] Evaluating cascade layer = 0 \n"
     ]
    },
    {
     "name": "stderr",
     "output_type": "stream",
     "text": [
      "Exact explainer:  13%|█▎        | 27/206 [00:17<02:01,  1.48it/s]"
     ]
    },
    {
     "name": "stdout",
     "output_type": "stream",
     "text": [
      "[2025-07-30 03:42:26.085] Evaluating cascade layer = 1 \n",
      "[2025-07-30 03:42:26.219] Start to evalute the model:\n",
      "[2025-07-30 03:42:26.219] Evaluating cascade layer = 0 \n",
      "[2025-07-30 03:42:26.436] Evaluating cascade layer = 1 \n",
      "[2025-07-30 03:42:26.636] Start to evalute the model:\n",
      "[2025-07-30 03:42:26.636] Evaluating cascade layer = 0 \n"
     ]
    },
    {
     "name": "stderr",
     "output_type": "stream",
     "text": [
      "Exact explainer:  14%|█▎        | 28/206 [00:18<01:59,  1.48it/s]"
     ]
    },
    {
     "name": "stdout",
     "output_type": "stream",
     "text": [
      "[2025-07-30 03:42:26.752] Evaluating cascade layer = 1 \n",
      "[2025-07-30 03:42:26.889] Start to evalute the model:\n",
      "[2025-07-30 03:42:26.890] Evaluating cascade layer = 0 \n",
      "[2025-07-30 03:42:27.102] Evaluating cascade layer = 1 \n",
      "[2025-07-30 03:42:27.302] Start to evalute the model:\n",
      "[2025-07-30 03:42:27.302] Evaluating cascade layer = 0 \n"
     ]
    },
    {
     "name": "stderr",
     "output_type": "stream",
     "text": [
      "Exact explainer:  14%|█▍        | 29/206 [00:18<01:57,  1.51it/s]"
     ]
    },
    {
     "name": "stdout",
     "output_type": "stream",
     "text": [
      "[2025-07-30 03:42:27.402] Evaluating cascade layer = 1 \n",
      "[2025-07-30 03:42:27.519] Start to evalute the model:\n",
      "[2025-07-30 03:42:27.519] Evaluating cascade layer = 0 \n",
      "[2025-07-30 03:42:27.736] Evaluating cascade layer = 1 \n",
      "[2025-07-30 03:42:27.936] Start to evalute the model:\n",
      "[2025-07-30 03:42:27.936] Evaluating cascade layer = 0 \n"
     ]
    },
    {
     "name": "stderr",
     "output_type": "stream",
     "text": [
      "Exact explainer:  15%|█▍        | 30/206 [00:19<01:56,  1.51it/s]"
     ]
    },
    {
     "name": "stdout",
     "output_type": "stream",
     "text": [
      "[2025-07-30 03:42:28.052] Evaluating cascade layer = 1 \n",
      "[2025-07-30 03:42:28.188] Start to evalute the model:\n",
      "[2025-07-30 03:42:28.190] Evaluating cascade layer = 0 \n",
      "[2025-07-30 03:42:28.402] Evaluating cascade layer = 1 \n",
      "[2025-07-30 03:42:28.602] Start to evalute the model:\n",
      "[2025-07-30 03:42:28.602] Evaluating cascade layer = 0 \n"
     ]
    },
    {
     "name": "stderr",
     "output_type": "stream",
     "text": [
      "Exact explainer:  15%|█▌        | 31/206 [00:20<01:57,  1.49it/s]"
     ]
    },
    {
     "name": "stdout",
     "output_type": "stream",
     "text": [
      "[2025-07-30 03:42:28.735] Evaluating cascade layer = 1 \n",
      "[2025-07-30 03:42:28.874] Start to evalute the model:\n",
      "[2025-07-30 03:42:28.879] Evaluating cascade layer = 0 \n",
      "[2025-07-30 03:42:29.069] Evaluating cascade layer = 1 \n"
     ]
    },
    {
     "name": "stderr",
     "output_type": "stream",
     "text": [
      "Exact explainer:  16%|█▌        | 32/206 [00:20<01:52,  1.54it/s]"
     ]
    },
    {
     "name": "stdout",
     "output_type": "stream",
     "text": [
      "[2025-07-30 03:42:29.286] Start to evalute the model:\n",
      "[2025-07-30 03:42:29.286] Evaluating cascade layer = 0 \n",
      "[2025-07-30 03:42:29.369] Evaluating cascade layer = 1 \n",
      "[2025-07-30 03:42:29.472] Start to evalute the model:\n",
      "[2025-07-30 03:42:29.478] Evaluating cascade layer = 0 \n",
      "[2025-07-30 03:42:29.669] Evaluating cascade layer = 1 \n",
      "[2025-07-30 03:42:29.872] Start to evalute the model:\n",
      "[2025-07-30 03:42:29.872] Evaluating cascade layer = 0 \n"
     ]
    },
    {
     "name": "stderr",
     "output_type": "stream",
     "text": [
      "Exact explainer:  16%|█▌        | 33/206 [00:21<01:52,  1.54it/s]"
     ]
    },
    {
     "name": "stdout",
     "output_type": "stream",
     "text": [
      "[2025-07-30 03:42:29.984] Evaluating cascade layer = 1 \n",
      "[2025-07-30 03:42:30.123] Start to evalute the model:\n",
      "[2025-07-30 03:42:30.129] Evaluating cascade layer = 0 \n",
      "[2025-07-30 03:42:30.319] Evaluating cascade layer = 1 \n",
      "[2025-07-30 03:42:30.519] Start to evalute the model:\n",
      "[2025-07-30 03:42:30.519] Evaluating cascade layer = 0 \n"
     ]
    },
    {
     "name": "stderr",
     "output_type": "stream",
     "text": [
      "Exact explainer:  17%|█▋        | 34/206 [00:21<01:51,  1.54it/s]"
     ]
    },
    {
     "name": "stdout",
     "output_type": "stream",
     "text": [
      "[2025-07-30 03:42:30.636] Evaluating cascade layer = 1 \n",
      "[2025-07-30 03:42:30.776] Start to evalute the model:\n",
      "[2025-07-30 03:42:30.787] Evaluating cascade layer = 0 \n",
      "[2025-07-30 03:42:31.019] Evaluating cascade layer = 1 \n",
      "[2025-07-30 03:42:31.219] Start to evalute the model:\n",
      "[2025-07-30 03:42:31.219] Evaluating cascade layer = 0 \n"
     ]
    },
    {
     "name": "stderr",
     "output_type": "stream",
     "text": [
      "Exact explainer:  17%|█▋        | 35/206 [00:22<01:53,  1.50it/s]"
     ]
    },
    {
     "name": "stdout",
     "output_type": "stream",
     "text": [
      "[2025-07-30 03:42:31.336] Evaluating cascade layer = 1 \n",
      "[2025-07-30 03:42:31.476] Start to evalute the model:\n",
      "[2025-07-30 03:42:31.486] Evaluating cascade layer = 0 \n",
      "[2025-07-30 03:42:31.736] Evaluating cascade layer = 1 \n",
      "[2025-07-30 03:42:31.936] Start to evalute the model:\n",
      "[2025-07-30 03:42:31.936] Evaluating cascade layer = 0 \n"
     ]
    },
    {
     "name": "stderr",
     "output_type": "stream",
     "text": [
      "Exact explainer:  17%|█▋        | 36/206 [00:23<01:56,  1.46it/s]"
     ]
    },
    {
     "name": "stdout",
     "output_type": "stream",
     "text": [
      "[2025-07-30 03:42:32.069] Evaluating cascade layer = 1 \n",
      "[2025-07-30 03:42:32.203] Start to evalute the model:\n",
      "[2025-07-30 03:42:32.219] Evaluating cascade layer = 0 \n",
      "[2025-07-30 03:42:32.419] Evaluating cascade layer = 1 \n",
      "[2025-07-30 03:42:32.619] Start to evalute the model:\n",
      "[2025-07-30 03:42:32.619] Evaluating cascade layer = 0 \n",
      "[2025-07-30 03:42:32.736] Evaluating cascade layer = 1 \n"
     ]
    },
    {
     "name": "stderr",
     "output_type": "stream",
     "text": [
      "Exact explainer:  18%|█▊        | 37/206 [00:24<01:54,  1.47it/s]"
     ]
    },
    {
     "name": "stdout",
     "output_type": "stream",
     "text": [
      "[2025-07-30 03:42:32.873] Start to evalute the model:\n",
      "[2025-07-30 03:42:32.881] Evaluating cascade layer = 0 \n",
      "[2025-07-30 03:42:33.085] Evaluating cascade layer = 1 \n",
      "[2025-07-30 03:42:33.286] Start to evalute the model:\n",
      "[2025-07-30 03:42:33.286] Evaluating cascade layer = 0 \n"
     ]
    },
    {
     "name": "stderr",
     "output_type": "stream",
     "text": [
      "Exact explainer:  18%|█▊        | 38/206 [00:24<01:53,  1.48it/s]"
     ]
    },
    {
     "name": "stdout",
     "output_type": "stream",
     "text": [
      "[2025-07-30 03:42:33.403] Evaluating cascade layer = 1 \n",
      "[2025-07-30 03:42:33.536] Start to evalute the model:\n",
      "[2025-07-30 03:42:33.536] Evaluating cascade layer = 0 \n",
      "[2025-07-30 03:42:33.753] Evaluating cascade layer = 1 \n",
      "[2025-07-30 03:42:33.953] Start to evalute the model:\n",
      "[2025-07-30 03:42:33.953] Evaluating cascade layer = 0 \n"
     ]
    },
    {
     "name": "stderr",
     "output_type": "stream",
     "text": [
      "Exact explainer:  19%|█▉        | 39/206 [00:25<01:49,  1.52it/s]"
     ]
    },
    {
     "name": "stdout",
     "output_type": "stream",
     "text": [
      "[2025-07-30 03:42:34.035] Evaluating cascade layer = 1 \n",
      "[2025-07-30 03:42:34.153] Start to evalute the model:\n",
      "[2025-07-30 03:42:34.153] Evaluating cascade layer = 0 \n",
      "[2025-07-30 03:42:34.353] Evaluating cascade layer = 1 \n",
      "[2025-07-30 03:42:34.553] Start to evalute the model:\n",
      "[2025-07-30 03:42:34.553] Evaluating cascade layer = 0 \n"
     ]
    },
    {
     "name": "stderr",
     "output_type": "stream",
     "text": [
      "Exact explainer:  19%|█▉        | 40/206 [00:25<01:47,  1.54it/s]"
     ]
    },
    {
     "name": "stdout",
     "output_type": "stream",
     "text": [
      "[2025-07-30 03:42:34.669] Evaluating cascade layer = 1 \n",
      "[2025-07-30 03:42:34.781] Start to evalute the model:\n",
      "[2025-07-30 03:42:34.786] Evaluating cascade layer = 0 \n",
      "[2025-07-30 03:42:34.985] Evaluating cascade layer = 1 \n",
      "[2025-07-30 03:42:35.186] Start to evalute the model:\n",
      "[2025-07-30 03:42:35.186] Evaluating cascade layer = 0 \n",
      "[2025-07-30 03:42:35.319] Evaluating cascade layer = 1 \n"
     ]
    },
    {
     "name": "stderr",
     "output_type": "stream",
     "text": [
      "Exact explainer:  20%|█▉        | 41/206 [00:26<01:48,  1.52it/s]"
     ]
    },
    {
     "name": "stdout",
     "output_type": "stream",
     "text": [
      "[2025-07-30 03:42:35.452] Start to evalute the model:\n",
      "[2025-07-30 03:42:35.452] Evaluating cascade layer = 0 \n",
      "[2025-07-30 03:42:35.669] Evaluating cascade layer = 1 \n",
      "[2025-07-30 03:42:35.872] Start to evalute the model:\n",
      "[2025-07-30 03:42:35.873] Evaluating cascade layer = 0 \n"
     ]
    },
    {
     "name": "stderr",
     "output_type": "stream",
     "text": [
      "Exact explainer:  20%|██        | 42/206 [00:27<01:47,  1.52it/s]"
     ]
    },
    {
     "name": "stdout",
     "output_type": "stream",
     "text": [
      "[2025-07-30 03:42:35.984] Evaluating cascade layer = 1 \n",
      "[2025-07-30 03:42:36.111] Start to evalute the model:\n",
      "[2025-07-30 03:42:36.119] Evaluating cascade layer = 0 \n",
      "[2025-07-30 03:42:36.318] Evaluating cascade layer = 1 \n",
      "[2025-07-30 03:42:36.519] Start to evalute the model:\n",
      "[2025-07-30 03:42:36.519] Evaluating cascade layer = 0 \n"
     ]
    },
    {
     "name": "stderr",
     "output_type": "stream",
     "text": [
      "Exact explainer:  21%|██        | 43/206 [00:27<01:47,  1.52it/s]"
     ]
    },
    {
     "name": "stdout",
     "output_type": "stream",
     "text": [
      "[2025-07-30 03:42:36.653] Evaluating cascade layer = 1 \n",
      "[2025-07-30 03:42:36.773] Start to evalute the model:\n",
      "[2025-07-30 03:42:36.780] Evaluating cascade layer = 0 \n",
      "[2025-07-30 03:42:36.985] Evaluating cascade layer = 1 \n",
      "[2025-07-30 03:42:37.186] Start to evalute the model:\n",
      "[2025-07-30 03:42:37.186] Evaluating cascade layer = 0 \n",
      "[2025-07-30 03:42:37.269] Evaluating cascade layer = 1 \n"
     ]
    },
    {
     "name": "stderr",
     "output_type": "stream",
     "text": [
      "Exact explainer:  21%|██▏       | 44/206 [00:28<01:45,  1.54it/s]"
     ]
    },
    {
     "name": "stdout",
     "output_type": "stream",
     "text": [
      "[2025-07-30 03:42:37.403] Start to evalute the model:\n",
      "[2025-07-30 03:42:37.418] Evaluating cascade layer = 0 \n",
      "[2025-07-30 03:42:37.652] Evaluating cascade layer = 1 \n",
      "[2025-07-30 03:42:37.853] Start to evalute the model:\n",
      "[2025-07-30 03:42:37.853] Evaluating cascade layer = 0 \n"
     ]
    },
    {
     "name": "stderr",
     "output_type": "stream",
     "text": [
      "Exact explainer:  22%|██▏       | 45/206 [00:29<01:47,  1.49it/s]"
     ]
    },
    {
     "name": "stdout",
     "output_type": "stream",
     "text": [
      "[2025-07-30 03:42:37.984] Evaluating cascade layer = 1 \n",
      "[2025-07-30 03:42:38.124] Start to evalute the model:\n",
      "[2025-07-30 03:42:38.124] Evaluating cascade layer = 0 \n",
      "[2025-07-30 03:42:38.336] Evaluating cascade layer = 1 \n",
      "[2025-07-30 03:42:38.536] Start to evalute the model:\n",
      "[2025-07-30 03:42:38.536] Evaluating cascade layer = 0 \n"
     ]
    },
    {
     "name": "stderr",
     "output_type": "stream",
     "text": [
      "Exact explainer:  22%|██▏       | 46/206 [00:30<01:47,  1.49it/s]"
     ]
    },
    {
     "name": "stdout",
     "output_type": "stream",
     "text": [
      "[2025-07-30 03:42:38.653] Evaluating cascade layer = 1 \n",
      "[2025-07-30 03:42:38.786] Start to evalute the model:\n",
      "[2025-07-30 03:42:38.786] Evaluating cascade layer = 0 \n",
      "[2025-07-30 03:42:39.002] Evaluating cascade layer = 1 \n",
      "[2025-07-30 03:42:39.206] Start to evalute the model:\n",
      "[2025-07-30 03:42:39.207] Evaluating cascade layer = 0 \n",
      "[2025-07-30 03:42:39.302] Evaluating cascade layer = 1 \n"
     ]
    },
    {
     "name": "stderr",
     "output_type": "stream",
     "text": [
      "Exact explainer:  23%|██▎       | 47/206 [00:30<01:44,  1.52it/s]"
     ]
    },
    {
     "name": "stdout",
     "output_type": "stream",
     "text": [
      "[2025-07-30 03:42:39.423] Start to evalute the model:\n",
      "[2025-07-30 03:42:39.423] Evaluating cascade layer = 0 \n",
      "[2025-07-30 03:42:39.653] Evaluating cascade layer = 1 \n",
      "[2025-07-30 03:42:39.856] Start to evalute the model:\n",
      "[2025-07-30 03:42:39.856] Evaluating cascade layer = 0 \n"
     ]
    },
    {
     "name": "stderr",
     "output_type": "stream",
     "text": [
      "Exact explainer:  23%|██▎       | 48/206 [00:31<01:45,  1.50it/s]"
     ]
    },
    {
     "name": "stdout",
     "output_type": "stream",
     "text": [
      "[2025-07-30 03:42:39.969] Evaluating cascade layer = 1 \n",
      "[2025-07-30 03:42:40.102] Start to evalute the model:\n",
      "[2025-07-30 03:42:40.102] Evaluating cascade layer = 0 \n",
      "[2025-07-30 03:42:40.336] Evaluating cascade layer = 1 \n",
      "[2025-07-30 03:42:40.536] Start to evalute the model:\n",
      "[2025-07-30 03:42:40.536] Evaluating cascade layer = 0 \n"
     ]
    },
    {
     "name": "stderr",
     "output_type": "stream",
     "text": [
      "Exact explainer:  24%|██▍       | 49/206 [00:32<01:45,  1.49it/s]"
     ]
    },
    {
     "name": "stdout",
     "output_type": "stream",
     "text": [
      "[2025-07-30 03:42:40.669] Evaluating cascade layer = 1 \n",
      "[2025-07-30 03:42:40.786] Start to evalute the model:\n",
      "[2025-07-30 03:42:40.807] Evaluating cascade layer = 0 \n",
      "[2025-07-30 03:42:41.019] Evaluating cascade layer = 1 \n",
      "[2025-07-30 03:42:41.219] Start to evalute the model:\n",
      "[2025-07-30 03:42:41.219] Evaluating cascade layer = 0 \n",
      "[2025-07-30 03:42:41.385] Evaluating cascade layer = 1 \n"
     ]
    },
    {
     "name": "stderr",
     "output_type": "stream",
     "text": [
      "Exact explainer:  24%|██▍       | 50/206 [00:32<01:50,  1.41it/s]"
     ]
    },
    {
     "name": "stdout",
     "output_type": "stream",
     "text": [
      "[2025-07-30 03:42:41.586] Start to evalute the model:\n",
      "[2025-07-30 03:42:41.586] Evaluating cascade layer = 0 \n",
      "[2025-07-30 03:42:41.819] Evaluating cascade layer = 1 \n",
      "[2025-07-30 03:42:42.019] Start to evalute the model:\n",
      "[2025-07-30 03:42:42.019] Evaluating cascade layer = 0 \n"
     ]
    },
    {
     "name": "stderr",
     "output_type": "stream",
     "text": [
      "Exact explainer:  25%|██▍       | 51/206 [00:33<01:48,  1.42it/s]"
     ]
    },
    {
     "name": "stdout",
     "output_type": "stream",
     "text": [
      "[2025-07-30 03:42:42.135] Evaluating cascade layer = 1 \n",
      "[2025-07-30 03:42:42.273] Start to evalute the model:\n",
      "[2025-07-30 03:42:42.279] Evaluating cascade layer = 0 \n",
      "[2025-07-30 03:42:42.484] Evaluating cascade layer = 1 \n",
      "[2025-07-30 03:42:42.686] Start to evalute the model:\n",
      "[2025-07-30 03:42:42.686] Evaluating cascade layer = 0 \n",
      "[2025-07-30 03:42:42.771] Evaluating cascade layer = 1 \n"
     ]
    },
    {
     "name": "stderr",
     "output_type": "stream",
     "text": [
      "Exact explainer:  25%|██▌       | 52/206 [00:34<01:44,  1.47it/s]"
     ]
    },
    {
     "name": "stdout",
     "output_type": "stream",
     "text": [
      "[2025-07-30 03:42:42.902] Start to evalute the model:\n",
      "[2025-07-30 03:42:42.902] Evaluating cascade layer = 0 \n",
      "[2025-07-30 03:42:43.152] Evaluating cascade layer = 1 \n",
      "[2025-07-30 03:42:43.353] Start to evalute the model:\n",
      "[2025-07-30 03:42:43.353] Evaluating cascade layer = 0 \n"
     ]
    },
    {
     "name": "stderr",
     "output_type": "stream",
     "text": [
      "Exact explainer:  26%|██▌       | 53/206 [00:34<01:44,  1.46it/s]"
     ]
    },
    {
     "name": "stdout",
     "output_type": "stream",
     "text": [
      "[2025-07-30 03:42:43.486] Evaluating cascade layer = 1 \n",
      "[2025-07-30 03:42:43.593] Start to evalute the model:\n",
      "[2025-07-30 03:42:43.603] Evaluating cascade layer = 0 \n",
      "[2025-07-30 03:42:43.819] Evaluating cascade layer = 1 \n",
      "[2025-07-30 03:42:44.019] Start to evalute the model:\n",
      "[2025-07-30 03:42:44.019] Evaluating cascade layer = 0 \n"
     ]
    },
    {
     "name": "stderr",
     "output_type": "stream",
     "text": [
      "Exact explainer:  26%|██▌       | 54/206 [00:35<01:44,  1.46it/s]"
     ]
    },
    {
     "name": "stdout",
     "output_type": "stream",
     "text": [
      "[2025-07-30 03:42:44.153] Evaluating cascade layer = 1 \n",
      "[2025-07-30 03:42:44.286] Start to evalute the model:\n",
      "[2025-07-30 03:42:44.302] Evaluating cascade layer = 0 \n",
      "[2025-07-30 03:42:44.520] Evaluating cascade layer = 1 \n",
      "[2025-07-30 03:42:44.757] Start to evalute the model:\n",
      "[2025-07-30 03:42:44.757] Evaluating cascade layer = 0 \n",
      "[2025-07-30 03:42:44.869] Evaluating cascade layer = 1 \n"
     ]
    },
    {
     "name": "stderr",
     "output_type": "stream",
     "text": [
      "Exact explainer:  27%|██▋       | 55/206 [00:36<01:45,  1.44it/s]"
     ]
    },
    {
     "name": "stdout",
     "output_type": "stream",
     "text": [
      "[2025-07-30 03:42:45.003] Start to evalute the model:\n",
      "[2025-07-30 03:42:45.003] Evaluating cascade layer = 0 \n",
      "[2025-07-30 03:42:45.220] Evaluating cascade layer = 1 \n",
      "[2025-07-30 03:42:45.419] Start to evalute the model:\n",
      "[2025-07-30 03:42:45.419] Evaluating cascade layer = 0 \n"
     ]
    },
    {
     "name": "stderr",
     "output_type": "stream",
     "text": [
      "Exact explainer:  27%|██▋       | 56/206 [00:36<01:43,  1.46it/s]"
     ]
    },
    {
     "name": "stdout",
     "output_type": "stream",
     "text": [
      "[2025-07-30 03:42:45.535] Evaluating cascade layer = 1 \n",
      "[2025-07-30 03:42:45.674] Start to evalute the model:\n",
      "[2025-07-30 03:42:45.679] Evaluating cascade layer = 0 \n",
      "[2025-07-30 03:42:45.884] Evaluating cascade layer = 1 \n",
      "[2025-07-30 03:42:46.086] Start to evalute the model:\n",
      "[2025-07-30 03:42:46.086] Evaluating cascade layer = 0 \n",
      "[2025-07-30 03:42:46.183] Evaluating cascade layer = 1 \n"
     ]
    },
    {
     "name": "stderr",
     "output_type": "stream",
     "text": [
      "Exact explainer:  28%|██▊       | 57/206 [00:37<01:40,  1.49it/s]"
     ]
    },
    {
     "name": "stdout",
     "output_type": "stream",
     "text": [
      "[2025-07-30 03:42:46.303] Start to evalute the model:\n",
      "[2025-07-30 03:42:46.303] Evaluating cascade layer = 0 \n",
      "[2025-07-30 03:42:46.536] Evaluating cascade layer = 1 \n",
      "[2025-07-30 03:42:46.753] Start to evalute the model:\n",
      "[2025-07-30 03:42:46.753] Evaluating cascade layer = 0 \n",
      "[2025-07-30 03:42:46.869] Evaluating cascade layer = 1 \n"
     ]
    },
    {
     "name": "stderr",
     "output_type": "stream",
     "text": [
      "Exact explainer:  28%|██▊       | 58/206 [00:38<01:40,  1.47it/s]"
     ]
    },
    {
     "name": "stdout",
     "output_type": "stream",
     "text": [
      "[2025-07-30 03:42:47.007] Start to evalute the model:\n",
      "[2025-07-30 03:42:47.007] Evaluating cascade layer = 0 \n",
      "[2025-07-30 03:42:47.235] Evaluating cascade layer = 1 \n",
      "[2025-07-30 03:42:47.457] Start to evalute the model:\n",
      "[2025-07-30 03:42:47.457] Evaluating cascade layer = 0 \n",
      "[2025-07-30 03:42:47.552] Evaluating cascade layer = 1 \n"
     ]
    },
    {
     "name": "stderr",
     "output_type": "stream",
     "text": [
      "Exact explainer:  29%|██▊       | 59/206 [00:38<01:40,  1.47it/s]"
     ]
    },
    {
     "name": "stdout",
     "output_type": "stream",
     "text": [
      "[2025-07-30 03:42:47.686] Start to evalute the model:\n",
      "[2025-07-30 03:42:47.686] Evaluating cascade layer = 0 \n",
      "[2025-07-30 03:42:47.903] Evaluating cascade layer = 1 \n",
      "[2025-07-30 03:42:48.136] Start to evalute the model:\n",
      "[2025-07-30 03:42:48.136] Evaluating cascade layer = 0 \n",
      "[2025-07-30 03:42:48.252] Evaluating cascade layer = 1 \n"
     ]
    },
    {
     "name": "stderr",
     "output_type": "stream",
     "text": [
      "Exact explainer:  29%|██▉       | 60/206 [00:39<01:40,  1.46it/s]"
     ]
    },
    {
     "name": "stdout",
     "output_type": "stream",
     "text": [
      "[2025-07-30 03:42:48.387] Start to evalute the model:\n",
      "[2025-07-30 03:42:48.387] Evaluating cascade layer = 0 \n",
      "[2025-07-30 03:42:48.653] Evaluating cascade layer = 1 \n",
      "[2025-07-30 03:42:48.856] Start to evalute the model:\n",
      "[2025-07-30 03:42:48.856] Evaluating cascade layer = 0 \n"
     ]
    },
    {
     "name": "stderr",
     "output_type": "stream",
     "text": [
      "Exact explainer:  30%|██▉       | 61/206 [00:40<01:40,  1.45it/s]"
     ]
    },
    {
     "name": "stdout",
     "output_type": "stream",
     "text": [
      "[2025-07-30 03:42:48.952] Evaluating cascade layer = 1 \n",
      "[2025-07-30 03:42:49.087] Start to evalute the model:\n",
      "[2025-07-30 03:42:49.103] Evaluating cascade layer = 0 \n",
      "[2025-07-30 03:42:49.319] Evaluating cascade layer = 1 \n",
      "[2025-07-30 03:42:49.519] Start to evalute the model:\n",
      "[2025-07-30 03:42:49.519] Evaluating cascade layer = 0 \n"
     ]
    },
    {
     "name": "stderr",
     "output_type": "stream",
     "text": [
      "Exact explainer:  30%|███       | 62/206 [00:40<01:39,  1.45it/s]"
     ]
    },
    {
     "name": "stdout",
     "output_type": "stream",
     "text": [
      "[2025-07-30 03:42:49.635] Evaluating cascade layer = 1 \n",
      "[2025-07-30 03:42:49.773] Start to evalute the model:\n",
      "[2025-07-30 03:42:49.780] Evaluating cascade layer = 0 \n",
      "[2025-07-30 03:42:49.984] Evaluating cascade layer = 1 \n",
      "[2025-07-30 03:42:50.186] Start to evalute the model:\n",
      "[2025-07-30 03:42:50.186] Evaluating cascade layer = 0 \n",
      "[2025-07-30 03:42:50.302] Evaluating cascade layer = 1 \n"
     ]
    },
    {
     "name": "stderr",
     "output_type": "stream",
     "text": [
      "Exact explainer:  31%|███       | 63/206 [00:41<01:37,  1.47it/s]"
     ]
    },
    {
     "name": "stdout",
     "output_type": "stream",
     "text": [
      "[2025-07-30 03:42:50.436] Start to evalute the model:\n",
      "[2025-07-30 03:42:50.436] Evaluating cascade layer = 0 \n",
      "[2025-07-30 03:42:50.653] Evaluating cascade layer = 1 \n",
      "[2025-07-30 03:42:50.853] Start to evalute the model:\n",
      "[2025-07-30 03:42:50.853] Evaluating cascade layer = 0 \n",
      "[2025-07-30 03:42:50.969] Evaluating cascade layer = 1 \n"
     ]
    },
    {
     "name": "stderr",
     "output_type": "stream",
     "text": [
      "Exact explainer:  31%|███       | 64/206 [00:42<01:36,  1.48it/s]"
     ]
    },
    {
     "name": "stdout",
     "output_type": "stream",
     "text": [
      "[2025-07-30 03:42:51.104] Start to evalute the model:\n",
      "[2025-07-30 03:42:51.104] Evaluating cascade layer = 0 \n",
      "[2025-07-30 03:42:51.319] Evaluating cascade layer = 1 \n",
      "[2025-07-30 03:42:51.536] Start to evalute the model:\n",
      "[2025-07-30 03:42:51.536] Evaluating cascade layer = 0 \n",
      "[2025-07-30 03:42:51.669] Evaluating cascade layer = 1 \n"
     ]
    },
    {
     "name": "stderr",
     "output_type": "stream",
     "text": [
      "Exact explainer:  32%|███▏      | 65/206 [00:43<01:36,  1.46it/s]"
     ]
    },
    {
     "name": "stdout",
     "output_type": "stream",
     "text": [
      "[2025-07-30 03:42:51.803] Start to evalute the model:\n",
      "[2025-07-30 03:42:51.803] Evaluating cascade layer = 0 \n",
      "[2025-07-30 03:42:52.036] Evaluating cascade layer = 1 \n",
      "[2025-07-30 03:42:52.253] Start to evalute the model:\n",
      "[2025-07-30 03:42:52.253] Evaluating cascade layer = 0 \n",
      "[2025-07-30 03:42:52.352] Evaluating cascade layer = 1 \n"
     ]
    },
    {
     "name": "stderr",
     "output_type": "stream",
     "text": [
      "Exact explainer:  32%|███▏      | 66/206 [00:43<01:36,  1.45it/s]"
     ]
    },
    {
     "name": "stdout",
     "output_type": "stream",
     "text": [
      "[2025-07-30 03:42:52.522] Start to evalute the model:\n",
      "[2025-07-30 03:42:52.526] Evaluating cascade layer = 0 \n",
      "[2025-07-30 03:42:52.735] Evaluating cascade layer = 1 \n",
      "[2025-07-30 03:42:52.936] Start to evalute the model:\n",
      "[2025-07-30 03:42:52.936] Evaluating cascade layer = 0 \n"
     ]
    },
    {
     "name": "stderr",
     "output_type": "stream",
     "text": [
      "Exact explainer:  33%|███▎      | 67/206 [00:44<01:36,  1.44it/s]"
     ]
    },
    {
     "name": "stdout",
     "output_type": "stream",
     "text": [
      "[2025-07-30 03:42:53.069] Evaluating cascade layer = 1 \n",
      "[2025-07-30 03:42:53.202] Start to evalute the model:\n",
      "[2025-07-30 03:42:53.220] Evaluating cascade layer = 0 \n",
      "[2025-07-30 03:42:53.436] Evaluating cascade layer = 1 \n",
      "[2025-07-30 03:42:53.636] Start to evalute the model:\n",
      "[2025-07-30 03:42:53.636] Evaluating cascade layer = 0 \n"
     ]
    },
    {
     "name": "stderr",
     "output_type": "stream",
     "text": [
      "Exact explainer:  33%|███▎      | 68/206 [00:45<01:34,  1.46it/s]"
     ]
    },
    {
     "name": "stdout",
     "output_type": "stream",
     "text": [
      "[2025-07-30 03:42:53.752] Evaluating cascade layer = 1 \n",
      "[2025-07-30 03:42:53.873] Start to evalute the model:\n",
      "[2025-07-30 03:42:53.880] Evaluating cascade layer = 0 \n",
      "[2025-07-30 03:42:54.136] Evaluating cascade layer = 1 \n",
      "[2025-07-30 03:42:54.453] Start to evalute the model:\n",
      "[2025-07-30 03:42:54.453] Evaluating cascade layer = 0 \n",
      "[2025-07-30 03:42:54.584] Evaluating cascade layer = 1 \n"
     ]
    },
    {
     "name": "stderr",
     "output_type": "stream",
     "text": [
      "Exact explainer:  33%|███▎      | 69/206 [00:45<01:40,  1.36it/s]"
     ]
    },
    {
     "name": "stdout",
     "output_type": "stream",
     "text": [
      "[2025-07-30 03:42:54.720] Start to evalute the model:\n",
      "[2025-07-30 03:42:54.736] Evaluating cascade layer = 0 \n",
      "[2025-07-30 03:42:54.936] Evaluating cascade layer = 1 \n",
      "[2025-07-30 03:42:55.153] Start to evalute the model:\n",
      "[2025-07-30 03:42:55.153] Evaluating cascade layer = 0 \n",
      "[2025-07-30 03:42:55.269] Evaluating cascade layer = 1 \n"
     ]
    },
    {
     "name": "stderr",
     "output_type": "stream",
     "text": [
      "Exact explainer:  34%|███▍      | 70/206 [00:46<01:37,  1.39it/s]"
     ]
    },
    {
     "name": "stdout",
     "output_type": "stream",
     "text": [
      "[2025-07-30 03:42:55.403] Start to evalute the model:\n",
      "[2025-07-30 03:42:55.418] Evaluating cascade layer = 0 \n",
      "[2025-07-30 03:42:55.619] Evaluating cascade layer = 1 \n",
      "[2025-07-30 03:42:55.819] Start to evalute the model:\n",
      "[2025-07-30 03:42:55.819] Evaluating cascade layer = 0 \n"
     ]
    },
    {
     "name": "stderr",
     "output_type": "stream",
     "text": [
      "Exact explainer:  34%|███▍      | 71/206 [00:47<01:34,  1.42it/s]"
     ]
    },
    {
     "name": "stdout",
     "output_type": "stream",
     "text": [
      "[2025-07-30 03:42:55.935] Evaluating cascade layer = 1 \n",
      "[2025-07-30 03:42:56.074] Start to evalute the model:\n",
      "[2025-07-30 03:42:56.081] Evaluating cascade layer = 0 \n",
      "[2025-07-30 03:42:56.284] Evaluating cascade layer = 1 \n",
      "[2025-07-30 03:42:56.486] Start to evalute the model:\n",
      "[2025-07-30 03:42:56.486] Evaluating cascade layer = 0 \n",
      "[2025-07-30 03:42:56.569] Evaluating cascade layer = 1 \n"
     ]
    },
    {
     "name": "stderr",
     "output_type": "stream",
     "text": [
      "Exact explainer:  35%|███▍      | 72/206 [00:47<01:30,  1.48it/s]"
     ]
    },
    {
     "name": "stdout",
     "output_type": "stream",
     "text": [
      "[2025-07-30 03:42:56.686] Start to evalute the model:\n",
      "[2025-07-30 03:42:56.686] Evaluating cascade layer = 0 \n",
      "[2025-07-30 03:42:56.903] Evaluating cascade layer = 1 \n",
      "[2025-07-30 03:42:57.119] Start to evalute the model:\n",
      "[2025-07-30 03:42:57.119] Evaluating cascade layer = 0 \n",
      "[2025-07-30 03:42:57.252] Evaluating cascade layer = 1 \n"
     ]
    },
    {
     "name": "stderr",
     "output_type": "stream",
     "text": [
      "Exact explainer:  35%|███▌      | 73/206 [00:48<01:30,  1.46it/s]"
     ]
    },
    {
     "name": "stdout",
     "output_type": "stream",
     "text": [
      "[2025-07-30 03:42:57.386] Start to evalute the model:\n",
      "[2025-07-30 03:42:57.386] Evaluating cascade layer = 0 \n",
      "[2025-07-30 03:42:57.619] Evaluating cascade layer = 1 \n",
      "[2025-07-30 03:42:57.819] Start to evalute the model:\n",
      "[2025-07-30 03:42:57.819] Evaluating cascade layer = 0 \n"
     ]
    },
    {
     "name": "stderr",
     "output_type": "stream",
     "text": [
      "Exact explainer:  36%|███▌      | 74/206 [00:49<01:30,  1.45it/s]"
     ]
    },
    {
     "name": "stdout",
     "output_type": "stream",
     "text": [
      "[2025-07-30 03:42:57.953] Evaluating cascade layer = 1 \n",
      "[2025-07-30 03:42:58.088] Start to evalute the model:\n",
      "[2025-07-30 03:42:58.090] Evaluating cascade layer = 0 \n",
      "[2025-07-30 03:42:58.303] Evaluating cascade layer = 1 \n",
      "[2025-07-30 03:42:58.503] Start to evalute the model:\n",
      "[2025-07-30 03:42:58.503] Evaluating cascade layer = 0 \n"
     ]
    },
    {
     "name": "stderr",
     "output_type": "stream",
     "text": [
      "Exact explainer:  36%|███▋      | 75/206 [00:49<01:30,  1.45it/s]"
     ]
    },
    {
     "name": "stdout",
     "output_type": "stream",
     "text": [
      "[2025-07-30 03:42:58.635] Evaluating cascade layer = 1 \n",
      "[2025-07-30 03:42:58.773] Start to evalute the model:\n",
      "[2025-07-30 03:42:58.780] Evaluating cascade layer = 0 \n",
      "[2025-07-30 03:42:58.985] Evaluating cascade layer = 1 \n",
      "[2025-07-30 03:42:59.186] Start to evalute the model:\n",
      "[2025-07-30 03:42:59.186] Evaluating cascade layer = 0 \n"
     ]
    },
    {
     "name": "stderr",
     "output_type": "stream",
     "text": [
      "Exact explainer:  37%|███▋      | 76/206 [00:50<01:28,  1.47it/s]"
     ]
    },
    {
     "name": "stdout",
     "output_type": "stream",
     "text": [
      "[2025-07-30 03:42:59.302] Evaluating cascade layer = 1 \n",
      "[2025-07-30 03:42:59.436] Start to evalute the model:\n",
      "[2025-07-30 03:42:59.436] Evaluating cascade layer = 0 \n",
      "[2025-07-30 03:42:59.684] Evaluating cascade layer = 1 \n",
      "[2025-07-30 03:42:59.886] Start to evalute the model:\n",
      "[2025-07-30 03:42:59.886] Evaluating cascade layer = 0 \n",
      "[2025-07-30 03:43:00.003] Evaluating cascade layer = 1 \n"
     ]
    },
    {
     "name": "stderr",
     "output_type": "stream",
     "text": [
      "Exact explainer:  37%|███▋      | 77/206 [00:51<01:28,  1.46it/s]"
     ]
    },
    {
     "name": "stdout",
     "output_type": "stream",
     "text": [
      "[2025-07-30 03:43:00.136] Start to evalute the model:\n",
      "[2025-07-30 03:43:00.136] Evaluating cascade layer = 0 \n",
      "[2025-07-30 03:43:00.353] Evaluating cascade layer = 1 \n",
      "[2025-07-30 03:43:00.573] Start to evalute the model:\n",
      "[2025-07-30 03:43:00.574] Evaluating cascade layer = 0 \n",
      "[2025-07-30 03:43:00.652] Evaluating cascade layer = 1 \n"
     ]
    },
    {
     "name": "stderr",
     "output_type": "stream",
     "text": [
      "Exact explainer:  38%|███▊      | 78/206 [00:51<01:25,  1.50it/s]"
     ]
    },
    {
     "name": "stdout",
     "output_type": "stream",
     "text": [
      "[2025-07-30 03:43:00.753] Start to evalute the model:\n",
      "[2025-07-30 03:43:00.753] Evaluating cascade layer = 0 \n",
      "[2025-07-30 03:43:00.969] Evaluating cascade layer = 1 \n",
      "[2025-07-30 03:43:01.171] Start to evalute the model:\n",
      "[2025-07-30 03:43:01.172] Evaluating cascade layer = 0 \n"
     ]
    },
    {
     "name": "stderr",
     "output_type": "stream",
     "text": [
      "Exact explainer:  38%|███▊      | 79/206 [00:52<01:24,  1.50it/s]"
     ]
    },
    {
     "name": "stdout",
     "output_type": "stream",
     "text": [
      "[2025-07-30 03:43:01.303] Evaluating cascade layer = 1 \n",
      "[2025-07-30 03:43:01.420] Start to evalute the model:\n",
      "[2025-07-30 03:43:01.436] Evaluating cascade layer = 0 \n",
      "[2025-07-30 03:43:01.636] Evaluating cascade layer = 1 \n",
      "[2025-07-30 03:43:01.836] Start to evalute the model:\n",
      "[2025-07-30 03:43:01.836] Evaluating cascade layer = 0 \n"
     ]
    },
    {
     "name": "stderr",
     "output_type": "stream",
     "text": [
      "Exact explainer:  39%|███▉      | 80/206 [00:53<01:23,  1.50it/s]"
     ]
    },
    {
     "name": "stdout",
     "output_type": "stream",
     "text": [
      "[2025-07-30 03:43:01.953] Evaluating cascade layer = 1 \n",
      "[2025-07-30 03:43:02.090] Start to evalute the model:\n",
      "[2025-07-30 03:43:02.090] Evaluating cascade layer = 0 \n",
      "[2025-07-30 03:43:02.302] Evaluating cascade layer = 1 \n",
      "[2025-07-30 03:43:02.503] Start to evalute the model:\n",
      "[2025-07-30 03:43:02.503] Evaluating cascade layer = 0 \n"
     ]
    },
    {
     "name": "stderr",
     "output_type": "stream",
     "text": [
      "Exact explainer:  39%|███▉      | 81/206 [00:53<01:22,  1.51it/s]"
     ]
    },
    {
     "name": "stdout",
     "output_type": "stream",
     "text": [
      "[2025-07-30 03:43:02.602] Evaluating cascade layer = 1 \n",
      "[2025-07-30 03:43:02.736] Start to evalute the model:\n",
      "[2025-07-30 03:43:02.736] Evaluating cascade layer = 0 \n",
      "[2025-07-30 03:43:02.952] Evaluating cascade layer = 1 \n",
      "[2025-07-30 03:43:03.153] Start to evalute the model:\n",
      "[2025-07-30 03:43:03.153] Evaluating cascade layer = 0 \n"
     ]
    },
    {
     "name": "stderr",
     "output_type": "stream",
     "text": [
      "Exact explainer:  40%|███▉      | 82/206 [00:54<01:22,  1.51it/s]"
     ]
    },
    {
     "name": "stdout",
     "output_type": "stream",
     "text": [
      "[2025-07-30 03:43:03.286] Evaluating cascade layer = 1 \n",
      "[2025-07-30 03:43:03.402] Start to evalute the model:\n",
      "[2025-07-30 03:43:03.402] Evaluating cascade layer = 0 \n",
      "[2025-07-30 03:43:03.619] Evaluating cascade layer = 1 \n",
      "[2025-07-30 03:43:03.823] Start to evalute the model:\n",
      "[2025-07-30 03:43:03.823] Evaluating cascade layer = 0 \n"
     ]
    },
    {
     "name": "stderr",
     "output_type": "stream",
     "text": [
      "Exact explainer:  40%|████      | 83/206 [00:55<01:21,  1.51it/s]"
     ]
    },
    {
     "name": "stdout",
     "output_type": "stream",
     "text": [
      "[2025-07-30 03:43:03.953] Evaluating cascade layer = 1 \n",
      "[2025-07-30 03:43:04.074] Start to evalute the model:\n",
      "[2025-07-30 03:43:04.080] Evaluating cascade layer = 0 \n",
      "[2025-07-30 03:43:04.303] Evaluating cascade layer = 1 \n",
      "[2025-07-30 03:43:04.503] Start to evalute the model:\n",
      "[2025-07-30 03:43:04.503] Evaluating cascade layer = 0 \n"
     ]
    },
    {
     "name": "stderr",
     "output_type": "stream",
     "text": [
      "Exact explainer:  41%|████      | 84/206 [00:55<01:21,  1.49it/s]"
     ]
    },
    {
     "name": "stdout",
     "output_type": "stream",
     "text": [
      "[2025-07-30 03:43:04.636] Evaluating cascade layer = 1 \n",
      "[2025-07-30 03:43:04.753] Start to evalute the model:\n",
      "[2025-07-30 03:43:04.753] Evaluating cascade layer = 0 \n",
      "[2025-07-30 03:43:04.969] Evaluating cascade layer = 1 \n",
      "[2025-07-30 03:43:05.171] Start to evalute the model:\n",
      "[2025-07-30 03:43:05.172] Evaluating cascade layer = 0 \n"
     ]
    },
    {
     "name": "stderr",
     "output_type": "stream",
     "text": [
      "Exact explainer:  41%|████▏     | 85/206 [00:56<01:21,  1.48it/s]"
     ]
    },
    {
     "name": "stdout",
     "output_type": "stream",
     "text": [
      "[2025-07-30 03:43:05.302] Evaluating cascade layer = 1 \n",
      "[2025-07-30 03:43:05.436] Start to evalute the model:\n",
      "[2025-07-30 03:43:05.436] Evaluating cascade layer = 0 \n",
      "[2025-07-30 03:43:05.686] Evaluating cascade layer = 1 \n",
      "[2025-07-30 03:43:05.887] Start to evalute the model:\n",
      "[2025-07-30 03:43:05.888] Evaluating cascade layer = 0 \n"
     ]
    },
    {
     "name": "stderr",
     "output_type": "stream",
     "text": [
      "Exact explainer:  42%|████▏     | 86/206 [00:57<01:21,  1.48it/s]"
     ]
    },
    {
     "name": "stdout",
     "output_type": "stream",
     "text": [
      "[2025-07-30 03:43:06.019] Evaluating cascade layer = 1 \n",
      "[2025-07-30 03:43:06.119] Start to evalute the model:\n",
      "[2025-07-30 03:43:06.136] Evaluating cascade layer = 0 \n",
      "[2025-07-30 03:43:06.319] Evaluating cascade layer = 1 \n",
      "[2025-07-30 03:43:06.520] Start to evalute the model:\n",
      "[2025-07-30 03:43:06.520] Evaluating cascade layer = 0 \n",
      "[2025-07-30 03:43:06.619] Evaluating cascade layer = 1 \n"
     ]
    },
    {
     "name": "stderr",
     "output_type": "stream",
     "text": [
      "Exact explainer:  42%|████▏     | 87/206 [00:57<01:18,  1.52it/s]"
     ]
    },
    {
     "name": "stdout",
     "output_type": "stream",
     "text": [
      "[2025-07-30 03:43:06.736] Start to evalute the model:\n",
      "[2025-07-30 03:43:06.736] Evaluating cascade layer = 0 \n",
      "[2025-07-30 03:43:06.936] Evaluating cascade layer = 1 \n",
      "[2025-07-30 03:43:07.153] Start to evalute the model:\n",
      "[2025-07-30 03:43:07.153] Evaluating cascade layer = 0 \n",
      "[2025-07-30 03:43:07.269] Evaluating cascade layer = 1 \n"
     ]
    },
    {
     "name": "stderr",
     "output_type": "stream",
     "text": [
      "Exact explainer:  43%|████▎     | 88/206 [00:58<01:18,  1.51it/s]"
     ]
    },
    {
     "name": "stdout",
     "output_type": "stream",
     "text": [
      "[2025-07-30 03:43:07.402] Start to evalute the model:\n",
      "[2025-07-30 03:43:07.402] Evaluating cascade layer = 0 \n",
      "[2025-07-30 03:43:07.619] Evaluating cascade layer = 1 \n",
      "[2025-07-30 03:43:07.819] Start to evalute the model:\n",
      "[2025-07-30 03:43:07.819] Evaluating cascade layer = 0 \n",
      "[2025-07-30 03:43:07.952] Evaluating cascade layer = 1 \n"
     ]
    },
    {
     "name": "stderr",
     "output_type": "stream",
     "text": [
      "Exact explainer:  43%|████▎     | 89/206 [00:59<01:18,  1.50it/s]"
     ]
    },
    {
     "name": "stdout",
     "output_type": "stream",
     "text": [
      "[2025-07-30 03:43:08.086] Start to evalute the model:\n",
      "[2025-07-30 03:43:08.086] Evaluating cascade layer = 0 \n",
      "[2025-07-30 03:43:08.302] Evaluating cascade layer = 1 \n",
      "[2025-07-30 03:43:08.520] Start to evalute the model:\n",
      "[2025-07-30 03:43:08.520] Evaluating cascade layer = 0 \n",
      "[2025-07-30 03:43:08.653] Evaluating cascade layer = 1 \n"
     ]
    },
    {
     "name": "stderr",
     "output_type": "stream",
     "text": [
      "Exact explainer:  44%|████▎     | 90/206 [00:59<01:18,  1.49it/s]"
     ]
    },
    {
     "name": "stdout",
     "output_type": "stream",
     "text": [
      "[2025-07-30 03:43:08.774] Start to evalute the model:\n",
      "[2025-07-30 03:43:08.781] Evaluating cascade layer = 0 \n",
      "[2025-07-30 03:43:08.985] Evaluating cascade layer = 1 \n",
      "[2025-07-30 03:43:09.186] Start to evalute the model:\n",
      "[2025-07-30 03:43:09.186] Evaluating cascade layer = 0 \n"
     ]
    },
    {
     "name": "stderr",
     "output_type": "stream",
     "text": [
      "Exact explainer:  44%|████▍     | 91/206 [01:00<01:17,  1.48it/s]"
     ]
    },
    {
     "name": "stdout",
     "output_type": "stream",
     "text": [
      "[2025-07-30 03:43:09.319] Evaluating cascade layer = 1 \n",
      "[2025-07-30 03:43:09.453] Start to evalute the model:\n",
      "[2025-07-30 03:43:09.453] Evaluating cascade layer = 0 \n",
      "[2025-07-30 03:43:09.669] Evaluating cascade layer = 1 \n",
      "[2025-07-30 03:43:09.872] Start to evalute the model:\n",
      "[2025-07-30 03:43:09.873] Evaluating cascade layer = 0 \n"
     ]
    },
    {
     "name": "stderr",
     "output_type": "stream",
     "text": [
      "Exact explainer:  45%|████▍     | 92/206 [01:01<01:16,  1.50it/s]"
     ]
    },
    {
     "name": "stdout",
     "output_type": "stream",
     "text": [
      "[2025-07-30 03:43:09.969] Evaluating cascade layer = 1 \n",
      "[2025-07-30 03:43:10.107] Start to evalute the model:\n",
      "[2025-07-30 03:43:10.107] Evaluating cascade layer = 0 \n",
      "[2025-07-30 03:43:10.336] Evaluating cascade layer = 1 \n",
      "[2025-07-30 03:43:10.536] Start to evalute the model:\n",
      "[2025-07-30 03:43:10.536] Evaluating cascade layer = 0 \n"
     ]
    },
    {
     "name": "stderr",
     "output_type": "stream",
     "text": [
      "Exact explainer:  45%|████▌     | 93/206 [01:02<01:15,  1.49it/s]"
     ]
    },
    {
     "name": "stdout",
     "output_type": "stream",
     "text": [
      "[2025-07-30 03:43:10.669] Evaluating cascade layer = 1 \n",
      "[2025-07-30 03:43:10.786] Start to evalute the model:\n",
      "[2025-07-30 03:43:10.786] Evaluating cascade layer = 0 \n",
      "[2025-07-30 03:43:11.003] Evaluating cascade layer = 1 \n",
      "[2025-07-30 03:43:11.203] Start to evalute the model:\n",
      "[2025-07-30 03:43:11.203] Evaluating cascade layer = 0 \n"
     ]
    },
    {
     "name": "stderr",
     "output_type": "stream",
     "text": [
      "Exact explainer:  46%|████▌     | 94/206 [01:02<01:17,  1.45it/s]"
     ]
    },
    {
     "name": "stdout",
     "output_type": "stream",
     "text": [
      "[2025-07-30 03:43:11.369] Evaluating cascade layer = 1 \n",
      "[2025-07-30 03:43:11.520] Start to evalute the model:\n",
      "[2025-07-30 03:43:11.537] Evaluating cascade layer = 0 \n",
      "[2025-07-30 03:43:11.752] Evaluating cascade layer = 1 \n",
      "[2025-07-30 03:43:11.953] Start to evalute the model:\n",
      "[2025-07-30 03:43:11.953] Evaluating cascade layer = 0 \n"
     ]
    },
    {
     "name": "stderr",
     "output_type": "stream",
     "text": [
      "Exact explainer:  46%|████▌     | 95/206 [01:03<01:15,  1.46it/s]"
     ]
    },
    {
     "name": "stdout",
     "output_type": "stream",
     "text": [
      "[2025-07-30 03:43:12.053] Evaluating cascade layer = 1 \n",
      "[2025-07-30 03:43:12.187] Start to evalute the model:\n",
      "[2025-07-30 03:43:12.187] Evaluating cascade layer = 0 \n",
      "[2025-07-30 03:43:12.403] Evaluating cascade layer = 1 \n",
      "[2025-07-30 03:43:12.603] Start to evalute the model:\n",
      "[2025-07-30 03:43:12.603] Evaluating cascade layer = 0 \n"
     ]
    },
    {
     "name": "stderr",
     "output_type": "stream",
     "text": [
      "Exact explainer:  47%|████▋     | 96/206 [01:04<01:15,  1.46it/s]"
     ]
    },
    {
     "name": "stdout",
     "output_type": "stream",
     "text": [
      "[2025-07-30 03:43:12.736] Evaluating cascade layer = 1 \n",
      "[2025-07-30 03:43:12.873] Start to evalute the model:\n",
      "[2025-07-30 03:43:12.879] Evaluating cascade layer = 0 \n",
      "[2025-07-30 03:43:13.085] Evaluating cascade layer = 1 \n",
      "[2025-07-30 03:43:13.303] Start to evalute the model:\n",
      "[2025-07-30 03:43:13.303] Evaluating cascade layer = 0 \n",
      "[2025-07-30 03:43:13.435] Evaluating cascade layer = 1 \n"
     ]
    },
    {
     "name": "stderr",
     "output_type": "stream",
     "text": [
      "Exact explainer:  47%|████▋     | 97/206 [01:04<01:15,  1.45it/s]"
     ]
    },
    {
     "name": "stdout",
     "output_type": "stream",
     "text": [
      "[2025-07-30 03:43:13.577] Start to evalute the model:\n",
      "[2025-07-30 03:43:13.582] Evaluating cascade layer = 0 \n",
      "[2025-07-30 03:43:13.786] Evaluating cascade layer = 1 \n",
      "[2025-07-30 03:43:13.988] Start to evalute the model:\n",
      "[2025-07-30 03:43:13.988] Evaluating cascade layer = 0 \n"
     ]
    },
    {
     "name": "stderr",
     "output_type": "stream",
     "text": [
      "Exact explainer:  48%|████▊     | 98/206 [01:05<01:14,  1.46it/s]"
     ]
    },
    {
     "name": "stdout",
     "output_type": "stream",
     "text": [
      "[2025-07-30 03:43:14.119] Evaluating cascade layer = 1 \n",
      "[2025-07-30 03:43:14.253] Start to evalute the model:\n",
      "[2025-07-30 03:43:14.253] Evaluating cascade layer = 0 \n",
      "[2025-07-30 03:43:14.469] Evaluating cascade layer = 1 \n",
      "[2025-07-30 03:43:14.671] Start to evalute the model:\n",
      "[2025-07-30 03:43:14.672] Evaluating cascade layer = 0 \n"
     ]
    },
    {
     "name": "stderr",
     "output_type": "stream",
     "text": [
      "Exact explainer:  48%|████▊     | 99/206 [01:06<01:12,  1.48it/s]"
     ]
    },
    {
     "name": "stdout",
     "output_type": "stream",
     "text": [
      "[2025-07-30 03:43:14.784] Evaluating cascade layer = 1 \n",
      "[2025-07-30 03:43:14.902] Start to evalute the model:\n",
      "[2025-07-30 03:43:14.902] Evaluating cascade layer = 0 \n",
      "[2025-07-30 03:43:15.136] Evaluating cascade layer = 1 \n",
      "[2025-07-30 03:43:15.336] Start to evalute the model:\n",
      "[2025-07-30 03:43:15.336] Evaluating cascade layer = 0 \n"
     ]
    },
    {
     "name": "stderr",
     "output_type": "stream",
     "text": [
      "Exact explainer:  49%|████▊     | 100/206 [01:06<01:11,  1.49it/s]"
     ]
    },
    {
     "name": "stdout",
     "output_type": "stream",
     "text": [
      "[2025-07-30 03:43:15.470] Evaluating cascade layer = 1 \n",
      "[2025-07-30 03:43:15.573] Start to evalute the model:\n",
      "[2025-07-30 03:43:15.580] Evaluating cascade layer = 0 \n",
      "[2025-07-30 03:43:15.785] Evaluating cascade layer = 1 \n",
      "[2025-07-30 03:43:15.986] Start to evalute the model:\n",
      "[2025-07-30 03:43:15.986] Evaluating cascade layer = 0 \n",
      "[2025-07-30 03:43:16.102] Evaluating cascade layer = 1 \n"
     ]
    },
    {
     "name": "stderr",
     "output_type": "stream",
     "text": [
      "Exact explainer:  49%|████▉     | 101/206 [01:07<01:10,  1.49it/s]"
     ]
    },
    {
     "name": "stdout",
     "output_type": "stream",
     "text": [
      "[2025-07-30 03:43:16.241] Start to evalute the model:\n",
      "[2025-07-30 03:43:16.241] Evaluating cascade layer = 0 \n",
      "[2025-07-30 03:43:16.453] Evaluating cascade layer = 1 \n",
      "[2025-07-30 03:43:16.703] Start to evalute the model:\n",
      "[2025-07-30 03:43:16.703] Evaluating cascade layer = 0 \n",
      "[2025-07-30 03:43:16.836] Evaluating cascade layer = 1 \n"
     ]
    },
    {
     "name": "stderr",
     "output_type": "stream",
     "text": [
      "Exact explainer:  50%|████▉     | 102/206 [01:08<01:11,  1.45it/s]"
     ]
    },
    {
     "name": "stdout",
     "output_type": "stream",
     "text": [
      "[2025-07-30 03:43:16.973] Start to evalute the model:\n",
      "[2025-07-30 03:43:16.981] Evaluating cascade layer = 0 \n",
      "[2025-07-30 03:43:17.184] Evaluating cascade layer = 1 \n",
      "[2025-07-30 03:43:17.386] Start to evalute the model:\n",
      "[2025-07-30 03:43:17.386] Evaluating cascade layer = 0 \n",
      "[2025-07-30 03:43:17.503] Evaluating cascade layer = 1 \n"
     ]
    },
    {
     "name": "stderr",
     "output_type": "stream",
     "text": [
      "Exact explainer:  50%|█████     | 103/206 [01:08<01:10,  1.46it/s]"
     ]
    },
    {
     "name": "stdout",
     "output_type": "stream",
     "text": [
      "[2025-07-30 03:43:17.640] Start to evalute the model:\n",
      "[2025-07-30 03:43:17.640] Evaluating cascade layer = 0 \n",
      "[2025-07-30 03:43:17.869] Evaluating cascade layer = 1 \n",
      "[2025-07-30 03:43:18.102] Start to evalute the model:\n",
      "[2025-07-30 03:43:18.102] Evaluating cascade layer = 0 \n",
      "[2025-07-30 03:43:18.235] Evaluating cascade layer = 1 \n"
     ]
    },
    {
     "name": "stderr",
     "output_type": "stream",
     "text": [
      "Exact explainer:  50%|█████     | 104/206 [01:09<01:11,  1.42it/s]"
     ]
    },
    {
     "name": "stdout",
     "output_type": "stream",
     "text": [
      "[2025-07-30 03:43:18.387] Start to evalute the model:\n",
      "[2025-07-30 03:43:18.403] Evaluating cascade layer = 0 \n",
      "[2025-07-30 03:43:18.636] Evaluating cascade layer = 1 \n",
      "[2025-07-30 03:43:18.836] Start to evalute the model:\n",
      "[2025-07-30 03:43:18.836] Evaluating cascade layer = 0 \n"
     ]
    },
    {
     "name": "stderr",
     "output_type": "stream",
     "text": [
      "Exact explainer:  51%|█████     | 105/206 [01:10<01:11,  1.41it/s]"
     ]
    },
    {
     "name": "stdout",
     "output_type": "stream",
     "text": [
      "[2025-07-30 03:43:18.969] Evaluating cascade layer = 1 \n",
      "[2025-07-30 03:43:19.103] Start to evalute the model:\n",
      "[2025-07-30 03:43:19.103] Evaluating cascade layer = 0 \n",
      "[2025-07-30 03:43:19.336] Evaluating cascade layer = 1 \n",
      "[2025-07-30 03:43:19.553] Start to evalute the model:\n",
      "[2025-07-30 03:43:19.553] Evaluating cascade layer = 0 \n",
      "[2025-07-30 03:43:19.669] Evaluating cascade layer = 1 \n"
     ]
    },
    {
     "name": "stderr",
     "output_type": "stream",
     "text": [
      "Exact explainer:  51%|█████▏    | 106/206 [01:11<01:09,  1.43it/s]"
     ]
    },
    {
     "name": "stdout",
     "output_type": "stream",
     "text": [
      "[2025-07-30 03:43:19.786] Start to evalute the model:\n",
      "[2025-07-30 03:43:19.786] Evaluating cascade layer = 0 \n",
      "[2025-07-30 03:43:19.984] Evaluating cascade layer = 1 \n",
      "[2025-07-30 03:43:20.186] Start to evalute the model:\n",
      "[2025-07-30 03:43:20.186] Evaluating cascade layer = 0 \n",
      "[2025-07-30 03:43:20.337] Evaluating cascade layer = 1 \n"
     ]
    },
    {
     "name": "stderr",
     "output_type": "stream",
     "text": [
      "Exact explainer:  52%|█████▏    | 107/206 [01:11<01:10,  1.40it/s]"
     ]
    },
    {
     "name": "stdout",
     "output_type": "stream",
     "text": [
      "[2025-07-30 03:43:20.537] Start to evalute the model:\n",
      "[2025-07-30 03:43:20.553] Evaluating cascade layer = 0 \n",
      "[2025-07-30 03:43:20.769] Evaluating cascade layer = 1 \n",
      "[2025-07-30 03:43:20.973] Start to evalute the model:\n",
      "[2025-07-30 03:43:20.973] Evaluating cascade layer = 0 \n"
     ]
    },
    {
     "name": "stderr",
     "output_type": "stream",
     "text": [
      "Exact explainer:  52%|█████▏    | 108/206 [01:12<01:08,  1.44it/s]"
     ]
    },
    {
     "name": "stdout",
     "output_type": "stream",
     "text": [
      "[2025-07-30 03:43:21.069] Evaluating cascade layer = 1 \n",
      "[2025-07-30 03:43:21.186] Start to evalute the model:\n",
      "[2025-07-30 03:43:21.186] Evaluating cascade layer = 0 \n",
      "[2025-07-30 03:43:21.403] Evaluating cascade layer = 1 \n",
      "[2025-07-30 03:43:21.603] Start to evalute the model:\n",
      "[2025-07-30 03:43:21.603] Evaluating cascade layer = 0 \n",
      "[2025-07-30 03:43:21.702] Evaluating cascade layer = 1 \n"
     ]
    },
    {
     "name": "stderr",
     "output_type": "stream",
     "text": [
      "Exact explainer:  53%|█████▎    | 109/206 [01:13<01:05,  1.48it/s]"
     ]
    },
    {
     "name": "stdout",
     "output_type": "stream",
     "text": [
      "[2025-07-30 03:43:21.820] Start to evalute the model:\n",
      "[2025-07-30 03:43:21.820] Evaluating cascade layer = 0 \n",
      "[2025-07-30 03:43:22.036] Evaluating cascade layer = 1 \n",
      "[2025-07-30 03:43:22.286] Start to evalute the model:\n",
      "[2025-07-30 03:43:22.286] Evaluating cascade layer = 0 \n",
      "[2025-07-30 03:43:22.384] Evaluating cascade layer = 1 \n"
     ]
    },
    {
     "name": "stderr",
     "output_type": "stream",
     "text": [
      "Exact explainer:  53%|█████▎    | 110/206 [01:13<01:06,  1.45it/s]"
     ]
    },
    {
     "name": "stdout",
     "output_type": "stream",
     "text": [
      "[2025-07-30 03:43:22.537] Start to evalute the model:\n",
      "[2025-07-30 03:43:22.537] Evaluating cascade layer = 0 \n",
      "[2025-07-30 03:43:22.769] Evaluating cascade layer = 1 \n",
      "[2025-07-30 03:43:22.972] Start to evalute the model:\n",
      "[2025-07-30 03:43:22.972] Evaluating cascade layer = 0 \n"
     ]
    },
    {
     "name": "stderr",
     "output_type": "stream",
     "text": [
      "Exact explainer:  54%|█████▍    | 111/206 [01:14<01:05,  1.46it/s]"
     ]
    },
    {
     "name": "stdout",
     "output_type": "stream",
     "text": [
      "[2025-07-30 03:43:23.085] Evaluating cascade layer = 1 \n",
      "[2025-07-30 03:43:23.219] Start to evalute the model:\n",
      "[2025-07-30 03:43:23.219] Evaluating cascade layer = 0 \n",
      "[2025-07-30 03:43:23.436] Evaluating cascade layer = 1 \n",
      "[2025-07-30 03:43:23.640] Start to evalute the model:\n",
      "[2025-07-30 03:43:23.640] Evaluating cascade layer = 0 \n",
      "[2025-07-30 03:43:23.786] Evaluating cascade layer = 1 \n"
     ]
    },
    {
     "name": "stderr",
     "output_type": "stream",
     "text": [
      "Exact explainer:  54%|█████▍    | 112/206 [01:15<01:06,  1.42it/s]"
     ]
    },
    {
     "name": "stdout",
     "output_type": "stream",
     "text": [
      "[2025-07-30 03:43:23.978] Start to evalute the model:\n",
      "[2025-07-30 03:43:23.987] Evaluating cascade layer = 0 \n",
      "[2025-07-30 03:43:24.219] Evaluating cascade layer = 1 \n",
      "[2025-07-30 03:43:24.419] Start to evalute the model:\n",
      "[2025-07-30 03:43:24.419] Evaluating cascade layer = 0 \n"
     ]
    },
    {
     "name": "stderr",
     "output_type": "stream",
     "text": [
      "Exact explainer:  55%|█████▍    | 113/206 [01:15<01:05,  1.42it/s]"
     ]
    },
    {
     "name": "stdout",
     "output_type": "stream",
     "text": [
      "[2025-07-30 03:43:24.535] Evaluating cascade layer = 1 \n",
      "[2025-07-30 03:43:24.673] Start to evalute the model:\n",
      "[2025-07-30 03:43:24.678] Evaluating cascade layer = 0 \n",
      "[2025-07-30 03:43:24.885] Evaluating cascade layer = 1 \n",
      "[2025-07-30 03:43:25.086] Start to evalute the model:\n",
      "[2025-07-30 03:43:25.086] Evaluating cascade layer = 0 \n",
      "[2025-07-30 03:43:25.184] Evaluating cascade layer = 1 \n"
     ]
    },
    {
     "name": "stderr",
     "output_type": "stream",
     "text": [
      "Exact explainer:  55%|█████▌    | 114/206 [01:16<01:03,  1.45it/s]"
     ]
    },
    {
     "name": "stdout",
     "output_type": "stream",
     "text": [
      "[2025-07-30 03:43:25.320] Start to evalute the model:\n",
      "[2025-07-30 03:43:25.320] Evaluating cascade layer = 0 \n",
      "[2025-07-30 03:43:25.536] Evaluating cascade layer = 1 \n",
      "[2025-07-30 03:43:25.736] Start to evalute the model:\n",
      "[2025-07-30 03:43:25.736] Evaluating cascade layer = 0 \n"
     ]
    },
    {
     "name": "stderr",
     "output_type": "stream",
     "text": [
      "Exact explainer:  56%|█████▌    | 115/206 [01:17<01:01,  1.48it/s]"
     ]
    },
    {
     "name": "stdout",
     "output_type": "stream",
     "text": [
      "[2025-07-30 03:43:25.836] Evaluating cascade layer = 1 \n",
      "[2025-07-30 03:43:25.975] Start to evalute the model:\n",
      "[2025-07-30 03:43:25.980] Evaluating cascade layer = 0 \n",
      "[2025-07-30 03:43:26.203] Evaluating cascade layer = 1 \n",
      "[2025-07-30 03:43:26.403] Start to evalute the model:\n",
      "[2025-07-30 03:43:26.403] Evaluating cascade layer = 0 \n"
     ]
    },
    {
     "name": "stderr",
     "output_type": "stream",
     "text": [
      "Exact explainer:  56%|█████▋    | 116/206 [01:17<01:01,  1.47it/s]"
     ]
    },
    {
     "name": "stdout",
     "output_type": "stream",
     "text": [
      "[2025-07-30 03:43:26.520] Evaluating cascade layer = 1 \n",
      "[2025-07-30 03:43:26.653] Start to evalute the model:\n",
      "[2025-07-30 03:43:26.653] Evaluating cascade layer = 0 \n",
      "[2025-07-30 03:43:26.869] Evaluating cascade layer = 1 \n",
      "[2025-07-30 03:43:27.072] Start to evalute the model:\n",
      "[2025-07-30 03:43:27.073] Evaluating cascade layer = 0 \n"
     ]
    },
    {
     "name": "stderr",
     "output_type": "stream",
     "text": [
      "Exact explainer:  57%|█████▋    | 117/206 [01:18<01:00,  1.47it/s]"
     ]
    },
    {
     "name": "stdout",
     "output_type": "stream",
     "text": [
      "[2025-07-30 03:43:27.203] Evaluating cascade layer = 1 \n",
      "[2025-07-30 03:43:27.341] Start to evalute the model:\n",
      "[2025-07-30 03:43:27.353] Evaluating cascade layer = 0 \n",
      "[2025-07-30 03:43:27.603] Evaluating cascade layer = 1 \n",
      "[2025-07-30 03:43:27.803] Start to evalute the model:\n",
      "[2025-07-30 03:43:27.803] Evaluating cascade layer = 0 \n"
     ]
    },
    {
     "name": "stderr",
     "output_type": "stream",
     "text": [
      "Exact explainer:  57%|█████▋    | 118/206 [01:19<01:00,  1.45it/s]"
     ]
    },
    {
     "name": "stdout",
     "output_type": "stream",
     "text": [
      "[2025-07-30 03:43:27.936] Evaluating cascade layer = 1 \n",
      "[2025-07-30 03:43:28.053] Start to evalute the model:\n",
      "[2025-07-30 03:43:28.053] Evaluating cascade layer = 0 \n",
      "[2025-07-30 03:43:28.269] Evaluating cascade layer = 1 \n",
      "[2025-07-30 03:43:28.472] Start to evalute the model:\n",
      "[2025-07-30 03:43:28.473] Evaluating cascade layer = 0 \n"
     ]
    },
    {
     "name": "stderr",
     "output_type": "stream",
     "text": [
      "Exact explainer:  58%|█████▊    | 119/206 [01:19<00:57,  1.51it/s]"
     ]
    },
    {
     "name": "stdout",
     "output_type": "stream",
     "text": [
      "[2025-07-30 03:43:28.553] Evaluating cascade layer = 1 \n",
      "[2025-07-30 03:43:28.653] Start to evalute the model:\n",
      "[2025-07-30 03:43:28.653] Evaluating cascade layer = 0 \n",
      "[2025-07-30 03:43:28.853] Evaluating cascade layer = 1 \n",
      "[2025-07-30 03:43:29.053] Start to evalute the model:\n",
      "[2025-07-30 03:43:29.053] Evaluating cascade layer = 0 \n"
     ]
    },
    {
     "name": "stderr",
     "output_type": "stream",
     "text": [
      "Exact explainer:  58%|█████▊    | 120/206 [01:20<00:57,  1.49it/s]"
     ]
    },
    {
     "name": "stdout",
     "output_type": "stream",
     "text": [
      "[2025-07-30 03:43:29.186] Evaluating cascade layer = 1 \n",
      "[2025-07-30 03:43:29.336] Start to evalute the model:\n",
      "[2025-07-30 03:43:29.336] Evaluating cascade layer = 0 \n",
      "[2025-07-30 03:43:29.569] Evaluating cascade layer = 1 \n",
      "[2025-07-30 03:43:29.772] Start to evalute the model:\n",
      "[2025-07-30 03:43:29.773] Evaluating cascade layer = 0 \n"
     ]
    },
    {
     "name": "stderr",
     "output_type": "stream",
     "text": [
      "Exact explainer:  59%|█████▊    | 121/206 [01:21<00:57,  1.47it/s]"
     ]
    },
    {
     "name": "stdout",
     "output_type": "stream",
     "text": [
      "[2025-07-30 03:43:29.902] Evaluating cascade layer = 1 \n",
      "[2025-07-30 03:43:30.040] Start to evalute the model:\n",
      "[2025-07-30 03:43:30.044] Evaluating cascade layer = 0 \n",
      "[2025-07-30 03:43:30.253] Evaluating cascade layer = 1 \n",
      "[2025-07-30 03:43:30.453] Start to evalute the model:\n",
      "[2025-07-30 03:43:30.453] Evaluating cascade layer = 0 \n"
     ]
    },
    {
     "name": "stderr",
     "output_type": "stream",
     "text": [
      "Exact explainer:  59%|█████▉    | 122/206 [01:21<00:56,  1.48it/s]"
     ]
    },
    {
     "name": "stdout",
     "output_type": "stream",
     "text": [
      "[2025-07-30 03:43:30.569] Evaluating cascade layer = 1 \n",
      "[2025-07-30 03:43:30.703] Start to evalute the model:\n",
      "[2025-07-30 03:43:30.703] Evaluating cascade layer = 0 \n",
      "[2025-07-30 03:43:30.919] Evaluating cascade layer = 1 \n",
      "[2025-07-30 03:43:31.123] Start to evalute the model:\n",
      "[2025-07-30 03:43:31.123] Evaluating cascade layer = 0 \n"
     ]
    },
    {
     "name": "stderr",
     "output_type": "stream",
     "text": [
      "Exact explainer:  60%|█████▉    | 123/206 [01:22<00:55,  1.49it/s]"
     ]
    },
    {
     "name": "stdout",
     "output_type": "stream",
     "text": [
      "[2025-07-30 03:43:31.236] Evaluating cascade layer = 1 \n",
      "[2025-07-30 03:43:31.374] Start to evalute the model:\n",
      "[2025-07-30 03:43:31.380] Evaluating cascade layer = 0 \n",
      "[2025-07-30 03:43:31.703] Evaluating cascade layer = 1 \n",
      "[2025-07-30 03:43:31.903] Start to evalute the model:\n",
      "[2025-07-30 03:43:31.903] Evaluating cascade layer = 0 \n"
     ]
    },
    {
     "name": "stderr",
     "output_type": "stream",
     "text": [
      "Exact explainer:  60%|██████    | 124/206 [01:23<00:57,  1.43it/s]"
     ]
    },
    {
     "name": "stdout",
     "output_type": "stream",
     "text": [
      "[2025-07-30 03:43:32.019] Evaluating cascade layer = 1 \n",
      "[2025-07-30 03:43:32.137] Start to evalute the model:\n",
      "[2025-07-30 03:43:32.137] Evaluating cascade layer = 0 \n",
      "[2025-07-30 03:43:32.353] Evaluating cascade layer = 1 \n",
      "[2025-07-30 03:43:32.553] Start to evalute the model:\n",
      "[2025-07-30 03:43:32.553] Evaluating cascade layer = 0 \n"
     ]
    },
    {
     "name": "stderr",
     "output_type": "stream",
     "text": [
      "Exact explainer:  61%|██████    | 125/206 [01:24<00:55,  1.45it/s]"
     ]
    },
    {
     "name": "stdout",
     "output_type": "stream",
     "text": [
      "[2025-07-30 03:43:32.684] Evaluating cascade layer = 1 \n",
      "[2025-07-30 03:43:32.806] Start to evalute the model:\n",
      "[2025-07-30 03:43:32.807] Evaluating cascade layer = 0 \n",
      "[2025-07-30 03:43:33.052] Evaluating cascade layer = 1 \n",
      "[2025-07-30 03:43:33.253] Start to evalute the model:\n",
      "[2025-07-30 03:43:33.253] Evaluating cascade layer = 0 \n"
     ]
    },
    {
     "name": "stderr",
     "output_type": "stream",
     "text": [
      "Exact explainer:  61%|██████    | 126/206 [01:24<00:55,  1.44it/s]"
     ]
    },
    {
     "name": "stdout",
     "output_type": "stream",
     "text": [
      "[2025-07-30 03:43:33.369] Evaluating cascade layer = 1 \n",
      "[2025-07-30 03:43:33.503] Start to evalute the model:\n",
      "[2025-07-30 03:43:33.503] Evaluating cascade layer = 0 \n",
      "[2025-07-30 03:43:33.736] Evaluating cascade layer = 1 \n",
      "[2025-07-30 03:43:33.936] Start to evalute the model:\n",
      "[2025-07-30 03:43:33.936] Evaluating cascade layer = 0 \n"
     ]
    },
    {
     "name": "stderr",
     "output_type": "stream",
     "text": [
      "Exact explainer:  62%|██████▏   | 127/206 [01:25<00:54,  1.44it/s]"
     ]
    },
    {
     "name": "stdout",
     "output_type": "stream",
     "text": [
      "[2025-07-30 03:43:34.069] Evaluating cascade layer = 1 \n",
      "[2025-07-30 03:43:34.207] Start to evalute the model:\n",
      "[2025-07-30 03:43:34.207] Evaluating cascade layer = 0 \n",
      "[2025-07-30 03:43:34.419] Evaluating cascade layer = 1 \n",
      "[2025-07-30 03:43:34.619] Start to evalute the model:\n",
      "[2025-07-30 03:43:34.619] Evaluating cascade layer = 0 \n"
     ]
    },
    {
     "name": "stderr",
     "output_type": "stream",
     "text": [
      "Exact explainer:  62%|██████▏   | 128/206 [01:26<00:53,  1.45it/s]"
     ]
    },
    {
     "name": "stdout",
     "output_type": "stream",
     "text": [
      "[2025-07-30 03:43:34.753] Evaluating cascade layer = 1 \n",
      "[2025-07-30 03:43:34.886] Start to evalute the model:\n",
      "[2025-07-30 03:43:34.886] Evaluating cascade layer = 0 \n",
      "[2025-07-30 03:43:35.103] Evaluating cascade layer = 1 \n",
      "[2025-07-30 03:43:35.302] Start to evalute the model:\n",
      "[2025-07-30 03:43:35.302] Evaluating cascade layer = 0 \n"
     ]
    },
    {
     "name": "stderr",
     "output_type": "stream",
     "text": [
      "Exact explainer:  63%|██████▎   | 129/206 [01:26<00:52,  1.47it/s]"
     ]
    },
    {
     "name": "stdout",
     "output_type": "stream",
     "text": [
      "[2025-07-30 03:43:35.403] Evaluating cascade layer = 1 \n",
      "[2025-07-30 03:43:35.537] Start to evalute the model:\n",
      "[2025-07-30 03:43:35.537] Evaluating cascade layer = 0 \n",
      "[2025-07-30 03:43:35.753] Evaluating cascade layer = 1 \n",
      "[2025-07-30 03:43:35.953] Start to evalute the model:\n",
      "[2025-07-30 03:43:35.953] Evaluating cascade layer = 0 \n"
     ]
    },
    {
     "name": "stderr",
     "output_type": "stream",
     "text": [
      "Exact explainer:  63%|██████▎   | 130/206 [01:27<00:51,  1.47it/s]"
     ]
    },
    {
     "name": "stdout",
     "output_type": "stream",
     "text": [
      "[2025-07-30 03:43:36.086] Evaluating cascade layer = 1 \n",
      "[2025-07-30 03:43:36.220] Start to evalute the model:\n",
      "[2025-07-30 03:43:36.220] Evaluating cascade layer = 0 \n",
      "[2025-07-30 03:43:36.435] Evaluating cascade layer = 1 \n",
      "[2025-07-30 03:43:36.636] Start to evalute the model:\n",
      "[2025-07-30 03:43:36.636] Evaluating cascade layer = 0 \n"
     ]
    },
    {
     "name": "stderr",
     "output_type": "stream",
     "text": [
      "Exact explainer:  64%|██████▎   | 131/206 [01:28<00:50,  1.48it/s]"
     ]
    },
    {
     "name": "stdout",
     "output_type": "stream",
     "text": [
      "[2025-07-30 03:43:36.753] Evaluating cascade layer = 1 \n",
      "[2025-07-30 03:43:36.890] Start to evalute the model:\n",
      "[2025-07-30 03:43:36.891] Evaluating cascade layer = 0 \n",
      "[2025-07-30 03:43:37.103] Evaluating cascade layer = 1 \n",
      "[2025-07-30 03:43:37.303] Start to evalute the model:\n",
      "[2025-07-30 03:43:37.303] Evaluating cascade layer = 0 \n"
     ]
    },
    {
     "name": "stderr",
     "output_type": "stream",
     "text": [
      "Exact explainer:  64%|██████▍   | 132/206 [01:28<00:49,  1.48it/s]"
     ]
    },
    {
     "name": "stdout",
     "output_type": "stream",
     "text": [
      "[2025-07-30 03:43:37.419] Evaluating cascade layer = 1 \n",
      "[2025-07-30 03:43:37.553] Start to evalute the model:\n",
      "[2025-07-30 03:43:37.553] Evaluating cascade layer = 0 \n",
      "[2025-07-30 03:43:37.786] Evaluating cascade layer = 1 \n",
      "[2025-07-30 03:43:37.986] Start to evalute the model:\n",
      "[2025-07-30 03:43:37.986] Evaluating cascade layer = 0 \n"
     ]
    },
    {
     "name": "stderr",
     "output_type": "stream",
     "text": [
      "Exact explainer:  65%|██████▍   | 133/206 [01:29<00:49,  1.47it/s]"
     ]
    },
    {
     "name": "stdout",
     "output_type": "stream",
     "text": [
      "[2025-07-30 03:43:38.119] Evaluating cascade layer = 1 \n",
      "[2025-07-30 03:43:38.253] Start to evalute the model:\n",
      "[2025-07-30 03:43:38.253] Evaluating cascade layer = 0 \n",
      "[2025-07-30 03:43:38.519] Evaluating cascade layer = 1 \n",
      "[2025-07-30 03:43:38.722] Start to evalute the model:\n",
      "[2025-07-30 03:43:38.723] Evaluating cascade layer = 0 \n",
      "[2025-07-30 03:43:38.853] Evaluating cascade layer = 1 \n"
     ]
    },
    {
     "name": "stderr",
     "output_type": "stream",
     "text": [
      "Exact explainer:  65%|██████▌   | 134/206 [01:30<00:49,  1.45it/s]"
     ]
    },
    {
     "name": "stdout",
     "output_type": "stream",
     "text": [
      "[2025-07-30 03:43:38.973] Start to evalute the model:\n",
      "[2025-07-30 03:43:38.979] Evaluating cascade layer = 0 \n",
      "[2025-07-30 03:43:39.184] Evaluating cascade layer = 1 \n",
      "[2025-07-30 03:43:39.386] Start to evalute the model:\n",
      "[2025-07-30 03:43:39.386] Evaluating cascade layer = 0 \n"
     ]
    },
    {
     "name": "stderr",
     "output_type": "stream",
     "text": [
      "Exact explainer:  66%|██████▌   | 135/206 [01:30<00:48,  1.47it/s]"
     ]
    },
    {
     "name": "stdout",
     "output_type": "stream",
     "text": [
      "[2025-07-30 03:43:39.503] Evaluating cascade layer = 1 \n",
      "[2025-07-30 03:43:39.619] Start to evalute the model:\n",
      "[2025-07-30 03:43:39.619] Evaluating cascade layer = 0 \n",
      "[2025-07-30 03:43:39.836] Evaluating cascade layer = 1 \n",
      "[2025-07-30 03:43:40.040] Start to evalute the model:\n",
      "[2025-07-30 03:43:40.040] Evaluating cascade layer = 0 \n",
      "[2025-07-30 03:43:40.153] Evaluating cascade layer = 1 \n"
     ]
    },
    {
     "name": "stderr",
     "output_type": "stream",
     "text": [
      "Exact explainer:  66%|██████▌   | 136/206 [01:31<00:46,  1.49it/s]"
     ]
    },
    {
     "name": "stdout",
     "output_type": "stream",
     "text": [
      "[2025-07-30 03:43:40.274] Start to evalute the model:\n",
      "[2025-07-30 03:43:40.280] Evaluating cascade layer = 0 \n",
      "[2025-07-30 03:43:40.486] Evaluating cascade layer = 1 \n",
      "[2025-07-30 03:43:40.686] Start to evalute the model:\n",
      "[2025-07-30 03:43:40.686] Evaluating cascade layer = 0 \n"
     ]
    },
    {
     "name": "stderr",
     "output_type": "stream",
     "text": [
      "Exact explainer:  67%|██████▋   | 137/206 [01:32<00:46,  1.49it/s]"
     ]
    },
    {
     "name": "stdout",
     "output_type": "stream",
     "text": [
      "[2025-07-30 03:43:40.784] Evaluating cascade layer = 1 \n",
      "[2025-07-30 03:43:40.937] Start to evalute the model:\n",
      "[2025-07-30 03:43:40.953] Evaluating cascade layer = 0 \n",
      "[2025-07-30 03:43:41.184] Evaluating cascade layer = 1 \n",
      "[2025-07-30 03:43:41.386] Start to evalute the model:\n",
      "[2025-07-30 03:43:41.386] Evaluating cascade layer = 0 \n"
     ]
    },
    {
     "name": "stderr",
     "output_type": "stream",
     "text": [
      "Exact explainer:  67%|██████▋   | 138/206 [01:32<00:46,  1.46it/s]"
     ]
    },
    {
     "name": "stdout",
     "output_type": "stream",
     "text": [
      "[2025-07-30 03:43:41.519] Evaluating cascade layer = 1 \n",
      "[2025-07-30 03:43:41.653] Start to evalute the model:\n",
      "[2025-07-30 03:43:41.653] Evaluating cascade layer = 0 \n",
      "[2025-07-30 03:43:41.869] Evaluating cascade layer = 1 \n",
      "[2025-07-30 03:43:42.072] Start to evalute the model:\n",
      "[2025-07-30 03:43:42.072] Evaluating cascade layer = 0 \n"
     ]
    },
    {
     "name": "stderr",
     "output_type": "stream",
     "text": [
      "Exact explainer:  67%|██████▋   | 139/206 [01:33<00:45,  1.46it/s]"
     ]
    },
    {
     "name": "stdout",
     "output_type": "stream",
     "text": [
      "[2025-07-30 03:43:42.202] Evaluating cascade layer = 1 \n",
      "[2025-07-30 03:43:42.336] Start to evalute the model:\n",
      "[2025-07-30 03:43:42.354] Evaluating cascade layer = 0 \n",
      "[2025-07-30 03:43:42.569] Evaluating cascade layer = 1 \n",
      "[2025-07-30 03:43:42.771] Start to evalute the model:\n",
      "[2025-07-30 03:43:42.772] Evaluating cascade layer = 0 \n"
     ]
    },
    {
     "name": "stderr",
     "output_type": "stream",
     "text": [
      "Exact explainer:  68%|██████▊   | 140/206 [01:34<00:44,  1.47it/s]"
     ]
    },
    {
     "name": "stdout",
     "output_type": "stream",
     "text": [
      "[2025-07-30 03:43:42.871] Evaluating cascade layer = 1 \n",
      "[2025-07-30 03:43:43.003] Start to evalute the model:\n",
      "[2025-07-30 03:43:43.020] Evaluating cascade layer = 0 \n",
      "[2025-07-30 03:43:43.220] Evaluating cascade layer = 1 \n",
      "[2025-07-30 03:43:43.420] Start to evalute the model:\n",
      "[2025-07-30 03:43:43.420] Evaluating cascade layer = 0 \n",
      "[2025-07-30 03:43:43.553] Evaluating cascade layer = 1 \n"
     ]
    },
    {
     "name": "stderr",
     "output_type": "stream",
     "text": [
      "Exact explainer:  68%|██████▊   | 141/206 [01:34<00:44,  1.47it/s]"
     ]
    },
    {
     "name": "stdout",
     "output_type": "stream",
     "text": [
      "[2025-07-30 03:43:43.690] Start to evalute the model:\n",
      "[2025-07-30 03:43:43.690] Evaluating cascade layer = 0 \n",
      "[2025-07-30 03:43:43.936] Evaluating cascade layer = 1 \n",
      "[2025-07-30 03:43:44.136] Start to evalute the model:\n",
      "[2025-07-30 03:43:44.136] Evaluating cascade layer = 0 \n"
     ]
    },
    {
     "name": "stderr",
     "output_type": "stream",
     "text": [
      "Exact explainer:  69%|██████▉   | 142/206 [01:35<00:44,  1.45it/s]"
     ]
    },
    {
     "name": "stdout",
     "output_type": "stream",
     "text": [
      "[2025-07-30 03:43:44.269] Evaluating cascade layer = 1 \n",
      "[2025-07-30 03:43:44.403] Start to evalute the model:\n",
      "[2025-07-30 03:43:44.403] Evaluating cascade layer = 0 \n",
      "[2025-07-30 03:43:44.620] Evaluating cascade layer = 1 \n",
      "[2025-07-30 03:43:44.819] Start to evalute the model:\n",
      "[2025-07-30 03:43:44.819] Evaluating cascade layer = 0 \n"
     ]
    },
    {
     "name": "stderr",
     "output_type": "stream",
     "text": [
      "Exact explainer:  69%|██████▉   | 143/206 [01:36<00:42,  1.47it/s]"
     ]
    },
    {
     "name": "stdout",
     "output_type": "stream",
     "text": [
      "[2025-07-30 03:43:44.919] Evaluating cascade layer = 1 \n",
      "[2025-07-30 03:43:45.053] Start to evalute the model:\n",
      "[2025-07-30 03:43:45.053] Evaluating cascade layer = 0 \n",
      "[2025-07-30 03:43:45.269] Evaluating cascade layer = 1 \n",
      "[2025-07-30 03:43:45.486] Start to evalute the model:\n",
      "[2025-07-30 03:43:45.486] Evaluating cascade layer = 0 \n",
      "[2025-07-30 03:43:45.602] Evaluating cascade layer = 1 \n"
     ]
    },
    {
     "name": "stderr",
     "output_type": "stream",
     "text": [
      "Exact explainer:  70%|██████▉   | 144/206 [01:36<00:42,  1.46it/s]"
     ]
    },
    {
     "name": "stdout",
     "output_type": "stream",
     "text": [
      "[2025-07-30 03:43:45.753] Start to evalute the model:\n",
      "[2025-07-30 03:43:45.753] Evaluating cascade layer = 0 \n",
      "[2025-07-30 03:43:45.969] Evaluating cascade layer = 1 \n",
      "[2025-07-30 03:43:46.172] Start to evalute the model:\n",
      "[2025-07-30 03:43:46.172] Evaluating cascade layer = 0 \n"
     ]
    },
    {
     "name": "stderr",
     "output_type": "stream",
     "text": [
      "Exact explainer:  70%|███████   | 145/206 [01:37<00:41,  1.48it/s]"
     ]
    },
    {
     "name": "stdout",
     "output_type": "stream",
     "text": [
      "[2025-07-30 03:43:46.302] Evaluating cascade layer = 1 \n",
      "[2025-07-30 03:43:46.403] Start to evalute the model:\n",
      "[2025-07-30 03:43:46.403] Evaluating cascade layer = 0 \n",
      "[2025-07-30 03:43:46.619] Evaluating cascade layer = 1 \n",
      "[2025-07-30 03:43:46.819] Start to evalute the model:\n",
      "[2025-07-30 03:43:46.819] Evaluating cascade layer = 0 \n"
     ]
    },
    {
     "name": "stderr",
     "output_type": "stream",
     "text": [
      "Exact explainer:  71%|███████   | 146/206 [01:38<00:40,  1.49it/s]"
     ]
    },
    {
     "name": "stdout",
     "output_type": "stream",
     "text": [
      "[2025-07-30 03:43:46.936] Evaluating cascade layer = 1 \n",
      "[2025-07-30 03:43:47.074] Start to evalute the model:\n",
      "[2025-07-30 03:43:47.079] Evaluating cascade layer = 0 \n",
      "[2025-07-30 03:43:47.284] Evaluating cascade layer = 1 \n",
      "[2025-07-30 03:43:47.486] Start to evalute the model:\n",
      "[2025-07-30 03:43:47.486] Evaluating cascade layer = 0 \n",
      "[2025-07-30 03:43:47.619] Evaluating cascade layer = 1 \n"
     ]
    },
    {
     "name": "stderr",
     "output_type": "stream",
     "text": [
      "Exact explainer:  71%|███████▏  | 147/206 [01:38<00:39,  1.48it/s]"
     ]
    },
    {
     "name": "stdout",
     "output_type": "stream",
     "text": [
      "[2025-07-30 03:43:47.753] Start to evalute the model:\n",
      "[2025-07-30 03:43:47.753] Evaluating cascade layer = 0 \n",
      "[2025-07-30 03:43:47.984] Evaluating cascade layer = 1 \n",
      "[2025-07-30 03:43:48.186] Start to evalute the model:\n",
      "[2025-07-30 03:43:48.186] Evaluating cascade layer = 0 \n",
      "[2025-07-30 03:43:48.302] Evaluating cascade layer = 1 \n"
     ]
    },
    {
     "name": "stderr",
     "output_type": "stream",
     "text": [
      "Exact explainer:  72%|███████▏  | 148/206 [01:39<00:40,  1.44it/s]"
     ]
    },
    {
     "name": "stdout",
     "output_type": "stream",
     "text": [
      "[2025-07-30 03:43:48.487] Start to evalute the model:\n",
      "[2025-07-30 03:43:48.504] Evaluating cascade layer = 0 \n",
      "[2025-07-30 03:43:48.736] Evaluating cascade layer = 1 \n",
      "[2025-07-30 03:43:48.953] Start to evalute the model:\n",
      "[2025-07-30 03:43:48.953] Evaluating cascade layer = 0 \n",
      "[2025-07-30 03:43:49.069] Evaluating cascade layer = 1 \n"
     ]
    },
    {
     "name": "stderr",
     "output_type": "stream",
     "text": [
      "Exact explainer:  72%|███████▏  | 149/206 [01:40<00:39,  1.43it/s]"
     ]
    },
    {
     "name": "stdout",
     "output_type": "stream",
     "text": [
      "[2025-07-30 03:43:49.207] Start to evalute the model:\n",
      "[2025-07-30 03:43:49.207] Evaluating cascade layer = 0 \n",
      "[2025-07-30 03:43:49.453] Evaluating cascade layer = 1 \n",
      "[2025-07-30 03:43:49.653] Start to evalute the model:\n",
      "[2025-07-30 03:43:49.653] Evaluating cascade layer = 0 \n"
     ]
    },
    {
     "name": "stderr",
     "output_type": "stream",
     "text": [
      "Exact explainer:  73%|███████▎  | 150/206 [01:41<00:38,  1.44it/s]"
     ]
    },
    {
     "name": "stdout",
     "output_type": "stream",
     "text": [
      "[2025-07-30 03:43:49.752] Evaluating cascade layer = 1 \n",
      "[2025-07-30 03:43:49.886] Start to evalute the model:\n",
      "[2025-07-30 03:43:49.886] Evaluating cascade layer = 0 \n",
      "[2025-07-30 03:43:50.103] Evaluating cascade layer = 1 \n",
      "[2025-07-30 03:43:50.303] Start to evalute the model:\n",
      "[2025-07-30 03:43:50.303] Evaluating cascade layer = 0 \n"
     ]
    },
    {
     "name": "stderr",
     "output_type": "stream",
     "text": [
      "Exact explainer:  73%|███████▎  | 151/206 [01:41<00:37,  1.48it/s]"
     ]
    },
    {
     "name": "stdout",
     "output_type": "stream",
     "text": [
      "[2025-07-30 03:43:50.403] Evaluating cascade layer = 1 \n",
      "[2025-07-30 03:43:50.520] Start to evalute the model:\n",
      "[2025-07-30 03:43:50.520] Evaluating cascade layer = 0 \n",
      "[2025-07-30 03:43:50.736] Evaluating cascade layer = 1 \n",
      "[2025-07-30 03:43:50.936] Start to evalute the model:\n",
      "[2025-07-30 03:43:50.936] Evaluating cascade layer = 0 \n",
      "[2025-07-30 03:43:51.085] Evaluating cascade layer = 1 \n"
     ]
    },
    {
     "name": "stderr",
     "output_type": "stream",
     "text": [
      "Exact explainer:  74%|███████▍  | 152/206 [01:42<00:37,  1.42it/s]"
     ]
    },
    {
     "name": "stdout",
     "output_type": "stream",
     "text": [
      "[2025-07-30 03:43:51.287] Start to evalute the model:\n",
      "[2025-07-30 03:43:51.302] Evaluating cascade layer = 0 \n",
      "[2025-07-30 03:43:51.519] Evaluating cascade layer = 1 \n",
      "[2025-07-30 03:43:51.720] Start to evalute the model:\n",
      "[2025-07-30 03:43:51.720] Evaluating cascade layer = 0 \n",
      "[2025-07-30 03:43:51.819] Evaluating cascade layer = 1 \n"
     ]
    },
    {
     "name": "stderr",
     "output_type": "stream",
     "text": [
      "Exact explainer:  74%|███████▍  | 153/206 [01:43<00:36,  1.44it/s]"
     ]
    },
    {
     "name": "stdout",
     "output_type": "stream",
     "text": [
      "[2025-07-30 03:43:51.953] Start to evalute the model:\n",
      "[2025-07-30 03:43:51.953] Evaluating cascade layer = 0 \n",
      "[2025-07-30 03:43:52.184] Evaluating cascade layer = 1 \n",
      "[2025-07-30 03:43:52.386] Start to evalute the model:\n",
      "[2025-07-30 03:43:52.386] Evaluating cascade layer = 0 \n",
      "[2025-07-30 03:43:52.502] Evaluating cascade layer = 1 \n"
     ]
    },
    {
     "name": "stderr",
     "output_type": "stream",
     "text": [
      "Exact explainer:  75%|███████▍  | 154/206 [01:43<00:36,  1.44it/s]"
     ]
    },
    {
     "name": "stdout",
     "output_type": "stream",
     "text": [
      "[2025-07-30 03:43:52.653] Start to evalute the model:\n",
      "[2025-07-30 03:43:52.670] Evaluating cascade layer = 0 \n",
      "[2025-07-30 03:43:52.870] Evaluating cascade layer = 1 \n",
      "[2025-07-30 03:43:53.073] Start to evalute the model:\n",
      "[2025-07-30 03:43:53.073] Evaluating cascade layer = 0 \n"
     ]
    },
    {
     "name": "stderr",
     "output_type": "stream",
     "text": [
      "Exact explainer:  75%|███████▌  | 155/206 [01:44<00:35,  1.45it/s]"
     ]
    },
    {
     "name": "stdout",
     "output_type": "stream",
     "text": [
      "[2025-07-30 03:43:53.202] Evaluating cascade layer = 1 \n",
      "[2025-07-30 03:43:53.336] Start to evalute the model:\n",
      "[2025-07-30 03:43:53.336] Evaluating cascade layer = 0 \n",
      "[2025-07-30 03:43:53.552] Evaluating cascade layer = 1 \n",
      "[2025-07-30 03:43:53.753] Start to evalute the model:\n",
      "[2025-07-30 03:43:53.753] Evaluating cascade layer = 0 \n",
      "[2025-07-30 03:43:53.869] Evaluating cascade layer = 1 \n"
     ]
    },
    {
     "name": "stderr",
     "output_type": "stream",
     "text": [
      "Exact explainer:  76%|███████▌  | 156/206 [01:45<00:33,  1.47it/s]"
     ]
    },
    {
     "name": "stdout",
     "output_type": "stream",
     "text": [
      "[2025-07-30 03:43:53.986] Start to evalute the model:\n",
      "[2025-07-30 03:43:53.986] Evaluating cascade layer = 0 \n",
      "[2025-07-30 03:43:54.203] Evaluating cascade layer = 1 \n",
      "[2025-07-30 03:43:54.403] Start to evalute the model:\n",
      "[2025-07-30 03:43:54.403] Evaluating cascade layer = 0 \n"
     ]
    },
    {
     "name": "stderr",
     "output_type": "stream",
     "text": [
      "Exact explainer:  76%|███████▌  | 157/206 [01:45<00:33,  1.48it/s]"
     ]
    },
    {
     "name": "stdout",
     "output_type": "stream",
     "text": [
      "[2025-07-30 03:43:54.519] Evaluating cascade layer = 1 \n",
      "[2025-07-30 03:43:54.653] Start to evalute the model:\n",
      "[2025-07-30 03:43:54.671] Evaluating cascade layer = 0 \n",
      "[2025-07-30 03:43:54.919] Evaluating cascade layer = 1 \n",
      "[2025-07-30 03:43:55.119] Start to evalute the model:\n",
      "[2025-07-30 03:43:55.119] Evaluating cascade layer = 0 \n"
     ]
    },
    {
     "name": "stderr",
     "output_type": "stream",
     "text": [
      "Exact explainer:  77%|███████▋  | 158/206 [01:46<00:32,  1.46it/s]"
     ]
    },
    {
     "name": "stdout",
     "output_type": "stream",
     "text": [
      "[2025-07-30 03:43:55.236] Evaluating cascade layer = 1 \n",
      "[2025-07-30 03:43:55.353] Start to evalute the model:\n",
      "[2025-07-30 03:43:55.372] Evaluating cascade layer = 0 \n",
      "[2025-07-30 03:43:55.569] Evaluating cascade layer = 1 \n",
      "[2025-07-30 03:43:55.772] Start to evalute the model:\n",
      "[2025-07-30 03:43:55.773] Evaluating cascade layer = 0 \n"
     ]
    },
    {
     "name": "stderr",
     "output_type": "stream",
     "text": [
      "Exact explainer:  77%|███████▋  | 159/206 [01:47<00:32,  1.46it/s]"
     ]
    },
    {
     "name": "stdout",
     "output_type": "stream",
     "text": [
      "[2025-07-30 03:43:55.904] Evaluating cascade layer = 1 \n",
      "[2025-07-30 03:43:56.036] Start to evalute the model:\n",
      "[2025-07-30 03:43:56.036] Evaluating cascade layer = 0 \n",
      "[2025-07-30 03:43:56.269] Evaluating cascade layer = 1 \n",
      "[2025-07-30 03:43:56.472] Start to evalute the model:\n",
      "[2025-07-30 03:43:56.473] Evaluating cascade layer = 0 \n"
     ]
    },
    {
     "name": "stderr",
     "output_type": "stream",
     "text": [
      "Exact explainer:  78%|███████▊  | 160/206 [01:47<00:31,  1.45it/s]"
     ]
    },
    {
     "name": "stdout",
     "output_type": "stream",
     "text": [
      "[2025-07-30 03:43:56.602] Evaluating cascade layer = 1 \n",
      "[2025-07-30 03:43:56.736] Start to evalute the model:\n",
      "[2025-07-30 03:43:56.736] Evaluating cascade layer = 0 \n",
      "[2025-07-30 03:43:56.953] Evaluating cascade layer = 1 \n",
      "[2025-07-30 03:43:57.156] Start to evalute the model:\n",
      "[2025-07-30 03:43:57.157] Evaluating cascade layer = 0 \n",
      "[2025-07-30 03:43:57.284] Evaluating cascade layer = 1 \n"
     ]
    },
    {
     "name": "stderr",
     "output_type": "stream",
     "text": [
      "Exact explainer:  78%|███████▊  | 161/206 [01:48<00:30,  1.47it/s]"
     ]
    },
    {
     "name": "stdout",
     "output_type": "stream",
     "text": [
      "[2025-07-30 03:43:57.403] Start to evalute the model:\n",
      "[2025-07-30 03:43:57.403] Evaluating cascade layer = 0 \n",
      "[2025-07-30 03:43:57.620] Evaluating cascade layer = 1 \n",
      "[2025-07-30 03:43:57.820] Start to evalute the model:\n",
      "[2025-07-30 03:43:57.820] Evaluating cascade layer = 0 \n"
     ]
    },
    {
     "name": "stderr",
     "output_type": "stream",
     "text": [
      "Exact explainer:  79%|███████▊  | 162/206 [01:49<00:29,  1.48it/s]"
     ]
    },
    {
     "name": "stdout",
     "output_type": "stream",
     "text": [
      "[2025-07-30 03:43:57.936] Evaluating cascade layer = 1 \n",
      "[2025-07-30 03:43:58.073] Start to evalute the model:\n",
      "[2025-07-30 03:43:58.080] Evaluating cascade layer = 0 \n",
      "[2025-07-30 03:43:58.303] Evaluating cascade layer = 1 \n",
      "[2025-07-30 03:43:58.503] Start to evalute the model:\n",
      "[2025-07-30 03:43:58.503] Evaluating cascade layer = 0 \n"
     ]
    },
    {
     "name": "stderr",
     "output_type": "stream",
     "text": [
      "Exact explainer:  79%|███████▉  | 163/206 [01:49<00:29,  1.46it/s]"
     ]
    },
    {
     "name": "stdout",
     "output_type": "stream",
     "text": [
      "[2025-07-30 03:43:58.636] Evaluating cascade layer = 1 \n",
      "[2025-07-30 03:43:58.773] Start to evalute the model:\n",
      "[2025-07-30 03:43:58.780] Evaluating cascade layer = 0 \n",
      "[2025-07-30 03:43:58.985] Evaluating cascade layer = 1 \n",
      "[2025-07-30 03:43:59.186] Start to evalute the model:\n",
      "[2025-07-30 03:43:59.186] Evaluating cascade layer = 0 \n",
      "[2025-07-30 03:43:59.320] Evaluating cascade layer = 1 \n"
     ]
    },
    {
     "name": "stderr",
     "output_type": "stream",
     "text": [
      "Exact explainer:  80%|███████▉  | 164/206 [01:50<00:28,  1.46it/s]"
     ]
    },
    {
     "name": "stdout",
     "output_type": "stream",
     "text": [
      "[2025-07-30 03:43:59.453] Start to evalute the model:\n",
      "[2025-07-30 03:43:59.453] Evaluating cascade layer = 0 \n",
      "[2025-07-30 03:43:59.670] Evaluating cascade layer = 1 \n",
      "[2025-07-30 03:43:59.871] Start to evalute the model:\n",
      "[2025-07-30 03:43:59.872] Evaluating cascade layer = 0 \n"
     ]
    },
    {
     "name": "stderr",
     "output_type": "stream",
     "text": [
      "Exact explainer:  80%|████████  | 165/206 [01:51<00:28,  1.46it/s]"
     ]
    },
    {
     "name": "stdout",
     "output_type": "stream",
     "text": [
      "[2025-07-30 03:44:00.019] Evaluating cascade layer = 1 \n",
      "[2025-07-30 03:44:00.136] Start to evalute the model:\n",
      "[2025-07-30 03:44:00.136] Evaluating cascade layer = 0 \n",
      "[2025-07-30 03:44:00.353] Evaluating cascade layer = 1 \n",
      "[2025-07-30 03:44:00.553] Start to evalute the model:\n",
      "[2025-07-30 03:44:00.553] Evaluating cascade layer = 0 \n"
     ]
    },
    {
     "name": "stderr",
     "output_type": "stream",
     "text": [
      "Exact explainer:  81%|████████  | 166/206 [01:52<00:27,  1.47it/s]"
     ]
    },
    {
     "name": "stdout",
     "output_type": "stream",
     "text": [
      "[2025-07-30 03:44:00.685] Evaluating cascade layer = 1 \n",
      "[2025-07-30 03:44:00.807] Start to evalute the model:\n",
      "[2025-07-30 03:44:00.807] Evaluating cascade layer = 0 \n",
      "[2025-07-30 03:44:01.036] Evaluating cascade layer = 1 \n",
      "[2025-07-30 03:44:01.236] Start to evalute the model:\n",
      "[2025-07-30 03:44:01.236] Evaluating cascade layer = 0 \n",
      "[2025-07-30 03:44:01.369] Evaluating cascade layer = 1 \n"
     ]
    },
    {
     "name": "stderr",
     "output_type": "stream",
     "text": [
      "Exact explainer:  81%|████████  | 167/206 [01:52<00:26,  1.46it/s]"
     ]
    },
    {
     "name": "stdout",
     "output_type": "stream",
     "text": [
      "[2025-07-30 03:44:01.503] Start to evalute the model:\n",
      "[2025-07-30 03:44:01.503] Evaluating cascade layer = 0 \n",
      "[2025-07-30 03:44:01.719] Evaluating cascade layer = 1 \n",
      "[2025-07-30 03:44:01.920] Start to evalute the model:\n",
      "[2025-07-30 03:44:01.920] Evaluating cascade layer = 0 \n",
      "[2025-07-30 03:44:02.053] Evaluating cascade layer = 1 \n"
     ]
    },
    {
     "name": "stderr",
     "output_type": "stream",
     "text": [
      "Exact explainer:  82%|████████▏ | 168/206 [01:53<00:26,  1.46it/s]"
     ]
    },
    {
     "name": "stdout",
     "output_type": "stream",
     "text": [
      "[2025-07-30 03:44:02.186] Start to evalute the model:\n",
      "[2025-07-30 03:44:02.186] Evaluating cascade layer = 0 \n",
      "[2025-07-30 03:44:02.403] Evaluating cascade layer = 1 \n",
      "[2025-07-30 03:44:02.603] Start to evalute the model:\n",
      "[2025-07-30 03:44:02.603] Evaluating cascade layer = 0 \n",
      "[2025-07-30 03:44:02.702] Evaluating cascade layer = 1 \n"
     ]
    },
    {
     "name": "stderr",
     "output_type": "stream",
     "text": [
      "Exact explainer:  82%|████████▏ | 169/206 [01:54<00:24,  1.48it/s]"
     ]
    },
    {
     "name": "stdout",
     "output_type": "stream",
     "text": [
      "[2025-07-30 03:44:02.840] Start to evalute the model:\n",
      "[2025-07-30 03:44:02.840] Evaluating cascade layer = 0 \n",
      "[2025-07-30 03:44:03.053] Evaluating cascade layer = 1 \n",
      "[2025-07-30 03:44:03.253] Start to evalute the model:\n",
      "[2025-07-30 03:44:03.253] Evaluating cascade layer = 0 \n",
      "[2025-07-30 03:44:03.369] Evaluating cascade layer = 1 \n"
     ]
    },
    {
     "name": "stderr",
     "output_type": "stream",
     "text": [
      "Exact explainer:  83%|████████▎ | 170/206 [01:54<00:24,  1.50it/s]"
     ]
    },
    {
     "name": "stdout",
     "output_type": "stream",
     "text": [
      "[2025-07-30 03:44:03.491] Start to evalute the model:\n",
      "[2025-07-30 03:44:03.491] Evaluating cascade layer = 0 \n",
      "[2025-07-30 03:44:03.702] Evaluating cascade layer = 1 \n",
      "[2025-07-30 03:44:03.903] Start to evalute the model:\n",
      "[2025-07-30 03:44:03.903] Evaluating cascade layer = 0 \n"
     ]
    },
    {
     "name": "stderr",
     "output_type": "stream",
     "text": [
      "Exact explainer:  83%|████████▎ | 171/206 [01:55<00:23,  1.49it/s]"
     ]
    },
    {
     "name": "stdout",
     "output_type": "stream",
     "text": [
      "[2025-07-30 03:44:04.036] Evaluating cascade layer = 1 \n",
      "[2025-07-30 03:44:04.173] Start to evalute the model:\n",
      "[2025-07-30 03:44:04.179] Evaluating cascade layer = 0 \n",
      "[2025-07-30 03:44:04.384] Evaluating cascade layer = 1 \n",
      "[2025-07-30 03:44:04.588] Start to evalute the model:\n",
      "[2025-07-30 03:44:04.589] Evaluating cascade layer = 0 \n"
     ]
    },
    {
     "name": "stderr",
     "output_type": "stream",
     "text": [
      "Exact explainer:  83%|████████▎ | 172/206 [01:56<00:22,  1.49it/s]"
     ]
    },
    {
     "name": "stdout",
     "output_type": "stream",
     "text": [
      "[2025-07-30 03:44:04.703] Evaluating cascade layer = 1 \n",
      "[2025-07-30 03:44:04.836] Start to evalute the model:\n",
      "[2025-07-30 03:44:04.836] Evaluating cascade layer = 0 \n",
      "[2025-07-30 03:44:05.084] Evaluating cascade layer = 1 \n",
      "[2025-07-30 03:44:05.286] Start to evalute the model:\n",
      "[2025-07-30 03:44:05.286] Evaluating cascade layer = 0 \n",
      "[2025-07-30 03:44:05.403] Evaluating cascade layer = 1 \n"
     ]
    },
    {
     "name": "stderr",
     "output_type": "stream",
     "text": [
      "Exact explainer:  84%|████████▍ | 173/206 [01:56<00:22,  1.47it/s]"
     ]
    },
    {
     "name": "stdout",
     "output_type": "stream",
     "text": [
      "[2025-07-30 03:44:05.536] Start to evalute the model:\n",
      "[2025-07-30 03:44:05.536] Evaluating cascade layer = 0 \n",
      "[2025-07-30 03:44:05.753] Evaluating cascade layer = 1 \n",
      "[2025-07-30 03:44:05.953] Start to evalute the model:\n",
      "[2025-07-30 03:44:05.953] Evaluating cascade layer = 0 \n"
     ]
    },
    {
     "name": "stderr",
     "output_type": "stream",
     "text": [
      "Exact explainer:  84%|████████▍ | 174/206 [01:57<00:21,  1.47it/s]"
     ]
    },
    {
     "name": "stdout",
     "output_type": "stream",
     "text": [
      "[2025-07-30 03:44:06.086] Evaluating cascade layer = 1 \n",
      "[2025-07-30 03:44:06.220] Start to evalute the model:\n",
      "[2025-07-30 03:44:06.220] Evaluating cascade layer = 0 \n",
      "[2025-07-30 03:44:06.436] Evaluating cascade layer = 1 \n",
      "[2025-07-30 03:44:06.636] Start to evalute the model:\n",
      "[2025-07-30 03:44:06.636] Evaluating cascade layer = 0 \n"
     ]
    },
    {
     "name": "stderr",
     "output_type": "stream",
     "text": [
      "Exact explainer:  85%|████████▍ | 175/206 [01:58<00:21,  1.47it/s]"
     ]
    },
    {
     "name": "stdout",
     "output_type": "stream",
     "text": [
      "[2025-07-30 03:44:06.769] Evaluating cascade layer = 1 \n",
      "[2025-07-30 03:44:06.903] Start to evalute the model:\n",
      "[2025-07-30 03:44:06.920] Evaluating cascade layer = 0 \n",
      "[2025-07-30 03:44:07.136] Evaluating cascade layer = 1 \n",
      "[2025-07-30 03:44:07.356] Start to evalute the model:\n",
      "[2025-07-30 03:44:07.358] Evaluating cascade layer = 0 \n",
      "[2025-07-30 03:44:07.486] Evaluating cascade layer = 1 \n"
     ]
    },
    {
     "name": "stderr",
     "output_type": "stream",
     "text": [
      "Exact explainer:  85%|████████▌ | 176/206 [01:58<00:20,  1.45it/s]"
     ]
    },
    {
     "name": "stdout",
     "output_type": "stream",
     "text": [
      "[2025-07-30 03:44:07.619] Start to evalute the model:\n",
      "[2025-07-30 03:44:07.619] Evaluating cascade layer = 0 \n",
      "[2025-07-30 03:44:07.836] Evaluating cascade layer = 1 \n",
      "[2025-07-30 03:44:08.036] Start to evalute the model:\n",
      "[2025-07-30 03:44:08.036] Evaluating cascade layer = 0 \n"
     ]
    },
    {
     "name": "stderr",
     "output_type": "stream",
     "text": [
      "Exact explainer:  86%|████████▌ | 177/206 [01:59<00:19,  1.48it/s]"
     ]
    },
    {
     "name": "stdout",
     "output_type": "stream",
     "text": [
      "[2025-07-30 03:44:08.136] Evaluating cascade layer = 1 \n",
      "[2025-07-30 03:44:08.253] Start to evalute the model:\n",
      "[2025-07-30 03:44:08.253] Evaluating cascade layer = 0 \n",
      "[2025-07-30 03:44:08.469] Evaluating cascade layer = 1 \n",
      "[2025-07-30 03:44:08.673] Start to evalute the model:\n",
      "[2025-07-30 03:44:08.673] Evaluating cascade layer = 0 \n"
     ]
    },
    {
     "name": "stderr",
     "output_type": "stream",
     "text": [
      "Exact explainer:  86%|████████▋ | 178/206 [02:00<00:18,  1.48it/s]"
     ]
    },
    {
     "name": "stdout",
     "output_type": "stream",
     "text": [
      "[2025-07-30 03:44:08.802] Evaluating cascade layer = 1 \n",
      "[2025-07-30 03:44:08.936] Start to evalute the model:\n",
      "[2025-07-30 03:44:08.936] Evaluating cascade layer = 0 \n",
      "[2025-07-30 03:44:09.153] Evaluating cascade layer = 1 \n",
      "[2025-07-30 03:44:09.353] Start to evalute the model:\n",
      "[2025-07-30 03:44:09.353] Evaluating cascade layer = 0 \n",
      "[2025-07-30 03:44:09.436] Evaluating cascade layer = 1 \n"
     ]
    },
    {
     "name": "stderr",
     "output_type": "stream",
     "text": [
      "Exact explainer:  87%|████████▋ | 179/206 [02:00<00:18,  1.43it/s]"
     ]
    },
    {
     "name": "stdout",
     "output_type": "stream",
     "text": [
      "[2025-07-30 03:44:09.687] Start to evalute the model:\n",
      "[2025-07-30 03:44:09.703] Evaluating cascade layer = 0 \n",
      "[2025-07-30 03:44:09.919] Evaluating cascade layer = 1 \n",
      "[2025-07-30 03:44:10.119] Start to evalute the model:\n",
      "[2025-07-30 03:44:10.119] Evaluating cascade layer = 0 \n"
     ]
    },
    {
     "name": "stderr",
     "output_type": "stream",
     "text": [
      "Exact explainer:  87%|████████▋ | 180/206 [02:01<00:18,  1.44it/s]"
     ]
    },
    {
     "name": "stdout",
     "output_type": "stream",
     "text": [
      "[2025-07-30 03:44:10.236] Evaluating cascade layer = 1 \n",
      "[2025-07-30 03:44:10.374] Start to evalute the model:\n",
      "[2025-07-30 03:44:10.379] Evaluating cascade layer = 0 \n",
      "[2025-07-30 03:44:10.619] Evaluating cascade layer = 1 \n",
      "[2025-07-30 03:44:10.819] Start to evalute the model:\n",
      "[2025-07-30 03:44:10.819] Evaluating cascade layer = 0 \n"
     ]
    },
    {
     "name": "stderr",
     "output_type": "stream",
     "text": [
      "Exact explainer:  88%|████████▊ | 181/206 [02:02<00:17,  1.44it/s]"
     ]
    },
    {
     "name": "stdout",
     "output_type": "stream",
     "text": [
      "[2025-07-30 03:44:10.936] Evaluating cascade layer = 1 \n",
      "[2025-07-30 03:44:11.073] Start to evalute the model:\n",
      "[2025-07-30 03:44:11.079] Evaluating cascade layer = 0 \n",
      "[2025-07-30 03:44:11.285] Evaluating cascade layer = 1 \n",
      "[2025-07-30 03:44:11.503] Start to evalute the model:\n",
      "[2025-07-30 03:44:11.503] Evaluating cascade layer = 0 \n",
      "[2025-07-30 03:44:11.620] Evaluating cascade layer = 1 \n"
     ]
    },
    {
     "name": "stderr",
     "output_type": "stream",
     "text": [
      "Exact explainer:  88%|████████▊ | 182/206 [02:02<00:16,  1.46it/s]"
     ]
    },
    {
     "name": "stdout",
     "output_type": "stream",
     "text": [
      "[2025-07-30 03:44:11.737] Start to evalute the model:\n",
      "[2025-07-30 03:44:11.757] Evaluating cascade layer = 0 \n",
      "[2025-07-30 03:44:11.970] Evaluating cascade layer = 1 \n",
      "[2025-07-30 03:44:12.172] Start to evalute the model:\n",
      "[2025-07-30 03:44:12.172] Evaluating cascade layer = 0 \n"
     ]
    },
    {
     "name": "stderr",
     "output_type": "stream",
     "text": [
      "Exact explainer:  89%|████████▉ | 183/206 [02:03<00:15,  1.45it/s]"
     ]
    },
    {
     "name": "stdout",
     "output_type": "stream",
     "text": [
      "[2025-07-30 03:44:12.296] Evaluating cascade layer = 1 \n",
      "[2025-07-30 03:44:12.436] Start to evalute the model:\n",
      "[2025-07-30 03:44:12.436] Evaluating cascade layer = 0 \n",
      "[2025-07-30 03:44:12.652] Evaluating cascade layer = 1 \n",
      "[2025-07-30 03:44:12.853] Start to evalute the model:\n",
      "[2025-07-30 03:44:12.853] Evaluating cascade layer = 0 \n"
     ]
    },
    {
     "name": "stderr",
     "output_type": "stream",
     "text": [
      "Exact explainer:  89%|████████▉ | 184/206 [02:04<00:15,  1.45it/s]"
     ]
    },
    {
     "name": "stdout",
     "output_type": "stream",
     "text": [
      "[2025-07-30 03:44:12.984] Evaluating cascade layer = 1 \n",
      "[2025-07-30 03:44:13.120] Start to evalute the model:\n",
      "[2025-07-30 03:44:13.120] Evaluating cascade layer = 0 \n",
      "[2025-07-30 03:44:13.336] Evaluating cascade layer = 1 \n",
      "[2025-07-30 03:44:13.536] Start to evalute the model:\n",
      "[2025-07-30 03:44:13.536] Evaluating cascade layer = 0 \n"
     ]
    },
    {
     "name": "stderr",
     "output_type": "stream",
     "text": [
      "Exact explainer:  90%|████████▉ | 185/206 [02:05<00:14,  1.46it/s]"
     ]
    },
    {
     "name": "stdout",
     "output_type": "stream",
     "text": [
      "[2025-07-30 03:44:13.670] Evaluating cascade layer = 1 \n",
      "[2025-07-30 03:44:13.803] Start to evalute the model:\n",
      "[2025-07-30 03:44:13.820] Evaluating cascade layer = 0 \n",
      "[2025-07-30 03:44:14.019] Evaluating cascade layer = 1 \n",
      "[2025-07-30 03:44:14.220] Start to evalute the model:\n",
      "[2025-07-30 03:44:14.220] Evaluating cascade layer = 0 \n"
     ]
    },
    {
     "name": "stderr",
     "output_type": "stream",
     "text": [
      "Exact explainer:  90%|█████████ | 186/206 [02:05<00:13,  1.46it/s]"
     ]
    },
    {
     "name": "stdout",
     "output_type": "stream",
     "text": [
      "[2025-07-30 03:44:14.353] Evaluating cascade layer = 1 \n",
      "[2025-07-30 03:44:14.486] Start to evalute the model:\n",
      "[2025-07-30 03:44:14.486] Evaluating cascade layer = 0 \n",
      "[2025-07-30 03:44:14.703] Evaluating cascade layer = 1 \n",
      "[2025-07-30 03:44:14.903] Start to evalute the model:\n",
      "[2025-07-30 03:44:14.903] Evaluating cascade layer = 0 \n"
     ]
    },
    {
     "name": "stderr",
     "output_type": "stream",
     "text": [
      "Exact explainer:  91%|█████████ | 187/206 [02:06<00:12,  1.48it/s]"
     ]
    },
    {
     "name": "stdout",
     "output_type": "stream",
     "text": [
      "[2025-07-30 03:44:15.004] Evaluating cascade layer = 1 \n",
      "[2025-07-30 03:44:15.136] Start to evalute the model:\n",
      "[2025-07-30 03:44:15.136] Evaluating cascade layer = 0 \n",
      "[2025-07-30 03:44:15.353] Evaluating cascade layer = 1 \n",
      "[2025-07-30 03:44:15.555] Start to evalute the model:\n",
      "[2025-07-30 03:44:15.555] Evaluating cascade layer = 0 \n"
     ]
    },
    {
     "name": "stderr",
     "output_type": "stream",
     "text": [
      "Exact explainer:  91%|█████████▏| 188/206 [02:07<00:12,  1.49it/s]"
     ]
    },
    {
     "name": "stdout",
     "output_type": "stream",
     "text": [
      "[2025-07-30 03:44:15.670] Evaluating cascade layer = 1 \n",
      "[2025-07-30 03:44:15.803] Start to evalute the model:\n",
      "[2025-07-30 03:44:15.803] Evaluating cascade layer = 0 \n",
      "[2025-07-30 03:44:16.020] Evaluating cascade layer = 1 \n",
      "[2025-07-30 03:44:16.220] Start to evalute the model:\n",
      "[2025-07-30 03:44:16.220] Evaluating cascade layer = 0 \n"
     ]
    },
    {
     "name": "stderr",
     "output_type": "stream",
     "text": [
      "Exact explainer:  92%|█████████▏| 189/206 [02:07<00:11,  1.49it/s]"
     ]
    },
    {
     "name": "stdout",
     "output_type": "stream",
     "text": [
      "[2025-07-30 03:44:16.336] Evaluating cascade layer = 1 \n",
      "[2025-07-30 03:44:16.473] Start to evalute the model:\n",
      "[2025-07-30 03:44:16.478] Evaluating cascade layer = 0 \n",
      "[2025-07-30 03:44:16.736] Evaluating cascade layer = 1 \n",
      "[2025-07-30 03:44:16.953] Start to evalute the model:\n",
      "[2025-07-30 03:44:16.953] Evaluating cascade layer = 0 \n",
      "[2025-07-30 03:44:17.070] Evaluating cascade layer = 1 \n"
     ]
    },
    {
     "name": "stderr",
     "output_type": "stream",
     "text": [
      "Exact explainer:  92%|█████████▏| 190/206 [02:08<00:11,  1.45it/s]"
     ]
    },
    {
     "name": "stdout",
     "output_type": "stream",
     "text": [
      "[2025-07-30 03:44:17.203] Start to evalute the model:\n",
      "[2025-07-30 03:44:17.203] Evaluating cascade layer = 0 \n",
      "[2025-07-30 03:44:17.420] Evaluating cascade layer = 1 \n",
      "[2025-07-30 03:44:17.620] Start to evalute the model:\n",
      "[2025-07-30 03:44:17.620] Evaluating cascade layer = 0 \n"
     ]
    },
    {
     "name": "stderr",
     "output_type": "stream",
     "text": [
      "Exact explainer:  93%|█████████▎| 191/206 [02:09<00:10,  1.49it/s]"
     ]
    },
    {
     "name": "stdout",
     "output_type": "stream",
     "text": [
      "[2025-07-30 03:44:17.720] Evaluating cascade layer = 1 \n",
      "[2025-07-30 03:44:17.836] Start to evalute the model:\n",
      "[2025-07-30 03:44:17.836] Evaluating cascade layer = 0 \n",
      "[2025-07-30 03:44:18.020] Evaluating cascade layer = 1 \n",
      "[2025-07-30 03:44:18.220] Start to evalute the model:\n",
      "[2025-07-30 03:44:18.220] Evaluating cascade layer = 0 \n"
     ]
    },
    {
     "name": "stderr",
     "output_type": "stream",
     "text": [
      "Exact explainer:  93%|█████████▎| 192/206 [02:09<00:09,  1.51it/s]"
     ]
    },
    {
     "name": "stdout",
     "output_type": "stream",
     "text": [
      "[2025-07-30 03:44:18.336] Evaluating cascade layer = 1 \n",
      "[2025-07-30 03:44:18.473] Start to evalute the model:\n",
      "[2025-07-30 03:44:18.478] Evaluating cascade layer = 0 \n",
      "[2025-07-30 03:44:18.653] Evaluating cascade layer = 1 \n",
      "[2025-07-30 03:44:18.853] Start to evalute the model:\n",
      "[2025-07-30 03:44:18.853] Evaluating cascade layer = 0 \n"
     ]
    },
    {
     "name": "stderr",
     "output_type": "stream",
     "text": [
      "Exact explainer:  94%|█████████▎| 193/206 [02:10<00:08,  1.52it/s]"
     ]
    },
    {
     "name": "stdout",
     "output_type": "stream",
     "text": [
      "[2025-07-30 03:44:18.986] Evaluating cascade layer = 1 \n",
      "[2025-07-30 03:44:19.120] Start to evalute the model:\n",
      "[2025-07-30 03:44:19.140] Evaluating cascade layer = 0 \n",
      "[2025-07-30 03:44:19.320] Evaluating cascade layer = 1 \n",
      "[2025-07-30 03:44:19.520] Start to evalute the model:\n",
      "[2025-07-30 03:44:19.520] Evaluating cascade layer = 0 \n"
     ]
    },
    {
     "name": "stderr",
     "output_type": "stream",
     "text": [
      "Exact explainer:  94%|█████████▍| 194/206 [02:10<00:07,  1.53it/s]"
     ]
    },
    {
     "name": "stdout",
     "output_type": "stream",
     "text": [
      "[2025-07-30 03:44:19.636] Evaluating cascade layer = 1 \n",
      "[2025-07-30 03:44:19.773] Start to evalute the model:\n",
      "[2025-07-30 03:44:19.778] Evaluating cascade layer = 0 \n",
      "[2025-07-30 03:44:19.969] Evaluating cascade layer = 1 \n",
      "[2025-07-30 03:44:20.171] Start to evalute the model:\n",
      "[2025-07-30 03:44:20.172] Evaluating cascade layer = 0 \n"
     ]
    },
    {
     "name": "stderr",
     "output_type": "stream",
     "text": [
      "Exact explainer:  95%|█████████▍| 195/206 [02:11<00:07,  1.53it/s]"
     ]
    },
    {
     "name": "stdout",
     "output_type": "stream",
     "text": [
      "[2025-07-30 03:44:20.286] Evaluating cascade layer = 1 \n",
      "[2025-07-30 03:44:20.424] Start to evalute the model:\n",
      "[2025-07-30 03:44:20.424] Evaluating cascade layer = 0 \n",
      "[2025-07-30 03:44:20.636] Evaluating cascade layer = 1 \n",
      "[2025-07-30 03:44:20.855] Start to evalute the model:\n",
      "[2025-07-30 03:44:20.856] Evaluating cascade layer = 0 \n",
      "[2025-07-30 03:44:20.969] Evaluating cascade layer = 1 \n"
     ]
    },
    {
     "name": "stderr",
     "output_type": "stream",
     "text": [
      "Exact explainer:  95%|█████████▌| 196/206 [02:12<00:06,  1.51it/s]"
     ]
    },
    {
     "name": "stdout",
     "output_type": "stream",
     "text": [
      "[2025-07-30 03:44:21.103] Start to evalute the model:\n",
      "[2025-07-30 03:44:21.103] Evaluating cascade layer = 0 \n",
      "[2025-07-30 03:44:21.303] Evaluating cascade layer = 1 \n",
      "[2025-07-30 03:44:21.503] Start to evalute the model:\n",
      "[2025-07-30 03:44:21.503] Evaluating cascade layer = 0 \n"
     ]
    },
    {
     "name": "stderr",
     "output_type": "stream",
     "text": [
      "Exact explainer:  96%|█████████▌| 197/206 [02:12<00:05,  1.53it/s]"
     ]
    },
    {
     "name": "stdout",
     "output_type": "stream",
     "text": [
      "[2025-07-30 03:44:21.620] Evaluating cascade layer = 1 \n",
      "[2025-07-30 03:44:21.736] Start to evalute the model:\n",
      "[2025-07-30 03:44:21.753] Evaluating cascade layer = 0 \n",
      "[2025-07-30 03:44:22.003] Evaluating cascade layer = 1 \n",
      "[2025-07-30 03:44:22.203] Start to evalute the model:\n",
      "[2025-07-30 03:44:22.203] Evaluating cascade layer = 0 \n"
     ]
    },
    {
     "name": "stderr",
     "output_type": "stream",
     "text": [
      "Exact explainer:  96%|█████████▌| 198/206 [02:13<00:05,  1.49it/s]"
     ]
    },
    {
     "name": "stdout",
     "output_type": "stream",
     "text": [
      "[2025-07-30 03:44:22.336] Evaluating cascade layer = 1 \n",
      "[2025-07-30 03:44:22.457] Start to evalute the model:\n",
      "[2025-07-30 03:44:22.457] Evaluating cascade layer = 0 \n",
      "[2025-07-30 03:44:22.636] Evaluating cascade layer = 1 \n",
      "[2025-07-30 03:44:22.837] Start to evalute the model:\n",
      "[2025-07-30 03:44:22.837] Evaluating cascade layer = 0 \n"
     ]
    },
    {
     "name": "stderr",
     "output_type": "stream",
     "text": [
      "Exact explainer:  97%|█████████▋| 199/206 [02:14<00:04,  1.50it/s]"
     ]
    },
    {
     "name": "stdout",
     "output_type": "stream",
     "text": [
      "[2025-07-30 03:44:22.969] Evaluating cascade layer = 1 \n",
      "[2025-07-30 03:44:23.103] Start to evalute the model:\n",
      "[2025-07-30 03:44:23.103] Evaluating cascade layer = 0 \n",
      "[2025-07-30 03:44:23.319] Evaluating cascade layer = 1 \n",
      "[2025-07-30 03:44:23.520] Start to evalute the model:\n",
      "[2025-07-30 03:44:23.520] Evaluating cascade layer = 0 \n"
     ]
    },
    {
     "name": "stderr",
     "output_type": "stream",
     "text": [
      "Exact explainer:  97%|█████████▋| 200/206 [02:15<00:04,  1.49it/s]"
     ]
    },
    {
     "name": "stdout",
     "output_type": "stream",
     "text": [
      "[2025-07-30 03:44:23.653] Evaluating cascade layer = 1 \n",
      "[2025-07-30 03:44:23.787] Start to evalute the model:\n",
      "[2025-07-30 03:44:23.787] Evaluating cascade layer = 0 \n",
      "[2025-07-30 03:44:24.003] Evaluating cascade layer = 1 \n",
      "[2025-07-30 03:44:24.203] Start to evalute the model:\n",
      "[2025-07-30 03:44:24.203] Evaluating cascade layer = 0 \n"
     ]
    },
    {
     "name": "stderr",
     "output_type": "stream",
     "text": [
      "Exact explainer:  98%|█████████▊| 201/206 [02:15<00:03,  1.50it/s]"
     ]
    },
    {
     "name": "stdout",
     "output_type": "stream",
     "text": [
      "[2025-07-30 03:44:24.303] Evaluating cascade layer = 1 \n",
      "[2025-07-30 03:44:24.437] Start to evalute the model:\n",
      "[2025-07-30 03:44:24.437] Evaluating cascade layer = 0 \n",
      "[2025-07-30 03:44:24.653] Evaluating cascade layer = 1 \n",
      "[2025-07-30 03:44:24.853] Start to evalute the model:\n",
      "[2025-07-30 03:44:24.853] Evaluating cascade layer = 0 \n"
     ]
    },
    {
     "name": "stderr",
     "output_type": "stream",
     "text": [
      "Exact explainer:  98%|█████████▊| 202/206 [02:16<00:02,  1.50it/s]"
     ]
    },
    {
     "name": "stdout",
     "output_type": "stream",
     "text": [
      "[2025-07-30 03:44:24.969] Evaluating cascade layer = 1 \n",
      "[2025-07-30 03:44:25.103] Start to evalute the model:\n",
      "[2025-07-30 03:44:25.103] Evaluating cascade layer = 0 \n",
      "[2025-07-30 03:44:25.302] Evaluating cascade layer = 1 \n",
      "[2025-07-30 03:44:25.503] Start to evalute the model:\n",
      "[2025-07-30 03:44:25.503] Evaluating cascade layer = 0 \n"
     ]
    },
    {
     "name": "stderr",
     "output_type": "stream",
     "text": [
      "Exact explainer:  99%|█████████▊| 203/206 [02:16<00:01,  1.51it/s]"
     ]
    },
    {
     "name": "stdout",
     "output_type": "stream",
     "text": [
      "[2025-07-30 03:44:25.636] Evaluating cascade layer = 1 \n",
      "[2025-07-30 03:44:25.754] Start to evalute the model:\n",
      "[2025-07-30 03:44:25.754] Evaluating cascade layer = 0 \n",
      "[2025-07-30 03:44:25.969] Evaluating cascade layer = 1 \n",
      "[2025-07-30 03:44:26.172] Start to evalute the model:\n",
      "[2025-07-30 03:44:26.172] Evaluating cascade layer = 0 \n"
     ]
    },
    {
     "name": "stderr",
     "output_type": "stream",
     "text": [
      "Exact explainer:  99%|█████████▉| 204/206 [02:17<00:01,  1.49it/s]"
     ]
    },
    {
     "name": "stdout",
     "output_type": "stream",
     "text": [
      "[2025-07-30 03:44:26.284] Evaluating cascade layer = 1 \n",
      "[2025-07-30 03:44:26.453] Start to evalute the model:\n",
      "[2025-07-30 03:44:26.470] Evaluating cascade layer = 0 \n",
      "[2025-07-30 03:44:26.703] Evaluating cascade layer = 1 \n",
      "[2025-07-30 03:44:26.903] Start to evalute the model:\n",
      "[2025-07-30 03:44:26.903] Evaluating cascade layer = 0 \n"
     ]
    },
    {
     "name": "stderr",
     "output_type": "stream",
     "text": [
      "Exact explainer: 100%|█████████▉| 205/206 [02:18<00:00,  1.47it/s]"
     ]
    },
    {
     "name": "stdout",
     "output_type": "stream",
     "text": [
      "[2025-07-30 03:44:27.020] Evaluating cascade layer = 1 \n",
      "[2025-07-30 03:44:27.153] Start to evalute the model:\n",
      "[2025-07-30 03:44:27.153] Evaluating cascade layer = 0 \n",
      "[2025-07-30 03:44:27.369] Evaluating cascade layer = 1 \n",
      "[2025-07-30 03:44:27.572] Start to evalute the model:\n",
      "[2025-07-30 03:44:27.572] Evaluating cascade layer = 0 \n"
     ]
    },
    {
     "name": "stderr",
     "output_type": "stream",
     "text": [
      "Exact explainer: 100%|██████████| 206/206 [02:19<00:00,  1.47it/s]"
     ]
    },
    {
     "name": "stdout",
     "output_type": "stream",
     "text": [
      "[2025-07-30 03:44:27.703] Evaluating cascade layer = 1 \n",
      "[2025-07-30 03:44:27.836] Start to evalute the model:\n",
      "[2025-07-30 03:44:27.836] Evaluating cascade layer = 0 \n",
      "[2025-07-30 03:44:28.053] Evaluating cascade layer = 1 \n",
      "[2025-07-30 03:44:28.253] Start to evalute the model:\n",
      "[2025-07-30 03:44:28.253] Evaluating cascade layer = 0 \n"
     ]
    },
    {
     "name": "stderr",
     "output_type": "stream",
     "text": [
      "Exact explainer: 207it [02:19,  1.37it/s]                         "
     ]
    },
    {
     "name": "stdout",
     "output_type": "stream",
     "text": [
      "[2025-07-30 03:44:28.369] Evaluating cascade layer = 1 \n",
      "Fold 4...\n",
      "[2025-07-30 03:44:28.486] Start to fit the model:\n",
      "[2025-07-30 03:44:28.486] Fitting cascade layer = 0 \n"
     ]
    },
    {
     "name": "stderr",
     "output_type": "stream",
     "text": [
      "\n"
     ]
    },
    {
     "name": "stdout",
     "output_type": "stream",
     "text": [
      "[2025-07-30 03:44:29.214] layer = 0  | Val MSE = 28.55036 | Elapsed = 0.727 s\n",
      "[2025-07-30 03:44:29.220] Fitting cascade layer = 1 \n",
      "[2025-07-30 03:44:30.171] layer = 1  | Val MSE = 22.56466 | Elapsed = 0.952 s\n",
      "[2025-07-30 03:44:30.179] Fitting cascade layer = 2 \n",
      "[2025-07-30 03:44:31.037] layer = 2  | Val MSE = 25.22697 | Elapsed = 0.858 s\n",
      "[2025-07-30 03:44:31.038] Early stopping counter: 1 out of 2\n",
      "[2025-07-30 03:44:31.041] Fitting cascade layer = 3 \n",
      "[2025-07-30 03:44:31.970] layer = 3  | Val MSE = 26.97367 | Elapsed = 0.929 s\n",
      "[2025-07-30 03:44:31.971] Early stopping counter: 2 out of 2\n",
      "[2025-07-30 03:44:31.971] Handling early stopping\n",
      "[2025-07-30 03:44:31.972] The optimal number of layers: 2\n",
      "[2025-07-30 03:44:31.986] Start to evalute the model:\n",
      "[2025-07-30 03:44:31.987] Evaluating cascade layer = 0 \n",
      "[2025-07-30 03:44:32.203] Evaluating cascade layer = 1 \n",
      "[2025-07-30 03:44:32.403] Start to evalute the model:\n",
      "[2025-07-30 03:44:32.403] Evaluating cascade layer = 0 \n",
      "[2025-07-30 03:44:32.620] Evaluating cascade layer = 1 \n",
      "[2025-07-30 03:44:32.820] Start to evalute the model:\n",
      "[2025-07-30 03:44:32.820] Evaluating cascade layer = 0 \n",
      "[2025-07-30 03:44:32.969] Evaluating cascade layer = 1 \n",
      "[2025-07-30 03:44:33.120] Start to evalute the model:\n",
      "[2025-07-30 03:44:33.120] Evaluating cascade layer = 0 \n",
      "[2025-07-30 03:44:33.352] Evaluating cascade layer = 1 \n",
      "[2025-07-30 03:44:33.553] Start to evalute the model:\n",
      "[2025-07-30 03:44:33.553] Evaluating cascade layer = 0 \n",
      "[2025-07-30 03:44:33.684] Evaluating cascade layer = 1 \n",
      "[2025-07-30 03:44:33.820] Start to evalute the model:\n",
      "[2025-07-30 03:44:33.820] Evaluating cascade layer = 0 \n",
      "[2025-07-30 03:44:34.036] Evaluating cascade layer = 1 \n",
      "[2025-07-30 03:44:34.236] Start to evalute the model:\n",
      "[2025-07-30 03:44:34.236] Evaluating cascade layer = 0 \n",
      "[2025-07-30 03:44:34.352] Evaluating cascade layer = 1 \n",
      "[2025-07-30 03:44:34.490] Start to evalute the model:\n",
      "[2025-07-30 03:44:34.490] Evaluating cascade layer = 0 \n",
      "[2025-07-30 03:44:34.703] Evaluating cascade layer = 1 \n",
      "[2025-07-30 03:44:34.905] Start to evalute the model:\n",
      "[2025-07-30 03:44:34.905] Evaluating cascade layer = 0 \n",
      "[2025-07-30 03:44:35.019] Evaluating cascade layer = 1 \n",
      "[2025-07-30 03:44:35.136] Start to evalute the model:\n",
      "[2025-07-30 03:44:35.136] Evaluating cascade layer = 0 \n",
      "[2025-07-30 03:44:35.353] Evaluating cascade layer = 1 \n",
      "[2025-07-30 03:44:35.556] Start to evalute the model:\n",
      "[2025-07-30 03:44:35.557] Evaluating cascade layer = 0 \n",
      "[2025-07-30 03:44:35.653] Evaluating cascade layer = 1 \n",
      "[2025-07-30 03:44:35.787] Start to evalute the model:\n",
      "[2025-07-30 03:44:35.787] Evaluating cascade layer = 0 \n",
      "[2025-07-30 03:44:36.003] Evaluating cascade layer = 1 \n",
      "[2025-07-30 03:44:36.203] Start to evalute the model:\n",
      "[2025-07-30 03:44:36.203] Evaluating cascade layer = 0 \n",
      "[2025-07-30 03:44:36.320] Evaluating cascade layer = 1 \n",
      "[2025-07-30 03:44:36.436] Start to evalute the model:\n",
      "[2025-07-30 03:44:36.436] Evaluating cascade layer = 0 \n",
      "[2025-07-30 03:44:36.638] Evaluating cascade layer = 1 \n",
      "[2025-07-30 03:44:36.836] Start to evalute the model:\n",
      "[2025-07-30 03:44:36.836] Evaluating cascade layer = 0 \n",
      "[2025-07-30 03:44:36.963] Evaluating cascade layer = 1 \n",
      "[2025-07-30 03:44:37.074] Start to evalute the model:\n",
      "[2025-07-30 03:44:37.080] Evaluating cascade layer = 0 \n",
      "[2025-07-30 03:44:37.303] Evaluating cascade layer = 1 \n",
      "[2025-07-30 03:44:37.503] Start to evalute the model:\n",
      "[2025-07-30 03:44:37.503] Evaluating cascade layer = 0 \n",
      "[2025-07-30 03:44:37.636] Evaluating cascade layer = 1 \n",
      "[2025-07-30 03:44:37.773] Start to evalute the model:\n",
      "[2025-07-30 03:44:37.786] Evaluating cascade layer = 0 \n",
      "[2025-07-30 03:44:37.984] Evaluating cascade layer = 1 \n",
      "[2025-07-30 03:44:38.186] Start to evalute the model:\n",
      "[2025-07-30 03:44:38.186] Evaluating cascade layer = 0 \n",
      "[2025-07-30 03:44:38.303] Evaluating cascade layer = 1 \n",
      "[2025-07-30 03:44:38.436] Start to evalute the model:\n",
      "[2025-07-30 03:44:38.436] Evaluating cascade layer = 0 \n",
      "[2025-07-30 03:44:38.653] Evaluating cascade layer = 1 \n",
      "[2025-07-30 03:44:38.853] Start to evalute the model:\n",
      "[2025-07-30 03:44:38.853] Evaluating cascade layer = 0 \n",
      "[2025-07-30 03:44:38.969] Evaluating cascade layer = 1 \n",
      "[2025-07-30 03:44:39.121] Start to evalute the model:\n",
      "[2025-07-30 03:44:39.121] Evaluating cascade layer = 0 \n",
      "[2025-07-30 03:44:39.337] Evaluating cascade layer = 1 \n",
      "[2025-07-30 03:44:39.537] Start to evalute the model:\n",
      "[2025-07-30 03:44:39.537] Evaluating cascade layer = 0 \n",
      "[2025-07-30 03:44:39.669] Evaluating cascade layer = 1 \n",
      "[2025-07-30 03:44:39.803] Start to evalute the model:\n",
      "[2025-07-30 03:44:39.803] Evaluating cascade layer = 0 \n",
      "[2025-07-30 03:44:40.020] Evaluating cascade layer = 1 \n",
      "[2025-07-30 03:44:40.223] Start to evalute the model:\n",
      "[2025-07-30 03:44:40.223] Evaluating cascade layer = 0 \n",
      "[2025-07-30 03:44:40.336] Evaluating cascade layer = 1 \n",
      "[2025-07-30 03:44:40.473] Start to evalute the model:\n",
      "[2025-07-30 03:44:40.478] Evaluating cascade layer = 0 \n",
      "[2025-07-30 03:44:40.669] Evaluating cascade layer = 1 \n",
      "[2025-07-30 03:44:40.873] Start to evalute the model:\n",
      "[2025-07-30 03:44:40.874] Evaluating cascade layer = 0 \n",
      "[2025-07-30 03:44:40.986] Evaluating cascade layer = 1 \n",
      "[2025-07-30 03:44:41.120] Start to evalute the model:\n",
      "[2025-07-30 03:44:41.120] Evaluating cascade layer = 0 \n",
      "[2025-07-30 03:44:41.303] Evaluating cascade layer = 1 \n",
      "[2025-07-30 03:44:41.505] Start to evalute the model:\n",
      "[2025-07-30 03:44:41.506] Evaluating cascade layer = 0 \n",
      "[2025-07-30 03:44:41.602] Evaluating cascade layer = 1 \n",
      "[2025-07-30 03:44:41.736] Start to evalute the model:\n",
      "[2025-07-30 03:44:41.736] Evaluating cascade layer = 0 \n",
      "[2025-07-30 03:44:41.919] Evaluating cascade layer = 1 \n",
      "[2025-07-30 03:44:42.120] Start to evalute the model:\n",
      "[2025-07-30 03:44:42.120] Evaluating cascade layer = 0 \n",
      "[2025-07-30 03:44:42.253] Evaluating cascade layer = 1 \n"
     ]
    },
    {
     "name": "stderr",
     "output_type": "stream",
     "text": [
      "Exact explainer:   8%|▊         | 16/206 [00:00<?, ?it/s]"
     ]
    },
    {
     "name": "stdout",
     "output_type": "stream",
     "text": [
      "[2025-07-30 03:44:42.386] Start to evalute the model:\n",
      "[2025-07-30 03:44:42.386] Evaluating cascade layer = 0 \n",
      "[2025-07-30 03:44:42.586] Evaluating cascade layer = 1 \n",
      "[2025-07-30 03:44:42.787] Start to evalute the model:\n",
      "[2025-07-30 03:44:42.787] Evaluating cascade layer = 0 \n",
      "[2025-07-30 03:44:42.920] Evaluating cascade layer = 1 \n"
     ]
    },
    {
     "name": "stderr",
     "output_type": "stream",
     "text": [
      "Exact explainer:   9%|▊         | 18/206 [00:11<01:02,  3.00it/s]"
     ]
    },
    {
     "name": "stdout",
     "output_type": "stream",
     "text": [
      "[2025-07-30 03:44:43.053] Start to evalute the model:\n",
      "[2025-07-30 03:44:43.053] Evaluating cascade layer = 0 \n",
      "[2025-07-30 03:44:43.304] Evaluating cascade layer = 1 \n",
      "[2025-07-30 03:44:43.503] Start to evalute the model:\n",
      "[2025-07-30 03:44:43.503] Evaluating cascade layer = 0 \n"
     ]
    },
    {
     "name": "stderr",
     "output_type": "stream",
     "text": [
      "Exact explainer:   9%|▉         | 19/206 [00:11<01:32,  2.03it/s]"
     ]
    },
    {
     "name": "stdout",
     "output_type": "stream",
     "text": [
      "[2025-07-30 03:44:43.636] Evaluating cascade layer = 1 \n",
      "[2025-07-30 03:44:43.774] Start to evalute the model:\n",
      "[2025-07-30 03:44:43.781] Evaluating cascade layer = 0 \n",
      "[2025-07-30 03:44:43.986] Evaluating cascade layer = 1 \n",
      "[2025-07-30 03:44:44.189] Start to evalute the model:\n",
      "[2025-07-30 03:44:44.189] Evaluating cascade layer = 0 \n"
     ]
    },
    {
     "name": "stderr",
     "output_type": "stream",
     "text": [
      "Exact explainer:  10%|▉         | 20/206 [00:12<01:41,  1.83it/s]"
     ]
    },
    {
     "name": "stdout",
     "output_type": "stream",
     "text": [
      "[2025-07-30 03:44:44.284] Evaluating cascade layer = 1 \n",
      "[2025-07-30 03:44:44.407] Start to evalute the model:\n",
      "[2025-07-30 03:44:44.407] Evaluating cascade layer = 0 \n",
      "[2025-07-30 03:44:44.619] Evaluating cascade layer = 1 \n",
      "[2025-07-30 03:44:44.820] Start to evalute the model:\n",
      "[2025-07-30 03:44:44.820] Evaluating cascade layer = 0 \n"
     ]
    },
    {
     "name": "stderr",
     "output_type": "stream",
     "text": [
      "Exact explainer:  10%|█         | 21/206 [00:13<01:48,  1.70it/s]"
     ]
    },
    {
     "name": "stdout",
     "output_type": "stream",
     "text": [
      "[2025-07-30 03:44:44.952] Evaluating cascade layer = 1 \n",
      "[2025-07-30 03:44:45.075] Start to evalute the model:\n",
      "[2025-07-30 03:44:45.083] Evaluating cascade layer = 0 \n",
      "[2025-07-30 03:44:45.287] Evaluating cascade layer = 1 \n",
      "[2025-07-30 03:44:45.488] Start to evalute the model:\n",
      "[2025-07-30 03:44:45.489] Evaluating cascade layer = 0 \n"
     ]
    },
    {
     "name": "stderr",
     "output_type": "stream",
     "text": [
      "Exact explainer:  11%|█         | 22/206 [00:13<01:53,  1.62it/s]"
     ]
    },
    {
     "name": "stdout",
     "output_type": "stream",
     "text": [
      "[2025-07-30 03:44:45.620] Evaluating cascade layer = 1 \n",
      "[2025-07-30 03:44:45.753] Start to evalute the model:\n",
      "[2025-07-30 03:44:45.753] Evaluating cascade layer = 0 \n",
      "[2025-07-30 03:44:45.969] Evaluating cascade layer = 1 \n",
      "[2025-07-30 03:44:46.173] Start to evalute the model:\n",
      "[2025-07-30 03:44:46.173] Evaluating cascade layer = 0 \n"
     ]
    },
    {
     "name": "stderr",
     "output_type": "stream",
     "text": [
      "Exact explainer:  11%|█         | 23/206 [00:14<01:57,  1.56it/s]"
     ]
    },
    {
     "name": "stdout",
     "output_type": "stream",
     "text": [
      "[2025-07-30 03:44:46.303] Evaluating cascade layer = 1 \n",
      "[2025-07-30 03:44:46.436] Start to evalute the model:\n",
      "[2025-07-30 03:44:46.436] Evaluating cascade layer = 0 \n",
      "[2025-07-30 03:44:46.653] Evaluating cascade layer = 1 \n",
      "[2025-07-30 03:44:46.853] Start to evalute the model:\n",
      "[2025-07-30 03:44:46.853] Evaluating cascade layer = 0 \n"
     ]
    },
    {
     "name": "stderr",
     "output_type": "stream",
     "text": [
      "Exact explainer:  12%|█▏        | 24/206 [00:15<01:56,  1.56it/s]"
     ]
    },
    {
     "name": "stdout",
     "output_type": "stream",
     "text": [
      "[2025-07-30 03:44:46.952] Evaluating cascade layer = 1 \n",
      "[2025-07-30 03:44:47.086] Start to evalute the model:\n",
      "[2025-07-30 03:44:47.086] Evaluating cascade layer = 0 \n",
      "[2025-07-30 03:44:47.303] Evaluating cascade layer = 1 \n",
      "[2025-07-30 03:44:47.503] Start to evalute the model:\n",
      "[2025-07-30 03:44:47.503] Evaluating cascade layer = 0 \n"
     ]
    },
    {
     "name": "stderr",
     "output_type": "stream",
     "text": [
      "Exact explainer:  12%|█▏        | 25/206 [00:15<01:56,  1.55it/s]"
     ]
    },
    {
     "name": "stdout",
     "output_type": "stream",
     "text": [
      "[2025-07-30 03:44:47.602] Evaluating cascade layer = 1 \n",
      "[2025-07-30 03:44:47.736] Start to evalute the model:\n",
      "[2025-07-30 03:44:47.736] Evaluating cascade layer = 0 \n",
      "[2025-07-30 03:44:47.985] Evaluating cascade layer = 1 \n",
      "[2025-07-30 03:44:48.189] Start to evalute the model:\n",
      "[2025-07-30 03:44:48.189] Evaluating cascade layer = 0 \n",
      "[2025-07-30 03:44:48.320] Evaluating cascade layer = 1 \n"
     ]
    },
    {
     "name": "stderr",
     "output_type": "stream",
     "text": [
      "Exact explainer:  13%|█▎        | 26/206 [00:16<02:00,  1.50it/s]"
     ]
    },
    {
     "name": "stdout",
     "output_type": "stream",
     "text": [
      "[2025-07-30 03:44:48.453] Start to evalute the model:\n",
      "[2025-07-30 03:44:48.453] Evaluating cascade layer = 0 \n",
      "[2025-07-30 03:44:48.670] Evaluating cascade layer = 1 \n",
      "[2025-07-30 03:44:48.872] Start to evalute the model:\n",
      "[2025-07-30 03:44:48.873] Evaluating cascade layer = 0 \n"
     ]
    },
    {
     "name": "stderr",
     "output_type": "stream",
     "text": [
      "Exact explainer:  13%|█▎        | 27/206 [00:17<01:58,  1.51it/s]"
     ]
    },
    {
     "name": "stdout",
     "output_type": "stream",
     "text": [
      "[2025-07-30 03:44:48.984] Evaluating cascade layer = 1 \n",
      "[2025-07-30 03:44:49.103] Start to evalute the model:\n",
      "[2025-07-30 03:44:49.103] Evaluating cascade layer = 0 \n",
      "[2025-07-30 03:44:49.420] Evaluating cascade layer = 1 \n",
      "[2025-07-30 03:44:49.637] Start to evalute the model:\n",
      "[2025-07-30 03:44:49.637] Evaluating cascade layer = 0 \n",
      "[2025-07-30 03:44:49.720] Evaluating cascade layer = 1 \n"
     ]
    },
    {
     "name": "stderr",
     "output_type": "stream",
     "text": [
      "Exact explainer:  14%|█▎        | 28/206 [00:17<02:02,  1.45it/s]"
     ]
    },
    {
     "name": "stdout",
     "output_type": "stream",
     "text": [
      "[2025-07-30 03:44:49.853] Start to evalute the model:\n",
      "[2025-07-30 03:44:49.853] Evaluating cascade layer = 0 \n",
      "[2025-07-30 03:44:50.071] Evaluating cascade layer = 1 \n",
      "[2025-07-30 03:44:50.274] Start to evalute the model:\n",
      "[2025-07-30 03:44:50.274] Evaluating cascade layer = 0 \n"
     ]
    },
    {
     "name": "stderr",
     "output_type": "stream",
     "text": [
      "Exact explainer:  14%|█▍        | 29/206 [00:18<02:01,  1.46it/s]"
     ]
    },
    {
     "name": "stdout",
     "output_type": "stream",
     "text": [
      "[2025-07-30 03:44:50.402] Evaluating cascade layer = 1 \n",
      "[2025-07-30 03:44:50.537] Start to evalute the model:\n",
      "[2025-07-30 03:44:50.537] Evaluating cascade layer = 0 \n",
      "[2025-07-30 03:44:50.752] Evaluating cascade layer = 1 \n",
      "[2025-07-30 03:44:50.953] Start to evalute the model:\n",
      "[2025-07-30 03:44:50.953] Evaluating cascade layer = 0 \n"
     ]
    },
    {
     "name": "stderr",
     "output_type": "stream",
     "text": [
      "Exact explainer:  15%|█▍        | 30/206 [00:19<01:59,  1.47it/s]"
     ]
    },
    {
     "name": "stdout",
     "output_type": "stream",
     "text": [
      "[2025-07-30 03:44:51.069] Evaluating cascade layer = 1 \n",
      "[2025-07-30 03:44:51.207] Start to evalute the model:\n",
      "[2025-07-30 03:44:51.207] Evaluating cascade layer = 0 \n",
      "[2025-07-30 03:44:51.420] Evaluating cascade layer = 1 \n",
      "[2025-07-30 03:44:51.623] Start to evalute the model:\n",
      "[2025-07-30 03:44:51.624] Evaluating cascade layer = 0 \n",
      "[2025-07-30 03:44:51.736] Evaluating cascade layer = 1 \n"
     ]
    },
    {
     "name": "stderr",
     "output_type": "stream",
     "text": [
      "Exact explainer:  15%|█▌        | 31/206 [00:19<01:58,  1.48it/s]"
     ]
    },
    {
     "name": "stdout",
     "output_type": "stream",
     "text": [
      "[2025-07-30 03:44:51.873] Start to evalute the model:\n",
      "[2025-07-30 03:44:51.879] Evaluating cascade layer = 0 \n",
      "[2025-07-30 03:44:52.086] Evaluating cascade layer = 1 \n",
      "[2025-07-30 03:44:52.286] Start to evalute the model:\n",
      "[2025-07-30 03:44:52.286] Evaluating cascade layer = 0 \n",
      "[2025-07-30 03:44:52.403] Evaluating cascade layer = 1 \n"
     ]
    },
    {
     "name": "stderr",
     "output_type": "stream",
     "text": [
      "Exact explainer:  16%|█▌        | 32/206 [00:20<01:57,  1.48it/s]"
     ]
    },
    {
     "name": "stdout",
     "output_type": "stream",
     "text": [
      "[2025-07-30 03:44:52.537] Start to evalute the model:\n",
      "[2025-07-30 03:44:52.537] Evaluating cascade layer = 0 \n",
      "[2025-07-30 03:44:52.753] Evaluating cascade layer = 1 \n",
      "[2025-07-30 03:44:52.973] Start to evalute the model:\n",
      "[2025-07-30 03:44:52.974] Evaluating cascade layer = 0 \n",
      "[2025-07-30 03:44:53.103] Evaluating cascade layer = 1 \n"
     ]
    },
    {
     "name": "stderr",
     "output_type": "stream",
     "text": [
      "Exact explainer:  16%|█▌        | 33/206 [00:21<01:57,  1.47it/s]"
     ]
    },
    {
     "name": "stdout",
     "output_type": "stream",
     "text": [
      "[2025-07-30 03:44:53.241] Start to evalute the model:\n",
      "[2025-07-30 03:44:53.241] Evaluating cascade layer = 0 \n",
      "[2025-07-30 03:44:53.454] Evaluating cascade layer = 1 \n",
      "[2025-07-30 03:44:53.653] Start to evalute the model:\n",
      "[2025-07-30 03:44:53.653] Evaluating cascade layer = 0 \n"
     ]
    },
    {
     "name": "stderr",
     "output_type": "stream",
     "text": [
      "Exact explainer:  17%|█▋        | 34/206 [00:21<01:57,  1.47it/s]"
     ]
    },
    {
     "name": "stdout",
     "output_type": "stream",
     "text": [
      "[2025-07-30 03:44:53.785] Evaluating cascade layer = 1 \n",
      "[2025-07-30 03:44:53.920] Start to evalute the model:\n",
      "[2025-07-30 03:44:53.920] Evaluating cascade layer = 0 \n",
      "[2025-07-30 03:44:54.136] Evaluating cascade layer = 1 \n",
      "[2025-07-30 03:44:54.336] Start to evalute the model:\n",
      "[2025-07-30 03:44:54.336] Evaluating cascade layer = 0 \n"
     ]
    },
    {
     "name": "stderr",
     "output_type": "stream",
     "text": [
      "Exact explainer:  17%|█▋        | 35/206 [00:22<01:55,  1.48it/s]"
     ]
    },
    {
     "name": "stdout",
     "output_type": "stream",
     "text": [
      "[2025-07-30 03:44:54.469] Evaluating cascade layer = 1 \n",
      "[2025-07-30 03:44:54.586] Start to evalute the model:\n",
      "[2025-07-30 03:44:54.586] Evaluating cascade layer = 0 \n",
      "[2025-07-30 03:44:54.802] Evaluating cascade layer = 1 \n",
      "[2025-07-30 03:44:55.003] Start to evalute the model:\n",
      "[2025-07-30 03:44:55.003] Evaluating cascade layer = 0 \n"
     ]
    },
    {
     "name": "stderr",
     "output_type": "stream",
     "text": [
      "Exact explainer:  17%|█▋        | 36/206 [00:23<01:55,  1.47it/s]"
     ]
    },
    {
     "name": "stdout",
     "output_type": "stream",
     "text": [
      "[2025-07-30 03:44:55.136] Evaluating cascade layer = 1 \n",
      "[2025-07-30 03:44:55.275] Start to evalute the model:\n",
      "[2025-07-30 03:44:55.282] Evaluating cascade layer = 0 \n",
      "[2025-07-30 03:44:55.486] Evaluating cascade layer = 1 \n",
      "[2025-07-30 03:44:55.703] Start to evalute the model:\n",
      "[2025-07-30 03:44:55.703] Evaluating cascade layer = 0 \n",
      "[2025-07-30 03:44:55.819] Evaluating cascade layer = 1 \n"
     ]
    },
    {
     "name": "stderr",
     "output_type": "stream",
     "text": [
      "Exact explainer:  18%|█▊        | 37/206 [00:23<01:54,  1.48it/s]"
     ]
    },
    {
     "name": "stdout",
     "output_type": "stream",
     "text": [
      "[2025-07-30 03:44:55.941] Start to evalute the model:\n",
      "[2025-07-30 03:44:55.941] Evaluating cascade layer = 0 \n",
      "[2025-07-30 03:44:56.154] Evaluating cascade layer = 1 \n",
      "[2025-07-30 03:44:56.353] Start to evalute the model:\n",
      "[2025-07-30 03:44:56.353] Evaluating cascade layer = 0 \n"
     ]
    },
    {
     "name": "stderr",
     "output_type": "stream",
     "text": [
      "Exact explainer:  18%|█▊        | 38/206 [00:24<01:53,  1.49it/s]"
     ]
    },
    {
     "name": "stdout",
     "output_type": "stream",
     "text": [
      "[2025-07-30 03:44:56.469] Evaluating cascade layer = 1 \n",
      "[2025-07-30 03:44:56.603] Start to evalute the model:\n",
      "[2025-07-30 03:44:56.620] Evaluating cascade layer = 0 \n",
      "[2025-07-30 03:44:56.836] Evaluating cascade layer = 1 \n",
      "[2025-07-30 03:44:57.037] Start to evalute the model:\n",
      "[2025-07-30 03:44:57.037] Evaluating cascade layer = 0 \n"
     ]
    },
    {
     "name": "stderr",
     "output_type": "stream",
     "text": [
      "Exact explainer:  19%|█▉        | 39/206 [00:25<01:52,  1.48it/s]"
     ]
    },
    {
     "name": "stdout",
     "output_type": "stream",
     "text": [
      "[2025-07-30 03:44:57.170] Evaluating cascade layer = 1 \n",
      "[2025-07-30 03:44:57.286] Start to evalute the model:\n",
      "[2025-07-30 03:44:57.303] Evaluating cascade layer = 0 \n",
      "[2025-07-30 03:44:57.520] Evaluating cascade layer = 1 \n",
      "[2025-07-30 03:44:57.720] Start to evalute the model:\n",
      "[2025-07-30 03:44:57.720] Evaluating cascade layer = 0 \n"
     ]
    },
    {
     "name": "stderr",
     "output_type": "stream",
     "text": [
      "Exact explainer:  19%|█▉        | 40/206 [00:26<01:55,  1.44it/s]"
     ]
    },
    {
     "name": "stdout",
     "output_type": "stream",
     "text": [
      "[2025-07-30 03:44:57.870] Evaluating cascade layer = 1 \n",
      "[2025-07-30 03:44:58.020] Start to evalute the model:\n",
      "[2025-07-30 03:44:58.020] Evaluating cascade layer = 0 \n",
      "[2025-07-30 03:44:58.285] Evaluating cascade layer = 1 \n",
      "[2025-07-30 03:44:58.486] Start to evalute the model:\n",
      "[2025-07-30 03:44:58.486] Evaluating cascade layer = 0 \n"
     ]
    },
    {
     "name": "stderr",
     "output_type": "stream",
     "text": [
      "Exact explainer:  20%|█▉        | 41/206 [00:26<01:55,  1.43it/s]"
     ]
    },
    {
     "name": "stdout",
     "output_type": "stream",
     "text": [
      "[2025-07-30 03:44:58.603] Evaluating cascade layer = 1 \n",
      "[2025-07-30 03:44:58.740] Start to evalute the model:\n",
      "[2025-07-30 03:44:58.740] Evaluating cascade layer = 0 \n",
      "[2025-07-30 03:44:58.953] Evaluating cascade layer = 1 \n",
      "[2025-07-30 03:44:59.153] Start to evalute the model:\n",
      "[2025-07-30 03:44:59.153] Evaluating cascade layer = 0 \n"
     ]
    },
    {
     "name": "stderr",
     "output_type": "stream",
     "text": [
      "Exact explainer:  20%|██        | 42/206 [00:27<01:53,  1.44it/s]"
     ]
    },
    {
     "name": "stdout",
     "output_type": "stream",
     "text": [
      "[2025-07-30 03:44:59.287] Evaluating cascade layer = 1 \n",
      "[2025-07-30 03:44:59.421] Start to evalute the model:\n",
      "[2025-07-30 03:44:59.421] Evaluating cascade layer = 0 \n",
      "[2025-07-30 03:44:59.637] Evaluating cascade layer = 1 \n",
      "[2025-07-30 03:44:59.836] Start to evalute the model:\n",
      "[2025-07-30 03:44:59.836] Evaluating cascade layer = 0 \n"
     ]
    },
    {
     "name": "stderr",
     "output_type": "stream",
     "text": [
      "Exact explainer:  21%|██        | 43/206 [00:28<01:52,  1.45it/s]"
     ]
    },
    {
     "name": "stdout",
     "output_type": "stream",
     "text": [
      "[2025-07-30 03:44:59.969] Evaluating cascade layer = 1 \n",
      "[2025-07-30 03:45:00.103] Start to evalute the model:\n",
      "[2025-07-30 03:45:00.103] Evaluating cascade layer = 0 \n",
      "[2025-07-30 03:45:00.320] Evaluating cascade layer = 1 \n",
      "[2025-07-30 03:45:00.520] Start to evalute the model:\n",
      "[2025-07-30 03:45:00.520] Evaluating cascade layer = 0 \n"
     ]
    },
    {
     "name": "stderr",
     "output_type": "stream",
     "text": [
      "Exact explainer:  21%|██▏       | 44/206 [00:28<01:51,  1.45it/s]"
     ]
    },
    {
     "name": "stdout",
     "output_type": "stream",
     "text": [
      "[2025-07-30 03:45:00.652] Evaluating cascade layer = 1 \n",
      "[2025-07-30 03:45:00.790] Start to evalute the model:\n",
      "[2025-07-30 03:45:00.791] Evaluating cascade layer = 0 \n",
      "[2025-07-30 03:45:01.003] Evaluating cascade layer = 1 \n",
      "[2025-07-30 03:45:01.203] Start to evalute the model:\n",
      "[2025-07-30 03:45:01.203] Evaluating cascade layer = 0 \n"
     ]
    },
    {
     "name": "stderr",
     "output_type": "stream",
     "text": [
      "Exact explainer:  22%|██▏       | 45/206 [00:29<01:50,  1.45it/s]"
     ]
    },
    {
     "name": "stdout",
     "output_type": "stream",
     "text": [
      "[2025-07-30 03:45:01.336] Evaluating cascade layer = 1 \n",
      "[2025-07-30 03:45:01.475] Start to evalute the model:\n",
      "[2025-07-30 03:45:01.480] Evaluating cascade layer = 0 \n",
      "[2025-07-30 03:45:01.685] Evaluating cascade layer = 1 \n",
      "[2025-07-30 03:45:01.888] Start to evalute the model:\n",
      "[2025-07-30 03:45:01.888] Evaluating cascade layer = 0 \n",
      "[2025-07-30 03:45:02.019] Evaluating cascade layer = 1 \n"
     ]
    },
    {
     "name": "stderr",
     "output_type": "stream",
     "text": [
      "Exact explainer:  22%|██▏       | 46/206 [00:30<01:49,  1.46it/s]"
     ]
    },
    {
     "name": "stdout",
     "output_type": "stream",
     "text": [
      "[2025-07-30 03:45:02.153] Start to evalute the model:\n",
      "[2025-07-30 03:45:02.153] Evaluating cascade layer = 0 \n",
      "[2025-07-30 03:45:02.370] Evaluating cascade layer = 1 \n",
      "[2025-07-30 03:45:02.586] Start to evalute the model:\n",
      "[2025-07-30 03:45:02.586] Evaluating cascade layer = 0 \n",
      "[2025-07-30 03:45:02.702] Evaluating cascade layer = 1 \n"
     ]
    },
    {
     "name": "stderr",
     "output_type": "stream",
     "text": [
      "Exact explainer:  23%|██▎       | 47/206 [00:30<01:48,  1.46it/s]"
     ]
    },
    {
     "name": "stdout",
     "output_type": "stream",
     "text": [
      "[2025-07-30 03:45:02.837] Start to evalute the model:\n",
      "[2025-07-30 03:45:02.837] Evaluating cascade layer = 0 \n",
      "[2025-07-30 03:45:03.053] Evaluating cascade layer = 1 \n",
      "[2025-07-30 03:45:03.273] Start to evalute the model:\n",
      "[2025-07-30 03:45:03.274] Evaluating cascade layer = 0 \n",
      "[2025-07-30 03:45:03.403] Evaluating cascade layer = 1 \n"
     ]
    },
    {
     "name": "stderr",
     "output_type": "stream",
     "text": [
      "Exact explainer:  23%|██▎       | 48/206 [00:31<01:48,  1.46it/s]"
     ]
    },
    {
     "name": "stdout",
     "output_type": "stream",
     "text": [
      "[2025-07-30 03:45:03.520] Start to evalute the model:\n",
      "[2025-07-30 03:45:03.520] Evaluating cascade layer = 0 \n",
      "[2025-07-30 03:45:03.736] Evaluating cascade layer = 1 \n",
      "[2025-07-30 03:45:03.939] Start to evalute the model:\n",
      "[2025-07-30 03:45:03.940] Evaluating cascade layer = 0 \n"
     ]
    },
    {
     "name": "stderr",
     "output_type": "stream",
     "text": [
      "Exact explainer:  24%|██▍       | 49/206 [00:32<01:47,  1.46it/s]"
     ]
    },
    {
     "name": "stdout",
     "output_type": "stream",
     "text": [
      "[2025-07-30 03:45:04.069] Evaluating cascade layer = 1 \n",
      "[2025-07-30 03:45:04.204] Start to evalute the model:\n",
      "[2025-07-30 03:45:04.204] Evaluating cascade layer = 0 \n",
      "[2025-07-30 03:45:04.436] Evaluating cascade layer = 1 \n",
      "[2025-07-30 03:45:04.636] Start to evalute the model:\n",
      "[2025-07-30 03:45:04.636] Evaluating cascade layer = 0 \n"
     ]
    },
    {
     "name": "stderr",
     "output_type": "stream",
     "text": [
      "Exact explainer:  24%|██▍       | 50/206 [00:32<01:47,  1.46it/s]"
     ]
    },
    {
     "name": "stdout",
     "output_type": "stream",
     "text": [
      "[2025-07-30 03:45:04.769] Evaluating cascade layer = 1 \n",
      "[2025-07-30 03:45:04.896] Start to evalute the model:\n",
      "[2025-07-30 03:45:04.904] Evaluating cascade layer = 0 \n",
      "[2025-07-30 03:45:05.120] Evaluating cascade layer = 1 \n",
      "[2025-07-30 03:45:05.323] Start to evalute the model:\n",
      "[2025-07-30 03:45:05.324] Evaluating cascade layer = 0 \n",
      "[2025-07-30 03:45:05.436] Evaluating cascade layer = 1 \n"
     ]
    },
    {
     "name": "stderr",
     "output_type": "stream",
     "text": [
      "Exact explainer:  25%|██▍       | 51/206 [00:33<01:46,  1.45it/s]"
     ]
    },
    {
     "name": "stdout",
     "output_type": "stream",
     "text": [
      "[2025-07-30 03:45:05.587] Start to evalute the model:\n",
      "[2025-07-30 03:45:05.603] Evaluating cascade layer = 0 \n",
      "[2025-07-30 03:45:05.819] Evaluating cascade layer = 1 \n",
      "[2025-07-30 03:45:06.020] Start to evalute the model:\n",
      "[2025-07-30 03:45:06.020] Evaluating cascade layer = 0 \n"
     ]
    },
    {
     "name": "stderr",
     "output_type": "stream",
     "text": [
      "Exact explainer:  25%|██▌       | 52/206 [00:34<01:46,  1.45it/s]"
     ]
    },
    {
     "name": "stdout",
     "output_type": "stream",
     "text": [
      "[2025-07-30 03:45:06.153] Evaluating cascade layer = 1 \n",
      "[2025-07-30 03:45:06.290] Start to evalute the model:\n",
      "[2025-07-30 03:45:06.304] Evaluating cascade layer = 0 \n",
      "[2025-07-30 03:45:06.519] Evaluating cascade layer = 1 \n",
      "[2025-07-30 03:45:06.737] Start to evalute the model:\n",
      "[2025-07-30 03:45:06.737] Evaluating cascade layer = 0 \n",
      "[2025-07-30 03:45:06.853] Evaluating cascade layer = 1 \n"
     ]
    },
    {
     "name": "stderr",
     "output_type": "stream",
     "text": [
      "Exact explainer:  26%|██▌       | 53/206 [00:35<01:46,  1.44it/s]"
     ]
    },
    {
     "name": "stdout",
     "output_type": "stream",
     "text": [
      "[2025-07-30 03:45:06.986] Start to evalute the model:\n",
      "[2025-07-30 03:45:06.986] Evaluating cascade layer = 0 \n",
      "[2025-07-30 03:45:07.219] Evaluating cascade layer = 1 \n",
      "[2025-07-30 03:45:07.437] Start to evalute the model:\n",
      "[2025-07-30 03:45:07.437] Evaluating cascade layer = 0 \n",
      "[2025-07-30 03:45:07.562] Evaluating cascade layer = 1 \n"
     ]
    },
    {
     "name": "stderr",
     "output_type": "stream",
     "text": [
      "Exact explainer:  26%|██▌       | 54/206 [00:35<01:46,  1.43it/s]"
     ]
    },
    {
     "name": "stdout",
     "output_type": "stream",
     "text": [
      "[2025-07-30 03:45:07.703] Start to evalute the model:\n",
      "[2025-07-30 03:45:07.703] Evaluating cascade layer = 0 \n",
      "[2025-07-30 03:45:07.936] Evaluating cascade layer = 1 \n",
      "[2025-07-30 03:45:08.186] Start to evalute the model:\n",
      "[2025-07-30 03:45:08.186] Evaluating cascade layer = 0 \n",
      "[2025-07-30 03:45:08.319] Evaluating cascade layer = 1 \n"
     ]
    },
    {
     "name": "stderr",
     "output_type": "stream",
     "text": [
      "Exact explainer:  27%|██▋       | 55/206 [00:36<01:48,  1.40it/s]"
     ]
    },
    {
     "name": "stdout",
     "output_type": "stream",
     "text": [
      "[2025-07-30 03:45:08.453] Start to evalute the model:\n",
      "[2025-07-30 03:45:08.453] Evaluating cascade layer = 0 \n",
      "[2025-07-30 03:45:08.685] Evaluating cascade layer = 1 \n",
      "[2025-07-30 03:45:08.886] Start to evalute the model:\n",
      "[2025-07-30 03:45:08.886] Evaluating cascade layer = 0 \n",
      "[2025-07-30 03:45:08.986] Evaluating cascade layer = 1 \n"
     ]
    },
    {
     "name": "stderr",
     "output_type": "stream",
     "text": [
      "Exact explainer:  27%|██▋       | 56/206 [00:37<01:45,  1.43it/s]"
     ]
    },
    {
     "name": "stdout",
     "output_type": "stream",
     "text": [
      "[2025-07-30 03:45:09.120] Start to evalute the model:\n",
      "[2025-07-30 03:45:09.120] Evaluating cascade layer = 0 \n",
      "[2025-07-30 03:45:09.337] Evaluating cascade layer = 1 \n",
      "[2025-07-30 03:45:09.553] Start to evalute the model:\n",
      "[2025-07-30 03:45:09.553] Evaluating cascade layer = 0 \n",
      "[2025-07-30 03:45:09.669] Evaluating cascade layer = 1 \n"
     ]
    },
    {
     "name": "stderr",
     "output_type": "stream",
     "text": [
      "Exact explainer:  28%|██▊       | 57/206 [00:37<01:43,  1.44it/s]"
     ]
    },
    {
     "name": "stdout",
     "output_type": "stream",
     "text": [
      "[2025-07-30 03:45:09.808] Start to evalute the model:\n",
      "[2025-07-30 03:45:09.811] Evaluating cascade layer = 0 \n",
      "[2025-07-30 03:45:10.020] Evaluating cascade layer = 1 \n",
      "[2025-07-30 03:45:10.220] Start to evalute the model:\n",
      "[2025-07-30 03:45:10.220] Evaluating cascade layer = 0 \n"
     ]
    },
    {
     "name": "stderr",
     "output_type": "stream",
     "text": [
      "Exact explainer:  28%|██▊       | 58/206 [00:38<01:40,  1.47it/s]"
     ]
    },
    {
     "name": "stdout",
     "output_type": "stream",
     "text": [
      "[2025-07-30 03:45:10.319] Evaluating cascade layer = 1 \n",
      "[2025-07-30 03:45:10.457] Start to evalute the model:\n",
      "[2025-07-30 03:45:10.461] Evaluating cascade layer = 0 \n",
      "[2025-07-30 03:45:10.703] Evaluating cascade layer = 1 \n",
      "[2025-07-30 03:45:10.937] Start to evalute the model:\n",
      "[2025-07-30 03:45:10.937] Evaluating cascade layer = 0 \n",
      "[2025-07-30 03:45:11.069] Evaluating cascade layer = 1 \n"
     ]
    },
    {
     "name": "stderr",
     "output_type": "stream",
     "text": [
      "Exact explainer:  29%|██▊       | 59/206 [00:39<01:43,  1.42it/s]"
     ]
    },
    {
     "name": "stdout",
     "output_type": "stream",
     "text": [
      "[2025-07-30 03:45:11.203] Start to evalute the model:\n",
      "[2025-07-30 03:45:11.203] Evaluating cascade layer = 0 \n",
      "[2025-07-30 03:45:11.420] Evaluating cascade layer = 1 \n",
      "[2025-07-30 03:45:11.637] Start to evalute the model:\n",
      "[2025-07-30 03:45:11.637] Evaluating cascade layer = 0 \n",
      "[2025-07-30 03:45:11.753] Evaluating cascade layer = 1 \n"
     ]
    },
    {
     "name": "stderr",
     "output_type": "stream",
     "text": [
      "Exact explainer:  29%|██▉       | 60/206 [00:39<01:41,  1.45it/s]"
     ]
    },
    {
     "name": "stdout",
     "output_type": "stream",
     "text": [
      "[2025-07-30 03:45:11.875] Start to evalute the model:\n",
      "[2025-07-30 03:45:11.882] Evaluating cascade layer = 0 \n",
      "[2025-07-30 03:45:12.086] Evaluating cascade layer = 1 \n",
      "[2025-07-30 03:45:12.288] Start to evalute the model:\n",
      "[2025-07-30 03:45:12.289] Evaluating cascade layer = 0 \n"
     ]
    },
    {
     "name": "stderr",
     "output_type": "stream",
     "text": [
      "Exact explainer:  30%|██▉       | 61/206 [00:40<01:39,  1.46it/s]"
     ]
    },
    {
     "name": "stdout",
     "output_type": "stream",
     "text": [
      "[2025-07-30 03:45:12.402] Evaluating cascade layer = 1 \n",
      "[2025-07-30 03:45:12.536] Start to evalute the model:\n",
      "[2025-07-30 03:45:12.536] Evaluating cascade layer = 0 \n",
      "[2025-07-30 03:45:12.787] Evaluating cascade layer = 1 \n",
      "[2025-07-30 03:45:12.986] Start to evalute the model:\n",
      "[2025-07-30 03:45:12.986] Evaluating cascade layer = 0 \n"
     ]
    },
    {
     "name": "stderr",
     "output_type": "stream",
     "text": [
      "Exact explainer:  30%|███       | 62/206 [00:41<01:39,  1.45it/s]"
     ]
    },
    {
     "name": "stdout",
     "output_type": "stream",
     "text": [
      "[2025-07-30 03:45:13.084] Evaluating cascade layer = 1 \n",
      "[2025-07-30 03:45:13.237] Start to evalute the model:\n",
      "[2025-07-30 03:45:13.237] Evaluating cascade layer = 0 \n",
      "[2025-07-30 03:45:13.469] Evaluating cascade layer = 1 \n",
      "[2025-07-30 03:45:13.673] Start to evalute the model:\n",
      "[2025-07-30 03:45:13.674] Evaluating cascade layer = 0 \n",
      "[2025-07-30 03:45:13.785] Evaluating cascade layer = 1 \n"
     ]
    },
    {
     "name": "stderr",
     "output_type": "stream",
     "text": [
      "Exact explainer:  31%|███       | 63/206 [00:41<01:38,  1.46it/s]"
     ]
    },
    {
     "name": "stdout",
     "output_type": "stream",
     "text": [
      "[2025-07-30 03:45:13.920] Start to evalute the model:\n",
      "[2025-07-30 03:45:13.920] Evaluating cascade layer = 0 \n",
      "[2025-07-30 03:45:14.137] Evaluating cascade layer = 1 \n",
      "[2025-07-30 03:45:14.340] Start to evalute the model:\n",
      "[2025-07-30 03:45:14.341] Evaluating cascade layer = 0 \n"
     ]
    },
    {
     "name": "stderr",
     "output_type": "stream",
     "text": [
      "Exact explainer:  31%|███       | 64/206 [00:42<01:36,  1.48it/s]"
     ]
    },
    {
     "name": "stdout",
     "output_type": "stream",
     "text": [
      "[2025-07-30 03:45:14.436] Evaluating cascade layer = 1 \n",
      "[2025-07-30 03:45:14.574] Start to evalute the model:\n",
      "[2025-07-30 03:45:14.581] Evaluating cascade layer = 0 \n",
      "[2025-07-30 03:45:14.803] Evaluating cascade layer = 1 \n",
      "[2025-07-30 03:45:15.003] Start to evalute the model:\n",
      "[2025-07-30 03:45:15.003] Evaluating cascade layer = 0 \n"
     ]
    },
    {
     "name": "stderr",
     "output_type": "stream",
     "text": [
      "Exact explainer:  32%|███▏      | 65/206 [00:43<01:34,  1.49it/s]"
     ]
    },
    {
     "name": "stdout",
     "output_type": "stream",
     "text": [
      "[2025-07-30 03:45:15.103] Evaluating cascade layer = 1 \n",
      "[2025-07-30 03:45:15.237] Start to evalute the model:\n",
      "[2025-07-30 03:45:15.237] Evaluating cascade layer = 0 \n",
      "[2025-07-30 03:45:15.453] Evaluating cascade layer = 1 \n",
      "[2025-07-30 03:45:15.653] Start to evalute the model:\n",
      "[2025-07-30 03:45:15.653] Evaluating cascade layer = 0 \n"
     ]
    },
    {
     "name": "stderr",
     "output_type": "stream",
     "text": [
      "Exact explainer:  32%|███▏      | 66/206 [00:43<01:32,  1.51it/s]"
     ]
    },
    {
     "name": "stdout",
     "output_type": "stream",
     "text": [
      "[2025-07-30 03:45:15.736] Evaluating cascade layer = 1 \n",
      "[2025-07-30 03:45:15.873] Start to evalute the model:\n",
      "[2025-07-30 03:45:15.880] Evaluating cascade layer = 0 \n",
      "[2025-07-30 03:45:16.084] Evaluating cascade layer = 1 \n",
      "[2025-07-30 03:45:16.286] Start to evalute the model:\n",
      "[2025-07-30 03:45:16.286] Evaluating cascade layer = 0 \n",
      "[2025-07-30 03:45:16.386] Evaluating cascade layer = 1 \n"
     ]
    },
    {
     "name": "stderr",
     "output_type": "stream",
     "text": [
      "Exact explainer:  33%|███▎      | 67/206 [00:44<01:31,  1.52it/s]"
     ]
    },
    {
     "name": "stdout",
     "output_type": "stream",
     "text": [
      "[2025-07-30 03:45:16.520] Start to evalute the model:\n",
      "[2025-07-30 03:45:16.520] Evaluating cascade layer = 0 \n",
      "[2025-07-30 03:45:16.737] Evaluating cascade layer = 1 \n",
      "[2025-07-30 03:45:16.953] Start to evalute the model:\n",
      "[2025-07-30 03:45:16.953] Evaluating cascade layer = 0 \n",
      "[2025-07-30 03:45:17.069] Evaluating cascade layer = 1 \n"
     ]
    },
    {
     "name": "stderr",
     "output_type": "stream",
     "text": [
      "Exact explainer:  33%|███▎      | 68/206 [00:45<01:31,  1.50it/s]"
     ]
    },
    {
     "name": "stdout",
     "output_type": "stream",
     "text": [
      "[2025-07-30 03:45:17.203] Start to evalute the model:\n",
      "[2025-07-30 03:45:17.203] Evaluating cascade layer = 0 \n",
      "[2025-07-30 03:45:17.420] Evaluating cascade layer = 1 \n",
      "[2025-07-30 03:45:17.686] Start to evalute the model:\n",
      "[2025-07-30 03:45:17.686] Evaluating cascade layer = 0 \n",
      "[2025-07-30 03:45:17.803] Evaluating cascade layer = 1 \n"
     ]
    },
    {
     "name": "stderr",
     "output_type": "stream",
     "text": [
      "Exact explainer:  33%|███▎      | 69/206 [00:45<01:33,  1.46it/s]"
     ]
    },
    {
     "name": "stdout",
     "output_type": "stream",
     "text": [
      "[2025-07-30 03:45:17.936] Start to evalute the model:\n",
      "[2025-07-30 03:45:17.936] Evaluating cascade layer = 0 \n",
      "[2025-07-30 03:45:18.153] Evaluating cascade layer = 1 \n",
      "[2025-07-30 03:45:18.353] Start to evalute the model:\n",
      "[2025-07-30 03:45:18.353] Evaluating cascade layer = 0 \n"
     ]
    },
    {
     "name": "stderr",
     "output_type": "stream",
     "text": [
      "Exact explainer:  34%|███▍      | 70/206 [00:46<01:32,  1.47it/s]"
     ]
    },
    {
     "name": "stdout",
     "output_type": "stream",
     "text": [
      "[2025-07-30 03:45:18.470] Evaluating cascade layer = 1 \n",
      "[2025-07-30 03:45:18.603] Start to evalute the model:\n",
      "[2025-07-30 03:45:18.603] Evaluating cascade layer = 0 \n",
      "[2025-07-30 03:45:18.819] Evaluating cascade layer = 1 \n",
      "[2025-07-30 03:45:19.020] Start to evalute the model:\n",
      "[2025-07-30 03:45:19.020] Evaluating cascade layer = 0 \n"
     ]
    },
    {
     "name": "stderr",
     "output_type": "stream",
     "text": [
      "Exact explainer:  34%|███▍      | 71/206 [00:47<01:30,  1.49it/s]"
     ]
    },
    {
     "name": "stdout",
     "output_type": "stream",
     "text": [
      "[2025-07-30 03:45:19.120] Evaluating cascade layer = 1 \n",
      "[2025-07-30 03:45:19.257] Start to evalute the model:\n",
      "[2025-07-30 03:45:19.257] Evaluating cascade layer = 0 \n",
      "[2025-07-30 03:45:19.469] Evaluating cascade layer = 1 \n",
      "[2025-07-30 03:45:19.687] Start to evalute the model:\n",
      "[2025-07-30 03:45:19.687] Evaluating cascade layer = 0 \n",
      "[2025-07-30 03:45:19.819] Evaluating cascade layer = 1 \n"
     ]
    },
    {
     "name": "stderr",
     "output_type": "stream",
     "text": [
      "Exact explainer:  35%|███▍      | 72/206 [00:47<01:31,  1.47it/s]"
     ]
    },
    {
     "name": "stdout",
     "output_type": "stream",
     "text": [
      "[2025-07-30 03:45:19.953] Start to evalute the model:\n",
      "[2025-07-30 03:45:19.953] Evaluating cascade layer = 0 \n",
      "[2025-07-30 03:45:20.170] Evaluating cascade layer = 1 \n",
      "[2025-07-30 03:45:20.372] Start to evalute the model:\n",
      "[2025-07-30 03:45:20.373] Evaluating cascade layer = 0 \n"
     ]
    },
    {
     "name": "stderr",
     "output_type": "stream",
     "text": [
      "Exact explainer:  35%|███▌      | 73/206 [00:48<01:31,  1.46it/s]"
     ]
    },
    {
     "name": "stdout",
     "output_type": "stream",
     "text": [
      "[2025-07-30 03:45:20.520] Evaluating cascade layer = 1 \n",
      "[2025-07-30 03:45:20.653] Start to evalute the model:\n",
      "[2025-07-30 03:45:20.653] Evaluating cascade layer = 0 \n",
      "[2025-07-30 03:45:20.920] Evaluating cascade layer = 1 \n",
      "[2025-07-30 03:45:21.120] Start to evalute the model:\n",
      "[2025-07-30 03:45:21.120] Evaluating cascade layer = 0 \n"
     ]
    },
    {
     "name": "stderr",
     "output_type": "stream",
     "text": [
      "Exact explainer:  36%|███▌      | 74/206 [00:49<01:31,  1.45it/s]"
     ]
    },
    {
     "name": "stdout",
     "output_type": "stream",
     "text": [
      "[2025-07-30 03:45:21.219] Evaluating cascade layer = 1 \n",
      "[2025-07-30 03:45:21.355] Start to evalute the model:\n",
      "[2025-07-30 03:45:21.355] Evaluating cascade layer = 0 \n",
      "[2025-07-30 03:45:21.569] Evaluating cascade layer = 1 \n",
      "[2025-07-30 03:45:21.772] Start to evalute the model:\n",
      "[2025-07-30 03:45:21.773] Evaluating cascade layer = 0 \n"
     ]
    },
    {
     "name": "stderr",
     "output_type": "stream",
     "text": [
      "Exact explainer:  36%|███▋      | 75/206 [00:50<01:28,  1.47it/s]"
     ]
    },
    {
     "name": "stdout",
     "output_type": "stream",
     "text": [
      "[2025-07-30 03:45:21.886] Evaluating cascade layer = 1 \n",
      "[2025-07-30 03:45:22.007] Start to evalute the model:\n",
      "[2025-07-30 03:45:22.007] Evaluating cascade layer = 0 \n",
      "[2025-07-30 03:45:22.219] Evaluating cascade layer = 1 \n",
      "[2025-07-30 03:45:22.420] Start to evalute the model:\n",
      "[2025-07-30 03:45:22.420] Evaluating cascade layer = 0 \n"
     ]
    },
    {
     "name": "stderr",
     "output_type": "stream",
     "text": [
      "Exact explainer:  37%|███▋      | 76/206 [00:50<01:28,  1.47it/s]"
     ]
    },
    {
     "name": "stdout",
     "output_type": "stream",
     "text": [
      "[2025-07-30 03:45:22.553] Evaluating cascade layer = 1 \n",
      "[2025-07-30 03:45:22.686] Start to evalute the model:\n",
      "[2025-07-30 03:45:22.703] Evaluating cascade layer = 0 \n",
      "[2025-07-30 03:45:22.903] Evaluating cascade layer = 1 \n",
      "[2025-07-30 03:45:23.103] Start to evalute the model:\n",
      "[2025-07-30 03:45:23.103] Evaluating cascade layer = 0 \n"
     ]
    },
    {
     "name": "stderr",
     "output_type": "stream",
     "text": [
      "Exact explainer:  37%|███▋      | 77/206 [00:51<01:27,  1.48it/s]"
     ]
    },
    {
     "name": "stdout",
     "output_type": "stream",
     "text": [
      "[2025-07-30 03:45:23.236] Evaluating cascade layer = 1 \n",
      "[2025-07-30 03:45:23.353] Start to evalute the model:\n",
      "[2025-07-30 03:45:23.375] Evaluating cascade layer = 0 \n",
      "[2025-07-30 03:45:23.584] Evaluating cascade layer = 1 \n",
      "[2025-07-30 03:45:23.787] Start to evalute the model:\n",
      "[2025-07-30 03:45:23.787] Evaluating cascade layer = 0 \n",
      "[2025-07-30 03:45:23.884] Evaluating cascade layer = 1 \n"
     ]
    },
    {
     "name": "stderr",
     "output_type": "stream",
     "text": [
      "Exact explainer:  38%|███▊      | 78/206 [00:52<01:26,  1.49it/s]"
     ]
    },
    {
     "name": "stdout",
     "output_type": "stream",
     "text": [
      "[2025-07-30 03:45:24.020] Start to evalute the model:\n",
      "[2025-07-30 03:45:24.020] Evaluating cascade layer = 0 \n",
      "[2025-07-30 03:45:24.237] Evaluating cascade layer = 1 \n",
      "[2025-07-30 03:45:24.453] Start to evalute the model:\n",
      "[2025-07-30 03:45:24.453] Evaluating cascade layer = 0 \n",
      "[2025-07-30 03:45:24.570] Evaluating cascade layer = 1 \n"
     ]
    },
    {
     "name": "stderr",
     "output_type": "stream",
     "text": [
      "Exact explainer:  38%|███▊      | 79/206 [00:52<01:26,  1.47it/s]"
     ]
    },
    {
     "name": "stdout",
     "output_type": "stream",
     "text": [
      "[2025-07-30 03:45:24.720] Start to evalute the model:\n",
      "[2025-07-30 03:45:24.720] Evaluating cascade layer = 0 \n",
      "[2025-07-30 03:45:24.953] Evaluating cascade layer = 1 \n",
      "[2025-07-30 03:45:25.153] Start to evalute the model:\n",
      "[2025-07-30 03:45:25.153] Evaluating cascade layer = 0 \n"
     ]
    },
    {
     "name": "stderr",
     "output_type": "stream",
     "text": [
      "Exact explainer:  39%|███▉      | 80/206 [00:53<01:25,  1.48it/s]"
     ]
    },
    {
     "name": "stdout",
     "output_type": "stream",
     "text": [
      "[2025-07-30 03:45:25.285] Evaluating cascade layer = 1 \n",
      "[2025-07-30 03:45:25.386] Start to evalute the model:\n",
      "[2025-07-30 03:45:25.386] Evaluating cascade layer = 0 \n",
      "[2025-07-30 03:45:25.636] Evaluating cascade layer = 1 \n",
      "[2025-07-30 03:45:25.837] Start to evalute the model:\n",
      "[2025-07-30 03:45:25.837] Evaluating cascade layer = 0 \n"
     ]
    },
    {
     "name": "stderr",
     "output_type": "stream",
     "text": [
      "Exact explainer:  39%|███▉      | 81/206 [00:54<01:28,  1.41it/s]"
     ]
    },
    {
     "name": "stdout",
     "output_type": "stream",
     "text": [
      "[2025-07-30 03:45:26.020] Evaluating cascade layer = 1 \n",
      "[2025-07-30 03:45:26.175] Start to evalute the model:\n",
      "[2025-07-30 03:45:26.180] Evaluating cascade layer = 0 \n",
      "[2025-07-30 03:45:26.385] Evaluating cascade layer = 1 \n",
      "[2025-07-30 03:45:26.587] Start to evalute the model:\n",
      "[2025-07-30 03:45:26.587] Evaluating cascade layer = 0 \n",
      "[2025-07-30 03:45:26.703] Evaluating cascade layer = 1 \n"
     ]
    },
    {
     "name": "stderr",
     "output_type": "stream",
     "text": [
      "Exact explainer:  40%|███▉      | 82/206 [00:54<01:25,  1.46it/s]"
     ]
    },
    {
     "name": "stdout",
     "output_type": "stream",
     "text": [
      "[2025-07-30 03:45:26.804] Start to evalute the model:\n",
      "[2025-07-30 03:45:26.804] Evaluating cascade layer = 0 \n",
      "[2025-07-30 03:45:27.020] Evaluating cascade layer = 1 \n",
      "[2025-07-30 03:45:27.220] Start to evalute the model:\n",
      "[2025-07-30 03:45:27.220] Evaluating cascade layer = 0 \n",
      "[2025-07-30 03:45:27.319] Evaluating cascade layer = 1 \n"
     ]
    },
    {
     "name": "stderr",
     "output_type": "stream",
     "text": [
      "Exact explainer:  40%|████      | 83/206 [00:55<01:26,  1.43it/s]"
     ]
    },
    {
     "name": "stdout",
     "output_type": "stream",
     "text": [
      "[2025-07-30 03:45:27.537] Start to evalute the model:\n",
      "[2025-07-30 03:45:27.553] Evaluating cascade layer = 0 \n",
      "[2025-07-30 03:45:27.769] Evaluating cascade layer = 1 \n",
      "[2025-07-30 03:45:27.973] Start to evalute the model:\n",
      "[2025-07-30 03:45:27.974] Evaluating cascade layer = 0 \n"
     ]
    },
    {
     "name": "stderr",
     "output_type": "stream",
     "text": [
      "Exact explainer:  41%|████      | 84/206 [00:56<01:25,  1.43it/s]"
     ]
    },
    {
     "name": "stdout",
     "output_type": "stream",
     "text": [
      "[2025-07-30 03:45:28.102] Evaluating cascade layer = 1 \n",
      "[2025-07-30 03:45:28.241] Start to evalute the model:\n",
      "[2025-07-30 03:45:28.247] Evaluating cascade layer = 0 \n",
      "[2025-07-30 03:45:28.453] Evaluating cascade layer = 1 \n",
      "[2025-07-30 03:45:28.657] Start to evalute the model:\n",
      "[2025-07-30 03:45:28.657] Evaluating cascade layer = 0 \n",
      "[2025-07-30 03:45:28.769] Evaluating cascade layer = 1 \n"
     ]
    },
    {
     "name": "stderr",
     "output_type": "stream",
     "text": [
      "Exact explainer:  41%|████▏     | 85/206 [00:56<01:23,  1.45it/s]"
     ]
    },
    {
     "name": "stdout",
     "output_type": "stream",
     "text": [
      "[2025-07-30 03:45:28.904] Start to evalute the model:\n",
      "[2025-07-30 03:45:28.904] Evaluating cascade layer = 0 \n",
      "[2025-07-30 03:45:29.120] Evaluating cascade layer = 1 \n",
      "[2025-07-30 03:45:29.337] Start to evalute the model:\n",
      "[2025-07-30 03:45:29.337] Evaluating cascade layer = 0 \n",
      "[2025-07-30 03:45:29.420] Evaluating cascade layer = 1 \n"
     ]
    },
    {
     "name": "stderr",
     "output_type": "stream",
     "text": [
      "Exact explainer:  42%|████▏     | 86/206 [00:57<01:20,  1.49it/s]"
     ]
    },
    {
     "name": "stdout",
     "output_type": "stream",
     "text": [
      "[2025-07-30 03:45:29.536] Start to evalute the model:\n",
      "[2025-07-30 03:45:29.536] Evaluating cascade layer = 0 \n",
      "[2025-07-30 03:45:29.737] Evaluating cascade layer = 1 \n",
      "[2025-07-30 03:45:29.953] Start to evalute the model:\n",
      "[2025-07-30 03:45:29.953] Evaluating cascade layer = 0 \n",
      "[2025-07-30 03:45:30.084] Evaluating cascade layer = 1 \n"
     ]
    },
    {
     "name": "stderr",
     "output_type": "stream",
     "text": [
      "Exact explainer:  42%|████▏     | 87/206 [00:58<01:21,  1.47it/s]"
     ]
    },
    {
     "name": "stdout",
     "output_type": "stream",
     "text": [
      "[2025-07-30 03:45:30.236] Start to evalute the model:\n",
      "[2025-07-30 03:45:30.236] Evaluating cascade layer = 0 \n",
      "[2025-07-30 03:45:30.454] Evaluating cascade layer = 1 \n",
      "[2025-07-30 03:45:30.707] Start to evalute the model:\n",
      "[2025-07-30 03:45:30.707] Evaluating cascade layer = 0 \n",
      "[2025-07-30 03:45:30.836] Evaluating cascade layer = 1 \n"
     ]
    },
    {
     "name": "stderr",
     "output_type": "stream",
     "text": [
      "Exact explainer:  43%|████▎     | 88/206 [00:58<01:21,  1.45it/s]"
     ]
    },
    {
     "name": "stdout",
     "output_type": "stream",
     "text": [
      "[2025-07-30 03:45:30.954] Start to evalute the model:\n",
      "[2025-07-30 03:45:30.954] Evaluating cascade layer = 0 \n",
      "[2025-07-30 03:45:31.170] Evaluating cascade layer = 1 \n",
      "[2025-07-30 03:45:31.373] Start to evalute the model:\n",
      "[2025-07-30 03:45:31.374] Evaluating cascade layer = 0 \n"
     ]
    },
    {
     "name": "stderr",
     "output_type": "stream",
     "text": [
      "Exact explainer:  43%|████▎     | 89/206 [00:59<01:20,  1.46it/s]"
     ]
    },
    {
     "name": "stdout",
     "output_type": "stream",
     "text": [
      "[2025-07-30 03:45:31.485] Evaluating cascade layer = 1 \n",
      "[2025-07-30 03:45:31.620] Start to evalute the model:\n",
      "[2025-07-30 03:45:31.620] Evaluating cascade layer = 0 \n",
      "[2025-07-30 03:45:31.837] Evaluating cascade layer = 1 \n",
      "[2025-07-30 03:45:32.037] Start to evalute the model:\n",
      "[2025-07-30 03:45:32.037] Evaluating cascade layer = 0 \n",
      "[2025-07-30 03:45:32.137] Evaluating cascade layer = 1 \n"
     ]
    },
    {
     "name": "stderr",
     "output_type": "stream",
     "text": [
      "Exact explainer:  44%|████▎     | 90/206 [01:00<01:20,  1.44it/s]"
     ]
    },
    {
     "name": "stdout",
     "output_type": "stream",
     "text": [
      "[2025-07-30 03:45:32.337] Start to evalute the model:\n",
      "[2025-07-30 03:45:32.354] Evaluating cascade layer = 0 \n",
      "[2025-07-30 03:45:32.587] Evaluating cascade layer = 1 \n",
      "[2025-07-30 03:45:32.787] Start to evalute the model:\n",
      "[2025-07-30 03:45:32.787] Evaluating cascade layer = 0 \n"
     ]
    },
    {
     "name": "stderr",
     "output_type": "stream",
     "text": [
      "Exact explainer:  44%|████▍     | 91/206 [01:01<01:19,  1.45it/s]"
     ]
    },
    {
     "name": "stdout",
     "output_type": "stream",
     "text": [
      "[2025-07-30 03:45:32.885] Evaluating cascade layer = 1 \n",
      "[2025-07-30 03:45:33.020] Start to evalute the model:\n",
      "[2025-07-30 03:45:33.020] Evaluating cascade layer = 0 \n",
      "[2025-07-30 03:45:33.253] Evaluating cascade layer = 1 \n",
      "[2025-07-30 03:45:33.453] Start to evalute the model:\n",
      "[2025-07-30 03:45:33.453] Evaluating cascade layer = 0 \n"
     ]
    },
    {
     "name": "stderr",
     "output_type": "stream",
     "text": [
      "Exact explainer:  45%|████▍     | 92/206 [01:01<01:18,  1.45it/s]"
     ]
    },
    {
     "name": "stdout",
     "output_type": "stream",
     "text": [
      "[2025-07-30 03:45:33.569] Evaluating cascade layer = 1 \n",
      "[2025-07-30 03:45:33.703] Start to evalute the model:\n",
      "[2025-07-30 03:45:33.703] Evaluating cascade layer = 0 \n",
      "[2025-07-30 03:45:33.919] Evaluating cascade layer = 1 \n",
      "[2025-07-30 03:45:34.120] Start to evalute the model:\n",
      "[2025-07-30 03:45:34.120] Evaluating cascade layer = 0 \n",
      "[2025-07-30 03:45:34.236] Evaluating cascade layer = 1 \n"
     ]
    },
    {
     "name": "stderr",
     "output_type": "stream",
     "text": [
      "Exact explainer:  45%|████▌     | 93/206 [01:02<01:17,  1.47it/s]"
     ]
    },
    {
     "name": "stdout",
     "output_type": "stream",
     "text": [
      "[2025-07-30 03:45:34.374] Start to evalute the model:\n",
      "[2025-07-30 03:45:34.381] Evaluating cascade layer = 0 \n",
      "[2025-07-30 03:45:34.587] Evaluating cascade layer = 1 \n",
      "[2025-07-30 03:45:34.790] Start to evalute the model:\n",
      "[2025-07-30 03:45:34.791] Evaluating cascade layer = 0 \n",
      "[2025-07-30 03:45:34.886] Evaluating cascade layer = 1 \n"
     ]
    },
    {
     "name": "stderr",
     "output_type": "stream",
     "text": [
      "Exact explainer:  46%|████▌     | 94/206 [01:03<01:15,  1.48it/s]"
     ]
    },
    {
     "name": "stdout",
     "output_type": "stream",
     "text": [
      "[2025-07-30 03:45:35.037] Start to evalute the model:\n",
      "[2025-07-30 03:45:35.053] Evaluating cascade layer = 0 \n",
      "[2025-07-30 03:45:35.270] Evaluating cascade layer = 1 \n",
      "[2025-07-30 03:45:35.522] Start to evalute the model:\n",
      "[2025-07-30 03:45:35.523] Evaluating cascade layer = 0 \n",
      "[2025-07-30 03:45:35.619] Evaluating cascade layer = 1 \n"
     ]
    },
    {
     "name": "stderr",
     "output_type": "stream",
     "text": [
      "Exact explainer:  46%|████▌     | 95/206 [01:03<01:16,  1.45it/s]"
     ]
    },
    {
     "name": "stdout",
     "output_type": "stream",
     "text": [
      "[2025-07-30 03:45:35.753] Start to evalute the model:\n",
      "[2025-07-30 03:45:35.753] Evaluating cascade layer = 0 \n",
      "[2025-07-30 03:45:35.970] Evaluating cascade layer = 1 \n",
      "[2025-07-30 03:45:36.174] Start to evalute the model:\n",
      "[2025-07-30 03:45:36.174] Evaluating cascade layer = 0 \n"
     ]
    },
    {
     "name": "stderr",
     "output_type": "stream",
     "text": [
      "Exact explainer:  47%|████▋     | 96/206 [01:04<01:15,  1.45it/s]"
     ]
    },
    {
     "name": "stdout",
     "output_type": "stream",
     "text": [
      "[2025-07-30 03:45:36.302] Evaluating cascade layer = 1 \n",
      "[2025-07-30 03:45:36.436] Start to evalute the model:\n",
      "[2025-07-30 03:45:36.436] Evaluating cascade layer = 0 \n",
      "[2025-07-30 03:45:36.653] Evaluating cascade layer = 1 \n",
      "[2025-07-30 03:45:36.853] Start to evalute the model:\n",
      "[2025-07-30 03:45:36.853] Evaluating cascade layer = 0 \n"
     ]
    },
    {
     "name": "stderr",
     "output_type": "stream",
     "text": [
      "Exact explainer:  47%|████▋     | 97/206 [01:05<01:14,  1.47it/s]"
     ]
    },
    {
     "name": "stdout",
     "output_type": "stream",
     "text": [
      "[2025-07-30 03:45:36.970] Evaluating cascade layer = 1 \n",
      "[2025-07-30 03:45:37.104] Start to evalute the model:\n",
      "[2025-07-30 03:45:37.104] Evaluating cascade layer = 0 \n",
      "[2025-07-30 03:45:37.320] Evaluating cascade layer = 1 \n",
      "[2025-07-30 03:45:37.520] Start to evalute the model:\n",
      "[2025-07-30 03:45:37.520] Evaluating cascade layer = 0 \n",
      "[2025-07-30 03:45:37.636] Evaluating cascade layer = 1 \n"
     ]
    },
    {
     "name": "stderr",
     "output_type": "stream",
     "text": [
      "Exact explainer:  48%|████▊     | 98/206 [01:05<01:13,  1.48it/s]"
     ]
    },
    {
     "name": "stdout",
     "output_type": "stream",
     "text": [
      "[2025-07-30 03:45:37.774] Start to evalute the model:\n",
      "[2025-07-30 03:45:37.780] Evaluating cascade layer = 0 \n",
      "[2025-07-30 03:45:37.987] Evaluating cascade layer = 1 \n",
      "[2025-07-30 03:45:38.188] Start to evalute the model:\n",
      "[2025-07-30 03:45:38.188] Evaluating cascade layer = 0 \n"
     ]
    },
    {
     "name": "stderr",
     "output_type": "stream",
     "text": [
      "Exact explainer:  48%|████▊     | 99/206 [01:06<01:14,  1.44it/s]"
     ]
    },
    {
     "name": "stdout",
     "output_type": "stream",
     "text": [
      "[2025-07-30 03:45:38.337] Evaluating cascade layer = 1 \n",
      "[2025-07-30 03:45:38.503] Start to evalute the model:\n",
      "[2025-07-30 03:45:38.503] Evaluating cascade layer = 0 \n",
      "[2025-07-30 03:45:38.753] Evaluating cascade layer = 1 \n",
      "[2025-07-30 03:45:38.953] Start to evalute the model:\n",
      "[2025-07-30 03:45:38.953] Evaluating cascade layer = 0 \n"
     ]
    },
    {
     "name": "stderr",
     "output_type": "stream",
     "text": [
      "Exact explainer:  49%|████▊     | 100/206 [01:07<01:12,  1.46it/s]"
     ]
    },
    {
     "name": "stdout",
     "output_type": "stream",
     "text": [
      "[2025-07-30 03:45:39.055] Evaluating cascade layer = 1 \n",
      "[2025-07-30 03:45:39.175] Start to evalute the model:\n",
      "[2025-07-30 03:45:39.181] Evaluating cascade layer = 0 \n",
      "[2025-07-30 03:45:39.402] Evaluating cascade layer = 1 \n",
      "[2025-07-30 03:45:39.603] Start to evalute the model:\n",
      "[2025-07-30 03:45:39.603] Evaluating cascade layer = 0 \n"
     ]
    },
    {
     "name": "stderr",
     "output_type": "stream",
     "text": [
      "Exact explainer:  49%|████▉     | 101/206 [01:07<01:12,  1.45it/s]"
     ]
    },
    {
     "name": "stdout",
     "output_type": "stream",
     "text": [
      "[2025-07-30 03:45:39.737] Evaluating cascade layer = 1 \n",
      "[2025-07-30 03:45:39.875] Start to evalute the model:\n",
      "[2025-07-30 03:45:39.883] Evaluating cascade layer = 0 \n",
      "[2025-07-30 03:45:40.085] Evaluating cascade layer = 1 \n",
      "[2025-07-30 03:45:40.287] Start to evalute the model:\n",
      "[2025-07-30 03:45:40.287] Evaluating cascade layer = 0 \n",
      "[2025-07-30 03:45:40.420] Evaluating cascade layer = 1 \n"
     ]
    },
    {
     "name": "stderr",
     "output_type": "stream",
     "text": [
      "Exact explainer:  50%|████▉     | 102/206 [01:08<01:11,  1.45it/s]"
     ]
    },
    {
     "name": "stdout",
     "output_type": "stream",
     "text": [
      "[2025-07-30 03:45:40.557] Start to evalute the model:\n",
      "[2025-07-30 03:45:40.557] Evaluating cascade layer = 0 \n",
      "[2025-07-30 03:45:40.770] Evaluating cascade layer = 1 \n",
      "[2025-07-30 03:45:40.973] Start to evalute the model:\n",
      "[2025-07-30 03:45:40.973] Evaluating cascade layer = 0 \n"
     ]
    },
    {
     "name": "stderr",
     "output_type": "stream",
     "text": [
      "Exact explainer:  50%|█████     | 103/206 [01:09<01:09,  1.48it/s]"
     ]
    },
    {
     "name": "stdout",
     "output_type": "stream",
     "text": [
      "[2025-07-30 03:45:41.085] Evaluating cascade layer = 1 \n",
      "[2025-07-30 03:45:41.208] Start to evalute the model:\n",
      "[2025-07-30 03:45:41.208] Evaluating cascade layer = 0 \n",
      "[2025-07-30 03:45:41.420] Evaluating cascade layer = 1 \n",
      "[2025-07-30 03:45:41.620] Start to evalute the model:\n",
      "[2025-07-30 03:45:41.620] Evaluating cascade layer = 0 \n"
     ]
    },
    {
     "name": "stderr",
     "output_type": "stream",
     "text": [
      "Exact explainer:  50%|█████     | 104/206 [01:09<01:09,  1.47it/s]"
     ]
    },
    {
     "name": "stdout",
     "output_type": "stream",
     "text": [
      "[2025-07-30 03:45:41.753] Evaluating cascade layer = 1 \n",
      "[2025-07-30 03:45:41.886] Start to evalute the model:\n",
      "[2025-07-30 03:45:41.903] Evaluating cascade layer = 0 \n",
      "[2025-07-30 03:45:42.137] Evaluating cascade layer = 1 \n",
      "[2025-07-30 03:45:42.337] Start to evalute the model:\n",
      "[2025-07-30 03:45:42.337] Evaluating cascade layer = 0 \n"
     ]
    },
    {
     "name": "stderr",
     "output_type": "stream",
     "text": [
      "Exact explainer:  51%|█████     | 105/206 [01:10<01:09,  1.45it/s]"
     ]
    },
    {
     "name": "stdout",
     "output_type": "stream",
     "text": [
      "[2025-07-30 03:45:42.470] Evaluating cascade layer = 1 \n",
      "[2025-07-30 03:45:42.608] Start to evalute the model:\n",
      "[2025-07-30 03:45:42.610] Evaluating cascade layer = 0 \n",
      "[2025-07-30 03:45:42.837] Evaluating cascade layer = 1 \n",
      "[2025-07-30 03:45:43.036] Start to evalute the model:\n",
      "[2025-07-30 03:45:43.036] Evaluating cascade layer = 0 \n"
     ]
    },
    {
     "name": "stderr",
     "output_type": "stream",
     "text": [
      "Exact explainer:  51%|█████▏    | 106/206 [01:11<01:09,  1.44it/s]"
     ]
    },
    {
     "name": "stdout",
     "output_type": "stream",
     "text": [
      "[2025-07-30 03:45:43.170] Evaluating cascade layer = 1 \n",
      "[2025-07-30 03:45:43.303] Start to evalute the model:\n",
      "[2025-07-30 03:45:43.303] Evaluating cascade layer = 0 \n",
      "[2025-07-30 03:45:43.569] Evaluating cascade layer = 1 \n",
      "[2025-07-30 03:45:43.773] Start to evalute the model:\n",
      "[2025-07-30 03:45:43.773] Evaluating cascade layer = 0 \n"
     ]
    },
    {
     "name": "stderr",
     "output_type": "stream",
     "text": [
      "Exact explainer:  52%|█████▏    | 107/206 [01:12<01:08,  1.44it/s]"
     ]
    },
    {
     "name": "stdout",
     "output_type": "stream",
     "text": [
      "[2025-07-30 03:45:43.896] Evaluating cascade layer = 1 \n",
      "[2025-07-30 03:45:44.008] Start to evalute the model:\n",
      "[2025-07-30 03:45:44.008] Evaluating cascade layer = 0 \n",
      "[2025-07-30 03:45:44.219] Evaluating cascade layer = 1 \n",
      "[2025-07-30 03:45:44.420] Start to evalute the model:\n",
      "[2025-07-30 03:45:44.420] Evaluating cascade layer = 0 \n"
     ]
    },
    {
     "name": "stderr",
     "output_type": "stream",
     "text": [
      "Exact explainer:  52%|█████▏    | 108/206 [01:12<01:07,  1.46it/s]"
     ]
    },
    {
     "name": "stdout",
     "output_type": "stream",
     "text": [
      "[2025-07-30 03:45:44.536] Evaluating cascade layer = 1 \n",
      "[2025-07-30 03:45:44.676] Start to evalute the model:\n",
      "[2025-07-30 03:45:44.682] Evaluating cascade layer = 0 \n",
      "[2025-07-30 03:45:44.887] Evaluating cascade layer = 1 \n",
      "[2025-07-30 03:45:45.088] Start to evalute the model:\n",
      "[2025-07-30 03:45:45.088] Evaluating cascade layer = 0 \n"
     ]
    },
    {
     "name": "stderr",
     "output_type": "stream",
     "text": [
      "Exact explainer:  53%|█████▎    | 109/206 [01:13<01:07,  1.44it/s]"
     ]
    },
    {
     "name": "stdout",
     "output_type": "stream",
     "text": [
      "[2025-07-30 03:45:45.254] Evaluating cascade layer = 1 \n",
      "[2025-07-30 03:45:45.387] Start to evalute the model:\n",
      "[2025-07-30 03:45:45.387] Evaluating cascade layer = 0 \n",
      "[2025-07-30 03:45:45.603] Evaluating cascade layer = 1 \n",
      "[2025-07-30 03:45:45.803] Start to evalute the model:\n",
      "[2025-07-30 03:45:45.803] Evaluating cascade layer = 0 \n"
     ]
    },
    {
     "name": "stderr",
     "output_type": "stream",
     "text": [
      "Exact explainer:  53%|█████▎    | 110/206 [01:14<01:05,  1.47it/s]"
     ]
    },
    {
     "name": "stdout",
     "output_type": "stream",
     "text": [
      "[2025-07-30 03:45:45.903] Evaluating cascade layer = 1 \n",
      "[2025-07-30 03:45:46.036] Start to evalute the model:\n",
      "[2025-07-30 03:45:46.054] Evaluating cascade layer = 0 \n",
      "[2025-07-30 03:45:46.253] Evaluating cascade layer = 1 \n",
      "[2025-07-30 03:45:46.453] Start to evalute the model:\n",
      "[2025-07-30 03:45:46.453] Evaluating cascade layer = 0 \n"
     ]
    },
    {
     "name": "stderr",
     "output_type": "stream",
     "text": [
      "Exact explainer:  54%|█████▍    | 111/206 [01:14<01:04,  1.47it/s]"
     ]
    },
    {
     "name": "stdout",
     "output_type": "stream",
     "text": [
      "[2025-07-30 03:45:46.584] Evaluating cascade layer = 1 \n",
      "[2025-07-30 03:45:46.720] Start to evalute the model:\n",
      "[2025-07-30 03:45:46.737] Evaluating cascade layer = 0 \n",
      "[2025-07-30 03:45:46.953] Evaluating cascade layer = 1 \n",
      "[2025-07-30 03:45:47.153] Start to evalute the model:\n",
      "[2025-07-30 03:45:47.153] Evaluating cascade layer = 0 \n"
     ]
    },
    {
     "name": "stderr",
     "output_type": "stream",
     "text": [
      "Exact explainer:  54%|█████▍    | 112/206 [01:15<01:04,  1.46it/s]"
     ]
    },
    {
     "name": "stdout",
     "output_type": "stream",
     "text": [
      "[2025-07-30 03:45:47.270] Evaluating cascade layer = 1 \n",
      "[2025-07-30 03:45:47.403] Start to evalute the model:\n",
      "[2025-07-30 03:45:47.421] Evaluating cascade layer = 0 \n",
      "[2025-07-30 03:45:47.620] Evaluating cascade layer = 1 \n",
      "[2025-07-30 03:45:47.820] Start to evalute the model:\n",
      "[2025-07-30 03:45:47.820] Evaluating cascade layer = 0 \n",
      "[2025-07-30 03:45:47.986] Evaluating cascade layer = 1 \n"
     ]
    },
    {
     "name": "stderr",
     "output_type": "stream",
     "text": [
      "Exact explainer:  55%|█████▍    | 113/206 [01:16<01:06,  1.40it/s]"
     ]
    },
    {
     "name": "stdout",
     "output_type": "stream",
     "text": [
      "[2025-07-30 03:45:48.187] Start to evalute the model:\n",
      "[2025-07-30 03:45:48.204] Evaluating cascade layer = 0 \n",
      "[2025-07-30 03:45:48.419] Evaluating cascade layer = 1 \n",
      "[2025-07-30 03:45:48.673] Start to evalute the model:\n",
      "[2025-07-30 03:45:48.674] Evaluating cascade layer = 0 \n",
      "[2025-07-30 03:45:48.803] Evaluating cascade layer = 1 \n"
     ]
    },
    {
     "name": "stderr",
     "output_type": "stream",
     "text": [
      "Exact explainer:  55%|█████▌    | 114/206 [01:16<01:06,  1.39it/s]"
     ]
    },
    {
     "name": "stdout",
     "output_type": "stream",
     "text": [
      "[2025-07-30 03:45:48.920] Start to evalute the model:\n",
      "[2025-07-30 03:45:48.920] Evaluating cascade layer = 0 \n",
      "[2025-07-30 03:45:49.154] Evaluating cascade layer = 1 \n",
      "[2025-07-30 03:45:49.354] Start to evalute the model:\n",
      "[2025-07-30 03:45:49.354] Evaluating cascade layer = 0 \n"
     ]
    },
    {
     "name": "stderr",
     "output_type": "stream",
     "text": [
      "Exact explainer:  56%|█████▌    | 115/206 [01:17<01:03,  1.43it/s]"
     ]
    },
    {
     "name": "stdout",
     "output_type": "stream",
     "text": [
      "[2025-07-30 03:45:49.453] Evaluating cascade layer = 1 \n",
      "[2025-07-30 03:45:49.582] Start to evalute the model:\n",
      "[2025-07-30 03:45:49.587] Evaluating cascade layer = 0 \n",
      "[2025-07-30 03:45:49.785] Evaluating cascade layer = 1 \n",
      "[2025-07-30 03:45:49.987] Start to evalute the model:\n",
      "[2025-07-30 03:45:49.987] Evaluating cascade layer = 0 \n",
      "[2025-07-30 03:45:50.103] Evaluating cascade layer = 1 \n"
     ]
    },
    {
     "name": "stderr",
     "output_type": "stream",
     "text": [
      "Exact explainer:  56%|█████▋    | 116/206 [01:18<01:01,  1.47it/s]"
     ]
    },
    {
     "name": "stdout",
     "output_type": "stream",
     "text": [
      "[2025-07-30 03:45:50.203] Start to evalute the model:\n",
      "[2025-07-30 03:45:50.203] Evaluating cascade layer = 0 \n",
      "[2025-07-30 03:45:50.420] Evaluating cascade layer = 1 \n",
      "[2025-07-30 03:45:50.620] Start to evalute the model:\n",
      "[2025-07-30 03:45:50.620] Evaluating cascade layer = 0 \n"
     ]
    },
    {
     "name": "stderr",
     "output_type": "stream",
     "text": [
      "Exact explainer:  57%|█████▋    | 117/206 [01:18<01:00,  1.48it/s]"
     ]
    },
    {
     "name": "stdout",
     "output_type": "stream",
     "text": [
      "[2025-07-30 03:45:50.753] Evaluating cascade layer = 1 \n",
      "[2025-07-30 03:45:50.875] Start to evalute the model:\n",
      "[2025-07-30 03:45:50.881] Evaluating cascade layer = 0 \n",
      "[2025-07-30 03:45:51.103] Evaluating cascade layer = 1 \n",
      "[2025-07-30 03:45:51.303] Start to evalute the model:\n",
      "[2025-07-30 03:45:51.303] Evaluating cascade layer = 0 \n"
     ]
    },
    {
     "name": "stderr",
     "output_type": "stream",
     "text": [
      "Exact explainer:  57%|█████▋    | 118/206 [01:19<01:00,  1.47it/s]"
     ]
    },
    {
     "name": "stdout",
     "output_type": "stream",
     "text": [
      "[2025-07-30 03:45:51.437] Evaluating cascade layer = 1 \n",
      "[2025-07-30 03:45:51.574] Start to evalute the model:\n",
      "[2025-07-30 03:45:51.580] Evaluating cascade layer = 0 \n",
      "[2025-07-30 03:45:51.803] Evaluating cascade layer = 1 \n",
      "[2025-07-30 03:45:52.003] Start to evalute the model:\n",
      "[2025-07-30 03:45:52.003] Evaluating cascade layer = 0 \n"
     ]
    },
    {
     "name": "stderr",
     "output_type": "stream",
     "text": [
      "Exact explainer:  58%|█████▊    | 119/206 [01:20<00:57,  1.51it/s]"
     ]
    },
    {
     "name": "stdout",
     "output_type": "stream",
     "text": [
      "[2025-07-30 03:45:52.085] Evaluating cascade layer = 1 \n",
      "[2025-07-30 03:45:52.187] Start to evalute the model:\n",
      "[2025-07-30 03:45:52.187] Evaluating cascade layer = 0 \n",
      "[2025-07-30 03:45:52.403] Evaluating cascade layer = 1 \n",
      "[2025-07-30 03:45:52.607] Start to evalute the model:\n",
      "[2025-07-30 03:45:52.607] Evaluating cascade layer = 0 \n"
     ]
    },
    {
     "name": "stderr",
     "output_type": "stream",
     "text": [
      "Exact explainer:  58%|█████▊    | 120/206 [01:20<00:56,  1.52it/s]"
     ]
    },
    {
     "name": "stdout",
     "output_type": "stream",
     "text": [
      "[2025-07-30 03:45:52.720] Evaluating cascade layer = 1 \n",
      "[2025-07-30 03:45:52.837] Start to evalute the model:\n",
      "[2025-07-30 03:45:52.837] Evaluating cascade layer = 0 \n",
      "[2025-07-30 03:45:53.103] Evaluating cascade layer = 1 \n",
      "[2025-07-30 03:45:53.303] Start to evalute the model:\n",
      "[2025-07-30 03:45:53.303] Evaluating cascade layer = 0 \n"
     ]
    },
    {
     "name": "stderr",
     "output_type": "stream",
     "text": [
      "Exact explainer:  59%|█████▊    | 121/206 [01:21<00:57,  1.49it/s]"
     ]
    },
    {
     "name": "stdout",
     "output_type": "stream",
     "text": [
      "[2025-07-30 03:45:53.403] Evaluating cascade layer = 1 \n",
      "[2025-07-30 03:45:53.536] Start to evalute the model:\n",
      "[2025-07-30 03:45:53.536] Evaluating cascade layer = 0 \n",
      "[2025-07-30 03:45:53.753] Evaluating cascade layer = 1 \n",
      "[2025-07-30 03:45:53.953] Start to evalute the model:\n",
      "[2025-07-30 03:45:53.953] Evaluating cascade layer = 0 \n"
     ]
    },
    {
     "name": "stderr",
     "output_type": "stream",
     "text": [
      "Exact explainer:  59%|█████▉    | 122/206 [01:22<00:56,  1.49it/s]"
     ]
    },
    {
     "name": "stdout",
     "output_type": "stream",
     "text": [
      "[2025-07-30 03:45:54.070] Evaluating cascade layer = 1 \n",
      "[2025-07-30 03:45:54.207] Start to evalute the model:\n",
      "[2025-07-30 03:45:54.207] Evaluating cascade layer = 0 \n",
      "[2025-07-30 03:45:54.436] Evaluating cascade layer = 1 \n",
      "[2025-07-30 03:45:54.637] Start to evalute the model:\n",
      "[2025-07-30 03:45:54.637] Evaluating cascade layer = 0 \n"
     ]
    },
    {
     "name": "stderr",
     "output_type": "stream",
     "text": [
      "Exact explainer:  60%|█████▉    | 123/206 [01:22<00:56,  1.47it/s]"
     ]
    },
    {
     "name": "stdout",
     "output_type": "stream",
     "text": [
      "[2025-07-30 03:45:54.770] Evaluating cascade layer = 1 \n",
      "[2025-07-30 03:45:54.904] Start to evalute the model:\n",
      "[2025-07-30 03:45:54.904] Evaluating cascade layer = 0 \n",
      "[2025-07-30 03:45:55.120] Evaluating cascade layer = 1 \n",
      "[2025-07-30 03:45:55.320] Start to evalute the model:\n",
      "[2025-07-30 03:45:55.320] Evaluating cascade layer = 0 \n"
     ]
    },
    {
     "name": "stderr",
     "output_type": "stream",
     "text": [
      "Exact explainer:  60%|██████    | 124/206 [01:23<00:54,  1.49it/s]"
     ]
    },
    {
     "name": "stdout",
     "output_type": "stream",
     "text": [
      "[2025-07-30 03:45:55.420] Evaluating cascade layer = 1 \n",
      "[2025-07-30 03:45:55.553] Start to evalute the model:\n",
      "[2025-07-30 03:45:55.553] Evaluating cascade layer = 0 \n",
      "[2025-07-30 03:45:55.753] Evaluating cascade layer = 1 \n",
      "[2025-07-30 03:45:55.953] Start to evalute the model:\n",
      "[2025-07-30 03:45:55.953] Evaluating cascade layer = 0 \n"
     ]
    },
    {
     "name": "stderr",
     "output_type": "stream",
     "text": [
      "Exact explainer:  61%|██████    | 125/206 [01:24<00:54,  1.49it/s]"
     ]
    },
    {
     "name": "stdout",
     "output_type": "stream",
     "text": [
      "[2025-07-30 03:45:56.085] Evaluating cascade layer = 1 \n",
      "[2025-07-30 03:45:56.220] Start to evalute the model:\n",
      "[2025-07-30 03:45:56.220] Evaluating cascade layer = 0 \n",
      "[2025-07-30 03:45:56.453] Evaluating cascade layer = 1 \n",
      "[2025-07-30 03:45:56.653] Start to evalute the model:\n",
      "[2025-07-30 03:45:56.653] Evaluating cascade layer = 0 \n"
     ]
    },
    {
     "name": "stderr",
     "output_type": "stream",
     "text": [
      "Exact explainer:  61%|██████    | 126/206 [01:24<00:53,  1.48it/s]"
     ]
    },
    {
     "name": "stdout",
     "output_type": "stream",
     "text": [
      "[2025-07-30 03:45:56.770] Evaluating cascade layer = 1 \n",
      "[2025-07-30 03:45:56.908] Start to evalute the model:\n",
      "[2025-07-30 03:45:56.909] Evaluating cascade layer = 0 \n",
      "[2025-07-30 03:45:57.120] Evaluating cascade layer = 1 \n",
      "[2025-07-30 03:45:57.320] Start to evalute the model:\n",
      "[2025-07-30 03:45:57.320] Evaluating cascade layer = 0 \n"
     ]
    },
    {
     "name": "stderr",
     "output_type": "stream",
     "text": [
      "Exact explainer:  62%|██████▏   | 127/206 [01:25<00:53,  1.49it/s]"
     ]
    },
    {
     "name": "stdout",
     "output_type": "stream",
     "text": [
      "[2025-07-30 03:45:57.436] Evaluating cascade layer = 1 \n",
      "[2025-07-30 03:45:57.577] Start to evalute the model:\n",
      "[2025-07-30 03:45:57.587] Evaluating cascade layer = 0 \n",
      "[2025-07-30 03:45:57.837] Evaluating cascade layer = 1 \n",
      "[2025-07-30 03:45:58.037] Start to evalute the model:\n",
      "[2025-07-30 03:45:58.037] Evaluating cascade layer = 0 \n"
     ]
    },
    {
     "name": "stderr",
     "output_type": "stream",
     "text": [
      "Exact explainer:  62%|██████▏   | 128/206 [01:26<00:53,  1.45it/s]"
     ]
    },
    {
     "name": "stdout",
     "output_type": "stream",
     "text": [
      "[2025-07-30 03:45:58.170] Evaluating cascade layer = 1 \n",
      "[2025-07-30 03:45:58.307] Start to evalute the model:\n",
      "[2025-07-30 03:45:58.311] Evaluating cascade layer = 0 \n",
      "[2025-07-30 03:45:58.519] Evaluating cascade layer = 1 \n",
      "[2025-07-30 03:45:58.720] Start to evalute the model:\n",
      "[2025-07-30 03:45:58.720] Evaluating cascade layer = 0 \n"
     ]
    },
    {
     "name": "stderr",
     "output_type": "stream",
     "text": [
      "Exact explainer:  63%|██████▎   | 129/206 [01:27<00:52,  1.45it/s]"
     ]
    },
    {
     "name": "stdout",
     "output_type": "stream",
     "text": [
      "[2025-07-30 03:45:58.853] Evaluating cascade layer = 1 \n",
      "[2025-07-30 03:45:58.987] Start to evalute the model:\n",
      "[2025-07-30 03:45:58.987] Evaluating cascade layer = 0 \n",
      "[2025-07-30 03:45:59.203] Evaluating cascade layer = 1 \n",
      "[2025-07-30 03:45:59.403] Start to evalute the model:\n",
      "[2025-07-30 03:45:59.403] Evaluating cascade layer = 0 \n"
     ]
    },
    {
     "name": "stderr",
     "output_type": "stream",
     "text": [
      "Exact explainer:  63%|██████▎   | 130/206 [01:27<00:51,  1.48it/s]"
     ]
    },
    {
     "name": "stdout",
     "output_type": "stream",
     "text": [
      "[2025-07-30 03:45:59.502] Evaluating cascade layer = 1 \n",
      "[2025-07-30 03:45:59.637] Start to evalute the model:\n",
      "[2025-07-30 03:45:59.637] Evaluating cascade layer = 0 \n",
      "[2025-07-30 03:45:59.870] Evaluating cascade layer = 1 \n",
      "[2025-07-30 03:46:00.074] Start to evalute the model:\n",
      "[2025-07-30 03:46:00.074] Evaluating cascade layer = 0 \n"
     ]
    },
    {
     "name": "stderr",
     "output_type": "stream",
     "text": [
      "Exact explainer:  64%|██████▎   | 131/206 [01:28<00:50,  1.48it/s]"
     ]
    },
    {
     "name": "stdout",
     "output_type": "stream",
     "text": [
      "[2025-07-30 03:46:00.186] Evaluating cascade layer = 1 \n",
      "[2025-07-30 03:46:00.304] Start to evalute the model:\n",
      "[2025-07-30 03:46:00.304] Evaluating cascade layer = 0 \n",
      "[2025-07-30 03:46:00.520] Evaluating cascade layer = 1 \n",
      "[2025-07-30 03:46:00.720] Start to evalute the model:\n",
      "[2025-07-30 03:46:00.720] Evaluating cascade layer = 0 \n",
      "[2025-07-30 03:46:00.837] Evaluating cascade layer = 1 \n"
     ]
    },
    {
     "name": "stderr",
     "output_type": "stream",
     "text": [
      "Exact explainer:  64%|██████▍   | 132/206 [01:28<00:49,  1.49it/s]"
     ]
    },
    {
     "name": "stdout",
     "output_type": "stream",
     "text": [
      "[2025-07-30 03:46:00.978] Start to evalute the model:\n",
      "[2025-07-30 03:46:00.985] Evaluating cascade layer = 0 \n",
      "[2025-07-30 03:46:01.184] Evaluating cascade layer = 1 \n",
      "[2025-07-30 03:46:01.387] Start to evalute the model:\n",
      "[2025-07-30 03:46:01.387] Evaluating cascade layer = 0 \n",
      "[2025-07-30 03:46:01.503] Evaluating cascade layer = 1 \n"
     ]
    },
    {
     "name": "stderr",
     "output_type": "stream",
     "text": [
      "Exact explainer:  65%|██████▍   | 133/206 [01:29<00:48,  1.51it/s]"
     ]
    },
    {
     "name": "stdout",
     "output_type": "stream",
     "text": [
      "[2025-07-30 03:46:01.603] Start to evalute the model:\n",
      "[2025-07-30 03:46:01.603] Evaluating cascade layer = 0 \n",
      "[2025-07-30 03:46:01.820] Evaluating cascade layer = 1 \n",
      "[2025-07-30 03:46:02.037] Start to evalute the model:\n",
      "[2025-07-30 03:46:02.037] Evaluating cascade layer = 0 \n",
      "[2025-07-30 03:46:02.137] Evaluating cascade layer = 1 \n"
     ]
    },
    {
     "name": "stderr",
     "output_type": "stream",
     "text": [
      "Exact explainer:  65%|██████▌   | 134/206 [01:30<00:47,  1.51it/s]"
     ]
    },
    {
     "name": "stdout",
     "output_type": "stream",
     "text": [
      "[2025-07-30 03:46:02.275] Start to evalute the model:\n",
      "[2025-07-30 03:46:02.281] Evaluating cascade layer = 0 \n",
      "[2025-07-30 03:46:02.486] Evaluating cascade layer = 1 \n",
      "[2025-07-30 03:46:02.737] Start to evalute the model:\n",
      "[2025-07-30 03:46:02.737] Evaluating cascade layer = 0 \n",
      "[2025-07-30 03:46:02.870] Evaluating cascade layer = 1 \n"
     ]
    },
    {
     "name": "stderr",
     "output_type": "stream",
     "text": [
      "Exact explainer:  66%|██████▌   | 135/206 [01:31<00:48,  1.46it/s]"
     ]
    },
    {
     "name": "stdout",
     "output_type": "stream",
     "text": [
      "[2025-07-30 03:46:03.003] Start to evalute the model:\n",
      "[2025-07-30 03:46:03.003] Evaluating cascade layer = 0 \n",
      "[2025-07-30 03:46:03.236] Evaluating cascade layer = 1 \n",
      "[2025-07-30 03:46:03.437] Start to evalute the model:\n",
      "[2025-07-30 03:46:03.437] Evaluating cascade layer = 0 \n"
     ]
    },
    {
     "name": "stderr",
     "output_type": "stream",
     "text": [
      "Exact explainer:  66%|██████▌   | 136/206 [01:31<00:48,  1.45it/s]"
     ]
    },
    {
     "name": "stdout",
     "output_type": "stream",
     "text": [
      "[2025-07-30 03:46:03.570] Evaluating cascade layer = 1 \n",
      "[2025-07-30 03:46:03.704] Start to evalute the model:\n",
      "[2025-07-30 03:46:03.704] Evaluating cascade layer = 0 \n",
      "[2025-07-30 03:46:03.920] Evaluating cascade layer = 1 \n",
      "[2025-07-30 03:46:04.122] Start to evalute the model:\n",
      "[2025-07-30 03:46:04.123] Evaluating cascade layer = 0 \n"
     ]
    },
    {
     "name": "stderr",
     "output_type": "stream",
     "text": [
      "Exact explainer:  67%|██████▋   | 137/206 [01:32<00:46,  1.49it/s]"
     ]
    },
    {
     "name": "stdout",
     "output_type": "stream",
     "text": [
      "[2025-07-30 03:46:04.236] Evaluating cascade layer = 1 \n",
      "[2025-07-30 03:46:04.341] Start to evalute the model:\n",
      "[2025-07-30 03:46:04.341] Evaluating cascade layer = 0 \n",
      "[2025-07-30 03:46:04.553] Evaluating cascade layer = 1 \n",
      "[2025-07-30 03:46:04.753] Start to evalute the model:\n",
      "[2025-07-30 03:46:04.753] Evaluating cascade layer = 0 \n"
     ]
    },
    {
     "name": "stderr",
     "output_type": "stream",
     "text": [
      "Exact explainer:  67%|██████▋   | 138/206 [01:33<00:45,  1.49it/s]"
     ]
    },
    {
     "name": "stdout",
     "output_type": "stream",
     "text": [
      "[2025-07-30 03:46:04.869] Evaluating cascade layer = 1 \n",
      "[2025-07-30 03:46:05.003] Start to evalute the model:\n",
      "[2025-07-30 03:46:05.020] Evaluating cascade layer = 0 \n",
      "[2025-07-30 03:46:05.220] Evaluating cascade layer = 1 \n",
      "[2025-07-30 03:46:05.420] Start to evalute the model:\n",
      "[2025-07-30 03:46:05.420] Evaluating cascade layer = 0 \n"
     ]
    },
    {
     "name": "stderr",
     "output_type": "stream",
     "text": [
      "Exact explainer:  67%|██████▋   | 139/206 [01:33<00:47,  1.41it/s]"
     ]
    },
    {
     "name": "stdout",
     "output_type": "stream",
     "text": [
      "[2025-07-30 03:46:05.670] Evaluating cascade layer = 1 \n",
      "[2025-07-30 03:46:05.804] Start to evalute the model:\n",
      "[2025-07-30 03:46:05.804] Evaluating cascade layer = 0 \n",
      "[2025-07-30 03:46:06.020] Evaluating cascade layer = 1 \n",
      "[2025-07-30 03:46:06.220] Start to evalute the model:\n",
      "[2025-07-30 03:46:06.220] Evaluating cascade layer = 0 \n",
      "[2025-07-30 03:46:06.336] Evaluating cascade layer = 1 \n"
     ]
    },
    {
     "name": "stderr",
     "output_type": "stream",
     "text": [
      "Exact explainer:  68%|██████▊   | 140/206 [01:34<00:46,  1.41it/s]"
     ]
    },
    {
     "name": "stdout",
     "output_type": "stream",
     "text": [
      "[2025-07-30 03:46:06.520] Start to evalute the model:\n",
      "[2025-07-30 03:46:06.537] Evaluating cascade layer = 0 \n",
      "[2025-07-30 03:46:06.753] Evaluating cascade layer = 1 \n",
      "[2025-07-30 03:46:06.953] Start to evalute the model:\n",
      "[2025-07-30 03:46:06.953] Evaluating cascade layer = 0 \n"
     ]
    },
    {
     "name": "stderr",
     "output_type": "stream",
     "text": [
      "Exact explainer:  68%|██████▊   | 141/206 [01:35<00:45,  1.42it/s]"
     ]
    },
    {
     "name": "stdout",
     "output_type": "stream",
     "text": [
      "[2025-07-30 03:46:07.070] Evaluating cascade layer = 1 \n",
      "[2025-07-30 03:46:07.203] Start to evalute the model:\n",
      "[2025-07-30 03:46:07.203] Evaluating cascade layer = 0 \n",
      "[2025-07-30 03:46:07.436] Evaluating cascade layer = 1 \n",
      "[2025-07-30 03:46:07.637] Start to evalute the model:\n",
      "[2025-07-30 03:46:07.637] Evaluating cascade layer = 0 \n"
     ]
    },
    {
     "name": "stderr",
     "output_type": "stream",
     "text": [
      "Exact explainer:  69%|██████▉   | 142/206 [01:35<00:44,  1.43it/s]"
     ]
    },
    {
     "name": "stdout",
     "output_type": "stream",
     "text": [
      "[2025-07-30 03:46:07.771] Evaluating cascade layer = 1 \n",
      "[2025-07-30 03:46:07.887] Start to evalute the model:\n",
      "[2025-07-30 03:46:07.887] Evaluating cascade layer = 0 \n",
      "[2025-07-30 03:46:08.103] Evaluating cascade layer = 1 \n",
      "[2025-07-30 03:46:08.307] Start to evalute the model:\n",
      "[2025-07-30 03:46:08.307] Evaluating cascade layer = 0 \n"
     ]
    },
    {
     "name": "stderr",
     "output_type": "stream",
     "text": [
      "Exact explainer:  69%|██████▉   | 143/206 [01:36<00:43,  1.45it/s]"
     ]
    },
    {
     "name": "stdout",
     "output_type": "stream",
     "text": [
      "[2025-07-30 03:46:08.420] Evaluating cascade layer = 1 \n",
      "[2025-07-30 03:46:08.553] Start to evalute the model:\n",
      "[2025-07-30 03:46:08.553] Evaluating cascade layer = 0 \n",
      "[2025-07-30 03:46:08.770] Evaluating cascade layer = 1 \n",
      "[2025-07-30 03:46:08.974] Start to evalute the model:\n",
      "[2025-07-30 03:46:08.974] Evaluating cascade layer = 0 \n"
     ]
    },
    {
     "name": "stderr",
     "output_type": "stream",
     "text": [
      "Exact explainer:  70%|██████▉   | 144/206 [01:37<00:42,  1.47it/s]"
     ]
    },
    {
     "name": "stdout",
     "output_type": "stream",
     "text": [
      "[2025-07-30 03:46:09.103] Evaluating cascade layer = 1 \n",
      "[2025-07-30 03:46:09.220] Start to evalute the model:\n",
      "[2025-07-30 03:46:09.220] Evaluating cascade layer = 0 \n",
      "[2025-07-30 03:46:09.437] Evaluating cascade layer = 1 \n",
      "[2025-07-30 03:46:09.637] Start to evalute the model:\n",
      "[2025-07-30 03:46:09.637] Evaluating cascade layer = 0 \n"
     ]
    },
    {
     "name": "stderr",
     "output_type": "stream",
     "text": [
      "Exact explainer:  70%|███████   | 145/206 [01:37<00:40,  1.49it/s]"
     ]
    },
    {
     "name": "stdout",
     "output_type": "stream",
     "text": [
      "[2025-07-30 03:46:09.736] Evaluating cascade layer = 1 \n",
      "[2025-07-30 03:46:09.874] Start to evalute the model:\n",
      "[2025-07-30 03:46:09.880] Evaluating cascade layer = 0 \n",
      "[2025-07-30 03:46:10.085] Evaluating cascade layer = 1 \n",
      "[2025-07-30 03:46:10.287] Start to evalute the model:\n",
      "[2025-07-30 03:46:10.287] Evaluating cascade layer = 0 \n"
     ]
    },
    {
     "name": "stderr",
     "output_type": "stream",
     "text": [
      "Exact explainer:  71%|███████   | 146/206 [01:38<00:40,  1.48it/s]"
     ]
    },
    {
     "name": "stdout",
     "output_type": "stream",
     "text": [
      "[2025-07-30 03:46:10.420] Evaluating cascade layer = 1 \n",
      "[2025-07-30 03:46:10.553] Start to evalute the model:\n",
      "[2025-07-30 03:46:10.553] Evaluating cascade layer = 0 \n",
      "[2025-07-30 03:46:10.770] Evaluating cascade layer = 1 \n",
      "[2025-07-30 03:46:10.973] Start to evalute the model:\n",
      "[2025-07-30 03:46:10.973] Evaluating cascade layer = 0 \n"
     ]
    },
    {
     "name": "stderr",
     "output_type": "stream",
     "text": [
      "Exact explainer:  71%|███████▏  | 147/206 [01:39<00:39,  1.50it/s]"
     ]
    },
    {
     "name": "stdout",
     "output_type": "stream",
     "text": [
      "[2025-07-30 03:46:11.087] Evaluating cascade layer = 1 \n",
      "[2025-07-30 03:46:11.208] Start to evalute the model:\n",
      "[2025-07-30 03:46:11.208] Evaluating cascade layer = 0 \n",
      "[2025-07-30 03:46:11.420] Evaluating cascade layer = 1 \n",
      "[2025-07-30 03:46:11.620] Start to evalute the model:\n",
      "[2025-07-30 03:46:11.620] Evaluating cascade layer = 0 \n"
     ]
    },
    {
     "name": "stderr",
     "output_type": "stream",
     "text": [
      "Exact explainer:  72%|███████▏  | 148/206 [01:39<00:38,  1.50it/s]"
     ]
    },
    {
     "name": "stdout",
     "output_type": "stream",
     "text": [
      "[2025-07-30 03:46:11.737] Evaluating cascade layer = 1 \n",
      "[2025-07-30 03:46:11.875] Start to evalute the model:\n",
      "[2025-07-30 03:46:11.887] Evaluating cascade layer = 0 \n",
      "[2025-07-30 03:46:12.103] Evaluating cascade layer = 1 \n",
      "[2025-07-30 03:46:12.337] Start to evalute the model:\n",
      "[2025-07-30 03:46:12.337] Evaluating cascade layer = 0 \n",
      "[2025-07-30 03:46:12.470] Evaluating cascade layer = 1 \n"
     ]
    },
    {
     "name": "stderr",
     "output_type": "stream",
     "text": [
      "Exact explainer:  72%|███████▏  | 149/206 [01:40<00:38,  1.47it/s]"
     ]
    },
    {
     "name": "stdout",
     "output_type": "stream",
     "text": [
      "[2025-07-30 03:46:12.587] Start to evalute the model:\n",
      "[2025-07-30 03:46:12.587] Evaluating cascade layer = 0 \n",
      "[2025-07-30 03:46:12.803] Evaluating cascade layer = 1 \n",
      "[2025-07-30 03:46:13.020] Start to evalute the model:\n",
      "[2025-07-30 03:46:13.020] Evaluating cascade layer = 0 \n",
      "[2025-07-30 03:46:13.154] Evaluating cascade layer = 1 \n"
     ]
    },
    {
     "name": "stderr",
     "output_type": "stream",
     "text": [
      "Exact explainer:  73%|███████▎  | 150/206 [01:41<00:38,  1.46it/s]"
     ]
    },
    {
     "name": "stdout",
     "output_type": "stream",
     "text": [
      "[2025-07-30 03:46:13.278] Start to evalute the model:\n",
      "[2025-07-30 03:46:13.285] Evaluating cascade layer = 0 \n",
      "[2025-07-30 03:46:13.503] Evaluating cascade layer = 1 \n",
      "[2025-07-30 03:46:13.720] Start to evalute the model:\n",
      "[2025-07-30 03:46:13.720] Evaluating cascade layer = 0 \n",
      "[2025-07-30 03:46:13.836] Evaluating cascade layer = 1 \n"
     ]
    },
    {
     "name": "stderr",
     "output_type": "stream",
     "text": [
      "Exact explainer:  73%|███████▎  | 151/206 [01:42<00:38,  1.42it/s]"
     ]
    },
    {
     "name": "stdout",
     "output_type": "stream",
     "text": [
      "[2025-07-30 03:46:14.037] Start to evalute the model:\n",
      "[2025-07-30 03:46:14.037] Evaluating cascade layer = 0 \n",
      "[2025-07-30 03:46:14.270] Evaluating cascade layer = 1 \n",
      "[2025-07-30 03:46:14.473] Start to evalute the model:\n",
      "[2025-07-30 03:46:14.473] Evaluating cascade layer = 0 \n"
     ]
    },
    {
     "name": "stderr",
     "output_type": "stream",
     "text": [
      "Exact explainer:  74%|███████▍  | 152/206 [01:42<00:38,  1.42it/s]"
     ]
    },
    {
     "name": "stdout",
     "output_type": "stream",
     "text": [
      "[2025-07-30 03:46:14.603] Evaluating cascade layer = 1 \n",
      "[2025-07-30 03:46:14.737] Start to evalute the model:\n",
      "[2025-07-30 03:46:14.737] Evaluating cascade layer = 0 \n",
      "[2025-07-30 03:46:14.970] Evaluating cascade layer = 1 \n",
      "[2025-07-30 03:46:15.175] Start to evalute the model:\n",
      "[2025-07-30 03:46:15.175] Evaluating cascade layer = 0 \n",
      "[2025-07-30 03:46:15.304] Evaluating cascade layer = 1 \n"
     ]
    },
    {
     "name": "stderr",
     "output_type": "stream",
     "text": [
      "Exact explainer:  74%|███████▍  | 153/206 [01:43<00:37,  1.42it/s]"
     ]
    },
    {
     "name": "stdout",
     "output_type": "stream",
     "text": [
      "[2025-07-30 03:46:15.438] Start to evalute the model:\n",
      "[2025-07-30 03:46:15.438] Evaluating cascade layer = 0 \n",
      "[2025-07-30 03:46:15.653] Evaluating cascade layer = 1 \n",
      "[2025-07-30 03:46:15.874] Start to evalute the model:\n",
      "[2025-07-30 03:46:15.874] Evaluating cascade layer = 0 \n",
      "[2025-07-30 03:46:16.004] Evaluating cascade layer = 1 \n"
     ]
    },
    {
     "name": "stderr",
     "output_type": "stream",
     "text": [
      "Exact explainer:  75%|███████▍  | 154/206 [01:44<00:36,  1.43it/s]"
     ]
    },
    {
     "name": "stdout",
     "output_type": "stream",
     "text": [
      "[2025-07-30 03:46:16.120] Start to evalute the model:\n",
      "[2025-07-30 03:46:16.120] Evaluating cascade layer = 0 \n",
      "[2025-07-30 03:46:16.337] Evaluating cascade layer = 1 \n",
      "[2025-07-30 03:46:16.603] Start to evalute the model:\n",
      "[2025-07-30 03:46:16.603] Evaluating cascade layer = 0 \n",
      "[2025-07-30 03:46:16.736] Evaluating cascade layer = 1 \n"
     ]
    },
    {
     "name": "stderr",
     "output_type": "stream",
     "text": [
      "Exact explainer:  75%|███████▌  | 155/206 [01:44<00:36,  1.41it/s]"
     ]
    },
    {
     "name": "stdout",
     "output_type": "stream",
     "text": [
      "[2025-07-30 03:46:16.854] Start to evalute the model:\n",
      "[2025-07-30 03:46:16.854] Evaluating cascade layer = 0 \n",
      "[2025-07-30 03:46:17.070] Evaluating cascade layer = 1 \n",
      "[2025-07-30 03:46:17.273] Start to evalute the model:\n",
      "[2025-07-30 03:46:17.273] Evaluating cascade layer = 0 \n"
     ]
    },
    {
     "name": "stderr",
     "output_type": "stream",
     "text": [
      "Exact explainer:  76%|███████▌  | 156/206 [01:45<00:34,  1.46it/s]"
     ]
    },
    {
     "name": "stdout",
     "output_type": "stream",
     "text": [
      "[2025-07-30 03:46:17.353] Evaluating cascade layer = 1 \n",
      "[2025-07-30 03:46:17.487] Start to evalute the model:\n",
      "[2025-07-30 03:46:17.487] Evaluating cascade layer = 0 \n",
      "[2025-07-30 03:46:17.704] Evaluating cascade layer = 1 \n",
      "[2025-07-30 03:46:17.903] Start to evalute the model:\n",
      "[2025-07-30 03:46:17.903] Evaluating cascade layer = 0 \n"
     ]
    },
    {
     "name": "stderr",
     "output_type": "stream",
     "text": [
      "Exact explainer:  76%|███████▌  | 157/206 [01:46<00:33,  1.46it/s]"
     ]
    },
    {
     "name": "stdout",
     "output_type": "stream",
     "text": [
      "[2025-07-30 03:46:18.037] Evaluating cascade layer = 1 \n",
      "[2025-07-30 03:46:18.174] Start to evalute the model:\n",
      "[2025-07-30 03:46:18.179] Evaluating cascade layer = 0 \n",
      "[2025-07-30 03:46:18.386] Evaluating cascade layer = 1 \n",
      "[2025-07-30 03:46:18.587] Start to evalute the model:\n",
      "[2025-07-30 03:46:18.587] Evaluating cascade layer = 0 \n",
      "[2025-07-30 03:46:18.720] Evaluating cascade layer = 1 \n"
     ]
    },
    {
     "name": "stderr",
     "output_type": "stream",
     "text": [
      "Exact explainer:  77%|███████▋  | 158/206 [01:46<00:32,  1.46it/s]"
     ]
    },
    {
     "name": "stdout",
     "output_type": "stream",
     "text": [
      "[2025-07-30 03:46:18.853] Start to evalute the model:\n",
      "[2025-07-30 03:46:18.853] Evaluating cascade layer = 0 \n",
      "[2025-07-30 03:46:19.070] Evaluating cascade layer = 1 \n",
      "[2025-07-30 03:46:19.273] Start to evalute the model:\n",
      "[2025-07-30 03:46:19.273] Evaluating cascade layer = 0 \n"
     ]
    },
    {
     "name": "stderr",
     "output_type": "stream",
     "text": [
      "Exact explainer:  77%|███████▋  | 159/206 [01:47<00:32,  1.46it/s]"
     ]
    },
    {
     "name": "stdout",
     "output_type": "stream",
     "text": [
      "[2025-07-30 03:46:19.403] Evaluating cascade layer = 1 \n",
      "[2025-07-30 03:46:19.537] Start to evalute the model:\n",
      "[2025-07-30 03:46:19.537] Evaluating cascade layer = 0 \n",
      "[2025-07-30 03:46:19.753] Evaluating cascade layer = 1 \n",
      "[2025-07-30 03:46:19.954] Start to evalute the model:\n",
      "[2025-07-30 03:46:19.954] Evaluating cascade layer = 0 \n"
     ]
    },
    {
     "name": "stderr",
     "output_type": "stream",
     "text": [
      "Exact explainer:  78%|███████▊  | 160/206 [01:48<00:31,  1.47it/s]"
     ]
    },
    {
     "name": "stdout",
     "output_type": "stream",
     "text": [
      "[2025-07-30 03:46:20.069] Evaluating cascade layer = 1 \n",
      "[2025-07-30 03:46:20.208] Start to evalute the model:\n",
      "[2025-07-30 03:46:20.208] Evaluating cascade layer = 0 \n",
      "[2025-07-30 03:46:20.421] Evaluating cascade layer = 1 \n",
      "[2025-07-30 03:46:20.620] Start to evalute the model:\n",
      "[2025-07-30 03:46:20.620] Evaluating cascade layer = 0 \n"
     ]
    },
    {
     "name": "stderr",
     "output_type": "stream",
     "text": [
      "Exact explainer:  78%|███████▊  | 161/206 [01:48<00:30,  1.48it/s]"
     ]
    },
    {
     "name": "stdout",
     "output_type": "stream",
     "text": [
      "[2025-07-30 03:46:20.736] Evaluating cascade layer = 1 \n",
      "[2025-07-30 03:46:20.875] Start to evalute the model:\n",
      "[2025-07-30 03:46:20.881] Evaluating cascade layer = 0 \n",
      "[2025-07-30 03:46:21.120] Evaluating cascade layer = 1 \n",
      "[2025-07-30 03:46:21.320] Start to evalute the model:\n",
      "[2025-07-30 03:46:21.320] Evaluating cascade layer = 0 \n"
     ]
    },
    {
     "name": "stderr",
     "output_type": "stream",
     "text": [
      "Exact explainer:  79%|███████▊  | 162/206 [01:49<00:30,  1.47it/s]"
     ]
    },
    {
     "name": "stdout",
     "output_type": "stream",
     "text": [
      "[2025-07-30 03:46:21.436] Evaluating cascade layer = 1 \n",
      "[2025-07-30 03:46:21.574] Start to evalute the model:\n",
      "[2025-07-30 03:46:21.581] Evaluating cascade layer = 0 \n",
      "[2025-07-30 03:46:21.785] Evaluating cascade layer = 1 \n",
      "[2025-07-30 03:46:21.987] Start to evalute the model:\n",
      "[2025-07-30 03:46:21.987] Evaluating cascade layer = 0 \n",
      "[2025-07-30 03:46:22.119] Evaluating cascade layer = 1 \n"
     ]
    },
    {
     "name": "stderr",
     "output_type": "stream",
     "text": [
      "Exact explainer:  79%|███████▉  | 163/206 [01:50<00:29,  1.48it/s]"
     ]
    },
    {
     "name": "stdout",
     "output_type": "stream",
     "text": [
      "[2025-07-30 03:46:22.237] Start to evalute the model:\n",
      "[2025-07-30 03:46:22.254] Evaluating cascade layer = 0 \n",
      "[2025-07-30 03:46:22.485] Evaluating cascade layer = 1 \n",
      "[2025-07-30 03:46:22.687] Start to evalute the model:\n",
      "[2025-07-30 03:46:22.687] Evaluating cascade layer = 0 \n",
      "[2025-07-30 03:46:22.820] Evaluating cascade layer = 1 \n"
     ]
    },
    {
     "name": "stderr",
     "output_type": "stream",
     "text": [
      "Exact explainer:  80%|███████▉  | 164/206 [01:50<00:28,  1.47it/s]"
     ]
    },
    {
     "name": "stdout",
     "output_type": "stream",
     "text": [
      "[2025-07-30 03:46:22.937] Start to evalute the model:\n",
      "[2025-07-30 03:46:22.937] Evaluating cascade layer = 0 \n",
      "[2025-07-30 03:46:23.153] Evaluating cascade layer = 1 \n",
      "[2025-07-30 03:46:23.356] Start to evalute the model:\n",
      "[2025-07-30 03:46:23.356] Evaluating cascade layer = 0 \n"
     ]
    },
    {
     "name": "stderr",
     "output_type": "stream",
     "text": [
      "Exact explainer:  80%|████████  | 165/206 [01:51<00:28,  1.46it/s]"
     ]
    },
    {
     "name": "stdout",
     "output_type": "stream",
     "text": [
      "[2025-07-30 03:46:23.485] Evaluating cascade layer = 1 \n",
      "[2025-07-30 03:46:23.621] Start to evalute the model:\n",
      "[2025-07-30 03:46:23.621] Evaluating cascade layer = 0 \n",
      "[2025-07-30 03:46:23.837] Evaluating cascade layer = 1 \n",
      "[2025-07-30 03:46:24.037] Start to evalute the model:\n",
      "[2025-07-30 03:46:24.037] Evaluating cascade layer = 0 \n"
     ]
    },
    {
     "name": "stderr",
     "output_type": "stream",
     "text": [
      "Exact explainer:  81%|████████  | 166/206 [01:52<00:27,  1.46it/s]"
     ]
    },
    {
     "name": "stdout",
     "output_type": "stream",
     "text": [
      "[2025-07-30 03:46:24.153] Evaluating cascade layer = 1 \n",
      "[2025-07-30 03:46:24.304] Start to evalute the model:\n",
      "[2025-07-30 03:46:24.304] Evaluating cascade layer = 0 \n",
      "[2025-07-30 03:46:24.520] Evaluating cascade layer = 1 \n",
      "[2025-07-30 03:46:24.720] Start to evalute the model:\n",
      "[2025-07-30 03:46:24.720] Evaluating cascade layer = 0 \n"
     ]
    },
    {
     "name": "stderr",
     "output_type": "stream",
     "text": [
      "Exact explainer:  81%|████████  | 167/206 [01:52<00:26,  1.47it/s]"
     ]
    },
    {
     "name": "stdout",
     "output_type": "stream",
     "text": [
      "[2025-07-30 03:46:24.853] Evaluating cascade layer = 1 \n",
      "[2025-07-30 03:46:24.978] Start to evalute the model:\n",
      "[2025-07-30 03:46:24.987] Evaluating cascade layer = 0 \n",
      "[2025-07-30 03:46:25.203] Evaluating cascade layer = 1 \n",
      "[2025-07-30 03:46:25.403] Start to evalute the model:\n",
      "[2025-07-30 03:46:25.403] Evaluating cascade layer = 0 \n",
      "[2025-07-30 03:46:25.503] Evaluating cascade layer = 1 \n"
     ]
    },
    {
     "name": "stderr",
     "output_type": "stream",
     "text": [
      "Exact explainer:  82%|████████▏ | 168/206 [01:53<00:25,  1.47it/s]"
     ]
    },
    {
     "name": "stdout",
     "output_type": "stream",
     "text": [
      "[2025-07-30 03:46:25.654] Start to evalute the model:\n",
      "[2025-07-30 03:46:25.672] Evaluating cascade layer = 0 \n",
      "[2025-07-30 03:46:25.871] Evaluating cascade layer = 1 \n",
      "[2025-07-30 03:46:26.072] Start to evalute the model:\n",
      "[2025-07-30 03:46:26.073] Evaluating cascade layer = 0 \n"
     ]
    },
    {
     "name": "stderr",
     "output_type": "stream",
     "text": [
      "Exact explainer:  82%|████████▏ | 169/206 [01:54<00:25,  1.46it/s]"
     ]
    },
    {
     "name": "stdout",
     "output_type": "stream",
     "text": [
      "[2025-07-30 03:46:26.221] Evaluating cascade layer = 1 \n",
      "[2025-07-30 03:46:26.354] Start to evalute the model:\n",
      "[2025-07-30 03:46:26.354] Evaluating cascade layer = 0 \n",
      "[2025-07-30 03:46:26.570] Evaluating cascade layer = 1 \n",
      "[2025-07-30 03:46:26.772] Start to evalute the model:\n",
      "[2025-07-30 03:46:26.772] Evaluating cascade layer = 0 \n"
     ]
    },
    {
     "name": "stderr",
     "output_type": "stream",
     "text": [
      "Exact explainer:  83%|████████▎ | 170/206 [01:55<00:24,  1.48it/s]"
     ]
    },
    {
     "name": "stdout",
     "output_type": "stream",
     "text": [
      "[2025-07-30 03:46:26.870] Evaluating cascade layer = 1 \n",
      "[2025-07-30 03:46:27.008] Start to evalute the model:\n",
      "[2025-07-30 03:46:27.008] Evaluating cascade layer = 0 \n",
      "[2025-07-30 03:46:27.219] Evaluating cascade layer = 1 \n",
      "[2025-07-30 03:46:27.420] Start to evalute the model:\n",
      "[2025-07-30 03:46:27.420] Evaluating cascade layer = 0 \n"
     ]
    },
    {
     "name": "stderr",
     "output_type": "stream",
     "text": [
      "Exact explainer:  83%|████████▎ | 171/206 [01:55<00:23,  1.49it/s]"
     ]
    },
    {
     "name": "stdout",
     "output_type": "stream",
     "text": [
      "[2025-07-30 03:46:27.536] Evaluating cascade layer = 1 \n",
      "[2025-07-30 03:46:27.676] Start to evalute the model:\n",
      "[2025-07-30 03:46:27.687] Evaluating cascade layer = 0 \n",
      "[2025-07-30 03:46:27.884] Evaluating cascade layer = 1 \n",
      "[2025-07-30 03:46:28.088] Start to evalute the model:\n",
      "[2025-07-30 03:46:28.088] Evaluating cascade layer = 0 \n",
      "[2025-07-30 03:46:28.203] Evaluating cascade layer = 1 \n"
     ]
    },
    {
     "name": "stderr",
     "output_type": "stream",
     "text": [
      "Exact explainer:  83%|████████▎ | 172/206 [01:56<00:23,  1.46it/s]"
     ]
    },
    {
     "name": "stdout",
     "output_type": "stream",
     "text": [
      "[2025-07-30 03:46:28.387] Start to evalute the model:\n",
      "[2025-07-30 03:46:28.387] Evaluating cascade layer = 0 \n",
      "[2025-07-30 03:46:28.621] Evaluating cascade layer = 1 \n",
      "[2025-07-30 03:46:28.820] Start to evalute the model:\n",
      "[2025-07-30 03:46:28.820] Evaluating cascade layer = 0 \n"
     ]
    },
    {
     "name": "stderr",
     "output_type": "stream",
     "text": [
      "Exact explainer:  84%|████████▍ | 173/206 [01:57<00:22,  1.45it/s]"
     ]
    },
    {
     "name": "stdout",
     "output_type": "stream",
     "text": [
      "[2025-07-30 03:46:28.953] Evaluating cascade layer = 1 \n",
      "[2025-07-30 03:46:29.087] Start to evalute the model:\n",
      "[2025-07-30 03:46:29.087] Evaluating cascade layer = 0 \n",
      "[2025-07-30 03:46:29.303] Evaluating cascade layer = 1 \n",
      "[2025-07-30 03:46:29.503] Start to evalute the model:\n",
      "[2025-07-30 03:46:29.503] Evaluating cascade layer = 0 \n",
      "[2025-07-30 03:46:29.603] Evaluating cascade layer = 1 \n"
     ]
    },
    {
     "name": "stderr",
     "output_type": "stream",
     "text": [
      "Exact explainer:  84%|████████▍ | 174/206 [01:57<00:21,  1.47it/s]"
     ]
    },
    {
     "name": "stdout",
     "output_type": "stream",
     "text": [
      "[2025-07-30 03:46:29.737] Start to evalute the model:\n",
      "[2025-07-30 03:46:29.737] Evaluating cascade layer = 0 \n",
      "[2025-07-30 03:46:29.953] Evaluating cascade layer = 1 \n",
      "[2025-07-30 03:46:30.203] Start to evalute the model:\n",
      "[2025-07-30 03:46:30.203] Evaluating cascade layer = 0 \n",
      "[2025-07-30 03:46:30.303] Evaluating cascade layer = 1 \n"
     ]
    },
    {
     "name": "stderr",
     "output_type": "stream",
     "text": [
      "Exact explainer:  85%|████████▍ | 175/206 [01:58<00:20,  1.48it/s]"
     ]
    },
    {
     "name": "stdout",
     "output_type": "stream",
     "text": [
      "[2025-07-30 03:46:30.403] Start to evalute the model:\n",
      "[2025-07-30 03:46:30.403] Evaluating cascade layer = 0 \n",
      "[2025-07-30 03:46:30.620] Evaluating cascade layer = 1 \n",
      "[2025-07-30 03:46:30.820] Start to evalute the model:\n",
      "[2025-07-30 03:46:30.820] Evaluating cascade layer = 0 \n",
      "[2025-07-30 03:46:30.954] Evaluating cascade layer = 1 \n"
     ]
    },
    {
     "name": "stderr",
     "output_type": "stream",
     "text": [
      "Exact explainer:  85%|████████▌ | 176/206 [01:59<00:20,  1.48it/s]"
     ]
    },
    {
     "name": "stdout",
     "output_type": "stream",
     "text": [
      "[2025-07-30 03:46:31.087] Start to evalute the model:\n",
      "[2025-07-30 03:46:31.087] Evaluating cascade layer = 0 \n",
      "[2025-07-30 03:46:31.303] Evaluating cascade layer = 1 \n",
      "[2025-07-30 03:46:31.506] Start to evalute the model:\n",
      "[2025-07-30 03:46:31.506] Evaluating cascade layer = 0 \n"
     ]
    },
    {
     "name": "stderr",
     "output_type": "stream",
     "text": [
      "Exact explainer:  86%|████████▌ | 177/206 [01:59<00:19,  1.47it/s]"
     ]
    },
    {
     "name": "stdout",
     "output_type": "stream",
     "text": [
      "[2025-07-30 03:46:31.637] Evaluating cascade layer = 1 \n",
      "[2025-07-30 03:46:31.774] Start to evalute the model:\n",
      "[2025-07-30 03:46:31.779] Evaluating cascade layer = 0 \n",
      "[2025-07-30 03:46:31.985] Evaluating cascade layer = 1 \n",
      "[2025-07-30 03:46:32.203] Start to evalute the model:\n",
      "[2025-07-30 03:46:32.203] Evaluating cascade layer = 0 \n",
      "[2025-07-30 03:46:32.336] Evaluating cascade layer = 1 \n"
     ]
    },
    {
     "name": "stderr",
     "output_type": "stream",
     "text": [
      "Exact explainer:  86%|████████▋ | 178/206 [02:00<00:19,  1.46it/s]"
     ]
    },
    {
     "name": "stdout",
     "output_type": "stream",
     "text": [
      "[2025-07-30 03:46:32.476] Start to evalute the model:\n",
      "[2025-07-30 03:46:32.483] Evaluating cascade layer = 0 \n",
      "[2025-07-30 03:46:32.697] Evaluating cascade layer = 1 \n",
      "[2025-07-30 03:46:32.907] Start to evalute the model:\n",
      "[2025-07-30 03:46:32.907] Evaluating cascade layer = 0 \n",
      "[2025-07-30 03:46:33.037] Evaluating cascade layer = 1 \n"
     ]
    },
    {
     "name": "stderr",
     "output_type": "stream",
     "text": [
      "Exact explainer:  87%|████████▋ | 179/206 [02:01<00:18,  1.45it/s]"
     ]
    },
    {
     "name": "stdout",
     "output_type": "stream",
     "text": [
      "[2025-07-30 03:46:33.174] Start to evalute the model:\n",
      "[2025-07-30 03:46:33.179] Evaluating cascade layer = 0 \n",
      "[2025-07-30 03:46:33.370] Evaluating cascade layer = 1 \n",
      "[2025-07-30 03:46:33.573] Start to evalute the model:\n",
      "[2025-07-30 03:46:33.573] Evaluating cascade layer = 0 \n"
     ]
    },
    {
     "name": "stderr",
     "output_type": "stream",
     "text": [
      "Exact explainer:  87%|████████▋ | 180/206 [02:01<00:17,  1.48it/s]"
     ]
    },
    {
     "name": "stdout",
     "output_type": "stream",
     "text": [
      "[2025-07-30 03:46:33.703] Evaluating cascade layer = 1 \n",
      "[2025-07-30 03:46:33.820] Start to evalute the model:\n",
      "[2025-07-30 03:46:33.837] Evaluating cascade layer = 0 \n",
      "[2025-07-30 03:46:34.036] Evaluating cascade layer = 1 \n",
      "[2025-07-30 03:46:34.237] Start to evalute the model:\n",
      "[2025-07-30 03:46:34.237] Evaluating cascade layer = 0 \n",
      "[2025-07-30 03:46:34.370] Evaluating cascade layer = 1 \n"
     ]
    },
    {
     "name": "stderr",
     "output_type": "stream",
     "text": [
      "Exact explainer:  88%|████████▊ | 181/206 [02:02<00:16,  1.47it/s]"
     ]
    },
    {
     "name": "stdout",
     "output_type": "stream",
     "text": [
      "[2025-07-30 03:46:34.508] Start to evalute the model:\n",
      "[2025-07-30 03:46:34.514] Evaluating cascade layer = 0 \n",
      "[2025-07-30 03:46:34.753] Evaluating cascade layer = 1 \n",
      "[2025-07-30 03:46:34.954] Start to evalute the model:\n",
      "[2025-07-30 03:46:34.954] Evaluating cascade layer = 0 \n"
     ]
    },
    {
     "name": "stderr",
     "output_type": "stream",
     "text": [
      "Exact explainer:  88%|████████▊ | 182/206 [02:03<00:16,  1.46it/s]"
     ]
    },
    {
     "name": "stdout",
     "output_type": "stream",
     "text": [
      "[2025-07-30 03:46:35.069] Evaluating cascade layer = 1 \n",
      "[2025-07-30 03:46:35.203] Start to evalute the model:\n",
      "[2025-07-30 03:46:35.203] Evaluating cascade layer = 0 \n",
      "[2025-07-30 03:46:35.402] Evaluating cascade layer = 1 \n",
      "[2025-07-30 03:46:35.603] Start to evalute the model:\n",
      "[2025-07-30 03:46:35.603] Evaluating cascade layer = 0 \n"
     ]
    },
    {
     "name": "stderr",
     "output_type": "stream",
     "text": [
      "Exact explainer:  89%|████████▉ | 183/206 [02:03<00:15,  1.49it/s]"
     ]
    },
    {
     "name": "stdout",
     "output_type": "stream",
     "text": [
      "[2025-07-30 03:46:35.719] Evaluating cascade layer = 1 \n",
      "[2025-07-30 03:46:35.837] Start to evalute the model:\n",
      "[2025-07-30 03:46:35.837] Evaluating cascade layer = 0 \n",
      "[2025-07-30 03:46:36.053] Evaluating cascade layer = 1 \n",
      "[2025-07-30 03:46:36.254] Start to evalute the model:\n",
      "[2025-07-30 03:46:36.254] Evaluating cascade layer = 0 \n"
     ]
    },
    {
     "name": "stderr",
     "output_type": "stream",
     "text": [
      "Exact explainer:  89%|████████▉ | 184/206 [02:04<00:14,  1.52it/s]"
     ]
    },
    {
     "name": "stdout",
     "output_type": "stream",
     "text": [
      "[2025-07-30 03:46:36.337] Evaluating cascade layer = 1 \n",
      "[2025-07-30 03:46:36.474] Start to evalute the model:\n",
      "[2025-07-30 03:46:36.480] Evaluating cascade layer = 0 \n",
      "[2025-07-30 03:46:36.704] Evaluating cascade layer = 1 \n",
      "[2025-07-30 03:46:36.903] Start to evalute the model:\n",
      "[2025-07-30 03:46:36.903] Evaluating cascade layer = 0 \n"
     ]
    },
    {
     "name": "stderr",
     "output_type": "stream",
     "text": [
      "Exact explainer:  90%|████████▉ | 185/206 [02:05<00:13,  1.51it/s]"
     ]
    },
    {
     "name": "stdout",
     "output_type": "stream",
     "text": [
      "[2025-07-30 03:46:37.002] Evaluating cascade layer = 1 \n",
      "[2025-07-30 03:46:37.137] Start to evalute the model:\n",
      "[2025-07-30 03:46:37.154] Evaluating cascade layer = 0 \n",
      "[2025-07-30 03:46:37.353] Evaluating cascade layer = 1 \n",
      "[2025-07-30 03:46:37.554] Start to evalute the model:\n",
      "[2025-07-30 03:46:37.554] Evaluating cascade layer = 0 \n"
     ]
    },
    {
     "name": "stderr",
     "output_type": "stream",
     "text": [
      "Exact explainer:  90%|█████████ | 186/206 [02:05<00:13,  1.53it/s]"
     ]
    },
    {
     "name": "stdout",
     "output_type": "stream",
     "text": [
      "[2025-07-30 03:46:37.637] Evaluating cascade layer = 1 \n",
      "[2025-07-30 03:46:37.774] Start to evalute the model:\n",
      "[2025-07-30 03:46:37.779] Evaluating cascade layer = 0 \n",
      "[2025-07-30 03:46:37.985] Evaluating cascade layer = 1 \n",
      "[2025-07-30 03:46:38.220] Start to evalute the model:\n",
      "[2025-07-30 03:46:38.220] Evaluating cascade layer = 0 \n",
      "[2025-07-30 03:46:38.337] Evaluating cascade layer = 1 \n"
     ]
    },
    {
     "name": "stderr",
     "output_type": "stream",
     "text": [
      "Exact explainer:  91%|█████████ | 187/206 [02:06<00:12,  1.50it/s]"
     ]
    },
    {
     "name": "stdout",
     "output_type": "stream",
     "text": [
      "[2025-07-30 03:46:38.475] Start to evalute the model:\n",
      "[2025-07-30 03:46:38.480] Evaluating cascade layer = 0 \n",
      "[2025-07-30 03:46:38.684] Evaluating cascade layer = 1 \n",
      "[2025-07-30 03:46:38.920] Start to evalute the model:\n",
      "[2025-07-30 03:46:38.920] Evaluating cascade layer = 0 \n",
      "[2025-07-30 03:46:39.053] Evaluating cascade layer = 1 \n"
     ]
    },
    {
     "name": "stderr",
     "output_type": "stream",
     "text": [
      "Exact explainer:  91%|█████████▏| 188/206 [02:07<00:12,  1.47it/s]"
     ]
    },
    {
     "name": "stdout",
     "output_type": "stream",
     "text": [
      "[2025-07-30 03:46:39.187] Start to evalute the model:\n",
      "[2025-07-30 03:46:39.187] Evaluating cascade layer = 0 \n",
      "[2025-07-30 03:46:39.403] Evaluating cascade layer = 1 \n",
      "[2025-07-30 03:46:39.603] Start to evalute the model:\n",
      "[2025-07-30 03:46:39.603] Evaluating cascade layer = 0 \n"
     ]
    },
    {
     "name": "stderr",
     "output_type": "stream",
     "text": [
      "Exact explainer:  92%|█████████▏| 189/206 [02:07<00:11,  1.49it/s]"
     ]
    },
    {
     "name": "stdout",
     "output_type": "stream",
     "text": [
      "[2025-07-30 03:46:39.737] Evaluating cascade layer = 1 \n",
      "[2025-07-30 03:46:39.837] Start to evalute the model:\n",
      "[2025-07-30 03:46:39.837] Evaluating cascade layer = 0 \n",
      "[2025-07-30 03:46:40.053] Evaluating cascade layer = 1 \n",
      "[2025-07-30 03:46:40.253] Start to evalute the model:\n",
      "[2025-07-30 03:46:40.253] Evaluating cascade layer = 0 \n"
     ]
    },
    {
     "name": "stderr",
     "output_type": "stream",
     "text": [
      "Exact explainer:  92%|█████████▏| 190/206 [02:08<00:10,  1.49it/s]"
     ]
    },
    {
     "name": "stdout",
     "output_type": "stream",
     "text": [
      "[2025-07-30 03:46:40.370] Evaluating cascade layer = 1 \n",
      "[2025-07-30 03:46:40.508] Start to evalute the model:\n",
      "[2025-07-30 03:46:40.508] Evaluating cascade layer = 0 \n",
      "[2025-07-30 03:46:40.720] Evaluating cascade layer = 1 \n",
      "[2025-07-30 03:46:40.920] Start to evalute the model:\n",
      "[2025-07-30 03:46:40.920] Evaluating cascade layer = 0 \n"
     ]
    },
    {
     "name": "stderr",
     "output_type": "stream",
     "text": [
      "Exact explainer:  93%|█████████▎| 191/206 [02:09<00:10,  1.48it/s]"
     ]
    },
    {
     "name": "stdout",
     "output_type": "stream",
     "text": [
      "[2025-07-30 03:46:41.053] Evaluating cascade layer = 1 \n",
      "[2025-07-30 03:46:41.187] Start to evalute the model:\n",
      "[2025-07-30 03:46:41.187] Evaluating cascade layer = 0 \n",
      "[2025-07-30 03:46:41.403] Evaluating cascade layer = 1 \n",
      "[2025-07-30 03:46:41.603] Start to evalute the model:\n",
      "[2025-07-30 03:46:41.603] Evaluating cascade layer = 0 \n"
     ]
    },
    {
     "name": "stderr",
     "output_type": "stream",
     "text": [
      "Exact explainer:  93%|█████████▎| 192/206 [02:09<00:09,  1.50it/s]"
     ]
    },
    {
     "name": "stdout",
     "output_type": "stream",
     "text": [
      "[2025-07-30 03:46:41.703] Evaluating cascade layer = 1 \n",
      "[2025-07-30 03:46:41.837] Start to evalute the model:\n",
      "[2025-07-30 03:46:41.837] Evaluating cascade layer = 0 \n",
      "[2025-07-30 03:46:42.053] Evaluating cascade layer = 1 \n",
      "[2025-07-30 03:46:42.256] Start to evalute the model:\n",
      "[2025-07-30 03:46:42.256] Evaluating cascade layer = 0 \n"
     ]
    },
    {
     "name": "stderr",
     "output_type": "stream",
     "text": [
      "Exact explainer:  94%|█████████▎| 193/206 [02:10<00:08,  1.52it/s]"
     ]
    },
    {
     "name": "stdout",
     "output_type": "stream",
     "text": [
      "[2025-07-30 03:46:42.353] Evaluating cascade layer = 1 \n",
      "[2025-07-30 03:46:42.474] Start to evalute the model:\n",
      "[2025-07-30 03:46:42.479] Evaluating cascade layer = 0 \n",
      "[2025-07-30 03:46:42.703] Evaluating cascade layer = 1 \n",
      "[2025-07-30 03:46:42.906] Start to evalute the model:\n",
      "[2025-07-30 03:46:42.906] Evaluating cascade layer = 0 \n"
     ]
    },
    {
     "name": "stderr",
     "output_type": "stream",
     "text": [
      "Exact explainer:  94%|█████████▍| 194/206 [02:11<00:08,  1.43it/s]"
     ]
    },
    {
     "name": "stdout",
     "output_type": "stream",
     "text": [
      "[2025-07-30 03:46:43.130] Evaluating cascade layer = 1 \n",
      "[2025-07-30 03:46:43.277] Start to evalute the model:\n",
      "[2025-07-30 03:46:43.285] Evaluating cascade layer = 0 \n",
      "[2025-07-30 03:46:43.502] Evaluating cascade layer = 1 \n",
      "[2025-07-30 03:46:43.703] Start to evalute the model:\n",
      "[2025-07-30 03:46:43.703] Evaluating cascade layer = 0 \n"
     ]
    },
    {
     "name": "stderr",
     "output_type": "stream",
     "text": [
      "Exact explainer:  95%|█████████▍| 195/206 [02:11<00:07,  1.45it/s]"
     ]
    },
    {
     "name": "stdout",
     "output_type": "stream",
     "text": [
      "[2025-07-30 03:46:43.820] Evaluating cascade layer = 1 \n",
      "[2025-07-30 03:46:43.937] Start to evalute the model:\n",
      "[2025-07-30 03:46:43.937] Evaluating cascade layer = 0 \n",
      "[2025-07-30 03:46:44.137] Evaluating cascade layer = 1 \n",
      "[2025-07-30 03:46:44.337] Start to evalute the model:\n",
      "[2025-07-30 03:46:44.337] Evaluating cascade layer = 0 \n",
      "[2025-07-30 03:46:44.471] Evaluating cascade layer = 1 \n"
     ]
    },
    {
     "name": "stderr",
     "output_type": "stream",
     "text": [
      "Exact explainer:  95%|█████████▌| 196/206 [02:12<00:06,  1.46it/s]"
     ]
    },
    {
     "name": "stdout",
     "output_type": "stream",
     "text": [
      "[2025-07-30 03:46:44.608] Start to evalute the model:\n",
      "[2025-07-30 03:46:44.609] Evaluating cascade layer = 0 \n",
      "[2025-07-30 03:46:44.820] Evaluating cascade layer = 1 \n",
      "[2025-07-30 03:46:45.020] Start to evalute the model:\n",
      "[2025-07-30 03:46:45.020] Evaluating cascade layer = 0 \n"
     ]
    },
    {
     "name": "stderr",
     "output_type": "stream",
     "text": [
      "Exact explainer:  96%|█████████▌| 197/206 [02:13<00:06,  1.49it/s]"
     ]
    },
    {
     "name": "stdout",
     "output_type": "stream",
     "text": [
      "[2025-07-30 03:46:45.120] Evaluating cascade layer = 1 \n",
      "[2025-07-30 03:46:45.254] Start to evalute the model:\n",
      "[2025-07-30 03:46:45.254] Evaluating cascade layer = 0 \n",
      "[2025-07-30 03:46:45.470] Evaluating cascade layer = 1 \n",
      "[2025-07-30 03:46:45.672] Start to evalute the model:\n",
      "[2025-07-30 03:46:45.673] Evaluating cascade layer = 0 \n"
     ]
    },
    {
     "name": "stderr",
     "output_type": "stream",
     "text": [
      "Exact explainer:  96%|█████████▌| 198/206 [02:13<00:05,  1.48it/s]"
     ]
    },
    {
     "name": "stdout",
     "output_type": "stream",
     "text": [
      "[2025-07-30 03:46:45.803] Evaluating cascade layer = 1 \n",
      "[2025-07-30 03:46:45.937] Start to evalute the model:\n",
      "[2025-07-30 03:46:45.937] Evaluating cascade layer = 0 \n",
      "[2025-07-30 03:46:46.154] Evaluating cascade layer = 1 \n",
      "[2025-07-30 03:46:46.353] Start to evalute the model:\n",
      "[2025-07-30 03:46:46.353] Evaluating cascade layer = 0 \n"
     ]
    },
    {
     "name": "stderr",
     "output_type": "stream",
     "text": [
      "Exact explainer:  97%|█████████▋| 199/206 [02:14<00:04,  1.49it/s]"
     ]
    },
    {
     "name": "stdout",
     "output_type": "stream",
     "text": [
      "[2025-07-30 03:46:46.486] Evaluating cascade layer = 1 \n",
      "[2025-07-30 03:46:46.603] Start to evalute the model:\n",
      "[2025-07-30 03:46:46.603] Evaluating cascade layer = 0 \n",
      "[2025-07-30 03:46:46.854] Evaluating cascade layer = 1 \n",
      "[2025-07-30 03:46:47.054] Start to evalute the model:\n",
      "[2025-07-30 03:46:47.054] Evaluating cascade layer = 0 \n"
     ]
    },
    {
     "name": "stderr",
     "output_type": "stream",
     "text": [
      "Exact explainer:  97%|█████████▋| 200/206 [02:15<00:04,  1.47it/s]"
     ]
    },
    {
     "name": "stdout",
     "output_type": "stream",
     "text": [
      "[2025-07-30 03:46:47.170] Evaluating cascade layer = 1 \n",
      "[2025-07-30 03:46:47.308] Start to evalute the model:\n",
      "[2025-07-30 03:46:47.308] Evaluating cascade layer = 0 \n",
      "[2025-07-30 03:46:47.519] Evaluating cascade layer = 1 \n",
      "[2025-07-30 03:46:47.720] Start to evalute the model:\n",
      "[2025-07-30 03:46:47.720] Evaluating cascade layer = 0 \n"
     ]
    },
    {
     "name": "stderr",
     "output_type": "stream",
     "text": [
      "Exact explainer:  98%|█████████▊| 201/206 [02:15<00:03,  1.49it/s]"
     ]
    },
    {
     "name": "stdout",
     "output_type": "stream",
     "text": [
      "[2025-07-30 03:46:47.836] Evaluating cascade layer = 1 \n",
      "[2025-07-30 03:46:47.961] Start to evalute the model:\n",
      "[2025-07-30 03:46:47.961] Evaluating cascade layer = 0 \n",
      "[2025-07-30 03:46:48.170] Evaluating cascade layer = 1 \n",
      "[2025-07-30 03:46:48.372] Start to evalute the model:\n",
      "[2025-07-30 03:46:48.373] Evaluating cascade layer = 0 \n"
     ]
    },
    {
     "name": "stderr",
     "output_type": "stream",
     "text": [
      "Exact explainer:  98%|█████████▊| 202/206 [02:16<00:02,  1.48it/s]"
     ]
    },
    {
     "name": "stdout",
     "output_type": "stream",
     "text": [
      "[2025-07-30 03:46:48.503] Evaluating cascade layer = 1 \n",
      "[2025-07-30 03:46:48.637] Start to evalute the model:\n",
      "[2025-07-30 03:46:48.653] Evaluating cascade layer = 0 \n",
      "[2025-07-30 03:46:48.870] Evaluating cascade layer = 1 \n",
      "[2025-07-30 03:46:49.087] Start to evalute the model:\n",
      "[2025-07-30 03:46:49.087] Evaluating cascade layer = 0 \n",
      "[2025-07-30 03:46:49.185] Evaluating cascade layer = 1 \n"
     ]
    },
    {
     "name": "stderr",
     "output_type": "stream",
     "text": [
      "Exact explainer:  99%|█████████▊| 203/206 [02:17<00:02,  1.49it/s]"
     ]
    },
    {
     "name": "stdout",
     "output_type": "stream",
     "text": [
      "[2025-07-30 03:46:49.303] Start to evalute the model:\n",
      "[2025-07-30 03:46:49.303] Evaluating cascade layer = 0 \n",
      "[2025-07-30 03:46:49.503] Evaluating cascade layer = 1 \n",
      "[2025-07-30 03:46:49.703] Start to evalute the model:\n",
      "[2025-07-30 03:46:49.703] Evaluating cascade layer = 0 \n",
      "[2025-07-30 03:46:49.803] Evaluating cascade layer = 1 \n"
     ]
    },
    {
     "name": "stderr",
     "output_type": "stream",
     "text": [
      "Exact explainer:  99%|█████████▉| 204/206 [02:17<00:01,  1.51it/s]"
     ]
    },
    {
     "name": "stdout",
     "output_type": "stream",
     "text": [
      "[2025-07-30 03:46:49.937] Start to evalute the model:\n",
      "[2025-07-30 03:46:49.937] Evaluating cascade layer = 0 \n",
      "[2025-07-30 03:46:50.137] Evaluating cascade layer = 1 \n",
      "[2025-07-30 03:46:50.339] Start to evalute the model:\n",
      "[2025-07-30 03:46:50.340] Evaluating cascade layer = 0 \n",
      "[2025-07-30 03:46:50.471] Evaluating cascade layer = 1 \n"
     ]
    },
    {
     "name": "stderr",
     "output_type": "stream",
     "text": [
      "Exact explainer: 100%|█████████▉| 205/206 [02:18<00:00,  1.51it/s]"
     ]
    },
    {
     "name": "stdout",
     "output_type": "stream",
     "text": [
      "[2025-07-30 03:46:50.604] Start to evalute the model:\n",
      "[2025-07-30 03:46:50.604] Evaluating cascade layer = 0 \n",
      "[2025-07-30 03:46:50.820] Evaluating cascade layer = 1 \n",
      "[2025-07-30 03:46:51.020] Start to evalute the model:\n",
      "[2025-07-30 03:46:51.020] Evaluating cascade layer = 0 \n"
     ]
    },
    {
     "name": "stderr",
     "output_type": "stream",
     "text": [
      "Exact explainer: 100%|██████████| 206/206 [02:19<00:00,  1.51it/s]"
     ]
    },
    {
     "name": "stdout",
     "output_type": "stream",
     "text": [
      "[2025-07-30 03:46:51.136] Evaluating cascade layer = 1 \n",
      "[2025-07-30 03:46:51.274] Start to evalute the model:\n",
      "[2025-07-30 03:46:51.279] Evaluating cascade layer = 0 \n",
      "[2025-07-30 03:46:51.520] Evaluating cascade layer = 1 \n",
      "[2025-07-30 03:46:51.720] Start to evalute the model:\n",
      "[2025-07-30 03:46:51.720] Evaluating cascade layer = 0 \n"
     ]
    },
    {
     "name": "stderr",
     "output_type": "stream",
     "text": [
      "Exact explainer: 207it [02:20,  1.36it/s]                         "
     ]
    },
    {
     "name": "stdout",
     "output_type": "stream",
     "text": [
      "[2025-07-30 03:46:51.854] Evaluating cascade layer = 1 \n",
      "Fold 5...\n",
      "[2025-07-30 03:46:51.987] Start to fit the model:\n",
      "[2025-07-30 03:46:51.987] Fitting cascade layer = 0 \n"
     ]
    },
    {
     "name": "stderr",
     "output_type": "stream",
     "text": [
      "\n"
     ]
    },
    {
     "name": "stdout",
     "output_type": "stream",
     "text": [
      "[2025-07-30 03:46:52.720] layer = 0  | Val MSE = 27.68987 | Elapsed = 0.733 s\n",
      "[2025-07-30 03:46:52.720] Fitting cascade layer = 1 \n",
      "[2025-07-30 03:46:53.604] layer = 1  | Val MSE = 21.49645 | Elapsed = 0.883 s\n",
      "[2025-07-30 03:46:53.604] Fitting cascade layer = 2 \n",
      "[2025-07-30 03:46:54.571] layer = 2  | Val MSE = 23.29963 | Elapsed = 0.967 s\n",
      "[2025-07-30 03:46:54.572] Early stopping counter: 1 out of 2\n",
      "[2025-07-30 03:46:54.575] Fitting cascade layer = 3 \n",
      "[2025-07-30 03:46:55.486] layer = 3  | Val MSE = 25.17758 | Elapsed = 0.911 s\n",
      "[2025-07-30 03:46:55.487] Early stopping counter: 2 out of 2\n",
      "[2025-07-30 03:46:55.487] Handling early stopping\n",
      "[2025-07-30 03:46:55.488] The optimal number of layers: 2\n",
      "[2025-07-30 03:46:55.494] Start to evalute the model:\n",
      "[2025-07-30 03:46:55.504] Evaluating cascade layer = 0 \n",
      "[2025-07-30 03:46:55.720] Evaluating cascade layer = 1 \n",
      "[2025-07-30 03:46:55.925] Start to evalute the model:\n",
      "[2025-07-30 03:46:55.925] Evaluating cascade layer = 0 \n",
      "[2025-07-30 03:46:56.137] Evaluating cascade layer = 1 \n",
      "[2025-07-30 03:46:56.354] Start to evalute the model:\n",
      "[2025-07-30 03:46:56.354] Evaluating cascade layer = 0 \n",
      "[2025-07-30 03:46:56.487] Evaluating cascade layer = 1 \n",
      "[2025-07-30 03:46:56.621] Start to evalute the model:\n",
      "[2025-07-30 03:46:56.621] Evaluating cascade layer = 0 \n",
      "[2025-07-30 03:46:56.837] Evaluating cascade layer = 1 \n",
      "[2025-07-30 03:46:57.037] Start to evalute the model:\n",
      "[2025-07-30 03:46:57.037] Evaluating cascade layer = 0 \n",
      "[2025-07-30 03:46:57.170] Evaluating cascade layer = 1 \n",
      "[2025-07-30 03:46:57.303] Start to evalute the model:\n",
      "[2025-07-30 03:46:57.303] Evaluating cascade layer = 0 \n",
      "[2025-07-30 03:46:57.520] Evaluating cascade layer = 1 \n",
      "[2025-07-30 03:46:57.720] Start to evalute the model:\n",
      "[2025-07-30 03:46:57.720] Evaluating cascade layer = 0 \n",
      "[2025-07-30 03:46:57.853] Evaluating cascade layer = 1 \n",
      "[2025-07-30 03:46:57.987] Start to evalute the model:\n",
      "[2025-07-30 03:46:57.987] Evaluating cascade layer = 0 \n",
      "[2025-07-30 03:46:58.203] Evaluating cascade layer = 1 \n",
      "[2025-07-30 03:46:58.403] Start to evalute the model:\n",
      "[2025-07-30 03:46:58.403] Evaluating cascade layer = 0 \n",
      "[2025-07-30 03:46:58.520] Evaluating cascade layer = 1 \n",
      "[2025-07-30 03:46:58.653] Start to evalute the model:\n",
      "[2025-07-30 03:46:58.653] Evaluating cascade layer = 0 \n",
      "[2025-07-30 03:46:58.853] Evaluating cascade layer = 1 \n",
      "[2025-07-30 03:46:59.054] Start to evalute the model:\n",
      "[2025-07-30 03:46:59.054] Evaluating cascade layer = 0 \n",
      "[2025-07-30 03:46:59.170] Evaluating cascade layer = 1 \n",
      "[2025-07-30 03:46:59.304] Start to evalute the model:\n",
      "[2025-07-30 03:46:59.304] Evaluating cascade layer = 0 \n",
      "[2025-07-30 03:46:59.520] Evaluating cascade layer = 1 \n",
      "[2025-07-30 03:46:59.720] Start to evalute the model:\n",
      "[2025-07-30 03:46:59.720] Evaluating cascade layer = 0 \n",
      "[2025-07-30 03:46:59.820] Evaluating cascade layer = 1 \n",
      "[2025-07-30 03:46:59.954] Start to evalute the model:\n",
      "[2025-07-30 03:46:59.954] Evaluating cascade layer = 0 \n",
      "[2025-07-30 03:47:00.204] Evaluating cascade layer = 1 \n",
      "[2025-07-30 03:47:00.403] Start to evalute the model:\n",
      "[2025-07-30 03:47:00.403] Evaluating cascade layer = 0 \n",
      "[2025-07-30 03:47:00.537] Evaluating cascade layer = 1 \n",
      "[2025-07-30 03:47:00.687] Start to evalute the model:\n",
      "[2025-07-30 03:47:00.704] Evaluating cascade layer = 0 \n",
      "[2025-07-30 03:47:00.937] Evaluating cascade layer = 1 \n",
      "[2025-07-30 03:47:01.137] Start to evalute the model:\n",
      "[2025-07-30 03:47:01.137] Evaluating cascade layer = 0 \n",
      "[2025-07-30 03:47:01.270] Evaluating cascade layer = 1 \n",
      "[2025-07-30 03:47:01.403] Start to evalute the model:\n",
      "[2025-07-30 03:47:01.403] Evaluating cascade layer = 0 \n",
      "[2025-07-30 03:47:01.636] Evaluating cascade layer = 1 \n",
      "[2025-07-30 03:47:01.837] Start to evalute the model:\n",
      "[2025-07-30 03:47:01.837] Evaluating cascade layer = 0 \n",
      "[2025-07-30 03:47:01.970] Evaluating cascade layer = 1 \n",
      "[2025-07-30 03:47:02.087] Start to evalute the model:\n",
      "[2025-07-30 03:47:02.103] Evaluating cascade layer = 0 \n",
      "[2025-07-30 03:47:02.303] Evaluating cascade layer = 1 \n",
      "[2025-07-30 03:47:02.507] Start to evalute the model:\n",
      "[2025-07-30 03:47:02.507] Evaluating cascade layer = 0 \n",
      "[2025-07-30 03:47:02.603] Evaluating cascade layer = 1 \n",
      "[2025-07-30 03:47:02.730] Start to evalute the model:\n",
      "[2025-07-30 03:47:02.737] Evaluating cascade layer = 0 \n",
      "[2025-07-30 03:47:02.954] Evaluating cascade layer = 1 \n",
      "[2025-07-30 03:47:03.157] Start to evalute the model:\n",
      "[2025-07-30 03:47:03.158] Evaluating cascade layer = 0 \n",
      "[2025-07-30 03:47:03.236] Evaluating cascade layer = 1 \n",
      "[2025-07-30 03:47:03.375] Start to evalute the model:\n",
      "[2025-07-30 03:47:03.382] Evaluating cascade layer = 0 \n",
      "[2025-07-30 03:47:03.586] Evaluating cascade layer = 1 \n",
      "[2025-07-30 03:47:03.787] Start to evalute the model:\n",
      "[2025-07-30 03:47:03.787] Evaluating cascade layer = 0 \n",
      "[2025-07-30 03:47:03.920] Evaluating cascade layer = 1 \n",
      "[2025-07-30 03:47:04.054] Start to evalute the model:\n",
      "[2025-07-30 03:47:04.054] Evaluating cascade layer = 0 \n",
      "[2025-07-30 03:47:04.270] Evaluating cascade layer = 1 \n",
      "[2025-07-30 03:47:04.474] Start to evalute the model:\n",
      "[2025-07-30 03:47:04.474] Evaluating cascade layer = 0 \n",
      "[2025-07-30 03:47:04.603] Evaluating cascade layer = 1 \n",
      "[2025-07-30 03:47:04.737] Start to evalute the model:\n",
      "[2025-07-30 03:47:04.737] Evaluating cascade layer = 0 \n",
      "[2025-07-30 03:47:04.953] Evaluating cascade layer = 1 \n",
      "[2025-07-30 03:47:05.154] Start to evalute the model:\n",
      "[2025-07-30 03:47:05.154] Evaluating cascade layer = 0 \n",
      "[2025-07-30 03:47:05.270] Evaluating cascade layer = 1 \n",
      "[2025-07-30 03:47:05.404] Start to evalute the model:\n",
      "[2025-07-30 03:47:05.404] Evaluating cascade layer = 0 \n",
      "[2025-07-30 03:47:05.620] Evaluating cascade layer = 1 \n",
      "[2025-07-30 03:47:05.820] Start to evalute the model:\n",
      "[2025-07-30 03:47:05.820] Evaluating cascade layer = 0 \n",
      "[2025-07-30 03:47:05.986] Evaluating cascade layer = 1 \n"
     ]
    },
    {
     "name": "stderr",
     "output_type": "stream",
     "text": [
      "Exact explainer:   8%|▊         | 16/206 [00:00<?, ?it/s]"
     ]
    },
    {
     "name": "stdout",
     "output_type": "stream",
     "text": [
      "[2025-07-30 03:47:06.181] Start to evalute the model:\n",
      "[2025-07-30 03:47:06.187] Evaluating cascade layer = 0 \n",
      "[2025-07-30 03:47:06.399] Evaluating cascade layer = 1 \n",
      "[2025-07-30 03:47:06.608] Start to evalute the model:\n",
      "[2025-07-30 03:47:06.608] Evaluating cascade layer = 0 \n",
      "[2025-07-30 03:47:06.736] Evaluating cascade layer = 1 \n"
     ]
    },
    {
     "name": "stderr",
     "output_type": "stream",
     "text": [
      "Exact explainer:   9%|▊         | 18/206 [00:11<01:03,  2.94it/s]"
     ]
    },
    {
     "name": "stdout",
     "output_type": "stream",
     "text": [
      "[2025-07-30 03:47:06.853] Start to evalute the model:\n",
      "[2025-07-30 03:47:06.869] Evaluating cascade layer = 0 \n",
      "[2025-07-30 03:47:07.070] Evaluating cascade layer = 1 \n",
      "[2025-07-30 03:47:07.320] Start to evalute the model:\n",
      "[2025-07-30 03:47:07.320] Evaluating cascade layer = 0 \n",
      "[2025-07-30 03:47:07.453] Evaluating cascade layer = 1 \n"
     ]
    },
    {
     "name": "stderr",
     "output_type": "stream",
     "text": [
      "Exact explainer:   9%|▉         | 19/206 [00:12<01:34,  1.98it/s]"
     ]
    },
    {
     "name": "stdout",
     "output_type": "stream",
     "text": [
      "[2025-07-30 03:47:07.587] Start to evalute the model:\n",
      "[2025-07-30 03:47:07.587] Evaluating cascade layer = 0 \n",
      "[2025-07-30 03:47:07.803] Evaluating cascade layer = 1 \n",
      "[2025-07-30 03:47:08.003] Start to evalute the model:\n",
      "[2025-07-30 03:47:08.003] Evaluating cascade layer = 0 \n"
     ]
    },
    {
     "name": "stderr",
     "output_type": "stream",
     "text": [
      "Exact explainer:  10%|▉         | 20/206 [00:12<01:43,  1.79it/s]"
     ]
    },
    {
     "name": "stdout",
     "output_type": "stream",
     "text": [
      "[2025-07-30 03:47:08.103] Evaluating cascade layer = 1 \n",
      "[2025-07-30 03:47:08.238] Start to evalute the model:\n",
      "[2025-07-30 03:47:08.238] Evaluating cascade layer = 0 \n",
      "[2025-07-30 03:47:08.454] Evaluating cascade layer = 1 \n",
      "[2025-07-30 03:47:08.654] Start to evalute the model:\n",
      "[2025-07-30 03:47:08.654] Evaluating cascade layer = 0 \n"
     ]
    },
    {
     "name": "stderr",
     "output_type": "stream",
     "text": [
      "Exact explainer:  10%|█         | 21/206 [00:13<01:51,  1.66it/s]"
     ]
    },
    {
     "name": "stdout",
     "output_type": "stream",
     "text": [
      "[2025-07-30 03:47:08.785] Evaluating cascade layer = 1 \n",
      "[2025-07-30 03:47:08.920] Start to evalute the model:\n",
      "[2025-07-30 03:47:08.920] Evaluating cascade layer = 0 \n",
      "[2025-07-30 03:47:09.136] Evaluating cascade layer = 1 \n",
      "[2025-07-30 03:47:09.337] Start to evalute the model:\n",
      "[2025-07-30 03:47:09.337] Evaluating cascade layer = 0 \n"
     ]
    },
    {
     "name": "stderr",
     "output_type": "stream",
     "text": [
      "Exact explainer:  11%|█         | 22/206 [00:14<01:55,  1.59it/s]"
     ]
    },
    {
     "name": "stdout",
     "output_type": "stream",
     "text": [
      "[2025-07-30 03:47:09.470] Evaluating cascade layer = 1 \n",
      "[2025-07-30 03:47:09.608] Start to evalute the model:\n",
      "[2025-07-30 03:47:09.608] Evaluating cascade layer = 0 \n",
      "[2025-07-30 03:47:09.820] Evaluating cascade layer = 1 \n",
      "[2025-07-30 03:47:10.021] Start to evalute the model:\n",
      "[2025-07-30 03:47:10.021] Evaluating cascade layer = 0 \n",
      "[2025-07-30 03:47:10.146] Evaluating cascade layer = 1 \n"
     ]
    },
    {
     "name": "stderr",
     "output_type": "stream",
     "text": [
      "Exact explainer:  11%|█         | 23/206 [00:14<01:58,  1.55it/s]"
     ]
    },
    {
     "name": "stdout",
     "output_type": "stream",
     "text": [
      "[2025-07-30 03:47:10.287] Start to evalute the model:\n",
      "[2025-07-30 03:47:10.304] Evaluating cascade layer = 0 \n",
      "[2025-07-30 03:47:10.536] Evaluating cascade layer = 1 \n",
      "[2025-07-30 03:47:10.754] Start to evalute the model:\n",
      "[2025-07-30 03:47:10.754] Evaluating cascade layer = 0 \n",
      "[2025-07-30 03:47:10.870] Evaluating cascade layer = 1 \n"
     ]
    },
    {
     "name": "stderr",
     "output_type": "stream",
     "text": [
      "Exact explainer:  12%|█▏        | 24/206 [00:15<02:01,  1.50it/s]"
     ]
    },
    {
     "name": "stdout",
     "output_type": "stream",
     "text": [
      "[2025-07-30 03:47:11.004] Start to evalute the model:\n",
      "[2025-07-30 03:47:11.004] Evaluating cascade layer = 0 \n",
      "[2025-07-30 03:47:11.220] Evaluating cascade layer = 1 \n",
      "[2025-07-30 03:47:11.423] Start to evalute the model:\n",
      "[2025-07-30 03:47:11.423] Evaluating cascade layer = 0 \n"
     ]
    },
    {
     "name": "stderr",
     "output_type": "stream",
     "text": [
      "Exact explainer:  12%|█▏        | 25/206 [00:16<02:00,  1.50it/s]"
     ]
    },
    {
     "name": "stdout",
     "output_type": "stream",
     "text": [
      "[2025-07-30 03:47:11.537] Evaluating cascade layer = 1 \n",
      "[2025-07-30 03:47:11.674] Start to evalute the model:\n",
      "[2025-07-30 03:47:11.680] Evaluating cascade layer = 0 \n",
      "[2025-07-30 03:47:11.920] Evaluating cascade layer = 1 \n",
      "[2025-07-30 03:47:12.120] Start to evalute the model:\n",
      "[2025-07-30 03:47:12.120] Evaluating cascade layer = 0 \n"
     ]
    },
    {
     "name": "stderr",
     "output_type": "stream",
     "text": [
      "Exact explainer:  13%|█▎        | 26/206 [00:16<02:02,  1.48it/s]"
     ]
    },
    {
     "name": "stdout",
     "output_type": "stream",
     "text": [
      "[2025-07-30 03:47:12.237] Evaluating cascade layer = 1 \n",
      "[2025-07-30 03:47:12.375] Start to evalute the model:\n",
      "[2025-07-30 03:47:12.381] Evaluating cascade layer = 0 \n",
      "[2025-07-30 03:47:12.570] Evaluating cascade layer = 1 \n",
      "[2025-07-30 03:47:12.790] Start to evalute the model:\n",
      "[2025-07-30 03:47:12.791] Evaluating cascade layer = 0 \n",
      "[2025-07-30 03:47:12.937] Evaluating cascade layer = 1 \n"
     ]
    },
    {
     "name": "stderr",
     "output_type": "stream",
     "text": [
      "Exact explainer:  13%|█▎        | 27/206 [00:17<02:02,  1.46it/s]"
     ]
    },
    {
     "name": "stdout",
     "output_type": "stream",
     "text": [
      "[2025-07-30 03:47:13.074] Start to evalute the model:\n",
      "[2025-07-30 03:47:13.079] Evaluating cascade layer = 0 \n",
      "[2025-07-30 03:47:13.270] Evaluating cascade layer = 1 \n",
      "[2025-07-30 03:47:13.472] Start to evalute the model:\n",
      "[2025-07-30 03:47:13.473] Evaluating cascade layer = 0 \n",
      "[2025-07-30 03:47:13.603] Evaluating cascade layer = 1 \n"
     ]
    },
    {
     "name": "stderr",
     "output_type": "stream",
     "text": [
      "Exact explainer:  14%|█▎        | 28/206 [00:18<02:00,  1.47it/s]"
     ]
    },
    {
     "name": "stdout",
     "output_type": "stream",
     "text": [
      "[2025-07-30 03:47:13.741] Start to evalute the model:\n",
      "[2025-07-30 03:47:13.747] Evaluating cascade layer = 0 \n",
      "[2025-07-30 03:47:13.936] Evaluating cascade layer = 1 \n",
      "[2025-07-30 03:47:14.138] Start to evalute the model:\n",
      "[2025-07-30 03:47:14.138] Evaluating cascade layer = 0 \n",
      "[2025-07-30 03:47:14.287] Evaluating cascade layer = 1 \n"
     ]
    },
    {
     "name": "stderr",
     "output_type": "stream",
     "text": [
      "Exact explainer:  14%|█▍        | 29/206 [00:18<02:00,  1.47it/s]"
     ]
    },
    {
     "name": "stdout",
     "output_type": "stream",
     "text": [
      "[2025-07-30 03:47:14.420] Start to evalute the model:\n",
      "[2025-07-30 03:47:14.420] Evaluating cascade layer = 0 \n",
      "[2025-07-30 03:47:14.637] Evaluating cascade layer = 1 \n",
      "[2025-07-30 03:47:14.837] Start to evalute the model:\n",
      "[2025-07-30 03:47:14.837] Evaluating cascade layer = 0 \n"
     ]
    },
    {
     "name": "stderr",
     "output_type": "stream",
     "text": [
      "Exact explainer:  15%|█▍        | 30/206 [00:19<01:58,  1.49it/s]"
     ]
    },
    {
     "name": "stdout",
     "output_type": "stream",
     "text": [
      "[2025-07-30 03:47:14.954] Evaluating cascade layer = 1 \n",
      "[2025-07-30 03:47:15.074] Start to evalute the model:\n",
      "[2025-07-30 03:47:15.081] Evaluating cascade layer = 0 \n",
      "[2025-07-30 03:47:15.285] Evaluating cascade layer = 1 \n",
      "[2025-07-30 03:47:15.487] Start to evalute the model:\n",
      "[2025-07-30 03:47:15.487] Evaluating cascade layer = 0 \n"
     ]
    },
    {
     "name": "stderr",
     "output_type": "stream",
     "text": [
      "Exact explainer:  15%|█▌        | 31/206 [00:20<01:57,  1.49it/s]"
     ]
    },
    {
     "name": "stdout",
     "output_type": "stream",
     "text": [
      "[2025-07-30 03:47:15.604] Evaluating cascade layer = 1 \n",
      "[2025-07-30 03:47:15.737] Start to evalute the model:\n",
      "[2025-07-30 03:47:15.737] Evaluating cascade layer = 0 \n",
      "[2025-07-30 03:47:15.954] Evaluating cascade layer = 1 \n",
      "[2025-07-30 03:47:16.154] Start to evalute the model:\n",
      "[2025-07-30 03:47:16.154] Evaluating cascade layer = 0 \n"
     ]
    },
    {
     "name": "stderr",
     "output_type": "stream",
     "text": [
      "Exact explainer:  16%|█▌        | 32/206 [00:20<01:55,  1.51it/s]"
     ]
    },
    {
     "name": "stdout",
     "output_type": "stream",
     "text": [
      "[2025-07-30 03:47:16.270] Evaluating cascade layer = 1 \n",
      "[2025-07-30 03:47:16.388] Start to evalute the model:\n",
      "[2025-07-30 03:47:16.388] Evaluating cascade layer = 0 \n",
      "[2025-07-30 03:47:16.637] Evaluating cascade layer = 1 \n",
      "[2025-07-30 03:47:16.837] Start to evalute the model:\n",
      "[2025-07-30 03:47:16.837] Evaluating cascade layer = 0 \n",
      "[2025-07-30 03:47:16.971] Evaluating cascade layer = 1 \n"
     ]
    },
    {
     "name": "stderr",
     "output_type": "stream",
     "text": [
      "Exact explainer:  16%|█▌        | 33/206 [00:21<01:57,  1.47it/s]"
     ]
    },
    {
     "name": "stdout",
     "output_type": "stream",
     "text": [
      "[2025-07-30 03:47:17.103] Start to evalute the model:\n",
      "[2025-07-30 03:47:17.103] Evaluating cascade layer = 0 \n",
      "[2025-07-30 03:47:17.320] Evaluating cascade layer = 1 \n",
      "[2025-07-30 03:47:17.521] Start to evalute the model:\n",
      "[2025-07-30 03:47:17.521] Evaluating cascade layer = 0 \n",
      "[2025-07-30 03:47:17.654] Evaluating cascade layer = 1 \n"
     ]
    },
    {
     "name": "stderr",
     "output_type": "stream",
     "text": [
      "Exact explainer:  17%|█▋        | 34/206 [00:22<01:57,  1.47it/s]"
     ]
    },
    {
     "name": "stdout",
     "output_type": "stream",
     "text": [
      "[2025-07-30 03:47:17.787] Start to evalute the model:\n",
      "[2025-07-30 03:47:17.787] Evaluating cascade layer = 0 \n",
      "[2025-07-30 03:47:18.004] Evaluating cascade layer = 1 \n",
      "[2025-07-30 03:47:18.195] Start to evalute the model:\n",
      "[2025-07-30 03:47:18.195] Evaluating cascade layer = 0 \n"
     ]
    },
    {
     "name": "stderr",
     "output_type": "stream",
     "text": [
      "Exact explainer:  17%|█▋        | 35/206 [00:22<01:55,  1.48it/s]"
     ]
    },
    {
     "name": "stdout",
     "output_type": "stream",
     "text": [
      "[2025-07-30 03:47:18.320] Evaluating cascade layer = 1 \n",
      "[2025-07-30 03:47:18.448] Start to evalute the model:\n",
      "[2025-07-30 03:47:18.454] Evaluating cascade layer = 0 \n",
      "[2025-07-30 03:47:18.665] Evaluating cascade layer = 1 \n",
      "[2025-07-30 03:47:18.875] Start to evalute the model:\n",
      "[2025-07-30 03:47:18.875] Evaluating cascade layer = 0 \n",
      "[2025-07-30 03:47:18.993] Evaluating cascade layer = 1 \n"
     ]
    },
    {
     "name": "stderr",
     "output_type": "stream",
     "text": [
      "Exact explainer:  17%|█▋        | 36/206 [00:23<01:54,  1.49it/s]"
     ]
    },
    {
     "name": "stdout",
     "output_type": "stream",
     "text": [
      "[2025-07-30 03:47:19.122] Start to evalute the model:\n",
      "[2025-07-30 03:47:19.128] Evaluating cascade layer = 0 \n",
      "[2025-07-30 03:47:19.325] Evaluating cascade layer = 1 \n",
      "[2025-07-30 03:47:19.531] Start to evalute the model:\n",
      "[2025-07-30 03:47:19.532] Evaluating cascade layer = 0 \n",
      "[2025-07-30 03:47:19.638] Evaluating cascade layer = 1 \n"
     ]
    },
    {
     "name": "stderr",
     "output_type": "stream",
     "text": [
      "Exact explainer:  18%|█▊        | 37/206 [00:24<01:52,  1.50it/s]"
     ]
    },
    {
     "name": "stdout",
     "output_type": "stream",
     "text": [
      "[2025-07-30 03:47:19.766] Start to evalute the model:\n",
      "[2025-07-30 03:47:19.772] Evaluating cascade layer = 0 \n",
      "[2025-07-30 03:47:19.980] Evaluating cascade layer = 1 \n",
      "[2025-07-30 03:47:20.184] Start to evalute the model:\n",
      "[2025-07-30 03:47:20.185] Evaluating cascade layer = 0 \n",
      "[2025-07-30 03:47:20.307] Evaluating cascade layer = 1 \n"
     ]
    },
    {
     "name": "stderr",
     "output_type": "stream",
     "text": [
      "Exact explainer:  18%|█▊        | 38/206 [00:24<01:51,  1.50it/s]"
     ]
    },
    {
     "name": "stdout",
     "output_type": "stream",
     "text": [
      "[2025-07-30 03:47:20.435] Start to evalute the model:\n",
      "[2025-07-30 03:47:20.442] Evaluating cascade layer = 0 \n",
      "[2025-07-30 03:47:20.639] Evaluating cascade layer = 1 \n",
      "[2025-07-30 03:47:20.845] Start to evalute the model:\n",
      "[2025-07-30 03:47:20.846] Evaluating cascade layer = 0 \n",
      "[2025-07-30 03:47:20.950] Evaluating cascade layer = 1 \n"
     ]
    },
    {
     "name": "stderr",
     "output_type": "stream",
     "text": [
      "Exact explainer:  19%|█▉        | 39/206 [00:25<01:50,  1.52it/s]"
     ]
    },
    {
     "name": "stdout",
     "output_type": "stream",
     "text": [
      "[2025-07-30 03:47:21.080] Start to evalute the model:\n",
      "[2025-07-30 03:47:21.086] Evaluating cascade layer = 0 \n",
      "[2025-07-30 03:47:21.325] Evaluating cascade layer = 1 \n",
      "[2025-07-30 03:47:21.518] Start to evalute the model:\n",
      "[2025-07-30 03:47:21.518] Evaluating cascade layer = 0 \n"
     ]
    },
    {
     "name": "stderr",
     "output_type": "stream",
     "text": [
      "Exact explainer:  19%|█▉        | 40/206 [00:26<01:50,  1.50it/s]"
     ]
    },
    {
     "name": "stdout",
     "output_type": "stream",
     "text": [
      "[2025-07-30 03:47:21.639] Evaluating cascade layer = 1 \n",
      "[2025-07-30 03:47:21.769] Start to evalute the model:\n",
      "[2025-07-30 03:47:21.775] Evaluating cascade layer = 0 \n",
      "[2025-07-30 03:47:21.971] Evaluating cascade layer = 1 \n",
      "[2025-07-30 03:47:22.178] Start to evalute the model:\n",
      "[2025-07-30 03:47:22.179] Evaluating cascade layer = 0 \n",
      "[2025-07-30 03:47:22.297] Evaluating cascade layer = 1 \n"
     ]
    },
    {
     "name": "stderr",
     "output_type": "stream",
     "text": [
      "Exact explainer:  20%|█▉        | 41/206 [00:26<01:49,  1.50it/s]"
     ]
    },
    {
     "name": "stdout",
     "output_type": "stream",
     "text": [
      "[2025-07-30 03:47:22.426] Start to evalute the model:\n",
      "[2025-07-30 03:47:22.432] Evaluating cascade layer = 0 \n",
      "[2025-07-30 03:47:22.627] Evaluating cascade layer = 1 \n",
      "[2025-07-30 03:47:22.817] Start to evalute the model:\n",
      "[2025-07-30 03:47:22.817] Evaluating cascade layer = 0 \n"
     ]
    },
    {
     "name": "stderr",
     "output_type": "stream",
     "text": [
      "Exact explainer:  20%|██        | 42/206 [00:27<01:47,  1.52it/s]"
     ]
    },
    {
     "name": "stdout",
     "output_type": "stream",
     "text": [
      "[2025-07-30 03:47:22.938] Evaluating cascade layer = 1 \n",
      "[2025-07-30 03:47:23.065] Start to evalute the model:\n",
      "[2025-07-30 03:47:23.070] Evaluating cascade layer = 0 \n",
      "[2025-07-30 03:47:23.266] Evaluating cascade layer = 1 \n",
      "[2025-07-30 03:47:23.459] Start to evalute the model:\n",
      "[2025-07-30 03:47:23.460] Evaluating cascade layer = 0 \n"
     ]
    },
    {
     "name": "stderr",
     "output_type": "stream",
     "text": [
      "Exact explainer:  21%|██        | 43/206 [00:28<01:46,  1.53it/s]"
     ]
    },
    {
     "name": "stdout",
     "output_type": "stream",
     "text": [
      "[2025-07-30 03:47:23.580] Evaluating cascade layer = 1 \n",
      "[2025-07-30 03:47:23.708] Start to evalute the model:\n",
      "[2025-07-30 03:47:23.715] Evaluating cascade layer = 0 \n",
      "[2025-07-30 03:47:23.910] Evaluating cascade layer = 1 \n",
      "[2025-07-30 03:47:24.198] Start to evalute the model:\n",
      "[2025-07-30 03:47:24.199] Evaluating cascade layer = 0 \n",
      "[2025-07-30 03:47:24.319] Evaluating cascade layer = 1 \n"
     ]
    },
    {
     "name": "stderr",
     "output_type": "stream",
     "text": [
      "Exact explainer:  21%|██▏       | 44/206 [00:28<01:49,  1.47it/s]"
     ]
    },
    {
     "name": "stdout",
     "output_type": "stream",
     "text": [
      "[2025-07-30 03:47:24.447] Start to evalute the model:\n",
      "[2025-07-30 03:47:24.454] Evaluating cascade layer = 0 \n",
      "[2025-07-30 03:47:24.663] Evaluating cascade layer = 1 \n",
      "[2025-07-30 03:47:24.870] Start to evalute the model:\n",
      "[2025-07-30 03:47:24.871] Evaluating cascade layer = 0 \n",
      "[2025-07-30 03:47:24.992] Evaluating cascade layer = 1 \n"
     ]
    },
    {
     "name": "stderr",
     "output_type": "stream",
     "text": [
      "Exact explainer:  22%|██▏       | 45/206 [00:29<01:49,  1.48it/s]"
     ]
    },
    {
     "name": "stdout",
     "output_type": "stream",
     "text": [
      "[2025-07-30 03:47:25.121] Start to evalute the model:\n",
      "[2025-07-30 03:47:25.128] Evaluating cascade layer = 0 \n",
      "[2025-07-30 03:47:25.366] Evaluating cascade layer = 1 \n",
      "[2025-07-30 03:47:25.574] Start to evalute the model:\n",
      "[2025-07-30 03:47:25.575] Evaluating cascade layer = 0 \n",
      "[2025-07-30 03:47:25.695] Evaluating cascade layer = 1 \n"
     ]
    },
    {
     "name": "stderr",
     "output_type": "stream",
     "text": [
      "Exact explainer:  22%|██▏       | 46/206 [00:30<01:49,  1.46it/s]"
     ]
    },
    {
     "name": "stdout",
     "output_type": "stream",
     "text": [
      "[2025-07-30 03:47:25.823] Start to evalute the model:\n",
      "[2025-07-30 03:47:25.828] Evaluating cascade layer = 0 \n",
      "[2025-07-30 03:47:26.039] Evaluating cascade layer = 1 \n",
      "[2025-07-30 03:47:26.230] Start to evalute the model:\n",
      "[2025-07-30 03:47:26.230] Evaluating cascade layer = 0 \n"
     ]
    },
    {
     "name": "stderr",
     "output_type": "stream",
     "text": [
      "Exact explainer:  23%|██▎       | 47/206 [00:30<01:47,  1.48it/s]"
     ]
    },
    {
     "name": "stdout",
     "output_type": "stream",
     "text": [
      "[2025-07-30 03:47:26.350] Evaluating cascade layer = 1 \n",
      "[2025-07-30 03:47:26.478] Start to evalute the model:\n",
      "[2025-07-30 03:47:26.485] Evaluating cascade layer = 0 \n",
      "[2025-07-30 03:47:26.682] Evaluating cascade layer = 1 \n",
      "[2025-07-30 03:47:26.892] Start to evalute the model:\n",
      "[2025-07-30 03:47:26.893] Evaluating cascade layer = 0 \n",
      "[2025-07-30 03:47:27.012] Evaluating cascade layer = 1 \n"
     ]
    },
    {
     "name": "stderr",
     "output_type": "stream",
     "text": [
      "Exact explainer:  23%|██▎       | 48/206 [00:31<01:46,  1.49it/s]"
     ]
    },
    {
     "name": "stdout",
     "output_type": "stream",
     "text": [
      "[2025-07-30 03:47:27.142] Start to evalute the model:\n",
      "[2025-07-30 03:47:27.149] Evaluating cascade layer = 0 \n",
      "[2025-07-30 03:47:27.345] Evaluating cascade layer = 1 \n",
      "[2025-07-30 03:47:27.553] Start to evalute the model:\n",
      "[2025-07-30 03:47:27.554] Evaluating cascade layer = 0 \n",
      "[2025-07-30 03:47:27.672] Evaluating cascade layer = 1 \n"
     ]
    },
    {
     "name": "stderr",
     "output_type": "stream",
     "text": [
      "Exact explainer:  24%|██▍       | 49/206 [00:32<01:44,  1.50it/s]"
     ]
    },
    {
     "name": "stdout",
     "output_type": "stream",
     "text": [
      "[2025-07-30 03:47:27.799] Start to evalute the model:\n",
      "[2025-07-30 03:47:27.808] Evaluating cascade layer = 0 \n",
      "[2025-07-30 03:47:28.016] Evaluating cascade layer = 1 \n",
      "[2025-07-30 03:47:28.210] Start to evalute the model:\n",
      "[2025-07-30 03:47:28.211] Evaluating cascade layer = 0 \n"
     ]
    },
    {
     "name": "stderr",
     "output_type": "stream",
     "text": [
      "Exact explainer:  24%|██▍       | 50/206 [00:32<01:43,  1.50it/s]"
     ]
    },
    {
     "name": "stdout",
     "output_type": "stream",
     "text": [
      "[2025-07-30 03:47:28.331] Evaluating cascade layer = 1 \n",
      "[2025-07-30 03:47:28.460] Start to evalute the model:\n",
      "[2025-07-30 03:47:28.467] Evaluating cascade layer = 0 \n",
      "[2025-07-30 03:47:28.678] Evaluating cascade layer = 1 \n",
      "[2025-07-30 03:47:28.889] Start to evalute the model:\n",
      "[2025-07-30 03:47:28.890] Evaluating cascade layer = 0 \n",
      "[2025-07-30 03:47:28.994] Evaluating cascade layer = 1 \n"
     ]
    },
    {
     "name": "stderr",
     "output_type": "stream",
     "text": [
      "Exact explainer:  25%|██▍       | 51/206 [00:33<01:42,  1.51it/s]"
     ]
    },
    {
     "name": "stdout",
     "output_type": "stream",
     "text": [
      "[2025-07-30 03:47:29.122] Start to evalute the model:\n",
      "[2025-07-30 03:47:29.129] Evaluating cascade layer = 0 \n",
      "[2025-07-30 03:47:29.322] Evaluating cascade layer = 1 \n",
      "[2025-07-30 03:47:29.577] Start to evalute the model:\n",
      "[2025-07-30 03:47:29.577] Evaluating cascade layer = 0 \n",
      "[2025-07-30 03:47:29.697] Evaluating cascade layer = 1 \n"
     ]
    },
    {
     "name": "stderr",
     "output_type": "stream",
     "text": [
      "Exact explainer:  25%|██▌       | 52/206 [00:34<01:44,  1.48it/s]"
     ]
    },
    {
     "name": "stdout",
     "output_type": "stream",
     "text": [
      "[2025-07-30 03:47:29.825] Start to evalute the model:\n",
      "[2025-07-30 03:47:29.832] Evaluating cascade layer = 0 \n",
      "[2025-07-30 03:47:30.027] Evaluating cascade layer = 1 \n",
      "[2025-07-30 03:47:30.233] Start to evalute the model:\n",
      "[2025-07-30 03:47:30.234] Evaluating cascade layer = 0 \n",
      "[2025-07-30 03:47:30.340] Evaluating cascade layer = 1 \n"
     ]
    },
    {
     "name": "stderr",
     "output_type": "stream",
     "text": [
      "Exact explainer:  26%|██▌       | 53/206 [00:34<01:41,  1.50it/s]"
     ]
    },
    {
     "name": "stdout",
     "output_type": "stream",
     "text": [
      "[2025-07-30 03:47:30.469] Start to evalute the model:\n",
      "[2025-07-30 03:47:30.476] Evaluating cascade layer = 0 \n",
      "[2025-07-30 03:47:30.685] Evaluating cascade layer = 1 \n",
      "[2025-07-30 03:47:30.896] Start to evalute the model:\n",
      "[2025-07-30 03:47:30.896] Evaluating cascade layer = 0 \n",
      "[2025-07-30 03:47:31.021] Evaluating cascade layer = 1 \n"
     ]
    },
    {
     "name": "stderr",
     "output_type": "stream",
     "text": [
      "Exact explainer:  26%|██▌       | 54/206 [00:35<01:41,  1.49it/s]"
     ]
    },
    {
     "name": "stdout",
     "output_type": "stream",
     "text": [
      "[2025-07-30 03:47:31.161] Start to evalute the model:\n",
      "[2025-07-30 03:47:31.177] Evaluating cascade layer = 0 \n",
      "[2025-07-30 03:47:31.420] Evaluating cascade layer = 1 \n",
      "[2025-07-30 03:47:31.623] Start to evalute the model:\n",
      "[2025-07-30 03:47:31.623] Evaluating cascade layer = 0 \n"
     ]
    },
    {
     "name": "stderr",
     "output_type": "stream",
     "text": [
      "Exact explainer:  27%|██▋       | 55/206 [00:36<01:44,  1.45it/s]"
     ]
    },
    {
     "name": "stdout",
     "output_type": "stream",
     "text": [
      "[2025-07-30 03:47:31.753] Evaluating cascade layer = 1 \n",
      "[2025-07-30 03:47:31.887] Start to evalute the model:\n",
      "[2025-07-30 03:47:31.887] Evaluating cascade layer = 0 \n",
      "[2025-07-30 03:47:32.137] Evaluating cascade layer = 1 \n",
      "[2025-07-30 03:47:32.403] Start to evalute the model:\n",
      "[2025-07-30 03:47:32.403] Evaluating cascade layer = 0 \n",
      "[2025-07-30 03:47:32.536] Evaluating cascade layer = 1 \n"
     ]
    },
    {
     "name": "stderr",
     "output_type": "stream",
     "text": [
      "Exact explainer:  27%|██▋       | 56/206 [00:37<01:47,  1.39it/s]"
     ]
    },
    {
     "name": "stdout",
     "output_type": "stream",
     "text": [
      "[2025-07-30 03:47:32.674] Start to evalute the model:\n",
      "[2025-07-30 03:47:32.681] Evaluating cascade layer = 0 \n",
      "[2025-07-30 03:47:32.887] Evaluating cascade layer = 1 \n",
      "[2025-07-30 03:47:33.103] Start to evalute the model:\n",
      "[2025-07-30 03:47:33.103] Evaluating cascade layer = 0 \n",
      "[2025-07-30 03:47:33.204] Evaluating cascade layer = 1 \n"
     ]
    },
    {
     "name": "stderr",
     "output_type": "stream",
     "text": [
      "Exact explainer:  28%|██▊       | 57/206 [00:37<01:44,  1.42it/s]"
     ]
    },
    {
     "name": "stdout",
     "output_type": "stream",
     "text": [
      "[2025-07-30 03:47:33.337] Start to evalute the model:\n",
      "[2025-07-30 03:47:33.337] Evaluating cascade layer = 0 \n",
      "[2025-07-30 03:47:33.553] Evaluating cascade layer = 1 \n",
      "[2025-07-30 03:47:33.853] Start to evalute the model:\n",
      "[2025-07-30 03:47:33.853] Evaluating cascade layer = 0 \n",
      "[2025-07-30 03:47:33.984] Evaluating cascade layer = 1 \n"
     ]
    },
    {
     "name": "stderr",
     "output_type": "stream",
     "text": [
      "Exact explainer:  28%|██▊       | 58/206 [00:38<01:46,  1.38it/s]"
     ]
    },
    {
     "name": "stdout",
     "output_type": "stream",
     "text": [
      "[2025-07-30 03:47:34.103] Start to evalute the model:\n",
      "[2025-07-30 03:47:34.103] Evaluating cascade layer = 0 \n",
      "[2025-07-30 03:47:34.336] Evaluating cascade layer = 1 \n",
      "[2025-07-30 03:47:34.553] Start to evalute the model:\n",
      "[2025-07-30 03:47:34.553] Evaluating cascade layer = 0 \n",
      "[2025-07-30 03:47:34.670] Evaluating cascade layer = 1 \n"
     ]
    },
    {
     "name": "stderr",
     "output_type": "stream",
     "text": [
      "Exact explainer:  29%|██▊       | 59/206 [00:39<01:44,  1.41it/s]"
     ]
    },
    {
     "name": "stdout",
     "output_type": "stream",
     "text": [
      "[2025-07-30 03:47:34.787] Start to evalute the model:\n",
      "[2025-07-30 03:47:34.787] Evaluating cascade layer = 0 \n",
      "[2025-07-30 03:47:35.003] Evaluating cascade layer = 1 \n",
      "[2025-07-30 03:47:35.223] Start to evalute the model:\n",
      "[2025-07-30 03:47:35.225] Evaluating cascade layer = 0 \n",
      "[2025-07-30 03:47:35.353] Evaluating cascade layer = 1 \n"
     ]
    },
    {
     "name": "stderr",
     "output_type": "stream",
     "text": [
      "Exact explainer:  29%|██▉       | 60/206 [00:39<01:43,  1.41it/s]"
     ]
    },
    {
     "name": "stdout",
     "output_type": "stream",
     "text": [
      "[2025-07-30 03:47:35.486] Start to evalute the model:\n",
      "[2025-07-30 03:47:35.486] Evaluating cascade layer = 0 \n",
      "[2025-07-30 03:47:35.720] Evaluating cascade layer = 1 \n",
      "[2025-07-30 03:47:35.920] Start to evalute the model:\n",
      "[2025-07-30 03:47:35.920] Evaluating cascade layer = 0 \n"
     ]
    },
    {
     "name": "stderr",
     "output_type": "stream",
     "text": [
      "Exact explainer:  30%|██▉       | 61/206 [00:40<01:42,  1.42it/s]"
     ]
    },
    {
     "name": "stdout",
     "output_type": "stream",
     "text": [
      "[2025-07-30 03:47:36.053] Evaluating cascade layer = 1 \n",
      "[2025-07-30 03:47:36.190] Start to evalute the model:\n",
      "[2025-07-30 03:47:36.203] Evaluating cascade layer = 0 \n",
      "[2025-07-30 03:47:36.420] Evaluating cascade layer = 1 \n",
      "[2025-07-30 03:47:36.623] Start to evalute the model:\n",
      "[2025-07-30 03:47:36.624] Evaluating cascade layer = 0 \n",
      "[2025-07-30 03:47:36.736] Evaluating cascade layer = 1 \n"
     ]
    },
    {
     "name": "stderr",
     "output_type": "stream",
     "text": [
      "Exact explainer:  30%|███       | 62/206 [00:41<01:40,  1.43it/s]"
     ]
    },
    {
     "name": "stdout",
     "output_type": "stream",
     "text": [
      "[2025-07-30 03:47:36.873] Start to evalute the model:\n",
      "[2025-07-30 03:47:36.880] Evaluating cascade layer = 0 \n",
      "[2025-07-30 03:47:37.136] Evaluating cascade layer = 1 \n",
      "[2025-07-30 03:47:37.337] Start to evalute the model:\n",
      "[2025-07-30 03:47:37.337] Evaluating cascade layer = 0 \n"
     ]
    },
    {
     "name": "stderr",
     "output_type": "stream",
     "text": [
      "Exact explainer:  31%|███       | 63/206 [00:42<01:39,  1.43it/s]"
     ]
    },
    {
     "name": "stdout",
     "output_type": "stream",
     "text": [
      "[2025-07-30 03:47:37.436] Evaluating cascade layer = 1 \n",
      "[2025-07-30 03:47:37.574] Start to evalute the model:\n",
      "[2025-07-30 03:47:37.582] Evaluating cascade layer = 0 \n",
      "[2025-07-30 03:47:37.786] Evaluating cascade layer = 1 \n",
      "[2025-07-30 03:47:37.986] Start to evalute the model:\n",
      "[2025-07-30 03:47:37.986] Evaluating cascade layer = 0 \n",
      "[2025-07-30 03:47:38.084] Evaluating cascade layer = 1 \n"
     ]
    },
    {
     "name": "stderr",
     "output_type": "stream",
     "text": [
      "Exact explainer:  31%|███       | 64/206 [00:42<01:35,  1.48it/s]"
     ]
    },
    {
     "name": "stdout",
     "output_type": "stream",
     "text": [
      "[2025-07-30 03:47:38.186] Start to evalute the model:\n",
      "[2025-07-30 03:47:38.186] Evaluating cascade layer = 0 \n",
      "[2025-07-30 03:47:38.420] Evaluating cascade layer = 1 \n",
      "[2025-07-30 03:47:38.620] Start to evalute the model:\n",
      "[2025-07-30 03:47:38.620] Evaluating cascade layer = 0 \n"
     ]
    },
    {
     "name": "stderr",
     "output_type": "stream",
     "text": [
      "Exact explainer:  32%|███▏      | 65/206 [00:43<01:36,  1.47it/s]"
     ]
    },
    {
     "name": "stdout",
     "output_type": "stream",
     "text": [
      "[2025-07-30 03:47:38.737] Evaluating cascade layer = 1 \n",
      "[2025-07-30 03:47:38.887] Start to evalute the model:\n",
      "[2025-07-30 03:47:38.887] Evaluating cascade layer = 0 \n",
      "[2025-07-30 03:47:39.103] Evaluating cascade layer = 1 \n",
      "[2025-07-30 03:47:39.306] Start to evalute the model:\n",
      "[2025-07-30 03:47:39.307] Evaluating cascade layer = 0 \n",
      "[2025-07-30 03:47:39.436] Evaluating cascade layer = 1 \n"
     ]
    },
    {
     "name": "stderr",
     "output_type": "stream",
     "text": [
      "Exact explainer:  32%|███▏      | 66/206 [00:44<01:35,  1.47it/s]"
     ]
    },
    {
     "name": "stdout",
     "output_type": "stream",
     "text": [
      "[2025-07-30 03:47:39.574] Start to evalute the model:\n",
      "[2025-07-30 03:47:39.581] Evaluating cascade layer = 0 \n",
      "[2025-07-30 03:47:39.803] Evaluating cascade layer = 1 \n",
      "[2025-07-30 03:47:40.020] Start to evalute the model:\n",
      "[2025-07-30 03:47:40.020] Evaluating cascade layer = 0 \n",
      "[2025-07-30 03:47:40.137] Evaluating cascade layer = 1 \n"
     ]
    },
    {
     "name": "stderr",
     "output_type": "stream",
     "text": [
      "Exact explainer:  33%|███▎      | 67/206 [00:44<01:35,  1.45it/s]"
     ]
    },
    {
     "name": "stdout",
     "output_type": "stream",
     "text": [
      "[2025-07-30 03:47:40.274] Start to evalute the model:\n",
      "[2025-07-30 03:47:40.280] Evaluating cascade layer = 0 \n",
      "[2025-07-30 03:47:40.453] Evaluating cascade layer = 1 \n",
      "[2025-07-30 03:47:40.653] Start to evalute the model:\n",
      "[2025-07-30 03:47:40.653] Evaluating cascade layer = 0 \n",
      "[2025-07-30 03:47:40.753] Evaluating cascade layer = 1 \n"
     ]
    },
    {
     "name": "stderr",
     "output_type": "stream",
     "text": [
      "Exact explainer:  33%|███▎      | 68/206 [00:45<01:31,  1.50it/s]"
     ]
    },
    {
     "name": "stdout",
     "output_type": "stream",
     "text": [
      "[2025-07-30 03:47:40.886] Start to evalute the model:\n",
      "[2025-07-30 03:47:40.886] Evaluating cascade layer = 0 \n",
      "[2025-07-30 03:47:41.103] Evaluating cascade layer = 1 \n",
      "[2025-07-30 03:47:41.303] Start to evalute the model:\n",
      "[2025-07-30 03:47:41.303] Evaluating cascade layer = 0 \n"
     ]
    },
    {
     "name": "stderr",
     "output_type": "stream",
     "text": [
      "Exact explainer:  33%|███▎      | 69/206 [00:46<01:32,  1.49it/s]"
     ]
    },
    {
     "name": "stdout",
     "output_type": "stream",
     "text": [
      "[2025-07-30 03:47:41.436] Evaluating cascade layer = 1 \n",
      "[2025-07-30 03:47:41.574] Start to evalute the model:\n",
      "[2025-07-30 03:47:41.580] Evaluating cascade layer = 0 \n",
      "[2025-07-30 03:47:41.836] Evaluating cascade layer = 1 \n",
      "[2025-07-30 03:47:42.037] Start to evalute the model:\n",
      "[2025-07-30 03:47:42.037] Evaluating cascade layer = 0 \n",
      "[2025-07-30 03:47:42.185] Evaluating cascade layer = 1 \n"
     ]
    },
    {
     "name": "stderr",
     "output_type": "stream",
     "text": [
      "Exact explainer:  34%|███▍      | 70/206 [00:46<01:34,  1.44it/s]"
     ]
    },
    {
     "name": "stdout",
     "output_type": "stream",
     "text": [
      "[2025-07-30 03:47:42.320] Start to evalute the model:\n",
      "[2025-07-30 03:47:42.320] Evaluating cascade layer = 0 \n",
      "[2025-07-30 03:47:42.519] Evaluating cascade layer = 1 \n",
      "[2025-07-30 03:47:42.720] Start to evalute the model:\n",
      "[2025-07-30 03:47:42.720] Evaluating cascade layer = 0 \n",
      "[2025-07-30 03:47:42.853] Evaluating cascade layer = 1 \n"
     ]
    },
    {
     "name": "stderr",
     "output_type": "stream",
     "text": [
      "Exact explainer:  34%|███▍      | 71/206 [00:47<01:32,  1.46it/s]"
     ]
    },
    {
     "name": "stdout",
     "output_type": "stream",
     "text": [
      "[2025-07-30 03:47:42.986] Start to evalute the model:\n",
      "[2025-07-30 03:47:42.986] Evaluating cascade layer = 0 \n",
      "[2025-07-30 03:47:43.170] Evaluating cascade layer = 1 \n",
      "[2025-07-30 03:47:43.372] Start to evalute the model:\n",
      "[2025-07-30 03:47:43.372] Evaluating cascade layer = 0 \n",
      "[2025-07-30 03:47:43.503] Evaluating cascade layer = 1 \n"
     ]
    },
    {
     "name": "stderr",
     "output_type": "stream",
     "text": [
      "Exact explainer:  35%|███▍      | 72/206 [00:48<01:30,  1.48it/s]"
     ]
    },
    {
     "name": "stdout",
     "output_type": "stream",
     "text": [
      "[2025-07-30 03:47:43.636] Start to evalute the model:\n",
      "[2025-07-30 03:47:43.636] Evaluating cascade layer = 0 \n",
      "[2025-07-30 03:47:43.853] Evaluating cascade layer = 1 \n",
      "[2025-07-30 03:47:44.053] Start to evalute the model:\n",
      "[2025-07-30 03:47:44.053] Evaluating cascade layer = 0 \n",
      "[2025-07-30 03:47:44.184] Evaluating cascade layer = 1 \n"
     ]
    },
    {
     "name": "stderr",
     "output_type": "stream",
     "text": [
      "Exact explainer:  35%|███▌      | 73/206 [00:48<01:30,  1.48it/s]"
     ]
    },
    {
     "name": "stdout",
     "output_type": "stream",
     "text": [
      "[2025-07-30 03:47:44.320] Start to evalute the model:\n",
      "[2025-07-30 03:47:44.320] Evaluating cascade layer = 0 \n",
      "[2025-07-30 03:47:44.520] Evaluating cascade layer = 1 \n",
      "[2025-07-30 03:47:44.720] Start to evalute the model:\n",
      "[2025-07-30 03:47:44.720] Evaluating cascade layer = 0 \n",
      "[2025-07-30 03:47:44.853] Evaluating cascade layer = 1 \n"
     ]
    },
    {
     "name": "stderr",
     "output_type": "stream",
     "text": [
      "Exact explainer:  36%|███▌      | 74/206 [00:49<01:28,  1.49it/s]"
     ]
    },
    {
     "name": "stdout",
     "output_type": "stream",
     "text": [
      "[2025-07-30 03:47:44.973] Start to evalute the model:\n",
      "[2025-07-30 03:47:44.978] Evaluating cascade layer = 0 \n",
      "[2025-07-30 03:47:45.170] Evaluating cascade layer = 1 \n",
      "[2025-07-30 03:47:45.403] Start to evalute the model:\n",
      "[2025-07-30 03:47:45.403] Evaluating cascade layer = 0 \n",
      "[2025-07-30 03:47:45.537] Evaluating cascade layer = 1 \n"
     ]
    },
    {
     "name": "stderr",
     "output_type": "stream",
     "text": [
      "Exact explainer:  36%|███▋      | 75/206 [00:50<01:28,  1.47it/s]"
     ]
    },
    {
     "name": "stdout",
     "output_type": "stream",
     "text": [
      "[2025-07-30 03:47:45.673] Start to evalute the model:\n",
      "[2025-07-30 03:47:45.680] Evaluating cascade layer = 0 \n",
      "[2025-07-30 03:47:45.884] Evaluating cascade layer = 1 \n",
      "[2025-07-30 03:47:46.087] Start to evalute the model:\n",
      "[2025-07-30 03:47:46.087] Evaluating cascade layer = 0 \n",
      "[2025-07-30 03:47:46.219] Evaluating cascade layer = 1 \n"
     ]
    },
    {
     "name": "stderr",
     "output_type": "stream",
     "text": [
      "Exact explainer:  37%|███▋      | 76/206 [00:50<01:28,  1.47it/s]"
     ]
    },
    {
     "name": "stdout",
     "output_type": "stream",
     "text": [
      "[2025-07-30 03:47:46.353] Start to evalute the model:\n",
      "[2025-07-30 03:47:46.353] Evaluating cascade layer = 0 \n",
      "[2025-07-30 03:47:46.570] Evaluating cascade layer = 1 \n",
      "[2025-07-30 03:47:46.787] Start to evalute the model:\n",
      "[2025-07-30 03:47:46.787] Evaluating cascade layer = 0 \n",
      "[2025-07-30 03:47:46.920] Evaluating cascade layer = 1 \n"
     ]
    },
    {
     "name": "stderr",
     "output_type": "stream",
     "text": [
      "Exact explainer:  37%|███▋      | 77/206 [00:51<01:28,  1.46it/s]"
     ]
    },
    {
     "name": "stdout",
     "output_type": "stream",
     "text": [
      "[2025-07-30 03:47:47.053] Start to evalute the model:\n",
      "[2025-07-30 03:47:47.053] Evaluating cascade layer = 0 \n",
      "[2025-07-30 03:47:47.270] Evaluating cascade layer = 1 \n",
      "[2025-07-30 03:47:47.486] Start to evalute the model:\n",
      "[2025-07-30 03:47:47.486] Evaluating cascade layer = 0 \n",
      "[2025-07-30 03:47:47.620] Evaluating cascade layer = 1 \n"
     ]
    },
    {
     "name": "stderr",
     "output_type": "stream",
     "text": [
      "Exact explainer:  38%|███▊      | 78/206 [00:52<01:28,  1.45it/s]"
     ]
    },
    {
     "name": "stdout",
     "output_type": "stream",
     "text": [
      "[2025-07-30 03:47:47.753] Start to evalute the model:\n",
      "[2025-07-30 03:47:47.753] Evaluating cascade layer = 0 \n",
      "[2025-07-30 03:47:47.985] Evaluating cascade layer = 1 \n",
      "[2025-07-30 03:47:48.186] Start to evalute the model:\n",
      "[2025-07-30 03:47:48.186] Evaluating cascade layer = 0 \n",
      "[2025-07-30 03:47:48.320] Evaluating cascade layer = 1 \n"
     ]
    },
    {
     "name": "stderr",
     "output_type": "stream",
     "text": [
      "Exact explainer:  38%|███▊      | 79/206 [00:52<01:28,  1.44it/s]"
     ]
    },
    {
     "name": "stdout",
     "output_type": "stream",
     "text": [
      "[2025-07-30 03:47:48.453] Start to evalute the model:\n",
      "[2025-07-30 03:47:48.453] Evaluating cascade layer = 0 \n",
      "[2025-07-30 03:47:48.670] Evaluating cascade layer = 1 \n",
      "[2025-07-30 03:47:48.920] Start to evalute the model:\n",
      "[2025-07-30 03:47:48.920] Evaluating cascade layer = 0 \n",
      "[2025-07-30 03:47:49.036] Evaluating cascade layer = 1 \n"
     ]
    },
    {
     "name": "stderr",
     "output_type": "stream",
     "text": [
      "Exact explainer:  39%|███▉      | 80/206 [00:53<01:28,  1.43it/s]"
     ]
    },
    {
     "name": "stdout",
     "output_type": "stream",
     "text": [
      "[2025-07-30 03:47:49.175] Start to evalute the model:\n",
      "[2025-07-30 03:47:49.181] Evaluating cascade layer = 0 \n",
      "[2025-07-30 03:47:49.385] Evaluating cascade layer = 1 \n",
      "[2025-07-30 03:47:49.603] Start to evalute the model:\n",
      "[2025-07-30 03:47:49.603] Evaluating cascade layer = 0 \n",
      "[2025-07-30 03:47:49.703] Evaluating cascade layer = 1 \n"
     ]
    },
    {
     "name": "stderr",
     "output_type": "stream",
     "text": [
      "Exact explainer:  39%|███▉      | 81/206 [00:54<01:25,  1.47it/s]"
     ]
    },
    {
     "name": "stdout",
     "output_type": "stream",
     "text": [
      "[2025-07-30 03:47:49.808] Start to evalute the model:\n",
      "[2025-07-30 03:47:49.808] Evaluating cascade layer = 0 \n",
      "[2025-07-30 03:47:50.020] Evaluating cascade layer = 1 \n",
      "[2025-07-30 03:47:50.241] Start to evalute the model:\n",
      "[2025-07-30 03:47:50.241] Evaluating cascade layer = 0 \n",
      "[2025-07-30 03:47:50.370] Evaluating cascade layer = 1 \n"
     ]
    },
    {
     "name": "stderr",
     "output_type": "stream",
     "text": [
      "Exact explainer:  40%|███▉      | 82/206 [00:55<01:25,  1.46it/s]"
     ]
    },
    {
     "name": "stdout",
     "output_type": "stream",
     "text": [
      "[2025-07-30 03:47:50.503] Start to evalute the model:\n",
      "[2025-07-30 03:47:50.519] Evaluating cascade layer = 0 \n",
      "[2025-07-30 03:47:50.736] Evaluating cascade layer = 1 \n",
      "[2025-07-30 03:47:50.953] Start to evalute the model:\n",
      "[2025-07-30 03:47:50.953] Evaluating cascade layer = 0 \n",
      "[2025-07-30 03:47:51.086] Evaluating cascade layer = 1 \n"
     ]
    },
    {
     "name": "stderr",
     "output_type": "stream",
     "text": [
      "Exact explainer:  40%|████      | 83/206 [00:55<01:25,  1.45it/s]"
     ]
    },
    {
     "name": "stdout",
     "output_type": "stream",
     "text": [
      "[2025-07-30 03:47:51.207] Start to evalute the model:\n",
      "[2025-07-30 03:47:51.207] Evaluating cascade layer = 0 \n",
      "[2025-07-30 03:47:51.420] Evaluating cascade layer = 1 \n",
      "[2025-07-30 03:47:51.637] Start to evalute the model:\n",
      "[2025-07-30 03:47:51.637] Evaluating cascade layer = 0 \n",
      "[2025-07-30 03:47:51.770] Evaluating cascade layer = 1 \n"
     ]
    },
    {
     "name": "stderr",
     "output_type": "stream",
     "text": [
      "Exact explainer:  41%|████      | 84/206 [00:56<01:24,  1.44it/s]"
     ]
    },
    {
     "name": "stdout",
     "output_type": "stream",
     "text": [
      "[2025-07-30 03:47:51.904] Start to evalute the model:\n",
      "[2025-07-30 03:47:51.904] Evaluating cascade layer = 0 \n",
      "[2025-07-30 03:47:52.170] Evaluating cascade layer = 1 \n",
      "[2025-07-30 03:47:52.373] Start to evalute the model:\n",
      "[2025-07-30 03:47:52.373] Evaluating cascade layer = 0 \n"
     ]
    },
    {
     "name": "stderr",
     "output_type": "stream",
     "text": [
      "Exact explainer:  41%|████▏     | 85/206 [00:57<01:24,  1.43it/s]"
     ]
    },
    {
     "name": "stdout",
     "output_type": "stream",
     "text": [
      "[2025-07-30 03:47:52.486] Evaluating cascade layer = 1 \n",
      "[2025-07-30 03:47:52.620] Start to evalute the model:\n",
      "[2025-07-30 03:47:52.620] Evaluating cascade layer = 0 \n",
      "[2025-07-30 03:47:52.819] Evaluating cascade layer = 1 \n",
      "[2025-07-30 03:47:53.020] Start to evalute the model:\n",
      "[2025-07-30 03:47:53.020] Evaluating cascade layer = 0 \n"
     ]
    },
    {
     "name": "stderr",
     "output_type": "stream",
     "text": [
      "Exact explainer:  42%|████▏     | 86/206 [00:57<01:22,  1.45it/s]"
     ]
    },
    {
     "name": "stdout",
     "output_type": "stream",
     "text": [
      "[2025-07-30 03:47:53.153] Evaluating cascade layer = 1 \n",
      "[2025-07-30 03:47:53.286] Start to evalute the model:\n",
      "[2025-07-30 03:47:53.286] Evaluating cascade layer = 0 \n",
      "[2025-07-30 03:47:53.503] Evaluating cascade layer = 1 \n",
      "[2025-07-30 03:47:53.703] Start to evalute the model:\n",
      "[2025-07-30 03:47:53.703] Evaluating cascade layer = 0 \n"
     ]
    },
    {
     "name": "stderr",
     "output_type": "stream",
     "text": [
      "Exact explainer:  42%|████▏     | 87/206 [00:58<01:21,  1.45it/s]"
     ]
    },
    {
     "name": "stdout",
     "output_type": "stream",
     "text": [
      "[2025-07-30 03:47:53.836] Evaluating cascade layer = 1 \n",
      "[2025-07-30 03:47:53.974] Start to evalute the model:\n",
      "[2025-07-30 03:47:53.981] Evaluating cascade layer = 0 \n",
      "[2025-07-30 03:47:54.185] Evaluating cascade layer = 1 \n",
      "[2025-07-30 03:47:54.387] Start to evalute the model:\n",
      "[2025-07-30 03:47:54.387] Evaluating cascade layer = 0 \n",
      "[2025-07-30 03:47:54.485] Evaluating cascade layer = 1 \n"
     ]
    },
    {
     "name": "stderr",
     "output_type": "stream",
     "text": [
      "Exact explainer:  43%|████▎     | 88/206 [00:59<01:19,  1.49it/s]"
     ]
    },
    {
     "name": "stdout",
     "output_type": "stream",
     "text": [
      "[2025-07-30 03:47:54.603] Start to evalute the model:\n",
      "[2025-07-30 03:47:54.603] Evaluating cascade layer = 0 \n",
      "[2025-07-30 03:47:54.820] Evaluating cascade layer = 1 \n",
      "[2025-07-30 03:47:55.020] Start to evalute the model:\n",
      "[2025-07-30 03:47:55.020] Evaluating cascade layer = 0 \n"
     ]
    },
    {
     "name": "stderr",
     "output_type": "stream",
     "text": [
      "Exact explainer:  43%|████▎     | 89/206 [00:59<01:19,  1.48it/s]"
     ]
    },
    {
     "name": "stdout",
     "output_type": "stream",
     "text": [
      "[2025-07-30 03:47:55.153] Evaluating cascade layer = 1 \n",
      "[2025-07-30 03:47:55.287] Start to evalute the model:\n",
      "[2025-07-30 03:47:55.304] Evaluating cascade layer = 0 \n",
      "[2025-07-30 03:47:55.519] Evaluating cascade layer = 1 \n",
      "[2025-07-30 03:47:55.720] Start to evalute the model:\n",
      "[2025-07-30 03:47:55.720] Evaluating cascade layer = 0 \n",
      "[2025-07-30 03:47:55.853] Evaluating cascade layer = 1 \n"
     ]
    },
    {
     "name": "stderr",
     "output_type": "stream",
     "text": [
      "Exact explainer:  44%|████▎     | 90/206 [01:00<01:19,  1.47it/s]"
     ]
    },
    {
     "name": "stdout",
     "output_type": "stream",
     "text": [
      "[2025-07-30 03:47:55.986] Start to evalute the model:\n",
      "[2025-07-30 03:47:55.986] Evaluating cascade layer = 0 \n",
      "[2025-07-30 03:47:56.203] Evaluating cascade layer = 1 \n",
      "[2025-07-30 03:47:56.453] Start to evalute the model:\n",
      "[2025-07-30 03:47:56.453] Evaluating cascade layer = 0 \n",
      "[2025-07-30 03:47:56.570] Evaluating cascade layer = 1 \n"
     ]
    },
    {
     "name": "stderr",
     "output_type": "stream",
     "text": [
      "Exact explainer:  44%|████▍     | 91/206 [01:01<01:19,  1.45it/s]"
     ]
    },
    {
     "name": "stdout",
     "output_type": "stream",
     "text": [
      "[2025-07-30 03:47:56.690] Start to evalute the model:\n",
      "[2025-07-30 03:47:56.691] Evaluating cascade layer = 0 \n",
      "[2025-07-30 03:47:56.903] Evaluating cascade layer = 1 \n",
      "[2025-07-30 03:47:57.103] Start to evalute the model:\n",
      "[2025-07-30 03:47:57.103] Evaluating cascade layer = 0 \n"
     ]
    },
    {
     "name": "stderr",
     "output_type": "stream",
     "text": [
      "Exact explainer:  45%|████▍     | 92/206 [01:01<01:18,  1.46it/s]"
     ]
    },
    {
     "name": "stdout",
     "output_type": "stream",
     "text": [
      "[2025-07-30 03:47:57.236] Evaluating cascade layer = 1 \n",
      "[2025-07-30 03:47:57.374] Start to evalute the model:\n",
      "[2025-07-30 03:47:57.381] Evaluating cascade layer = 0 \n",
      "[2025-07-30 03:47:57.586] Evaluating cascade layer = 1 \n",
      "[2025-07-30 03:47:57.786] Start to evalute the model:\n",
      "[2025-07-30 03:47:57.786] Evaluating cascade layer = 0 \n"
     ]
    },
    {
     "name": "stderr",
     "output_type": "stream",
     "text": [
      "Exact explainer:  45%|████▌     | 93/206 [01:02<01:17,  1.46it/s]"
     ]
    },
    {
     "name": "stdout",
     "output_type": "stream",
     "text": [
      "[2025-07-30 03:47:57.920] Evaluating cascade layer = 1 \n",
      "[2025-07-30 03:47:58.053] Start to evalute the model:\n",
      "[2025-07-30 03:47:58.053] Evaluating cascade layer = 0 \n",
      "[2025-07-30 03:47:58.269] Evaluating cascade layer = 1 \n",
      "[2025-07-30 03:47:58.471] Start to evalute the model:\n",
      "[2025-07-30 03:47:58.472] Evaluating cascade layer = 0 \n"
     ]
    },
    {
     "name": "stderr",
     "output_type": "stream",
     "text": [
      "Exact explainer:  46%|████▌     | 94/206 [01:03<01:16,  1.46it/s]"
     ]
    },
    {
     "name": "stdout",
     "output_type": "stream",
     "text": [
      "[2025-07-30 03:47:58.603] Evaluating cascade layer = 1 \n",
      "[2025-07-30 03:47:58.737] Start to evalute the model:\n",
      "[2025-07-30 03:47:58.737] Evaluating cascade layer = 0 \n",
      "[2025-07-30 03:47:59.003] Evaluating cascade layer = 1 \n",
      "[2025-07-30 03:47:59.203] Start to evalute the model:\n",
      "[2025-07-30 03:47:59.203] Evaluating cascade layer = 0 \n"
     ]
    },
    {
     "name": "stderr",
     "output_type": "stream",
     "text": [
      "Exact explainer:  46%|████▌     | 95/206 [01:03<01:16,  1.45it/s]"
     ]
    },
    {
     "name": "stdout",
     "output_type": "stream",
     "text": [
      "[2025-07-30 03:47:59.303] Evaluating cascade layer = 1 \n",
      "[2025-07-30 03:47:59.437] Start to evalute the model:\n",
      "[2025-07-30 03:47:59.437] Evaluating cascade layer = 0 \n",
      "[2025-07-30 03:47:59.653] Evaluating cascade layer = 1 \n",
      "[2025-07-30 03:47:59.853] Start to evalute the model:\n",
      "[2025-07-30 03:47:59.853] Evaluating cascade layer = 0 \n"
     ]
    },
    {
     "name": "stderr",
     "output_type": "stream",
     "text": [
      "Exact explainer:  47%|████▋     | 96/206 [01:04<01:15,  1.46it/s]"
     ]
    },
    {
     "name": "stdout",
     "output_type": "stream",
     "text": [
      "[2025-07-30 03:47:59.970] Evaluating cascade layer = 1 \n",
      "[2025-07-30 03:48:00.103] Start to evalute the model:\n",
      "[2025-07-30 03:48:00.103] Evaluating cascade layer = 0 \n",
      "[2025-07-30 03:48:00.319] Evaluating cascade layer = 1 \n",
      "[2025-07-30 03:48:00.520] Start to evalute the model:\n",
      "[2025-07-30 03:48:00.520] Evaluating cascade layer = 0 \n"
     ]
    },
    {
     "name": "stderr",
     "output_type": "stream",
     "text": [
      "Exact explainer:  47%|████▋     | 97/206 [01:05<01:13,  1.47it/s]"
     ]
    },
    {
     "name": "stdout",
     "output_type": "stream",
     "text": [
      "[2025-07-30 03:48:00.636] Evaluating cascade layer = 1 \n",
      "[2025-07-30 03:48:00.775] Start to evalute the model:\n",
      "[2025-07-30 03:48:00.782] Evaluating cascade layer = 0 \n",
      "[2025-07-30 03:48:01.003] Evaluating cascade layer = 1 \n",
      "[2025-07-30 03:48:01.203] Start to evalute the model:\n",
      "[2025-07-30 03:48:01.203] Evaluating cascade layer = 0 \n"
     ]
    },
    {
     "name": "stderr",
     "output_type": "stream",
     "text": [
      "Exact explainer:  48%|████▊     | 98/206 [01:05<01:13,  1.46it/s]"
     ]
    },
    {
     "name": "stdout",
     "output_type": "stream",
     "text": [
      "[2025-07-30 03:48:01.337] Evaluating cascade layer = 1 \n",
      "[2025-07-30 03:48:01.474] Start to evalute the model:\n",
      "[2025-07-30 03:48:01.481] Evaluating cascade layer = 0 \n",
      "[2025-07-30 03:48:01.685] Evaluating cascade layer = 1 \n",
      "[2025-07-30 03:48:01.886] Start to evalute the model:\n",
      "[2025-07-30 03:48:01.886] Evaluating cascade layer = 0 \n",
      "[2025-07-30 03:48:02.003] Evaluating cascade layer = 1 \n"
     ]
    },
    {
     "name": "stderr",
     "output_type": "stream",
     "text": [
      "Exact explainer:  48%|████▊     | 99/206 [01:06<01:12,  1.47it/s]"
     ]
    },
    {
     "name": "stdout",
     "output_type": "stream",
     "text": [
      "[2025-07-30 03:48:02.137] Start to evalute the model:\n",
      "[2025-07-30 03:48:02.162] Evaluating cascade layer = 0 \n",
      "[2025-07-30 03:48:02.403] Evaluating cascade layer = 1 \n",
      "[2025-07-30 03:48:02.603] Start to evalute the model:\n",
      "[2025-07-30 03:48:02.603] Evaluating cascade layer = 0 \n",
      "[2025-07-30 03:48:02.703] Evaluating cascade layer = 1 \n"
     ]
    },
    {
     "name": "stderr",
     "output_type": "stream",
     "text": [
      "Exact explainer:  49%|████▊     | 100/206 [01:07<01:15,  1.41it/s]"
     ]
    },
    {
     "name": "stdout",
     "output_type": "stream",
     "text": [
      "[2025-07-30 03:48:02.920] Start to evalute the model:\n",
      "[2025-07-30 03:48:02.920] Evaluating cascade layer = 0 \n",
      "[2025-07-30 03:48:03.154] Evaluating cascade layer = 1 \n",
      "[2025-07-30 03:48:03.387] Start to evalute the model:\n",
      "[2025-07-30 03:48:03.387] Evaluating cascade layer = 0 \n",
      "[2025-07-30 03:48:03.519] Evaluating cascade layer = 1 \n"
     ]
    },
    {
     "name": "stderr",
     "output_type": "stream",
     "text": [
      "Exact explainer:  49%|████▉     | 101/206 [01:08<01:15,  1.39it/s]"
     ]
    },
    {
     "name": "stdout",
     "output_type": "stream",
     "text": [
      "[2025-07-30 03:48:03.653] Start to evalute the model:\n",
      "[2025-07-30 03:48:03.653] Evaluating cascade layer = 0 \n",
      "[2025-07-30 03:48:03.870] Evaluating cascade layer = 1 \n",
      "[2025-07-30 03:48:04.073] Start to evalute the model:\n",
      "[2025-07-30 03:48:04.073] Evaluating cascade layer = 0 \n"
     ]
    },
    {
     "name": "stderr",
     "output_type": "stream",
     "text": [
      "Exact explainer:  50%|████▉     | 102/206 [01:08<01:10,  1.47it/s]"
     ]
    },
    {
     "name": "stdout",
     "output_type": "stream",
     "text": [
      "[2025-07-30 03:48:04.153] Evaluating cascade layer = 1 \n",
      "[2025-07-30 03:48:04.253] Start to evalute the model:\n",
      "[2025-07-30 03:48:04.253] Evaluating cascade layer = 0 \n",
      "[2025-07-30 03:48:04.470] Evaluating cascade layer = 1 \n",
      "[2025-07-30 03:48:04.673] Start to evalute the model:\n",
      "[2025-07-30 03:48:04.673] Evaluating cascade layer = 0 \n"
     ]
    },
    {
     "name": "stderr",
     "output_type": "stream",
     "text": [
      "Exact explainer:  50%|█████     | 103/206 [01:09<01:10,  1.47it/s]"
     ]
    },
    {
     "name": "stdout",
     "output_type": "stream",
     "text": [
      "[2025-07-30 03:48:04.803] Evaluating cascade layer = 1 \n",
      "[2025-07-30 03:48:04.936] Start to evalute the model:\n",
      "[2025-07-30 03:48:04.958] Evaluating cascade layer = 0 \n",
      "[2025-07-30 03:48:05.169] Evaluating cascade layer = 1 \n",
      "[2025-07-30 03:48:05.372] Start to evalute the model:\n",
      "[2025-07-30 03:48:05.373] Evaluating cascade layer = 0 \n"
     ]
    },
    {
     "name": "stderr",
     "output_type": "stream",
     "text": [
      "Exact explainer:  50%|█████     | 104/206 [01:10<01:10,  1.45it/s]"
     ]
    },
    {
     "name": "stdout",
     "output_type": "stream",
     "text": [
      "[2025-07-30 03:48:05.504] Evaluating cascade layer = 1 \n",
      "[2025-07-30 03:48:05.636] Start to evalute the model:\n",
      "[2025-07-30 03:48:05.653] Evaluating cascade layer = 0 \n",
      "[2025-07-30 03:48:05.853] Evaluating cascade layer = 1 \n",
      "[2025-07-30 03:48:06.053] Start to evalute the model:\n",
      "[2025-07-30 03:48:06.053] Evaluating cascade layer = 0 \n"
     ]
    },
    {
     "name": "stderr",
     "output_type": "stream",
     "text": [
      "Exact explainer:  51%|█████     | 105/206 [01:10<01:07,  1.49it/s]"
     ]
    },
    {
     "name": "stdout",
     "output_type": "stream",
     "text": [
      "[2025-07-30 03:48:06.136] Evaluating cascade layer = 1 \n",
      "[2025-07-30 03:48:06.274] Start to evalute the model:\n",
      "[2025-07-30 03:48:06.279] Evaluating cascade layer = 0 \n",
      "[2025-07-30 03:48:06.519] Evaluating cascade layer = 1 \n",
      "[2025-07-30 03:48:06.720] Start to evalute the model:\n",
      "[2025-07-30 03:48:06.720] Evaluating cascade layer = 0 \n",
      "[2025-07-30 03:48:06.852] Evaluating cascade layer = 1 \n"
     ]
    },
    {
     "name": "stderr",
     "output_type": "stream",
     "text": [
      "Exact explainer:  51%|█████▏    | 106/206 [01:11<01:08,  1.46it/s]"
     ]
    },
    {
     "name": "stdout",
     "output_type": "stream",
     "text": [
      "[2025-07-30 03:48:06.987] Start to evalute the model:\n",
      "[2025-07-30 03:48:06.987] Evaluating cascade layer = 0 \n",
      "[2025-07-30 03:48:07.203] Evaluating cascade layer = 1 \n",
      "[2025-07-30 03:48:07.403] Start to evalute the model:\n",
      "[2025-07-30 03:48:07.403] Evaluating cascade layer = 0 \n"
     ]
    },
    {
     "name": "stderr",
     "output_type": "stream",
     "text": [
      "Exact explainer:  52%|█████▏    | 107/206 [01:12<01:07,  1.46it/s]"
     ]
    },
    {
     "name": "stdout",
     "output_type": "stream",
     "text": [
      "[2025-07-30 03:48:07.536] Evaluating cascade layer = 1 \n",
      "[2025-07-30 03:48:07.677] Start to evalute the model:\n",
      "[2025-07-30 03:48:07.683] Evaluating cascade layer = 0 \n",
      "[2025-07-30 03:48:07.885] Evaluating cascade layer = 1 \n",
      "[2025-07-30 03:48:08.087] Start to evalute the model:\n",
      "[2025-07-30 03:48:08.087] Evaluating cascade layer = 0 \n",
      "[2025-07-30 03:48:08.203] Evaluating cascade layer = 1 \n"
     ]
    },
    {
     "name": "stderr",
     "output_type": "stream",
     "text": [
      "Exact explainer:  52%|█████▏    | 108/206 [01:12<01:06,  1.47it/s]"
     ]
    },
    {
     "name": "stdout",
     "output_type": "stream",
     "text": [
      "[2025-07-30 03:48:08.337] Start to evalute the model:\n",
      "[2025-07-30 03:48:08.337] Evaluating cascade layer = 0 \n",
      "[2025-07-30 03:48:08.554] Evaluating cascade layer = 1 \n",
      "[2025-07-30 03:48:08.753] Start to evalute the model:\n",
      "[2025-07-30 03:48:08.753] Evaluating cascade layer = 0 \n"
     ]
    },
    {
     "name": "stderr",
     "output_type": "stream",
     "text": [
      "Exact explainer:  53%|█████▎    | 109/206 [01:13<01:04,  1.50it/s]"
     ]
    },
    {
     "name": "stdout",
     "output_type": "stream",
     "text": [
      "[2025-07-30 03:48:08.836] Evaluating cascade layer = 1 \n",
      "[2025-07-30 03:48:08.974] Start to evalute the model:\n",
      "[2025-07-30 03:48:08.979] Evaluating cascade layer = 0 \n",
      "[2025-07-30 03:48:09.185] Evaluating cascade layer = 1 \n",
      "[2025-07-30 03:48:09.387] Start to evalute the model:\n",
      "[2025-07-30 03:48:09.387] Evaluating cascade layer = 0 \n",
      "[2025-07-30 03:48:09.523] Evaluating cascade layer = 1 \n"
     ]
    },
    {
     "name": "stderr",
     "output_type": "stream",
     "text": [
      "Exact explainer:  53%|█████▎    | 110/206 [01:14<01:04,  1.48it/s]"
     ]
    },
    {
     "name": "stdout",
     "output_type": "stream",
     "text": [
      "[2025-07-30 03:48:09.675] Start to evalute the model:\n",
      "[2025-07-30 03:48:09.685] Evaluating cascade layer = 0 \n",
      "[2025-07-30 03:48:09.903] Evaluating cascade layer = 1 \n",
      "[2025-07-30 03:48:10.103] Start to evalute the model:\n",
      "[2025-07-30 03:48:10.103] Evaluating cascade layer = 0 \n"
     ]
    },
    {
     "name": "stderr",
     "output_type": "stream",
     "text": [
      "Exact explainer:  54%|█████▍    | 111/206 [01:14<01:03,  1.49it/s]"
     ]
    },
    {
     "name": "stdout",
     "output_type": "stream",
     "text": [
      "[2025-07-30 03:48:10.220] Evaluating cascade layer = 1 \n",
      "[2025-07-30 03:48:10.337] Start to evalute the model:\n",
      "[2025-07-30 03:48:10.337] Evaluating cascade layer = 0 \n",
      "[2025-07-30 03:48:10.553] Evaluating cascade layer = 1 \n",
      "[2025-07-30 03:48:10.753] Start to evalute the model:\n",
      "[2025-07-30 03:48:10.753] Evaluating cascade layer = 0 \n"
     ]
    },
    {
     "name": "stderr",
     "output_type": "stream",
     "text": [
      "Exact explainer:  54%|█████▍    | 112/206 [01:15<01:03,  1.49it/s]"
     ]
    },
    {
     "name": "stdout",
     "output_type": "stream",
     "text": [
      "[2025-07-30 03:48:10.885] Evaluating cascade layer = 1 \n",
      "[2025-07-30 03:48:11.003] Start to evalute the model:\n",
      "[2025-07-30 03:48:11.003] Evaluating cascade layer = 0 \n",
      "[2025-07-30 03:48:11.253] Evaluating cascade layer = 1 \n",
      "[2025-07-30 03:48:11.453] Start to evalute the model:\n",
      "[2025-07-30 03:48:11.453] Evaluating cascade layer = 0 \n"
     ]
    },
    {
     "name": "stderr",
     "output_type": "stream",
     "text": [
      "Exact explainer:  55%|█████▍    | 113/206 [01:16<01:03,  1.47it/s]"
     ]
    },
    {
     "name": "stdout",
     "output_type": "stream",
     "text": [
      "[2025-07-30 03:48:11.570] Evaluating cascade layer = 1 \n",
      "[2025-07-30 03:48:11.703] Start to evalute the model:\n",
      "[2025-07-30 03:48:11.720] Evaluating cascade layer = 0 \n",
      "[2025-07-30 03:48:11.936] Evaluating cascade layer = 1 \n",
      "[2025-07-30 03:48:12.136] Start to evalute the model:\n",
      "[2025-07-30 03:48:12.136] Evaluating cascade layer = 0 \n"
     ]
    },
    {
     "name": "stderr",
     "output_type": "stream",
     "text": [
      "Exact explainer:  55%|█████▌    | 114/206 [01:16<01:02,  1.47it/s]"
     ]
    },
    {
     "name": "stdout",
     "output_type": "stream",
     "text": [
      "[2025-07-30 03:48:12.253] Evaluating cascade layer = 1 \n",
      "[2025-07-30 03:48:12.386] Start to evalute the model:\n",
      "[2025-07-30 03:48:12.386] Evaluating cascade layer = 0 \n",
      "[2025-07-30 03:48:12.602] Evaluating cascade layer = 1 \n",
      "[2025-07-30 03:48:12.803] Start to evalute the model:\n",
      "[2025-07-30 03:48:12.803] Evaluating cascade layer = 0 \n"
     ]
    },
    {
     "name": "stderr",
     "output_type": "stream",
     "text": [
      "Exact explainer:  56%|█████▌    | 115/206 [01:17<01:01,  1.48it/s]"
     ]
    },
    {
     "name": "stdout",
     "output_type": "stream",
     "text": [
      "[2025-07-30 03:48:12.919] Evaluating cascade layer = 1 \n",
      "[2025-07-30 03:48:13.053] Start to evalute the model:\n",
      "[2025-07-30 03:48:13.053] Evaluating cascade layer = 0 \n",
      "[2025-07-30 03:48:13.270] Evaluating cascade layer = 1 \n",
      "[2025-07-30 03:48:13.473] Start to evalute the model:\n",
      "[2025-07-30 03:48:13.473] Evaluating cascade layer = 0 \n"
     ]
    },
    {
     "name": "stderr",
     "output_type": "stream",
     "text": [
      "Exact explainer:  56%|█████▋    | 116/206 [01:18<01:00,  1.50it/s]"
     ]
    },
    {
     "name": "stdout",
     "output_type": "stream",
     "text": [
      "[2025-07-30 03:48:13.584] Evaluating cascade layer = 1 \n",
      "[2025-07-30 03:48:13.704] Start to evalute the model:\n",
      "[2025-07-30 03:48:13.704] Evaluating cascade layer = 0 \n",
      "[2025-07-30 03:48:13.919] Evaluating cascade layer = 1 \n",
      "[2025-07-30 03:48:14.120] Start to evalute the model:\n",
      "[2025-07-30 03:48:14.120] Evaluating cascade layer = 0 \n"
     ]
    },
    {
     "name": "stderr",
     "output_type": "stream",
     "text": [
      "Exact explainer:  57%|█████▋    | 117/206 [01:18<00:59,  1.50it/s]"
     ]
    },
    {
     "name": "stdout",
     "output_type": "stream",
     "text": [
      "[2025-07-30 03:48:14.236] Evaluating cascade layer = 1 \n",
      "[2025-07-30 03:48:14.376] Start to evalute the model:\n",
      "[2025-07-30 03:48:14.381] Evaluating cascade layer = 0 \n",
      "[2025-07-30 03:48:14.620] Evaluating cascade layer = 1 \n",
      "[2025-07-30 03:48:14.820] Start to evalute the model:\n",
      "[2025-07-30 03:48:14.820] Evaluating cascade layer = 0 \n",
      "[2025-07-30 03:48:14.953] Evaluating cascade layer = 1 \n"
     ]
    },
    {
     "name": "stderr",
     "output_type": "stream",
     "text": [
      "Exact explainer:  57%|█████▋    | 118/206 [01:19<00:59,  1.48it/s]"
     ]
    },
    {
     "name": "stdout",
     "output_type": "stream",
     "text": [
      "[2025-07-30 03:48:15.074] Start to evalute the model:\n",
      "[2025-07-30 03:48:15.081] Evaluating cascade layer = 0 \n",
      "[2025-07-30 03:48:15.286] Evaluating cascade layer = 1 \n",
      "[2025-07-30 03:48:15.503] Start to evalute the model:\n",
      "[2025-07-30 03:48:15.503] Evaluating cascade layer = 0 \n",
      "[2025-07-30 03:48:15.637] Evaluating cascade layer = 1 \n"
     ]
    },
    {
     "name": "stderr",
     "output_type": "stream",
     "text": [
      "Exact explainer:  58%|█████▊    | 119/206 [01:20<00:59,  1.45it/s]"
     ]
    },
    {
     "name": "stdout",
     "output_type": "stream",
     "text": [
      "[2025-07-30 03:48:15.787] Start to evalute the model:\n",
      "[2025-07-30 03:48:15.803] Evaluating cascade layer = 0 \n",
      "[2025-07-30 03:48:16.020] Evaluating cascade layer = 1 \n",
      "[2025-07-30 03:48:16.220] Start to evalute the model:\n",
      "[2025-07-30 03:48:16.220] Evaluating cascade layer = 0 \n"
     ]
    },
    {
     "name": "stderr",
     "output_type": "stream",
     "text": [
      "Exact explainer:  58%|█████▊    | 120/206 [01:20<00:59,  1.45it/s]"
     ]
    },
    {
     "name": "stdout",
     "output_type": "stream",
     "text": [
      "[2025-07-30 03:48:16.353] Evaluating cascade layer = 1 \n",
      "[2025-07-30 03:48:16.487] Start to evalute the model:\n",
      "[2025-07-30 03:48:16.487] Evaluating cascade layer = 0 \n",
      "[2025-07-30 03:48:16.703] Evaluating cascade layer = 1 \n",
      "[2025-07-30 03:48:16.903] Start to evalute the model:\n",
      "[2025-07-30 03:48:16.903] Evaluating cascade layer = 0 \n"
     ]
    },
    {
     "name": "stderr",
     "output_type": "stream",
     "text": [
      "Exact explainer:  59%|█████▊    | 121/206 [01:21<00:58,  1.46it/s]"
     ]
    },
    {
     "name": "stdout",
     "output_type": "stream",
     "text": [
      "[2025-07-30 03:48:17.019] Evaluating cascade layer = 1 \n",
      "[2025-07-30 03:48:17.153] Start to evalute the model:\n",
      "[2025-07-30 03:48:17.179] Evaluating cascade layer = 0 \n",
      "[2025-07-30 03:48:17.387] Evaluating cascade layer = 1 \n",
      "[2025-07-30 03:48:17.588] Start to evalute the model:\n",
      "[2025-07-30 03:48:17.589] Evaluating cascade layer = 0 \n"
     ]
    },
    {
     "name": "stderr",
     "output_type": "stream",
     "text": [
      "Exact explainer:  59%|█████▉    | 122/206 [01:22<00:56,  1.48it/s]"
     ]
    },
    {
     "name": "stdout",
     "output_type": "stream",
     "text": [
      "[2025-07-30 03:48:17.703] Evaluating cascade layer = 1 \n",
      "[2025-07-30 03:48:17.807] Start to evalute the model:\n",
      "[2025-07-30 03:48:17.807] Evaluating cascade layer = 0 \n",
      "[2025-07-30 03:48:18.020] Evaluating cascade layer = 1 \n",
      "[2025-07-30 03:48:18.220] Start to evalute the model:\n",
      "[2025-07-30 03:48:18.220] Evaluating cascade layer = 0 \n",
      "[2025-07-30 03:48:18.303] Evaluating cascade layer = 1 \n"
     ]
    },
    {
     "name": "stderr",
     "output_type": "stream",
     "text": [
      "Exact explainer:  60%|█████▉    | 123/206 [01:22<00:54,  1.53it/s]"
     ]
    },
    {
     "name": "stdout",
     "output_type": "stream",
     "text": [
      "[2025-07-30 03:48:18.403] Start to evalute the model:\n",
      "[2025-07-30 03:48:18.403] Evaluating cascade layer = 0 \n",
      "[2025-07-30 03:48:18.603] Evaluating cascade layer = 1 \n",
      "[2025-07-30 03:48:18.837] Start to evalute the model:\n",
      "[2025-07-30 03:48:18.837] Evaluating cascade layer = 0 \n",
      "[2025-07-30 03:48:18.970] Evaluating cascade layer = 1 \n"
     ]
    },
    {
     "name": "stderr",
     "output_type": "stream",
     "text": [
      "Exact explainer:  60%|██████    | 124/206 [01:23<00:54,  1.50it/s]"
     ]
    },
    {
     "name": "stdout",
     "output_type": "stream",
     "text": [
      "[2025-07-30 03:48:19.103] Start to evalute the model:\n",
      "[2025-07-30 03:48:19.103] Evaluating cascade layer = 0 \n",
      "[2025-07-30 03:48:19.336] Evaluating cascade layer = 1 \n",
      "[2025-07-30 03:48:19.537] Start to evalute the model:\n",
      "[2025-07-30 03:48:19.537] Evaluating cascade layer = 0 \n"
     ]
    },
    {
     "name": "stderr",
     "output_type": "stream",
     "text": [
      "Exact explainer:  61%|██████    | 125/206 [01:24<00:54,  1.49it/s]"
     ]
    },
    {
     "name": "stdout",
     "output_type": "stream",
     "text": [
      "[2025-07-30 03:48:19.670] Evaluating cascade layer = 1 \n",
      "[2025-07-30 03:48:19.787] Start to evalute the model:\n",
      "[2025-07-30 03:48:19.787] Evaluating cascade layer = 0 \n",
      "[2025-07-30 03:48:19.985] Evaluating cascade layer = 1 \n",
      "[2025-07-30 03:48:20.203] Start to evalute the model:\n",
      "[2025-07-30 03:48:20.203] Evaluating cascade layer = 0 \n",
      "[2025-07-30 03:48:20.337] Evaluating cascade layer = 1 \n"
     ]
    },
    {
     "name": "stderr",
     "output_type": "stream",
     "text": [
      "Exact explainer:  61%|██████    | 126/206 [01:24<00:54,  1.48it/s]"
     ]
    },
    {
     "name": "stdout",
     "output_type": "stream",
     "text": [
      "[2025-07-30 03:48:20.476] Start to evalute the model:\n",
      "[2025-07-30 03:48:20.483] Evaluating cascade layer = 0 \n",
      "[2025-07-30 03:48:20.699] Evaluating cascade layer = 1 \n",
      "[2025-07-30 03:48:20.907] Start to evalute the model:\n",
      "[2025-07-30 03:48:20.908] Evaluating cascade layer = 0 \n",
      "[2025-07-30 03:48:21.003] Evaluating cascade layer = 1 \n"
     ]
    },
    {
     "name": "stderr",
     "output_type": "stream",
     "text": [
      "Exact explainer:  62%|██████▏   | 127/206 [01:25<00:53,  1.49it/s]"
     ]
    },
    {
     "name": "stdout",
     "output_type": "stream",
     "text": [
      "[2025-07-30 03:48:21.137] Start to evalute the model:\n",
      "[2025-07-30 03:48:21.137] Evaluating cascade layer = 0 \n",
      "[2025-07-30 03:48:21.353] Evaluating cascade layer = 1 \n",
      "[2025-07-30 03:48:21.557] Start to evalute the model:\n",
      "[2025-07-30 03:48:21.558] Evaluating cascade layer = 0 \n"
     ]
    },
    {
     "name": "stderr",
     "output_type": "stream",
     "text": [
      "Exact explainer:  62%|██████▏   | 128/206 [01:26<00:51,  1.51it/s]"
     ]
    },
    {
     "name": "stdout",
     "output_type": "stream",
     "text": [
      "[2025-07-30 03:48:21.653] Evaluating cascade layer = 1 \n",
      "[2025-07-30 03:48:21.778] Start to evalute the model:\n",
      "[2025-07-30 03:48:21.787] Evaluating cascade layer = 0 \n",
      "[2025-07-30 03:48:22.036] Evaluating cascade layer = 1 \n",
      "[2025-07-30 03:48:22.237] Start to evalute the model:\n",
      "[2025-07-30 03:48:22.237] Evaluating cascade layer = 0 \n"
     ]
    },
    {
     "name": "stderr",
     "output_type": "stream",
     "text": [
      "Exact explainer:  63%|██████▎   | 129/206 [01:27<00:52,  1.47it/s]"
     ]
    },
    {
     "name": "stdout",
     "output_type": "stream",
     "text": [
      "[2025-07-30 03:48:22.370] Evaluating cascade layer = 1 \n",
      "[2025-07-30 03:48:22.503] Start to evalute the model:\n",
      "[2025-07-30 03:48:22.503] Evaluating cascade layer = 0 \n",
      "[2025-07-30 03:48:22.720] Evaluating cascade layer = 1 \n",
      "[2025-07-30 03:48:22.920] Start to evalute the model:\n",
      "[2025-07-30 03:48:22.920] Evaluating cascade layer = 0 \n",
      "[2025-07-30 03:48:23.019] Evaluating cascade layer = 1 \n"
     ]
    },
    {
     "name": "stderr",
     "output_type": "stream",
     "text": [
      "Exact explainer:  63%|██████▎   | 130/206 [01:27<00:50,  1.50it/s]"
     ]
    },
    {
     "name": "stdout",
     "output_type": "stream",
     "text": [
      "[2025-07-30 03:48:23.137] Start to evalute the model:\n",
      "[2025-07-30 03:48:23.154] Evaluating cascade layer = 0 \n",
      "[2025-07-30 03:48:23.353] Evaluating cascade layer = 1 \n",
      "[2025-07-30 03:48:23.573] Start to evalute the model:\n",
      "[2025-07-30 03:48:23.574] Evaluating cascade layer = 0 \n",
      "[2025-07-30 03:48:23.686] Evaluating cascade layer = 1 \n"
     ]
    },
    {
     "name": "stderr",
     "output_type": "stream",
     "text": [
      "Exact explainer:  64%|██████▎   | 131/206 [01:28<00:50,  1.49it/s]"
     ]
    },
    {
     "name": "stdout",
     "output_type": "stream",
     "text": [
      "[2025-07-30 03:48:23.824] Start to evalute the model:\n",
      "[2025-07-30 03:48:23.824] Evaluating cascade layer = 0 \n",
      "[2025-07-30 03:48:24.020] Evaluating cascade layer = 1 \n",
      "[2025-07-30 03:48:24.220] Start to evalute the model:\n",
      "[2025-07-30 03:48:24.220] Evaluating cascade layer = 0 \n",
      "[2025-07-30 03:48:24.353] Evaluating cascade layer = 1 \n"
     ]
    },
    {
     "name": "stderr",
     "output_type": "stream",
     "text": [
      "Exact explainer:  64%|██████▍   | 132/206 [01:28<00:48,  1.51it/s]"
     ]
    },
    {
     "name": "stdout",
     "output_type": "stream",
     "text": [
      "[2025-07-30 03:48:24.454] Start to evalute the model:\n",
      "[2025-07-30 03:48:24.454] Evaluating cascade layer = 0 \n",
      "[2025-07-30 03:48:24.671] Evaluating cascade layer = 1 \n",
      "[2025-07-30 03:48:24.873] Start to evalute the model:\n",
      "[2025-07-30 03:48:24.874] Evaluating cascade layer = 0 \n"
     ]
    },
    {
     "name": "stderr",
     "output_type": "stream",
     "text": [
      "Exact explainer:  65%|██████▍   | 133/206 [01:29<00:48,  1.50it/s]"
     ]
    },
    {
     "name": "stdout",
     "output_type": "stream",
     "text": [
      "[2025-07-30 03:48:25.004] Evaluating cascade layer = 1 \n",
      "[2025-07-30 03:48:25.137] Start to evalute the model:\n",
      "[2025-07-30 03:48:25.137] Evaluating cascade layer = 0 \n",
      "[2025-07-30 03:48:25.403] Evaluating cascade layer = 1 \n",
      "[2025-07-30 03:48:25.603] Start to evalute the model:\n",
      "[2025-07-30 03:48:25.603] Evaluating cascade layer = 0 \n"
     ]
    },
    {
     "name": "stderr",
     "output_type": "stream",
     "text": [
      "Exact explainer:  65%|██████▌   | 134/206 [01:30<00:49,  1.46it/s]"
     ]
    },
    {
     "name": "stdout",
     "output_type": "stream",
     "text": [
      "[2025-07-30 03:48:25.736] Evaluating cascade layer = 1 \n",
      "[2025-07-30 03:48:25.874] Start to evalute the model:\n",
      "[2025-07-30 03:48:25.880] Evaluating cascade layer = 0 \n",
      "[2025-07-30 03:48:26.086] Evaluating cascade layer = 1 \n",
      "[2025-07-30 03:48:26.287] Start to evalute the model:\n",
      "[2025-07-30 03:48:26.287] Evaluating cascade layer = 0 \n",
      "[2025-07-30 03:48:26.403] Evaluating cascade layer = 1 \n"
     ]
    },
    {
     "name": "stderr",
     "output_type": "stream",
     "text": [
      "Exact explainer:  66%|██████▌   | 135/206 [01:31<00:49,  1.44it/s]"
     ]
    },
    {
     "name": "stdout",
     "output_type": "stream",
     "text": [
      "[2025-07-30 03:48:26.596] Start to evalute the model:\n",
      "[2025-07-30 03:48:26.621] Evaluating cascade layer = 0 \n",
      "[2025-07-30 03:48:26.853] Evaluating cascade layer = 1 \n",
      "[2025-07-30 03:48:27.053] Start to evalute the model:\n",
      "[2025-07-30 03:48:27.053] Evaluating cascade layer = 0 \n"
     ]
    },
    {
     "name": "stderr",
     "output_type": "stream",
     "text": [
      "Exact explainer:  66%|██████▌   | 136/206 [01:31<00:49,  1.42it/s]"
     ]
    },
    {
     "name": "stdout",
     "output_type": "stream",
     "text": [
      "[2025-07-30 03:48:27.169] Evaluating cascade layer = 1 \n",
      "[2025-07-30 03:48:27.303] Start to evalute the model:\n",
      "[2025-07-30 03:48:27.303] Evaluating cascade layer = 0 \n",
      "[2025-07-30 03:48:27.519] Evaluating cascade layer = 1 \n",
      "[2025-07-30 03:48:27.720] Start to evalute the model:\n",
      "[2025-07-30 03:48:27.720] Evaluating cascade layer = 0 \n",
      "[2025-07-30 03:48:27.820] Evaluating cascade layer = 1 \n"
     ]
    },
    {
     "name": "stderr",
     "output_type": "stream",
     "text": [
      "Exact explainer:  67%|██████▋   | 137/206 [01:32<00:47,  1.46it/s]"
     ]
    },
    {
     "name": "stdout",
     "output_type": "stream",
     "text": [
      "[2025-07-30 03:48:27.954] Start to evalute the model:\n",
      "[2025-07-30 03:48:27.954] Evaluating cascade layer = 0 \n",
      "[2025-07-30 03:48:28.171] Evaluating cascade layer = 1 \n",
      "[2025-07-30 03:48:28.387] Start to evalute the model:\n",
      "[2025-07-30 03:48:28.387] Evaluating cascade layer = 0 \n",
      "[2025-07-30 03:48:28.486] Evaluating cascade layer = 1 \n"
     ]
    },
    {
     "name": "stderr",
     "output_type": "stream",
     "text": [
      "Exact explainer:  67%|██████▋   | 138/206 [01:33<00:46,  1.47it/s]"
     ]
    },
    {
     "name": "stdout",
     "output_type": "stream",
     "text": [
      "[2025-07-30 03:48:28.620] Start to evalute the model:\n",
      "[2025-07-30 03:48:28.620] Evaluating cascade layer = 0 \n",
      "[2025-07-30 03:48:28.853] Evaluating cascade layer = 1 \n",
      "[2025-07-30 03:48:29.053] Start to evalute the model:\n",
      "[2025-07-30 03:48:29.053] Evaluating cascade layer = 0 \n"
     ]
    },
    {
     "name": "stderr",
     "output_type": "stream",
     "text": [
      "Exact explainer:  67%|██████▋   | 139/206 [01:33<00:45,  1.47it/s]"
     ]
    },
    {
     "name": "stdout",
     "output_type": "stream",
     "text": [
      "[2025-07-30 03:48:29.170] Evaluating cascade layer = 1 \n",
      "[2025-07-30 03:48:29.307] Start to evalute the model:\n",
      "[2025-07-30 03:48:29.307] Evaluating cascade layer = 0 \n",
      "[2025-07-30 03:48:29.584] Evaluating cascade layer = 1 \n",
      "[2025-07-30 03:48:29.787] Start to evalute the model:\n",
      "[2025-07-30 03:48:29.787] Evaluating cascade layer = 0 \n",
      "[2025-07-30 03:48:29.920] Evaluating cascade layer = 1 \n"
     ]
    },
    {
     "name": "stderr",
     "output_type": "stream",
     "text": [
      "Exact explainer:  68%|██████▊   | 140/206 [01:34<00:46,  1.42it/s]"
     ]
    },
    {
     "name": "stdout",
     "output_type": "stream",
     "text": [
      "[2025-07-30 03:48:30.054] Start to evalute the model:\n",
      "[2025-07-30 03:48:30.069] Evaluating cascade layer = 0 \n",
      "[2025-07-30 03:48:30.285] Evaluating cascade layer = 1 \n",
      "[2025-07-30 03:48:30.507] Start to evalute the model:\n",
      "[2025-07-30 03:48:30.508] Evaluating cascade layer = 0 \n",
      "[2025-07-30 03:48:30.603] Evaluating cascade layer = 1 \n"
     ]
    },
    {
     "name": "stderr",
     "output_type": "stream",
     "text": [
      "Exact explainer:  68%|██████▊   | 141/206 [01:35<00:44,  1.45it/s]"
     ]
    },
    {
     "name": "stdout",
     "output_type": "stream",
     "text": [
      "[2025-07-30 03:48:30.725] Start to evalute the model:\n",
      "[2025-07-30 03:48:30.728] Evaluating cascade layer = 0 \n",
      "[2025-07-30 03:48:30.937] Evaluating cascade layer = 1 \n",
      "[2025-07-30 03:48:31.173] Start to evalute the model:\n",
      "[2025-07-30 03:48:31.174] Evaluating cascade layer = 0 \n",
      "[2025-07-30 03:48:31.303] Evaluating cascade layer = 1 \n"
     ]
    },
    {
     "name": "stderr",
     "output_type": "stream",
     "text": [
      "Exact explainer:  69%|██████▉   | 142/206 [01:35<00:44,  1.44it/s]"
     ]
    },
    {
     "name": "stdout",
     "output_type": "stream",
     "text": [
      "[2025-07-30 03:48:31.420] Start to evalute the model:\n",
      "[2025-07-30 03:48:31.436] Evaluating cascade layer = 0 \n",
      "[2025-07-30 03:48:31.637] Evaluating cascade layer = 1 \n",
      "[2025-07-30 03:48:31.853] Start to evalute the model:\n",
      "[2025-07-30 03:48:31.853] Evaluating cascade layer = 0 \n",
      "[2025-07-30 03:48:31.953] Evaluating cascade layer = 1 \n"
     ]
    },
    {
     "name": "stderr",
     "output_type": "stream",
     "text": [
      "Exact explainer:  69%|██████▉   | 143/206 [01:36<00:42,  1.47it/s]"
     ]
    },
    {
     "name": "stdout",
     "output_type": "stream",
     "text": [
      "[2025-07-30 03:48:32.075] Start to evalute the model:\n",
      "[2025-07-30 03:48:32.082] Evaluating cascade layer = 0 \n",
      "[2025-07-30 03:48:32.285] Evaluating cascade layer = 1 \n",
      "[2025-07-30 03:48:32.487] Start to evalute the model:\n",
      "[2025-07-30 03:48:32.487] Evaluating cascade layer = 0 \n",
      "[2025-07-30 03:48:32.603] Evaluating cascade layer = 1 \n"
     ]
    },
    {
     "name": "stderr",
     "output_type": "stream",
     "text": [
      "Exact explainer:  70%|██████▉   | 144/206 [01:37<00:42,  1.47it/s]"
     ]
    },
    {
     "name": "stdout",
     "output_type": "stream",
     "text": [
      "[2025-07-30 03:48:32.754] Start to evalute the model:\n",
      "[2025-07-30 03:48:32.754] Evaluating cascade layer = 0 \n",
      "[2025-07-30 03:48:32.970] Evaluating cascade layer = 1 \n",
      "[2025-07-30 03:48:33.203] Start to evalute the model:\n",
      "[2025-07-30 03:48:33.203] Evaluating cascade layer = 0 \n",
      "[2025-07-30 03:48:33.303] Evaluating cascade layer = 1 \n"
     ]
    },
    {
     "name": "stderr",
     "output_type": "stream",
     "text": [
      "Exact explainer:  70%|███████   | 145/206 [01:37<00:41,  1.47it/s]"
     ]
    },
    {
     "name": "stdout",
     "output_type": "stream",
     "text": [
      "[2025-07-30 03:48:33.437] Start to evalute the model:\n",
      "[2025-07-30 03:48:33.437] Evaluating cascade layer = 0 \n",
      "[2025-07-30 03:48:33.653] Evaluating cascade layer = 1 \n",
      "[2025-07-30 03:48:33.857] Start to evalute the model:\n",
      "[2025-07-30 03:48:33.857] Evaluating cascade layer = 0 \n"
     ]
    },
    {
     "name": "stderr",
     "output_type": "stream",
     "text": [
      "Exact explainer:  71%|███████   | 146/206 [01:38<00:40,  1.49it/s]"
     ]
    },
    {
     "name": "stdout",
     "output_type": "stream",
     "text": [
      "[2025-07-30 03:48:33.953] Evaluating cascade layer = 1 \n",
      "[2025-07-30 03:48:34.087] Start to evalute the model:\n",
      "[2025-07-30 03:48:34.087] Evaluating cascade layer = 0 \n",
      "[2025-07-30 03:48:34.303] Evaluating cascade layer = 1 \n",
      "[2025-07-30 03:48:34.503] Start to evalute the model:\n",
      "[2025-07-30 03:48:34.503] Evaluating cascade layer = 0 \n"
     ]
    },
    {
     "name": "stderr",
     "output_type": "stream",
     "text": [
      "Exact explainer:  71%|███████▏  | 147/206 [01:39<00:38,  1.51it/s]"
     ]
    },
    {
     "name": "stdout",
     "output_type": "stream",
     "text": [
      "[2025-07-30 03:48:34.603] Evaluating cascade layer = 1 \n",
      "[2025-07-30 03:48:34.720] Start to evalute the model:\n",
      "[2025-07-30 03:48:34.737] Evaluating cascade layer = 0 \n",
      "[2025-07-30 03:48:34.953] Evaluating cascade layer = 1 \n",
      "[2025-07-30 03:48:35.157] Start to evalute the model:\n",
      "[2025-07-30 03:48:35.157] Evaluating cascade layer = 0 \n"
     ]
    },
    {
     "name": "stderr",
     "output_type": "stream",
     "text": [
      "Exact explainer:  72%|███████▏  | 148/206 [01:39<00:38,  1.50it/s]"
     ]
    },
    {
     "name": "stdout",
     "output_type": "stream",
     "text": [
      "[2025-07-30 03:48:35.270] Evaluating cascade layer = 1 \n",
      "[2025-07-30 03:48:35.403] Start to evalute the model:\n",
      "[2025-07-30 03:48:35.403] Evaluating cascade layer = 0 \n",
      "[2025-07-30 03:48:35.620] Evaluating cascade layer = 1 \n",
      "[2025-07-30 03:48:35.820] Start to evalute the model:\n",
      "[2025-07-30 03:48:35.820] Evaluating cascade layer = 0 \n"
     ]
    },
    {
     "name": "stderr",
     "output_type": "stream",
     "text": [
      "Exact explainer:  72%|███████▏  | 149/206 [01:40<00:38,  1.48it/s]"
     ]
    },
    {
     "name": "stdout",
     "output_type": "stream",
     "text": [
      "[2025-07-30 03:48:35.970] Evaluating cascade layer = 1 \n",
      "[2025-07-30 03:48:36.103] Start to evalute the model:\n",
      "[2025-07-30 03:48:36.103] Evaluating cascade layer = 0 \n",
      "[2025-07-30 03:48:36.385] Evaluating cascade layer = 1 \n",
      "[2025-07-30 03:48:36.587] Start to evalute the model:\n",
      "[2025-07-30 03:48:36.587] Evaluating cascade layer = 0 \n",
      "[2025-07-30 03:48:36.703] Evaluating cascade layer = 1 \n"
     ]
    },
    {
     "name": "stderr",
     "output_type": "stream",
     "text": [
      "Exact explainer:  73%|███████▎  | 150/206 [01:41<00:38,  1.44it/s]"
     ]
    },
    {
     "name": "stdout",
     "output_type": "stream",
     "text": [
      "[2025-07-30 03:48:36.837] Start to evalute the model:\n",
      "[2025-07-30 03:48:36.837] Evaluating cascade layer = 0 \n",
      "[2025-07-30 03:48:37.053] Evaluating cascade layer = 1 \n",
      "[2025-07-30 03:48:37.253] Start to evalute the model:\n",
      "[2025-07-30 03:48:37.253] Evaluating cascade layer = 0 \n"
     ]
    },
    {
     "name": "stderr",
     "output_type": "stream",
     "text": [
      "Exact explainer:  73%|███████▎  | 151/206 [01:42<00:37,  1.46it/s]"
     ]
    },
    {
     "name": "stdout",
     "output_type": "stream",
     "text": [
      "[2025-07-30 03:48:37.370] Evaluating cascade layer = 1 \n",
      "[2025-07-30 03:48:37.503] Start to evalute the model:\n",
      "[2025-07-30 03:48:37.503] Evaluating cascade layer = 0 \n",
      "[2025-07-30 03:48:37.720] Evaluating cascade layer = 1 \n",
      "[2025-07-30 03:48:37.920] Start to evalute the model:\n",
      "[2025-07-30 03:48:37.920] Evaluating cascade layer = 0 \n"
     ]
    },
    {
     "name": "stderr",
     "output_type": "stream",
     "text": [
      "Exact explainer:  74%|███████▍  | 152/206 [01:42<00:36,  1.48it/s]"
     ]
    },
    {
     "name": "stdout",
     "output_type": "stream",
     "text": [
      "[2025-07-30 03:48:38.019] Evaluating cascade layer = 1 \n",
      "[2025-07-30 03:48:38.154] Start to evalute the model:\n",
      "[2025-07-30 03:48:38.154] Evaluating cascade layer = 0 \n",
      "[2025-07-30 03:48:38.370] Evaluating cascade layer = 1 \n",
      "[2025-07-30 03:48:38.620] Start to evalute the model:\n",
      "[2025-07-30 03:48:38.620] Evaluating cascade layer = 0 \n",
      "[2025-07-30 03:48:38.720] Evaluating cascade layer = 1 \n"
     ]
    },
    {
     "name": "stderr",
     "output_type": "stream",
     "text": [
      "Exact explainer:  74%|███████▍  | 153/206 [01:43<00:35,  1.48it/s]"
     ]
    },
    {
     "name": "stdout",
     "output_type": "stream",
     "text": [
      "[2025-07-30 03:48:38.837] Start to evalute the model:\n",
      "[2025-07-30 03:48:38.837] Evaluating cascade layer = 0 \n",
      "[2025-07-30 03:48:39.053] Evaluating cascade layer = 1 \n",
      "[2025-07-30 03:48:39.303] Start to evalute the model:\n",
      "[2025-07-30 03:48:39.303] Evaluating cascade layer = 0 \n",
      "[2025-07-30 03:48:39.437] Evaluating cascade layer = 1 \n"
     ]
    },
    {
     "name": "stderr",
     "output_type": "stream",
     "text": [
      "Exact explainer:  75%|███████▍  | 154/206 [01:44<00:36,  1.44it/s]"
     ]
    },
    {
     "name": "stdout",
     "output_type": "stream",
     "text": [
      "[2025-07-30 03:48:39.574] Start to evalute the model:\n",
      "[2025-07-30 03:48:39.580] Evaluating cascade layer = 0 \n",
      "[2025-07-30 03:48:39.787] Evaluating cascade layer = 1 \n",
      "[2025-07-30 03:48:40.003] Start to evalute the model:\n",
      "[2025-07-30 03:48:40.003] Evaluating cascade layer = 0 \n",
      "[2025-07-30 03:48:40.119] Evaluating cascade layer = 1 \n"
     ]
    },
    {
     "name": "stderr",
     "output_type": "stream",
     "text": [
      "Exact explainer:  75%|███████▌  | 155/206 [01:44<00:36,  1.40it/s]"
     ]
    },
    {
     "name": "stdout",
     "output_type": "stream",
     "text": [
      "[2025-07-30 03:48:40.338] Start to evalute the model:\n",
      "[2025-07-30 03:48:40.338] Evaluating cascade layer = 0 \n",
      "[2025-07-30 03:48:40.553] Evaluating cascade layer = 1 \n",
      "[2025-07-30 03:48:40.753] Start to evalute the model:\n",
      "[2025-07-30 03:48:40.753] Evaluating cascade layer = 0 \n",
      "[2025-07-30 03:48:40.885] Evaluating cascade layer = 1 \n"
     ]
    },
    {
     "name": "stderr",
     "output_type": "stream",
     "text": [
      "Exact explainer:  76%|███████▌  | 156/206 [01:45<00:35,  1.42it/s]"
     ]
    },
    {
     "name": "stdout",
     "output_type": "stream",
     "text": [
      "[2025-07-30 03:48:41.020] Start to evalute the model:\n",
      "[2025-07-30 03:48:41.020] Evaluating cascade layer = 0 \n",
      "[2025-07-30 03:48:41.237] Evaluating cascade layer = 1 \n",
      "[2025-07-30 03:48:41.453] Start to evalute the model:\n",
      "[2025-07-30 03:48:41.453] Evaluating cascade layer = 0 \n",
      "[2025-07-30 03:48:41.537] Evaluating cascade layer = 1 \n"
     ]
    },
    {
     "name": "stderr",
     "output_type": "stream",
     "text": [
      "Exact explainer:  76%|███████▌  | 157/206 [01:46<00:33,  1.45it/s]"
     ]
    },
    {
     "name": "stdout",
     "output_type": "stream",
     "text": [
      "[2025-07-30 03:48:41.677] Start to evalute the model:\n",
      "[2025-07-30 03:48:41.685] Evaluating cascade layer = 0 \n",
      "[2025-07-30 03:48:41.885] Evaluating cascade layer = 1 \n",
      "[2025-07-30 03:48:42.103] Start to evalute the model:\n",
      "[2025-07-30 03:48:42.103] Evaluating cascade layer = 0 \n",
      "[2025-07-30 03:48:42.236] Evaluating cascade layer = 1 \n"
     ]
    },
    {
     "name": "stderr",
     "output_type": "stream",
     "text": [
      "Exact explainer:  77%|███████▋  | 158/206 [01:46<00:32,  1.45it/s]"
     ]
    },
    {
     "name": "stdout",
     "output_type": "stream",
     "text": [
      "[2025-07-30 03:48:42.358] Start to evalute the model:\n",
      "[2025-07-30 03:48:42.370] Evaluating cascade layer = 0 \n",
      "[2025-07-30 03:48:42.585] Evaluating cascade layer = 1 \n",
      "[2025-07-30 03:48:42.789] Start to evalute the model:\n",
      "[2025-07-30 03:48:42.789] Evaluating cascade layer = 0 \n",
      "[2025-07-30 03:48:42.884] Evaluating cascade layer = 1 \n"
     ]
    },
    {
     "name": "stderr",
     "output_type": "stream",
     "text": [
      "Exact explainer:  77%|███████▋  | 159/206 [01:47<00:31,  1.48it/s]"
     ]
    },
    {
     "name": "stdout",
     "output_type": "stream",
     "text": [
      "[2025-07-30 03:48:43.008] Start to evalute the model:\n",
      "[2025-07-30 03:48:43.012] Evaluating cascade layer = 0 \n",
      "[2025-07-30 03:48:43.253] Evaluating cascade layer = 1 \n",
      "[2025-07-30 03:48:43.453] Start to evalute the model:\n",
      "[2025-07-30 03:48:43.453] Evaluating cascade layer = 0 \n"
     ]
    },
    {
     "name": "stderr",
     "output_type": "stream",
     "text": [
      "Exact explainer:  78%|███████▊  | 160/206 [01:48<00:30,  1.51it/s]"
     ]
    },
    {
     "name": "stdout",
     "output_type": "stream",
     "text": [
      "[2025-07-30 03:48:43.536] Evaluating cascade layer = 1 \n",
      "[2025-07-30 03:48:43.637] Start to evalute the model:\n",
      "[2025-07-30 03:48:43.637] Evaluating cascade layer = 0 \n",
      "[2025-07-30 03:48:43.852] Evaluating cascade layer = 1 \n",
      "[2025-07-30 03:48:44.053] Start to evalute the model:\n",
      "[2025-07-30 03:48:44.053] Evaluating cascade layer = 0 \n",
      "[2025-07-30 03:48:44.186] Evaluating cascade layer = 1 \n"
     ]
    },
    {
     "name": "stderr",
     "output_type": "stream",
     "text": [
      "Exact explainer:  78%|███████▊  | 161/206 [01:48<00:31,  1.45it/s]"
     ]
    },
    {
     "name": "stdout",
     "output_type": "stream",
     "text": [
      "[2025-07-30 03:48:44.387] Start to evalute the model:\n",
      "[2025-07-30 03:48:44.408] Evaluating cascade layer = 0 \n",
      "[2025-07-30 03:48:44.619] Evaluating cascade layer = 1 \n",
      "[2025-07-30 03:48:44.841] Start to evalute the model:\n",
      "[2025-07-30 03:48:44.841] Evaluating cascade layer = 0 \n",
      "[2025-07-30 03:48:44.970] Evaluating cascade layer = 1 \n"
     ]
    },
    {
     "name": "stderr",
     "output_type": "stream",
     "text": [
      "Exact explainer:  79%|███████▊  | 162/206 [01:49<00:30,  1.43it/s]"
     ]
    },
    {
     "name": "stdout",
     "output_type": "stream",
     "text": [
      "[2025-07-30 03:48:45.103] Start to evalute the model:\n",
      "[2025-07-30 03:48:45.103] Evaluating cascade layer = 0 \n",
      "[2025-07-30 03:48:45.320] Evaluating cascade layer = 1 \n",
      "[2025-07-30 03:48:45.537] Start to evalute the model:\n",
      "[2025-07-30 03:48:45.537] Evaluating cascade layer = 0 \n",
      "[2025-07-30 03:48:45.670] Evaluating cascade layer = 1 \n"
     ]
    },
    {
     "name": "stderr",
     "output_type": "stream",
     "text": [
      "Exact explainer:  79%|███████▉  | 163/206 [01:50<00:30,  1.43it/s]"
     ]
    },
    {
     "name": "stdout",
     "output_type": "stream",
     "text": [
      "[2025-07-30 03:48:45.808] Start to evalute the model:\n",
      "[2025-07-30 03:48:45.808] Evaluating cascade layer = 0 \n",
      "[2025-07-30 03:48:46.020] Evaluating cascade layer = 1 \n",
      "[2025-07-30 03:48:46.220] Start to evalute the model:\n",
      "[2025-07-30 03:48:46.220] Evaluating cascade layer = 0 \n"
     ]
    },
    {
     "name": "stderr",
     "output_type": "stream",
     "text": [
      "Exact explainer:  80%|███████▉  | 164/206 [01:50<00:28,  1.45it/s]"
     ]
    },
    {
     "name": "stdout",
     "output_type": "stream",
     "text": [
      "[2025-07-30 03:48:46.336] Evaluating cascade layer = 1 \n",
      "[2025-07-30 03:48:46.475] Start to evalute the model:\n",
      "[2025-07-30 03:48:46.480] Evaluating cascade layer = 0 \n",
      "[2025-07-30 03:48:46.670] Evaluating cascade layer = 1 \n",
      "[2025-07-30 03:48:46.872] Start to evalute the model:\n",
      "[2025-07-30 03:48:46.873] Evaluating cascade layer = 0 \n"
     ]
    },
    {
     "name": "stderr",
     "output_type": "stream",
     "text": [
      "Exact explainer:  80%|████████  | 165/206 [01:51<00:28,  1.43it/s]"
     ]
    },
    {
     "name": "stdout",
     "output_type": "stream",
     "text": [
      "[2025-07-30 03:48:47.020] Evaluating cascade layer = 1 \n",
      "[2025-07-30 03:48:47.187] Start to evalute the model:\n",
      "[2025-07-30 03:48:47.204] Evaluating cascade layer = 0 \n",
      "[2025-07-30 03:48:47.453] Evaluating cascade layer = 1 \n",
      "[2025-07-30 03:48:47.653] Start to evalute the model:\n",
      "[2025-07-30 03:48:47.653] Evaluating cascade layer = 0 \n"
     ]
    },
    {
     "name": "stderr",
     "output_type": "stream",
     "text": [
      "Exact explainer:  81%|████████  | 166/206 [01:52<00:28,  1.42it/s]"
     ]
    },
    {
     "name": "stdout",
     "output_type": "stream",
     "text": [
      "[2025-07-30 03:48:47.770] Evaluating cascade layer = 1 \n",
      "[2025-07-30 03:48:47.903] Start to evalute the model:\n",
      "[2025-07-30 03:48:47.903] Evaluating cascade layer = 0 \n",
      "[2025-07-30 03:48:48.120] Evaluating cascade layer = 1 \n",
      "[2025-07-30 03:48:48.320] Start to evalute the model:\n",
      "[2025-07-30 03:48:48.320] Evaluating cascade layer = 0 \n"
     ]
    },
    {
     "name": "stderr",
     "output_type": "stream",
     "text": [
      "Exact explainer:  81%|████████  | 167/206 [01:53<00:26,  1.46it/s]"
     ]
    },
    {
     "name": "stdout",
     "output_type": "stream",
     "text": [
      "[2025-07-30 03:48:48.420] Evaluating cascade layer = 1 \n",
      "[2025-07-30 03:48:48.554] Start to evalute the model:\n",
      "[2025-07-30 03:48:48.554] Evaluating cascade layer = 0 \n",
      "[2025-07-30 03:48:48.753] Evaluating cascade layer = 1 \n",
      "[2025-07-30 03:48:48.956] Start to evalute the model:\n",
      "[2025-07-30 03:48:48.956] Evaluating cascade layer = 0 \n"
     ]
    },
    {
     "name": "stderr",
     "output_type": "stream",
     "text": [
      "Exact explainer:  82%|████████▏ | 168/206 [01:53<00:25,  1.49it/s]"
     ]
    },
    {
     "name": "stdout",
     "output_type": "stream",
     "text": [
      "[2025-07-30 03:48:49.053] Evaluating cascade layer = 1 \n",
      "[2025-07-30 03:48:49.187] Start to evalute the model:\n",
      "[2025-07-30 03:48:49.187] Evaluating cascade layer = 0 \n",
      "[2025-07-30 03:48:49.403] Evaluating cascade layer = 1 \n",
      "[2025-07-30 03:48:49.606] Start to evalute the model:\n",
      "[2025-07-30 03:48:49.606] Evaluating cascade layer = 0 \n"
     ]
    },
    {
     "name": "stderr",
     "output_type": "stream",
     "text": [
      "Exact explainer:  82%|████████▏ | 169/206 [01:54<00:24,  1.50it/s]"
     ]
    },
    {
     "name": "stdout",
     "output_type": "stream",
     "text": [
      "[2025-07-30 03:48:49.703] Evaluating cascade layer = 1 \n",
      "[2025-07-30 03:48:49.837] Start to evalute the model:\n",
      "[2025-07-30 03:48:49.854] Evaluating cascade layer = 0 \n",
      "[2025-07-30 03:48:50.054] Evaluating cascade layer = 1 \n",
      "[2025-07-30 03:48:50.256] Start to evalute the model:\n",
      "[2025-07-30 03:48:50.256] Evaluating cascade layer = 0 \n"
     ]
    },
    {
     "name": "stderr",
     "output_type": "stream",
     "text": [
      "Exact explainer:  83%|████████▎ | 170/206 [01:54<00:23,  1.51it/s]"
     ]
    },
    {
     "name": "stdout",
     "output_type": "stream",
     "text": [
      "[2025-07-30 03:48:50.353] Evaluating cascade layer = 1 \n",
      "[2025-07-30 03:48:50.487] Start to evalute the model:\n",
      "[2025-07-30 03:48:50.487] Evaluating cascade layer = 0 \n",
      "[2025-07-30 03:48:50.753] Evaluating cascade layer = 1 \n",
      "[2025-07-30 03:48:50.953] Start to evalute the model:\n",
      "[2025-07-30 03:48:50.953] Evaluating cascade layer = 0 \n"
     ]
    },
    {
     "name": "stderr",
     "output_type": "stream",
     "text": [
      "Exact explainer:  83%|████████▎ | 171/206 [01:55<00:23,  1.48it/s]"
     ]
    },
    {
     "name": "stdout",
     "output_type": "stream",
     "text": [
      "[2025-07-30 03:48:51.070] Evaluating cascade layer = 1 \n",
      "[2025-07-30 03:48:51.208] Start to evalute the model:\n",
      "[2025-07-30 03:48:51.212] Evaluating cascade layer = 0 \n",
      "[2025-07-30 03:48:51.403] Evaluating cascade layer = 1 \n",
      "[2025-07-30 03:48:51.604] Start to evalute the model:\n",
      "[2025-07-30 03:48:51.604] Evaluating cascade layer = 0 \n",
      "[2025-07-30 03:48:51.702] Evaluating cascade layer = 1 \n"
     ]
    },
    {
     "name": "stderr",
     "output_type": "stream",
     "text": [
      "Exact explainer:  83%|████████▎ | 172/206 [01:56<00:22,  1.53it/s]"
     ]
    },
    {
     "name": "stdout",
     "output_type": "stream",
     "text": [
      "[2025-07-30 03:48:51.803] Start to evalute the model:\n",
      "[2025-07-30 03:48:51.803] Evaluating cascade layer = 0 \n",
      "[2025-07-30 03:48:52.003] Evaluating cascade layer = 1 \n",
      "[2025-07-30 03:48:52.203] Start to evalute the model:\n",
      "[2025-07-30 03:48:52.203] Evaluating cascade layer = 0 \n",
      "[2025-07-30 03:48:52.304] Evaluating cascade layer = 1 \n"
     ]
    },
    {
     "name": "stderr",
     "output_type": "stream",
     "text": [
      "Exact explainer:  84%|████████▍ | 173/206 [01:56<00:21,  1.54it/s]"
     ]
    },
    {
     "name": "stdout",
     "output_type": "stream",
     "text": [
      "[2025-07-30 03:48:52.437] Start to evalute the model:\n",
      "[2025-07-30 03:48:52.437] Evaluating cascade layer = 0 \n",
      "[2025-07-30 03:48:52.653] Evaluating cascade layer = 1 \n",
      "[2025-07-30 03:48:52.872] Start to evalute the model:\n",
      "[2025-07-30 03:48:52.873] Evaluating cascade layer = 0 \n",
      "[2025-07-30 03:48:53.003] Evaluating cascade layer = 1 \n"
     ]
    },
    {
     "name": "stderr",
     "output_type": "stream",
     "text": [
      "Exact explainer:  84%|████████▍ | 174/206 [01:57<00:21,  1.51it/s]"
     ]
    },
    {
     "name": "stdout",
     "output_type": "stream",
     "text": [
      "[2025-07-30 03:48:53.137] Start to evalute the model:\n",
      "[2025-07-30 03:48:53.137] Evaluating cascade layer = 0 \n",
      "[2025-07-30 03:48:53.353] Evaluating cascade layer = 1 \n",
      "[2025-07-30 03:48:53.556] Start to evalute the model:\n",
      "[2025-07-30 03:48:53.556] Evaluating cascade layer = 0 \n"
     ]
    },
    {
     "name": "stderr",
     "output_type": "stream",
     "text": [
      "Exact explainer:  85%|████████▍ | 175/206 [01:58<00:20,  1.52it/s]"
     ]
    },
    {
     "name": "stdout",
     "output_type": "stream",
     "text": [
      "[2025-07-30 03:48:53.672] Evaluating cascade layer = 1 \n",
      "[2025-07-30 03:48:53.787] Start to evalute the model:\n",
      "[2025-07-30 03:48:53.787] Evaluating cascade layer = 0 \n",
      "[2025-07-30 03:48:54.037] Evaluating cascade layer = 1 \n",
      "[2025-07-30 03:48:54.237] Start to evalute the model:\n",
      "[2025-07-30 03:48:54.237] Evaluating cascade layer = 0 \n"
     ]
    },
    {
     "name": "stderr",
     "output_type": "stream",
     "text": [
      "Exact explainer:  85%|████████▌ | 176/206 [01:59<00:20,  1.48it/s]"
     ]
    },
    {
     "name": "stdout",
     "output_type": "stream",
     "text": [
      "[2025-07-30 03:48:54.370] Evaluating cascade layer = 1 \n",
      "[2025-07-30 03:48:54.503] Start to evalute the model:\n",
      "[2025-07-30 03:48:54.503] Evaluating cascade layer = 0 \n",
      "[2025-07-30 03:48:54.720] Evaluating cascade layer = 1 \n",
      "[2025-07-30 03:48:54.920] Start to evalute the model:\n",
      "[2025-07-30 03:48:54.920] Evaluating cascade layer = 0 \n"
     ]
    },
    {
     "name": "stderr",
     "output_type": "stream",
     "text": [
      "Exact explainer:  86%|████████▌ | 177/206 [01:59<00:19,  1.47it/s]"
     ]
    },
    {
     "name": "stdout",
     "output_type": "stream",
     "text": [
      "[2025-07-30 03:48:55.053] Evaluating cascade layer = 1 \n",
      "[2025-07-30 03:48:55.187] Start to evalute the model:\n",
      "[2025-07-30 03:48:55.187] Evaluating cascade layer = 0 \n",
      "[2025-07-30 03:48:55.385] Evaluating cascade layer = 1 \n",
      "[2025-07-30 03:48:55.587] Start to evalute the model:\n",
      "[2025-07-30 03:48:55.587] Evaluating cascade layer = 0 \n",
      "[2025-07-30 03:48:55.719] Evaluating cascade layer = 1 \n"
     ]
    },
    {
     "name": "stderr",
     "output_type": "stream",
     "text": [
      "Exact explainer:  86%|████████▋ | 178/206 [02:00<00:18,  1.48it/s]"
     ]
    },
    {
     "name": "stdout",
     "output_type": "stream",
     "text": [
      "[2025-07-30 03:48:55.853] Start to evalute the model:\n",
      "[2025-07-30 03:48:55.853] Evaluating cascade layer = 0 \n",
      "[2025-07-30 03:48:56.070] Evaluating cascade layer = 1 \n",
      "[2025-07-30 03:48:56.272] Start to evalute the model:\n",
      "[2025-07-30 03:48:56.272] Evaluating cascade layer = 0 \n"
     ]
    },
    {
     "name": "stderr",
     "output_type": "stream",
     "text": [
      "Exact explainer:  87%|████████▋ | 179/206 [02:01<00:18,  1.47it/s]"
     ]
    },
    {
     "name": "stdout",
     "output_type": "stream",
     "text": [
      "[2025-07-30 03:48:56.403] Evaluating cascade layer = 1 \n",
      "[2025-07-30 03:48:56.554] Start to evalute the model:\n",
      "[2025-07-30 03:48:56.554] Evaluating cascade layer = 0 \n",
      "[2025-07-30 03:48:56.770] Evaluating cascade layer = 1 \n",
      "[2025-07-30 03:48:56.972] Start to evalute the model:\n",
      "[2025-07-30 03:48:56.973] Evaluating cascade layer = 0 \n"
     ]
    },
    {
     "name": "stderr",
     "output_type": "stream",
     "text": [
      "Exact explainer:  87%|████████▋ | 180/206 [02:01<00:17,  1.49it/s]"
     ]
    },
    {
     "name": "stdout",
     "output_type": "stream",
     "text": [
      "[2025-07-30 03:48:57.069] Evaluating cascade layer = 1 \n",
      "[2025-07-30 03:48:57.203] Start to evalute the model:\n",
      "[2025-07-30 03:48:57.203] Evaluating cascade layer = 0 \n",
      "[2025-07-30 03:48:57.436] Evaluating cascade layer = 1 \n",
      "[2025-07-30 03:48:57.637] Start to evalute the model:\n",
      "[2025-07-30 03:48:57.637] Evaluating cascade layer = 0 \n",
      "[2025-07-30 03:48:57.837] Evaluating cascade layer = 1 \n"
     ]
    },
    {
     "name": "stderr",
     "output_type": "stream",
     "text": [
      "Exact explainer:  88%|████████▊ | 181/206 [02:02<00:17,  1.42it/s]"
     ]
    },
    {
     "name": "stdout",
     "output_type": "stream",
     "text": [
      "[2025-07-30 03:48:57.994] Start to evalute the model:\n",
      "[2025-07-30 03:48:58.003] Evaluating cascade layer = 0 \n",
      "[2025-07-30 03:48:58.220] Evaluating cascade layer = 1 \n",
      "[2025-07-30 03:48:58.423] Start to evalute the model:\n",
      "[2025-07-30 03:48:58.423] Evaluating cascade layer = 0 \n"
     ]
    },
    {
     "name": "stderr",
     "output_type": "stream",
     "text": [
      "Exact explainer:  88%|████████▊ | 182/206 [02:03<00:16,  1.46it/s]"
     ]
    },
    {
     "name": "stdout",
     "output_type": "stream",
     "text": [
      "[2025-07-30 03:48:58.502] Evaluating cascade layer = 1 \n",
      "[2025-07-30 03:48:58.620] Start to evalute the model:\n",
      "[2025-07-30 03:48:58.620] Evaluating cascade layer = 0 \n",
      "[2025-07-30 03:48:58.838] Evaluating cascade layer = 1 \n",
      "[2025-07-30 03:48:59.073] Start to evalute the model:\n",
      "[2025-07-30 03:48:59.074] Evaluating cascade layer = 0 \n",
      "[2025-07-30 03:48:59.203] Evaluating cascade layer = 1 \n"
     ]
    },
    {
     "name": "stderr",
     "output_type": "stream",
     "text": [
      "Exact explainer:  89%|████████▉ | 183/206 [02:03<00:15,  1.44it/s]"
     ]
    },
    {
     "name": "stdout",
     "output_type": "stream",
     "text": [
      "[2025-07-30 03:48:59.337] Start to evalute the model:\n",
      "[2025-07-30 03:48:59.337] Evaluating cascade layer = 0 \n",
      "[2025-07-30 03:48:59.554] Evaluating cascade layer = 1 \n",
      "[2025-07-30 03:48:59.754] Start to evalute the model:\n",
      "[2025-07-30 03:48:59.754] Evaluating cascade layer = 0 \n",
      "[2025-07-30 03:48:59.870] Evaluating cascade layer = 1 \n"
     ]
    },
    {
     "name": "stderr",
     "output_type": "stream",
     "text": [
      "Exact explainer:  89%|████████▉ | 184/206 [02:04<00:15,  1.46it/s]"
     ]
    },
    {
     "name": "stdout",
     "output_type": "stream",
     "text": [
      "[2025-07-30 03:49:00.004] Start to evalute the model:\n",
      "[2025-07-30 03:49:00.004] Evaluating cascade layer = 0 \n",
      "[2025-07-30 03:49:00.220] Evaluating cascade layer = 1 \n",
      "[2025-07-30 03:49:00.420] Start to evalute the model:\n",
      "[2025-07-30 03:49:00.420] Evaluating cascade layer = 0 \n"
     ]
    },
    {
     "name": "stderr",
     "output_type": "stream",
     "text": [
      "Exact explainer:  90%|████████▉ | 185/206 [02:05<00:14,  1.44it/s]"
     ]
    },
    {
     "name": "stdout",
     "output_type": "stream",
     "text": [
      "[2025-07-30 03:49:00.571] Evaluating cascade layer = 1 \n",
      "[2025-07-30 03:49:00.721] Start to evalute the model:\n",
      "[2025-07-30 03:49:00.721] Evaluating cascade layer = 0 \n",
      "[2025-07-30 03:49:00.970] Evaluating cascade layer = 1 \n",
      "[2025-07-30 03:49:01.172] Start to evalute the model:\n",
      "[2025-07-30 03:49:01.173] Evaluating cascade layer = 0 \n",
      "[2025-07-30 03:49:01.270] Evaluating cascade layer = 1 \n"
     ]
    },
    {
     "name": "stderr",
     "output_type": "stream",
     "text": [
      "Exact explainer:  90%|█████████ | 186/206 [02:05<00:13,  1.46it/s]"
     ]
    },
    {
     "name": "stdout",
     "output_type": "stream",
     "text": [
      "[2025-07-30 03:49:01.387] Start to evalute the model:\n",
      "[2025-07-30 03:49:01.387] Evaluating cascade layer = 0 \n",
      "[2025-07-30 03:49:01.570] Evaluating cascade layer = 1 \n",
      "[2025-07-30 03:49:01.772] Start to evalute the model:\n",
      "[2025-07-30 03:49:01.773] Evaluating cascade layer = 0 \n",
      "[2025-07-30 03:49:01.903] Evaluating cascade layer = 1 \n"
     ]
    },
    {
     "name": "stderr",
     "output_type": "stream",
     "text": [
      "Exact explainer:  91%|█████████ | 187/206 [02:06<00:12,  1.48it/s]"
     ]
    },
    {
     "name": "stdout",
     "output_type": "stream",
     "text": [
      "[2025-07-30 03:49:02.037] Start to evalute the model:\n",
      "[2025-07-30 03:49:02.037] Evaluating cascade layer = 0 \n",
      "[2025-07-30 03:49:02.253] Evaluating cascade layer = 1 \n",
      "[2025-07-30 03:49:02.454] Start to evalute the model:\n",
      "[2025-07-30 03:49:02.454] Evaluating cascade layer = 0 \n"
     ]
    },
    {
     "name": "stderr",
     "output_type": "stream",
     "text": [
      "Exact explainer:  91%|█████████▏| 188/206 [02:07<00:12,  1.50it/s]"
     ]
    },
    {
     "name": "stdout",
     "output_type": "stream",
     "text": [
      "[2025-07-30 03:49:02.553] Evaluating cascade layer = 1 \n",
      "[2025-07-30 03:49:02.687] Start to evalute the model:\n",
      "[2025-07-30 03:49:02.687] Evaluating cascade layer = 0 \n",
      "[2025-07-30 03:49:02.903] Evaluating cascade layer = 1 \n",
      "[2025-07-30 03:49:03.103] Start to evalute the model:\n",
      "[2025-07-30 03:49:03.103] Evaluating cascade layer = 0 \n"
     ]
    },
    {
     "name": "stderr",
     "output_type": "stream",
     "text": [
      "Exact explainer:  92%|█████████▏| 189/206 [02:07<00:11,  1.49it/s]"
     ]
    },
    {
     "name": "stdout",
     "output_type": "stream",
     "text": [
      "[2025-07-30 03:49:03.236] Evaluating cascade layer = 1 \n",
      "[2025-07-30 03:49:03.375] Start to evalute the model:\n",
      "[2025-07-30 03:49:03.384] Evaluating cascade layer = 0 \n",
      "[2025-07-30 03:49:03.585] Evaluating cascade layer = 1 \n",
      "[2025-07-30 03:49:03.787] Start to evalute the model:\n",
      "[2025-07-30 03:49:03.787] Evaluating cascade layer = 0 \n",
      "[2025-07-30 03:49:03.903] Evaluating cascade layer = 1 \n"
     ]
    },
    {
     "name": "stderr",
     "output_type": "stream",
     "text": [
      "Exact explainer:  92%|█████████▏| 190/206 [02:08<00:10,  1.50it/s]"
     ]
    },
    {
     "name": "stdout",
     "output_type": "stream",
     "text": [
      "[2025-07-30 03:49:04.025] Start to evalute the model:\n",
      "[2025-07-30 03:49:04.025] Evaluating cascade layer = 0 \n",
      "[2025-07-30 03:49:04.253] Evaluating cascade layer = 1 \n",
      "[2025-07-30 03:49:04.456] Start to evalute the model:\n",
      "[2025-07-30 03:49:04.456] Evaluating cascade layer = 0 \n"
     ]
    },
    {
     "name": "stderr",
     "output_type": "stream",
     "text": [
      "Exact explainer:  93%|█████████▎| 191/206 [02:09<00:10,  1.48it/s]"
     ]
    },
    {
     "name": "stdout",
     "output_type": "stream",
     "text": [
      "[2025-07-30 03:49:04.586] Evaluating cascade layer = 1 \n",
      "[2025-07-30 03:49:04.720] Start to evalute the model:\n",
      "[2025-07-30 03:49:04.720] Evaluating cascade layer = 0 \n",
      "[2025-07-30 03:49:04.937] Evaluating cascade layer = 1 \n",
      "[2025-07-30 03:49:05.138] Start to evalute the model:\n",
      "[2025-07-30 03:49:05.138] Evaluating cascade layer = 0 \n",
      "[2025-07-30 03:49:05.286] Evaluating cascade layer = 1 \n"
     ]
    },
    {
     "name": "stderr",
     "output_type": "stream",
     "text": [
      "Exact explainer:  93%|█████████▎| 192/206 [02:09<00:09,  1.47it/s]"
     ]
    },
    {
     "name": "stdout",
     "output_type": "stream",
     "text": [
      "[2025-07-30 03:49:05.403] Start to evalute the model:\n",
      "[2025-07-30 03:49:05.403] Evaluating cascade layer = 0 \n",
      "[2025-07-30 03:49:05.620] Evaluating cascade layer = 1 \n",
      "[2025-07-30 03:49:05.820] Start to evalute the model:\n",
      "[2025-07-30 03:49:05.820] Evaluating cascade layer = 0 \n",
      "[2025-07-30 03:49:05.936] Evaluating cascade layer = 1 \n"
     ]
    },
    {
     "name": "stderr",
     "output_type": "stream",
     "text": [
      "Exact explainer:  94%|█████████▎| 193/206 [02:10<00:08,  1.48it/s]"
     ]
    },
    {
     "name": "stdout",
     "output_type": "stream",
     "text": [
      "[2025-07-30 03:49:06.075] Start to evalute the model:\n",
      "[2025-07-30 03:49:06.081] Evaluating cascade layer = 0 \n",
      "[2025-07-30 03:49:06.287] Evaluating cascade layer = 1 \n",
      "[2025-07-30 03:49:06.489] Start to evalute the model:\n",
      "[2025-07-30 03:49:06.490] Evaluating cascade layer = 0 \n",
      "[2025-07-30 03:49:06.620] Evaluating cascade layer = 1 \n"
     ]
    },
    {
     "name": "stderr",
     "output_type": "stream",
     "text": [
      "Exact explainer:  94%|█████████▍| 194/206 [02:11<00:08,  1.49it/s]"
     ]
    },
    {
     "name": "stdout",
     "output_type": "stream",
     "text": [
      "[2025-07-30 03:49:06.737] Start to evalute the model:\n",
      "[2025-07-30 03:49:06.737] Evaluating cascade layer = 0 \n",
      "[2025-07-30 03:49:06.953] Evaluating cascade layer = 1 \n",
      "[2025-07-30 03:49:07.203] Start to evalute the model:\n",
      "[2025-07-30 03:49:07.203] Evaluating cascade layer = 0 \n",
      "[2025-07-30 03:49:07.302] Evaluating cascade layer = 1 \n"
     ]
    },
    {
     "name": "stderr",
     "output_type": "stream",
     "text": [
      "Exact explainer:  95%|█████████▍| 195/206 [02:11<00:07,  1.48it/s]"
     ]
    },
    {
     "name": "stdout",
     "output_type": "stream",
     "text": [
      "[2025-07-30 03:49:07.420] Start to evalute the model:\n",
      "[2025-07-30 03:49:07.437] Evaluating cascade layer = 0 \n",
      "[2025-07-30 03:49:07.620] Evaluating cascade layer = 1 \n",
      "[2025-07-30 03:49:07.820] Start to evalute the model:\n",
      "[2025-07-30 03:49:07.820] Evaluating cascade layer = 0 \n",
      "[2025-07-30 03:49:07.937] Evaluating cascade layer = 1 \n"
     ]
    },
    {
     "name": "stderr",
     "output_type": "stream",
     "text": [
      "Exact explainer:  95%|█████████▌| 196/206 [02:12<00:06,  1.51it/s]"
     ]
    },
    {
     "name": "stdout",
     "output_type": "stream",
     "text": [
      "[2025-07-30 03:49:08.054] Start to evalute the model:\n",
      "[2025-07-30 03:49:08.054] Evaluating cascade layer = 0 \n",
      "[2025-07-30 03:49:08.271] Evaluating cascade layer = 1 \n",
      "[2025-07-30 03:49:08.472] Start to evalute the model:\n",
      "[2025-07-30 03:49:08.473] Evaluating cascade layer = 0 \n"
     ]
    },
    {
     "name": "stderr",
     "output_type": "stream",
     "text": [
      "Exact explainer:  96%|█████████▌| 197/206 [02:13<00:05,  1.50it/s]"
     ]
    },
    {
     "name": "stdout",
     "output_type": "stream",
     "text": [
      "[2025-07-30 03:49:08.603] Evaluating cascade layer = 1 \n",
      "[2025-07-30 03:49:08.737] Start to evalute the model:\n",
      "[2025-07-30 03:49:08.737] Evaluating cascade layer = 0 \n",
      "[2025-07-30 03:49:08.953] Evaluating cascade layer = 1 \n",
      "[2025-07-30 03:49:09.156] Start to evalute the model:\n",
      "[2025-07-30 03:49:09.156] Evaluating cascade layer = 0 \n"
     ]
    },
    {
     "name": "stderr",
     "output_type": "stream",
     "text": [
      "Exact explainer:  96%|█████████▌| 198/206 [02:13<00:05,  1.52it/s]"
     ]
    },
    {
     "name": "stdout",
     "output_type": "stream",
     "text": [
      "[2025-07-30 03:49:09.253] Evaluating cascade layer = 1 \n",
      "[2025-07-30 03:49:09.374] Start to evalute the model:\n",
      "[2025-07-30 03:49:09.380] Evaluating cascade layer = 0 \n",
      "[2025-07-30 03:49:09.603] Evaluating cascade layer = 1 \n",
      "[2025-07-30 03:49:09.803] Start to evalute the model:\n",
      "[2025-07-30 03:49:09.803] Evaluating cascade layer = 0 \n"
     ]
    },
    {
     "name": "stderr",
     "output_type": "stream",
     "text": [
      "Exact explainer:  97%|█████████▋| 199/206 [02:14<00:04,  1.49it/s]"
     ]
    },
    {
     "name": "stdout",
     "output_type": "stream",
     "text": [
      "[2025-07-30 03:49:09.936] Evaluating cascade layer = 1 \n",
      "[2025-07-30 03:49:10.074] Start to evalute the model:\n",
      "[2025-07-30 03:49:10.079] Evaluating cascade layer = 0 \n",
      "[2025-07-30 03:49:10.336] Evaluating cascade layer = 1 \n",
      "[2025-07-30 03:49:10.537] Start to evalute the model:\n",
      "[2025-07-30 03:49:10.537] Evaluating cascade layer = 0 \n",
      "[2025-07-30 03:49:10.721] Evaluating cascade layer = 1 \n"
     ]
    },
    {
     "name": "stderr",
     "output_type": "stream",
     "text": [
      "Exact explainer:  97%|█████████▋| 200/206 [02:15<00:04,  1.38it/s]"
     ]
    },
    {
     "name": "stdout",
     "output_type": "stream",
     "text": [
      "[2025-07-30 03:49:10.920] Start to evalute the model:\n",
      "[2025-07-30 03:49:10.937] Evaluating cascade layer = 0 \n",
      "[2025-07-30 03:49:11.154] Evaluating cascade layer = 1 \n",
      "[2025-07-30 03:49:11.354] Start to evalute the model:\n",
      "[2025-07-30 03:49:11.354] Evaluating cascade layer = 0 \n"
     ]
    },
    {
     "name": "stderr",
     "output_type": "stream",
     "text": [
      "Exact explainer:  98%|█████████▊| 201/206 [02:16<00:03,  1.40it/s]"
     ]
    },
    {
     "name": "stdout",
     "output_type": "stream",
     "text": [
      "[2025-07-30 03:49:11.470] Evaluating cascade layer = 1 \n",
      "[2025-07-30 03:49:11.603] Start to evalute the model:\n",
      "[2025-07-30 03:49:11.603] Evaluating cascade layer = 0 \n",
      "[2025-07-30 03:49:11.820] Evaluating cascade layer = 1 \n",
      "[2025-07-30 03:49:12.020] Start to evalute the model:\n",
      "[2025-07-30 03:49:12.020] Evaluating cascade layer = 0 \n",
      "[2025-07-30 03:49:12.120] Evaluating cascade layer = 1 \n"
     ]
    },
    {
     "name": "stderr",
     "output_type": "stream",
     "text": [
      "Exact explainer:  98%|█████████▊| 202/206 [02:16<00:02,  1.45it/s]"
     ]
    },
    {
     "name": "stdout",
     "output_type": "stream",
     "text": [
      "[2025-07-30 03:49:12.237] Start to evalute the model:\n",
      "[2025-07-30 03:49:12.237] Evaluating cascade layer = 0 \n",
      "[2025-07-30 03:49:12.453] Evaluating cascade layer = 1 \n",
      "[2025-07-30 03:49:12.703] Start to evalute the model:\n",
      "[2025-07-30 03:49:12.703] Evaluating cascade layer = 0 \n",
      "[2025-07-30 03:49:12.836] Evaluating cascade layer = 1 \n"
     ]
    },
    {
     "name": "stderr",
     "output_type": "stream",
     "text": [
      "Exact explainer:  99%|█████████▊| 203/206 [02:17<00:02,  1.43it/s]"
     ]
    },
    {
     "name": "stdout",
     "output_type": "stream",
     "text": [
      "[2025-07-30 03:49:12.953] Start to evalute the model:\n",
      "[2025-07-30 03:49:12.970] Evaluating cascade layer = 0 \n",
      "[2025-07-30 03:49:13.171] Evaluating cascade layer = 1 \n",
      "[2025-07-30 03:49:13.387] Start to evalute the model:\n",
      "[2025-07-30 03:49:13.387] Evaluating cascade layer = 0 \n",
      "[2025-07-30 03:49:13.470] Evaluating cascade layer = 1 \n"
     ]
    },
    {
     "name": "stderr",
     "output_type": "stream",
     "text": [
      "Exact explainer:  99%|█████████▉| 204/206 [02:18<00:01,  1.46it/s]"
     ]
    },
    {
     "name": "stdout",
     "output_type": "stream",
     "text": [
      "[2025-07-30 03:49:13.603] Start to evalute the model:\n",
      "[2025-07-30 03:49:13.603] Evaluating cascade layer = 0 \n",
      "[2025-07-30 03:49:13.820] Evaluating cascade layer = 1 \n",
      "[2025-07-30 03:49:14.020] Start to evalute the model:\n",
      "[2025-07-30 03:49:14.020] Evaluating cascade layer = 0 \n"
     ]
    },
    {
     "name": "stderr",
     "output_type": "stream",
     "text": [
      "Exact explainer: 100%|█████████▉| 205/206 [02:18<00:00,  1.50it/s]"
     ]
    },
    {
     "name": "stdout",
     "output_type": "stream",
     "text": [
      "[2025-07-30 03:49:14.137] Evaluating cascade layer = 1 \n",
      "[2025-07-30 03:49:14.237] Start to evalute the model:\n",
      "[2025-07-30 03:49:14.237] Evaluating cascade layer = 0 \n",
      "[2025-07-30 03:49:14.486] Evaluating cascade layer = 1 \n",
      "[2025-07-30 03:49:14.687] Start to evalute the model:\n",
      "[2025-07-30 03:49:14.687] Evaluating cascade layer = 0 \n",
      "[2025-07-30 03:49:14.802] Evaluating cascade layer = 1 \n"
     ]
    },
    {
     "name": "stderr",
     "output_type": "stream",
     "text": [
      "Exact explainer: 100%|██████████| 206/206 [02:19<00:00,  1.48it/s]"
     ]
    },
    {
     "name": "stdout",
     "output_type": "stream",
     "text": [
      "[2025-07-30 03:49:14.937] Start to evalute the model:\n",
      "[2025-07-30 03:49:14.937] Evaluating cascade layer = 0 \n",
      "[2025-07-30 03:49:15.154] Evaluating cascade layer = 1 \n",
      "[2025-07-30 03:49:15.354] Start to evalute the model:\n",
      "[2025-07-30 03:49:15.354] Evaluating cascade layer = 0 \n",
      "[2025-07-30 03:49:15.470] Evaluating cascade layer = 1 \n"
     ]
    },
    {
     "name": "stderr",
     "output_type": "stream",
     "text": [
      "Exact explainer: 207it [02:20,  1.36it/s]                         "
     ]
    },
    {
     "name": "stdout",
     "output_type": "stream",
     "text": [
      "cement              : 5.8663\n",
      "blast furnace slag  : 2.3694\n",
      "fly ash             : 0.8868\n",
      "water               : 4.2120\n",
      "superplasticizer    : 2.2264\n",
      "coarse aggregate    : 0.9953\n",
      "fine aggregate      : 1.6464\n",
      "age                 : 7.6725\n",
      "cement              : 5.8663\n",
      "blast furnace slag  : 2.3694\n",
      "fly ash             : 0.8868\n",
      "water               : 4.2120\n",
      "superplasticizer    : 2.2264\n",
      "coarse aggregate    : 0.9953\n",
      "fine aggregate      : 1.6464\n",
      "age                 : 7.6725\n"
     ]
    },
    {
     "name": "stderr",
     "output_type": "stream",
     "text": [
      "\n"
     ]
    }
   ],
   "source": [
    "kf = KFold(n_splits=5, shuffle=True, random_state=42)\n",
    "shap_values_all = []\n",
    "\n",
    "for fold, (train_idx, test_idx) in enumerate(kf.split(X)):\n",
    "    print(f\"Fold {fold+1}...\")\n",
    "    X_train, X_test = X.iloc[train_idx], X.iloc[test_idx]\n",
    "    y_train, y_test = y.iloc[train_idx], y.iloc[test_idx]\n",
    "\n",
    "    # 1) DeepForest 모델 학습\n",
    "    model = CascadeForestRegressor(random_state=42, n_jobs=-1)\n",
    "    model.fit(X_train, y_train)\n",
    "\n",
    "    # 2) 함수형 SHAP Explainer 생성\n",
    "    #    DeepForest는 TreeExplainer를 직접 지원하지 않으므로 shap.Explainer가\n",
    "    #    모델 구조를 보고 KernelExplainer 등으로 자동 선택합니다.\n",
    "    explainer = shap.Explainer(model.predict, X_train, feature_names=X.columns.tolist())\n",
    "\n",
    "    # 3) SHAP 값 계산 (Explanation 객체)\n",
    "    explanation = explainer(X_test)\n",
    "\n",
    "    # 4) 절댓값 취해 리스트에 저장\n",
    "    shap_values_all.append(np.abs(explanation.values))\n",
    "\n",
    "# 5) 모든 fold 결과를 합치고 feature별 평균 SHAP 값 계산\n",
    "all_shap = np.vstack(shap_values_all)  # (총 샘플 수, 피처 수)\n",
    "mean_shap_per_feature = all_shap.mean(axis=0)\n",
    "\n",
    "# 6) 결과 출력\n",
    "for name, val in zip(X.columns, mean_shap_per_feature):\n",
    "    print(f\"{name:20s}: {val:.4f}\")\n",
    "\n",
    "# 6) 결과 출력\n",
    "for name, val in zip(X.columns, mean_shap_per_feature):\n",
    "    print(f\"{name:20s}: {val:.4f}\")"
   ]
  },
  {
   "cell_type": "code",
   "execution_count": 5,
   "id": "6c98f2f6",
   "metadata": {},
   "outputs": [],
   "source": [
    "# SHAP 평균값 계산 -> 최종 importance 계산\n",
    "mean_shap = np.mean(np.array(shap_values_all), axis=0)  # shape: (n_samples, n_features)\n",
    "feature_importance = pd.Series(mean_shap.mean(axis=0), index=feature_names).sort_values(ascending=False)\n"
   ]
  },
  {
   "cell_type": "code",
   "execution_count": 6,
   "id": "3323377b",
   "metadata": {},
   "outputs": [
    {
     "name": "stdout",
     "output_type": "stream",
     "text": [
      "\n",
      " Feature Importance (Mean SHAP Values across 5 folds):\n",
      "age                   7.672503\n",
      "cement                5.866272\n",
      "water                 4.212001\n",
      "blast furnace slag    2.369424\n",
      "superplasticizer      2.226372\n",
      "fine aggregate        1.646417\n",
      "coarse aggregate      0.995342\n",
      "fly ash               0.886771\n",
      "dtype: float64\n"
     ]
    }
   ],
   "source": [
    "print(\"\\n Feature Importance (Mean SHAP Values across 5 folds):\")\n",
    "print(feature_importance)"
   ]
  },
  {
   "cell_type": "code",
   "execution_count": null,
   "id": "f99b768b",
   "metadata": {},
   "outputs": [],
   "source": []
  },
  {
   "cell_type": "code",
   "execution_count": null,
   "id": "d34e6e30",
   "metadata": {},
   "outputs": [],
   "source": []
  }
 ],
 "metadata": {
  "kernelspec": {
   "display_name": "Python 3",
   "language": "python",
   "name": "python3"
  },
  "language_info": {
   "codemirror_mode": {
    "name": "ipython",
    "version": 3
   },
   "file_extension": ".py",
   "mimetype": "text/x-python",
   "name": "python",
   "nbconvert_exporter": "python",
   "pygments_lexer": "ipython3",
   "version": "3.8.6"
  }
 },
 "nbformat": 4,
 "nbformat_minor": 5
}
