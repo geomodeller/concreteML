{
 "cells": [
  {
   "cell_type": "code",
   "execution_count": null,
   "id": "d40423a3-75e8-4630-855a-6b2090d3177b",
   "metadata": {},
   "outputs": [],
   "source": [
    "# Import necessary libraries\n",
    "import pandas as pd                     # For data manipulation\n",
    "import seaborn as sns                   # For pairwise visualization\n",
    "import matplotlib.pyplot as plt         # For plotting\n",
    "from sklearn.linear_model import LinearRegression  # Linear regression model\n",
    "from sklearn.preprocessing import StandardScaler   # For feature scaling\n",
    "from sklearn.model_selection import train_test_split  # Train-test split\n",
    "from sklearn.metrics import r2_score, mean_squared_error\n",
    "\n",
    "# Step 1: Load dataset\n",
    "data = pd.read_csv('dataset.csv')  # Assumes the file 'dataset.csv' is in the current directory\n"
   ]
  },
  {
   "cell_type": "code",
   "execution_count": null,
   "id": "914b54f8-f95f-4add-9cbe-416ff44e8852",
   "metadata": {},
   "outputs": [],
   "source": [
    "# Step 2: Explore data visually\n",
    "# This shows scatter plots for each pair of features and the target variable\n",
    "sns.pairplot(data)\n",
    "plt.suptitle('Pairwise Feature Relationships', y=1.02)\n",
    "plt.tight_layout()\n",
    "plt.show()"
   ]
  },
  {
   "cell_type": "code",
   "execution_count": null,
   "id": "bde29264-43dc-4124-b2db-873417494a53",
   "metadata": {},
   "outputs": [],
   "source": [
    "# Step 3: Separate features and target variable\n",
    "X = data.drop(columns=['CCS']).values  # Feature matrix: all columns except 'CCS'\n",
    "Y = data['CCS'].values                 # Target vector: 'CCS' column\n",
    "\n",
    "# Step 4: Train-test split (80% training, 20% testing)\n",
    "X_train, X_test, y_train, y_test = train_test_split(X, Y, train_size=0.8, random_state=42)\n",
    "\n",
    "# Step 5 (optional but recommended): Standardize features\n",
    "# Linear regression is sensitive to feature scaling, especially if regularization is applied later\n",
    "scaler = StandardScaler()\n",
    "X_train_scaled = scaler.fit_transform(X_train)\n",
    "X_test_scaled = scaler.transform(X_test)\n",
    "\n",
    "# Step 6: Create and train regression model\n",
    "reg_model = LinearRegression()  # Ordinary Least Squares regression\n",
    "reg_model.fit(X_train_scaled, y_train)"
   ]
  },
  {
   "cell_type": "code",
   "execution_count": null,
   "id": "69641a9a-3e66-4f04-975f-86e7ec917c66",
   "metadata": {},
   "outputs": [],
   "source": [
    "# Step 7: Predict on training and test sets\n",
    "y_train_pred = reg_model.predict(X_train_scaled)\n",
    "y_test_pred = reg_model.predict(X_test_scaled)\n",
    "\n",
    "# Step 8: Evaluate model\n",
    "r2_train = r2_score(y_train, y_train_pred)\n",
    "r2_test = r2_score(y_test, y_test_pred)\n",
    "mse_test = mean_squared_error(y_test, y_test_pred)\n",
    "\n",
    "print(f\"Train R² Score: {r2_train:.3f}\")\n",
    "print(f\"Test R² Score: {r2_test:.3f}\")\n",
    "print(f\"Test MSE: {mse_test:.3f}\")\n",
    "\n",
    "# Step 9: Parity plot (Actual vs Predicted)\n",
    "min_val = min(Y.min(), y_train_pred.min(), y_test_pred.min())\n",
    "max_val = max(Y.max(), y_train_pred.max(), y_test_pred.max())"
   ]
  },
  {
   "cell_type": "code",
   "execution_count": null,
   "id": "4ad62204-af9a-4fa6-be5b-3a19a1cc7ede",
   "metadata": {},
   "outputs": [],
   "source": [
    "# Training plot\n",
    "plt.figure(figsize=(6, 6))\n",
    "plt.scatter(y_train, y_train_pred, alpha=0.6, label='Train')\n",
    "plt.plot([min_val, max_val], [min_val, max_val], 'k--', label='1:1 line')\n",
    "plt.xlabel('Actual CCS')\n",
    "plt.ylabel('Predicted CCS')\n",
    "plt.title(f'Train Set: R² = {r2_train:.3f}')\n",
    "plt.legend()\n",
    "plt.grid(True)\n",
    "plt.show()\n",
    "\n",
    "# Test plot\n",
    "plt.figure(figsize=(6, 6))\n",
    "plt.scatter(y_test, y_test_pred, alpha=0.6, color='orange', label='Test')\n",
    "plt.plot([min_val, max_val], [min_val, max_val], 'k--', label='1:1 line')\n",
    "plt.xlabel('Actual CCS')\n",
    "plt.ylabel('Predicted CCS')\n",
    "plt.title(f'Test Set: R² = {r2_test:.3f}')\n",
    "plt.legend()\n",
    "plt.grid(True)\n",
    "plt.show()"
   ]
  }
 ],
 "metadata": {
  "kernelspec": {
   "display_name": "Python 3 (ipykernel)",
   "language": "python",
   "name": "python3"
  },
  "language_info": {
   "codemirror_mode": {
    "name": "ipython",
    "version": 3
   },
   "file_extension": ".py",
   "mimetype": "text/x-python",
   "name": "python",
   "nbconvert_exporter": "python",
   "pygments_lexer": "ipython3",
   "version": "3.12.4"
  }
 },
 "nbformat": 4,
 "nbformat_minor": 5
}
