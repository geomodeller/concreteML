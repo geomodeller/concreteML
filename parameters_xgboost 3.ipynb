{
 "cells": [
  {
   "cell_type": "code",
   "execution_count": 1,
   "id": "7caf4262",
   "metadata": {},
   "outputs": [
    {
     "name": "stderr",
     "output_type": "stream",
     "text": [
      "c:\\Users\\SAL\\AppData\\Local\\Programs\\Python\\Python310\\lib\\site-packages\\tqdm\\auto.py:21: TqdmWarning: IProgress not found. Please update jupyter and ipywidgets. See https://ipywidgets.readthedocs.io/en/stable/user_install.html\n",
      "  from .autonotebook import tqdm as notebook_tqdm\n"
     ]
    }
   ],
   "source": [
    "import pandas as pd\n",
    "from sklearn.model_selection import train_test_split\n",
    "from sklearn.metrics import r2_score\n",
    "from xgboost import XGBRegressor\n",
    "import optuna"
   ]
  },
  {
   "cell_type": "code",
   "execution_count": 2,
   "id": "757a53df",
   "metadata": {},
   "outputs": [
    {
     "name": "stderr",
     "output_type": "stream",
     "text": [
      "[I 2025-07-24 14:29:10,620] A new study created in memory with name: no-name-1362711b-fcc3-4eec-a1b6-bd6e2f0e7daa\n",
      "[I 2025-07-24 14:29:11,409] Trial 0 finished with value: 0.8893885277358751 and parameters: {'n_estimators': 740, 'learning_rate': 0.245116961807902, 'max_depth': 7, 'subsample': 0.7230158510829424, 'colsample_bytree': 0.9030256684111093, 'reg_alpha': 0.9919925847985406, 'reg_lambda': 0.31472677181402675}. Best is trial 0 with value: 0.8893885277358751.\n",
      "[I 2025-07-24 14:29:11,538] Trial 1 finished with value: 0.9049975957490659 and parameters: {'n_estimators': 185, 'learning_rate': 0.2857045297083393, 'max_depth': 5, 'subsample': 0.7490028132345713, 'colsample_bytree': 0.5336489193506859, 'reg_alpha': 3.22549890968612, 'reg_lambda': 1.6185864224393547}. Best is trial 1 with value: 0.9049975957490659.\n",
      "[I 2025-07-24 14:29:11,988] Trial 2 finished with value: 0.9033555053692605 and parameters: {'n_estimators': 297, 'learning_rate': 0.04919064880321288, 'max_depth': 10, 'subsample': 0.8333900431944641, 'colsample_bytree': 0.52951812896602, 'reg_alpha': 0.6382510302991612, 'reg_lambda': 2.7017522591169643}. Best is trial 1 with value: 0.9049975957490659.\n",
      "[I 2025-07-24 14:29:12,512] Trial 3 finished with value: 0.9042744372849614 and parameters: {'n_estimators': 671, 'learning_rate': 0.1027040176749634, 'max_depth': 6, 'subsample': 0.8155885466590764, 'colsample_bytree': 0.5580745597070307, 'reg_alpha': 0.09755519200780105, 'reg_lambda': 0.45360289585327007}. Best is trial 1 with value: 0.9049975957490659.\n",
      "[I 2025-07-24 14:29:13,250] Trial 4 finished with value: 0.9162397505196958 and parameters: {'n_estimators': 934, 'learning_rate': 0.13937384709152384, 'max_depth': 6, 'subsample': 0.9781226366173519, 'colsample_bytree': 0.997357126019468, 'reg_alpha': 2.185701198498805, 'reg_lambda': 4.724036694352284}. Best is trial 4 with value: 0.9162397505196958.\n",
      "[I 2025-07-24 14:29:13,895] Trial 5 finished with value: 0.9041092150689578 and parameters: {'n_estimators': 824, 'learning_rate': 0.16821916932232617, 'max_depth': 7, 'subsample': 0.5694854737195734, 'colsample_bytree': 0.5613024425105148, 'reg_alpha': 3.1723853519553833, 'reg_lambda': 1.1853634632026544}. Best is trial 4 with value: 0.9162397505196958.\n",
      "[I 2025-07-24 14:29:14,217] Trial 6 finished with value: 0.9078260995774177 and parameters: {'n_estimators': 599, 'learning_rate': 0.022010339491081207, 'max_depth': 4, 'subsample': 0.5492903850770872, 'colsample_bytree': 0.8956634672422726, 'reg_alpha': 0.32383665508401605, 'reg_lambda': 0.5242978798356585}. Best is trial 4 with value: 0.9162397505196958.\n",
      "[I 2025-07-24 14:29:14,518] Trial 7 finished with value: 0.9191107114918167 and parameters: {'n_estimators': 571, 'learning_rate': 0.2188334301231862, 'max_depth': 4, 'subsample': 0.7030828696068948, 'colsample_bytree': 0.6654708719869264, 'reg_alpha': 0.41333670697225877, 'reg_lambda': 1.3819269774424547}. Best is trial 7 with value: 0.9191107114918167.\n",
      "[I 2025-07-24 14:29:15,180] Trial 8 finished with value: 0.9127338746294318 and parameters: {'n_estimators': 568, 'learning_rate': 0.06705269093754859, 'max_depth': 10, 'subsample': 0.64858566084392, 'colsample_bytree': 0.74351996069503, 'reg_alpha': 4.821148720214651, 'reg_lambda': 3.288427689957336}. Best is trial 7 with value: 0.9191107114918167.\n",
      "[I 2025-07-24 14:29:16,053] Trial 9 finished with value: 0.9110566109753319 and parameters: {'n_estimators': 813, 'learning_rate': 0.023380443589795734, 'max_depth': 7, 'subsample': 0.9732386845755525, 'colsample_bytree': 0.9398097695868043, 'reg_alpha': 1.1004363577659648, 'reg_lambda': 1.5817954969928083}. Best is trial 7 with value: 0.9191107114918167.\n",
      "[I 2025-07-24 14:29:16,294] Trial 10 finished with value: 0.9194110299202558 and parameters: {'n_estimators': 395, 'learning_rate': 0.20417675693185613, 'max_depth': 3, 'subsample': 0.6744520782568081, 'colsample_bytree': 0.7181994669050911, 'reg_alpha': 1.8123600354097786, 'reg_lambda': 3.7738059378544895}. Best is trial 10 with value: 0.9194110299202558.\n",
      "[I 2025-07-24 14:29:16,539] Trial 11 finished with value: 0.9233498702395823 and parameters: {'n_estimators': 414, 'learning_rate': 0.2056282250147693, 'max_depth': 3, 'subsample': 0.6565018600535202, 'colsample_bytree': 0.6987373852933156, 'reg_alpha': 1.7884171773604833, 'reg_lambda': 3.864437486967616}. Best is trial 11 with value: 0.9233498702395823.\n",
      "[I 2025-07-24 14:29:16,767] Trial 12 finished with value: 0.9184344746372387 and parameters: {'n_estimators': 382, 'learning_rate': 0.19725853351394598, 'max_depth': 3, 'subsample': 0.6290209918785674, 'colsample_bytree': 0.7551891427182652, 'reg_alpha': 1.8055205263501724, 'reg_lambda': 4.107912629140641}. Best is trial 11 with value: 0.9233498702395823.\n",
      "[I 2025-07-24 14:29:17,014] Trial 13 finished with value: 0.9175644310211658 and parameters: {'n_estimators': 418, 'learning_rate': 0.2529321459220509, 'max_depth': 3, 'subsample': 0.5001044701763928, 'colsample_bytree': 0.6888968929263639, 'reg_alpha': 1.7142430474860357, 'reg_lambda': 3.691974965414393}. Best is trial 11 with value: 0.9233498702395823.\n",
      "[I 2025-07-24 14:29:17,157] Trial 14 finished with value: 0.912596498294379 and parameters: {'n_estimators': 126, 'learning_rate': 0.15974723385750095, 'max_depth': 4, 'subsample': 0.6422766693921892, 'colsample_bytree': 0.8019050371700552, 'reg_alpha': 2.9750509478909626, 'reg_lambda': 4.9221012104244295}. Best is trial 11 with value: 0.9233498702395823.\n",
      "[I 2025-07-24 14:29:17,412] Trial 15 finished with value: 0.9255584644223596 and parameters: {'n_estimators': 426, 'learning_rate': 0.19609373109386743, 'max_depth': 3, 'subsample': 0.828015602269798, 'colsample_bytree': 0.6527460803967077, 'reg_alpha': 4.06888750468214, 'reg_lambda': 2.870720743447454}. Best is trial 15 with value: 0.9255584644223596.\n",
      "[I 2025-07-24 14:29:17,651] Trial 16 finished with value: 0.91854754878594 and parameters: {'n_estimators': 264, 'learning_rate': 0.1187844830365972, 'max_depth': 5, 'subsample': 0.8514093165686512, 'colsample_bytree': 0.6367604836215824, 'reg_alpha': 4.347382381385019, 'reg_lambda': 2.60071568970461}. Best is trial 15 with value: 0.9255584644223596.\n",
      "[I 2025-07-24 14:29:18,144] Trial 17 finished with value: 0.89752096334089 and parameters: {'n_estimators': 467, 'learning_rate': 0.296226517369151, 'max_depth': 9, 'subsample': 0.8808445334233834, 'colsample_bytree': 0.6098271168024895, 'reg_alpha': 3.913511183486979, 'reg_lambda': 3.1160662134967088}. Best is trial 15 with value: 0.9255584644223596.\n",
      "[I 2025-07-24 14:29:18,409] Trial 18 finished with value: 0.9222155062114287 and parameters: {'n_estimators': 287, 'learning_rate': 0.187071269501994, 'max_depth': 5, 'subsample': 0.7814217530765236, 'colsample_bytree': 0.8118574713873427, 'reg_alpha': 3.733800229318104, 'reg_lambda': 2.2755978027518013}. Best is trial 15 with value: 0.9255584644223596.\n",
      "[I 2025-07-24 14:29:18,904] Trial 19 finished with value: 0.9083924186274791 and parameters: {'n_estimators': 460, 'learning_rate': 0.2350533407887272, 'max_depth': 8, 'subsample': 0.9277790782988071, 'colsample_bytree': 0.6184854628250156, 'reg_alpha': 2.691368472497496, 'reg_lambda': 4.387476350252786}. Best is trial 15 with value: 0.9255584644223596.\n",
      "[I 2025-07-24 14:29:19,157] Trial 20 finished with value: 0.9209749759447342 and parameters: {'n_estimators': 335, 'learning_rate': 0.27008674140170325, 'max_depth': 4, 'subsample': 0.7790371773625283, 'colsample_bytree': 0.7970348010242404, 'reg_alpha': 4.930188084935366, 'reg_lambda': 2.0557761561151118}. Best is trial 15 with value: 0.9255584644223596.\n",
      "[I 2025-07-24 14:29:19,376] Trial 21 finished with value: 0.9207341023010384 and parameters: {'n_estimators': 211, 'learning_rate': 0.17514890612862513, 'max_depth': 5, 'subsample': 0.7906868249403685, 'colsample_bytree': 0.8182670847478719, 'reg_alpha': 3.756427030416188, 'reg_lambda': 2.2189649340989637}. Best is trial 15 with value: 0.9255584644223596.\n",
      "[I 2025-07-24 14:29:19,657] Trial 22 finished with value: 0.9243569739020032 and parameters: {'n_estimators': 504, 'learning_rate': 0.187851762490002, 'max_depth': 3, 'subsample': 0.8796582403604699, 'colsample_bytree': 0.8437050025022634, 'reg_alpha': 3.9441689675714584, 'reg_lambda': 3.2114482317813966}. Best is trial 15 with value: 0.9255584644223596.\n",
      "[I 2025-07-24 14:29:19,946] Trial 23 finished with value: 0.9259196344053747 and parameters: {'n_estimators': 509, 'learning_rate': 0.2168822410105104, 'max_depth': 3, 'subsample': 0.9019397638909182, 'colsample_bytree': 0.8579132855625564, 'reg_alpha': 4.334761145039805, 'reg_lambda': 3.1599014204264284}. Best is trial 23 with value: 0.9259196344053747.\n",
      "[I 2025-07-24 14:29:20,230] Trial 24 finished with value: 0.9199090679901132 and parameters: {'n_estimators': 500, 'learning_rate': 0.14241470759025765, 'max_depth': 3, 'subsample': 0.8957725114987221, 'colsample_bytree': 0.8675156527480953, 'reg_alpha': 4.370052807670687, 'reg_lambda': 3.1408449372516363}. Best is trial 23 with value: 0.9259196344053747.\n",
      "[I 2025-07-24 14:29:20,647] Trial 25 finished with value: 0.9284069535172237 and parameters: {'n_estimators': 643, 'learning_rate': 0.2226911129186826, 'max_depth': 4, 'subsample': 0.9338195412563253, 'colsample_bytree': 0.8521588603097321, 'reg_alpha': 4.289950883206899, 'reg_lambda': 2.8905438484161556}. Best is trial 25 with value: 0.9284069535172237.\n",
      "[I 2025-07-24 14:29:21,051] Trial 26 finished with value: 0.9270283200860994 and parameters: {'n_estimators': 637, 'learning_rate': 0.21691940601664184, 'max_depth': 4, 'subsample': 0.9327387516080927, 'colsample_bytree': 0.9419460843578495, 'reg_alpha': 4.210069065205499, 'reg_lambda': 2.9443846281504014}. Best is trial 25 with value: 0.9284069535172237.\n",
      "[I 2025-07-24 14:29:21,484] Trial 27 finished with value: 0.9177091364388493 and parameters: {'n_estimators': 681, 'learning_rate': 0.22651496852072522, 'max_depth': 4, 'subsample': 0.9367499369125654, 'colsample_bytree': 0.9678861841934566, 'reg_alpha': 3.4371241047935457, 'reg_lambda': 1.9474938500856651}. Best is trial 25 with value: 0.9284069535172237.\n",
      "[I 2025-07-24 14:29:22,023] Trial 28 finished with value: 0.9181322528384745 and parameters: {'n_estimators': 658, 'learning_rate': 0.2662247987644375, 'max_depth': 6, 'subsample': 0.9332366734986552, 'colsample_bytree': 0.9273594950304211, 'reg_alpha': 4.6529334270258005, 'reg_lambda': 3.511358685844604}. Best is trial 25 with value: 0.9284069535172237.\n",
      "[I 2025-07-24 14:29:22,497] Trial 29 finished with value: 0.9301043046404089 and parameters: {'n_estimators': 752, 'learning_rate': 0.24535560803430556, 'max_depth': 4, 'subsample': 0.9662003369246814, 'colsample_bytree': 0.8700084091964568, 'reg_alpha': 4.424425558808598, 'reg_lambda': 2.8246697934201825}. Best is trial 29 with value: 0.9301043046404089.\n",
      "[I 2025-07-24 14:29:22,916] Trial 30 finished with value: 0.926743982102428 and parameters: {'n_estimators': 766, 'learning_rate': 0.2451071215358609, 'max_depth': 5, 'subsample': 0.9984489948744609, 'colsample_bytree': 0.8918297998340282, 'reg_alpha': 4.571777509463453, 'reg_lambda': 2.46226497228375}. Best is trial 29 with value: 0.9301043046404089.\n",
      "[I 2025-07-24 14:29:23,319] Trial 31 finished with value: 0.9242089619402385 and parameters: {'n_estimators': 779, 'learning_rate': 0.25082190451350705, 'max_depth': 5, 'subsample': 0.9996035416529429, 'colsample_bytree': 0.897222107460641, 'reg_alpha': 4.5971445085969, 'reg_lambda': 2.750362128321098}. Best is trial 29 with value: 0.9301043046404089.\n",
      "[I 2025-07-24 14:29:23,849] Trial 32 finished with value: 0.9210031795913114 and parameters: {'n_estimators': 893, 'learning_rate': 0.2760021227317969, 'max_depth': 4, 'subsample': 0.9631902685781855, 'colsample_bytree': 0.9439951662490806, 'reg_alpha': 3.485840753820987, 'reg_lambda': 2.376803077152527}. Best is trial 29 with value: 0.9301043046404089.\n",
      "[I 2025-07-24 14:29:24,378] Trial 33 finished with value: 0.9216067286626803 and parameters: {'n_estimators': 738, 'learning_rate': 0.24213698839837156, 'max_depth': 5, 'subsample': 0.9511357652434967, 'colsample_bytree': 0.883499328074858, 'reg_alpha': 4.1939133082891065, 'reg_lambda': 2.8491562037162677}. Best is trial 29 with value: 0.9301043046404089.\n",
      "[I 2025-07-24 14:29:24,824] Trial 34 finished with value: 0.9250621416875996 and parameters: {'n_estimators': 714, 'learning_rate': 0.2878792898562052, 'max_depth': 6, 'subsample': 0.9940742622192447, 'colsample_bytree': 0.9178151107595951, 'reg_alpha': 4.590251647798102, 'reg_lambda': 1.7794312764113294}. Best is trial 29 with value: 0.9301043046404089.\n",
      "[I 2025-07-24 14:29:25,281] Trial 35 finished with value: 0.9223851232979241 and parameters: {'n_estimators': 625, 'learning_rate': 0.2557360082629544, 'max_depth': 5, 'subsample': 0.9143268952134442, 'colsample_bytree': 0.9732804966385934, 'reg_alpha': 4.884565573296159, 'reg_lambda': 2.658844273365383}. Best is trial 29 with value: 0.9301043046404089.\n",
      "[I 2025-07-24 14:29:25,807] Trial 36 finished with value: 0.9271590075766377 and parameters: {'n_estimators': 883, 'learning_rate': 0.22940932540783304, 'max_depth': 4, 'subsample': 0.8585602718625351, 'colsample_bytree': 0.8423798739731184, 'reg_alpha': 3.5738023124410483, 'reg_lambda': 1.0407357310768646}. Best is trial 29 with value: 0.9301043046404089.\n",
      "[I 2025-07-24 14:29:26,396] Trial 37 finished with value: 0.9204520800758482 and parameters: {'n_estimators': 990, 'learning_rate': 0.22826216601882404, 'max_depth': 4, 'subsample': 0.8576242010109391, 'colsample_bytree': 0.8408188482856647, 'reg_alpha': 3.4743262887875277, 'reg_lambda': 0.9664966623435691}. Best is trial 29 with value: 0.9301043046404089.\n",
      "[I 2025-07-24 14:29:26,916] Trial 38 finished with value: 0.9198593470982864 and parameters: {'n_estimators': 873, 'learning_rate': 0.21142500237675502, 'max_depth': 4, 'subsample': 0.7484982269497035, 'colsample_bytree': 0.7714973313157141, 'reg_alpha': 2.7317611158633834, 'reg_lambda': 0.7533751955768614}. Best is trial 29 with value: 0.9301043046404089.\n",
      "[I 2025-07-24 14:29:27,607] Trial 39 finished with value: 0.9121302155157877 and parameters: {'n_estimators': 841, 'learning_rate': 0.16900287391007845, 'max_depth': 6, 'subsample': 0.8683428580202723, 'colsample_bytree': 0.9890880093969637, 'reg_alpha': 3.09788620839019, 'reg_lambda': 0.13976704716123622}. Best is trial 29 with value: 0.9301043046404089.\n",
      "[I 2025-07-24 14:29:28,173] Trial 40 finished with value: 0.9264516428578917 and parameters: {'n_estimators': 945, 'learning_rate': 0.10404237738560064, 'max_depth': 4, 'subsample': 0.9556437633440134, 'colsample_bytree': 0.8621300501175687, 'reg_alpha': 2.2396909412352533, 'reg_lambda': 3.440302644001397}. Best is trial 29 with value: 0.9301043046404089.\n",
      "[I 2025-07-24 14:29:28,680] Trial 41 finished with value: 0.9264793040835321 and parameters: {'n_estimators': 769, 'learning_rate': 0.23758536939697253, 'max_depth': 5, 'subsample': 0.9864306933638279, 'colsample_bytree': 0.9080350913296672, 'reg_alpha': 4.51526633660726, 'reg_lambda': 2.9038543894666993}. Best is trial 29 with value: 0.9301043046404089.\n",
      "[I 2025-07-24 14:29:29,115] Trial 42 finished with value: 0.9220917779082635 and parameters: {'n_estimators': 697, 'learning_rate': 0.25882551125686903, 'max_depth': 4, 'subsample': 0.964556648280784, 'colsample_bytree': 0.884421002203558, 'reg_alpha': 4.139069920212743, 'reg_lambda': 1.3957324643806726}. Best is trial 29 with value: 0.9301043046404089.\n",
      "[I 2025-07-24 14:29:29,589] Trial 43 finished with value: 0.9241899876557496 and parameters: {'n_estimators': 632, 'learning_rate': 0.22393201959795753, 'max_depth': 5, 'subsample': 0.9168250867113161, 'colsample_bytree': 0.9516089489080141, 'reg_alpha': 3.718193353790528, 'reg_lambda': 2.3732978474541904}. Best is trial 29 with value: 0.9301043046404089.\n",
      "[I 2025-07-24 14:29:30,063] Trial 44 finished with value: 0.9227647544083765 and parameters: {'n_estimators': 780, 'learning_rate': 0.24417799908335505, 'max_depth': 4, 'subsample': 0.9456766490741602, 'colsample_bytree': 0.8221912538692954, 'reg_alpha': 4.7674077753033135, 'reg_lambda': 4.063651162027895}. Best is trial 29 with value: 0.9301043046404089.\n",
      "[I 2025-07-24 14:29:30,446] Trial 45 finished with value: 0.9251044703407653 and parameters: {'n_estimators': 584, 'learning_rate': 0.27663121786814926, 'max_depth': 4, 'subsample': 0.8984832896699536, 'colsample_bytree': 0.8408672553249492, 'reg_alpha': 4.983975273973327, 'reg_lambda': 2.5028313425700435}. Best is trial 29 with value: 0.9301043046404089.\n",
      "[I 2025-07-24 14:29:31,047] Trial 46 finished with value: 0.9165789920481798 and parameters: {'n_estimators': 821, 'learning_rate': 0.21100219166062303, 'max_depth': 6, 'subsample': 0.9736464567010054, 'colsample_bytree': 0.7662313033779432, 'reg_alpha': 4.3764156053444765, 'reg_lambda': 2.0276826337334954}. Best is trial 29 with value: 0.9301043046404089.\n",
      "[I 2025-07-24 14:29:31,774] Trial 47 finished with value: 0.9096440678192902 and parameters: {'n_estimators': 734, 'learning_rate': 0.05559477073231252, 'max_depth': 7, 'subsample': 0.8425767776052222, 'colsample_bytree': 0.7890730459213822, 'reg_alpha': 3.9741467661385155, 'reg_lambda': 1.1468053672571368}. Best is trial 29 with value: 0.9301043046404089.\n",
      "[I 2025-07-24 14:29:32,221] Trial 48 finished with value: 0.920653260987502 and parameters: {'n_estimators': 894, 'learning_rate': 0.18566403472238824, 'max_depth': 3, 'subsample': 0.8114871969573194, 'colsample_bytree': 0.9248441922782475, 'reg_alpha': 3.571943515657643, 'reg_lambda': 0.48259790298580985}. Best is trial 29 with value: 0.9301043046404089.\n",
      "[I 2025-07-24 14:29:32,637] Trial 49 finished with value: 0.9246034878232102 and parameters: {'n_estimators': 635, 'learning_rate': 0.2999893358147728, 'max_depth': 4, 'subsample': 0.9789830632390963, 'colsample_bytree': 0.8764150952958666, 'reg_alpha': 4.167934563378169, 'reg_lambda': 1.6015239195085431}. Best is trial 29 with value: 0.9301043046404089.\n"
     ]
    },
    {
     "name": "stdout",
     "output_type": "stream",
     "text": [
      "✅ Best R² on test set: 0.9301043046404089\n",
      "📌 Best Parameters:\n",
      "  n_estimators: 752\n",
      "  learning_rate: 0.24535560803430556\n",
      "  max_depth: 4\n",
      "  subsample: 0.9662003369246814\n",
      "  colsample_bytree: 0.8700084091964568\n",
      "  reg_alpha: 4.424425558808598\n",
      "  reg_lambda: 2.8246697934201825\n"
     ]
    }
   ],
   "source": [
    "# 데이터 로드\n",
    "df = pd.read_csv('dataset.csv')\n",
    "selected_features = ['cement', 'blast furnace slag', 'water ', 'superplasticizer', 'age']\n",
    "X = df[selected_features]\n",
    "y = df['CCS']\n",
    "\n",
    "# 학습/테스트 데이터 분리\n",
    "X_train, X_test, y_train, y_test = train_test_split(X, y, test_size=0.2, random_state=42)\n",
    "\n",
    "# Optuna 목적 함수 정의\n",
    "def objective(trial):\n",
    "    params = {\n",
    "        'n_estimators': trial.suggest_int('n_estimators', 100, 1000),\n",
    "        'learning_rate': trial.suggest_float('learning_rate', 0.01, 0.3),\n",
    "        'max_depth': trial.suggest_int('max_depth', 3, 10),\n",
    "        'subsample': trial.suggest_float('subsample', 0.5, 1.0),\n",
    "        'colsample_bytree': trial.suggest_float('colsample_bytree', 0.5, 1.0),\n",
    "        'reg_alpha': trial.suggest_float('reg_alpha', 0.0, 5.0),\n",
    "        'reg_lambda': trial.suggest_float('reg_lambda', 0.0, 5.0),\n",
    "        'random_state': 42,\n",
    "        'n_jobs': -1,\n",
    "        'verbosity': 0\n",
    "    }\n",
    "\n",
    "    model = XGBRegressor(**params)\n",
    "    model.fit(X_train, y_train)\n",
    "    y_pred = model.predict(X_test)\n",
    "    return r2_score(y_test, y_pred)\n",
    "\n",
    "# Optuna 스터디 실행\n",
    "study = optuna.create_study(direction='maximize')\n",
    "study.optimize(objective, n_trials=50)\n",
    "\n",
    "# 최적 결과 출력\n",
    "print(\"✅ Best R² on test set:\", study.best_value)\n",
    "print(\"📌 Best Parameters:\")\n",
    "for key, value in study.best_params.items():\n",
    "    print(f\"  {key}: {value}\")"
   ]
  },
  {
   "cell_type": "code",
   "execution_count": null,
   "id": "fe649430",
   "metadata": {},
   "outputs": [],
   "source": []
  }
 ],
 "metadata": {
  "kernelspec": {
   "display_name": "Python 3",
   "language": "python",
   "name": "python3"
  },
  "language_info": {
   "codemirror_mode": {
    "name": "ipython",
    "version": 3
   },
   "file_extension": ".py",
   "mimetype": "text/x-python",
   "name": "python",
   "nbconvert_exporter": "python",
   "pygments_lexer": "ipython3",
   "version": "3.10.8"
  }
 },
 "nbformat": 4,
 "nbformat_minor": 5
}
