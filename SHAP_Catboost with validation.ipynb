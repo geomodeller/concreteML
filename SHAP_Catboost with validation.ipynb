{
 "cells": [
  {
   "cell_type": "markdown",
   "id": "d8510d97",
   "metadata": {},
   "source": [
    "# Feature importance 평가를 위한 SHAP\n",
    "- kfold validation 실행 후 SHAP \n",
    "- 연산에 소요되는 시간 확인을 위해 우선적으로 catboost model에 대해서만 실행"
   ]
  },
  {
   "cell_type": "code",
   "execution_count": null,
   "id": "20e5d5bd",
   "metadata": {},
   "outputs": [],
   "source": [
    "혹시 연구실 컴퓨터에 shap 설치 안되어 있으면 설치해서 실행하길..."
   ]
  },
  {
   "cell_type": "code",
   "execution_count": 1,
   "id": "4d023920",
   "metadata": {},
   "outputs": [
    {
     "ename": "ModuleNotFoundError",
     "evalue": "No module named 'shap'",
     "output_type": "error",
     "traceback": [
      "\u001b[1;31m---------------------------------------------------------------------------\u001b[0m",
      "\u001b[1;31mModuleNotFoundError\u001b[0m                       Traceback (most recent call last)",
      "Cell \u001b[1;32mIn[1], line 2\u001b[0m\n\u001b[0;32m      1\u001b[0m \u001b[38;5;28;01mimport\u001b[39;00m \u001b[38;5;21;01mpandas\u001b[39;00m \u001b[38;5;28;01mas\u001b[39;00m \u001b[38;5;21;01mpd\u001b[39;00m\n\u001b[1;32m----> 2\u001b[0m \u001b[38;5;28;01mimport\u001b[39;00m \u001b[38;5;21;01mshap\u001b[39;00m\n\u001b[0;32m      3\u001b[0m \u001b[38;5;28;01mimport\u001b[39;00m \u001b[38;5;21;01mnumpy\u001b[39;00m \u001b[38;5;28;01mas\u001b[39;00m \u001b[38;5;21;01mnp\u001b[39;00m\n\u001b[0;32m      4\u001b[0m \u001b[38;5;28;01mimport\u001b[39;00m \u001b[38;5;21;01mmatplotlib\u001b[39;00m\u001b[38;5;21;01m.\u001b[39;00m\u001b[38;5;21;01mpyplot\u001b[39;00m \u001b[38;5;28;01mas\u001b[39;00m \u001b[38;5;21;01mplt\u001b[39;00m\n",
      "\u001b[1;31mModuleNotFoundError\u001b[0m: No module named 'shap'"
     ]
    }
   ],
   "source": [
    "import pandas as pd\n",
    "import shap\n",
    "import numpy as np\n",
    "import matplotlib.pyplot as plt\n",
    "from catboost import CatBoostRegressor\n",
    "from sklearn.model_selection import KFold"
   ]
  },
  {
   "cell_type": "code",
   "execution_count": null,
   "id": "724eaad4",
   "metadata": {},
   "outputs": [],
   "source": [
    "df = pd.read_csv(\"dataset.csv\")\n",
    "X = df[['cement', 'slag', 'fly_ash', 'water',\n",
    "        'superplasticizer', 'coarse_aggregate', 'fine_aggregate', 'age']]\n",
    "y = df['CCS']"
   ]
  },
  {
   "cell_type": "code",
   "execution_count": null,
   "id": "2d710603",
   "metadata": {},
   "outputs": [],
   "source": [
    "# 5-fold cross-validation 실행\n",
    "kf = KFold(n_splits=5, shuffle=True, random_state=42)\n",
    "shap_values_all = []\n",
    "feature_names = X.columns"
   ]
  },
  {
   "cell_type": "code",
   "execution_count": null,
   "id": "1d3e1fbe",
   "metadata": {},
   "outputs": [],
   "source": [
    "# Catboost model training + SHAP 값 계산 (fold 별 test set 기준)\n",
    "for fold, (train_idx, test_idx) in enumerate(kf.split(X)):\n",
    "    print(f\"Fold {fold+1}...\")\n",
    "    X_train, X_test = X.iloc[train_idx], X.iloc[test_idx]\n",
    "    y_train, y_test = y.iloc[train_idx], y.iloc[test_idx]\n",
    "\n",
    "    # CatBoost 모델 학습\n",
    "    model = CatBoostRegressor(verbose=0, random_state=42)\n",
    "    model.fit(X_train, y_train)\n",
    "\n",
    "    # SHAP 값 계산 \n",
    "    explainer = shap.Explainer(model, X_test)\n",
    "    shap_values = explainer(X_test)\n",
    "\n",
    "    # 절댓값 평균을 위해 저장\n",
    "    shap_values_all.append(abs(shap_values.values))"
   ]
  },
  {
   "cell_type": "code",
   "execution_count": null,
   "id": "6c98f2f6",
   "metadata": {},
   "outputs": [],
   "source": [
    "# SHAP 평균값 계산 -> 최종 importance 계산\n",
    "mean_shap = np.mean(np.array(shap_values_all), axis=0)  # shape: (n_samples, n_features)\n",
    "feature_importance = pd.Series(mean_shap.mean(axis=0), index=feature_names).sort_values(ascending=False)\n"
   ]
  },
  {
   "cell_type": "code",
   "execution_count": null,
   "id": "3323377b",
   "metadata": {},
   "outputs": [],
   "source": [
    "print(\"\\n Feature Importance (Mean SHAP Values across 5 folds):\")\n",
    "print(feature_importance)"
   ]
  }
 ],
 "metadata": {
  "kernelspec": {
   "display_name": "base",
   "language": "python",
   "name": "python3"
  },
  "language_info": {
   "codemirror_mode": {
    "name": "ipython",
    "version": 3
   },
   "file_extension": ".py",
   "mimetype": "text/x-python",
   "name": "python",
   "nbconvert_exporter": "python",
   "pygments_lexer": "ipython3",
   "version": "3.12.4"
  }
 },
 "nbformat": 4,
 "nbformat_minor": 5
}
