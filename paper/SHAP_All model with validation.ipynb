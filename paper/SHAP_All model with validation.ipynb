{
 "cells": [
  {
   "cell_type": "markdown",
   "id": "6279adb5",
   "metadata": {},
   "source": [
    "# 모든 model에 대해 각각 model training + 5-fold + SHAP -> 비교\n",
    "- catBoost, XGBoost, Randomforest, Deepforest 총 4가지 모델 사용\n",
    "\n",
    "- feature들 간의 상관계수를 계산하는 방법은 오직 선형성만 파악하고 각 인자의 중요도는 파악하기 어렵기 때문에 SHAP를 사용함\n",
    "- 모델마다 각 인자의 중요도를 해석하는 기준과 방식이 다르고 동일한 인자라도 모델에 따라 영향력을 다르게 판단하기 때문에 각 모델마다 중요도 분석을 진행함\n",
    "ex) Catboost : 범주형 인자를 잘 처리하므로 이 인자의 중요도가 높게 나올 수 有\n",
    "    XGBoost : tree split 기준에서 빠르게 좋은 gain을 얻는 인자에 편향될 수 有\n",
    "    Randomforest : 다양한 tree에 균등하게 기여한 인자에 중요도를 부여함\n"
   ]
  },
  {
   "cell_type": "code",
   "execution_count": null,
   "id": "e4bd6881",
   "metadata": {},
   "outputs": [],
   "source": [
    "import pandas as pd\n",
    "import numpy as np\n",
    "import shap\n",
    "import matplotlib.pyplot as plt\n",
    "from sklearn.model_selection import KFold\n",
    "from sklearn.ensemble import RandomForestRegressor\n",
    "from xgboost import XGBRegressor\n",
    "from catboost import CatBoostRegressor\n",
    "from deepforest import CascadeForestRegressor\n"
   ]
  },
  {
   "cell_type": "code",
   "execution_count": null,
   "id": "d9de66dd",
   "metadata": {},
   "outputs": [],
   "source": [
    "df = pd.read_csv(\"dataset.csv\")\n",
    "X = df[['cement', 'slag', 'fly_ash', 'water', 'superplasticizer', 'coarse_aggregate', 'fine_aggregate', 'age']]\n",
    "y = df['CCS']"
   ]
  },
  {
   "cell_type": "code",
   "execution_count": null,
   "id": "967f3e1c",
   "metadata": {},
   "outputs": [],
   "source": [
    "# 사용할 모델 정의\n",
    "models = {\n",
    "    \"CatBoost\": CatBoostRegressor(verbose=0, random_state=42),\n",
    "    \"XGBoost\": XGBRegressor(random_state=42),\n",
    "    \"RandomForest\": RandomForestRegressor(n_estimators=200, random_state=42),\n",
    "    \"DeepForest\": CascadeForestRegressor(random_state=42)\n",
    "}\n"
   ]
  },
  {
   "cell_type": "code",
   "execution_count": null,
   "id": "8527a7fb",
   "metadata": {},
   "outputs": [],
   "source": [
    "# 5-fold validation 기본 설정\n",
    "kf = KFold(n_splits=5, shuffle=True, random_state=42)\n",
    "feature_names = X.columns\n",
    "results = {}"
   ]
  },
  {
   "cell_type": "code",
   "execution_count": null,
   "id": "84e4ac2a",
   "metadata": {},
   "outputs": [],
   "source": [
    "# 각 모델마다 validation + SHAP 계산\n",
    "for model_name, model in models.items():\n",
    "    print(f\"Processing {model_name}...\")\n",
    "    shap_values_all = []\n",
    "\n",
    "    for fold, (train_idx, test_idx) in enumerate(kf.split(X)):\n",
    "        X_train, X_test = X.iloc[train_idx], X.iloc[test_idx]\n",
    "        y_train, y_test = y.iloc[train_idx], y.iloc[test_idx]\n",
    "\n",
    "        model.fit(X_train, y_train)\n",
    "\n",
    "        # SHAP Explainer\n",
    "        explainer = shap.Explainer(model, X_test)\n",
    "        shap_values = explainer(X_test)\n",
    "        shap_values_all.append(abs(shap_values.values)) \n",
    "\n",
    "    # fold 평균 SHAP → feature importance\n",
    "    mean_shap = np.mean(np.array(shap_values_all), axis=0)\n",
    "    feature_importance = pd.Series(mean_shap.mean(axis=0), index=feature_names)\n",
    "    results[model_name] = feature_importance"
   ]
  },
  {
   "cell_type": "code",
   "execution_count": null,
   "id": "0605983e",
   "metadata": {},
   "outputs": [],
   "source": [
    "# 결과 table로 나타내기\n",
    "importance_df = pd.DataFrame(results)\n",
    "importance_df = importance_df.loc[importance_df.mean(axis=1).sort_values(ascending=False).index]\n",
    "\n",
    "print(\"\\nFeature Importance Comparison (Mean SHAP Values across 5 folds):\")\n",
    "print(importance_df)\n"
   ]
  },
  {
   "cell_type": "code",
   "execution_count": null,
   "id": "5047c152",
   "metadata": {},
   "outputs": [],
   "source": [
    "# 시각화를 위해 마지막 fold 기준 summary plot 그려보기\n",
    "for model_name, model in models.items():\n",
    "    print(f\"\\n📈 SHAP Summary Plot for {model_name}\")\n",
    "    model.fit(X, y)\n",
    "    explainer = shap.Explainer(model, X)\n",
    "    shap_values = explainer(X)\n",
    "    shap.summary_plot(shap_values, X)"
   ]
  },
  {
   "cell_type": "markdown",
   "id": "e10290ce",
   "metadata": {},
   "source": [
    "모든 fold의 SHAP summary plot을 그리는 것은 많은 연산이 필요하고 코드도 꽤나 복잡하기 때문에 그 중 하나만 대표적으로 보여주는 의미로 마지막  fold 기준을 사용함\n",
    "-> test set이 전체 데이터를 잘 반영한다면 하나의 fold를 보더라도 중요한 인자의 경향은 비슷하게 나오고 전체적인 중요 feature 순위나 분포를 대부분 유사하므로 하나만 사용해도 괜찮을 것 같다고 판단"
   ]
  }
 ],
 "metadata": {
  "language_info": {
   "name": "python"
  }
 },
 "nbformat": 4,
 "nbformat_minor": 5
}
