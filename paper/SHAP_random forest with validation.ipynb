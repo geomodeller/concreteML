{
 "cells": [
  {
   "cell_type": "markdown",
   "id": "d8510d97",
   "metadata": {},
   "source": [
    "# Feature importance 평가를 위한 SHAP\n",
    "- kfold validation 실행 후 SHAP \n",
    "- 연산에 소요되는 시간 확인을 위해 우선적으로 catboost model에 대해서만 실행"
   ]
  },
  {
   "cell_type": "code",
   "execution_count": null,
   "id": "20e5d5bd",
   "metadata": {},
   "outputs": [],
   "source": [
    "혹시 연구실 컴퓨터에 shap 설치 안되어 있으면 설치해서 실행하길..."
   ]
  },
  {
   "cell_type": "code",
   "execution_count": 2,
   "id": "4d023920",
   "metadata": {},
   "outputs": [],
   "source": [
    "import pandas as pd\n",
    "import shap\n",
    "import numpy as np\n",
    "import matplotlib.pyplot as plt\n",
    "from catboost import CatBoostRegressor\n",
    "from sklearn.ensemble import RandomForestRegressor\n",
    "from sklearn.model_selection import KFold\n",
    "np.int = int\n",
    "np.bool = bool"
   ]
  },
  {
   "cell_type": "code",
   "execution_count": 3,
   "id": "724eaad4",
   "metadata": {},
   "outputs": [],
   "source": [
    "df = pd.read_csv(\"dataset.csv\")\n",
    "X = df[['cement', 'blast furnace slag', 'fly ash', 'water ', 'superplasticizer', 'coarse aggregate', 'fine aggregate', 'age']]\n",
    "y = df['CCS']"
   ]
  },
  {
   "cell_type": "code",
   "execution_count": 4,
   "id": "2d710603",
   "metadata": {},
   "outputs": [],
   "source": [
    "# 5-fold cross-validation 실행\n",
    "kf = KFold(n_splits=5, shuffle=True, random_state=42)\n",
    "shap_values_all = []\n",
    "feature_names = X.columns"
   ]
  },
  {
   "cell_type": "code",
   "execution_count": null,
   "id": "1d3e1fbe",
   "metadata": {},
   "outputs": [
    {
     "name": "stdout",
     "output_type": "stream",
     "text": [
      "Fold 1...\n"
     ]
    },
    {
     "name": "stderr",
     "output_type": "stream",
     "text": [
      "Exact explainer: 207it [00:29,  5.26it/s]                         \n"
     ]
    },
    {
     "name": "stdout",
     "output_type": "stream",
     "text": [
      "Fold 2...\n"
     ]
    },
    {
     "name": "stderr",
     "output_type": "stream",
     "text": [
      "Exact explainer: 207it [00:25,  4.72it/s]                         \n"
     ]
    },
    {
     "name": "stdout",
     "output_type": "stream",
     "text": [
      "Fold 3...\n"
     ]
    },
    {
     "name": "stderr",
     "output_type": "stream",
     "text": [
      "Exact explainer: 207it [00:25,  4.95it/s]                         \n"
     ]
    },
    {
     "name": "stdout",
     "output_type": "stream",
     "text": [
      "Fold 4...\n"
     ]
    },
    {
     "name": "stderr",
     "output_type": "stream",
     "text": [
      "Exact explainer: 207it [00:24,  4.95it/s]                         \n"
     ]
    },
    {
     "name": "stdout",
     "output_type": "stream",
     "text": [
      "Fold 5...\n"
     ]
    },
    {
     "name": "stderr",
     "output_type": "stream",
     "text": [
      "Exact explainer: 207it [00:24,  4.97it/s]                         "
     ]
    },
    {
     "name": "stdout",
     "output_type": "stream",
     "text": [
      "cement              : 6.8264\n",
      "blast furnace slag  : 3.3357\n",
      "fly ash             : 0.3317\n",
      "water               : 3.2435\n",
      "superplasticizer    : 2.3842\n",
      "coarse aggregate    : 0.4509\n",
      "fine aggregate      : 1.0334\n",
      "age                 : 7.9307\n"
     ]
    },
    {
     "name": "stderr",
     "output_type": "stream",
     "text": [
      "\n"
     ]
    }
   ],
   "source": [
    "# shap 라이브러리가 로드될 때 warning이 뜰 수 있으니 필요 시 아래 코드로 로그레벨 조정\n",
    "# import logging; logging.getLogger(\"shap\").setLevel(logging.ERROR)\n",
    "\n",
    "kf = KFold(n_splits=5, shuffle=True, random_state=42)\n",
    "shap_values_all = []\n",
    "\n",
    "for fold, (train_idx, test_idx) in enumerate(kf.split(X)):\n",
    "    print(f\"Fold {fold+1}...\")\n",
    "    X_train, X_test = X.iloc[train_idx], X.iloc[test_idx]\n",
    "    y_train, y_test = y.iloc[train_idx], y.iloc[test_idx]\n",
    "\n",
    "    # 1) RandomForest 모델 학습\n",
    "    model = RandomForestRegressor(n_estimators=200, random_state=42, n_jobs=-1)\n",
    "    model.fit(X_train, y_train)\n",
    "\n",
    "    # 2) 함수형 SHAP Explainer 생성\n",
    "    explainer = shap.Explainer(model.predict, X_train, feature_names=X.columns.tolist())\n",
    "\n",
    "    # 3) SHAP 값 계산 (Explanation 객체)\n",
    "    explanation = explainer(X_test)\n",
    "\n",
    "    # 4) 절댓값 취해 리스트에 저장\n",
    "    shap_values_all.append(np.abs(explanation.values))\n",
    "\n",
    "# 5) 모든 fold 결과를 합치고 feature별 평균 SHAP 값 계산\n",
    "all_shap = np.vstack(shap_values_all)  # shape: (total_samples, n_features)\n",
    "mean_shap_per_feature = all_shap.mean(axis=0)\n",
    "\n",
    "# 6) 결과 출력\n",
    "for name, val in zip(X.columns, mean_shap_per_feature):\n",
    "    print(f\"{name:20s}: {val:.4f}\")"
   ]
  },
  {
   "cell_type": "code",
   "execution_count": 6,
   "id": "6c98f2f6",
   "metadata": {},
   "outputs": [],
   "source": [
    "# SHAP 평균값 계산 -> 최종 importance 계산\n",
    "mean_shap = np.mean(np.array(shap_values_all), axis=0)  # shape: (n_samples, n_features)\n",
    "feature_importance = pd.Series(mean_shap.mean(axis=0), index=feature_names).sort_values(ascending=False)\n"
   ]
  },
  {
   "cell_type": "code",
   "execution_count": 7,
   "id": "3323377b",
   "metadata": {},
   "outputs": [
    {
     "name": "stdout",
     "output_type": "stream",
     "text": [
      "\n",
      " Feature Importance (Mean SHAP Values across 5 folds):\n",
      "age                   7.930681\n",
      "cement                6.826443\n",
      "blast furnace slag    3.335655\n",
      "water                 3.243504\n",
      "superplasticizer      2.384190\n",
      "fine aggregate        1.033421\n",
      "coarse aggregate      0.450863\n",
      "fly ash               0.331704\n",
      "dtype: float64\n"
     ]
    }
   ],
   "source": [
    "print(\"\\n Feature Importance (Mean SHAP Values across 5 folds):\")\n",
    "print(feature_importance)"
   ]
  },
  {
   "cell_type": "code",
   "execution_count": null,
   "id": "f99b768b",
   "metadata": {},
   "outputs": [],
   "source": []
  }
 ],
 "metadata": {
  "kernelspec": {
   "display_name": "Python 3",
   "language": "python",
   "name": "python3"
  },
  "language_info": {
   "codemirror_mode": {
    "name": "ipython",
    "version": 3
   },
   "file_extension": ".py",
   "mimetype": "text/x-python",
   "name": "python",
   "nbconvert_exporter": "python",
   "pygments_lexer": "ipython3",
   "version": "3.8.6"
  }
 },
 "nbformat": 4,
 "nbformat_minor": 5
}
