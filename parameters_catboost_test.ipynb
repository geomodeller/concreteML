{
 "cells": [
  {
   "cell_type": "code",
   "execution_count": 2,
   "id": "7caf4262",
   "metadata": {},
   "outputs": [
    {
     "name": "stderr",
     "output_type": "stream",
     "text": [
      "c:\\Users\\SAL\\AppData\\Local\\Programs\\Python\\Python310\\lib\\site-packages\\tqdm\\auto.py:21: TqdmWarning: IProgress not found. Please update jupyter and ipywidgets. See https://ipywidgets.readthedocs.io/en/stable/user_install.html\n",
      "  from .autonotebook import tqdm as notebook_tqdm\n"
     ]
    }
   ],
   "source": [
    "import pandas as pd\n",
    "import optuna\n",
    "import itertools\n",
    "from sklearn.model_selection import train_test_split\n",
    "from sklearn.metrics import r2_score\n",
    "from catboost import CatBoostRegressor"
   ]
  },
  {
   "cell_type": "code",
   "execution_count": 4,
   "id": "757a53df",
   "metadata": {},
   "outputs": [
    {
     "name": "stderr",
     "output_type": "stream",
     "text": [
      "[I 2025-07-24 14:02:36,578] A new study created in memory with name: no-name-0815c4f0-0da8-41a9-a927-41d310811db0\n",
      "[I 2025-07-24 14:02:37,287] Trial 0 finished with value: 0.9445453504011159 and parameters: {'iterations': 944, 'learning_rate': 0.17803854690663984, 'depth': 3}. Best is trial 0 with value: 0.9445453504011159.\n",
      "[I 2025-07-24 14:02:42,806] Trial 1 finished with value: 0.9450637260447726 and parameters: {'iterations': 908, 'learning_rate': 0.038144871657649945, 'depth': 9}. Best is trial 1 with value: 0.9450637260447726.\n",
      "[I 2025-07-24 14:02:43,489] Trial 2 finished with value: 0.935592329531463 and parameters: {'iterations': 555, 'learning_rate': 0.06703411286392894, 'depth': 5}. Best is trial 1 with value: 0.9450637260447726.\n",
      "[I 2025-07-24 14:02:44,114] Trial 3 finished with value: 0.9142239790356808 and parameters: {'iterations': 694, 'learning_rate': 0.042181921623489486, 'depth': 4}. Best is trial 1 with value: 0.9450637260447726.\n",
      "[I 2025-07-24 14:02:45,528] Trial 4 finished with value: 0.9503411675906941 and parameters: {'iterations': 604, 'learning_rate': 0.09937076664308678, 'depth': 7}. Best is trial 4 with value: 0.9503411675906941.\n",
      "[I 2025-07-24 14:02:46,100] Trial 5 finished with value: 0.9476870699839024 and parameters: {'iterations': 440, 'learning_rate': 0.1782061567665848, 'depth': 5}. Best is trial 4 with value: 0.9503411675906941.\n",
      "[I 2025-07-24 14:02:46,728] Trial 6 finished with value: 0.9559778719705253 and parameters: {'iterations': 695, 'learning_rate': 0.271020540922655, 'depth': 4}. Best is trial 6 with value: 0.9559778719705253.\n",
      "[I 2025-07-24 14:02:48,256] Trial 7 finished with value: 0.946923316293605 and parameters: {'iterations': 417, 'learning_rate': 0.26796709223159465, 'depth': 8}. Best is trial 6 with value: 0.9559778719705253.\n",
      "[I 2025-07-24 14:02:52,288] Trial 8 finished with value: 0.947687618523447 and parameters: {'iterations': 658, 'learning_rate': 0.2473159080942448, 'depth': 9}. Best is trial 6 with value: 0.9559778719705253.\n",
      "[I 2025-07-24 14:02:54,542] Trial 9 finished with value: 0.9489501413406228 and parameters: {'iterations': 991, 'learning_rate': 0.05780026823599187, 'depth': 7}. Best is trial 6 with value: 0.9559778719705253.\n",
      "[I 2025-07-24 14:02:54,680] Trial 10 finished with value: 0.9006097088538767 and parameters: {'iterations': 116, 'learning_rate': 0.229971651719349, 'depth': 3}. Best is trial 6 with value: 0.9559778719705253.\n",
      "[I 2025-07-24 14:02:55,995] Trial 11 finished with value: 0.949219251938802 and parameters: {'iterations': 761, 'learning_rate': 0.12526049866509426, 'depth': 6}. Best is trial 6 with value: 0.9559778719705253.\n",
      "[I 2025-07-24 14:02:56,846] Trial 12 finished with value: 0.9462703976479623 and parameters: {'iterations': 349, 'learning_rate': 0.12088799910337167, 'depth': 7}. Best is trial 6 with value: 0.9559778719705253.\n",
      "[I 2025-07-24 14:03:07,133] Trial 13 finished with value: 0.9426789291881392 and parameters: {'iterations': 785, 'learning_rate': 0.28847187460726437, 'depth': 10}. Best is trial 6 with value: 0.9559778719705253.\n",
      "[I 2025-07-24 14:03:08,060] Trial 14 finished with value: 0.9478004236859249 and parameters: {'iterations': 553, 'learning_rate': 0.10127634856859352, 'depth': 6}. Best is trial 6 with value: 0.9559778719705253.\n",
      "[I 2025-07-24 14:03:08,355] Trial 15 finished with value: 0.9444602085155017 and parameters: {'iterations': 210, 'learning_rate': 0.21385793540612122, 'depth': 5}. Best is trial 6 with value: 0.9559778719705253.\n",
      "[I 2025-07-24 14:03:11,357] Trial 16 finished with value: 0.9508137251714914 and parameters: {'iterations': 838, 'learning_rate': 0.1519788028237056, 'depth': 8}. Best is trial 6 with value: 0.9559778719705253.\n",
      "[I 2025-07-24 14:03:14,478] Trial 17 finished with value: 0.9510799284422068 and parameters: {'iterations': 848, 'learning_rate': 0.1945863650376507, 'depth': 8}. Best is trial 6 with value: 0.9559778719705253.\n",
      "[I 2025-07-24 14:03:15,302] Trial 18 finished with value: 0.9459467998301803 and parameters: {'iterations': 856, 'learning_rate': 0.2982629064257776, 'depth': 4}. Best is trial 6 with value: 0.9559778719705253.\n",
      "[I 2025-07-24 14:03:24,830] Trial 19 finished with value: 0.9437882368043968 and parameters: {'iterations': 743, 'learning_rate': 0.20412706006099934, 'depth': 10}. Best is trial 6 with value: 0.9559778719705253.\n",
      "[I 2025-07-24 14:03:27,304] Trial 20 finished with value: 0.9476987840162981 and parameters: {'iterations': 661, 'learning_rate': 0.2560307743158566, 'depth': 8}. Best is trial 6 with value: 0.9559778719705253.\n",
      "[I 2025-07-24 14:03:30,357] Trial 21 finished with value: 0.9483223029989502 and parameters: {'iterations': 835, 'learning_rate': 0.16101387805298842, 'depth': 8}. Best is trial 6 with value: 0.9559778719705253.\n",
      "[I 2025-07-24 14:03:35,833] Trial 22 finished with value: 0.9497098260189916 and parameters: {'iterations': 856, 'learning_rate': 0.19752514613939387, 'depth': 9}. Best is trial 6 with value: 0.9559778719705253.\n",
      "[I 2025-07-24 14:03:38,860] Trial 23 finished with value: 0.9493429275251144 and parameters: {'iterations': 802, 'learning_rate': 0.14305266378767292, 'depth': 8}. Best is trial 6 with value: 0.9559778719705253.\n",
      "[I 2025-07-24 14:03:44,772] Trial 24 finished with value: 0.9531055319279506 and parameters: {'iterations': 920, 'learning_rate': 0.221119428575279, 'depth': 9}. Best is trial 6 with value: 0.9559778719705253.\n",
      "[I 2025-07-24 14:03:50,722] Trial 25 finished with value: 0.9471329643103183 and parameters: {'iterations': 959, 'learning_rate': 0.23117380296420345, 'depth': 9}. Best is trial 6 with value: 0.9559778719705253.\n",
      "[I 2025-07-24 14:04:02,870] Trial 26 finished with value: 0.9399260979035013 and parameters: {'iterations': 908, 'learning_rate': 0.27491980564497276, 'depth': 10}. Best is trial 6 with value: 0.9559778719705253.\n",
      "[I 2025-07-24 14:04:03,999] Trial 27 finished with value: 0.9514573247377501 and parameters: {'iterations': 703, 'learning_rate': 0.2338908466309501, 'depth': 6}. Best is trial 6 with value: 0.9559778719705253.\n",
      "[I 2025-07-24 14:04:04,476] Trial 28 finished with value: 0.9468108857639043 and parameters: {'iterations': 491, 'learning_rate': 0.23758243348839558, 'depth': 4}. Best is trial 6 with value: 0.9559778719705253.\n",
      "[I 2025-07-24 14:04:04,992] Trial 29 finished with value: 0.945944230140112 and parameters: {'iterations': 716, 'learning_rate': 0.27054749641293707, 'depth': 3}. Best is trial 6 with value: 0.9559778719705253.\n",
      "[I 2025-07-24 14:04:05,685] Trial 30 finished with value: 0.9558197118324971 and parameters: {'iterations': 619, 'learning_rate': 0.21865485687570363, 'depth': 5}. Best is trial 6 with value: 0.9559778719705253.\n",
      "[I 2025-07-24 14:04:06,669] Trial 31 finished with value: 0.9521339740431296 and parameters: {'iterations': 602, 'learning_rate': 0.21920856082313242, 'depth': 6}. Best is trial 6 with value: 0.9559778719705253.\n",
      "[I 2025-07-24 14:04:07,410] Trial 32 finished with value: 0.956420965493983 and parameters: {'iterations': 621, 'learning_rate': 0.21997732696635888, 'depth': 5}. Best is trial 32 with value: 0.956420965493983.\n",
      "[I 2025-07-24 14:04:08,172] Trial 33 finished with value: 0.9529797067405492 and parameters: {'iterations': 604, 'learning_rate': 0.17540400092245276, 'depth': 5}. Best is trial 32 with value: 0.956420965493983.\n",
      "[I 2025-07-24 14:04:08,657] Trial 34 finished with value: 0.9468589484014288 and parameters: {'iterations': 525, 'learning_rate': 0.26197378798093407, 'depth': 4}. Best is trial 32 with value: 0.956420965493983.\n",
      "[I 2025-07-24 14:04:09,090] Trial 35 finished with value: 0.9433035158816797 and parameters: {'iterations': 337, 'learning_rate': 0.18013628822667888, 'depth': 5}. Best is trial 32 with value: 0.956420965493983.\n",
      "[I 2025-07-24 14:04:09,573] Trial 36 finished with value: 0.9446514809085518 and parameters: {'iterations': 504, 'learning_rate': 0.24954025721023604, 'depth': 4}. Best is trial 32 with value: 0.956420965493983.\n",
      "[I 2025-07-24 14:04:09,934] Trial 37 finished with value: 0.9401778756118884 and parameters: {'iterations': 454, 'learning_rate': 0.2843369879065709, 'depth': 3}. Best is trial 32 with value: 0.956420965493983.\n",
      "[I 2025-07-24 14:04:10,743] Trial 38 finished with value: 0.9528662250032139 and parameters: {'iterations': 644, 'learning_rate': 0.20245482429988854, 'depth': 5}. Best is trial 32 with value: 0.956420965493983.\n",
      "[I 2025-07-24 14:04:11,553] Trial 39 finished with value: 0.9502918854183897 and parameters: {'iterations': 920, 'learning_rate': 0.218484332233425, 'depth': 4}. Best is trial 32 with value: 0.956420965493983.\n",
      "[I 2025-07-24 14:04:12,245] Trial 40 finished with value: 0.9528081824388526 and parameters: {'iterations': 575, 'learning_rate': 0.18316205861551982, 'depth': 5}. Best is trial 32 with value: 0.956420965493983.\n",
      "[I 2025-07-24 14:04:12,955] Trial 41 finished with value: 0.952590013741822 and parameters: {'iterations': 596, 'learning_rate': 0.15764521366244674, 'depth': 5}. Best is trial 32 with value: 0.956420965493983.\n",
      "[I 2025-07-24 14:04:13,983] Trial 42 finished with value: 0.9501039075468735 and parameters: {'iterations': 649, 'learning_rate': 0.24743573937897073, 'depth': 6}. Best is trial 32 with value: 0.956420965493983.\n",
      "[I 2025-07-24 14:04:14,797] Trial 43 finished with value: 0.952331630867908 and parameters: {'iterations': 680, 'learning_rate': 0.16824644384365178, 'depth': 5}. Best is trial 32 with value: 0.956420965493983.\n",
      "[I 2025-07-24 14:04:15,489] Trial 44 finished with value: 0.9517558254084688 and parameters: {'iterations': 754, 'learning_rate': 0.21433493094683417, 'depth': 4}. Best is trial 32 with value: 0.956420965493983.\n",
      "[I 2025-07-24 14:04:16,438] Trial 45 finished with value: 0.9489187575125771 and parameters: {'iterations': 381, 'learning_rate': 0.18983415165070483, 'depth': 7}. Best is trial 32 with value: 0.956420965493983.\n",
      "[I 2025-07-24 14:04:17,213] Trial 46 finished with value: 0.8860164084080062 and parameters: {'iterations': 624, 'learning_rate': 0.016575931422552065, 'depth': 5}. Best is trial 32 with value: 0.956420965493983.\n",
      "[I 2025-07-24 14:04:17,628] Trial 47 finished with value: 0.9278825856623235 and parameters: {'iterations': 542, 'learning_rate': 0.13397233819161597, 'depth': 3}. Best is trial 32 with value: 0.956420965493983.\n",
      "[I 2025-07-24 14:04:18,388] Trial 48 finished with value: 0.9520496438745425 and parameters: {'iterations': 451, 'learning_rate': 0.24294198652841753, 'depth': 6}. Best is trial 32 with value: 0.956420965493983.\n",
      "[I 2025-07-24 14:04:20,061] Trial 49 finished with value: 0.9534877300065545 and parameters: {'iterations': 714, 'learning_rate': 0.1715999017311823, 'depth': 7}. Best is trial 32 with value: 0.956420965493983.\n"
     ]
    },
    {
     "name": "stdout",
     "output_type": "stream",
     "text": [
      "📌 지정 피처: ['cement', 'blast furnace slag', 'fly ash', 'superplasticizer', 'coarse aggregate', 'age']\n",
      "📈 테스트 세트 기준 R²: 0.9564\n",
      "⚙️ 최적 하이퍼파라미터: {'iterations': 621, 'learning_rate': 0.21997732696635888, 'depth': 5}\n"
     ]
    }
   ],
   "source": [
    "df = pd.read_csv('dataset.csv')\n",
    "X = df[['cement', 'blast furnace slag', 'fly ash', 'superplasticizer', 'coarse aggregate', 'age']]\n",
    "y = df['CCS']\n",
    "\n",
    "# 학습/테스트 분리\n",
    "X_train, X_test, y_train, y_test = train_test_split(X, y, test_size=0.2, random_state=42)\n",
    "\n",
    "def objective(trial, X_train, y_train, X_test, y_test):\n",
    "    params = {\n",
    "        'iterations': trial.suggest_int('iterations', 100, 1000),\n",
    "        'learning_rate': trial.suggest_float('learning_rate', 0.01, 0.3),\n",
    "        'depth': trial.suggest_int('depth', 3, 10),\n",
    "        'random_seed': 42,\n",
    "        'verbose': 0\n",
    "    }\n",
    "    model = CatBoostRegressor(**params)\n",
    "    model.fit(X_train, y_train)\n",
    "    y_pred = model.predict(X_test)\n",
    "    return r2_score(y_test, y_pred)\n",
    "\n",
    "def optuna_tune_catboost(X_train, y_train, X_test, y_test, features, n_trials=50):\n",
    "    def tuned_objective(trial):\n",
    "        return objective(trial, X_train[features], y_train, X_test[features], y_test)\n",
    "\n",
    "    study = optuna.create_study(direction='maximize')\n",
    "    study.optimize(tuned_objective, n_trials=n_trials)\n",
    "\n",
    "    best_params = study.best_params\n",
    "    best_model = CatBoostRegressor(**best_params, random_seed=42, verbose=0)\n",
    "    best_model.fit(X_train[features], y_train)\n",
    "    y_pred = best_model.predict(X_test[features])\n",
    "    r2 = r2_score(y_test, y_pred)\n",
    "\n",
    "    return r2, best_params\n",
    "\n",
    "# 지정 피처\n",
    "selected_features = ['cement', 'blast furnace slag', 'fly ash', 'superplasticizer', 'coarse aggregate', 'age']\n",
    "\n",
    "# 실행\n",
    "r2, best_params = optuna_tune_catboost(X_train, y_train, X_test, y_test, selected_features, n_trials=50)\n",
    "\n",
    "print(f\"📌 지정 피처: {selected_features}\")\n",
    "print(f\"📈 테스트 세트 기준 R²: {r2:.4f}\")\n",
    "print(f\"⚙️ 최적 하이퍼파라미터: {best_params}\")"
   ]
  },
  {
   "cell_type": "code",
   "execution_count": null,
   "id": "fe649430",
   "metadata": {},
   "outputs": [],
   "source": []
  }
 ],
 "metadata": {
  "kernelspec": {
   "display_name": "Python 3",
   "language": "python",
   "name": "python3"
  },
  "language_info": {
   "codemirror_mode": {
    "name": "ipython",
    "version": 3
   },
   "file_extension": ".py",
   "mimetype": "text/x-python",
   "name": "python",
   "nbconvert_exporter": "python",
   "pygments_lexer": "ipython3",
   "version": "3.10.8"
  }
 },
 "nbformat": 4,
 "nbformat_minor": 5
}
