{
 "cells": [
  {
   "cell_type": "code",
   "execution_count": 1,
   "id": "7caf4262",
   "metadata": {},
   "outputs": [
    {
     "name": "stderr",
     "output_type": "stream",
     "text": [
      "c:\\Users\\SAL\\AppData\\Local\\Programs\\Python\\Python38\\lib\\site-packages\\tqdm\\auto.py:21: TqdmWarning: IProgress not found. Please update jupyter and ipywidgets. See https://ipywidgets.readthedocs.io/en/stable/user_install.html\n",
      "  from .autonotebook import tqdm as notebook_tqdm\n"
     ]
    }
   ],
   "source": [
    "import pandas as pd\n",
    "from sklearn.model_selection import train_test_split\n",
    "from sklearn.metrics import r2_score\n",
    "from deepforest import CascadeForestRegressor\n",
    "import optuna\n",
    "import numpy as np\n",
    "np.int = int\n",
    "np.bool = bool"
   ]
  },
  {
   "cell_type": "code",
   "execution_count": 2,
   "id": "757a53df",
   "metadata": {},
   "outputs": [
    {
     "name": "stderr",
     "output_type": "stream",
     "text": [
      "[I 2025-07-24 15:49:59,305] A new study created in memory with name: no-name-e380a726-9582-4c8d-8cd3-3548a0d3cf21\n"
     ]
    },
    {
     "name": "stdout",
     "output_type": "stream",
     "text": [
      "[2025-07-24 06:49:59.312] Start to fit the model:\n",
      "[2025-07-24 06:49:59.312] Fitting cascade layer = 0 \n",
      "[2025-07-24 06:50:00.927] layer = 0  | Val MSE = 30.43502 | Elapsed = 1.615 s\n",
      "[2025-07-24 06:50:00.939] Fitting cascade layer = 1 \n",
      "[2025-07-24 06:50:02.678] layer = 1  | Val MSE = 29.15726 | Elapsed = 1.739 s\n",
      "[2025-07-24 06:50:02.690] Fitting cascade layer = 2 \n",
      "[2025-07-24 06:50:04.467] layer = 2  | Val MSE = 30.53354 | Elapsed = 1.777 s\n",
      "[2025-07-24 06:50:04.467] Early stopping counter: 1 out of 2\n",
      "[2025-07-24 06:50:04.474] Fitting cascade layer = 3 \n",
      "[2025-07-24 06:50:06.326] layer = 3  | Val MSE = 33.13496 | Elapsed = 1.852 s\n",
      "[2025-07-24 06:50:06.326] Early stopping counter: 2 out of 2\n",
      "[2025-07-24 06:50:06.326] Handling early stopping\n",
      "[2025-07-24 06:50:06.329] The optimal number of layers: 2\n",
      "[2025-07-24 06:50:06.333] Start to evalute the model:\n",
      "[2025-07-24 06:50:06.334] Evaluating cascade layer = 0 \n",
      "[2025-07-24 06:50:06.590] Evaluating cascade layer = 1 \n"
     ]
    },
    {
     "name": "stderr",
     "output_type": "stream",
     "text": [
      "[I 2025-07-24 15:50:06,896] Trial 0 finished with value: 0.9100762928996944 and parameters: {'n_estimators': 4, 'max_layers': 10}. Best is trial 0 with value: 0.9100762928996944.\n"
     ]
    },
    {
     "name": "stdout",
     "output_type": "stream",
     "text": [
      "[2025-07-24 06:50:06.903] Start to fit the model:\n",
      "[2025-07-24 06:50:06.903] Fitting cascade layer = 0 \n",
      "[2025-07-24 06:50:10.237] layer = 0  | Val MSE = 30.14795 | Elapsed = 3.334 s\n",
      "[2025-07-24 06:50:10.254] Fitting cascade layer = 1 \n",
      "[2025-07-24 06:50:13.569] layer = 1  | Val MSE = 28.74061 | Elapsed = 3.315 s\n",
      "[2025-07-24 06:50:13.585] Fitting cascade layer = 2 \n",
      "[2025-07-24 06:50:17.055] layer = 2  | Val MSE = 29.88931 | Elapsed = 3.469 s\n",
      "[2025-07-24 06:50:17.056] Early stopping counter: 1 out of 2\n",
      "[2025-07-24 06:50:17.056] Reaching the maximum number of layers: 3\n",
      "[2025-07-24 06:50:17.056] Start to evalute the model:\n",
      "[2025-07-24 06:50:17.056] Evaluating cascade layer = 0 \n",
      "[2025-07-24 06:50:17.610] Evaluating cascade layer = 1 \n",
      "[2025-07-24 06:50:18.229] Evaluating cascade layer = 2 \n"
     ]
    },
    {
     "name": "stderr",
     "output_type": "stream",
     "text": [
      "[I 2025-07-24 15:50:18,817] Trial 1 finished with value: 0.9151462739725374 and parameters: {'n_estimators': 9, 'max_layers': 3}. Best is trial 1 with value: 0.9151462739725374.\n"
     ]
    },
    {
     "name": "stdout",
     "output_type": "stream",
     "text": [
      "[2025-07-24 06:50:18.822] Start to fit the model:\n",
      "[2025-07-24 06:50:18.822] Fitting cascade layer = 0 \n",
      "[2025-07-24 06:50:20.203] layer = 0  | Val MSE = 30.43502 | Elapsed = 1.381 s\n",
      "[2025-07-24 06:50:20.210] Fitting cascade layer = 1 \n",
      "[2025-07-24 06:50:21.685] layer = 1  | Val MSE = 29.16440 | Elapsed = 1.475 s\n",
      "[2025-07-24 06:50:21.692] Fitting cascade layer = 2 \n",
      "[2025-07-24 06:50:23.491] layer = 2  | Val MSE = 30.51718 | Elapsed = 1.799 s\n",
      "[2025-07-24 06:50:23.492] Early stopping counter: 1 out of 2\n",
      "[2025-07-24 06:50:23.499] Fitting cascade layer = 3 \n",
      "[2025-07-24 06:50:25.279] layer = 3  | Val MSE = 32.02967 | Elapsed = 1.780 s\n",
      "[2025-07-24 06:50:25.279] Early stopping counter: 2 out of 2\n",
      "[2025-07-24 06:50:25.279] Handling early stopping\n",
      "[2025-07-24 06:50:25.281] The optimal number of layers: 2\n",
      "[2025-07-24 06:50:25.287] Start to evalute the model:\n",
      "[2025-07-24 06:50:25.287] Evaluating cascade layer = 0 \n",
      "[2025-07-24 06:50:25.544] Evaluating cascade layer = 1 \n"
     ]
    },
    {
     "name": "stderr",
     "output_type": "stream",
     "text": [
      "[I 2025-07-24 15:50:25,819] Trial 2 finished with value: 0.9102465917172745 and parameters: {'n_estimators': 4, 'max_layers': 5}. Best is trial 1 with value: 0.9151462739725374.\n"
     ]
    },
    {
     "name": "stdout",
     "output_type": "stream",
     "text": [
      "[2025-07-24 06:50:25.826] Start to fit the model:\n",
      "[2025-07-24 06:50:25.826] Fitting cascade layer = 0 \n",
      "[2025-07-24 06:50:28.377] layer = 0  | Val MSE = 30.21904 | Elapsed = 2.551 s\n",
      "[2025-07-24 06:50:28.388] Fitting cascade layer = 1 \n",
      "[2025-07-24 06:50:30.820] layer = 1  | Val MSE = 29.06506 | Elapsed = 2.432 s\n",
      "[2025-07-24 06:50:30.832] Fitting cascade layer = 2 \n",
      "[2025-07-24 06:50:33.444] layer = 2  | Val MSE = 30.22779 | Elapsed = 2.612 s\n",
      "[2025-07-24 06:50:33.444] Early stopping counter: 1 out of 2\n",
      "[2025-07-24 06:50:33.454] Fitting cascade layer = 3 \n",
      "[2025-07-24 06:50:36.053] layer = 3  | Val MSE = 31.22663 | Elapsed = 2.599 s\n",
      "[2025-07-24 06:50:36.054] Early stopping counter: 2 out of 2\n",
      "[2025-07-24 06:50:36.054] Handling early stopping\n",
      "[2025-07-24 06:50:36.057] The optimal number of layers: 2\n",
      "[2025-07-24 06:50:36.064] Start to evalute the model:\n",
      "[2025-07-24 06:50:36.065] Evaluating cascade layer = 0 \n",
      "[2025-07-24 06:50:36.439] Evaluating cascade layer = 1 \n"
     ]
    },
    {
     "name": "stderr",
     "output_type": "stream",
     "text": [
      "[I 2025-07-24 15:50:36,854] Trial 3 finished with value: 0.9128822177034969 and parameters: {'n_estimators': 6, 'max_layers': 11}. Best is trial 1 with value: 0.9151462739725374.\n"
     ]
    },
    {
     "name": "stdout",
     "output_type": "stream",
     "text": [
      "[2025-07-24 06:50:36.859] Start to fit the model:\n",
      "[2025-07-24 06:50:36.859] Fitting cascade layer = 0 \n",
      "[2025-07-24 06:50:39.750] layer = 0  | Val MSE = 30.21904 | Elapsed = 2.891 s\n",
      "[2025-07-24 06:50:39.760] Fitting cascade layer = 1 \n",
      "[2025-07-24 06:50:42.563] layer = 1  | Val MSE = 29.09961 | Elapsed = 2.803 s\n",
      "[2025-07-24 06:50:42.574] Fitting cascade layer = 2 \n",
      "[2025-07-24 06:50:45.350] layer = 2  | Val MSE = 30.68253 | Elapsed = 2.777 s\n",
      "[2025-07-24 06:50:45.350] Early stopping counter: 1 out of 2\n",
      "[2025-07-24 06:50:45.362] Fitting cascade layer = 3 \n",
      "[2025-07-24 06:50:47.934] layer = 3  | Val MSE = 31.06204 | Elapsed = 2.572 s\n",
      "[2025-07-24 06:50:47.934] Early stopping counter: 2 out of 2\n",
      "[2025-07-24 06:50:47.934] Handling early stopping\n",
      "[2025-07-24 06:50:47.938] The optimal number of layers: 2\n",
      "[2025-07-24 06:50:47.946] Start to evalute the model:\n",
      "[2025-07-24 06:50:47.946] Evaluating cascade layer = 0 \n",
      "[2025-07-24 06:50:48.322] Evaluating cascade layer = 1 \n"
     ]
    },
    {
     "name": "stderr",
     "output_type": "stream",
     "text": [
      "[I 2025-07-24 15:50:48,721] Trial 4 finished with value: 0.9127463363505287 and parameters: {'n_estimators': 6, 'max_layers': 11}. Best is trial 1 with value: 0.9151462739725374.\n"
     ]
    },
    {
     "name": "stdout",
     "output_type": "stream",
     "text": [
      "[2025-07-24 06:50:48.725] Start to fit the model:\n",
      "[2025-07-24 06:50:48.725] Fitting cascade layer = 0 \n",
      "[2025-07-24 06:50:51.743] layer = 0  | Val MSE = 30.13605 | Elapsed = 3.018 s\n",
      "[2025-07-24 06:50:51.761] Fitting cascade layer = 1 \n",
      "[2025-07-24 06:50:54.769] layer = 1  | Val MSE = 28.83414 | Elapsed = 3.009 s\n",
      "[2025-07-24 06:50:54.786] Fitting cascade layer = 2 \n",
      "[2025-07-24 06:50:58.044] layer = 2  | Val MSE = 30.06902 | Elapsed = 3.258 s\n",
      "[2025-07-24 06:50:58.045] Early stopping counter: 1 out of 2\n",
      "[2025-07-24 06:50:58.068] Fitting cascade layer = 3 \n",
      "[2025-07-24 06:51:00.836] layer = 3  | Val MSE = 31.76139 | Elapsed = 2.768 s\n",
      "[2025-07-24 06:51:00.837] Early stopping counter: 2 out of 2\n",
      "[2025-07-24 06:51:00.837] Handling early stopping\n",
      "[2025-07-24 06:51:00.842] The optimal number of layers: 2\n",
      "[2025-07-24 06:51:00.853] Start to evalute the model:\n",
      "[2025-07-24 06:51:00.854] Evaluating cascade layer = 0 \n",
      "[2025-07-24 06:51:01.285] Evaluating cascade layer = 1 \n"
     ]
    },
    {
     "name": "stderr",
     "output_type": "stream",
     "text": [
      "[I 2025-07-24 15:51:01,736] Trial 5 finished with value: 0.9123950748871107 and parameters: {'n_estimators': 7, 'max_layers': 13}. Best is trial 1 with value: 0.9151462739725374.\n"
     ]
    },
    {
     "name": "stdout",
     "output_type": "stream",
     "text": [
      "[2025-07-24 06:51:01.742] Start to fit the model:\n",
      "[2025-07-24 06:51:01.742] Fitting cascade layer = 0 \n",
      "[2025-07-24 06:51:03.888] layer = 0  | Val MSE = 30.28920 | Elapsed = 2.147 s\n",
      "[2025-07-24 06:51:03.898] Fitting cascade layer = 1 \n",
      "[2025-07-24 06:51:06.149] layer = 1  | Val MSE = 28.93091 | Elapsed = 2.250 s\n",
      "[2025-07-24 06:51:06.164] Fitting cascade layer = 2 \n",
      "[2025-07-24 06:51:08.497] layer = 2  | Val MSE = 31.10184 | Elapsed = 2.333 s\n",
      "[2025-07-24 06:51:08.497] Early stopping counter: 1 out of 2\n",
      "[2025-07-24 06:51:08.512] Fitting cascade layer = 3 \n",
      "[2025-07-24 06:51:10.720] layer = 3  | Val MSE = 33.19860 | Elapsed = 2.206 s\n",
      "[2025-07-24 06:51:10.720] Early stopping counter: 2 out of 2\n",
      "[2025-07-24 06:51:10.720] Handling early stopping\n",
      "[2025-07-24 06:51:10.722] The optimal number of layers: 2\n",
      "[2025-07-24 06:51:10.730] Start to evalute the model:\n",
      "[2025-07-24 06:51:10.730] Evaluating cascade layer = 0 \n",
      "[2025-07-24 06:51:11.060] Evaluating cascade layer = 1 \n"
     ]
    },
    {
     "name": "stderr",
     "output_type": "stream",
     "text": [
      "[I 2025-07-24 15:51:11,464] Trial 6 finished with value: 0.9119631830901831 and parameters: {'n_estimators': 5, 'max_layers': 13}. Best is trial 1 with value: 0.9151462739725374.\n"
     ]
    },
    {
     "name": "stdout",
     "output_type": "stream",
     "text": [
      "[2025-07-24 06:51:11.474] Start to fit the model:\n",
      "[2025-07-24 06:51:11.475] Fitting cascade layer = 0 \n",
      "[2025-07-24 06:51:14.933] layer = 0  | Val MSE = 30.13605 | Elapsed = 3.458 s\n",
      "[2025-07-24 06:51:14.945] Fitting cascade layer = 1 \n",
      "[2025-07-24 06:51:18.145] layer = 1  | Val MSE = 28.83414 | Elapsed = 3.199 s\n",
      "[2025-07-24 06:51:18.157] Fitting cascade layer = 2 \n",
      "[2025-07-24 06:51:21.368] layer = 2  | Val MSE = 30.06902 | Elapsed = 3.211 s\n",
      "[2025-07-24 06:51:21.369] Early stopping counter: 1 out of 2\n",
      "[2025-07-24 06:51:21.381] Fitting cascade layer = 3 \n",
      "[2025-07-24 06:51:24.497] layer = 3  | Val MSE = 31.76139 | Elapsed = 3.116 s\n",
      "[2025-07-24 06:51:24.497] Early stopping counter: 2 out of 2\n",
      "[2025-07-24 06:51:24.497] Handling early stopping\n",
      "[2025-07-24 06:51:24.500] The optimal number of layers: 2\n",
      "[2025-07-24 06:51:24.512] Start to evalute the model:\n",
      "[2025-07-24 06:51:24.513] Evaluating cascade layer = 0 \n",
      "[2025-07-24 06:51:25.106] Evaluating cascade layer = 1 \n"
     ]
    },
    {
     "name": "stderr",
     "output_type": "stream",
     "text": [
      "[I 2025-07-24 15:51:25,638] Trial 7 finished with value: 0.9123950748871106 and parameters: {'n_estimators': 7, 'max_layers': 8}. Best is trial 1 with value: 0.9151462739725374.\n"
     ]
    },
    {
     "name": "stdout",
     "output_type": "stream",
     "text": [
      "[2025-07-24 06:51:25.646] Start to fit the model:\n",
      "[2025-07-24 06:51:25.647] Fitting cascade layer = 0 \n",
      "[2025-07-24 06:51:30.119] layer = 0  | Val MSE = 30.14007 | Elapsed = 4.472 s\n",
      "[2025-07-24 06:51:30.143] Fitting cascade layer = 1 \n",
      "[2025-07-24 06:51:34.679] layer = 1  | Val MSE = 28.76114 | Elapsed = 4.535 s\n",
      "[2025-07-24 06:51:34.696] Fitting cascade layer = 2 \n",
      "[2025-07-24 06:51:38.897] layer = 2  | Val MSE = 30.02148 | Elapsed = 4.201 s\n",
      "[2025-07-24 06:51:38.897] Early stopping counter: 1 out of 2\n",
      "[2025-07-24 06:51:38.920] Fitting cascade layer = 3 \n",
      "[2025-07-24 06:51:43.366] layer = 3  | Val MSE = 30.95250 | Elapsed = 4.446 s\n",
      "[2025-07-24 06:51:43.366] Early stopping counter: 2 out of 2\n",
      "[2025-07-24 06:51:43.366] Handling early stopping\n",
      "[2025-07-24 06:51:43.371] The optimal number of layers: 2\n",
      "[2025-07-24 06:51:43.388] Start to evalute the model:\n",
      "[2025-07-24 06:51:43.388] Evaluating cascade layer = 0 \n",
      "[2025-07-24 06:51:44.065] Evaluating cascade layer = 1 \n"
     ]
    },
    {
     "name": "stderr",
     "output_type": "stream",
     "text": [
      "[I 2025-07-24 15:51:44,717] Trial 8 finished with value: 0.9134537836570755 and parameters: {'n_estimators': 10, 'max_layers': 4}. Best is trial 1 with value: 0.9151462739725374.\n"
     ]
    },
    {
     "name": "stdout",
     "output_type": "stream",
     "text": [
      "[2025-07-24 06:51:44.724] Start to fit the model:\n",
      "[2025-07-24 06:51:44.724] Fitting cascade layer = 0 \n",
      "[2025-07-24 06:51:48.002] layer = 0  | Val MSE = 30.13605 | Elapsed = 3.277 s\n",
      "[2025-07-24 06:51:48.030] Fitting cascade layer = 1 \n",
      "[2025-07-24 06:51:51.194] layer = 1  | Val MSE = 28.82432 | Elapsed = 3.164 s\n",
      "[2025-07-24 06:51:51.215] Fitting cascade layer = 2 \n",
      "[2025-07-24 06:51:54.236] layer = 2  | Val MSE = 30.04044 | Elapsed = 3.020 s\n",
      "[2025-07-24 06:51:54.236] Early stopping counter: 1 out of 2\n",
      "[2025-07-24 06:51:54.249] Fitting cascade layer = 3 \n",
      "[2025-07-24 06:51:57.136] layer = 3  | Val MSE = 31.94536 | Elapsed = 2.887 s\n",
      "[2025-07-24 06:51:57.136] Early stopping counter: 2 out of 2\n",
      "[2025-07-24 06:51:57.137] Handling early stopping\n",
      "[2025-07-24 06:51:57.140] The optimal number of layers: 2\n",
      "[2025-07-24 06:51:57.154] Start to evalute the model:\n",
      "[2025-07-24 06:51:57.154] Evaluating cascade layer = 0 \n",
      "[2025-07-24 06:51:57.599] Evaluating cascade layer = 1 \n"
     ]
    },
    {
     "name": "stderr",
     "output_type": "stream",
     "text": [
      "[I 2025-07-24 15:51:58,059] Trial 9 finished with value: 0.9123055204997614 and parameters: {'n_estimators': 7, 'max_layers': 11}. Best is trial 1 with value: 0.9151462739725374.\n"
     ]
    },
    {
     "name": "stdout",
     "output_type": "stream",
     "text": [
      "[2025-07-24 06:51:58.093] Start to fit the model:\n",
      "[2025-07-24 06:51:58.093] Fitting cascade layer = 0 \n",
      "[2025-07-24 06:52:02.494] layer = 0  | Val MSE = 30.14007 | Elapsed = 4.402 s\n",
      "[2025-07-24 06:52:02.516] Fitting cascade layer = 1 \n",
      "[2025-07-24 06:52:06.955] layer = 1  | Val MSE = 28.76110 | Elapsed = 4.437 s\n",
      "[2025-07-24 06:52:06.972] Fitting cascade layer = 2 \n",
      "[2025-07-24 06:52:10.990] layer = 2  | Val MSE = 30.17192 | Elapsed = 4.019 s\n",
      "[2025-07-24 06:52:10.991] Early stopping counter: 1 out of 2\n",
      "[2025-07-24 06:52:11.018] Fitting cascade layer = 3 \n",
      "[2025-07-24 06:52:15.329] layer = 3  | Val MSE = 31.27852 | Elapsed = 4.311 s\n",
      "[2025-07-24 06:52:15.329] Early stopping counter: 2 out of 2\n",
      "[2025-07-24 06:52:15.329] Handling early stopping\n",
      "[2025-07-24 06:52:15.333] The optimal number of layers: 2\n",
      "[2025-07-24 06:52:15.345] Start to evalute the model:\n",
      "[2025-07-24 06:52:15.345] Evaluating cascade layer = 0 \n",
      "[2025-07-24 06:52:15.998] Evaluating cascade layer = 1 \n"
     ]
    },
    {
     "name": "stderr",
     "output_type": "stream",
     "text": [
      "[I 2025-07-24 15:52:16,692] Trial 10 finished with value: 0.9134498611644611 and parameters: {'n_estimators': 10, 'max_layers': 7}. Best is trial 1 with value: 0.9151462739725374.\n"
     ]
    },
    {
     "name": "stdout",
     "output_type": "stream",
     "text": [
      "[2025-07-24 06:52:16.705] Start to fit the model:\n",
      "[2025-07-24 06:52:16.705] Fitting cascade layer = 0 \n",
      "[2025-07-24 06:52:19.989] layer = 0  | Val MSE = 30.14007 | Elapsed = 3.285 s\n",
      "[2025-07-24 06:52:20.006] Fitting cascade layer = 1 \n",
      "[2025-07-24 06:52:23.471] layer = 1  | Val MSE = 28.77737 | Elapsed = 3.464 s\n",
      "[2025-07-24 06:52:23.488] Fitting cascade layer = 2 \n",
      "[2025-07-24 06:52:27.433] layer = 2  | Val MSE = 29.63573 | Elapsed = 3.945 s\n",
      "[2025-07-24 06:52:27.433] Early stopping counter: 1 out of 2\n",
      "[2025-07-24 06:52:27.433] Reaching the maximum number of layers: 3\n",
      "[2025-07-24 06:52:27.434] Start to evalute the model:\n",
      "[2025-07-24 06:52:27.434] Evaluating cascade layer = 0 \n",
      "[2025-07-24 06:52:28.114] Evaluating cascade layer = 1 \n",
      "[2025-07-24 06:52:28.782] Evaluating cascade layer = 2 \n"
     ]
    },
    {
     "name": "stderr",
     "output_type": "stream",
     "text": [
      "[I 2025-07-24 15:52:29,460] Trial 11 finished with value: 0.9129857363903913 and parameters: {'n_estimators': 10, 'max_layers': 3}. Best is trial 1 with value: 0.9151462739725374.\n"
     ]
    },
    {
     "name": "stdout",
     "output_type": "stream",
     "text": [
      "[2025-07-24 06:52:29.474] Start to fit the model:\n",
      "[2025-07-24 06:52:29.474] Fitting cascade layer = 0 \n",
      "[2025-07-24 06:52:33.256] layer = 0  | Val MSE = 30.14795 | Elapsed = 3.782 s\n",
      "[2025-07-24 06:52:33.276] Fitting cascade layer = 1 \n",
      "[2025-07-24 06:52:37.280] layer = 1  | Val MSE = 28.75508 | Elapsed = 4.004 s\n",
      "[2025-07-24 06:52:37.307] Fitting cascade layer = 2 \n",
      "[2025-07-24 06:52:41.267] layer = 2  | Val MSE = 29.84340 | Elapsed = 3.959 s\n",
      "[2025-07-24 06:52:41.267] Early stopping counter: 1 out of 2\n",
      "[2025-07-24 06:52:41.267] Reaching the maximum number of layers: 3\n",
      "[2025-07-24 06:52:41.268] Start to evalute the model:\n",
      "[2025-07-24 06:52:41.268] Evaluating cascade layer = 0 \n",
      "[2025-07-24 06:52:41.823] Evaluating cascade layer = 1 \n",
      "[2025-07-24 06:52:42.411] Evaluating cascade layer = 2 \n"
     ]
    },
    {
     "name": "stderr",
     "output_type": "stream",
     "text": [
      "[I 2025-07-24 15:52:43,086] Trial 12 finished with value: 0.9153560934943172 and parameters: {'n_estimators': 9, 'max_layers': 3}. Best is trial 12 with value: 0.9153560934943172.\n"
     ]
    },
    {
     "name": "stdout",
     "output_type": "stream",
     "text": [
      "[2025-07-24 06:52:43.103] Start to fit the model:\n",
      "[2025-07-24 06:52:43.104] Fitting cascade layer = 0 \n",
      "[2025-07-24 06:52:43.893] layer = 0  | Val MSE = 30.56243 | Elapsed = 0.789 s\n",
      "[2025-07-24 06:52:43.903] Fitting cascade layer = 1 \n",
      "[2025-07-24 06:52:44.774] layer = 1  | Val MSE = 29.06952 | Elapsed = 0.871 s\n",
      "[2025-07-24 06:52:44.781] Fitting cascade layer = 2 \n",
      "[2025-07-24 06:52:45.656] layer = 2  | Val MSE = 30.54785 | Elapsed = 0.875 s\n",
      "[2025-07-24 06:52:45.656] Early stopping counter: 1 out of 2\n",
      "[2025-07-24 06:52:45.660] Fitting cascade layer = 3 \n",
      "[2025-07-24 06:52:46.614] layer = 3  | Val MSE = 34.97802 | Elapsed = 0.953 s\n",
      "[2025-07-24 06:52:46.614] Early stopping counter: 2 out of 2\n",
      "[2025-07-24 06:52:46.614] Handling early stopping\n",
      "[2025-07-24 06:52:46.615] The optimal number of layers: 2\n",
      "[2025-07-24 06:52:46.617] Start to evalute the model:\n",
      "[2025-07-24 06:52:46.618] Evaluating cascade layer = 0 \n",
      "[2025-07-24 06:52:46.753] Evaluating cascade layer = 1 \n"
     ]
    },
    {
     "name": "stderr",
     "output_type": "stream",
     "text": [
      "[I 2025-07-24 15:52:46,880] Trial 13 finished with value: 0.9146675912243477 and parameters: {'n_estimators': 2, 'max_layers': 6}. Best is trial 12 with value: 0.9153560934943172.\n"
     ]
    },
    {
     "name": "stdout",
     "output_type": "stream",
     "text": [
      "[2025-07-24 06:52:46.894] Start to fit the model:\n",
      "[2025-07-24 06:52:46.895] Fitting cascade layer = 0 \n",
      "[2025-07-24 06:52:51.111] layer = 0  | Val MSE = 30.14795 | Elapsed = 4.217 s\n",
      "[2025-07-24 06:52:51.126] Fitting cascade layer = 1 \n",
      "[2025-07-24 06:52:54.896] layer = 1  | Val MSE = 28.74065 | Elapsed = 3.769 s\n",
      "[2025-07-24 06:52:54.911] Fitting cascade layer = 2 \n",
      "[2025-07-24 06:52:58.903] layer = 2  | Val MSE = 29.82499 | Elapsed = 3.993 s\n",
      "[2025-07-24 06:52:58.904] Early stopping counter: 1 out of 2\n",
      "[2025-07-24 06:52:58.904] Reaching the maximum number of layers: 3\n",
      "[2025-07-24 06:52:58.904] Start to evalute the model:\n",
      "[2025-07-24 06:52:58.905] Evaluating cascade layer = 0 \n",
      "[2025-07-24 06:52:59.542] Evaluating cascade layer = 1 \n",
      "[2025-07-24 06:53:00.100] Evaluating cascade layer = 2 \n"
     ]
    },
    {
     "name": "stderr",
     "output_type": "stream",
     "text": [
      "[I 2025-07-24 15:53:00,683] Trial 14 finished with value: 0.9145545987146716 and parameters: {'n_estimators': 9, 'max_layers': 3}. Best is trial 12 with value: 0.9153560934943172.\n"
     ]
    },
    {
     "name": "stdout",
     "output_type": "stream",
     "text": [
      "[2025-07-24 06:53:00.699] Start to fit the model:\n",
      "[2025-07-24 06:53:00.699] Fitting cascade layer = 0 \n",
      "[2025-07-24 06:53:03.288] layer = 0  | Val MSE = 30.14498 | Elapsed = 2.589 s\n",
      "[2025-07-24 06:53:03.308] Fitting cascade layer = 1 \n",
      "[2025-07-24 06:53:06.475] layer = 1  | Val MSE = 29.27238 | Elapsed = 3.168 s\n",
      "[2025-07-24 06:53:06.488] Fitting cascade layer = 2 \n",
      "[2025-07-24 06:53:09.810] layer = 2  | Val MSE = 30.33724 | Elapsed = 3.320 s\n",
      "[2025-07-24 06:53:09.810] Early stopping counter: 1 out of 2\n",
      "[2025-07-24 06:53:09.828] Fitting cascade layer = 3 \n",
      "[2025-07-24 06:53:13.169] layer = 3  | Val MSE = 33.05173 | Elapsed = 3.341 s\n",
      "[2025-07-24 06:53:13.169] Early stopping counter: 2 out of 2\n",
      "[2025-07-24 06:53:13.169] Handling early stopping\n",
      "[2025-07-24 06:53:13.173] The optimal number of layers: 2\n",
      "[2025-07-24 06:53:13.179] Start to evalute the model:\n",
      "[2025-07-24 06:53:13.180] Evaluating cascade layer = 0 \n",
      "[2025-07-24 06:53:13.683] Evaluating cascade layer = 1 \n"
     ]
    },
    {
     "name": "stderr",
     "output_type": "stream",
     "text": [
      "[I 2025-07-24 15:53:14,189] Trial 15 finished with value: 0.9128030275156604 and parameters: {'n_estimators': 8, 'max_layers': 15}. Best is trial 12 with value: 0.9153560934943172.\n"
     ]
    },
    {
     "name": "stdout",
     "output_type": "stream",
     "text": [
      "[2025-07-24 06:53:14.212] Start to fit the model:\n",
      "[2025-07-24 06:53:14.212] Fitting cascade layer = 0 \n",
      "[2025-07-24 06:53:17.947] layer = 0  | Val MSE = 30.14795 | Elapsed = 3.735 s\n",
      "[2025-07-24 06:53:17.961] Fitting cascade layer = 1 \n",
      "[2025-07-24 06:53:21.278] layer = 1  | Val MSE = 28.75508 | Elapsed = 3.317 s\n",
      "[2025-07-24 06:53:21.293] Fitting cascade layer = 2 \n",
      "[2025-07-24 06:53:24.309] layer = 2  | Val MSE = 29.84340 | Elapsed = 3.016 s\n",
      "[2025-07-24 06:53:24.310] Early stopping counter: 1 out of 2\n",
      "[2025-07-24 06:53:24.327] Fitting cascade layer = 3 \n",
      "[2025-07-24 06:53:27.991] layer = 3  | Val MSE = 31.01597 | Elapsed = 3.664 s\n",
      "[2025-07-24 06:53:27.991] Early stopping counter: 2 out of 2\n",
      "[2025-07-24 06:53:27.991] Handling early stopping\n",
      "[2025-07-24 06:53:27.995] The optimal number of layers: 2\n",
      "[2025-07-24 06:53:28.003] Start to evalute the model:\n",
      "[2025-07-24 06:53:28.004] Evaluating cascade layer = 0 \n",
      "[2025-07-24 06:53:28.583] Evaluating cascade layer = 1 \n"
     ]
    },
    {
     "name": "stderr",
     "output_type": "stream",
     "text": [
      "[I 2025-07-24 15:53:29,165] Trial 16 finished with value: 0.9132926779559478 and parameters: {'n_estimators': 9, 'max_layers': 5}. Best is trial 12 with value: 0.9153560934943172.\n"
     ]
    },
    {
     "name": "stdout",
     "output_type": "stream",
     "text": [
      "[2025-07-24 06:53:29.181] Start to fit the model:\n",
      "[2025-07-24 06:53:29.181] Fitting cascade layer = 0 \n",
      "[2025-07-24 06:53:32.250] layer = 0  | Val MSE = 30.14498 | Elapsed = 3.068 s\n",
      "[2025-07-24 06:53:32.265] Fitting cascade layer = 1 \n",
      "[2025-07-24 06:53:35.098] layer = 1  | Val MSE = 29.29862 | Elapsed = 2.833 s\n",
      "[2025-07-24 06:53:35.124] Fitting cascade layer = 2 \n",
      "[2025-07-24 06:53:38.817] layer = 2  | Val MSE = 30.97465 | Elapsed = 3.692 s\n",
      "[2025-07-24 06:53:38.818] Early stopping counter: 1 out of 2\n",
      "[2025-07-24 06:53:38.842] Fitting cascade layer = 3 \n",
      "[2025-07-24 06:53:42.345] layer = 3  | Val MSE = 33.85376 | Elapsed = 3.503 s\n",
      "[2025-07-24 06:53:42.345] Early stopping counter: 2 out of 2\n",
      "[2025-07-24 06:53:42.346] Handling early stopping\n",
      "[2025-07-24 06:53:42.350] The optimal number of layers: 2\n",
      "[2025-07-24 06:53:42.356] Start to evalute the model:\n",
      "[2025-07-24 06:53:42.357] Evaluating cascade layer = 0 \n",
      "[2025-07-24 06:53:42.888] Evaluating cascade layer = 1 \n"
     ]
    },
    {
     "name": "stderr",
     "output_type": "stream",
     "text": [
      "[I 2025-07-24 15:53:43,415] Trial 17 finished with value: 0.9128510061845845 and parameters: {'n_estimators': 8, 'max_layers': 7}. Best is trial 12 with value: 0.9153560934943172.\n"
     ]
    },
    {
     "name": "stdout",
     "output_type": "stream",
     "text": [
      "[2025-07-24 06:53:43.431] Start to fit the model:\n",
      "[2025-07-24 06:53:43.431] Fitting cascade layer = 0 \n",
      "[2025-07-24 06:53:47.291] layer = 0  | Val MSE = 30.14795 | Elapsed = 3.861 s\n",
      "[2025-07-24 06:53:47.306] Fitting cascade layer = 1 \n",
      "[2025-07-24 06:53:51.586] layer = 1  | Val MSE = 28.75508 | Elapsed = 4.280 s\n",
      "[2025-07-24 06:53:51.609] Fitting cascade layer = 2 \n",
      "[2025-07-24 06:53:55.650] layer = 2  | Val MSE = 29.84340 | Elapsed = 4.041 s\n",
      "[2025-07-24 06:53:55.650] Early stopping counter: 1 out of 2\n",
      "[2025-07-24 06:53:55.650] Reaching the maximum number of layers: 3\n",
      "[2025-07-24 06:53:55.651] Start to evalute the model:\n",
      "[2025-07-24 06:53:55.652] Evaluating cascade layer = 0 \n",
      "[2025-07-24 06:53:56.540] Evaluating cascade layer = 1 \n",
      "[2025-07-24 06:53:57.376] Evaluating cascade layer = 2 \n"
     ]
    },
    {
     "name": "stderr",
     "output_type": "stream",
     "text": [
      "[I 2025-07-24 15:53:58,127] Trial 18 finished with value: 0.9153560934943172 and parameters: {'n_estimators': 9, 'max_layers': 3}. Best is trial 12 with value: 0.9153560934943172.\n"
     ]
    },
    {
     "name": "stdout",
     "output_type": "stream",
     "text": [
      "[2025-07-24 06:53:58.142] Start to fit the model:\n",
      "[2025-07-24 06:53:58.142] Fitting cascade layer = 0 \n",
      "[2025-07-24 06:54:01.573] layer = 0  | Val MSE = 30.14498 | Elapsed = 3.431 s\n",
      "[2025-07-24 06:54:01.587] Fitting cascade layer = 1 \n",
      "[2025-07-24 06:54:05.009] layer = 1  | Val MSE = 29.29925 | Elapsed = 3.422 s\n",
      "[2025-07-24 06:54:05.022] Fitting cascade layer = 2 \n",
      "[2025-07-24 06:54:08.463] layer = 2  | Val MSE = 30.96843 | Elapsed = 3.441 s\n",
      "[2025-07-24 06:54:08.463] Early stopping counter: 1 out of 2\n",
      "[2025-07-24 06:54:08.477] Fitting cascade layer = 3 \n",
      "[2025-07-24 06:54:11.435] layer = 3  | Val MSE = 34.18357 | Elapsed = 2.958 s\n",
      "[2025-07-24 06:54:11.435] Early stopping counter: 2 out of 2\n",
      "[2025-07-24 06:54:11.435] Handling early stopping\n",
      "[2025-07-24 06:54:11.438] The optimal number of layers: 2\n",
      "[2025-07-24 06:54:11.444] Start to evalute the model:\n",
      "[2025-07-24 06:54:11.444] Evaluating cascade layer = 0 \n",
      "[2025-07-24 06:54:11.946] Evaluating cascade layer = 1 \n"
     ]
    },
    {
     "name": "stderr",
     "output_type": "stream",
     "text": [
      "[I 2025-07-24 15:54:12,484] Trial 19 finished with value: 0.9128414062840411 and parameters: {'n_estimators': 8, 'max_layers': 6}. Best is trial 12 with value: 0.9153560934943172.\n"
     ]
    },
    {
     "name": "stdout",
     "output_type": "stream",
     "text": [
      "[2025-07-24 06:54:12.501] Start to fit the model:\n",
      "[2025-07-24 06:54:12.501] Fitting cascade layer = 0 \n",
      "[2025-07-24 06:54:16.669] layer = 0  | Val MSE = 30.14795 | Elapsed = 4.168 s\n",
      "[2025-07-24 06:54:16.691] Fitting cascade layer = 1 \n",
      "[2025-07-24 06:54:20.619] layer = 1  | Val MSE = 28.75508 | Elapsed = 3.928 s\n",
      "[2025-07-24 06:54:20.634] Fitting cascade layer = 2 \n",
      "[2025-07-24 06:54:24.233] layer = 2  | Val MSE = 29.84340 | Elapsed = 3.600 s\n",
      "[2025-07-24 06:54:24.233] Early stopping counter: 1 out of 2\n",
      "[2025-07-24 06:54:24.257] Fitting cascade layer = 3 \n",
      "[2025-07-24 06:54:28.293] layer = 3  | Val MSE = 31.01597 | Elapsed = 4.035 s\n",
      "[2025-07-24 06:54:28.294] Early stopping counter: 2 out of 2\n",
      "[2025-07-24 06:54:28.294] Handling early stopping\n",
      "[2025-07-24 06:54:28.298] The optimal number of layers: 2\n",
      "[2025-07-24 06:54:28.305] Start to evalute the model:\n",
      "[2025-07-24 06:54:28.305] Evaluating cascade layer = 0 \n",
      "[2025-07-24 06:54:28.869] Evaluating cascade layer = 1 \n"
     ]
    },
    {
     "name": "stderr",
     "output_type": "stream",
     "text": [
      "[I 2025-07-24 15:54:29,498] Trial 20 finished with value: 0.9132926779559478 and parameters: {'n_estimators': 9, 'max_layers': 9}. Best is trial 12 with value: 0.9153560934943172.\n"
     ]
    },
    {
     "name": "stdout",
     "output_type": "stream",
     "text": [
      "[2025-07-24 06:54:29.517] Start to fit the model:\n",
      "[2025-07-24 06:54:29.517] Fitting cascade layer = 0 \n",
      "[2025-07-24 06:54:33.582] layer = 0  | Val MSE = 30.14795 | Elapsed = 4.064 s\n",
      "[2025-07-24 06:54:33.608] Fitting cascade layer = 1 \n",
      "[2025-07-24 06:54:37.320] layer = 1  | Val MSE = 28.75548 | Elapsed = 3.713 s\n",
      "[2025-07-24 06:54:37.335] Fitting cascade layer = 2 \n",
      "[2025-07-24 06:54:41.311] layer = 2  | Val MSE = 29.73592 | Elapsed = 3.975 s\n",
      "[2025-07-24 06:54:41.311] Early stopping counter: 1 out of 2\n",
      "[2025-07-24 06:54:41.311] Reaching the maximum number of layers: 3\n",
      "[2025-07-24 06:54:41.311] Start to evalute the model:\n",
      "[2025-07-24 06:54:41.312] Evaluating cascade layer = 0 \n",
      "[2025-07-24 06:54:42.055] Evaluating cascade layer = 1 \n",
      "[2025-07-24 06:54:42.630] Evaluating cascade layer = 2 \n"
     ]
    },
    {
     "name": "stderr",
     "output_type": "stream",
     "text": [
      "[I 2025-07-24 15:54:43,235] Trial 21 finished with value: 0.9155508855143634 and parameters: {'n_estimators': 9, 'max_layers': 3}. Best is trial 21 with value: 0.9155508855143634.\n"
     ]
    },
    {
     "name": "stdout",
     "output_type": "stream",
     "text": [
      "[2025-07-24 06:54:43.252] Start to fit the model:\n",
      "[2025-07-24 06:54:43.252] Fitting cascade layer = 0 \n",
      "[2025-07-24 06:54:46.876] layer = 0  | Val MSE = 30.14498 | Elapsed = 3.624 s\n",
      "[2025-07-24 06:54:46.890] Fitting cascade layer = 1 \n",
      "[2025-07-24 06:54:50.289] layer = 1  | Val MSE = 29.27238 | Elapsed = 3.399 s\n",
      "[2025-07-24 06:54:50.304] Fitting cascade layer = 2 \n",
      "[2025-07-24 06:54:53.805] layer = 2  | Val MSE = 30.33724 | Elapsed = 3.501 s\n",
      "[2025-07-24 06:54:53.805] Early stopping counter: 1 out of 2\n",
      "[2025-07-24 06:54:53.826] Fitting cascade layer = 3 \n",
      "[2025-07-24 06:54:57.401] layer = 3  | Val MSE = 33.05173 | Elapsed = 3.575 s\n",
      "[2025-07-24 06:54:57.401] Early stopping counter: 2 out of 2\n",
      "[2025-07-24 06:54:57.401] Handling early stopping\n",
      "[2025-07-24 06:54:57.405] The optimal number of layers: 2\n",
      "[2025-07-24 06:54:57.412] Start to evalute the model:\n",
      "[2025-07-24 06:54:57.412] Evaluating cascade layer = 0 \n",
      "[2025-07-24 06:54:57.932] Evaluating cascade layer = 1 \n"
     ]
    },
    {
     "name": "stderr",
     "output_type": "stream",
     "text": [
      "[I 2025-07-24 15:54:58,440] Trial 22 finished with value: 0.9128030275156604 and parameters: {'n_estimators': 8, 'max_layers': 4}. Best is trial 21 with value: 0.9155508855143634.\n"
     ]
    },
    {
     "name": "stdout",
     "output_type": "stream",
     "text": [
      "[2025-07-24 06:54:58.467] Start to fit the model:\n",
      "[2025-07-24 06:54:58.467] Fitting cascade layer = 0 \n",
      "[2025-07-24 06:55:02.634] layer = 0  | Val MSE = 30.14007 | Elapsed = 4.165 s\n",
      "[2025-07-24 06:55:02.658] Fitting cascade layer = 1 \n",
      "[2025-07-24 06:55:07.283] layer = 1  | Val MSE = 28.77432 | Elapsed = 4.625 s\n",
      "[2025-07-24 06:55:07.302] Fitting cascade layer = 2 \n",
      "[2025-07-24 06:55:11.635] layer = 2  | Val MSE = 29.63828 | Elapsed = 4.333 s\n",
      "[2025-07-24 06:55:11.635] Early stopping counter: 1 out of 2\n",
      "[2025-07-24 06:55:11.651] Fitting cascade layer = 3 \n",
      "[2025-07-24 06:55:15.787] layer = 3  | Val MSE = 30.46543 | Elapsed = 4.136 s\n",
      "[2025-07-24 06:55:15.787] Early stopping counter: 2 out of 2\n",
      "[2025-07-24 06:55:15.787] Handling early stopping\n",
      "[2025-07-24 06:55:15.792] The optimal number of layers: 2\n",
      "[2025-07-24 06:55:15.803] Start to evalute the model:\n",
      "[2025-07-24 06:55:15.803] Evaluating cascade layer = 0 \n",
      "[2025-07-24 06:55:16.704] Evaluating cascade layer = 1 \n"
     ]
    },
    {
     "name": "stderr",
     "output_type": "stream",
     "text": [
      "[I 2025-07-24 15:55:17,481] Trial 23 finished with value: 0.9134344033328206 and parameters: {'n_estimators': 10, 'max_layers': 4}. Best is trial 21 with value: 0.9155508855143634.\n"
     ]
    },
    {
     "name": "stdout",
     "output_type": "stream",
     "text": [
      "[2025-07-24 06:55:17.497] Start to fit the model:\n",
      "[2025-07-24 06:55:17.498] Fitting cascade layer = 0 \n",
      "[2025-07-24 06:55:21.564] layer = 0  | Val MSE = 30.14795 | Elapsed = 4.066 s\n",
      "[2025-07-24 06:55:21.589] Fitting cascade layer = 1 \n",
      "[2025-07-24 06:55:25.108] layer = 1  | Val MSE = 28.74065 | Elapsed = 3.519 s\n",
      "[2025-07-24 06:55:25.123] Fitting cascade layer = 2 \n",
      "[2025-07-24 06:55:28.873] layer = 2  | Val MSE = 29.83256 | Elapsed = 3.750 s\n",
      "[2025-07-24 06:55:28.874] Early stopping counter: 1 out of 2\n",
      "[2025-07-24 06:55:28.897] Fitting cascade layer = 3 \n",
      "[2025-07-24 06:55:32.747] layer = 3  | Val MSE = 30.37501 | Elapsed = 3.850 s\n",
      "[2025-07-24 06:55:32.748] Early stopping counter: 2 out of 2\n",
      "[2025-07-24 06:55:32.748] Handling early stopping\n",
      "[2025-07-24 06:55:32.753] The optimal number of layers: 2\n",
      "[2025-07-24 06:55:32.762] Start to evalute the model:\n",
      "[2025-07-24 06:55:32.762] Evaluating cascade layer = 0 \n",
      "[2025-07-24 06:55:33.386] Evaluating cascade layer = 1 \n"
     ]
    },
    {
     "name": "stderr",
     "output_type": "stream",
     "text": [
      "[I 2025-07-24 15:55:33,957] Trial 24 finished with value: 0.9133979582824125 and parameters: {'n_estimators': 9, 'max_layers': 5}. Best is trial 21 with value: 0.9155508855143634.\n"
     ]
    },
    {
     "name": "stdout",
     "output_type": "stream",
     "text": [
      "[2025-07-24 06:55:33.986] Start to fit the model:\n",
      "[2025-07-24 06:55:33.986] Fitting cascade layer = 0 \n",
      "[2025-07-24 06:55:37.118] layer = 0  | Val MSE = 30.13605 | Elapsed = 3.131 s\n",
      "[2025-07-24 06:55:37.149] Fitting cascade layer = 1 \n",
      "[2025-07-24 06:55:40.151] layer = 1  | Val MSE = 28.83414 | Elapsed = 3.002 s\n",
      "[2025-07-24 06:55:40.164] Fitting cascade layer = 2 \n",
      "[2025-07-24 06:55:43.171] layer = 2  | Val MSE = 30.06902 | Elapsed = 3.007 s\n",
      "[2025-07-24 06:55:43.171] Early stopping counter: 1 out of 2\n",
      "[2025-07-24 06:55:43.171] Reaching the maximum number of layers: 3\n",
      "[2025-07-24 06:55:43.172] Start to evalute the model:\n",
      "[2025-07-24 06:55:43.172] Evaluating cascade layer = 0 \n",
      "[2025-07-24 06:55:43.665] Evaluating cascade layer = 1 \n",
      "[2025-07-24 06:55:44.102] Evaluating cascade layer = 2 \n"
     ]
    },
    {
     "name": "stderr",
     "output_type": "stream",
     "text": [
      "[I 2025-07-24 15:55:44,579] Trial 25 finished with value: 0.9121804579769993 and parameters: {'n_estimators': 7, 'max_layers': 3}. Best is trial 21 with value: 0.9155508855143634.\n"
     ]
    },
    {
     "name": "stdout",
     "output_type": "stream",
     "text": [
      "[2025-07-24 06:55:44.608] Start to fit the model:\n",
      "[2025-07-24 06:55:44.609] Fitting cascade layer = 0 \n",
      "[2025-07-24 06:55:48.445] layer = 0  | Val MSE = 30.14498 | Elapsed = 3.836 s\n",
      "[2025-07-24 06:55:48.470] Fitting cascade layer = 1 \n",
      "[2025-07-24 06:55:51.934] layer = 1  | Val MSE = 29.29862 | Elapsed = 3.464 s\n",
      "[2025-07-24 06:55:51.948] Fitting cascade layer = 2 \n",
      "[2025-07-24 06:55:55.368] layer = 2  | Val MSE = 30.97465 | Elapsed = 3.420 s\n",
      "[2025-07-24 06:55:55.368] Early stopping counter: 1 out of 2\n",
      "[2025-07-24 06:55:55.382] Fitting cascade layer = 3 \n",
      "[2025-07-24 06:55:58.722] layer = 3  | Val MSE = 33.85376 | Elapsed = 3.340 s\n",
      "[2025-07-24 06:55:58.723] Early stopping counter: 2 out of 2\n",
      "[2025-07-24 06:55:58.723] Handling early stopping\n",
      "[2025-07-24 06:55:58.727] The optimal number of layers: 2\n",
      "[2025-07-24 06:55:58.733] Start to evalute the model:\n",
      "[2025-07-24 06:55:58.734] Evaluating cascade layer = 0 \n",
      "[2025-07-24 06:55:59.326] Evaluating cascade layer = 1 \n"
     ]
    },
    {
     "name": "stderr",
     "output_type": "stream",
     "text": [
      "[I 2025-07-24 15:56:00,007] Trial 26 finished with value: 0.9128510061845845 and parameters: {'n_estimators': 8, 'max_layers': 6}. Best is trial 21 with value: 0.9155508855143634.\n"
     ]
    },
    {
     "name": "stdout",
     "output_type": "stream",
     "text": [
      "[2025-07-24 06:56:00.032] Start to fit the model:\n",
      "[2025-07-24 06:56:00.032] Fitting cascade layer = 0 \n",
      "[2025-07-24 06:56:04.428] layer = 0  | Val MSE = 30.14007 | Elapsed = 4.397 s\n",
      "[2025-07-24 06:56:04.445] Fitting cascade layer = 1 \n",
      "[2025-07-24 06:56:08.589] layer = 1  | Val MSE = 28.76114 | Elapsed = 4.143 s\n",
      "[2025-07-24 06:56:08.618] Fitting cascade layer = 2 \n",
      "[2025-07-24 06:56:12.922] layer = 2  | Val MSE = 30.03088 | Elapsed = 4.305 s\n",
      "[2025-07-24 06:56:12.922] Early stopping counter: 1 out of 2\n",
      "[2025-07-24 06:56:12.938] Fitting cascade layer = 3 \n",
      "[2025-07-24 06:56:16.833] layer = 3  | Val MSE = 30.82682 | Elapsed = 3.895 s\n",
      "[2025-07-24 06:56:16.833] Early stopping counter: 2 out of 2\n",
      "[2025-07-24 06:56:16.833] Handling early stopping\n",
      "[2025-07-24 06:56:16.838] The optimal number of layers: 2\n",
      "[2025-07-24 06:56:16.848] Start to evalute the model:\n",
      "[2025-07-24 06:56:16.849] Evaluating cascade layer = 0 \n",
      "[2025-07-24 06:56:17.559] Evaluating cascade layer = 1 \n"
     ]
    },
    {
     "name": "stderr",
     "output_type": "stream",
     "text": [
      "[I 2025-07-24 15:56:18,351] Trial 27 finished with value: 0.9134537836570755 and parameters: {'n_estimators': 10, 'max_layers': 4}. Best is trial 21 with value: 0.9155508855143634.\n"
     ]
    },
    {
     "name": "stdout",
     "output_type": "stream",
     "text": [
      "[2025-07-24 06:56:18.381] Start to fit the model:\n",
      "[2025-07-24 06:56:18.381] Fitting cascade layer = 0 \n",
      "[2025-07-24 06:56:19.279] layer = 0  | Val MSE = 30.56243 | Elapsed = 0.898 s\n",
      "[2025-07-24 06:56:19.284] Fitting cascade layer = 1 \n",
      "[2025-07-24 06:56:20.176] layer = 1  | Val MSE = 29.06952 | Elapsed = 0.892 s\n",
      "[2025-07-24 06:56:20.183] Fitting cascade layer = 2 \n",
      "[2025-07-24 06:56:21.027] layer = 2  | Val MSE = 30.54785 | Elapsed = 0.844 s\n",
      "[2025-07-24 06:56:21.028] Early stopping counter: 1 out of 2\n",
      "[2025-07-24 06:56:21.032] Fitting cascade layer = 3 \n",
      "[2025-07-24 06:56:21.874] layer = 3  | Val MSE = 34.97802 | Elapsed = 0.842 s\n",
      "[2025-07-24 06:56:21.875] Early stopping counter: 2 out of 2\n",
      "[2025-07-24 06:56:21.875] Handling early stopping\n",
      "[2025-07-24 06:56:21.876] The optimal number of layers: 2\n",
      "[2025-07-24 06:56:21.878] Start to evalute the model:\n",
      "[2025-07-24 06:56:21.878] Evaluating cascade layer = 0 \n",
      "[2025-07-24 06:56:21.998] Evaluating cascade layer = 1 \n"
     ]
    },
    {
     "name": "stderr",
     "output_type": "stream",
     "text": [
      "[I 2025-07-24 15:56:22,125] Trial 28 finished with value: 0.9146675912243477 and parameters: {'n_estimators': 2, 'max_layers': 5}. Best is trial 21 with value: 0.9155508855143634.\n"
     ]
    },
    {
     "name": "stdout",
     "output_type": "stream",
     "text": [
      "[2025-07-24 06:56:22.153] Start to fit the model:\n",
      "[2025-07-24 06:56:22.153] Fitting cascade layer = 0 \n",
      "[2025-07-24 06:56:24.296] layer = 0  | Val MSE = 30.28920 | Elapsed = 2.142 s\n",
      "[2025-07-24 06:56:24.305] Fitting cascade layer = 1 \n",
      "[2025-07-24 06:56:26.573] layer = 1  | Val MSE = 28.91900 | Elapsed = 2.269 s\n",
      "[2025-07-24 06:56:26.597] Fitting cascade layer = 2 \n",
      "[2025-07-24 06:56:28.915] layer = 2  | Val MSE = 30.59800 | Elapsed = 2.318 s\n",
      "[2025-07-24 06:56:28.916] Early stopping counter: 1 out of 2\n",
      "[2025-07-24 06:56:28.939] Fitting cascade layer = 3 \n",
      "[2025-07-24 06:56:31.206] layer = 3  | Val MSE = 32.34616 | Elapsed = 2.267 s\n",
      "[2025-07-24 06:56:31.206] Early stopping counter: 2 out of 2\n",
      "[2025-07-24 06:56:31.206] Handling early stopping\n",
      "[2025-07-24 06:56:31.208] The optimal number of layers: 2\n",
      "[2025-07-24 06:56:31.210] Start to evalute the model:\n",
      "[2025-07-24 06:56:31.211] Evaluating cascade layer = 0 \n",
      "[2025-07-24 06:56:31.546] Evaluating cascade layer = 1 \n"
     ]
    },
    {
     "name": "stderr",
     "output_type": "stream",
     "text": [
      "[I 2025-07-24 15:56:31,864] Trial 29 finished with value: 0.9119141734019174 and parameters: {'n_estimators': 5, 'max_layers': 8}. Best is trial 21 with value: 0.9155508855143634.\n"
     ]
    },
    {
     "name": "stdout",
     "output_type": "stream",
     "text": [
      "✅ Best R² on test set: 0.9155508855143634\n",
      "📌 Best Parameters:\n",
      "  n_estimators: 9\n",
      "  max_layers: 3\n"
     ]
    }
   ],
   "source": [
    "# 데이터 로드 및 고정 피처 선택\n",
    "df = pd.read_csv('dataset.csv')\n",
    "selected_features = ['cement', 'blast furnace slag', 'superplasticizer', 'coarse aggregate', 'age']\n",
    "X = df[selected_features]\n",
    "y = df['CCS']\n",
    "\n",
    "# 학습/테스트 데이터 분리\n",
    "X_train, X_test, y_train, y_test = train_test_split(X, y, test_size=0.2, random_state=42)\n",
    "\n",
    "# Optuna 목적 함수 정의\n",
    "def objective(trial):\n",
    "    params = {\n",
    "        'n_estimators': trial.suggest_int('n_estimators', 2, 10),  # 층 당 tree 수\n",
    "        'max_layers': trial.suggest_int('max_layers', 3, 15),\n",
    "        'n_jobs': -1,\n",
    "        'random_state': 42\n",
    "    }\n",
    "    model = CascadeForestRegressor(**params)\n",
    "    model.fit(X_train.values, y_train.values)\n",
    "    y_pred = model.predict(X_test.values)\n",
    "    return r2_score(y_test, y_pred)\n",
    "\n",
    "# Optuna 튜닝\n",
    "study = optuna.create_study(direction='maximize')\n",
    "study.optimize(objective, n_trials=30)\n",
    "\n",
    "# 결과 출력\n",
    "print(\"✅ Best R² on test set:\", study.best_value)\n",
    "print(\"📌 Best Parameters:\")\n",
    "for key, value in study.best_params.items():\n",
    "    print(f\"  {key}: {value}\")"
   ]
  },
  {
   "cell_type": "code",
   "execution_count": null,
   "id": "fe649430",
   "metadata": {},
   "outputs": [],
   "source": []
  }
 ],
 "metadata": {
  "kernelspec": {
   "display_name": "Python 3",
   "language": "python",
   "name": "python3"
  },
  "language_info": {
   "codemirror_mode": {
    "name": "ipython",
    "version": 3
   },
   "file_extension": ".py",
   "mimetype": "text/x-python",
   "name": "python",
   "nbconvert_exporter": "python",
   "pygments_lexer": "ipython3",
   "version": "3.8.6"
  }
 },
 "nbformat": 4,
 "nbformat_minor": 5
}
