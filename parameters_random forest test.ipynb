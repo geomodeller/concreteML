{
 "cells": [
  {
   "cell_type": "code",
   "execution_count": 1,
   "id": "7caf4262",
   "metadata": {},
   "outputs": [
    {
     "name": "stderr",
     "output_type": "stream",
     "text": [
      "c:\\Users\\SAL\\AppData\\Local\\Programs\\Python\\Python310\\lib\\site-packages\\tqdm\\auto.py:21: TqdmWarning: IProgress not found. Please update jupyter and ipywidgets. See https://ipywidgets.readthedocs.io/en/stable/user_install.html\n",
      "  from .autonotebook import tqdm as notebook_tqdm\n"
     ]
    }
   ],
   "source": [
    "import pandas as pd\n",
    "import optuna\n",
    "from sklearn.model_selection import train_test_split\n",
    "from sklearn.ensemble import RandomForestRegressor\n",
    "from sklearn.metrics import r2_score"
   ]
  },
  {
   "cell_type": "code",
   "execution_count": 2,
   "id": "757a53df",
   "metadata": {},
   "outputs": [
    {
     "name": "stderr",
     "output_type": "stream",
     "text": [
      "[I 2025-07-24 14:16:46,729] A new study created in memory with name: no-name-8e2537b3-dd0c-4934-8c19-055382ac39d9\n",
      "[I 2025-07-24 14:16:48,843] Trial 0 finished with value: 0.803619274975718 and parameters: {'n_estimators': 952, 'max_depth': 5, 'min_samples_split': 4, 'min_samples_leaf': 1}. Best is trial 0 with value: 0.803619274975718.\n",
      "[I 2025-07-24 14:16:49,469] Trial 1 finished with value: 0.858245052705145 and parameters: {'n_estimators': 235, 'max_depth': 9, 'min_samples_split': 9, 'min_samples_leaf': 5}. Best is trial 1 with value: 0.858245052705145.\n",
      "[I 2025-07-24 14:16:51,755] Trial 2 finished with value: 0.863992235263487 and parameters: {'n_estimators': 875, 'max_depth': 16, 'min_samples_split': 10, 'min_samples_leaf': 4}. Best is trial 2 with value: 0.863992235263487.\n",
      "[I 2025-07-24 14:16:54,507] Trial 3 finished with value: 0.8721534578865238 and parameters: {'n_estimators': 1000, 'max_depth': 20, 'min_samples_split': 4, 'min_samples_leaf': 3}. Best is trial 3 with value: 0.8721534578865238.\n",
      "[I 2025-07-24 14:16:57,265] Trial 4 finished with value: 0.8699142334598187 and parameters: {'n_estimators': 997, 'max_depth': 10, 'min_samples_split': 8, 'min_samples_leaf': 3}. Best is trial 3 with value: 0.8721534578865238.\n",
      "[I 2025-07-24 14:16:59,496] Trial 5 finished with value: 0.8665104756525585 and parameters: {'n_estimators': 884, 'max_depth': 12, 'min_samples_split': 7, 'min_samples_leaf': 4}. Best is trial 3 with value: 0.8721534578865238.\n",
      "[I 2025-07-24 14:17:01,247] Trial 6 finished with value: 0.8753076560852219 and parameters: {'n_estimators': 620, 'max_depth': 10, 'min_samples_split': 8, 'min_samples_leaf': 1}. Best is trial 6 with value: 0.8753076560852219.\n",
      "[I 2025-07-24 14:17:01,669] Trial 7 finished with value: 0.7331030268272902 and parameters: {'n_estimators': 218, 'max_depth': 4, 'min_samples_split': 6, 'min_samples_leaf': 2}. Best is trial 6 with value: 0.8753076560852219.\n",
      "[I 2025-07-24 14:17:02,085] Trial 8 finished with value: 0.8646630811096092 and parameters: {'n_estimators': 135, 'max_depth': 15, 'min_samples_split': 4, 'min_samples_leaf': 4}. Best is trial 6 with value: 0.8753076560852219.\n",
      "[I 2025-07-24 14:17:02,610] Trial 9 finished with value: 0.8652449894241079 and parameters: {'n_estimators': 162, 'max_depth': 8, 'min_samples_split': 10, 'min_samples_leaf': 1}. Best is trial 6 with value: 0.8753076560852219.\n",
      "[I 2025-07-24 14:17:04,611] Trial 10 finished with value: 0.8795370228846585 and parameters: {'n_estimators': 618, 'max_depth': 13, 'min_samples_split': 2, 'min_samples_leaf': 2}. Best is trial 10 with value: 0.8795370228846585.\n",
      "[I 2025-07-24 14:17:06,424] Trial 11 finished with value: 0.8800266426282081 and parameters: {'n_estimators': 586, 'max_depth': 13, 'min_samples_split': 2, 'min_samples_leaf': 2}. Best is trial 11 with value: 0.8800266426282081.\n",
      "[I 2025-07-24 14:17:08,260] Trial 12 finished with value: 0.8802718920957939 and parameters: {'n_estimators': 614, 'max_depth': 15, 'min_samples_split': 2, 'min_samples_leaf': 2}. Best is trial 12 with value: 0.8802718920957939.\n",
      "[I 2025-07-24 14:17:09,543] Trial 13 finished with value: 0.8802632924374665 and parameters: {'n_estimators': 433, 'max_depth': 18, 'min_samples_split': 2, 'min_samples_leaf': 2}. Best is trial 12 with value: 0.8802718920957939.\n",
      "[I 2025-07-24 14:17:10,848] Trial 14 finished with value: 0.8800126151070136 and parameters: {'n_estimators': 408, 'max_depth': 20, 'min_samples_split': 3, 'min_samples_leaf': 2}. Best is trial 12 with value: 0.8802718920957939.\n",
      "[I 2025-07-24 14:17:12,178] Trial 15 finished with value: 0.872739860918749 and parameters: {'n_estimators': 442, 'max_depth': 17, 'min_samples_split': 5, 'min_samples_leaf': 3}. Best is trial 12 with value: 0.8802718920957939.\n",
      "[I 2025-07-24 14:17:14,452] Trial 16 finished with value: 0.8792846342987787 and parameters: {'n_estimators': 762, 'max_depth': 18, 'min_samples_split': 2, 'min_samples_leaf': 2}. Best is trial 12 with value: 0.8802718920957939.\n",
      "[I 2025-07-24 14:17:15,862] Trial 17 finished with value: 0.8843956549368756 and parameters: {'n_estimators': 419, 'max_depth': 15, 'min_samples_split': 3, 'min_samples_leaf': 1}. Best is trial 17 with value: 0.8843956549368756.\n",
      "[I 2025-07-24 14:17:17,077] Trial 18 finished with value: 0.8829455697938976 and parameters: {'n_estimators': 333, 'max_depth': 15, 'min_samples_split': 3, 'min_samples_leaf': 1}. Best is trial 17 with value: 0.8843956549368756.\n",
      "[I 2025-07-24 14:17:18,221] Trial 19 finished with value: 0.8810465662211167 and parameters: {'n_estimators': 339, 'max_depth': 14, 'min_samples_split': 5, 'min_samples_leaf': 1}. Best is trial 17 with value: 0.8843956549368756.\n",
      "[I 2025-07-24 14:17:19,156] Trial 20 finished with value: 0.8606358382927096 and parameters: {'n_estimators': 331, 'max_depth': 7, 'min_samples_split': 3, 'min_samples_leaf': 1}. Best is trial 17 with value: 0.8843956549368756.\n",
      "[I 2025-07-24 14:17:20,169] Trial 21 finished with value: 0.8802564582802792 and parameters: {'n_estimators': 315, 'max_depth': 14, 'min_samples_split': 5, 'min_samples_leaf': 1}. Best is trial 17 with value: 0.8843956549368756.\n",
      "[I 2025-07-24 14:17:21,639] Trial 22 finished with value: 0.8822621396908054 and parameters: {'n_estimators': 502, 'max_depth': 11, 'min_samples_split': 5, 'min_samples_leaf': 1}. Best is trial 17 with value: 0.8843956549368756.\n",
      "[I 2025-07-24 14:17:23,161] Trial 23 finished with value: 0.8845662389636695 and parameters: {'n_estimators': 508, 'max_depth': 11, 'min_samples_split': 3, 'min_samples_leaf': 1}. Best is trial 23 with value: 0.8845662389636695.\n",
      "[I 2025-07-24 14:17:25,533] Trial 24 finished with value: 0.8838993722305492 and parameters: {'n_estimators': 727, 'max_depth': 16, 'min_samples_split': 3, 'min_samples_leaf': 1}. Best is trial 23 with value: 0.8845662389636695.\n",
      "[I 2025-07-24 14:17:27,886] Trial 25 finished with value: 0.8834054930724516 and parameters: {'n_estimators': 719, 'max_depth': 12, 'min_samples_split': 3, 'min_samples_leaf': 1}. Best is trial 23 with value: 0.8845662389636695.\n",
      "[I 2025-07-24 14:17:29,657] Trial 26 finished with value: 0.8598221763109303 and parameters: {'n_estimators': 697, 'max_depth': 17, 'min_samples_split': 4, 'min_samples_leaf': 5}. Best is trial 23 with value: 0.8845662389636695.\n",
      "[I 2025-07-24 14:17:30,844] Trial 27 finished with value: 0.8415021928752829 and parameters: {'n_estimators': 505, 'max_depth': 6, 'min_samples_split': 6, 'min_samples_leaf': 2}. Best is trial 23 with value: 0.8845662389636695.\n",
      "[I 2025-07-24 14:17:33,572] Trial 28 finished with value: 0.8838235328187376 and parameters: {'n_estimators': 799, 'max_depth': 18, 'min_samples_split': 3, 'min_samples_leaf': 1}. Best is trial 23 with value: 0.8845662389636695.\n",
      "[I 2025-07-24 14:17:35,107] Trial 29 finished with value: 0.8837379826247843 and parameters: {'n_estimators': 524, 'max_depth': 11, 'min_samples_split': 4, 'min_samples_leaf': 1}. Best is trial 23 with value: 0.8845662389636695.\n",
      "[I 2025-07-24 14:17:37,405] Trial 30 finished with value: 0.883110413697709 and parameters: {'n_estimators': 703, 'max_depth': 16, 'min_samples_split': 4, 'min_samples_leaf': 1}. Best is trial 23 with value: 0.8845662389636695.\n",
      "[I 2025-07-24 14:17:40,165] Trial 31 finished with value: 0.8838342643840904 and parameters: {'n_estimators': 774, 'max_depth': 19, 'min_samples_split': 3, 'min_samples_leaf': 1}. Best is trial 23 with value: 0.8845662389636695.\n",
      "[I 2025-07-24 14:17:42,936] Trial 32 finished with value: 0.8839956395878875 and parameters: {'n_estimators': 813, 'max_depth': 19, 'min_samples_split': 3, 'min_samples_leaf': 1}. Best is trial 23 with value: 0.8845662389636695.\n",
      "[I 2025-07-24 14:17:45,914] Trial 33 finished with value: 0.8835233971595684 and parameters: {'n_estimators': 879, 'max_depth': 16, 'min_samples_split': 3, 'min_samples_leaf': 1}. Best is trial 23 with value: 0.8845662389636695.\n",
      "[I 2025-07-24 14:17:48,335] Trial 34 finished with value: 0.8791925314855383 and parameters: {'n_estimators': 812, 'max_depth': 19, 'min_samples_split': 2, 'min_samples_leaf': 2}. Best is trial 23 with value: 0.8845662389636695.\n",
      "[I 2025-07-24 14:17:50,226] Trial 35 finished with value: 0.873305789550098 and parameters: {'n_estimators': 572, 'max_depth': 17, 'min_samples_split': 4, 'min_samples_leaf': 3}. Best is trial 23 with value: 0.8845662389636695.\n",
      "[I 2025-07-24 14:17:52,332] Trial 36 finished with value: 0.8779161547133758 and parameters: {'n_estimators': 672, 'max_depth': 9, 'min_samples_split': 4, 'min_samples_leaf': 1}. Best is trial 23 with value: 0.8845662389636695.\n",
      "[I 2025-07-24 14:17:55,336] Trial 37 finished with value: 0.8789838929283645 and parameters: {'n_estimators': 916, 'max_depth': 20, 'min_samples_split': 3, 'min_samples_leaf': 2}. Best is trial 23 with value: 0.8845662389636695.\n",
      "[I 2025-07-24 14:17:57,807] Trial 38 finished with value: 0.8724980836427922 and parameters: {'n_estimators': 827, 'max_depth': 13, 'min_samples_split': 5, 'min_samples_leaf': 3}. Best is trial 23 with value: 0.8845662389636695.\n",
      "[I 2025-07-24 14:17:58,910] Trial 39 finished with value: 0.8590048033306937 and parameters: {'n_estimators': 398, 'max_depth': 19, 'min_samples_split': 7, 'min_samples_leaf': 5}. Best is trial 23 with value: 0.8845662389636695.\n",
      "[I 2025-07-24 14:18:00,258] Trial 40 finished with value: 0.8671923657926299 and parameters: {'n_estimators': 480, 'max_depth': 16, 'min_samples_split': 6, 'min_samples_leaf': 4}. Best is trial 23 with value: 0.8845662389636695.\n",
      "[I 2025-07-24 14:18:02,951] Trial 41 finished with value: 0.883980814913865 and parameters: {'n_estimators': 759, 'max_depth': 19, 'min_samples_split': 3, 'min_samples_leaf': 1}. Best is trial 23 with value: 0.8845662389636695.\n",
      "[I 2025-07-24 14:18:05,382] Trial 42 finished with value: 0.8817918830003524 and parameters: {'n_estimators': 661, 'max_depth': 10, 'min_samples_split': 3, 'min_samples_leaf': 1}. Best is trial 23 with value: 0.8845662389636695.\n",
      "[I 2025-07-24 14:18:06,938] Trial 43 finished with value: 0.6276496638228302 and parameters: {'n_estimators': 932, 'max_depth': 3, 'min_samples_split': 2, 'min_samples_leaf': 1}. Best is trial 23 with value: 0.8845662389636695.\n",
      "[I 2025-07-24 14:18:09,725] Trial 44 finished with value: 0.8822514885404378 and parameters: {'n_estimators': 857, 'max_depth': 20, 'min_samples_split': 4, 'min_samples_leaf': 1}. Best is trial 23 with value: 0.8845662389636695.\n",
      "[I 2025-07-24 14:18:11,417] Trial 45 finished with value: 0.8810317065324287 and parameters: {'n_estimators': 549, 'max_depth': 14, 'min_samples_split': 2, 'min_samples_leaf': 2}. Best is trial 23 with value: 0.8845662389636695.\n",
      "[I 2025-07-24 14:18:14,143] Trial 46 finished with value: 0.8738815654472685 and parameters: {'n_estimators': 981, 'max_depth': 18, 'min_samples_split': 9, 'min_samples_leaf': 1}. Best is trial 23 with value: 0.8845662389636695.\n",
      "[I 2025-07-24 14:18:16,478] Trial 47 finished with value: 0.8794203823492368 and parameters: {'n_estimators': 747, 'max_depth': 15, 'min_samples_split': 4, 'min_samples_leaf': 2}. Best is trial 23 with value: 0.8845662389636695.\n",
      "[I 2025-07-24 14:18:18,509] Trial 48 finished with value: 0.8850268331649969 and parameters: {'n_estimators': 607, 'max_depth': 19, 'min_samples_split': 3, 'min_samples_leaf': 1}. Best is trial 48 with value: 0.8850268331649969.\n",
      "[I 2025-07-24 14:18:20,434] Trial 49 finished with value: 0.880124807756292 and parameters: {'n_estimators': 645, 'max_depth': 19, 'min_samples_split': 2, 'min_samples_leaf': 2}. Best is trial 48 with value: 0.8850268331649969.\n"
     ]
    },
    {
     "name": "stdout",
     "output_type": "stream",
     "text": [
      "📌 고정 피처: ['cement', 'blast furnace slag', 'water ', 'superplasticizer', 'fine aggregate', 'age']\n",
      "📈 테스트 세트 기준 R²: 0.8850\n",
      "⚙️ 최적 하이퍼파라미터: {'n_estimators': 607, 'max_depth': 19, 'min_samples_split': 3, 'min_samples_leaf': 1}\n"
     ]
    }
   ],
   "source": [
    "# 데이터 로드\n",
    "df = pd.read_csv('dataset.csv')\n",
    "X = df[['cement', 'blast furnace slag', 'water ', 'superplasticizer', 'fine aggregate', 'age']]\n",
    "y = df['CCS']\n",
    "\n",
    "# 학습/테스트 분리\n",
    "X_train, X_test, y_train, y_test = train_test_split(X, y, test_size=0.2, random_state=42)\n",
    "\n",
    "def objective(trial):\n",
    "    # 하이퍼파라미터 설정\n",
    "    n_estimators = trial.suggest_int(\"n_estimators\", 100, 1000)\n",
    "    max_depth = trial.suggest_int(\"max_depth\", 3, 20)\n",
    "    min_samples_split = trial.suggest_int(\"min_samples_split\", 2, 10)\n",
    "    min_samples_leaf = trial.suggest_int(\"min_samples_leaf\", 1, 5)\n",
    "\n",
    "    model = RandomForestRegressor(\n",
    "        n_estimators=n_estimators,\n",
    "        max_depth=max_depth,\n",
    "        min_samples_split=min_samples_split,\n",
    "        min_samples_leaf=min_samples_leaf,\n",
    "        random_state=42\n",
    "    )\n",
    "\n",
    "    model.fit(X_train, y_train)\n",
    "    y_pred = model.predict(X_test)\n",
    "    return r2_score(y_test, y_pred)\n",
    "\n",
    "# Optuna 실행\n",
    "study = optuna.create_study(direction='maximize')\n",
    "study.optimize(objective, n_trials=50)\n",
    "\n",
    "# 결과 출력\n",
    "best_trial = study.best_trial\n",
    "print(f\"📌 고정 피처: {list(X.columns)}\")\n",
    "print(f\"📈 테스트 세트 기준 R²: {best_trial.value:.4f}\")\n",
    "print(f\"⚙️ 최적 하이퍼파라미터: {best_trial.params}\")"
   ]
  },
  {
   "cell_type": "code",
   "execution_count": null,
   "id": "fe649430",
   "metadata": {},
   "outputs": [],
   "source": []
  }
 ],
 "metadata": {
  "kernelspec": {
   "display_name": "Python 3",
   "language": "python",
   "name": "python3"
  },
  "language_info": {
   "codemirror_mode": {
    "name": "ipython",
    "version": 3
   },
   "file_extension": ".py",
   "mimetype": "text/x-python",
   "name": "python",
   "nbconvert_exporter": "python",
   "pygments_lexer": "ipython3",
   "version": "3.10.8"
  }
 },
 "nbformat": 4,
 "nbformat_minor": 5
}
