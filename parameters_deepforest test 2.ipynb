{
 "cells": [
  {
   "cell_type": "code",
   "execution_count": 1,
   "id": "7caf4262",
   "metadata": {},
   "outputs": [
    {
     "name": "stderr",
     "output_type": "stream",
     "text": [
      "c:\\Users\\SAL\\AppData\\Local\\Programs\\Python\\Python38\\lib\\site-packages\\tqdm\\auto.py:21: TqdmWarning: IProgress not found. Please update jupyter and ipywidgets. See https://ipywidgets.readthedocs.io/en/stable/user_install.html\n",
      "  from .autonotebook import tqdm as notebook_tqdm\n"
     ]
    }
   ],
   "source": [
    "import pandas as pd\n",
    "from sklearn.model_selection import train_test_split\n",
    "from sklearn.metrics import r2_score\n",
    "from deepforest import CascadeForestRegressor\n",
    "import optuna\n",
    "import numpy as np\n",
    "np.int = int\n",
    "np.bool = bool"
   ]
  },
  {
   "cell_type": "code",
   "execution_count": 2,
   "id": "757a53df",
   "metadata": {},
   "outputs": [
    {
     "name": "stderr",
     "output_type": "stream",
     "text": [
      "[I 2025-07-24 15:42:49,386] A new study created in memory with name: no-name-23496ea8-bc26-4a4d-97fb-0ccf8ceecb54\n"
     ]
    },
    {
     "name": "stdout",
     "output_type": "stream",
     "text": [
      "[2025-07-24 06:42:49.393] Start to fit the model:\n",
      "[2025-07-24 06:42:49.393] Fitting cascade layer = 0 \n",
      "[2025-07-24 06:42:50.573] layer = 0  | Val MSE = 25.87035 | Elapsed = 1.180 s\n",
      "[2025-07-24 06:42:50.579] Fitting cascade layer = 1 \n",
      "[2025-07-24 06:42:51.636] layer = 1  | Val MSE = 24.17575 | Elapsed = 1.058 s\n",
      "[2025-07-24 06:42:51.642] Fitting cascade layer = 2 \n",
      "[2025-07-24 06:42:52.775] layer = 2  | Val MSE = 27.28348 | Elapsed = 1.133 s\n",
      "[2025-07-24 06:42:52.776] Early stopping counter: 1 out of 2\n",
      "[2025-07-24 06:42:52.781] Fitting cascade layer = 3 \n",
      "[2025-07-24 06:42:54.049] layer = 3  | Val MSE = 28.68323 | Elapsed = 1.268 s\n",
      "[2025-07-24 06:42:54.049] Early stopping counter: 2 out of 2\n",
      "[2025-07-24 06:42:54.049] Handling early stopping\n",
      "[2025-07-24 06:42:54.051] The optimal number of layers: 2\n",
      "[2025-07-24 06:42:54.056] Start to evalute the model:\n",
      "[2025-07-24 06:42:54.057] Evaluating cascade layer = 0 \n",
      "[2025-07-24 06:42:54.253] Evaluating cascade layer = 1 \n"
     ]
    },
    {
     "name": "stderr",
     "output_type": "stream",
     "text": [
      "[I 2025-07-24 15:42:54,444] Trial 0 finished with value: 0.8922276801341763 and parameters: {'n_estimators': 3, 'max_layers': 4}. Best is trial 0 with value: 0.8922276801341763.\n"
     ]
    },
    {
     "name": "stdout",
     "output_type": "stream",
     "text": [
      "[2025-07-24 06:42:54.449] Start to fit the model:\n",
      "[2025-07-24 06:42:54.449] Fitting cascade layer = 0 \n",
      "[2025-07-24 06:42:55.452] layer = 0  | Val MSE = 25.87035 | Elapsed = 1.003 s\n",
      "[2025-07-24 06:42:55.458] Fitting cascade layer = 1 \n",
      "[2025-07-24 06:42:56.685] layer = 1  | Val MSE = 24.17575 | Elapsed = 1.227 s\n",
      "[2025-07-24 06:42:56.692] Fitting cascade layer = 2 \n",
      "[2025-07-24 06:42:57.928] layer = 2  | Val MSE = 27.21184 | Elapsed = 1.236 s\n",
      "[2025-07-24 06:42:57.928] Early stopping counter: 1 out of 2\n",
      "[2025-07-24 06:42:57.934] Fitting cascade layer = 3 \n",
      "[2025-07-24 06:42:59.199] layer = 3  | Val MSE = 28.77130 | Elapsed = 1.265 s\n",
      "[2025-07-24 06:42:59.199] Early stopping counter: 2 out of 2\n",
      "[2025-07-24 06:42:59.199] Handling early stopping\n",
      "[2025-07-24 06:42:59.200] The optimal number of layers: 2\n",
      "[2025-07-24 06:42:59.204] Start to evalute the model:\n",
      "[2025-07-24 06:42:59.205] Evaluating cascade layer = 0 \n"
     ]
    },
    {
     "name": "stderr",
     "output_type": "stream",
     "text": [
      "[I 2025-07-24 15:42:59,629] Trial 1 finished with value: 0.8922276801341763 and parameters: {'n_estimators': 3, 'max_layers': 6}. Best is trial 0 with value: 0.8922276801341763.\n"
     ]
    },
    {
     "name": "stdout",
     "output_type": "stream",
     "text": [
      "[2025-07-24 06:42:59.433] Evaluating cascade layer = 1 \n",
      "[2025-07-24 06:42:59.636] Start to fit the model:\n",
      "[2025-07-24 06:42:59.637] Fitting cascade layer = 0 \n",
      "[2025-07-24 06:43:03.613] layer = 0  | Val MSE = 25.80904 | Elapsed = 3.977 s\n",
      "[2025-07-24 06:43:03.628] Fitting cascade layer = 1 \n",
      "[2025-07-24 06:43:07.669] layer = 1  | Val MSE = 23.65152 | Elapsed = 4.040 s\n",
      "[2025-07-24 06:43:07.684] Fitting cascade layer = 2 \n",
      "[2025-07-24 06:43:11.505] layer = 2  | Val MSE = 25.77410 | Elapsed = 3.821 s\n",
      "[2025-07-24 06:43:11.506] Early stopping counter: 1 out of 2\n",
      "[2025-07-24 06:43:11.519] Fitting cascade layer = 3 \n",
      "[2025-07-24 06:43:15.478] layer = 3  | Val MSE = 26.04325 | Elapsed = 3.959 s\n",
      "[2025-07-24 06:43:15.479] Early stopping counter: 2 out of 2\n",
      "[2025-07-24 06:43:15.479] Handling early stopping\n",
      "[2025-07-24 06:43:15.485] The optimal number of layers: 2\n",
      "[2025-07-24 06:43:15.498] Start to evalute the model:\n",
      "[2025-07-24 06:43:15.499] Evaluating cascade layer = 0 \n",
      "[2025-07-24 06:43:16.067] Evaluating cascade layer = 1 \n"
     ]
    },
    {
     "name": "stderr",
     "output_type": "stream",
     "text": [
      "[I 2025-07-24 15:43:16,671] Trial 2 finished with value: 0.8977529535353738 and parameters: {'n_estimators': 9, 'max_layers': 5}. Best is trial 2 with value: 0.8977529535353738.\n"
     ]
    },
    {
     "name": "stdout",
     "output_type": "stream",
     "text": [
      "[2025-07-24 06:43:16.676] Start to fit the model:\n",
      "[2025-07-24 06:43:16.676] Fitting cascade layer = 0 \n",
      "[2025-07-24 06:43:17.826] layer = 0  | Val MSE = 25.87035 | Elapsed = 1.149 s\n",
      "[2025-07-24 06:43:17.831] Fitting cascade layer = 1 \n",
      "[2025-07-24 06:43:19.223] layer = 1  | Val MSE = 24.17575 | Elapsed = 1.391 s\n",
      "[2025-07-24 06:43:19.229] Fitting cascade layer = 2 \n",
      "[2025-07-24 06:43:20.442] layer = 2  | Val MSE = 27.28348 | Elapsed = 1.213 s\n",
      "[2025-07-24 06:43:20.442] Early stopping counter: 1 out of 2\n",
      "[2025-07-24 06:43:20.447] Fitting cascade layer = 3 \n",
      "[2025-07-24 06:43:21.764] layer = 3  | Val MSE = 28.68323 | Elapsed = 1.317 s\n",
      "[2025-07-24 06:43:21.764] Early stopping counter: 2 out of 2\n",
      "[2025-07-24 06:43:21.764] Handling early stopping\n",
      "[2025-07-24 06:43:21.766] The optimal number of layers: 2\n",
      "[2025-07-24 06:43:21.771] Start to evalute the model:\n",
      "[2025-07-24 06:43:21.772] Evaluating cascade layer = 0 \n",
      "[2025-07-24 06:43:21.965] Evaluating cascade layer = 1 \n"
     ]
    },
    {
     "name": "stderr",
     "output_type": "stream",
     "text": [
      "[I 2025-07-24 15:43:22,171] Trial 3 finished with value: 0.8922276801341763 and parameters: {'n_estimators': 3, 'max_layers': 12}. Best is trial 2 with value: 0.8977529535353738.\n"
     ]
    },
    {
     "name": "stdout",
     "output_type": "stream",
     "text": [
      "[2025-07-24 06:43:22.177] Start to fit the model:\n",
      "[2025-07-24 06:43:22.177] Fitting cascade layer = 0 \n",
      "[2025-07-24 06:43:23.853] layer = 0  | Val MSE = 25.96319 | Elapsed = 1.676 s\n",
      "[2025-07-24 06:43:23.860] Fitting cascade layer = 1 \n",
      "[2025-07-24 06:43:25.402] layer = 1  | Val MSE = 23.88747 | Elapsed = 1.541 s\n",
      "[2025-07-24 06:43:25.413] Fitting cascade layer = 2 \n",
      "[2025-07-24 06:43:27.268] layer = 2  | Val MSE = 25.80416 | Elapsed = 1.854 s\n",
      "[2025-07-24 06:43:27.269] Early stopping counter: 1 out of 2\n",
      "[2025-07-24 06:43:27.269] Reaching the maximum number of layers: 3\n",
      "[2025-07-24 06:43:27.269] Start to evalute the model:\n",
      "[2025-07-24 06:43:27.270] Evaluating cascade layer = 0 \n",
      "[2025-07-24 06:43:27.547] Evaluating cascade layer = 1 \n",
      "[2025-07-24 06:43:27.795] Evaluating cascade layer = 2 \n"
     ]
    },
    {
     "name": "stderr",
     "output_type": "stream",
     "text": [
      "[I 2025-07-24 15:43:28,054] Trial 4 finished with value: 0.8857110841830398 and parameters: {'n_estimators': 4, 'max_layers': 3}. Best is trial 2 with value: 0.8977529535353738.\n"
     ]
    },
    {
     "name": "stdout",
     "output_type": "stream",
     "text": [
      "[2025-07-24 06:43:28.059] Start to fit the model:\n",
      "[2025-07-24 06:43:28.059] Fitting cascade layer = 0 \n",
      "[2025-07-24 06:43:29.864] layer = 0  | Val MSE = 25.96319 | Elapsed = 1.805 s\n",
      "[2025-07-24 06:43:29.876] Fitting cascade layer = 1 \n",
      "[2025-07-24 06:43:31.554] layer = 1  | Val MSE = 23.88747 | Elapsed = 1.678 s\n",
      "[2025-07-24 06:43:31.566] Fitting cascade layer = 2 \n",
      "[2025-07-24 06:43:33.280] layer = 2  | Val MSE = 25.80416 | Elapsed = 1.714 s\n",
      "[2025-07-24 06:43:33.280] Early stopping counter: 1 out of 2\n",
      "[2025-07-24 06:43:33.287] Fitting cascade layer = 3 \n",
      "[2025-07-24 06:43:34.962] layer = 3  | Val MSE = 27.81159 | Elapsed = 1.674 s\n",
      "[2025-07-24 06:43:34.962] Early stopping counter: 2 out of 2\n",
      "[2025-07-24 06:43:34.962] Handling early stopping\n",
      "[2025-07-24 06:43:34.964] The optimal number of layers: 2\n",
      "[2025-07-24 06:43:34.969] Start to evalute the model:\n",
      "[2025-07-24 06:43:34.970] Evaluating cascade layer = 0 \n",
      "[2025-07-24 06:43:35.287] Evaluating cascade layer = 1 \n"
     ]
    },
    {
     "name": "stderr",
     "output_type": "stream",
     "text": [
      "[I 2025-07-24 15:43:35,626] Trial 5 finished with value: 0.89485231316327 and parameters: {'n_estimators': 4, 'max_layers': 10}. Best is trial 2 with value: 0.8977529535353738.\n"
     ]
    },
    {
     "name": "stdout",
     "output_type": "stream",
     "text": [
      "[2025-07-24 06:43:35.632] Start to fit the model:\n",
      "[2025-07-24 06:43:35.632] Fitting cascade layer = 0 \n",
      "[2025-07-24 06:43:38.457] layer = 0  | Val MSE = 26.02879 | Elapsed = 2.825 s\n",
      "[2025-07-24 06:43:38.474] Fitting cascade layer = 1 \n",
      "[2025-07-24 06:43:40.934] layer = 1  | Val MSE = 23.99727 | Elapsed = 2.460 s\n",
      "[2025-07-24 06:43:40.944] Fitting cascade layer = 2 \n",
      "[2025-07-24 06:43:43.573] layer = 2  | Val MSE = 25.49887 | Elapsed = 2.629 s\n",
      "[2025-07-24 06:43:43.573] Early stopping counter: 1 out of 2\n",
      "[2025-07-24 06:43:43.584] Fitting cascade layer = 3 \n",
      "[2025-07-24 06:43:46.256] layer = 3  | Val MSE = 27.80646 | Elapsed = 2.672 s\n",
      "[2025-07-24 06:43:46.256] Early stopping counter: 2 out of 2\n",
      "[2025-07-24 06:43:46.256] Handling early stopping\n",
      "[2025-07-24 06:43:46.259] The optimal number of layers: 2\n",
      "[2025-07-24 06:43:46.269] Start to evalute the model:\n",
      "[2025-07-24 06:43:46.270] Evaluating cascade layer = 0 \n",
      "[2025-07-24 06:43:46.783] Evaluating cascade layer = 1 \n"
     ]
    },
    {
     "name": "stderr",
     "output_type": "stream",
     "text": [
      "[I 2025-07-24 15:43:47,300] Trial 6 finished with value: 0.8951786327974447 and parameters: {'n_estimators': 6, 'max_layers': 12}. Best is trial 2 with value: 0.8977529535353738.\n"
     ]
    },
    {
     "name": "stdout",
     "output_type": "stream",
     "text": [
      "[2025-07-24 06:43:47.306] Start to fit the model:\n",
      "[2025-07-24 06:43:47.307] Fitting cascade layer = 0 \n",
      "[2025-07-24 06:43:49.907] layer = 0  | Val MSE = 26.02879 | Elapsed = 2.600 s\n",
      "[2025-07-24 06:43:49.922] Fitting cascade layer = 1 \n",
      "[2025-07-24 06:43:52.524] layer = 1  | Val MSE = 23.99727 | Elapsed = 2.602 s\n",
      "[2025-07-24 06:43:52.535] Fitting cascade layer = 2 \n",
      "[2025-07-24 06:43:55.226] layer = 2  | Val MSE = 25.49887 | Elapsed = 2.691 s\n",
      "[2025-07-24 06:43:55.226] Early stopping counter: 1 out of 2\n",
      "[2025-07-24 06:43:55.238] Fitting cascade layer = 3 \n",
      "[2025-07-24 06:43:57.780] layer = 3  | Val MSE = 27.80646 | Elapsed = 2.542 s\n",
      "[2025-07-24 06:43:57.781] Early stopping counter: 2 out of 2\n",
      "[2025-07-24 06:43:57.781] Handling early stopping\n",
      "[2025-07-24 06:43:57.783] The optimal number of layers: 2\n",
      "[2025-07-24 06:43:57.790] Start to evalute the model:\n",
      "[2025-07-24 06:43:57.790] Evaluating cascade layer = 0 \n",
      "[2025-07-24 06:43:58.182] Evaluating cascade layer = 1 \n"
     ]
    },
    {
     "name": "stderr",
     "output_type": "stream",
     "text": [
      "[I 2025-07-24 15:43:58,567] Trial 7 finished with value: 0.8951786327974447 and parameters: {'n_estimators': 6, 'max_layers': 11}. Best is trial 2 with value: 0.8977529535353738.\n"
     ]
    },
    {
     "name": "stdout",
     "output_type": "stream",
     "text": [
      "[2025-07-24 06:43:58.571] Start to fit the model:\n",
      "[2025-07-24 06:43:58.571] Fitting cascade layer = 0 \n",
      "[2025-07-24 06:44:01.599] layer = 0  | Val MSE = 25.90761 | Elapsed = 3.028 s\n",
      "[2025-07-24 06:44:01.611] Fitting cascade layer = 1 \n",
      "[2025-07-24 06:44:04.447] layer = 1  | Val MSE = 23.69521 | Elapsed = 2.837 s\n",
      "[2025-07-24 06:44:04.462] Fitting cascade layer = 2 \n",
      "[2025-07-24 06:44:07.567] layer = 2  | Val MSE = 26.35301 | Elapsed = 3.105 s\n",
      "[2025-07-24 06:44:07.568] Early stopping counter: 1 out of 2\n",
      "[2025-07-24 06:44:07.588] Fitting cascade layer = 3 \n",
      "[2025-07-24 06:44:10.605] layer = 3  | Val MSE = 27.19050 | Elapsed = 3.015 s\n",
      "[2025-07-24 06:44:10.605] Early stopping counter: 2 out of 2\n",
      "[2025-07-24 06:44:10.605] Handling early stopping\n",
      "[2025-07-24 06:44:10.609] The optimal number of layers: 2\n",
      "[2025-07-24 06:44:10.621] Start to evalute the model:\n",
      "[2025-07-24 06:44:10.621] Evaluating cascade layer = 0 \n",
      "[2025-07-24 06:44:11.053] Evaluating cascade layer = 1 \n"
     ]
    },
    {
     "name": "stderr",
     "output_type": "stream",
     "text": [
      "[I 2025-07-24 15:44:11,506] Trial 8 finished with value: 0.8965595339454538 and parameters: {'n_estimators': 7, 'max_layers': 8}. Best is trial 2 with value: 0.8977529535353738.\n"
     ]
    },
    {
     "name": "stdout",
     "output_type": "stream",
     "text": [
      "[2025-07-24 06:44:11.511] Start to fit the model:\n",
      "[2025-07-24 06:44:11.511] Fitting cascade layer = 0 \n",
      "[2025-07-24 06:44:12.521] layer = 0  | Val MSE = 25.87035 | Elapsed = 1.010 s\n",
      "[2025-07-24 06:44:12.527] Fitting cascade layer = 1 \n",
      "[2025-07-24 06:44:13.761] layer = 1  | Val MSE = 24.17575 | Elapsed = 1.234 s\n",
      "[2025-07-24 06:44:13.773] Fitting cascade layer = 2 \n",
      "[2025-07-24 06:44:15.101] layer = 2  | Val MSE = 27.28348 | Elapsed = 1.328 s\n",
      "[2025-07-24 06:44:15.101] Early stopping counter: 1 out of 2\n",
      "[2025-07-24 06:44:15.108] Fitting cascade layer = 3 \n",
      "[2025-07-24 06:44:16.434] layer = 3  | Val MSE = 28.68323 | Elapsed = 1.325 s\n",
      "[2025-07-24 06:44:16.435] Early stopping counter: 2 out of 2\n",
      "[2025-07-24 06:44:16.435] Handling early stopping\n",
      "[2025-07-24 06:44:16.436] The optimal number of layers: 2\n",
      "[2025-07-24 06:44:16.438] Start to evalute the model:\n",
      "[2025-07-24 06:44:16.438] Evaluating cascade layer = 0 \n"
     ]
    },
    {
     "name": "stderr",
     "output_type": "stream",
     "text": [
      "[I 2025-07-24 15:44:16,831] Trial 9 finished with value: 0.8922276801341763 and parameters: {'n_estimators': 3, 'max_layers': 10}. Best is trial 2 with value: 0.8977529535353738.\n"
     ]
    },
    {
     "name": "stdout",
     "output_type": "stream",
     "text": [
      "[2025-07-24 06:44:16.637] Evaluating cascade layer = 1 \n",
      "[2025-07-24 06:44:16.849] Start to fit the model:\n",
      "[2025-07-24 06:44:16.849] Fitting cascade layer = 0 \n",
      "[2025-07-24 06:44:21.218] layer = 0  | Val MSE = 25.79437 | Elapsed = 4.369 s\n",
      "[2025-07-24 06:44:21.234] Fitting cascade layer = 1 \n",
      "[2025-07-24 06:44:25.587] layer = 1  | Val MSE = 23.62931 | Elapsed = 4.352 s\n",
      "[2025-07-24 06:44:25.604] Fitting cascade layer = 2 \n",
      "[2025-07-24 06:44:29.903] layer = 2  | Val MSE = 26.05185 | Elapsed = 4.299 s\n",
      "[2025-07-24 06:44:29.903] Early stopping counter: 1 out of 2\n",
      "[2025-07-24 06:44:29.920] Fitting cascade layer = 3 \n",
      "[2025-07-24 06:44:34.260] layer = 3  | Val MSE = 28.10016 | Elapsed = 4.340 s\n",
      "[2025-07-24 06:44:34.260] Early stopping counter: 2 out of 2\n",
      "[2025-07-24 06:44:34.260] Handling early stopping\n",
      "[2025-07-24 06:44:34.265] The optimal number of layers: 2\n",
      "[2025-07-24 06:44:34.278] Start to evalute the model:\n",
      "[2025-07-24 06:44:34.279] Evaluating cascade layer = 0 \n",
      "[2025-07-24 06:44:34.927] Evaluating cascade layer = 1 \n"
     ]
    },
    {
     "name": "stderr",
     "output_type": "stream",
     "text": [
      "[I 2025-07-24 15:44:35,597] Trial 10 finished with value: 0.897308903858253 and parameters: {'n_estimators': 10, 'max_layers': 7}. Best is trial 2 with value: 0.8977529535353738.\n"
     ]
    },
    {
     "name": "stdout",
     "output_type": "stream",
     "text": [
      "[2025-07-24 06:44:35.612] Start to fit the model:\n",
      "[2025-07-24 06:44:35.612] Fitting cascade layer = 0 \n",
      "[2025-07-24 06:44:40.106] layer = 0  | Val MSE = 25.79437 | Elapsed = 4.494 s\n",
      "[2025-07-24 06:44:40.132] Fitting cascade layer = 1 \n",
      "[2025-07-24 06:44:44.384] layer = 1  | Val MSE = 23.62931 | Elapsed = 4.252 s\n",
      "[2025-07-24 06:44:44.401] Fitting cascade layer = 2 \n",
      "[2025-07-24 06:44:48.672] layer = 2  | Val MSE = 26.05185 | Elapsed = 4.271 s\n",
      "[2025-07-24 06:44:48.673] Early stopping counter: 1 out of 2\n",
      "[2025-07-24 06:44:48.690] Fitting cascade layer = 3 \n",
      "[2025-07-24 06:44:53.077] layer = 3  | Val MSE = 28.10016 | Elapsed = 4.387 s\n",
      "[2025-07-24 06:44:53.077] Early stopping counter: 2 out of 2\n",
      "[2025-07-24 06:44:53.077] Handling early stopping\n",
      "[2025-07-24 06:44:53.082] The optimal number of layers: 2\n",
      "[2025-07-24 06:44:53.095] Start to evalute the model:\n",
      "[2025-07-24 06:44:53.096] Evaluating cascade layer = 0 \n",
      "[2025-07-24 06:44:53.761] Evaluating cascade layer = 1 \n"
     ]
    },
    {
     "name": "stderr",
     "output_type": "stream",
     "text": [
      "[I 2025-07-24 15:44:54,419] Trial 11 finished with value: 0.897308903858253 and parameters: {'n_estimators': 10, 'max_layers': 15}. Best is trial 2 with value: 0.8977529535353738.\n"
     ]
    },
    {
     "name": "stdout",
     "output_type": "stream",
     "text": [
      "[2025-07-24 06:44:54.437] Start to fit the model:\n",
      "[2025-07-24 06:44:54.437] Fitting cascade layer = 0 \n",
      "[2025-07-24 06:44:58.771] layer = 0  | Val MSE = 25.79437 | Elapsed = 4.334 s\n",
      "[2025-07-24 06:44:58.794] Fitting cascade layer = 1 \n",
      "[2025-07-24 06:45:03.105] layer = 1  | Val MSE = 23.63424 | Elapsed = 4.310 s\n",
      "[2025-07-24 06:45:03.125] Fitting cascade layer = 2 \n",
      "[2025-07-24 06:45:07.290] layer = 2  | Val MSE = 26.27697 | Elapsed = 4.165 s\n",
      "[2025-07-24 06:45:07.291] Early stopping counter: 1 out of 2\n",
      "[2025-07-24 06:45:07.307] Fitting cascade layer = 3 \n",
      "[2025-07-24 06:45:11.424] layer = 3  | Val MSE = 28.14475 | Elapsed = 4.116 s\n",
      "[2025-07-24 06:45:11.425] Early stopping counter: 2 out of 2\n",
      "[2025-07-24 06:45:11.425] Handling early stopping\n",
      "[2025-07-24 06:45:11.429] The optimal number of layers: 2\n",
      "[2025-07-24 06:45:11.443] Start to evalute the model:\n",
      "[2025-07-24 06:45:11.443] Evaluating cascade layer = 0 \n",
      "[2025-07-24 06:45:12.093] Evaluating cascade layer = 1 \n"
     ]
    },
    {
     "name": "stderr",
     "output_type": "stream",
     "text": [
      "[I 2025-07-24 15:45:12,932] Trial 12 finished with value: 0.8973256261868713 and parameters: {'n_estimators': 10, 'max_layers': 6}. Best is trial 2 with value: 0.8977529535353738.\n"
     ]
    },
    {
     "name": "stdout",
     "output_type": "stream",
     "text": [
      "[2025-07-24 06:45:12.948] Start to fit the model:\n",
      "[2025-07-24 06:45:12.948] Fitting cascade layer = 0 \n",
      "[2025-07-24 06:45:16.481] layer = 0  | Val MSE = 25.85642 | Elapsed = 3.532 s\n",
      "[2025-07-24 06:45:16.505] Fitting cascade layer = 1 \n",
      "[2025-07-24 06:45:19.862] layer = 1  | Val MSE = 23.54165 | Elapsed = 3.356 s\n",
      "[2025-07-24 06:45:19.876] Fitting cascade layer = 2 \n",
      "[2025-07-24 06:45:23.447] layer = 2  | Val MSE = 26.38190 | Elapsed = 3.570 s\n",
      "[2025-07-24 06:45:23.447] Early stopping counter: 1 out of 2\n",
      "[2025-07-24 06:45:23.460] Fitting cascade layer = 3 \n",
      "[2025-07-24 06:45:26.809] layer = 3  | Val MSE = 27.80035 | Elapsed = 3.349 s\n",
      "[2025-07-24 06:45:26.809] Early stopping counter: 2 out of 2\n",
      "[2025-07-24 06:45:26.809] Handling early stopping\n",
      "[2025-07-24 06:45:26.812] The optimal number of layers: 2\n",
      "[2025-07-24 06:45:26.816] Start to evalute the model:\n",
      "[2025-07-24 06:45:26.817] Evaluating cascade layer = 0 \n",
      "[2025-07-24 06:45:27.369] Evaluating cascade layer = 1 \n"
     ]
    },
    {
     "name": "stderr",
     "output_type": "stream",
     "text": [
      "[I 2025-07-24 15:45:27,954] Trial 13 finished with value: 0.8958339859694349 and parameters: {'n_estimators': 8, 'max_layers': 5}. Best is trial 2 with value: 0.8977529535353738.\n"
     ]
    },
    {
     "name": "stdout",
     "output_type": "stream",
     "text": [
      "[2025-07-24 06:45:27.970] Start to fit the model:\n",
      "[2025-07-24 06:45:27.970] Fitting cascade layer = 0 \n",
      "[2025-07-24 06:45:31.800] layer = 0  | Val MSE = 25.80904 | Elapsed = 3.831 s\n",
      "[2025-07-24 06:45:31.815] Fitting cascade layer = 1 \n",
      "[2025-07-24 06:45:35.691] layer = 1  | Val MSE = 23.65152 | Elapsed = 3.876 s\n",
      "[2025-07-24 06:45:35.706] Fitting cascade layer = 2 \n",
      "[2025-07-24 06:45:39.144] layer = 2  | Val MSE = 25.77410 | Elapsed = 3.438 s\n",
      "[2025-07-24 06:45:39.144] Early stopping counter: 1 out of 2\n",
      "[2025-07-24 06:45:39.158] Fitting cascade layer = 3 \n",
      "[2025-07-24 06:45:42.156] layer = 3  | Val MSE = 26.04325 | Elapsed = 2.998 s\n",
      "[2025-07-24 06:45:42.157] Early stopping counter: 2 out of 2\n",
      "[2025-07-24 06:45:42.157] Handling early stopping\n",
      "[2025-07-24 06:45:42.160] The optimal number of layers: 2\n",
      "[2025-07-24 06:45:42.166] Start to evalute the model:\n",
      "[2025-07-24 06:45:42.166] Evaluating cascade layer = 0 \n",
      "[2025-07-24 06:45:42.843] Evaluating cascade layer = 1 \n"
     ]
    },
    {
     "name": "stderr",
     "output_type": "stream",
     "text": [
      "[I 2025-07-24 15:45:43,423] Trial 14 finished with value: 0.8977529535353738 and parameters: {'n_estimators': 9, 'max_layers': 6}. Best is trial 2 with value: 0.8977529535353738.\n"
     ]
    },
    {
     "name": "stdout",
     "output_type": "stream",
     "text": [
      "[2025-07-24 06:45:43.438] Start to fit the model:\n",
      "[2025-07-24 06:45:43.438] Fitting cascade layer = 0 \n",
      "[2025-07-24 06:45:46.410] layer = 0  | Val MSE = 25.85642 | Elapsed = 2.971 s\n",
      "[2025-07-24 06:45:46.423] Fitting cascade layer = 1 \n",
      "[2025-07-24 06:45:48.995] layer = 1  | Val MSE = 23.54165 | Elapsed = 2.572 s\n",
      "[2025-07-24 06:45:49.007] Fitting cascade layer = 2 \n",
      "[2025-07-24 06:45:51.802] layer = 2  | Val MSE = 26.38190 | Elapsed = 2.795 s\n",
      "[2025-07-24 06:45:51.802] Early stopping counter: 1 out of 2\n",
      "[2025-07-24 06:45:51.802] Reaching the maximum number of layers: 3\n",
      "[2025-07-24 06:45:51.802] Start to evalute the model:\n",
      "[2025-07-24 06:45:51.802] Evaluating cascade layer = 0 \n",
      "[2025-07-24 06:45:52.297] Evaluating cascade layer = 1 \n",
      "[2025-07-24 06:45:52.796] Evaluating cascade layer = 2 \n"
     ]
    },
    {
     "name": "stderr",
     "output_type": "stream",
     "text": [
      "[I 2025-07-24 15:45:53,308] Trial 15 finished with value: 0.8903208241707979 and parameters: {'n_estimators': 8, 'max_layers': 3}. Best is trial 2 with value: 0.8977529535353738.\n"
     ]
    },
    {
     "name": "stdout",
     "output_type": "stream",
     "text": [
      "[2025-07-24 06:45:53.334] Start to fit the model:\n",
      "[2025-07-24 06:45:53.334] Fitting cascade layer = 0 \n",
      "[2025-07-24 06:45:56.698] layer = 0  | Val MSE = 25.85642 | Elapsed = 3.364 s\n",
      "[2025-07-24 06:45:56.719] Fitting cascade layer = 1 \n",
      "[2025-07-24 06:45:59.853] layer = 1  | Val MSE = 23.54165 | Elapsed = 3.134 s\n",
      "[2025-07-24 06:45:59.868] Fitting cascade layer = 2 \n",
      "[2025-07-24 06:46:03.059] layer = 2  | Val MSE = 26.38190 | Elapsed = 3.191 s\n",
      "[2025-07-24 06:46:03.059] Early stopping counter: 1 out of 2\n",
      "[2025-07-24 06:46:03.082] Fitting cascade layer = 3 \n",
      "[2025-07-24 06:46:06.721] layer = 3  | Val MSE = 27.80035 | Elapsed = 3.639 s\n",
      "[2025-07-24 06:46:06.721] Early stopping counter: 2 out of 2\n",
      "[2025-07-24 06:46:06.722] Handling early stopping\n",
      "[2025-07-24 06:46:06.725] The optimal number of layers: 2\n",
      "[2025-07-24 06:46:06.730] Start to evalute the model:\n",
      "[2025-07-24 06:46:06.731] Evaluating cascade layer = 0 \n",
      "[2025-07-24 06:46:07.248] Evaluating cascade layer = 1 \n"
     ]
    },
    {
     "name": "stderr",
     "output_type": "stream",
     "text": [
      "[I 2025-07-24 15:46:07,759] Trial 16 finished with value: 0.8958339859694349 and parameters: {'n_estimators': 8, 'max_layers': 8}. Best is trial 2 with value: 0.8977529535353738.\n"
     ]
    },
    {
     "name": "stdout",
     "output_type": "stream",
     "text": [
      "[2025-07-24 06:46:07.795] Start to fit the model:\n",
      "[2025-07-24 06:46:07.796] Fitting cascade layer = 0 \n",
      "[2025-07-24 06:46:11.849] layer = 0  | Val MSE = 25.80904 | Elapsed = 4.053 s\n",
      "[2025-07-24 06:46:11.868] Fitting cascade layer = 1 \n",
      "[2025-07-24 06:46:15.641] layer = 1  | Val MSE = 23.65152 | Elapsed = 3.772 s\n",
      "[2025-07-24 06:46:15.659] Fitting cascade layer = 2 \n",
      "[2025-07-24 06:46:19.658] layer = 2  | Val MSE = 25.77410 | Elapsed = 3.999 s\n",
      "[2025-07-24 06:46:19.658] Early stopping counter: 1 out of 2\n",
      "[2025-07-24 06:46:19.687] Fitting cascade layer = 3 \n",
      "[2025-07-24 06:46:23.762] layer = 3  | Val MSE = 26.04325 | Elapsed = 4.074 s\n",
      "[2025-07-24 06:46:23.762] Early stopping counter: 2 out of 2\n",
      "[2025-07-24 06:46:23.762] Handling early stopping\n",
      "[2025-07-24 06:46:23.766] The optimal number of layers: 2\n",
      "[2025-07-24 06:46:23.778] Start to evalute the model:\n",
      "[2025-07-24 06:46:23.778] Evaluating cascade layer = 0 \n",
      "[2025-07-24 06:46:24.367] Evaluating cascade layer = 1 \n"
     ]
    },
    {
     "name": "stderr",
     "output_type": "stream",
     "text": [
      "[I 2025-07-24 15:46:24,969] Trial 17 finished with value: 0.8977529535353738 and parameters: {'n_estimators': 9, 'max_layers': 5}. Best is trial 2 with value: 0.8977529535353738.\n"
     ]
    },
    {
     "name": "stdout",
     "output_type": "stream",
     "text": [
      "[2025-07-24 06:46:24.984] Start to fit the model:\n",
      "[2025-07-24 06:46:24.984] Fitting cascade layer = 0 \n",
      "[2025-07-24 06:46:29.100] layer = 0  | Val MSE = 25.80904 | Elapsed = 4.116 s\n",
      "[2025-07-24 06:46:29.116] Fitting cascade layer = 1 \n",
      "[2025-07-24 06:46:33.058] layer = 1  | Val MSE = 23.65152 | Elapsed = 3.942 s\n",
      "[2025-07-24 06:46:33.073] Fitting cascade layer = 2 \n",
      "[2025-07-24 06:46:36.951] layer = 2  | Val MSE = 25.77410 | Elapsed = 3.878 s\n",
      "[2025-07-24 06:46:36.951] Early stopping counter: 1 out of 2\n",
      "[2025-07-24 06:46:36.966] Fitting cascade layer = 3 \n",
      "[2025-07-24 06:46:40.933] layer = 3  | Val MSE = 26.04325 | Elapsed = 3.966 s\n",
      "[2025-07-24 06:46:40.933] Early stopping counter: 2 out of 2\n",
      "[2025-07-24 06:46:40.933] Handling early stopping\n",
      "[2025-07-24 06:46:40.937] The optimal number of layers: 2\n",
      "[2025-07-24 06:46:40.946] Start to evalute the model:\n",
      "[2025-07-24 06:46:40.947] Evaluating cascade layer = 0 \n",
      "[2025-07-24 06:46:41.535] Evaluating cascade layer = 1 \n"
     ]
    },
    {
     "name": "stderr",
     "output_type": "stream",
     "text": [
      "[I 2025-07-24 15:46:42,152] Trial 18 finished with value: 0.8977529535353738 and parameters: {'n_estimators': 9, 'max_layers': 7}. Best is trial 2 with value: 0.8977529535353738.\n"
     ]
    },
    {
     "name": "stdout",
     "output_type": "stream",
     "text": [
      "[2025-07-24 06:46:42.168] Start to fit the model:\n",
      "[2025-07-24 06:46:42.168] Fitting cascade layer = 0 \n",
      "[2025-07-24 06:46:45.317] layer = 0  | Val MSE = 25.90761 | Elapsed = 3.148 s\n",
      "[2025-07-24 06:46:45.339] Fitting cascade layer = 1 \n",
      "[2025-07-24 06:46:48.485] layer = 1  | Val MSE = 23.69521 | Elapsed = 3.146 s\n",
      "[2025-07-24 06:46:48.497] Fitting cascade layer = 2 \n",
      "[2025-07-24 06:46:51.642] layer = 2  | Val MSE = 26.35301 | Elapsed = 3.145 s\n",
      "[2025-07-24 06:46:51.642] Early stopping counter: 1 out of 2\n",
      "[2025-07-24 06:46:51.660] Fitting cascade layer = 3 \n",
      "[2025-07-24 06:46:54.721] layer = 3  | Val MSE = 27.19050 | Elapsed = 3.061 s\n",
      "[2025-07-24 06:46:54.721] Early stopping counter: 2 out of 2\n",
      "[2025-07-24 06:46:54.721] Handling early stopping\n",
      "[2025-07-24 06:46:54.724] The optimal number of layers: 2\n",
      "[2025-07-24 06:46:54.728] Start to evalute the model:\n",
      "[2025-07-24 06:46:54.728] Evaluating cascade layer = 0 \n",
      "[2025-07-24 06:46:55.329] Evaluating cascade layer = 1 \n"
     ]
    },
    {
     "name": "stderr",
     "output_type": "stream",
     "text": [
      "[I 2025-07-24 15:46:55,978] Trial 19 finished with value: 0.896559533945454 and parameters: {'n_estimators': 7, 'max_layers': 5}. Best is trial 2 with value: 0.8977529535353738.\n"
     ]
    },
    {
     "name": "stdout",
     "output_type": "stream",
     "text": [
      "[2025-07-24 06:46:56.004] Start to fit the model:\n",
      "[2025-07-24 06:46:56.004] Fitting cascade layer = 0 \n",
      "[2025-07-24 06:46:59.935] layer = 0  | Val MSE = 25.80904 | Elapsed = 3.930 s\n",
      "[2025-07-24 06:46:59.966] Fitting cascade layer = 1 \n",
      "[2025-07-24 06:47:03.304] layer = 1  | Val MSE = 23.65152 | Elapsed = 3.339 s\n",
      "[2025-07-24 06:47:03.319] Fitting cascade layer = 2 \n",
      "[2025-07-24 06:47:06.614] layer = 2  | Val MSE = 25.77410 | Elapsed = 3.295 s\n",
      "[2025-07-24 06:47:06.615] Early stopping counter: 1 out of 2\n",
      "[2025-07-24 06:47:06.628] Fitting cascade layer = 3 \n",
      "[2025-07-24 06:47:10.272] layer = 3  | Val MSE = 26.04325 | Elapsed = 3.643 s\n",
      "[2025-07-24 06:47:10.273] Early stopping counter: 2 out of 2\n",
      "[2025-07-24 06:47:10.273] Handling early stopping\n",
      "[2025-07-24 06:47:10.277] The optimal number of layers: 2\n",
      "[2025-07-24 06:47:10.285] Start to evalute the model:\n",
      "[2025-07-24 06:47:10.285] Evaluating cascade layer = 0 \n",
      "[2025-07-24 06:47:10.848] Evaluating cascade layer = 1 \n"
     ]
    },
    {
     "name": "stderr",
     "output_type": "stream",
     "text": [
      "[I 2025-07-24 15:47:11,464] Trial 20 finished with value: 0.8977529535353738 and parameters: {'n_estimators': 9, 'max_layers': 15}. Best is trial 2 with value: 0.8977529535353738.\n"
     ]
    },
    {
     "name": "stdout",
     "output_type": "stream",
     "text": [
      "[2025-07-24 06:47:11.480] Start to fit the model:\n",
      "[2025-07-24 06:47:11.480] Fitting cascade layer = 0 \n",
      "[2025-07-24 06:47:15.258] layer = 0  | Val MSE = 25.80904 | Elapsed = 3.777 s\n",
      "[2025-07-24 06:47:15.292] Fitting cascade layer = 1 \n",
      "[2025-07-24 06:47:19.281] layer = 1  | Val MSE = 23.65152 | Elapsed = 3.990 s\n",
      "[2025-07-24 06:47:19.296] Fitting cascade layer = 2 \n",
      "[2025-07-24 06:47:23.275] layer = 2  | Val MSE = 25.77410 | Elapsed = 3.978 s\n",
      "[2025-07-24 06:47:23.276] Early stopping counter: 1 out of 2\n",
      "[2025-07-24 06:47:23.291] Fitting cascade layer = 3 \n",
      "[2025-07-24 06:47:27.256] layer = 3  | Val MSE = 26.04325 | Elapsed = 3.965 s\n",
      "[2025-07-24 06:47:27.256] Early stopping counter: 2 out of 2\n",
      "[2025-07-24 06:47:27.256] Handling early stopping\n",
      "[2025-07-24 06:47:27.260] The optimal number of layers: 2\n",
      "[2025-07-24 06:47:27.265] Start to evalute the model:\n",
      "[2025-07-24 06:47:27.266] Evaluating cascade layer = 0 \n",
      "[2025-07-24 06:47:27.892] Evaluating cascade layer = 1 \n"
     ]
    },
    {
     "name": "stderr",
     "output_type": "stream",
     "text": [
      "[I 2025-07-24 15:47:28,452] Trial 21 finished with value: 0.8977529535353738 and parameters: {'n_estimators': 9, 'max_layers': 5}. Best is trial 2 with value: 0.8977529535353738.\n"
     ]
    },
    {
     "name": "stdout",
     "output_type": "stream",
     "text": [
      "[2025-07-24 06:47:28.469] Start to fit the model:\n",
      "[2025-07-24 06:47:28.469] Fitting cascade layer = 0 \n",
      "[2025-07-24 06:47:32.466] layer = 0  | Val MSE = 25.80904 | Elapsed = 3.997 s\n",
      "[2025-07-24 06:47:32.487] Fitting cascade layer = 1 \n",
      "[2025-07-24 06:47:36.102] layer = 1  | Val MSE = 23.65152 | Elapsed = 3.615 s\n",
      "[2025-07-24 06:47:36.118] Fitting cascade layer = 2 \n",
      "[2025-07-24 06:47:39.895] layer = 2  | Val MSE = 25.77410 | Elapsed = 3.777 s\n",
      "[2025-07-24 06:47:39.895] Early stopping counter: 1 out of 2\n",
      "[2025-07-24 06:47:39.910] Fitting cascade layer = 3 \n",
      "[2025-07-24 06:47:43.200] layer = 3  | Val MSE = 26.04325 | Elapsed = 3.290 s\n",
      "[2025-07-24 06:47:43.201] Early stopping counter: 2 out of 2\n",
      "[2025-07-24 06:47:43.201] Handling early stopping\n",
      "[2025-07-24 06:47:43.204] The optimal number of layers: 2\n",
      "[2025-07-24 06:47:43.210] Start to evalute the model:\n",
      "[2025-07-24 06:47:43.211] Evaluating cascade layer = 0 \n",
      "[2025-07-24 06:47:43.790] Evaluating cascade layer = 1 \n"
     ]
    },
    {
     "name": "stderr",
     "output_type": "stream",
     "text": [
      "[I 2025-07-24 15:47:44,388] Trial 22 finished with value: 0.8977529535353738 and parameters: {'n_estimators': 9, 'max_layers': 4}. Best is trial 2 with value: 0.8977529535353738.\n"
     ]
    },
    {
     "name": "stdout",
     "output_type": "stream",
     "text": [
      "[2025-07-24 06:47:44.402] Start to fit the model:\n",
      "[2025-07-24 06:47:44.403] Fitting cascade layer = 0 \n",
      "[2025-07-24 06:47:47.292] layer = 0  | Val MSE = 25.90761 | Elapsed = 2.889 s\n",
      "[2025-07-24 06:47:47.307] Fitting cascade layer = 1 \n",
      "[2025-07-24 06:47:50.443] layer = 1  | Val MSE = 23.69521 | Elapsed = 3.135 s\n",
      "[2025-07-24 06:47:50.455] Fitting cascade layer = 2 \n",
      "[2025-07-24 06:47:53.407] layer = 2  | Val MSE = 26.35301 | Elapsed = 2.952 s\n",
      "[2025-07-24 06:47:53.407] Early stopping counter: 1 out of 2\n",
      "[2025-07-24 06:47:53.426] Fitting cascade layer = 3 \n",
      "[2025-07-24 06:47:56.378] layer = 3  | Val MSE = 27.19050 | Elapsed = 2.952 s\n",
      "[2025-07-24 06:47:56.378] Early stopping counter: 2 out of 2\n",
      "[2025-07-24 06:47:56.378] Handling early stopping\n",
      "[2025-07-24 06:47:56.381] The optimal number of layers: 2\n",
      "[2025-07-24 06:47:56.385] Start to evalute the model:\n",
      "[2025-07-24 06:47:56.386] Evaluating cascade layer = 0 \n",
      "[2025-07-24 06:47:56.843] Evaluating cascade layer = 1 \n"
     ]
    },
    {
     "name": "stderr",
     "output_type": "stream",
     "text": [
      "[I 2025-07-24 15:47:57,318] Trial 23 finished with value: 0.8965595339454538 and parameters: {'n_estimators': 7, 'max_layers': 6}. Best is trial 2 with value: 0.8977529535353738.\n"
     ]
    },
    {
     "name": "stdout",
     "output_type": "stream",
     "text": [
      "[2025-07-24 06:47:57.335] Start to fit the model:\n",
      "[2025-07-24 06:47:57.335] Fitting cascade layer = 0 \n",
      "[2025-07-24 06:48:00.730] layer = 0  | Val MSE = 25.85642 | Elapsed = 3.395 s\n",
      "[2025-07-24 06:48:00.744] Fitting cascade layer = 1 \n",
      "[2025-07-24 06:48:04.071] layer = 1  | Val MSE = 23.54165 | Elapsed = 3.327 s\n",
      "[2025-07-24 06:48:04.099] Fitting cascade layer = 2 \n",
      "[2025-07-24 06:48:07.337] layer = 2  | Val MSE = 26.38190 | Elapsed = 3.238 s\n",
      "[2025-07-24 06:48:07.337] Early stopping counter: 1 out of 2\n",
      "[2025-07-24 06:48:07.352] Fitting cascade layer = 3 \n",
      "[2025-07-24 06:48:10.704] layer = 3  | Val MSE = 27.80035 | Elapsed = 3.352 s\n",
      "[2025-07-24 06:48:10.704] Early stopping counter: 2 out of 2\n",
      "[2025-07-24 06:48:10.704] Handling early stopping\n",
      "[2025-07-24 06:48:10.708] The optimal number of layers: 2\n",
      "[2025-07-24 06:48:10.713] Start to evalute the model:\n",
      "[2025-07-24 06:48:10.713] Evaluating cascade layer = 0 \n",
      "[2025-07-24 06:48:11.327] Evaluating cascade layer = 1 \n"
     ]
    },
    {
     "name": "stderr",
     "output_type": "stream",
     "text": [
      "[I 2025-07-24 15:48:11,834] Trial 24 finished with value: 0.8958339859694349 and parameters: {'n_estimators': 8, 'max_layers': 4}. Best is trial 2 with value: 0.8977529535353738.\n"
     ]
    },
    {
     "name": "stdout",
     "output_type": "stream",
     "text": [
      "[2025-07-24 06:48:11.850] Start to fit the model:\n",
      "[2025-07-24 06:48:11.850] Fitting cascade layer = 0 \n",
      "[2025-07-24 06:48:16.149] layer = 0  | Val MSE = 25.79437 | Elapsed = 4.300 s\n",
      "[2025-07-24 06:48:16.173] Fitting cascade layer = 1 \n",
      "[2025-07-24 06:48:20.328] layer = 1  | Val MSE = 23.62931 | Elapsed = 4.154 s\n",
      "[2025-07-24 06:48:20.352] Fitting cascade layer = 2 \n",
      "[2025-07-24 06:48:24.459] layer = 2  | Val MSE = 26.05185 | Elapsed = 4.107 s\n",
      "[2025-07-24 06:48:24.460] Early stopping counter: 1 out of 2\n",
      "[2025-07-24 06:48:24.475] Fitting cascade layer = 3 \n",
      "[2025-07-24 06:48:28.627] layer = 3  | Val MSE = 28.09087 | Elapsed = 4.152 s\n",
      "[2025-07-24 06:48:28.627] Early stopping counter: 2 out of 2\n",
      "[2025-07-24 06:48:28.627] Handling early stopping\n",
      "[2025-07-24 06:48:28.631] The optimal number of layers: 2\n",
      "[2025-07-24 06:48:28.639] Start to evalute the model:\n",
      "[2025-07-24 06:48:28.639] Evaluating cascade layer = 0 \n",
      "[2025-07-24 06:48:29.498] Evaluating cascade layer = 1 \n"
     ]
    },
    {
     "name": "stderr",
     "output_type": "stream",
     "text": [
      "[I 2025-07-24 15:48:30,163] Trial 25 finished with value: 0.897308903858253 and parameters: {'n_estimators': 10, 'max_layers': 8}. Best is trial 2 with value: 0.8977529535353738.\n"
     ]
    },
    {
     "name": "stdout",
     "output_type": "stream",
     "text": [
      "[2025-07-24 06:48:30.181] Start to fit the model:\n",
      "[2025-07-24 06:48:30.182] Fitting cascade layer = 0 \n",
      "[2025-07-24 06:48:32.434] layer = 0  | Val MSE = 26.03167 | Elapsed = 2.252 s\n",
      "[2025-07-24 06:48:32.443] Fitting cascade layer = 1 \n",
      "[2025-07-24 06:48:34.548] layer = 1  | Val MSE = 23.89964 | Elapsed = 2.105 s\n",
      "[2025-07-24 06:48:34.563] Fitting cascade layer = 2 \n",
      "[2025-07-24 06:48:36.806] layer = 2  | Val MSE = 26.39537 | Elapsed = 2.243 s\n",
      "[2025-07-24 06:48:36.806] Early stopping counter: 1 out of 2\n",
      "[2025-07-24 06:48:36.815] Fitting cascade layer = 3 \n",
      "[2025-07-24 06:48:38.941] layer = 3  | Val MSE = 27.70560 | Elapsed = 2.126 s\n",
      "[2025-07-24 06:48:38.941] Early stopping counter: 2 out of 2\n",
      "[2025-07-24 06:48:38.941] Handling early stopping\n",
      "[2025-07-24 06:48:38.942] The optimal number of layers: 2\n",
      "[2025-07-24 06:48:38.945] Start to evalute the model:\n",
      "[2025-07-24 06:48:38.945] Evaluating cascade layer = 0 \n",
      "[2025-07-24 06:48:39.251] Evaluating cascade layer = 1 \n"
     ]
    },
    {
     "name": "stderr",
     "output_type": "stream",
     "text": [
      "[I 2025-07-24 15:48:39,566] Trial 26 finished with value: 0.8960595856289018 and parameters: {'n_estimators': 5, 'max_layers': 7}. Best is trial 2 with value: 0.8977529535353738.\n"
     ]
    },
    {
     "name": "stdout",
     "output_type": "stream",
     "text": [
      "[2025-07-24 06:48:39.580] Start to fit the model:\n",
      "[2025-07-24 06:48:39.581] Fitting cascade layer = 0 \n",
      "[2025-07-24 06:48:43.495] layer = 0  | Val MSE = 25.80904 | Elapsed = 3.914 s\n",
      "[2025-07-24 06:48:43.516] Fitting cascade layer = 1 \n",
      "[2025-07-24 06:48:47.020] layer = 1  | Val MSE = 23.65152 | Elapsed = 3.504 s\n",
      "[2025-07-24 06:48:47.035] Fitting cascade layer = 2 \n",
      "[2025-07-24 06:48:50.686] layer = 2  | Val MSE = 25.77410 | Elapsed = 3.652 s\n",
      "[2025-07-24 06:48:50.686] Early stopping counter: 1 out of 2\n",
      "[2025-07-24 06:48:50.686] Reaching the maximum number of layers: 3\n",
      "[2025-07-24 06:48:50.687] Start to evalute the model:\n",
      "[2025-07-24 06:48:50.687] Evaluating cascade layer = 0 \n",
      "[2025-07-24 06:48:51.276] Evaluating cascade layer = 1 \n",
      "[2025-07-24 06:48:51.835] Evaluating cascade layer = 2 \n"
     ]
    },
    {
     "name": "stderr",
     "output_type": "stream",
     "text": [
      "[I 2025-07-24 15:48:52,402] Trial 27 finished with value: 0.8941460250963518 and parameters: {'n_estimators': 9, 'max_layers': 3}. Best is trial 2 with value: 0.8977529535353738.\n"
     ]
    },
    {
     "name": "stdout",
     "output_type": "stream",
     "text": [
      "[2025-07-24 06:48:52.416] Start to fit the model:\n",
      "[2025-07-24 06:48:52.416] Fitting cascade layer = 0 \n",
      "[2025-07-24 06:48:55.500] layer = 0  | Val MSE = 25.85642 | Elapsed = 3.084 s\n",
      "[2025-07-24 06:48:55.521] Fitting cascade layer = 1 \n",
      "[2025-07-24 06:48:58.856] layer = 1  | Val MSE = 23.54165 | Elapsed = 3.334 s\n",
      "[2025-07-24 06:48:58.870] Fitting cascade layer = 2 \n",
      "[2025-07-24 06:49:02.454] layer = 2  | Val MSE = 26.38190 | Elapsed = 3.584 s\n",
      "[2025-07-24 06:49:02.454] Early stopping counter: 1 out of 2\n",
      "[2025-07-24 06:49:02.468] Fitting cascade layer = 3 \n",
      "[2025-07-24 06:49:05.792] layer = 3  | Val MSE = 27.80035 | Elapsed = 3.324 s\n",
      "[2025-07-24 06:49:05.792] Early stopping counter: 2 out of 2\n",
      "[2025-07-24 06:49:05.792] Handling early stopping\n",
      "[2025-07-24 06:49:05.795] The optimal number of layers: 2\n",
      "[2025-07-24 06:49:05.799] Start to evalute the model:\n",
      "[2025-07-24 06:49:05.799] Evaluating cascade layer = 0 \n",
      "[2025-07-24 06:49:06.286] Evaluating cascade layer = 1 \n"
     ]
    },
    {
     "name": "stderr",
     "output_type": "stream",
     "text": [
      "[I 2025-07-24 15:49:06,871] Trial 28 finished with value: 0.8958339859694349 and parameters: {'n_estimators': 8, 'max_layers': 5}. Best is trial 2 with value: 0.8977529535353738.\n"
     ]
    },
    {
     "name": "stdout",
     "output_type": "stream",
     "text": [
      "[2025-07-24 06:49:06.887] Start to fit the model:\n",
      "[2025-07-24 06:49:06.888] Fitting cascade layer = 0 \n",
      "[2025-07-24 06:49:10.221] layer = 0  | Val MSE = 25.90761 | Elapsed = 3.333 s\n",
      "[2025-07-24 06:49:10.240] Fitting cascade layer = 1 \n",
      "[2025-07-24 06:49:13.301] layer = 1  | Val MSE = 23.69521 | Elapsed = 3.062 s\n",
      "[2025-07-24 06:49:13.323] Fitting cascade layer = 2 \n",
      "[2025-07-24 06:49:16.575] layer = 2  | Val MSE = 26.35301 | Elapsed = 3.253 s\n",
      "[2025-07-24 06:49:16.575] Early stopping counter: 1 out of 2\n",
      "[2025-07-24 06:49:16.594] Fitting cascade layer = 3 \n",
      "[2025-07-24 06:49:19.712] layer = 3  | Val MSE = 27.19050 | Elapsed = 3.118 s\n",
      "[2025-07-24 06:49:19.712] Early stopping counter: 2 out of 2\n",
      "[2025-07-24 06:49:19.713] Handling early stopping\n",
      "[2025-07-24 06:49:19.715] The optimal number of layers: 2\n",
      "[2025-07-24 06:49:19.719] Start to evalute the model:\n",
      "[2025-07-24 06:49:19.719] Evaluating cascade layer = 0 \n",
      "[2025-07-24 06:49:20.163] Evaluating cascade layer = 1 \n"
     ]
    },
    {
     "name": "stderr",
     "output_type": "stream",
     "text": [
      "[I 2025-07-24 15:49:20,722] Trial 29 finished with value: 0.896559533945454 and parameters: {'n_estimators': 7, 'max_layers': 4}. Best is trial 2 with value: 0.8977529535353738.\n"
     ]
    },
    {
     "name": "stdout",
     "output_type": "stream",
     "text": [
      "✅ Best R² on test set: 0.8977529535353738\n",
      "📌 Best Parameters:\n",
      "  n_estimators: 9\n",
      "  max_layers: 5\n"
     ]
    }
   ],
   "source": [
    "# 데이터 로드 및 고정 피처 선택\n",
    "df = pd.read_csv('dataset.csv')\n",
    "selected_features = ['cement', 'blast furnace slag', 'water ', 'coarse aggregate', 'age']\n",
    "X = df[selected_features]\n",
    "y = df['CCS']\n",
    "\n",
    "# 학습/테스트 데이터 분리\n",
    "X_train, X_test, y_train, y_test = train_test_split(X, y, test_size=0.2, random_state=42)\n",
    "\n",
    "# Optuna 목적 함수 정의\n",
    "def objective(trial):\n",
    "    params = {\n",
    "        'n_estimators': trial.suggest_int('n_estimators', 2, 10),  # 층 당 tree 수\n",
    "        'max_layers': trial.suggest_int('max_layers', 3, 15),\n",
    "        'n_jobs': -1,\n",
    "        'random_state': 42\n",
    "    }\n",
    "    model = CascadeForestRegressor(**params)\n",
    "    model.fit(X_train.values, y_train.values)\n",
    "    y_pred = model.predict(X_test.values)\n",
    "    return r2_score(y_test, y_pred)\n",
    "\n",
    "# Optuna 튜닝\n",
    "study = optuna.create_study(direction='maximize')\n",
    "study.optimize(objective, n_trials=30)\n",
    "\n",
    "# 결과 출력\n",
    "print(\"✅ Best R² on test set:\", study.best_value)\n",
    "print(\"📌 Best Parameters:\")\n",
    "for key, value in study.best_params.items():\n",
    "    print(f\"  {key}: {value}\")"
   ]
  },
  {
   "cell_type": "code",
   "execution_count": null,
   "id": "fe649430",
   "metadata": {},
   "outputs": [],
   "source": []
  }
 ],
 "metadata": {
  "kernelspec": {
   "display_name": "Python 3",
   "language": "python",
   "name": "python3"
  },
  "language_info": {
   "codemirror_mode": {
    "name": "ipython",
    "version": 3
   },
   "file_extension": ".py",
   "mimetype": "text/x-python",
   "name": "python",
   "nbconvert_exporter": "python",
   "pygments_lexer": "ipython3",
   "version": "3.8.6"
  }
 },
 "nbformat": 4,
 "nbformat_minor": 5
}
