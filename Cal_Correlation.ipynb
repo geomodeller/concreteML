{
 "cells": [
  {
   "cell_type": "markdown",
   "id": "fe480a77",
   "metadata": {},
   "source": [
    "# 모든 인자들 간 상관계수 계산"
   ]
  },
  {
   "cell_type": "code",
   "execution_count": null,
   "id": "c57c414b",
   "metadata": {},
   "outputs": [],
   "source": [
    "import pandas as pd\n",
    "import seaborn as sns\n",
    "import matplotlib.pyplot as plt"
   ]
  },
  {
   "cell_type": "code",
   "execution_count": null,
   "id": "045b8ea7",
   "metadata": {},
   "outputs": [],
   "source": [
    "df = pd.read_csv(\"dataset.csv\")"
   ]
  },
  {
   "cell_type": "code",
   "execution_count": null,
   "id": "dfc6c852",
   "metadata": {},
   "outputs": [],
   "source": [
    "# 상관계수 행렬 계산\n",
    "corr_matrix = df.corr(numeric_only=True)"
   ]
  },
  {
   "cell_type": "code",
   "execution_count": null,
   "id": "83a0772f",
   "metadata": {},
   "outputs": [],
   "source": [
    "# 히트맵을 통한 결과 시각화\n",
    "plt.figure(figsize=(10, 8))\n",
    "sns.heatmap(corr_matrix, annot=True, cmap='coolwarm', fmt=\".2f\", linewidths=0.5)\n",
    "plt.title(\"Pearson Correlation Coefficient Heatmap\")\n",
    "plt.show()"
   ]
  }
 ],
 "metadata": {
  "language_info": {
   "name": "python"
  }
 },
 "nbformat": 4,
 "nbformat_minor": 5
}
